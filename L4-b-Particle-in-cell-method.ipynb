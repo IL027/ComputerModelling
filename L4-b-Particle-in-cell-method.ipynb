{
 "cells": [
  {
   "cell_type": "markdown",
   "metadata": {},
   "source": [
    "# Lecture 4 b - Computer simulations of Plasma Physics\n",
    "\n",
    "**Christopher Brady and Heather Ratcliffe**\n",
    "\n",
    "** Research Software Engineering / Physics **\n",
    "\n",
    "## Overview"
   ]
  },
  {
   "cell_type": "markdown",
   "metadata": {},
   "source": [
    "Computational plasma physics often involves large scale direct simulations. Direct simulation involves simulating low level equations that map directly to the underlying physics, rather than deriving simplified equations for a specific problem (such a looking at waves as we did in Part 1. To derive the waves you have to simplify the low level equations). This is very powerful and allows the simulation of arbitrary problems but is generally more computationally expensive. In this section we're going to very briefly introduce a type of code called the \"Particle in Cell\" or \"PIC\" simulation."
   ]
  },
  {
   "cell_type": "markdown",
   "metadata": {},
   "source": [
    "# New maths - cross product, divergence and curl"
   ]
  },
  {
   "cell_type": "markdown",
   "metadata": {},
   "source": [
    "## Cross product\n",
    "You should be familiar with the scalar or \"dot\" product. In this, you take two vectors you can combine them using a dot product \n",
    "\n",
    "$\\left(\\begin{array}{c}\n",
    "x_1\\\\\n",
    "y_1\\\\\n",
    "z_1\\\\\n",
    "\\end{array}\n",
    "\\right) . \\left(\\begin{array}{c}\n",
    "x_2\\\\\n",
    "y_2\\\\\n",
    "z_2\\\\\n",
    "\\end{array}\n",
    "\\right) = x_1x_2 + y_1y_2 + z_1z_2\n",
    "$\n",
    "\n",
    "There are in general many more ways of combining vectors, and to talk about EM you have to introduce another one - the cross or wedge product. This product combines two vectors into a further vector. The product vector is perpendicular to both of the source vectors. There are various ways of writing it, but in Cartesian co-ordinates you can write it as\n",
    "\n",
    "$\\left(\\begin{array}{c}\n",
    "x_1\\\\\n",
    "y_1\\\\\n",
    "z_1\\\\\n",
    "\\end{array}\n",
    "\\right) \\times \\left(\\begin{array}{c}\n",
    "x_2\\\\\n",
    "y_2\\\\\n",
    "z_2\\\\\n",
    "\\end{array}\n",
    "\\right) = \\left(\\begin{array}{c}\n",
    "y_1z_2 - z_1y_2\\\\\n",
    "z_1x_2 - x_1z_2\\\\\n",
    "x_1y_2 - y_1x_2\\\\\n",
    "\\end{array}\n",
    "\\right)\n",
    "$\n",
    "\n",
    "Note that the $x$ component of the product only include the $y$ and $z$ components of the sources, and similarly for the $y$ and $z$ components of the product.\n",
    "\n",
    "You will recall that for the dot product two vectors pointing in the same direction gives a maximum value and if they are perpendicular then the result is zero. The cross product is the other way around. The cross product of two parallel vectors is the zero vector and the cross product of two perpendicular vectors has the largest possible magnitude.\n",
    "\n",
    "There's more about the interpretation of the cross product at https://en.wikipedia.org/wiki/Cross_product#Geometric_meaning but you don't need it right now.\n",
    "\n",
    "## Nabla\n",
    "\n",
    "Now, a quick introduction to vector calculus! It isn't as bad as it sounds. Vector calculus is an extension to normal calculus that allows you to operate on vector fields. Here, we're only going to use two bits of differential vector calculus. It does use partial differentials, but for what we're looking at here there's a general rule that applies : a partial differential is calculated like a normal differential, but if you are calculating $\\partial f(x,y,z)/\\partial x$ you act as if $y$ and $z$ are constant. Similarly $\\partial f(x,y,z)/\\partial y$ requires that you hold $x$ and $z$ constant. So, as an example $\\partial (xyz)/\\partial y = xz$ and $\\partial (xz)/\\partial y = 0$ (equals zero here because $xz$ doesn't depend on y at all, so you're just differentiating a constant).\n",
    "\n",
    "This is important, because the vector calculus *operator* that we're going to work with is defined in terms of partial differentials. The operator is called *nabla*, or *del* and is written as $\\nabla$ (for those of you that use Latex, that calls is \\nabla). The definition of $\\nabla$ depends on the coordinate system that you want to use, but in Cartesian co-ordinates it's very simply defined as\n",
    "\n",
    "$\\nabla = \\left(\\begin{array}{c}\n",
    "\\frac{\\partial}{\\partial x}\\\\\n",
    "\\frac{\\partial}{\\partial y}\\\\\n",
    "\\frac{\\partial}{\\partial z}\\\\\n",
    "\\end{array}\n",
    "\\right)$\n",
    "\n",
    "This, as you can see, doesn't include any actual function that you are taking the derivatives of so it isn't complete. It is an *operator* that acts on other functions. There are several common uses, including\n",
    "\n",
    "### Grad operator\n",
    "\n",
    "$\\nabla f(x,y,z) = \\left(\\begin{array}{c}\n",
    "\\frac{\\partial f(x,y,z)}{\\partial x}\\\\\n",
    "\\frac{\\partial f(x,y,z)}{\\partial y}\\\\\n",
    "\\frac{\\partial f(x,y,z)}{\\partial z}\\\\\n",
    "\\end{array}\n",
    "\\right)$\n",
    "\n",
    "called the *grad* operation. This is a vector extension of normal gradient operators and in some way represents the local gradient magnitude and direction. I'm not actually going to use grad here, but it's more familiar than the others.\n",
    "\n",
    "### Divergence operator\n",
    "\n",
    "$\\nabla . \\mathbf{f(x,y,z)} = \\frac{\\partial f_x(x,y,z)}{\\partial x} + \\frac{\\partial f_y(x,y,z)}{\\partial y} + \\frac{\\partial f_z(x,y,z)}{\\partial z}$\n",
    "\n",
    "where $\\mathbf{f(x,y,z)}$ is now a vector field and nabla acts on the components of the vector field. $.$ is the dot product used in the normal way, but where one of the \"vectors\" is the $\\nabla$ vector operator.\n",
    "\n",
    "This is called the *divergence* and is also sometimes written as $\\mathrm{div}(\\mathbf{f(x,y,z)})$. As the name suggests the divergence represents the tendency of a vector field to diverge away from a point (or converge towards it). It tends to be large at sources of sinks of a quantity (so plotting the divergence of the flow of water in a draining bath would show a maximum at the plughole)\n",
    "\n",
    "### Curl operator\n",
    "\n",
    "You can also do exactly the same thing with the cross product that I just introduced.\n",
    "\n",
    "$\\nabla \\times \\mathbf{f(x,y,z)} = \\left(\\begin{array}{c}\n",
    "\\frac{\\partial f_z(x,y,z)}{\\partial y} - \\frac{\\partial f_y(x,y,z)}{\\partial z}\\\\\n",
    "\\frac{\\partial f_x(x,y,z)}{\\partial z} - \\frac{\\partial f_z(x,y,z)}{\\partial x}\\\\\n",
    "\\frac{\\partial f_y(x,y,z)}{\\partial x} - \\frac{\\partial f_x(x,y,z)}{\\partial y}\\\\\n",
    "\\end{array}\n",
    "\\right)$\n",
    "\n",
    "where once again $\\mathbf{f(x,y,z)}$ is now a vector field and nabla acts on the components of the vector field. $\\times$ is the cross product used in the normal way, but where one of the \"vectors\" is the $\\nabla$ vector operator.\n",
    "\n",
    "This is called the *curl* and is also sometimes written as $\\mathrm{curl}(\\mathbf{f(x,y,z)})$. This one measures the amount of \"swirliness\" in a vector field. The curl produces a vector result just like the cross product does, so it has both a magnitude and direction. Going back to an emptying bathtub, the curl would also be a maximum at the plughole because the water swirls round as it empties. The direction will be either straight down the plughole or straight up out of it, depending on the direction that the water swirls as the bathtub empties (you can't predict this sadly because the direction of rotation is much more influenced by the design of the bath than the Coriolis force, no matter what the internet tries to tell you)"
   ]
  },
  {
   "cell_type": "markdown",
   "metadata": {},
   "source": [
    "# Particle in Cell simulations"
   ]
  },
  {
   "cell_type": "markdown",
   "metadata": {},
   "source": [
    "As we described earlier plasmas can be described in terms of charged particles moving in EM fields. So to simulate them fully you need\n",
    "\n",
    "1) Equations to describe the evolution of EM fields\n",
    "\n",
    "2) Equations to describe the force on a charged particle due to an EM field\n",
    "\n",
    "3) Equations to describe the electric current that moving charged particles create\n",
    "\n",
    "There are actually several ways of doing this, but one of the most widely used is the \"particle in cell\" approach. This works by having charged particles (as in the name) that are free to move anywhere in the region of space being simulated. Space is also split up into \"cells\" with the EM fields being solved on a fixed lattice of cells."
   ]
  },
  {
   "cell_type": "markdown",
   "metadata": {},
   "source": [
    "# 1) Maxwell's equations"
   ]
  },
  {
   "cell_type": "markdown",
   "metadata": {},
   "source": [
    "The equations that describe EM fields are called the *Maxwell Equations*. There are different versions of the Maxwell equations, but one of the simpler ones is\n",
    "\n",
    "$\\nabla . \\mathbf{E} = \\frac{\\rho}{\\epsilon_0}$\n",
    "\n",
    "Gauss's Law - Describes how an arrangement of charged particles, described by the charge density $\\rho$ will directly generate an electric field. Essentially this says that positive charge is a source of electric field and negative charge is a sink of electric field.\n",
    "\n",
    "$\\nabla . \\mathbf{B} = 0$ \n",
    "\n",
    "Gauss's Law for magnetism - Says that magnetic field cannot be created directly, only converted from electric field. This is related to the fact that if you cut a magnet in two, you wind up with two magnets each with it's own north pole and south pole rather than a single north pole and a single south pole. You can see this from the \"definition\" that I gave above of the divergence operator. If divergence = 0 everywhere then there can be no sources or sinks.\n",
    "\n",
    "$\\nabla \\times \\mathbf{E} = -\\frac{\\partial \\mathbf{B}}{\\partial t}$\n",
    "\n",
    "Faraday's law of induction - Says how time changing magnetic field can generate an electric field (c.f. generators. You spin a magnet to get a time varying magnetic field and you get an electric field in your wire in response)\n",
    "\n",
    "$\\nabla \\times \\mathbf{B} = \\frac{1}{c^2}\\frac{\\partial \\mathbf{E}}{\\partial t} + \\mu_0 \\mathbf{J}$\n",
    "\n",
    "Ampere's circuital law - Says how a time varying electric field can generate a magnetic field, and how an electric current ($\\mathbf{J}$) can also generate an electric field. Numerically $c$, the speed of light, is often set to 1. As mentioned in the first session this also means $\\epsilon_0=1$ and $\\mu_0 = 1$ since $c=1/\\sqrt{(\\epsilon_0\\mu_0)}$ (technically there's a whole family of solutions where $\\epsilon_0\\mu_0 = 1$ but everyone always uses $\\epsilon_0=1$ and $\\mu_0 = 1$)"
   ]
  },
  {
   "cell_type": "markdown",
   "metadata": {},
   "source": [
    "# 2) Equations of particle motion"
   ]
  },
  {
   "cell_type": "markdown",
   "metadata": {},
   "source": [
    "The equation that defines the motion of a particle in general is just Newton's equations of motion\n",
    "\n",
    "$\\mathbf{F} = m\\mathbf{a}\\\\\n",
    "\\mathbf{v} = \\int_0^t \\mathbf{a} dt\\\\\n",
    "\\mathbf{x} = \\int_0^t \\mathbf{v} dt$\n",
    "\n",
    "(if the particle is going fast enough then you have to include relativity, but we'll gloss over that here). So all that you need is an expression for the force on a charged particle in an EM field. This force is called the *Lorentz force* and is defined as\n",
    "\n",
    "$F_{Lorentz} = q(\\mathbf{E} + \\mathbf{v} \\times \\mathbf{B})$\n",
    "\n",
    "where $q$ is the charge on a particle, $\\mathbf{E}$ and $\\mathbf{B}$ are the electric and magnetic fields respectively and $\\mathbf{v}$ is the particle's velocity. $\\times$ is that cross product again. This means that an electric field accelerates a particle in the direction that the field points in, whereas a magnetic field bends a particle in a direction perpendicular to both the magnetic field itself and the direction that the particle is already moving in (a magnetic field does not affect a stationary particle, and in fact can only change the direction that a particle is moving in. It can't speed it up or slow it down). This means that a particle tends to move in a spiral in a magnetic field."
   ]
  },
  {
   "cell_type": "markdown",
   "metadata": {},
   "source": [
    "# 3) Current"
   ]
  },
  {
   "cell_type": "markdown",
   "metadata": {},
   "source": [
    "The current due to a set of moving charges is just $\\mathbf{J} = n q \\mathbf{v}$. Where $\\mathbf{J}$ is the current density, $n$ is the number density of the moving charges and $\\mathbf{v}$ is the velocity of the charges. We're not actually going to get to doing this here, but to calculate the current, you can just sum up the $q \\mathbf{v}$ for each particle."
   ]
  },
  {
   "cell_type": "markdown",
   "metadata": {},
   "source": [
    "# Simplications and 1.5D models"
   ]
  },
  {
   "cell_type": "markdown",
   "metadata": {},
   "source": [
    "Full 3D EM (and plasma EM) simulations do happen, but they are the preserve of large high performance computer systems. For something that you can run here, we're going to cut down to what's called a *1.5D* system. That sounds odd, but all that it means is that it's a 1D system in some senses and not in others. Specifically\n",
    "\n",
    "1) All vector fields still have all 3 components (so there's still $E_x$, $E_y$ and $E_z$)\n",
    "\n",
    "2) All derivatives not in the x direction are 0.\n",
    "\n",
    "For simplicity here, we're going to be even more specific. As already mentioned the fields in an EM wave are at 90 degrees to each other (in a vacuum at least). So fluctuations in $E_y$ only lead to fluctuations in $B_z$ and fluctuations in $E_z$ only lead to fluctuations in $B_y$ (you can confirm this from Maxwell's equations and my definition of curl above if you want). If you only have one wave you can always freely rotate your axes until your E field is pointing exactly along $E_y$. At which point, you only have to consider $E_y$ and $B_z$ which reduces the number of equations substantially.\n",
    "\n",
    "There is one further simplification that we can make. You'll notice that only two of Maxwell's equations include explicit time derivatives ($\\partial / \\partial t$). The other two are purely given in terms of the spatial $\\nabla$ derivative operator. That means that we can ignore those equations except when initially setting up our system. So long as our initial conditions satisfy them our answer will always satisfy them as we go forward in time. (Actually, numerically you could give an entire lecture course on making sure that this is true when you try to actually solve these equations, but you can do it).\n",
    "\n",
    "And for the very final simplification, we do use $c = \\epsilon_0 = \\mu_0 = 1$\n",
    "\n",
    "With these simplifications in place, we can write out the final equations that we need. First just for EM waves, and then for a plasma particle in an EM wave"
   ]
  },
  {
   "cell_type": "markdown",
   "metadata": {},
   "source": [
    "# EM solver"
   ]
  },
  {
   "cell_type": "markdown",
   "metadata": {},
   "source": [
    "The equations for the EM solver are now\n",
    "\n",
    "$\\frac{\\partial B_z}{\\partial t} = \\frac{\\partial E_y}{\\partial x}\\\\\n",
    " \\frac{\\partial E_y}{\\partial t} = \\frac{\\partial B_z}{\\partial x}$\n",
    " \n",
    "You can then use an integrator very like the Euler integrator that you've already seen to calculate both the time and space derivatives in these equations and solve for an EM wave. There are some very important differences, but they're too subtle to go into in this lecture (see https://en.wikipedia.org/wiki/Finite-difference_time-domain_method for details). In brief they are\n",
    "\n",
    "#### Space derivatives\n",
    "You calculate E field gradients using Ey[j+1] - Ey[j], but B using Bz[j]-Bz[j-1]. This is because E and B are not defined at quite the same point in space. (see https://upload.wikimedia.org/wikipedia/commons/1/1b/FDTD_Yee_grid_2d-3d.svg, they use $H$ instead of $B$, but the idea is the same). This is done for reasons of keeping the algorithm *stable*, i.e. ensuring that it gives the right answer rather than blowing up to insane values (try switching the two bits updating E to use E[j] - E[j-1] instead and you'll see that the answer becomes nonsense). Proving this requires the beginnings of an understanding of numerical analysis, so we'll skip it here.\n",
    "\n",
    "#### Time derivatives\n",
    "\n",
    "In this type of code, we often talk about *timesteps*. That is the interval of time between $t$ (the current time) and $t + \\Delta t$ (the time that we're trying to get the simulation to). I'll also mention a *half timestep* which is just the time $t + \\frac{\\Delta t}{2}$. For this EM simulation, we have the following algorithm\n",
    "\n",
    "1) You first advance B in time by $\\Delta t/2$ using E at the start of the current step\n",
    "\n",
    "2) You then time integrate E by $\\Delta t$ using B you just calculated in 1)\n",
    "\n",
    "3) You then time integrate B by another $\\Delta t/2$ using E as calculated in 2). This brings B to the same point in time as E\n",
    "\n",
    "The reasons for this are a bit simpler although still really beyond this lecture. Effectively what you're doing is calculating the value to integrate over at the centre of the integration period rather than at the start (when updating E you literally have B at the middle of the timestep from your first integration of B, and for B you are using an average of E at the start and the end of the timestep, so effectively in the middle). This is essentially equivalent to using the trapezium rule for integration rather than using the rectangle rule. This is explained a little more a bit further on.\n",
    "\n",
    "An example of the algorithm is given below\n"
   ]
  },
  {
   "cell_type": "code",
   "execution_count": 2,
   "metadata": {},
   "outputs": [],
   "source": [
    "#Set up parameters\n",
    "nx = 400 #Number of grid points\n",
    "L = 20.0 # Length of simulation domain\n",
    "t_end = 15.0 # Time to end the simulation at\n",
    "\n",
    "# Calculate spatial grid step\n",
    "dx = L/Float64(nx+2)\n",
    "x = linspace(0,nx+2,nx+2);\n",
    "x = x .* dx\n",
    "\n",
    "#Calculate the number of timesteps needed to obtain the required end time\n",
    "#Note that because this scales as dx (and hence number of gridpoints) the whole code\n",
    "#Scales as dx^2\n",
    "dt = dx\n",
    "nsnap = round(Int32, t_end/dt)\n",
    "\n",
    "#Create arrays\n",
    "Ey=zeros(nx+2)\n",
    "Ey[:]=0.0\n",
    "Bz=zeros(nx+2)\n",
    "Bz[:] = 0.0\n",
    "\n",
    "#Time starts at 0\n",
    "time = 0.0\n",
    "\n",
    "#Loop for enough cycles to reach the end of the simulation\n",
    "for i in 1:nsnap\n",
    "    \n",
    "    #Update the magnetic field by half a timestep\n",
    "    for j in 2:nx+1\n",
    "        Bz[j] = Bz[j] - dt/2.0 * (Ey[j+1]-Ey[j])/dx\n",
    "    end\n",
    "    Bz[1] = sin(time) # Drive the boundary with a sine wave\n",
    "    Bz[nx+2] = Bz[nx+1] #Set the outer boundary to be continuous. Prevent sharp gradients\n",
    "    \n",
    "    #Update the electric field by a full timestep\n",
    "    for j in 2:nx+1\n",
    "        Ey[j] = Ey[j] - dt * (Bz[j]-Bz[j-1])/dx\n",
    "    end\n",
    "    Ey[1] = Ey[2] #Set the outer boundary on both edges to be continuous\n",
    "    Ey[nx+2] = Ey[nx+1]\n",
    "\n",
    "    #Update the magnetic field by the other half timestep\n",
    "    for j in 2:nx+1\n",
    "        Bz[j] = Bz[j] - dt/2.0 * (Ey[j+1]-Ey[j])/dx\n",
    "    end\n",
    "    Bz[1] = sin(time) #Driver again\n",
    "    Bz[nx+2] = Bz[nx+1]\n",
    "    \n",
    "    time = time + dt\n",
    "end"
   ]
  },
  {
   "cell_type": "code",
   "execution_count": 4,
   "metadata": {},
   "outputs": [
    {
     "data": {
      "text/html": [
       "<div id=\"bded0737-8f2d-4cda-9c98-5ad09238557c\" class=\"plotly-graph-div\"></div>\n",
       "\n",
       "<script>\n",
       "    window.PLOTLYENV=window.PLOTLYENV || {};\n",
       "    window.PLOTLYENV.BASE_URL=\"https://plot.ly\";\n",
       "    require(['plotly'], function(Plotly) {\n",
       "        Plotly.newPlot('bded0737-8f2d-4cda-9c98-5ad09238557c', [{\"showlegend\":true,\"mode\":\"lines\",\"xaxis\":\"x\",\"colorbar\":{\"title\":\"\"},\"line\":{\"color\":\"rgba(0, 0, 255, 1.000)\",\"width\":1,\"dash\":\"solid\",\"shape\":\"linear\"},\"y\":[0.6689824129536325,0.6689824129536325,0.7051184191211775,0.7395094858330105,0.7720705063501756,0.8027209027046636,0.8313848251037557,0.857991339633668,0.8824746037979874,0.904774029456499,0.9248344327611921,0.9426061707183859,0.9580452640390469,0.9711135059732654,0.9817785568595756,0.9900140241551307,0.9957995277486891,0.999120750394781,0.9999694731442506,0.9983435956834863,0.9942471415320204,0.9876902480856202,0.9786891415295211,0.9672660966838786,0.9534493818808136,0.9372731890094528,0.918777548902092,0.8980082322708651,0.8750166364400727,0.8498596581544708,0.8225995527782732,0.7933037802333147,0.7620448380576161,0.7289000819974842,0.6939515345771239,0.6572856821194841,0.6189932607206525,0.5791690317074387,0.537911547133815,0.4953229058965398,0.45150850107349155,0.40657675910997476,0.3606388714984256,0.31380851961552,0.2662015933976281,0.21793590455079825,0.16913089500498446,0.11990734133399822,0.07038705587264979,0.02069258527071654,-0.029053092770279926,-0.07872687382701044,-0.12820583139786895,-0.17736752110620707,-0.22609028371046258,-0.2742535461713367,-0.3217381200309686,-0.368426496365725,-0.41420313658268226,-0.45895475834018185,-0.5025706158848955,-0.5449427741116533,-0.5859663756678342,-0.6255399004413129,-0.6635654167898211,-0.6999488238900047,-0.7346000846064551,-0.767433448304421,-0.7983676630548264,-0.8273261767064508,-0.8542373263276792,-0.8790345155490238,-0.9016563793675441,-0.9220469360053303,-0.9401557254462549,-0.9559379343081482,-0.9693545067413909,-0.9803722410794762,-0.9889638720023701,-0.9951081380093383,-0.9987898340342649,-0.9999998490732627,-0.9987351887314517,-0.9949989826331183,-0.9888004766769063,-0.9801550101552183,-0.9690839777944407,-0.9556147768099319,-0.9397807391067972,-0.9216210487942342,-0.9011806452175648,-0.8785101117479281,-0.853665550604839,-0.8267084440213841,-0.7977055020956318,-0.7667284977047695,-0.7338540888905039,-0.6991636291552643,-0.6627429661386643,-0.6246822291724259,-0.5850756062395104,-0.5440211108893995,-0.5016203396863419,-0.4579782207907973,-0.41320275429626274,-0.36740474496405984,-0.32069752801747864,-0.2731966886738476,-0.22501977610859952,-0.17628601255917675,-0.12711599828865106,-0.07763141313917632,-0.027954715413833903,0.021791161167961703,0.07148311169155669,0.12099816469180663,0.1702137864675784,0.21900818431293084,0.2672606079145702,0.3148516481697228,0.3616635326849478,0.40758041722462135,0.4524886723878607,0.49627716480444484,0.5388375321538734,0.5800644513269719,0.6198558990664387,0.6581134044413239,0.6947422925306563,0.7296519187131745,0.762755892983372,0.7939722937387517,0.8232238705092283,0.8504382351269917,0.8755480408637539,0.8984911490920635,0.9192107830582585,0.9376556683865258,0.9537801599663518,0.9675443549093736,0.9789141912960888,0.9878615324680604,0.9943642366570238,0.9984062117785868,0.9999774552549154,0.9990740787678751,0.9956983178813557,0.9898585265089745,0.981569156240852,0.9708507205806081,0.9577297441810959,0.9422386972044843,0.9244159149691342,0.9043055030821185,0.8819572282921428,0.8574263953329799,0.830773710062187,0.8020651292337915,0.7713716972767086,0.73876937048282,0.7043388290397754,0.6681652773736921,0.6303382332958252,0.5909513064750105,0.5501019667840887,0.5078913030935719,0.46442377310946803,0.41980694487432824,0.37415123057122,0.3275696132893744,0.2801773674276753,0.23209177342789844,0.1834318275436464,0.1343179473632046,0.08487167381505534,0.03521537039348885,-0.014528079651369236,-0.06423557740975747,-0.11378411294216612,-0.16305106968905186,-0.2119145279070651,-0.26025356638088193,-0.3079485616640054,-0.35488148410800613,-0.40093618994763414,-0.4459987087189756,-0.4899575252994004,-0.5327038558713277,-0.5741319171269073,-0.6141391880474008,-0.6526266636094664,-0.689499099790486,-0.7246652492666403,-0.7580380872204484,-0.7895350266989738,-0.8190781229897546,-0.8465942665086925,-0.8720153637225692,-0.8952785056584622,-0.9163261235830535,-0.9351061314665794,-0.9515720548788649,-0.9656831459984694,-0.9774044844503322,-0.9867070637223789,-0.9935678629472324,-0.9979699038713958,-0.9999022928709245,-0.9993602479096135,-0.9963451103729863,-0.9908643417488008,-0.9829315051622862,-0.9725662318118058,-0.9597941723880072,-0.9446469335966781,-0.9271619999424014,-0.9073826409665555,-0.8853578041692347,-0.8611419938800529,-0.8347951363776045,-0.8063824315913521,-0.7759741917529448,-0.743645667396241,-0.70947686113664,-0.6735523296905448,-0.6359609746249102,-0.5967958223546888,-0.5561537939326164,-0.5141354652010357,-0.47084481789929444,-0.42638898234265865,-0.3808779723095178,-0.3344244127929542,-0.2871432612904049,-0.23915152332112888,-0.19056796287548539,-0.141512808512567,-0.09210745583349925,-0.04247416706668977,0.0072642314915438155,0.05698465343223166,0.10656405683270337,0.15587974874545107,0.20480968882339157,0.2532327913301544,0.3010292247880181,0.34808070852196227,0.39427080536598647,0.43948520980734207,0.48361203085561244,0.5265420689366354,0.5681690861260402,0.6083900690536646,0.6471054838282431,0.6842195223515151,0.7196403394122033,0.7532802799731295,0.7850560960890118,0.814889152918135,0.842705623318087,0.8684366705439988,0.8920186185971681,0.9133931098025079,0.932507249224872,0.9493137355668675,0.9637709782242292,0.9758432002090782,0.9855005266863681,0.992719058904415,0.9974809333365566,0.9997743658875902,0.9995936810555883,0.9969393259769239,0.9918178693197532,0.9842419850286923,0.9742304209609141,0.961807952491279,0.9470053212013183,0.9298591588037848,0.910411896491043,0.8887116599316254,0.8648121501748094,0.8387725107579282,0.8106571813452994,0.7805357382609432,0.7484827223097459,0.714577454313134,0.6789038388157616,0.6415501564489687,0.6026088454648425,0.5621762729815157,0.5203524965057972,0.47724101632328453,0.43294851936871814,0.3875846152104081,0.34126156480209646,0.2940940026734933,0.24619865324698825,0.19769404198255075,0.1487002020656489,0.09933837736403525,0.049730722388487,0.0,0.0,0.0,0.0,0.0,0.0,0.0,0.0,0.0,0.0,0.0,0.0,0.0,0.0,0.0,0.0,0.0,0.0,0.0,0.0,0.0,0.0,0.0,0.0,0.0,0.0,0.0,0.0,0.0,0.0,0.0,0.0,0.0,0.0,0.0,0.0,0.0,0.0,0.0,0.0,0.0,0.0,0.0,0.0,0.0,0.0,0.0,0.0,0.0,0.0,0.0,0.0,0.0,0.0,0.0,0.0,0.0,0.0,0.0,0.0,0.0,0.0,0.0,0.0,0.0,0.0,0.0,0.0,0.0,0.0,0.0,0.0,0.0,0.0,0.0,0.0,0.0,0.0,0.0,0.0,0.0,0.0,0.0,0.0,0.0,0.0,0.0,0.0,0.0,0.0,0.0,0.0,0.0,0.0,0.0,0.0,0.0,0.0,0.0,0.0],\"type\":\"scatter\",\"name\":\"Ey\",\"yaxis\":\"y\",\"x\":[0.0,0.04987531172069826,0.09975062344139651,0.14962593516209477,0.19950124688279303,0.24937655860349128,0.29925187032418954,0.3491271820448878,0.39900249376558605,0.4488778054862843,0.49875311720698257,0.5486284289276808,0.5985037406483791,0.6483790523690773,0.6982543640897756,0.7481296758104738,0.7980049875311721,0.8478802992518704,0.8977556109725686,0.9476309226932669,0.9975062344139651,1.0473815461346634,1.0972568578553616,1.14713216957606,1.1970074812967582,1.2468827930174564,1.2967581047381547,1.346633416458853,1.3965087281795512,1.4463840399002494,1.4962593516209477,1.546134663341646,1.5960099750623442,1.6458852867830427,1.6957605985037407,1.745635910224439,1.7955112219451372,1.8453865336658355,1.8952618453865338,1.945137157107232,1.9950124688279303,2.0448877805486285,2.0947630922693268,2.144638403990025,2.1945137157107233,2.2443890274314215,2.29426433915212,2.344139650872818,2.3940149625935163,2.4438902743142146,2.493765586034913,2.543640897755611,2.5935162094763093,2.6433915211970076,2.693266832917706,2.743142144638404,2.7930174563591024,2.8428927680798006,2.892768079800499,2.942643391521197,2.9925187032418954,3.0423940149625937,3.092269326683292,3.14214463840399,3.1920199501246884,3.2418952618453867,3.2917705735660854,3.3416458852867827,3.3915211970074814,3.4413965087281797,3.491271820448878,3.5411471321695758,3.5910224438902745,3.6408977556109727,3.690773067331671,3.740648379052369,3.7905236907730675,3.8403990024937658,3.890274314214464,3.940149625935162,3.9900249376558605,4.039900249376559,4.089775561097257,4.139650872817955,4.1895261845386536,4.239401496259352,4.28927680798005,4.339152119700748,4.389027431421447,4.438902743142145,4.488778054862843,4.538653366583541,4.58852867830424,4.638403990024938,4.688279301745636,4.738154613466334,4.788029925187033,4.837905236907731,4.887780548628429,4.937655860349127,4.987531172069826,5.037406483790524,5.087281795511222,5.13715710723192,5.187032418952619,5.236907730673317,5.286783042394015,5.3366583541147135,5.386533665835412,5.43640897755611,5.486284289276808,5.5361596009975065,5.586034912718205,5.635910224438903,5.685785536159601,5.7356608478802995,5.785536159600998,5.835411471321696,5.885286783042394,5.9351620947630925,5.985037406483791,6.034912718204489,6.084788029925187,6.134663341645886,6.184538653366584,6.234413965087282,6.28428927680798,6.334164588528679,6.384039900249377,6.433915211970076,6.483790523690773,6.533665835411472,6.583541147132171,6.633416458852868,6.6832917705735655,6.733167082294265,6.783042394014963,6.832917705735662,6.882793017456359,6.932668329177058,6.982543640897756,7.032418952618454,7.0822942643391515,7.132169576059851,7.182044887780549,7.231920199501248,7.2817955112219455,7.331670822942643,7.381546134663342,7.43142144638404,7.481296758104738,7.531172069825437,7.581047381546135,7.630922693266834,7.6807980049875315,7.730673316708229,7.780548628428928,7.830423940149626,7.880299251870324,7.930174563591023,7.980049875311721,8.02992518703242,8.079800498753118,8.129675810473815,8.179551122194514,8.229426433915211,8.27930174563591,8.32917705735661,8.379052369077307,8.428927680798006,8.478802992518704,8.528678304239401,8.5785536159601,8.628428927680797,8.678304239401497,8.728179551122196,8.778054862842893,8.827930174563592,8.87780548628429,8.927680798004987,8.977556109725686,9.027431421446384,9.077306733167083,9.127182044887782,9.17705735660848,9.226932668329178,9.276807980049876,9.326683291770573,9.376558603491272,9.42643391521197,9.476309226932669,9.526184538653368,9.576059850374065,9.625935162094764,9.675810473815462,9.72568578553616,9.775561097256858,9.825436408977556,9.875311720698255,9.925187032418954,9.975062344139651,10.02493765586035,10.074812967581048,10.124688279301745,10.174563591022444,10.224438902743142,10.27431421446384,10.32418952618454,10.374064837905237,10.423940149625937,10.473815461346634,10.523690773067331,10.57356608478803,10.623441396508728,10.673316708229427,10.723192019950126,10.773067331670823,10.822942643391523,10.87281795511222,10.922693266832917,10.972568578553616,11.022443890274314,11.072319201995013,11.122194513715712,11.17206982543641,11.221945137157109,11.271820448877806,11.321695760598503,11.371571072319203,11.4214463840399,11.471321695760599,11.521197007481298,11.571072319201996,11.620947630922695,11.670822942643392,11.72069825436409,11.770573566084789,11.820448877805486,11.870324189526185,11.920199501246884,11.970074812967582,12.01995012468828,12.069825436408978,12.119700748129677,12.169576059850375,12.219451371571072,12.269326683291771,12.31920199501247,12.369077306733168,12.418952618453867,12.468827930174564,12.518703241895263,12.56857855361596,12.618453865336658,12.668329177057357,12.718204488778056,12.768079800498754,12.817955112219453,12.867830423940152,12.917705735660848,12.967581047381547,13.017456359102246,13.067331670822943,13.117206982543642,13.167082294264342,13.216957605985037,13.266832917705736,13.316708229426435,13.366583541147131,13.41645885286783,13.46633416458853,13.516209476309228,13.566084788029926,13.615960099750625,13.665835411471324,13.71571072319202,13.765586034912719,13.815461346633418,13.865336658354115,13.915211970074814,13.965087281795512,14.01496259351621,14.064837905236908,14.114713216957608,14.164588528678303,14.214463840399002,14.264339152119701,14.3142144638404,14.364089775561098,14.413965087281797,14.463840399002496,14.513715710723192,14.563591022443891,14.61346633416459,14.663341645885286,14.713216957605985,14.763092269326684,14.812967581047381,14.86284289276808,14.91271820448878,14.962593516209475,15.012468827930174,15.062344139650873,15.112219451371573,15.16209476309227,15.21197007481297,15.261845386533668,15.311720698254364,15.361596009975063,15.411471321695762,15.461346633416458,15.511221945137157,15.561097256857856,15.610972568578553,15.660847880299253,15.710723192019952,15.760598503740647,15.810473815461346,15.860349127182046,15.910224438902745,15.960099750623442,16.00997506234414,16.05985037406484,16.109725685785538,16.159600997506235,16.209476309226936,16.25935162094763,16.30922693266833,16.359102244389028,16.408977556109726,16.458852867830423,16.508728179551124,16.55860349127182,16.60847880299252,16.65835411471322,16.708229426433917,16.758104738154614,16.80798004987531,16.857855361596013,16.90773067331671,16.957605985037407,17.007481296758108,17.057356608478802,17.107231920199503,17.1571072319202,17.206982543640898,17.256857855361595,17.306733167082296,17.356608478802993,17.40648379052369,17.45635910224439,17.50623441396509,17.556109725685786,17.605985037406484,17.655860349127185,17.705735660847882,17.75561097256858,17.80548628428928,17.855361596009974,17.905236907730675,17.955112219451372,18.00498753117207,18.054862842892767,18.104738154613468,18.154613466334165,18.204488778054863,18.254364089775564,18.30423940149626,18.35411471321696,18.403990024937656,18.453865336658357,18.503740648379054,18.55361596009975,18.60349127182045,18.653366583541146,18.703241895261847,18.753117206982544,18.802992518703242,18.85286783042394,18.90274314214464,18.952618453865338,19.002493765586035,19.052369077306736,19.102244389027433,19.15211970074813,19.201995012468828,19.25187032418953,19.301745635910223,19.351620947630924,19.40149625935162,19.45137157107232,19.50124688279302,19.551122194513717,19.600997506234414,19.65087281795511,19.700748129675812,19.75062344139651,19.800498753117207,19.850374064837908,19.900249376558605,19.950124688279303,20.0]},{\"showlegend\":true,\"mode\":\"lines\",\"xaxis\":\"x\",\"colorbar\":{\"title\":\"\"},\"line\":{\"color\":\"rgba(255, 0, 0, 1.000)\",\"width\":1,\"dash\":\"solid\",\"shape\":\"linear\"},\"y\":[0.6689824129536325,0.6870504160374049,0.722313952477094,0.755789996091593,0.7873957045274196,0.8170528639042096,0.8446880823687118,0.8702329717158277,0.8936243166272432,0.9148042311088456,0.933720301739789,0.9503257173787164,0.9645793850061561,0.9764460314164205,0.9858962905073532,0.9929067759519099,0.997460139071735,0.9995451117695158,0.9991565344138684,0.9962953686077534,0.9909686948088203,0.9831896948075707,0.9729776191066999,0.9603577392823461,0.9453612854451332,0.9280253689557724,0.9083928905864785,0.8865124343554689,0.8624381472972718,0.836229605466372,0.807951666505794,0.7776743091454654,0.7454724600275502,0.7114258082873041,0.675618608348304,0.6381394714200683,0.5990811462140456,0.5585402894206268,0.5166172265151774,0.4734157034850157,0.42904263009173316,0.3836078153042002,0.3372236955569728,0.29000505650657404,0.24206874897421318,0.19353339977789136,0.14451911816949134,0.095147198603324,0.04553982057168317,-0.004180253749781693,-0.05388998329864518,-0.1034663526124397,-0.152786676252038,-0.20172890240833483,-0.25017191494089963,-0.29799583310115263,-0.3450823081983468,-0.39131481647420363,-0.43657894746143205,-0.48076268711253867,-0.5237566949982744,-0.5654545748897437,-0.6057531380545735,-0.644552658615567,-0.6817571203399129,-0.7172744542482299,-0.751016766455438,-0.7829005556796237,-0.8128469198806386,-0.840781751517065,-0.8666359209383515,-0.8903454474582839,-0.9118516576864372,-0.9311013307257926,-0.9480468298772016,-0.9626462205247696,-0.9748633739104335,-0.9846680565409232,-0.9920360050058542,-0.9969489860218016,-0.9993948415537638,-0.9993675189023572,-0.996867085682285,-0.9918997296550123,-0.9844777434160623,-0.9746194939748295,-0.9623493773021863,-0.9476977579583645,-0.9307008939505157,-0.9114008470058995,-0.8898453784827465,-0.8660878311763835,-0.8401869973131115,-0.812206973058508,-0.7822169999002007,-0.7502912932976367,-0.7165088590228841,-0.6809532976469643,-0.6437125976555451,-0.6048789177059681,-0.564548358564455,-0.5228207252878707,-0.4797992802385696,-0.43559048754353,-0.3903037496301613,-0.34405113649076924,-0.2969471083456631,-0.24910823239122357,-0.20065289433388814,-0.1517010054239139,-0.10237370571391369,-0.05279306427650511,-0.0030817771229360996,0.046637136429759196,0.09624063819168166,0.14560597557969251,0.19461098539025462,0.2431343961137505,0.2910561280421465,0.3382575904273353,0.38462197495478456,0.43003454480624104,0.4743829185961528,0.5175573484791591,0.5594509917404227,0.5999601751967053,0.6389846517538813,0.6764278484859901,0.7121971056219154,0.7462039058482732,0.7783640933610618,0.80859808212399,0.83683105281811,0.8629931379953728,0.8870195949779087,0.908850966075161,0.9284332257223922,0.9457179141764388,0.9606622574378627,0.9732292731027312,0.9833878618820746,0.9911128845625421,0.9963852242178053,0.9991918335167511,0.9995257670113953,0.9973861983246154,0.9927784221951651,0.9857138413749132,0.97620993841073,0.964290232380852,0.9499842206927901,0.9333273060868092,0.9143607090256264,0.8931313656871307,0.8696918118125614,0.8441000526975835,0.8164194196479893,0.78671841325525,0.7550705338797643,0.7215540997612977,0.6862520532067338,0.6492517553347587,0.6106447698854178,0.5705266366295496,0.5289966349388303,0.48615753810151996,0.44211535899189813,0.3969790877227741,0.3508604219302972,0.30387349035852484,0.25613457042778687,0.20776180048577242,0.15887488745342548,0.10959481058912997,0.06004352210427209,0.010343645371059806,-0.03938182853056335,-0.08900984517596179,-0.138417591315609,-0.1874827987980585,-0.23608404714397352,-0.2841010640224437,-0.3314150228860058,-0.37790883702782013,-0.4234674493333049,-0.467978117009188,-0.5113306905853641,-0.5534178864991175,-0.594135552587154,-0.6333829258284336,-0.6710628816999762,-0.7070821745285631,-0.7413516682435444,-0.7737865569597111,-0.8043065748443642,-0.8328361947492235,-0.8593048151156308,-0.8836469346905157,-0.9058023146207579,-0.9257161275248165,-0.9433390931727221,-0.9586276004386671,-0.9715438152244008,-0.9820557740863556,-0.9901374633348057,-0.9957688834093141,-0.9989360983711602,-0.999631270390269,-0.9978526791412999,-0.9936047260608936,-0.9868979234555435,-0.977748868487046,-0.9661802020999065,-0.9522205529923427,-0.9359044667695398,-0.9172723204544785,-0.8963702225678951,-0.8732498990246438,-0.8479685651288287,-0.8205887839844783,-0.7911783116721485,-0.7598099295745929,-0.7265612642664405,-0.6915145954135924,-0.6547566521577275,-0.6163783984897995,-0.5764748081436526,-0.5351446295668261,-0.4924901415501651,-0.44861690012097655,-0.40363347732608823,-0.357651192551236,-0.31078383704167956,-0.2631473923057669,-0.21485974309830713,-0.16604038569402618,-0.11681013217303313,-0.06729081145009451,-0.017604967787572978,0.03212444246188774,0.08177435513246752,0.13122190278907722,0.18034471878442132,0.229021240076773,0.27713100805908625,0.3245549666549902,0.37117575694397437,0.41687800758666427,0.46154862033147726,0.5050770498961239,0.5473555775313378,0.5882795775898524,0.6277477764409538,0.6656625030898791,0.7019299308818592,0.7364603096926664,0.7691681880310707,0.7999726245035734,0.828797388118111,0.8555711469310429,0.8802276445705834,0.902705864199838,0.92295017951369,0.9409104923958698,0.9565423568955483,0.9698070892166537,0.9806718634477232,0.9891097927953916,0.9950999961204858,0.9986276496120734,0.9996840234715892,0.9982665035162561,0.9943785976483386,0.9880299271742228,0.9792362029948032,0.9680191867260965,0.9544066368462987,0.9384322400025515,0.9201355276474139,0.8995617782113342,0.8767619050532174,0.8517923304663688,0.8247148460516138,0.7955964598031213,0.7645092302853446,0.73153008831144,0.6967406465644478,0.6602269976323651,0.6220795009569056,0.5823925592231791,0.5412643847436565,0.49879675641454085,0.45509476784600134,0.4102665672895631,0.3644230900062523,0.31767778373779487,0.27014632796024074,0.2219463476147695,0.17319712202409981,0.12401928971484208,0.07453454987626112,0.0248653611942435,0.0,0.0,0.0,0.0,0.0,0.0,0.0,0.0,0.0,0.0,0.0,0.0,0.0,0.0,0.0,0.0,0.0,0.0,0.0,0.0,0.0,0.0,0.0,0.0,0.0,0.0,0.0,0.0,0.0,0.0,0.0,0.0,0.0,0.0,0.0,0.0,0.0,0.0,0.0,0.0,0.0,0.0,0.0,0.0,0.0,0.0,0.0,0.0,0.0,0.0,0.0,0.0,0.0,0.0,0.0,0.0,0.0,0.0,0.0,0.0,0.0,0.0,0.0,0.0,0.0,0.0,0.0,0.0,0.0,0.0,0.0,0.0,0.0,0.0,0.0,0.0,0.0,0.0,0.0,0.0,0.0,0.0,0.0,0.0,0.0,0.0,0.0,0.0,0.0,0.0,0.0,0.0,0.0,0.0,0.0,0.0,0.0,0.0,0.0,0.0],\"type\":\"scatter\",\"name\":\"Bz\",\"yaxis\":\"y\",\"x\":[0.0,0.04987531172069826,0.09975062344139651,0.14962593516209477,0.19950124688279303,0.24937655860349128,0.29925187032418954,0.3491271820448878,0.39900249376558605,0.4488778054862843,0.49875311720698257,0.5486284289276808,0.5985037406483791,0.6483790523690773,0.6982543640897756,0.7481296758104738,0.7980049875311721,0.8478802992518704,0.8977556109725686,0.9476309226932669,0.9975062344139651,1.0473815461346634,1.0972568578553616,1.14713216957606,1.1970074812967582,1.2468827930174564,1.2967581047381547,1.346633416458853,1.3965087281795512,1.4463840399002494,1.4962593516209477,1.546134663341646,1.5960099750623442,1.6458852867830427,1.6957605985037407,1.745635910224439,1.7955112219451372,1.8453865336658355,1.8952618453865338,1.945137157107232,1.9950124688279303,2.0448877805486285,2.0947630922693268,2.144638403990025,2.1945137157107233,2.2443890274314215,2.29426433915212,2.344139650872818,2.3940149625935163,2.4438902743142146,2.493765586034913,2.543640897755611,2.5935162094763093,2.6433915211970076,2.693266832917706,2.743142144638404,2.7930174563591024,2.8428927680798006,2.892768079800499,2.942643391521197,2.9925187032418954,3.0423940149625937,3.092269326683292,3.14214463840399,3.1920199501246884,3.2418952618453867,3.2917705735660854,3.3416458852867827,3.3915211970074814,3.4413965087281797,3.491271820448878,3.5411471321695758,3.5910224438902745,3.6408977556109727,3.690773067331671,3.740648379052369,3.7905236907730675,3.8403990024937658,3.890274314214464,3.940149625935162,3.9900249376558605,4.039900249376559,4.089775561097257,4.139650872817955,4.1895261845386536,4.239401496259352,4.28927680798005,4.339152119700748,4.389027431421447,4.438902743142145,4.488778054862843,4.538653366583541,4.58852867830424,4.638403990024938,4.688279301745636,4.738154613466334,4.788029925187033,4.837905236907731,4.887780548628429,4.937655860349127,4.987531172069826,5.037406483790524,5.087281795511222,5.13715710723192,5.187032418952619,5.236907730673317,5.286783042394015,5.3366583541147135,5.386533665835412,5.43640897755611,5.486284289276808,5.5361596009975065,5.586034912718205,5.635910224438903,5.685785536159601,5.7356608478802995,5.785536159600998,5.835411471321696,5.885286783042394,5.9351620947630925,5.985037406483791,6.034912718204489,6.084788029925187,6.134663341645886,6.184538653366584,6.234413965087282,6.28428927680798,6.334164588528679,6.384039900249377,6.433915211970076,6.483790523690773,6.533665835411472,6.583541147132171,6.633416458852868,6.6832917705735655,6.733167082294265,6.783042394014963,6.832917705735662,6.882793017456359,6.932668329177058,6.982543640897756,7.032418952618454,7.0822942643391515,7.132169576059851,7.182044887780549,7.231920199501248,7.2817955112219455,7.331670822942643,7.381546134663342,7.43142144638404,7.481296758104738,7.531172069825437,7.581047381546135,7.630922693266834,7.6807980049875315,7.730673316708229,7.780548628428928,7.830423940149626,7.880299251870324,7.930174563591023,7.980049875311721,8.02992518703242,8.079800498753118,8.129675810473815,8.179551122194514,8.229426433915211,8.27930174563591,8.32917705735661,8.379052369077307,8.428927680798006,8.478802992518704,8.528678304239401,8.5785536159601,8.628428927680797,8.678304239401497,8.728179551122196,8.778054862842893,8.827930174563592,8.87780548628429,8.927680798004987,8.977556109725686,9.027431421446384,9.077306733167083,9.127182044887782,9.17705735660848,9.226932668329178,9.276807980049876,9.326683291770573,9.376558603491272,9.42643391521197,9.476309226932669,9.526184538653368,9.576059850374065,9.625935162094764,9.675810473815462,9.72568578553616,9.775561097256858,9.825436408977556,9.875311720698255,9.925187032418954,9.975062344139651,10.02493765586035,10.074812967581048,10.124688279301745,10.174563591022444,10.224438902743142,10.27431421446384,10.32418952618454,10.374064837905237,10.423940149625937,10.473815461346634,10.523690773067331,10.57356608478803,10.623441396508728,10.673316708229427,10.723192019950126,10.773067331670823,10.822942643391523,10.87281795511222,10.922693266832917,10.972568578553616,11.022443890274314,11.072319201995013,11.122194513715712,11.17206982543641,11.221945137157109,11.271820448877806,11.321695760598503,11.371571072319203,11.4214463840399,11.471321695760599,11.521197007481298,11.571072319201996,11.620947630922695,11.670822942643392,11.72069825436409,11.770573566084789,11.820448877805486,11.870324189526185,11.920199501246884,11.970074812967582,12.01995012468828,12.069825436408978,12.119700748129677,12.169576059850375,12.219451371571072,12.269326683291771,12.31920199501247,12.369077306733168,12.418952618453867,12.468827930174564,12.518703241895263,12.56857855361596,12.618453865336658,12.668329177057357,12.718204488778056,12.768079800498754,12.817955112219453,12.867830423940152,12.917705735660848,12.967581047381547,13.017456359102246,13.067331670822943,13.117206982543642,13.167082294264342,13.216957605985037,13.266832917705736,13.316708229426435,13.366583541147131,13.41645885286783,13.46633416458853,13.516209476309228,13.566084788029926,13.615960099750625,13.665835411471324,13.71571072319202,13.765586034912719,13.815461346633418,13.865336658354115,13.915211970074814,13.965087281795512,14.01496259351621,14.064837905236908,14.114713216957608,14.164588528678303,14.214463840399002,14.264339152119701,14.3142144638404,14.364089775561098,14.413965087281797,14.463840399002496,14.513715710723192,14.563591022443891,14.61346633416459,14.663341645885286,14.713216957605985,14.763092269326684,14.812967581047381,14.86284289276808,14.91271820448878,14.962593516209475,15.012468827930174,15.062344139650873,15.112219451371573,15.16209476309227,15.21197007481297,15.261845386533668,15.311720698254364,15.361596009975063,15.411471321695762,15.461346633416458,15.511221945137157,15.561097256857856,15.610972568578553,15.660847880299253,15.710723192019952,15.760598503740647,15.810473815461346,15.860349127182046,15.910224438902745,15.960099750623442,16.00997506234414,16.05985037406484,16.109725685785538,16.159600997506235,16.209476309226936,16.25935162094763,16.30922693266833,16.359102244389028,16.408977556109726,16.458852867830423,16.508728179551124,16.55860349127182,16.60847880299252,16.65835411471322,16.708229426433917,16.758104738154614,16.80798004987531,16.857855361596013,16.90773067331671,16.957605985037407,17.007481296758108,17.057356608478802,17.107231920199503,17.1571072319202,17.206982543640898,17.256857855361595,17.306733167082296,17.356608478802993,17.40648379052369,17.45635910224439,17.50623441396509,17.556109725685786,17.605985037406484,17.655860349127185,17.705735660847882,17.75561097256858,17.80548628428928,17.855361596009974,17.905236907730675,17.955112219451372,18.00498753117207,18.054862842892767,18.104738154613468,18.154613466334165,18.204488778054863,18.254364089775564,18.30423940149626,18.35411471321696,18.403990024937656,18.453865336658357,18.503740648379054,18.55361596009975,18.60349127182045,18.653366583541146,18.703241895261847,18.753117206982544,18.802992518703242,18.85286783042394,18.90274314214464,18.952618453865338,19.002493765586035,19.052369077306736,19.102244389027433,19.15211970074813,19.201995012468828,19.25187032418953,19.301745635910223,19.351620947630924,19.40149625935162,19.45137157107232,19.50124688279302,19.551122194513717,19.600997506234414,19.65087281795511,19.700748129675812,19.75062344139651,19.800498753117207,19.850374064837908,19.900249376558605,19.950124688279303,20.0]}],\n",
       "               {\"showlegend\":true,\"xaxis\":{\"showticklabels\":true,\"gridwidth\":0.5,\"tickvals\":[0.0,5.0,10.0,15.0,20.0],\"visible\":true,\"ticks\":\"inside\",\"range\":[0.0,20.0],\"domain\":[0.10609871682706327,0.9934383202099737],\"tickmode\":\"array\",\"linecolor\":\"rgba(0, 0, 0, 1.000)\",\"showgrid\":true,\"title\":\"X(arb units)\",\"mirror\":false,\"tickangle\":0,\"showline\":true,\"gridcolor\":\"rgba(0, 0, 0, 0.100)\",\"titlefont\":{\"color\":\"rgba(0, 0, 0, 1.000)\",\"family\":\"sans-serif\",\"size\":15},\"tickcolor\":\"rgb(0, 0, 0)\",\"ticktext\":[\"0\",\"5\",\"10\",\"15\",\"20\"],\"zeroline\":false,\"type\":\"-\",\"tickfont\":{\"color\":\"rgba(0, 0, 0, 1.000)\",\"family\":\"sans-serif\",\"size\":11},\"zerolinecolor\":\"rgba(0, 0, 0, 1.000)\",\"anchor\":\"y\"},\"paper_bgcolor\":\"rgba(255, 255, 255, 1.000)\",\"annotations\":[],\"height\":400,\"margin\":{\"l\":0,\"b\":20,\"r\":0,\"t\":20},\"plot_bgcolor\":\"rgba(255, 255, 255, 1.000)\",\"yaxis\":{\"showticklabels\":true,\"gridwidth\":0.5,\"tickvals\":[-0.75,-0.5,-0.25,0.0,0.25,0.5,0.75],\"visible\":true,\"ticks\":\"inside\",\"range\":[-0.9999998490732627,0.9999774552549154],\"domain\":[0.07581474190726165,0.9901574803149606],\"tickmode\":\"array\",\"linecolor\":\"rgba(0, 0, 0, 1.000)\",\"showgrid\":true,\"title\":\"E or B (m)\",\"mirror\":false,\"tickangle\":0,\"showline\":true,\"gridcolor\":\"rgba(0, 0, 0, 0.100)\",\"titlefont\":{\"color\":\"rgba(0, 0, 0, 1.000)\",\"family\":\"sans-serif\",\"size\":15},\"tickcolor\":\"rgb(0, 0, 0)\",\"ticktext\":[\"-0.75\",\"-0.50\",\"-0.25\",\"0.00\",\"0.25\",\"0.50\",\"0.75\"],\"zeroline\":false,\"type\":\"-\",\"tickfont\":{\"color\":\"rgba(0, 0, 0, 1.000)\",\"family\":\"sans-serif\",\"size\":11},\"zerolinecolor\":\"rgba(0, 0, 0, 1.000)\",\"anchor\":\"x\"},\"legend\":{\"bordercolor\":\"rgba(0, 0, 0, 1.000)\",\"bgcolor\":\"rgba(255, 255, 255, 1.000)\",\"font\":{\"color\":\"rgba(0, 0, 0, 1.000)\",\"family\":\"sans-serif\",\"size\":11},\"y\":1.0,\"x\":1.0},\"width\":600}, {showLink: false});\n",
       "\n",
       "    });\n",
       " </script>\n"
      ]
     },
     "execution_count": 4,
     "metadata": {},
     "output_type": "execute_result"
    }
   ],
   "source": [
    "#Plot the answers\n",
    "using Plots\n",
    "plotlyjs()\n",
    "plot(x, Ey, c=:blue, label=\"Ey\", xlab=\"X(arb units)\", ylab =\"E or B (m)\")\n",
    "plot!(x, Bz, c=:red, label=\"Bz\")"
   ]
  },
  {
   "cell_type": "markdown",
   "metadata": {},
   "source": [
    "# Particle simulation"
   ]
  },
  {
   "cell_type": "markdown",
   "metadata": {},
   "source": [
    "Adding a single particle to the simulation isn't very hard at all. Because of the structure of the Lorentz force, you have to keep track of two velocities for the particle, $v_x$ in the x direction and $v_y$ in the y direction. You don't need to keep track of $v_z$ because there is no $E_z$ to accelerate the particle in that direction, and for the magnetic field to bend it in that direction through the $\\mathbf{v} \\times \\mathbf{B}$ force you would need either $E_yB_x$ or $E_xB_y$ to be non-zero which doesn't happen here.\n",
    "\n",
    "You only need to keep track of the $x$ position of the particle though. In 1.5D modelling, it is assumed that everything is uniform and infinite in the $y$ and $z$ directions, so while you _can_ keep track of the particle's $y$ position (since it does have a $y$ velocity this will be changing in time) you don't use it anywhere in the calculations.\n",
    "\n",
    "You have to perform two integrations, first you have to integrate acceleration to get velocity and then you have to integrate velocity to get position. This is simple enough, but there are two things to worry about\n",
    "\n",
    "### Second order integration\n",
    "In order to get acceptable performance from these codes everything has to be done using the more accurate \"time centred\" or \"second order\" integrators. For the fields, this slightly changes the sequence above. Rather than doing half of the B update, then all of the E update, then the other half of the B update you split it completely. The new sequence is\n",
    "\n",
    "1) Update B to half timestep\n",
    "\n",
    "2) Update E to half timestep\n",
    "\n",
    "3) Move the particle (this goes here because E and B are now defined at the half timestep so you can use them to get a time centred estimate of the force on the particle)\n",
    "\n",
    "4) Update E to the full timestep\n",
    "\n",
    "5) Update B to the full timestep\n",
    "\n",
    "You also have to do the same thing for the particles and it's a little clearer, so we'll go through it in a bit more detail. The basic Euler integrator for $\\frac{\\partial f(t)}{\\partial t} = g(f(t))$ is written as \n",
    "\n",
    "$f(n+1) = f(n) + dt \\: g(f(n))$\n",
    "\n",
    " where $n$ is the current timestep (corresponding to time $t$), and $n+1$ is the next timestep (time $t + \\Delta t$). Effectively this is assuming that when you integrate over a time $dt$ a \"good\" approximation is assuming that the value $g(f(t))$ is constant with the value that it has at the start of the timestep. You can immediately see that this is not going to give a perfect solution. In fact, as you shrink $dt$ the error in that assumption scales at the same rate. So if you halve $dt$ the error halves. You can do better. If you assume instead that using the constant value at the *centre* of the timestep (usually called $n+1/2$) then you can actually get to the point where halving $dt$ *quarters* the error in your integration. In fact it turns out that using the simple Euler integrator to get a prediction of the values at the half timestep and then using those values works very well indeed.\n",
    "\n",
    "$f(n+1/2) = f(n) + dt/2 \\: g(f(n))\\\\\n",
    "f(n+1) = f(n) + dt \\: g(f(n+1/2))$\n",
    "\n",
    "In fact, you can do better than that, and there are a whole family of methods, collectively called Runge-Kutta methods that allow you to get higher order error terms ( https://en.wikipedia.org/wiki/Runge–Kutta_methods ). The classical one is a *4th order* method where the error scales as $dt^4$. The downside, as you can see above, is that you have to store the values at both the *$n$*th and *$n+1/2$*th timestep so the memory requirements go up. As you go to ever higher methods, this tends to increase.\n",
    "\n",
    "You'll notice that the code below includes things that look a bit like this, but are different. It turns out that *any* \"decent\" approximation for $f(n+1/2)$ works well for giving you this property of \"second order accuracy\". So to integrate velocity and position, I could do\n",
    "\n",
    "$x(n+1/2) = x(n) + dt/2 * v(n)\\\\\n",
    "v(n+1) = v(n) + dt * F_{Lorentz}(n+1/2)\\\\\n",
    "x(n+1) = x(n+1/2) + dt/2 * v(n+1)$\n",
    "\n",
    "You can see what happens with this if I rearrange just the updates for $x$\n",
    "\n",
    "$x(n) = x(n+1/2) - dt/2 * v(n)\\\\\n",
    "x(n+1) - x(n) = x(n+1/2) + dt/2 * v(n+1) - (x(n+1/2) - dt/2 * v(n))\\\\\n",
    "x(n+1) - x(n) = dt(v(n+1)+v(n))/2\\\\\n",
    "\\frac{x(n+1)-x(n)}{dt} = \\frac{v(n+1) + v(n)}{2}$\n",
    "\n",
    "The last line of that is very similar to the Euler integrator but uses $\\frac{v(n+1) + v(n)}{2}$ for the velocity rather than just $v(n)$. While proving it is hard, you can easily imagine that $\\frac{v(n+1) + v(n)}{2} \\approx v(n+1/2)$, and this is demonstrated working below.\n",
    "\n",
    "### Going from grid to particle\n",
    "\n",
    "Remember that the $E$ and $B$ fields are defined on a fixed grid, but the particle (particles in a working code) move freely above them, not tied to any particular grid point. But to calculate the Lorentz force you need to know the fields at the particle position. There are entire research papers written on how to do this, and different approaches have different properties. The simplest two are \"nearest grid point\" where you simply take the E and B fields from the nearest location to the particle and \"cloud in cell\" where you assume that the field at the particle is linearly interpolated between the two nearest cells. Almost no working codes use \"nearest grid point\" any more for a variety of reasons.\n",
    "\n",
    "There are plenty of other subtleties that I'm completely ignoring here (such as for example the question of what exactly you do about the particle velocity when calculating the Lorentz force see https://www.particleincell.com/2011/vxb-rotation/ for example). The algorithm given below isn't one that anyone would use in a working code, but for the purposes here it works \"well enough\"."
   ]
  },
  {
   "cell_type": "code",
   "execution_count": 5,
   "metadata": {},
   "outputs": [],
   "source": [
    "#Set up parameters\n",
    "nx = 100 #Number of grid points\n",
    "L = 40.0 # Length of simulation domain\n",
    "t_end = 60.0 # Time to end the simulation at\n",
    "q = 0.3 # Charge on particle\n",
    "\n",
    "# Calculate spatial grid step\n",
    "dx = L/Float64(nx+2)\n",
    "x = linspace(0,nx+2,nx+2);\n",
    "x = x .* dx\n",
    "\n",
    "#Calculate the number of timesteps needed to obtain the required end time\n",
    "#Note that because this scales as dx (and hence number of gridpoints) the whole code\n",
    "#Scales as dx^2\n",
    "dt = dx\n",
    "nsnap = round(Int32, t_end/dt)\n",
    "\n",
    "#Create arrays\n",
    "Ey=Array{Float64}(nx+2)\n",
    "Ey[:]=0.0\n",
    "Bz=Array{Float64}(nx+2)\n",
    "Bz[:] = 0.0\n",
    "\n",
    "#Only have one particle position because this is a 1.5D simulation\n",
    "part_x = Array{Float64}(nsnap+1)\n",
    "part_x[:] = 0.0\n",
    "part_x[1] = L/2.0 # Start particle off half way through box\n",
    "\n",
    "#Have two velocities though\n",
    "part_vx = Array{Float64}(nsnap+1)\n",
    "part_vx[:] = 0.0\n",
    "part_vy = Array{Float64}(nsnap+1)\n",
    "part_vy[:] = 0.0\n",
    "\n",
    "#Store local fields for debugging purposes\n",
    "part_Ey = Array{Float64}(nsnap+1)\n",
    "part_Ey[:]=0.0\n",
    "part_Bz = Array{Float64}(nsnap+1)\n",
    "part_Bz[:]=0.0\n",
    "\n",
    "#Time starts at 0\n",
    "time = 0.0\n",
    "\n",
    "#Turn on the particle tracking. We want to turn it off if the particle leaves the simulation domain\n",
    "tracking = true\n",
    "\n",
    "#Loop for enough cycles to reach the end of the simulation\n",
    "for i in 2:nsnap+1\n",
    "    \n",
    "    #Update the magnetic field by half a timestep\n",
    "    for j in 2:nx+1\n",
    "        Bz[j] = Bz[j] - dt/2.0 * (Ey[j+1]-Ey[j])/dx\n",
    "    end\n",
    "    Bz[1] = sin(time) # Drive the boundary with a sine wave\n",
    "    Bz[nx+2] = Bz[nx+1] #Set the outer boundary to be continuous. Prevent sharp gradients\n",
    "    \n",
    "    #Update the electric field by a half timestep\n",
    "    for j in 2:nx+1\n",
    "        Ey[j] = Ey[j] - dt/2.0 * (Bz[j]-Bz[j-1])/dx\n",
    "    end\n",
    "    Ey[1] = Ey[2]\n",
    "    Ey[nx+2] = Ey[nx+1]\n",
    "    \n",
    "    if tracking    \n",
    "        #Move particle by first half timestep\n",
    "        part_x[i] = part_x[i-1] + dt/2.0 * part_vx[i-1]\n",
    "        \n",
    "        #Calculate where particle is and accelerate in local electric and magnetic fields\n",
    "        part_cell = trunc(Int32, part_x[i]/dx)\n",
    "        part_frac = part_x[i] - Float32(part_cell) * dx\n",
    "        \n",
    "        #These lines do nearest grid point weighting\n",
    "        if part_frac < 0.5\n",
    "          part_Ey[i] = Ey[part_cell]\n",
    "          part_Bz[i] = Bz[part_cell]\n",
    "        else\n",
    "          part_Ey[i] = Ey[part_cell+1]\n",
    "          part_Bz[i] = Bz[part_cell+1]\n",
    "        end\n",
    "\n",
    "        #These lines do clound in cell\n",
    "#        part_Ey[i] = Ey[part_cell] * part_frac + Ey[part_cell+1] * (1.0-part_frac)\n",
    "#        part_Bz[i] = Bz[part_cell] * part_frac + Bz[part_cell+1] * (1.0-part_frac)\n",
    "        \n",
    "        #Accelerate particle in E field only. This gives \"estimate\" of velocity at half timestep\n",
    "        part_vy[i] = part_vy[i-1] +  q * dt/2.0 * part_Ey[i]\n",
    "    \n",
    "        #Accelerate particle through magnetic force in X and Y directions only\n",
    "        #This relies on the fact that the B field doesn't change particle speed, only direction\n",
    "        part_vx[i] = part_vx[i-1] + q * dt * part_vy[i-1] * part_Bz[i]\n",
    "        part_vy[i] = part_vy[i-1] - q * dt * part_vx[i-1] * part_Bz[i]\n",
    "        \n",
    "        #Accelerate particle in E field only. This gives \"estimate\" of velocity at half timestep\n",
    "        #Now accelerate through the other half timestep of E field\n",
    "        part_vy[i] = part_vy[i] +  q * dt/2.0 * part_Ey[i]\n",
    "    \n",
    "        #Move particle other half time step using new velocity\n",
    "        part_x[i] = part_x[i-1] + dt/2.0 * part_vx[i]\n",
    "    \n",
    "        #particle has gone outside domain, so stop tracking\n",
    "        part_cell = round(Int32, part_x[i]/dx) #Only need this for this test, not core algorithm\n",
    "        if part_cell < 2 || part_cell > nx+1\n",
    "            tracking = false\n",
    "        end\n",
    "    end\n",
    "    \n",
    "    #Update the electric field by another half timestep\n",
    "    for j in 2:nx+1\n",
    "        Ey[j] = Ey[j] - dt/2.0 * (Bz[j]-Bz[j-1])/dx\n",
    "    end\n",
    "    Ey[1] = Ey[2]\n",
    "    Ey[nx+2] = Ey[nx+1]\n",
    "    \n",
    "    #Update the magnetic field by the other half timestep\n",
    "    for j in 2:nx+1\n",
    "        Bz[j] = Bz[j] - dt/2.0 * (Ey[j+1]-Ey[j])/dx\n",
    "    end\n",
    "    Bz[1] = sin(time)\n",
    "    Bz[nx+2] = Bz[nx+1]\n",
    "    \n",
    "    time = time + dt\n",
    "end;"
   ]
  },
  {
   "cell_type": "code",
   "execution_count": 6,
   "metadata": {},
   "outputs": [
    {
     "data": {
      "text/html": [
       "<div id=\"12337fb4-76cf-4695-94de-146500f8b96e\" class=\"plotly-graph-div\"></div>\n",
       "\n",
       "<script>\n",
       "    window.PLOTLYENV=window.PLOTLYENV || {};\n",
       "    window.PLOTLYENV.BASE_URL=\"https://plot.ly\";\n",
       "    require(['plotly'], function(Plotly) {\n",
       "        Plotly.newPlot('12337fb4-76cf-4695-94de-146500f8b96e', [{\"showlegend\":true,\"mode\":\"lines\",\"xaxis\":\"x\",\"colorbar\":{\"title\":\"\"},\"line\":{\"color\":\"rgba(0, 0, 255, 1.000)\",\"width\":1,\"dash\":\"solid\",\"shape\":\"linear\"},\"y\":[20.0,20.0,20.0,20.0,20.0,20.0,20.0,20.0,20.0,20.0,20.0,20.0,20.0,20.0,20.0,20.0,20.0,20.0,20.0,20.0,20.0,20.0,20.0,20.0,20.0,20.0,20.0,20.0,20.0,20.0,20.0,20.0,20.0,20.0,20.0,20.0,20.0,20.0,20.0,20.0,20.0,20.0,20.0,20.0,20.0,20.0,20.0,20.0,20.0,20.0,20.0,20.0,20.00009909994618,20.000903008018728,20.00364805960809,20.00979020215689,20.02024716278496,20.034744398421477,20.051688503888425,20.06866090631725,20.083262639901477,20.09390929651646,20.100258052483706,20.10311118541948,20.103855047318,20.103743225824907,20.103451817036976,20.103158768229676,20.103029213329116,20.103717031117455,20.106490979987523,20.112826322313236,20.12364604581445,20.138662254290182,20.15624490152606,20.173914803450387,20.189193773756685,20.200411447538713,20.207150463024266,20.21017093572596,20.21086415457162,20.210534527624144,20.20993701285907,20.209332747315187,20.20895749378914,20.209517569342363,20.212317495615263,20.218853783143647,20.23005491356341,20.245618214285408,20.263874309704633,20.282279985130398,20.29827410811867,20.31009657904401,20.317251938485654,20.32045532571172,20.321101659967873,20.320546973548996,20.319627990439532,20.318693373487484,20.318054349086125,20.318474188334232,20.321296740285106,20.328041863381067,20.33964384162288,20.355783766841427,20.374750108649216,20.396627835672454,20.418726915978255,20.438326283005207,20.453499526787365,20.463598434098845,20.46923560828933,20.471792669639683,20.47271860315149,20.473030835319484,20.473302016605036,20.47406206329442,20.476249923425847,20.481318347954705,20.490818860502408,20.50564380519524,20.525375054280644,20.54816585344248,20.571250006427263,20.591811137266244,20.607820765987377,20.618540660288822,20.624528582917623,20.627164834767754,20.627952554061288,20.62800139009841,20.627987770009852,20.628535563041293,20.63065784078666,20.635859583339855,20.645722151946426,20.66114290646444,20.681680323338767,20.705434273954474,20.729558063693695,20.751135313106527,20.768030749100514,20.780827747615696,20.788934519550082,20.79298813910111,20.794353758529862,20.79441034862319,20.794044683709178,20.793644885436077,20.793203934724033,20.79269550564156,20.792110834287495,20.79151738176406],\"type\":\"scatter\",\"name\":\"Particle Position\",\"yaxis\":\"y\",\"x\":[0.0,0.39215686274509803,0.7843137254901961,1.1764705882352942,1.5686274509803921,1.9607843137254901,2.3529411764705883,2.7450980392156863,3.1372549019607843,3.5294117647058822,3.9215686274509802,4.313725490196078,4.705882352941177,5.098039215686274,5.490196078431373,5.882352941176471,6.2745098039215685,6.666666666666667,7.0588235294117645,7.450980392156863,7.8431372549019605,8.235294117647058,8.627450980392156,9.019607843137255,9.411764705882353,9.803921568627452,10.196078431372548,10.588235294117647,10.980392156862745,11.372549019607844,11.764705882352942,12.156862745098039,12.549019607843137,12.941176470588236,13.333333333333334,13.72549019607843,14.117647058823529,14.509803921568627,14.901960784313726,15.294117647058824,15.686274509803921,16.07843137254902,16.470588235294116,16.862745098039216,17.254901960784313,17.647058823529413,18.03921568627451,18.431372549019606,18.823529411764707,19.215686274509803,19.607843137254903,20.0,20.392156862745097,20.784313725490197,21.176470588235293,21.568627450980394,21.96078431372549,22.352941176470587,22.745098039215687,23.137254901960784,23.529411764705884,23.92156862745098,24.313725490196077,24.705882352941178,25.098039215686274,25.49019607843137,25.88235294117647,26.274509803921568,26.666666666666668,27.058823529411764,27.45098039215686,27.84313725490196,28.235294117647058,28.627450980392158,29.019607843137255,29.41176470588235,29.80392156862745,30.19607843137255,30.58823529411765,30.980392156862745,31.372549019607842,31.764705882352942,32.15686274509804,32.549019607843135,32.94117647058823,33.333333333333336,33.72549019607843,34.11764705882353,34.509803921568626,34.90196078431372,35.294117647058826,35.68627450980392,36.07843137254902,36.470588235294116,36.86274509803921,37.254901960784316,37.64705882352941,38.03921568627451,38.431372549019606,38.8235294117647,39.21568627450981,39.6078431372549,40.0,40.3921568627451,40.78431372549019,41.1764705882353,41.568627450980394,41.96078431372549,42.35294117647059,42.745098039215684,43.13725490196079,43.529411764705884,43.92156862745098,44.31372549019608,44.705882352941174,45.09803921568628,45.490196078431374,45.88235294117647,46.27450980392157,46.666666666666664,47.05882352941177,47.450980392156865,47.84313725490196,48.23529411764706,48.627450980392155,49.01960784313726,49.411764705882355,49.80392156862745,50.19607843137255,50.588235294117645,50.98039215686274,51.372549019607845,51.76470588235294,52.15686274509804,52.549019607843135,52.94117647058823,53.333333333333336,53.72549019607843,54.11764705882353,54.509803921568626,54.90196078431372,55.294117647058826,55.68627450980392,56.07843137254902,56.470588235294116,56.86274509803921,57.254901960784316,57.64705882352941,58.03921568627451,58.431372549019606,58.8235294117647,59.21568627450981,59.6078431372549,60.0]}],\n",
       "               {\"showlegend\":true,\"xaxis\":{\"showticklabels\":true,\"gridwidth\":0.5,\"tickvals\":[0.0,10.0,20.0,30.0,40.0,50.0,60.0],\"visible\":true,\"ticks\":\"inside\",\"range\":[0.0,60.0],\"domain\":[0.09128390201224845,0.9934383202099738],\"tickmode\":\"array\",\"linecolor\":\"rgba(0, 0, 0, 1.000)\",\"showgrid\":true,\"title\":\"time\",\"mirror\":false,\"tickangle\":0,\"showline\":true,\"gridcolor\":\"rgba(0, 0, 0, 0.100)\",\"titlefont\":{\"color\":\"rgba(0, 0, 0, 1.000)\",\"family\":\"sans-serif\",\"size\":15},\"tickcolor\":\"rgb(0, 0, 0)\",\"ticktext\":[\"0\",\"10\",\"20\",\"30\",\"40\",\"50\",\"60\"],\"zeroline\":false,\"type\":\"-\",\"tickfont\":{\"color\":\"rgba(0, 0, 0, 1.000)\",\"family\":\"sans-serif\",\"size\":11},\"zerolinecolor\":\"rgba(0, 0, 0, 1.000)\",\"anchor\":\"y\"},\"paper_bgcolor\":\"rgba(255, 255, 255, 1.000)\",\"annotations\":[],\"height\":400,\"margin\":{\"l\":0,\"b\":20,\"r\":0,\"t\":20},\"plot_bgcolor\":\"rgba(255, 255, 255, 1.000)\",\"yaxis\":{\"showticklabels\":true,\"gridwidth\":0.5,\"tickvals\":[20.0,20.200000000000003,20.400000000000002,20.6],\"visible\":true,\"ticks\":\"inside\",\"range\":[20.0,20.79441034862319],\"domain\":[0.07581474190726165,0.9901574803149606],\"tickmode\":\"array\",\"linecolor\":\"rgba(0, 0, 0, 1.000)\",\"showgrid\":true,\"title\":\"X position\",\"mirror\":false,\"tickangle\":0,\"showline\":true,\"gridcolor\":\"rgba(0, 0, 0, 0.100)\",\"titlefont\":{\"color\":\"rgba(0, 0, 0, 1.000)\",\"family\":\"sans-serif\",\"size\":15},\"tickcolor\":\"rgb(0, 0, 0)\",\"ticktext\":[\"20.0\",\"20.2\",\"20.4\",\"20.6\"],\"zeroline\":false,\"type\":\"-\",\"tickfont\":{\"color\":\"rgba(0, 0, 0, 1.000)\",\"family\":\"sans-serif\",\"size\":11},\"zerolinecolor\":\"rgba(0, 0, 0, 1.000)\",\"anchor\":\"x\"},\"legend\":{\"bordercolor\":\"rgba(0, 0, 0, 1.000)\",\"bgcolor\":\"rgba(255, 255, 255, 1.000)\",\"font\":{\"color\":\"rgba(0, 0, 0, 1.000)\",\"family\":\"sans-serif\",\"size\":11},\"y\":1.0,\"x\":1.0},\"width\":600}, {showLink: false});\n",
       "\n",
       "    });\n",
       " </script>\n"
      ]
     },
     "execution_count": 6,
     "metadata": {},
     "output_type": "execute_result"
    }
   ],
   "source": [
    "#Plot the answers\n",
    "using Plots\n",
    "plotlyjs()\n",
    "t_plot = (0:nsnap)*dt\n",
    "plot(t_plot, part_x, c=:blue, label=\"Particle Position\",xlab=\"time\",ylab=\"X position\")"
   ]
  },
  {
   "cell_type": "code",
   "execution_count": 7,
   "metadata": {
    "scrolled": false
   },
   "outputs": [
    {
     "data": {
      "text/html": [
       "<div id=\"8b269dd9-031a-42ba-a7bc-c5dd2a79906d\" class=\"plotly-graph-div\"></div>\n",
       "\n",
       "<script>\n",
       "    window.PLOTLYENV=window.PLOTLYENV || {};\n",
       "    window.PLOTLYENV.BASE_URL=\"https://plot.ly\";\n",
       "    require(['plotly'], function(Plotly) {\n",
       "        Plotly.newPlot('8b269dd9-031a-42ba-a7bc-c5dd2a79906d', [{\"showlegend\":true,\"mode\":\"lines\",\"xaxis\":\"x\",\"colorbar\":{\"title\":\"\"},\"line\":{\"color\":\"rgba(0, 0, 255, 1.000)\",\"width\":1,\"dash\":\"solid\",\"shape\":\"linear\"},\"y\":[0.0,0.0,0.0,0.0,0.0,0.0,0.0,0.0,0.0,0.0,0.0,0.0,0.0,0.0,0.0,0.0,0.0,0.0,0.0,0.0,0.0,0.0,0.0,0.0,0.0,0.0,0.0,0.0,0.0,0.0,0.0,0.0,0.0,0.0,0.0,0.0,0.0,0.0,0.0,0.0,0.0,0.0,0.0,0.0,0.0,0.0,0.0,0.0,0.0,0.0,0.0,0.0,0.0005054097255129278,0.0040999311699882,0.013999763105734824,0.031324926998879996,0.05333049920315173,0.07393590174623947,0.08641493788142908,0.08655925238700797,0.0744688412795616,0.05429794873642255,0.03237865543294363,0.014550977972443771,0.0037936956824526566,-0.0005702896147753954,-0.0014861848184414394,-0.0014945489172243623,-0.0006607299928573966,0.003507870720535977,0.014147139237339644,0.032310245861141534,0.0551805898561907,0.07658266322622989,0.08967150090296117,0.09011649981407552,0.07792274856211356,0.057210136288343205,0.03436897897632615,0.015404410778626018,0.0035354161128733057,-0.0016810974321308488,-0.0030473253018909207,-0.0030817542738012455,-0.0019137929828472405,0.002856385321444184,0.014279623991784163,0.03333506639475767,0.05712576514079477,0.07937283368218462,0.09310608663804316,0.09386894467139562,0.081570027240185,0.06029460171924366,0.0364923331523752,0.016337274852941154,0.003296304706377184,-0.0028289007362707203,-0.004686813858272927,-0.004766546455447503,-0.0032590244469322895,0.0021411801653390453,0.014395014949468102,0.03440012778939856,0.05917008903324886,0.0823136186145825,0.09672834321972253,0.11157640781851484,0.1127053095595723,0.09995677183746303,0.07738354328901112,0.051504427288549315,0.028749588371480318,0.013041012886788477,0.0047222609102002214,0.0015923840567814928,0.0013830245563062823,0.0038762381158582585,0.011158086670285226,0.025848965097174256,0.048452613993287166,0.07560721793345859,0.10062937033555483,0.11623307572535424,0.11772918022238436,0.10486176727881037,0.08164910647778399,0.05467146093737208,0.030538405406879684,0.013444884435666913,0.004017368397020908,0.0002490637893385306,-6.946245165714187e-5,0.0027937444603521773,0.010823616501374873,0.026528887021292292,0.050299099893516275,0.07864584804188089,0.10474082605906881,0.12114514814009988,0.12303132767002985,0.11004397200543878,0.08616672356933641,0.06526469242741918,0.04134453686537133,0.020673459710228832,0.00696465908664325,0.0002886094759879084,-0.001864891061466885,-0.0020389711928194177,-0.002248848631421882,-0.002592988320619236,-0.0029818239057323886,-0.003026607869514596],\"type\":\"scatter\",\"name\":\"Particle x velocity\",\"yaxis\":\"y\",\"x\":[0.0,0.39215686274509803,0.7843137254901961,1.1764705882352942,1.5686274509803921,1.9607843137254901,2.3529411764705883,2.7450980392156863,3.1372549019607843,3.5294117647058822,3.9215686274509802,4.313725490196078,4.705882352941177,5.098039215686274,5.490196078431373,5.882352941176471,6.2745098039215685,6.666666666666667,7.0588235294117645,7.450980392156863,7.8431372549019605,8.235294117647058,8.627450980392156,9.019607843137255,9.411764705882353,9.803921568627452,10.196078431372548,10.588235294117647,10.980392156862745,11.372549019607844,11.764705882352942,12.156862745098039,12.549019607843137,12.941176470588236,13.333333333333334,13.72549019607843,14.117647058823529,14.509803921568627,14.901960784313726,15.294117647058824,15.686274509803921,16.07843137254902,16.470588235294116,16.862745098039216,17.254901960784313,17.647058823529413,18.03921568627451,18.431372549019606,18.823529411764707,19.215686274509803,19.607843137254903,20.0,20.392156862745097,20.784313725490197,21.176470588235293,21.568627450980394,21.96078431372549,22.352941176470587,22.745098039215687,23.137254901960784,23.529411764705884,23.92156862745098,24.313725490196077,24.705882352941178,25.098039215686274,25.49019607843137,25.88235294117647,26.274509803921568,26.666666666666668,27.058823529411764,27.45098039215686,27.84313725490196,28.235294117647058,28.627450980392158,29.019607843137255,29.41176470588235,29.80392156862745,30.19607843137255,30.58823529411765,30.980392156862745,31.372549019607842,31.764705882352942,32.15686274509804,32.549019607843135,32.94117647058823,33.333333333333336,33.72549019607843,34.11764705882353,34.509803921568626,34.90196078431372,35.294117647058826,35.68627450980392,36.07843137254902,36.470588235294116,36.86274509803921,37.254901960784316,37.64705882352941,38.03921568627451,38.431372549019606,38.8235294117647,39.21568627450981,39.6078431372549,40.0,40.3921568627451,40.78431372549019,41.1764705882353,41.568627450980394,41.96078431372549,42.35294117647059,42.745098039215684,43.13725490196079,43.529411764705884,43.92156862745098,44.31372549019608,44.705882352941174,45.09803921568628,45.490196078431374,45.88235294117647,46.27450980392157,46.666666666666664,47.05882352941177,47.450980392156865,47.84313725490196,48.23529411764706,48.627450980392155,49.01960784313726,49.411764705882355,49.80392156862745,50.19607843137255,50.588235294117645,50.98039215686274,51.372549019607845,51.76470588235294,52.15686274509804,52.549019607843135,52.94117647058823,53.333333333333336,53.72549019607843,54.11764705882353,54.509803921568626,54.90196078431372,55.294117647058826,55.68627450980392,56.07843137254902,56.470588235294116,56.86274509803921,57.254901960784316,57.64705882352941,58.03921568627451,58.431372549019606,58.8235294117647,59.21568627450981,59.6078431372549,60.0]},{\"showlegend\":true,\"mode\":\"lines\",\"xaxis\":\"x\",\"colorbar\":{\"title\":\"\"},\"line\":{\"color\":\"rgba(255, 0, 0, 1.000)\",\"width\":1,\"dash\":\"solid\",\"shape\":\"linear\"},\"y\":[0.0,0.0,0.0,0.0,0.0,0.0,0.0,0.0,0.0,0.0,0.0,0.0,0.0,0.0,0.0,0.0,0.0,0.0,0.0,0.0,0.0,0.0,0.0,0.0,0.0,0.0,0.0,0.0,0.0,0.0,0.0,0.0,0.0,0.0,0.0,0.0,0.0,0.0,0.0,0.0,0.0,0.0,0.0,0.0,0.0,0.0,0.0,0.0,0.0,0.0,0.0,0.011240659739456219,0.04325601218944574,0.0911432887923367,0.1472642394587313,0.20223224987924807,0.2468918291419737,0.27466416419560136,0.28279100538888974,0.27175182797368175,0.243796059070638,0.20216786950313148,0.15153846618438996,0.09868490775011621,0.05206493669705476,0.019952360755248297,0.008194997957597282,0.018942770404092188,0.05060629605212808,0.09830954603488468,0.15439548471088302,0.20944057234411417,0.25425556407973526,0.2822479587765154,0.29067266698034894,0.2800320879967279,0.2525680934623424,0.21145113330350201,0.16121740939564033,0.10850543294410862,0.061711125975495947,0.029166659337289978,0.016867087530142814,0.027117977176384367,0.058428454389381476,0.10594948440579015,0.16200212294005437,0.2171218997341385,0.26208385419189545,0.290283492059129,0.29899368322683995,0.2887454023564653,0.26177681792522106,0.22118484256087526,0.1713667630729941,0.11881592044174372,0.07186015895569788,0.03888751821077781,0.02604281561200201,0.03579262483758603,0.06674879225718007,0.11408964073374868,0.1701110720903406,0.22530340503091575,0.27040375248415044,0.29879727588308636,0.30777981375192137,0.3160669494125939,0.3061510253214383,0.2803008552390729,0.24141853757732185,0.1935185322554888,0.1426481952052823,0.09679932839725175,0.0642586494295178,0.05129134636166946,0.06056831811408165,0.09084214363928414,0.13731746288109153,0.192261687083912,0.24618938730544865,0.2899914509539452,0.31733196466595365,0.32582468716309915,0.31626760944201643,0.29093987413402855,0.25266713748064334,0.20530526712222824,0.15472591411464026,0.10882266652195471,0.07592076866199533,0.06243608519092019,0.07121344374554256,0.10112005657365875,0.14738957576285805,0.20225656112164891,0.25618264991170964,0.3000237552586276,0.32745174645402053,0.3361316406090765,0.3269231971057073,0.3021212353357143,0.2644755105062028,0.22494271874395544,0.17592299626928226,0.12370011601342978,0.07645569450714607,0.04259449806579311,0.028439263353354914,0.03670889144662122,0.07741252717183017,0.15561108406386517,0.2594323116044016,0.3731148890390189],\"type\":\"scatter\",\"name\":\"Particle y velocity\",\"yaxis\":\"y\",\"x\":[0.0,0.39215686274509803,0.7843137254901961,1.1764705882352942,1.5686274509803921,1.9607843137254901,2.3529411764705883,2.7450980392156863,3.1372549019607843,3.5294117647058822,3.9215686274509802,4.313725490196078,4.705882352941177,5.098039215686274,5.490196078431373,5.882352941176471,6.2745098039215685,6.666666666666667,7.0588235294117645,7.450980392156863,7.8431372549019605,8.235294117647058,8.627450980392156,9.019607843137255,9.411764705882353,9.803921568627452,10.196078431372548,10.588235294117647,10.980392156862745,11.372549019607844,11.764705882352942,12.156862745098039,12.549019607843137,12.941176470588236,13.333333333333334,13.72549019607843,14.117647058823529,14.509803921568627,14.901960784313726,15.294117647058824,15.686274509803921,16.07843137254902,16.470588235294116,16.862745098039216,17.254901960784313,17.647058823529413,18.03921568627451,18.431372549019606,18.823529411764707,19.215686274509803,19.607843137254903,20.0,20.392156862745097,20.784313725490197,21.176470588235293,21.568627450980394,21.96078431372549,22.352941176470587,22.745098039215687,23.137254901960784,23.529411764705884,23.92156862745098,24.313725490196077,24.705882352941178,25.098039215686274,25.49019607843137,25.88235294117647,26.274509803921568,26.666666666666668,27.058823529411764,27.45098039215686,27.84313725490196,28.235294117647058,28.627450980392158,29.019607843137255,29.41176470588235,29.80392156862745,30.19607843137255,30.58823529411765,30.980392156862745,31.372549019607842,31.764705882352942,32.15686274509804,32.549019607843135,32.94117647058823,33.333333333333336,33.72549019607843,34.11764705882353,34.509803921568626,34.90196078431372,35.294117647058826,35.68627450980392,36.07843137254902,36.470588235294116,36.86274509803921,37.254901960784316,37.64705882352941,38.03921568627451,38.431372549019606,38.8235294117647,39.21568627450981,39.6078431372549,40.0,40.3921568627451,40.78431372549019,41.1764705882353,41.568627450980394,41.96078431372549,42.35294117647059,42.745098039215684,43.13725490196079,43.529411764705884,43.92156862745098,44.31372549019608,44.705882352941174,45.09803921568628,45.490196078431374,45.88235294117647,46.27450980392157,46.666666666666664,47.05882352941177,47.450980392156865,47.84313725490196,48.23529411764706,48.627450980392155,49.01960784313726,49.411764705882355,49.80392156862745,50.19607843137255,50.588235294117645,50.98039215686274,51.372549019607845,51.76470588235294,52.15686274509804,52.549019607843135,52.94117647058823,53.333333333333336,53.72549019607843,54.11764705882353,54.509803921568626,54.90196078431372,55.294117647058826,55.68627450980392,56.07843137254902,56.470588235294116,56.86274509803921,57.254901960784316,57.64705882352941,58.03921568627451,58.431372549019606,58.8235294117647,59.21568627450981,59.6078431372549,60.0]}],\n",
       "               {\"showlegend\":true,\"xaxis\":{\"showticklabels\":true,\"gridwidth\":0.5,\"tickvals\":[0.0,10.0,20.0,30.0,40.0,50.0,60.0],\"visible\":true,\"ticks\":\"inside\",\"range\":[0.0,60.0],\"domain\":[0.07646908719743364,0.9934383202099737],\"tickmode\":\"array\",\"linecolor\":\"rgba(0, 0, 0, 1.000)\",\"showgrid\":true,\"title\":\"time\",\"mirror\":false,\"tickangle\":0,\"showline\":true,\"gridcolor\":\"rgba(0, 0, 0, 0.100)\",\"titlefont\":{\"color\":\"rgba(0, 0, 0, 1.000)\",\"family\":\"sans-serif\",\"size\":15},\"tickcolor\":\"rgb(0, 0, 0)\",\"ticktext\":[\"0\",\"10\",\"20\",\"30\",\"40\",\"50\",\"60\"],\"zeroline\":false,\"type\":\"-\",\"tickfont\":{\"color\":\"rgba(0, 0, 0, 1.000)\",\"family\":\"sans-serif\",\"size\":11},\"zerolinecolor\":\"rgba(0, 0, 0, 1.000)\",\"anchor\":\"y\"},\"paper_bgcolor\":\"rgba(255, 255, 255, 1.000)\",\"annotations\":[],\"height\":400,\"margin\":{\"l\":0,\"b\":20,\"r\":0,\"t\":20},\"plot_bgcolor\":\"rgba(255, 255, 255, 1.000)\",\"yaxis\":{\"showticklabels\":true,\"gridwidth\":0.5,\"tickvals\":[0.0,0.1,0.2,0.30000000000000004],\"visible\":true,\"ticks\":\"inside\",\"range\":[-0.004766546455447503,0.3731148890390189],\"domain\":[0.07581474190726165,0.9901574803149606],\"tickmode\":\"array\",\"linecolor\":\"rgba(0, 0, 0, 1.000)\",\"showgrid\":true,\"title\":\"Velocity\",\"mirror\":false,\"tickangle\":0,\"showline\":true,\"gridcolor\":\"rgba(0, 0, 0, 0.100)\",\"titlefont\":{\"color\":\"rgba(0, 0, 0, 1.000)\",\"family\":\"sans-serif\",\"size\":15},\"tickcolor\":\"rgb(0, 0, 0)\",\"ticktext\":[\"0.0\",\"0.1\",\"0.2\",\"0.3\"],\"zeroline\":false,\"type\":\"-\",\"tickfont\":{\"color\":\"rgba(0, 0, 0, 1.000)\",\"family\":\"sans-serif\",\"size\":11},\"zerolinecolor\":\"rgba(0, 0, 0, 1.000)\",\"anchor\":\"x\"},\"legend\":{\"bordercolor\":\"rgba(0, 0, 0, 1.000)\",\"bgcolor\":\"rgba(255, 255, 255, 1.000)\",\"font\":{\"color\":\"rgba(0, 0, 0, 1.000)\",\"family\":\"sans-serif\",\"size\":11},\"y\":1.0,\"x\":1.0},\"width\":600}, {showLink: false});\n",
       "\n",
       "    });\n",
       " </script>\n"
      ]
     },
     "execution_count": 7,
     "metadata": {},
     "output_type": "execute_result"
    }
   ],
   "source": [
    "#Plot the answers\n",
    "using Plots\n",
    "plotlyjs()\n",
    "plot(t_plot, part_vx, c=:blue, label=\"Particle x velocity\",xlab=\"time\",ylab=\"Velocity\")\n",
    "plot!(t_plot, part_vy, c=:red, label=\"Particle y velocity\")"
   ]
  },
  {
   "cell_type": "code",
   "execution_count": 8,
   "metadata": {},
   "outputs": [
    {
     "data": {
      "text/html": [
       "<div id=\"c8683b6a-8191-4530-8589-a88a9e67452b\" class=\"plotly-graph-div\"></div>\n",
       "\n",
       "<script>\n",
       "    window.PLOTLYENV=window.PLOTLYENV || {};\n",
       "    window.PLOTLYENV.BASE_URL=\"https://plot.ly\";\n",
       "    require(['plotly'], function(Plotly) {\n",
       "        Plotly.newPlot('c8683b6a-8191-4530-8589-a88a9e67452b', [{\"showlegend\":true,\"mode\":\"lines\",\"xaxis\":\"x\",\"colorbar\":{\"title\":\"\"},\"line\":{\"color\":\"rgba(0, 0, 255, 1.000)\",\"width\":1,\"dash\":\"solid\",\"shape\":\"linear\"},\"y\":[0.0,0.0,0.0,0.0,0.0,0.0,0.0,0.0,0.0,0.0,0.0,0.0,0.0,0.0,0.0,0.0,0.0,0.0,0.0,0.0,0.0,0.0,0.0,0.0,0.0,0.0,0.0,0.0,0.0,0.0,0.0,0.0,0.0,0.0,0.0,0.0,0.0,0.0,0.0,0.0,0.0,0.0,0.0,0.0,0.0,0.0,0.0,0.0,0.0,0.0,0.0,0.19109121557075573,0.5442609916498219,0.8147976840074966,0.9616267319233167,0.9624556375050827,0.8171585511597019,0.5477953788599638,0.19526251022334234,-0.18691632533445046,-0.5407163635923733,-0.8124214855734325,-0.9607797323155622,-0.9632664334641231,-0.8195040426078312,-0.5513194587195578,-0.19943013080487973,0.18273791806941228,0.5371615613835534,0.8100300005682032,0.959914654619015,0.9640591045444525,0.8218341142189767,0.5548331649193066,0.20359399889717086,-0.17855607239680016,-0.5335966519107306,-0.8076232739901311,-0.9590315151110279,-0.9648336358311249,-0.8241487221503723,-0.5583364313451049,-0.20775403615262525,0.17437086700247245,0.5300217022514551,0.8052013511243281,0.9581303304088068,0.9655900127505135,0.8264478228502176,0.5618291920792833,0.21191016429573428,-0.17018238063550278,-0.5264367796721917,-0.8027642775418375,-0.9572111174690959,-0.9663282210705859,-0.8287313730585006,-0.5653113814018551,-0.21606230512455382,0.16599069210668785,0.5228419516270473,0.8003120990987762,0.9562738935878596,0.9670482469011707,0.8309993298078033,0.5687829337917338,0.22021038051214564,0.22021038051214564,-0.1617958802871012,-0.5192372857565318,-0.7978448619354864,-0.9553186763999602,-0.9677500766942173,-0.833251650424113,-0.5722437839279789,-0.22435431240807305,0.15759802410657323,0.5156228498862536,0.7953626124756501,0.9543454838788213,0.9684336972440547,0.8354882925276306,0.5756938666910277,0.22849402283986622,-0.1533972025522164,-0.511998712025654,-0.7928653974254212,-0.9533543343360916,-0.9690990956876375,-0.8377092140335642,-0.5791331171639168,-0.2326294339144865,0.1491934946669399,0.5083649403667281,0.7903532637725492,0.952345246421301,0.9697462595047885,0.839914373152921,0.5825614706335014,0.23676046781978896,-0.14498697954796558,-0.5047216032827395,-0.7878262587854867,-0.7878262587854867,-0.9513182391215063,-0.970375176518436,-0.8421037283932988,-0.5859788625916835,-0.2408870468259997,0.14077773634532625,0.6921599848976906,1.329545421662334,1.7650710157684353,1.932612566818155],\"type\":\"scatter\",\"name\":\"Electric field at particle position\",\"yaxis\":\"y\",\"x\":[0.0,0.39215686274509803,0.7843137254901961,1.1764705882352942,1.5686274509803921,1.9607843137254901,2.3529411764705883,2.7450980392156863,3.1372549019607843,3.5294117647058822,3.9215686274509802,4.313725490196078,4.705882352941177,5.098039215686274,5.490196078431373,5.882352941176471,6.2745098039215685,6.666666666666667,7.0588235294117645,7.450980392156863,7.8431372549019605,8.235294117647058,8.627450980392156,9.019607843137255,9.411764705882353,9.803921568627452,10.196078431372548,10.588235294117647,10.980392156862745,11.372549019607844,11.764705882352942,12.156862745098039,12.549019607843137,12.941176470588236,13.333333333333334,13.72549019607843,14.117647058823529,14.509803921568627,14.901960784313726,15.294117647058824,15.686274509803921,16.07843137254902,16.470588235294116,16.862745098039216,17.254901960784313,17.647058823529413,18.03921568627451,18.431372549019606,18.823529411764707,19.215686274509803,19.607843137254903,20.0,20.392156862745097,20.784313725490197,21.176470588235293,21.568627450980394,21.96078431372549,22.352941176470587,22.745098039215687,23.137254901960784,23.529411764705884,23.92156862745098,24.313725490196077,24.705882352941178,25.098039215686274,25.49019607843137,25.88235294117647,26.274509803921568,26.666666666666668,27.058823529411764,27.45098039215686,27.84313725490196,28.235294117647058,28.627450980392158,29.019607843137255,29.41176470588235,29.80392156862745,30.19607843137255,30.58823529411765,30.980392156862745,31.372549019607842,31.764705882352942,32.15686274509804,32.549019607843135,32.94117647058823,33.333333333333336,33.72549019607843,34.11764705882353,34.509803921568626,34.90196078431372,35.294117647058826,35.68627450980392,36.07843137254902,36.470588235294116,36.86274509803921,37.254901960784316,37.64705882352941,38.03921568627451,38.431372549019606,38.8235294117647,39.21568627450981,39.6078431372549,40.0,40.3921568627451,40.78431372549019,41.1764705882353,41.568627450980394,41.96078431372549,42.35294117647059,42.745098039215684,43.13725490196079,43.529411764705884,43.92156862745098,44.31372549019608,44.705882352941174,45.09803921568628,45.490196078431374,45.88235294117647,46.27450980392157,46.666666666666664,47.05882352941177,47.450980392156865,47.84313725490196,48.23529411764706,48.627450980392155,49.01960784313726,49.411764705882355,49.80392156862745,50.19607843137255,50.588235294117645,50.98039215686274,51.372549019607845,51.76470588235294,52.15686274509804,52.549019607843135,52.94117647058823,53.333333333333336,53.72549019607843,54.11764705882353,54.509803921568626,54.90196078431372,55.294117647058826,55.68627450980392,56.07843137254902,56.470588235294116,56.86274509803921,57.254901960784316,57.64705882352941,58.03921568627451,58.431372549019606,58.8235294117647,59.21568627450981,59.6078431372549,60.0]},{\"showlegend\":true,\"mode\":\"lines\",\"xaxis\":\"x\",\"colorbar\":{\"title\":\"\"},\"line\":{\"color\":\"rgba(255, 0, 0, 1.000)\",\"width\":1,\"dash\":\"solid\",\"shape\":\"linear\"},\"y\":[0.0,0.0,0.0,0.0,0.0,0.0,0.0,0.0,0.0,0.0,0.0,0.0,0.0,0.0,0.0,0.0,0.0,0.0,0.0,0.0,0.0,0.0,0.0,0.0,0.0,0.0,0.0,0.0,0.0,0.0,0.0,0.0,0.0,0.0,0.0,0.0,0.0,0.0,0.0,0.0,0.0,0.0,0.0,0.0,0.0,0.0,0.0,0.0,0.0,0.0,0.0,0.0,0.38218243114151146,0.7063395521581323,0.9232558158568609,0.9999976479897725,0.9249136270203928,0.709403475299011,0.3861872824209165,0.004337738025768201,-0.3781703886946691,-0.7032623384900776,-0.9215806326567875,-0.999978831974337,-0.9265540349539092,-0.7124540502617531,-0.39018486717736245,-0.00867539443239701,0.37415123057122157,0.7001718921958853,0.9198881089405211,0.999941200297509,0.9281770087913961,0.7154912196465573,0.39417511019205587,0.01301288760228586,-0.3701250323958862,-0.6970682714255749,-0.9181782765546873,-0.9998847536673685,-0.9297825179948813,-0.7185149263058632,-0.3981579363843466,-0.017350135920903897,0.3660918699258488,0.6939515345770613,0.916451167671595,0.9998094931460186,0.9313705323550083,0.7215251133454268,0.4021332708131397,0.021687057778328855,-0.3620518190493344,-0.690821740295049,-0.9147068147886261,-0.9997154201495657,-0.9329410219916061,-0.7245217241253952,-0.40610103867831504,-0.026023571570792603,0.3580049557841683,0.6876789474699262,0.9129452507276262,0.999602536448093,0.9344939573542483,0.7275047022613583,0.41006116532210934,0.41006116532210934,0.03035959570218194,-0.35395135627638435,-0.6845232152366794,-0.9111665086342935,-0.9994708441656268,-0.9360293092228078,-0.7304739916254182,-0.4140135762305397,-0.0346950485856064,0.34989109679875285,0.6813546029737545,0.9093706219775457,0.999320345780097,0.9375470487080124,0.7334295363472487,0.41795819703480674,0.0390298486449257,-0.3458242537493585,-0.6781731703019493,-0.907557624548893,-0.9991510441232903,-0.9390471472519848,-0.7363712808151437,-0.4218949535126899,-0.043363914316283114,0.3417509036501629,0.6749789770832932,0.9057275504618052,0.9989629423807969,0.9405295766287802,0.7392991696770617,0.4258237715899411,0.04769716404963681,-0.33767112314556796,-0.6717720834199111,-0.6717720834199111,-0.9038804341510625,-0.9987560440919501,-0.9419943089449219,-0.7422131478416758,-0.42974457734169125,-0.052029516310308166,-0.04859744214055117,-0.037787002505221934,-0.0212395054847464,-0.0014672948400090702],\"type\":\"scatter\",\"name\":\"Magnetic field at particle position\",\"yaxis\":\"y\",\"x\":[0.0,0.39215686274509803,0.7843137254901961,1.1764705882352942,1.5686274509803921,1.9607843137254901,2.3529411764705883,2.7450980392156863,3.1372549019607843,3.5294117647058822,3.9215686274509802,4.313725490196078,4.705882352941177,5.098039215686274,5.490196078431373,5.882352941176471,6.2745098039215685,6.666666666666667,7.0588235294117645,7.450980392156863,7.8431372549019605,8.235294117647058,8.627450980392156,9.019607843137255,9.411764705882353,9.803921568627452,10.196078431372548,10.588235294117647,10.980392156862745,11.372549019607844,11.764705882352942,12.156862745098039,12.549019607843137,12.941176470588236,13.333333333333334,13.72549019607843,14.117647058823529,14.509803921568627,14.901960784313726,15.294117647058824,15.686274509803921,16.07843137254902,16.470588235294116,16.862745098039216,17.254901960784313,17.647058823529413,18.03921568627451,18.431372549019606,18.823529411764707,19.215686274509803,19.607843137254903,20.0,20.392156862745097,20.784313725490197,21.176470588235293,21.568627450980394,21.96078431372549,22.352941176470587,22.745098039215687,23.137254901960784,23.529411764705884,23.92156862745098,24.313725490196077,24.705882352941178,25.098039215686274,25.49019607843137,25.88235294117647,26.274509803921568,26.666666666666668,27.058823529411764,27.45098039215686,27.84313725490196,28.235294117647058,28.627450980392158,29.019607843137255,29.41176470588235,29.80392156862745,30.19607843137255,30.58823529411765,30.980392156862745,31.372549019607842,31.764705882352942,32.15686274509804,32.549019607843135,32.94117647058823,33.333333333333336,33.72549019607843,34.11764705882353,34.509803921568626,34.90196078431372,35.294117647058826,35.68627450980392,36.07843137254902,36.470588235294116,36.86274509803921,37.254901960784316,37.64705882352941,38.03921568627451,38.431372549019606,38.8235294117647,39.21568627450981,39.6078431372549,40.0,40.3921568627451,40.78431372549019,41.1764705882353,41.568627450980394,41.96078431372549,42.35294117647059,42.745098039215684,43.13725490196079,43.529411764705884,43.92156862745098,44.31372549019608,44.705882352941174,45.09803921568628,45.490196078431374,45.88235294117647,46.27450980392157,46.666666666666664,47.05882352941177,47.450980392156865,47.84313725490196,48.23529411764706,48.627450980392155,49.01960784313726,49.411764705882355,49.80392156862745,50.19607843137255,50.588235294117645,50.98039215686274,51.372549019607845,51.76470588235294,52.15686274509804,52.549019607843135,52.94117647058823,53.333333333333336,53.72549019607843,54.11764705882353,54.509803921568626,54.90196078431372,55.294117647058826,55.68627450980392,56.07843137254902,56.470588235294116,56.86274509803921,57.254901960784316,57.64705882352941,58.03921568627451,58.431372549019606,58.8235294117647,59.21568627450981,59.6078431372549,60.0]}],\n",
       "               {\"showlegend\":true,\"xaxis\":{\"showticklabels\":true,\"gridwidth\":0.5,\"tickvals\":[0.0,10.0,20.0,30.0,40.0,50.0,60.0],\"visible\":true,\"ticks\":\"inside\",\"range\":[0.0,60.0],\"domain\":[0.09128390201224845,0.9934383202099738],\"tickmode\":\"array\",\"linecolor\":\"rgba(0, 0, 0, 1.000)\",\"showgrid\":true,\"title\":\"time\",\"mirror\":false,\"tickangle\":0,\"showline\":true,\"gridcolor\":\"rgba(0, 0, 0, 0.100)\",\"titlefont\":{\"color\":\"rgba(0, 0, 0, 1.000)\",\"family\":\"sans-serif\",\"size\":15},\"tickcolor\":\"rgb(0, 0, 0)\",\"ticktext\":[\"0\",\"10\",\"20\",\"30\",\"40\",\"50\",\"60\"],\"zeroline\":false,\"type\":\"-\",\"tickfont\":{\"color\":\"rgba(0, 0, 0, 1.000)\",\"family\":\"sans-serif\",\"size\":11},\"zerolinecolor\":\"rgba(0, 0, 0, 1.000)\",\"anchor\":\"y\"},\"paper_bgcolor\":\"rgba(255, 255, 255, 1.000)\",\"annotations\":[],\"height\":400,\"margin\":{\"l\":0,\"b\":20,\"r\":0,\"t\":20},\"plot_bgcolor\":\"rgba(255, 255, 255, 1.000)\",\"yaxis\":{\"showticklabels\":true,\"gridwidth\":0.5,\"tickvals\":[-0.5,0.0,0.5,1.0,1.5],\"visible\":true,\"ticks\":\"inside\",\"range\":[-0.999978831974337,1.932612566818155],\"domain\":[0.07581474190726165,0.9901574803149606],\"tickmode\":\"array\",\"linecolor\":\"rgba(0, 0, 0, 1.000)\",\"showgrid\":true,\"title\":\"E or B\",\"mirror\":false,\"tickangle\":0,\"showline\":true,\"gridcolor\":\"rgba(0, 0, 0, 0.100)\",\"titlefont\":{\"color\":\"rgba(0, 0, 0, 1.000)\",\"family\":\"sans-serif\",\"size\":15},\"tickcolor\":\"rgb(0, 0, 0)\",\"ticktext\":[\"-0.5\",\"0.0\",\"0.5\",\"1.0\",\"1.5\"],\"zeroline\":false,\"type\":\"-\",\"tickfont\":{\"color\":\"rgba(0, 0, 0, 1.000)\",\"family\":\"sans-serif\",\"size\":11},\"zerolinecolor\":\"rgba(0, 0, 0, 1.000)\",\"anchor\":\"x\"},\"legend\":{\"bordercolor\":\"rgba(0, 0, 0, 1.000)\",\"bgcolor\":\"rgba(255, 255, 255, 1.000)\",\"font\":{\"color\":\"rgba(0, 0, 0, 1.000)\",\"family\":\"sans-serif\",\"size\":11},\"y\":1.0,\"x\":1.0},\"width\":600}, {showLink: false});\n",
       "\n",
       "    });\n",
       " </script>\n"
      ]
     },
     "execution_count": 8,
     "metadata": {},
     "output_type": "execute_result"
    }
   ],
   "source": [
    "#Plot the answers\n",
    "using Plots\n",
    "plotlyjs()\n",
    "plot(t_plot, part_Ey, c=:blue, label=\"Electric field at particle position\",xlab=\"time\",ylab=\"E or B\")\n",
    "plot!(t_plot, part_Bz, c=:red, label=\"Magnetic field at particle position\")"
   ]
  },
  {
   "cell_type": "markdown",
   "metadata": {},
   "source": [
    "# Adding current"
   ]
  },
  {
   "cell_type": "markdown",
   "metadata": {},
   "source": [
    "What we have described so far is actually a real type of code, called a \"test particle code\". Particles are moved in electric and magnetic fields but don't change the fields by their motion. To add this feedback, you simply add back in the current $\\mathbf{J}$ term in Ampere's law. You then calculate the current by calculating $q \\mathbf{v}$ for each particle and adding them together (this is another one of those things that no-one does but almost works).\n",
    "\n",
    "At this point you have two problems.\n",
    "\n",
    "### Particle to grid\n",
    "The first and in some senses simplest problem is that the current is calculated at the particle position, but you want it on the grid with the E field in order to update Ampere's law. This is the reverse of the problem with getting the E and B fields to the particle location, and the solution is very similar. In fact, in order to get the right answer you can show that the function for moving data from the grid to the particle and the particle to the grid must be exact inverses of each other. This can be difficult to work out, especially with more complex functions, but conveniently the code tends to go very badly wrong if you do it incorrectly. (It sounds like I'm being sarcastic there, but there's nothing worse in computational physics than a subtle but important error. Something that fails dramatically and totally at least isn't leading you to do incorrect research.)\n",
    "\n",
    "### Noise and convergence\n",
    "This is the bigger problem. In a real code with current feedback on the fields, one particle is useless (even in a test particle code you generally want more than one particle just in case you put your one particle somewhere that gives an atypical answer). You would like to simulate every particle in your plasma, but that is effectively impossible - no computer even close to large enough to do that for any interesting plasma has yet been built. So you have to use a smaller number of particles and have each one \"pretend\" to represent a larger number of real particles. This isn't a bad model - particles that are near each other will tend to experience similar forces so will tend to wind up in similar places and assuming that they wind up in *exactly the same place* isn't untenable. But it is only a \"tends to\". If you don't have enough particles then you can get a variety of problems.\n",
    "\n",
    "1) Your solution is noiser. Because of thermal fluctuations you only know the state of the plasma particles in a statistical way - there is inherant noise due to Brownian motion etc. In a PIC code this noise level is increased since you have fewer particles\n",
    "\n",
    "2) Nearby particles only \"tend to\" experience similar forces. If there's small scale physics that means that nearby particles *should* experience different forces you might miss it. You can improve this by increasing the resolution of your simulation grid (PIC codes obviously smooth forces over the scale of the grid because the $E$ and $B$ fields can't have structure smaller than the grid), and you can also increase the number of particles.\n",
    "\n",
    "3) The opposite problem. You can, by chance, have a particle that is in *just the right place to have something interesting happen to it*. In reality only a tiny number of particles would be in just that position, but because you are artificially linking them together you can get a massive overrepresentation of the effect. This can lead to you publishing an interesting result that doesn't actually happen. (This is very, very bad!)\n",
    "\n",
    "The solution to all of these problems is what's termed *convergence testing*. Formally all of these integrators have the properties of consitency and convergence. That means that if you were to take an infinitely fine space grid, and infinitely short timesteps and an infinite number of particles (this is actually wrong because there are actually a finite number of real particles, but ignore this here) you will get the \"right answer\". That is it will give exactly the answer from the equations that we are modelling. You can't do that, but you can increase the resolution. If the answer only changes by an acceptable amount (what's acceptable is very subject dependent. You can tolerate a much bigger error in astrophysics than when you're building a particle accelerator) then you have much more confidence that your answer is right.\n",
    "\n",
    "Take home message - ALWAYS CONVERGENCE TEST!"
   ]
  },
  {
   "cell_type": "markdown",
   "metadata": {},
   "source": [
    "# Working PIC"
   ]
  },
  {
   "cell_type": "markdown",
   "metadata": {},
   "source": [
    "So what can you do with an actual PIC code that's completed and working? Pretty much all of plasma physics (although you might need a very large computer to actually run it!). You can cover everything from basic plasma physics\n",
    "\n",
    "<img src=\"img/TwoStream.png\">\n",
    "\n",
    "that's a picture of the electron two stream instability. You start with two populations of electrons propagating in a 1D domain. One set are going rightwards with constant speed, the other are going leftwards with constant speed. The instability means that they wind up with both populations going in both directions with a wide range of speeds.\n",
    "\n",
    "<img src=\"img/EPOCH.jpg\">\n",
    "\n",
    "You can simulate a laser striking a solid target and boring a hole through it. A 3D simulation like this requires at least 100 computer processors to run in any reasonable time. The colours are the density of the plasma, you can see that just like the single particle above plasma is pulled through the target with the laser, being trapped in the troughs in the laser field.\n",
    "\n",
    "They are also widely used in astrophysics (although they tend to produce rather less interesting graphs)"
   ]
  },
  {
   "cell_type": "code",
   "execution_count": null,
   "metadata": {},
   "outputs": [],
   "source": []
  }
 ],
 "metadata": {
  "kernelspec": {
   "display_name": "Julia 0.6.2",
   "language": "julia",
   "name": "julia-0.6"
  },
  "language_info": {
   "file_extension": ".jl",
   "mimetype": "application/julia",
   "name": "julia",
   "version": "0.6.2"
  }
 },
 "nbformat": 4,
 "nbformat_minor": 2
}
