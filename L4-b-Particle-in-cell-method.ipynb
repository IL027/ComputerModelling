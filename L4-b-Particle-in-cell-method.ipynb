{
 "cells": [
  {
   "cell_type": "markdown",
   "metadata": {},
   "source": [
    "# Lecture 4 b - Computer simulations of Plasma Physics\n",
    "\n",
    "**Christopher Brady and Heather Ratcliffe**\n",
    "\n",
    "** Research Software Engineering / Physics **\n",
    "\n",
    "## Overview"
   ]
  },
  {
   "cell_type": "markdown",
   "metadata": {},
   "source": [
    "Computational plasma physics often involves large scale direct simulations. Direct simulation involves simulating low level equations that map directly to the underlying physics, rather than deriving simplified equations for a specific problem (such a looking at waves as we did in Part 1. To derive the waves you have to simplify the low level equations). This is very powerful and allows the simulation of arbitrary problems but is generally more computationally expensive. In this section we're going to very briefly introduce a type of code called the \"Particle in Cell\" or \"PIC\" simulation."
   ]
  },
  {
   "cell_type": "markdown",
   "metadata": {},
   "source": [
    "# New maths - cross product, divergence and curl"
   ]
  },
  {
   "cell_type": "markdown",
   "metadata": {},
   "source": [
    "## Cross product\n",
    "You should be familiar with the scalar or \"dot\" product. In this, you take two vectors you can combine them using a dot product \n",
    "\n",
    "$\\left(\\begin{array}{c}\n",
    "x_1\\\\\n",
    "y_1\\\\\n",
    "z_1\\\\\n",
    "\\end{array}\n",
    "\\right) . \\left(\\begin{array}{c}\n",
    "x_2\\\\\n",
    "y_2\\\\\n",
    "z_2\\\\\n",
    "\\end{array}\n",
    "\\right) = x_1x_2 + y_1y_2 + z_1z_2\n",
    "$\n",
    "\n",
    "There are in general many more ways of combining vectors, and to talk about EM you have to introduce another one - the cross or wedge product. This product combines two vectors into a further vector. The product vector is perpendicular to both of the source vectors. There are various ways of writing it, but in Cartesian co-ordinates you can write it as\n",
    "\n",
    "$\\left(\\begin{array}{c}\n",
    "x_1\\\\\n",
    "y_1\\\\\n",
    "z_1\\\\\n",
    "\\end{array}\n",
    "\\right) \\times \\left(\\begin{array}{c}\n",
    "x_2\\\\\n",
    "y_2\\\\\n",
    "z_2\\\\\n",
    "\\end{array}\n",
    "\\right) = \\left(\\begin{array}{c}\n",
    "y_1z_2 - z_1y_2\\\\\n",
    "z_1x_2 - x_1z_2\\\\\n",
    "x_1y_2 - y_1x_2\\\\\n",
    "\\end{array}\n",
    "\\right)\n",
    "$\n",
    "\n",
    "Note that the $x$ component of the product only include the $y$ and $z$ components of the sources, and similarly for the $y$ and $z$ components of the product.\n",
    "\n",
    "You will recall that for the dot product two vectors pointing in the same direction gives a maximum value and if they are perpendicular then the result is zero. The cross product is the other way around. The cross product of two parallel vectors is the zero vector and the cross product of two perpendicular vectors has the largest possible magnitude.\n",
    "\n",
    "There's more about the interpretation of the cross product at https://en.wikipedia.org/wiki/Cross_product#Geometric_meaning but you don't need it right now.\n",
    "\n",
    "## Nabla\n",
    "\n",
    "Now, a quick introduction to vector calculus! It isn't as bad as it sounds. Vector calculus is an extension to normal calculus that allows you to operate on vector fields. Here, we're only going to use two bits of differential vector calculus. It does use partial differentials, but for what we're looking at here there's a general rule that applies : a partial differential is calculated like a normal differential, but if you are calculating $\\partial f(x,y,z)/\\partial x$ you act as if $y$ and $z$ are constant. Similarly $\\partial f(x,y,z)/\\partial y$ requires that you hold $x$ and $z$ constant. So, as an example $\\partial (xyz)/\\partial y = xz$ and $\\partial (xz)/\\partial y = 0$ (equals zero here because $xz$ doesn't depend on y at all, so you're just differentiating a constant).\n",
    "\n",
    "This is important, because the vector calculus *operator* that we're going to work with is defined in terms of partial differentials. The operator is called *nabla*, or *del* and is written as $\\nabla$ (for those of you that use Latex, that calls is \\nabla). The definition of $\\nabla$ depends on the coordinate system that you want to use, but in Cartesian co-ordinates it's very simply defined as\n",
    "\n",
    "$\\nabla = \\left(\\begin{array}{c}\n",
    "\\frac{\\partial}{\\partial x}\\\\\n",
    "\\frac{\\partial}{\\partial y}\\\\\n",
    "\\frac{\\partial}{\\partial z}\\\\\n",
    "\\end{array}\n",
    "\\right)$\n",
    "\n",
    "This, as you can see, doesn't include any actual function that you are taking the derivatives of so it isn't complete. It is an *operator* that acts on other functions. There are several common uses, including\n",
    "\n",
    "### Grad operator\n",
    "\n",
    "$\\nabla f(x,y,z) = \\left(\\begin{array}{c}\n",
    "\\frac{\\partial f(x,y,z)}{\\partial x}\\\\\n",
    "\\frac{\\partial f(x,y,z)}{\\partial y}\\\\\n",
    "\\frac{\\partial f(x,y,z)}{\\partial z}\\\\\n",
    "\\end{array}\n",
    "\\right)$\n",
    "\n",
    "called the *grad* operation. This is a vector extension of normal gradient operators and in some way represents the local gradient magnitude and direction. I'm not actually going to use grad here, but it's more familiar than the others.\n",
    "\n",
    "### Divergence operator\n",
    "\n",
    "$\\nabla . \\mathbf{f(x,y,z)} = \\frac{\\partial f_x(x,y,z)}{\\partial x} + \\frac{\\partial f_y(x,y,z)}{\\partial y} + \\frac{\\partial f_z(x,y,z)}{\\partial z}$\n",
    "\n",
    "where $\\mathbf{f(x,y,z)}$ is now a vector field and nabla acts on the components of the vector field. $.$ is the dot product used in the normal way, but where one of the \"vectors\" is the $\\nabla$ vector operator.\n",
    "\n",
    "This is called the *divergence* and is also sometimes written as $\\mathrm{div}(\\mathbf{f(x,y,z)})$. As the name suggests the divergence represents the tendency of a vector field to diverge away from a point (or converge towards it). It tends to be large at sources of sinks of a quantity (so plotting the divergence of the flow of water in a draining bath would show a maximum at the plughole)\n",
    "\n",
    "### Curl operator\n",
    "\n",
    "You can also do exactly the same thing with the cross product that I just introduced.\n",
    "\n",
    "$\\nabla \\times \\mathbf{f(x,y,z)} = \\left(\\begin{array}{c}\n",
    "\\frac{\\partial f_z(x,y,z)}{\\partial y} - \\frac{\\partial f_y(x,y,z)}{\\partial z}\\\\\n",
    "\\frac{\\partial f_x(x,y,z)}{\\partial z} - \\frac{\\partial f_z(x,y,z)}{\\partial x}\\\\\n",
    "\\frac{\\partial f_y(x,y,z)}{\\partial x} - \\frac{\\partial f_x(x,y,z)}{\\partial y}\\\\\n",
    "\\end{array}\n",
    "\\right)$\n",
    "\n",
    "where once again $\\mathbf{f(x,y,z)}$ is now a vector field and nabla acts on the components of the vector field. $\\times$ is the cross product used in the normal way, but where one of the \"vectors\" is the $\\nabla$ vector operator.\n",
    "\n",
    "This is called the *curl* and is also sometimes written as $\\mathrm{curl}(\\mathbf{f(x,y,z)})$. This one measures the amount of \"swirliness\" in a vector field. The curl produces a vector result just like the cross product does, so it has both a magnitude and direction. Going back to an emptying bathtub, the curl would also be a maximum at the plughole because the water swirls round as it empties. The direction will be either straight down the plughole or straight up out of it, depending on the direction that the water swirls as the bathtub empties (you can't predict this sadly because the direction of rotation is much more influenced by the design of the bath than the Coriolis force, no matter what the internet tries to tell you)"
   ]
  },
  {
   "cell_type": "markdown",
   "metadata": {},
   "source": [
    "# Particle in Cell simulations"
   ]
  },
  {
   "cell_type": "markdown",
   "metadata": {},
   "source": [
    "As we described earlier plasmas can be described in terms of charged particles moving in EM fields. So to simulate them fully you need\n",
    "\n",
    "1) Equations to describe the evolution of EM fields\n",
    "\n",
    "2) Equations to describe the force on a charged particle due to an EM field\n",
    "\n",
    "3) Equations to describe the electric current that moving charged particles create\n",
    "\n",
    "There are actually several ways of doing this, but one of the most widely used is the \"particle in cell\" approach. This works by having charged particles (as in the name) that are free to move anywhere in the region of space being simulated. Space is also split up into \"cells\" with the EM fields being solved on a fixed lattice of cells."
   ]
  },
  {
   "cell_type": "markdown",
   "metadata": {},
   "source": [
    "# 1) Maxwell's equations"
   ]
  },
  {
   "cell_type": "markdown",
   "metadata": {},
   "source": [
    "The equations that describe EM fields are called the *Maxwell Equations*. There are different versions of the Maxwell equations, but one of the simpler ones is\n",
    "\n",
    "$\\nabla . \\mathbf{E} = \\frac{\\rho}{\\epsilon_0}$\n",
    "\n",
    "Gauss's Law - Describes how an arrangement of charged particles, described by the charge density $\\rho$ will directly generate an electric field. Essentially this says that positive charge is a source of electric field and negative charge is a sink of electric field.\n",
    "\n",
    "$\\nabla . \\mathbf{B} = 0$ \n",
    "\n",
    "Gauss's Law for magnetism - Says that magnetic field cannot be created directly, only converted from electric field. This is related to the fact that if you cut a magnet in two, you wind up with two magnets each with it's own north pole and south pole rather than a single north pole and a single south pole. You can see this from the \"definition\" that I gave above of the divergence operator. If divergence = 0 everywhere then there can be no sources or sinks.\n",
    "\n",
    "$\\nabla \\times \\mathbf{E} = -\\frac{\\partial \\mathbf{B}}{\\partial t}$\n",
    "\n",
    "Faraday's law of induction - Says how time changing magnetic field can generate an electric field (c.f. generators. You spin a magnet to get a time varying magnetic field and you get an electric field in your wire in response)\n",
    "\n",
    "$\\nabla \\times \\mathbf{B} = \\frac{1}{c^2}\\frac{\\partial \\mathbf{E}}{\\partial t} + \\mu_0 \\mathbf{J}$\n",
    "\n",
    "Ampere's circuital law - Says how a time varying electric field can generate a magnetic field, and how an electric current ($\\mathbf{J}$) can also generate an electric field. Numerically $c$, the speed of light, is often set to 1. As mentioned in the first session this also means $\\epsilon_0=1$ and $\\mu_0 = 1$ since $c=1/\\sqrt{(\\epsilon_0\\mu_0)}$ (technically there's a whole family of solutions where $\\epsilon_0\\mu_0 = 1$ but everyone always uses $\\epsilon_0=1$ and $\\mu_0 = 1$)"
   ]
  },
  {
   "cell_type": "markdown",
   "metadata": {},
   "source": [
    "# 2) Equations of particle motion"
   ]
  },
  {
   "cell_type": "markdown",
   "metadata": {},
   "source": [
    "The equation that defines the motion of a particle in general is just Newton's equations of motion\n",
    "\n",
    "$\\mathbf{F} = m\\mathbf{a}\\\\\n",
    "\\mathbf{v} = \\int_0^t \\mathbf{a} dt\\\\\n",
    "\\mathbf{x} = \\int_0^t \\mathbf{v} dt$\n",
    "\n",
    "(if the particle is going fast enough then you have to include relativity, but we'll gloss over that here). So all that you need is an expression for the force on a charged particle in an EM field. This force is called the *Lorentz force* and is defined as\n",
    "\n",
    "$F_{Lorentz} = q(\\mathbf{E} + \\mathbf{v} \\times \\mathbf{B})$\n",
    "\n",
    "where $q$ is the charge on a particle, $\\mathbf{E}$ and $\\mathbf{B}$ are the electric and magnetic fields respectively and $\\mathbf{v}$ is the particle's velocity. $\\times$ is that cross product again. This means that an electric field accelerates a particle in the direction that the field points in, whereas a magnetic field bends a particle in a direction perpendicular to both the magnetic field itself and the direction that the particle is already moving in (a magnetic field does not affect a stationary particle, and in fact can only change the direction that a particle is moving in. It can't speed it up or slow it down). This means that a particle tends to move in a spiral in a magnetic field."
   ]
  },
  {
   "cell_type": "markdown",
   "metadata": {},
   "source": [
    "# 3) Current"
   ]
  },
  {
   "cell_type": "markdown",
   "metadata": {},
   "source": [
    "The current due to a set of moving charges is just $\\mathbf{J} = n q \\mathbf{v}$. Where $\\mathbf{J}$ is the current density, $n$ is the number density of the moving charges and $\\mathbf{v}$ is the velocity of the charges. We're not actually going to get to doing this here, but to calculate the current, you can just sum up the $q \\mathbf{v}$ for each particle."
   ]
  },
  {
   "cell_type": "markdown",
   "metadata": {},
   "source": [
    "# Simplications and 1.5D models"
   ]
  },
  {
   "cell_type": "markdown",
   "metadata": {},
   "source": [
    "Full 3D EM (and plasma EM) simulations do happen, but they are the preserve of large high performance computer systems. For something that you can run here, we're going to cut down to what's called a *1.5D* system. That sounds odd, but all that it means is that it's a 1D system in some senses and not in others. Specifically\n",
    "\n",
    "1) All vector fields still have all 3 components (so there's still $E_x$, $E_y$ and $E_z$)\n",
    "\n",
    "2) All derivatives not in the x direction are 0.\n",
    "\n",
    "For simplicity here, we're going to be even more specific. As already mentioned the fields in an EM wave are at 90 degrees to each other (in a vacuum at least). So fluctuations in $E_y$ only lead to fluctuations in $B_z$ and fluctuations in $E_z$ only lead to fluctuations in $B_y$ (you can confirm this from Maxwell's equations and my definition of curl above if you want). If you only have one wave you can always freely rotate your axes until your E field is pointing exactly along $E_y$. At which point, you only have to consider $E_y$ and $B_z$ which reduces the number of equations substantially.\n",
    "\n",
    "There is one further simplification that we can make. You'll notice that only two of Maxwell's equations include explicit time derivatives ($\\partial / \\partial t$). The other two are purely given in terms of the spatial $\\nabla$ derivative operator. That means that we can ignore those equations except when initially setting up our system. So long as our initial conditions satisfy them our answer will always satisfy them as we go forward in time. (Actually, numerically you could give an entire lecture course on making sure that this is true when you try to actually solve these equations, but you can do it).\n",
    "\n",
    "And for the very final simplification, we do use $c = \\epsilon_0 = \\mu_0 = 1$\n",
    "\n",
    "With these simplifications in place, we can write out the final equations that we need. First just for EM waves, and then for a plasma particle in an EM wave"
   ]
  },
  {
   "cell_type": "markdown",
   "metadata": {},
   "source": [
    "# EM solver"
   ]
  },
  {
   "cell_type": "markdown",
   "metadata": {},
   "source": [
    "The equations for the EM solver are now\n",
    "\n",
    "$\\frac{\\partial B_z}{\\partial t} = \\frac{\\partial E_y}{\\partial x}\\\\\n",
    " \\frac{\\partial E_y}{\\partial t} = \\frac{\\partial B_z}{\\partial x}$\n",
    " \n",
    "You can then use an integrator very like the Euler integrator that you've already seen to calculate both the time and space derivatives in these equations and solve for an EM wave. There are some very important differences, but they're too subtle to go into in this lecture (see https://en.wikipedia.org/wiki/Finite-difference_time-domain_method for details). In brief they are\n",
    "\n",
    "#### Space derivatives\n",
    "You calculate E field gradients using Ey[j+1] - Ey[j], but B using Bz[j]-Bz[j-1]. This is because E and B are not defined at quite the same point in space. (see https://upload.wikimedia.org/wikipedia/commons/1/1b/FDTD_Yee_grid_2d-3d.svg, they use $H$ instead of $B$, but the idea is the same). This is done for reasons of keeping the algorithm *stable*, i.e. ensuring that it gives the right answer rather than blowing up to insane values (try switching the two bits updating E to use E[j] - E[j-1] instead and you'll see that the answer becomes nonsense). Proving this requires the beginnings of an understanding of numerical analysis, so we'll skip it here.\n",
    "\n",
    "#### Time derivatives\n",
    "\n",
    "In this type of code, we often talk about *timesteps*. That is the interval of time between $t$ (the current time) and $t + \\Delta t$ (the time that we're trying to get the simulation to). I'll also mention a *half timestep* which is just the time $t + \\frac{\\Delta t}{2}$. For this EM simulation, we have the following algorithm\n",
    "\n",
    "1) You first advance B in time by $\\Delta t/2$ using E at the start of the current step\n",
    "\n",
    "2) You then time integrate E by $\\Delta t$ using B you just calculated in 1)\n",
    "\n",
    "3) You then time integrate B by another $\\Delta t/2$ using E as calculated in 2). This brings B to the same point in time as E\n",
    "\n",
    "The reasons for this are a bit simpler although still really beyond this lecture. Effectively what you're doing is calculating the value to integrate over at the centre of the integration period rather than at the start (when updating E you literally have B at the middle of the timestep from your first integration of B, and for B you are using an average of E at the start and the end of the timestep, so effectively in the middle). This is essentially equivalent to using the trapezium rule for integration rather than using the rectangle rule. This is explained a little more a bit further on.\n",
    "\n",
    "An example of the algorithm is given below\n"
   ]
  },
  {
   "cell_type": "code",
   "execution_count": 9,
   "metadata": {},
   "outputs": [],
   "source": [
    "#Set up parameters\n",
    "nx = 400 #Number of grid points\n",
    "L = 20.0 # Length of simulation domain\n",
    "t_end = 15.0 # Time to end the simulation at\n",
    "\n",
    "# Calculate spatial grid step\n",
    "dx = L/Float64(nx+2)\n",
    "x = linspace(0,nx+2,nx+2);\n",
    "x = x .* dx\n",
    "\n",
    "#Calculate the number of timesteps needed to obtain the required end time\n",
    "#Note that because this scales as dx (and hence number of gridpoints) the whole code\n",
    "#Scales as dx^2\n",
    "dt = dx\n",
    "nsnap = round(Int32, t_end/dt)\n",
    "\n",
    "#Create arrays\n",
    "Ey=zeros(nx+2)\n",
    "Ey[:]=0.0\n",
    "Bz=zeros(nx+2)\n",
    "Bz[:] = 0.0\n",
    "\n",
    "#Time starts at 0\n",
    "time = 0.0\n",
    "\n",
    "#Loop for enough cycles to reach the end of the simulation\n",
    "for i in 1:nsnap\n",
    "    \n",
    "    #Update the magnetic field by half a timestep\n",
    "    for j in 2:nx+1\n",
    "        Bz[j] = Bz[j] - dt/2.0 * (Ey[j+1]-Ey[j])/dx\n",
    "    end\n",
    "    Bz[1] = sin(time) # Drive the boundary with a sine wave\n",
    "    Bz[nx+2] = Bz[nx+1] #Set the outer boundary to be continuous. Prevent sharp gradients\n",
    "    \n",
    "    #Update the electric field by a full timestep\n",
    "    for j in 2:nx+1\n",
    "        Ey[j] = Ey[j] - dt * (Bz[j]-Bz[j-1])/dx\n",
    "    end\n",
    "    Ey[1] = Ey[2] #Set the outer boundary on both edges to be continuous\n",
    "    Ey[nx+2] = Ey[nx+1]\n",
    "\n",
    "    #Update the magnetic field by the other half timestep\n",
    "    for j in 2:nx+1\n",
    "        Bz[j] = Bz[j] - dt/2.0 * (Ey[j+1]-Ey[j])/dx\n",
    "    end\n",
    "    Bz[1] = sin(time) #Driver again\n",
    "    Bz[nx+2] = Bz[nx+1]\n",
    "    \n",
    "    time = time + dt\n",
    "end"
   ]
  },
  {
   "cell_type": "code",
   "execution_count": 15,
   "metadata": {},
   "outputs": [
    {
     "data": {
      "text/html": [
       "<div id=\"1da4c2fc-8b82-49e1-97e8-ae01db45fca3\" class=\"plotly-graph-div\"></div>\n",
       "\n",
       "<script>\n",
       "    window.PLOTLYENV=window.PLOTLYENV || {};\n",
       "    window.PLOTLYENV.BASE_URL=\"https://plot.ly\";\n",
       "    require(['plotly'], function(Plotly) {\n",
       "        Plotly.newPlot('1da4c2fc-8b82-49e1-97e8-ae01db45fca3', [{\"showlegend\":true,\"mode\":\"lines\",\"xaxis\":\"x\",\"colorbar\":{\"title\":\"\"},\"line\":{\"color\":\"rgba(0, 0, 255, 1.000)\",\"width\":1,\"dash\":\"solid\",\"shape\":\"linear\"},\"y\":[0.08232400791891109,0.08232400791891109,0.4569596948091752,0.76221692302283,0.9517496444643168,0.9967818243284555,0.8904763974094699,0.6489733138000661,0.3089390714360535,-0.07800021932652076,-0.45309703239405175,-0.7594018401807396,-0.9504095445545708,-0.997120169641639,-0.8924418182589433,-0.6522674077868076,-0.3130617087540166,0.07367496307734789,0.44922584447812075,0.7565724683882951,0.9490515616821036,0.997439753082191,0.8943904468698933,0.6555492286710695,0.31717845548418067,-0.06934832055567183,-0.4453462039018853,-0.7537288608831244,-0.9476757213988015,-0.9977405686368103,-0.8963222465768076,-0.6588187147019141,-0.3212892341655936,0.06502037317185694,0.44145818366489387,0.750871071170716,0.9462820495925576,0.9980226106453342,0.8982371810308277,0.6620758043604972,0.3253939674495981,-0.060691202360818985,-0.43756185692436733,-0.7479991530234125,-0.9448705724867836,-0.9982858738008424,-0.9001352142004324,-0.6653204363612251,-0.3294925781012882,0.43854332072200686,1.1399968491519528,1.668368976336259,1.9434389646296868,1.9234439801701564,1.6114197856711248,1.0547398320738293,0.3379227270267246,-0.4301999050049735,-1.133006915831774,-1.6637937804984584,-1.9419731409192622,-1.9253100790458562,-1.6163344844128171,-1.0619569505972712,-0.34634651757796703,0.42184839462086077,1.1259956637858237,1.6591872786175854,1.9404707769262848,1.927139951172197,1.6212187701083582,1.0691540872753529,0.35476379125244467,-0.4134889467121655,-1.1189632249382693,-1.6545495573698268,-1.938931900919357,-1.9289335621181682,-1.6260725508547593,-1.076331106686293,-0.36317438967026444,0.40512171857077584,1.1119097316118653,1.649880704018846,1.9373565418540284,1.9306908781351069,1.6308957353229694,1.0834878737868974,0.37157815457707993,-0.39674686763494005,-1.1048353165255893,-1.6451808064140443,-1.9357447293723742,-1.9324118661572331,-1.6356882327596878,-1.0906242539149953,-0.3799749278471751,0.38836455148634796,1.0977401127920368,1.640449952988984,1.934096493802342,1.934096493802342],\"type\":\"scatter\",\"name\":\"Ey\",\"yaxis\":\"y\",\"x\":[0.0,0.39603960396039606,0.7920792079207921,1.188118811881188,1.5841584158415842,1.9801980198019802,2.376237623762376,2.772277227722772,3.1683168316831685,3.564356435643564,3.9603960396039604,4.356435643564356,4.752475247524752,5.148514851485148,5.544554455445544,5.9405940594059405,6.336633663366337,6.732673267326732,7.128712871287128,7.524752475247525,7.920792079207921,8.316831683168317,8.712871287128712,9.10891089108911,9.504950495049505,9.900990099009901,10.297029702970296,10.693069306930694,11.089108910891088,11.485148514851485,11.881188118811881,12.277227722772277,12.673267326732674,13.06930693069307,13.465346534653465,13.861386138613861,14.257425742574256,14.653465346534652,15.04950495049505,15.445544554455445,15.841584158415841,16.237623762376238,16.633663366336634,17.02970297029703,17.425742574257423,17.82178217821782,18.21782178217822,18.613861386138613,19.00990099009901,19.405940594059405,19.801980198019802,20.198019801980198,20.59405940594059,20.99009900990099,21.386138613861387,21.78217821782178,22.178217821782177,22.574257425742577,22.97029702970297,23.366336633663366,23.762376237623762,24.15841584158416,24.554455445544555,24.950495049504948,25.346534653465348,25.742574257425744,26.13861386138614,26.534653465346533,26.93069306930693,27.326732673267326,27.722772277227723,28.11881188118812,28.51485148514851,28.910891089108908,29.306930693069305,29.702970297029704,30.0990099009901,30.495049504950497,30.89108910891089,31.287128712871286,31.683168316831683,32.07920792079208,32.475247524752476,32.87128712871287,33.26732673267327,33.663366336633665,34.05940594059406,34.45544554455446,34.85148514851485,35.24752475247524,35.64356435643564,36.03960396039604,36.43564356435644,36.831683168316836,37.227722772277225,37.62376237623762,38.01980198019802,38.415841584158414,38.81188118811881,39.20792079207921,39.603960396039604,40.0]},{\"showlegend\":true,\"mode\":\"lines\",\"xaxis\":\"x\",\"colorbar\":{\"title\":\"\"},\"line\":{\"color\":\"rgba(255, 0, 0, 1.000)\",\"width\":1,\"dash\":\"solid\",\"shape\":\"linear\"},\"y\":[0.08232400791891102,0.2696418513640431,0.6095883089160026,0.8569832837435734,0.9742657343963861,0.9436291108689627,0.769724855604768,0.4789561926180598,0.11546942605476637,-0.26554862586028627,-0.6062494362873957,-0.8549056923676552,-0.9737648570981049,-0.9447809939502911,-0.7723546130228754,-0.4826645582704121,-0.11969337283833437,0.2614504037777343,0.6028991564332079,0.8528120150351993,0.9732456573821473,0.9459150999760422,0.7749698377704815,0.48636384207762506,0.12391506746425443,-0.2573472622287786,-0.5995375323925048,-0.850702291140963,-0.9727081450178059,-0.9470314076068089,-0.7775704806393609,-0.49005397443375387,-0.12813443049686832,0.2532392784183754,0.596164627417805,0.8485765603816369,0.9721523301189459,0.9481298958380809,0.7801564926956625,0.49373488590504766,0.13235138254438955,-0.24912652964259316,-0.5927805049738899,-0.846434862755098,-0.971578223143813,-0.9492105440006374,-0.7827278252808287,-0.4974065072312566,-0.32765705983115256,-0.29925189836266264,-0.2254124552708876,-0.11734949336365941,0.008530197389756133,0.13311478060123627,0.23748905115254815,0.30580625910359227,0.3276940616797768,0.2998293167663743,0.2264426229817491,0.11867600392226263,-0.007108743054312694,-0.13181419651367565,-0.2365068000659295,-0.3052914724778598,-0.3277248976173777,-0.3004010935637644,-0.22746852993470135,-0.1200002814660932,0.00568715496033595,0.13051113220232446,0.23552009885324243,0.30477094146955713,0.3277495670637395,0.3009672179962445,0.2284901568262142,0.12132230107746278,-0.004265459856513443,-0.1292056121857197,-0.23452896608031548,-0.30424467587302917,-0.3277680695546885,-0.3015276794115881,-0.2295074844332997,-0.12264203788117667,0.002843684493540555,0.12789766102860323,0.23353342039636704,0.3037126855905185,0.32778040474207626,0.3020824672641191,0.23052049361385873,0.12395946704498217,-0.0014218556236315627,-0.12658730334145962,-0.23253348053363065,-0.3031749806319787,-0.32778657239378817,-0.30263157111490163,-0.23152916530704226,-0.12527456378005608,0.0,0.0],\"type\":\"scatter\",\"name\":\"Bz\",\"yaxis\":\"y\",\"x\":[0.0,0.39603960396039606,0.7920792079207921,1.188118811881188,1.5841584158415842,1.9801980198019802,2.376237623762376,2.772277227722772,3.1683168316831685,3.564356435643564,3.9603960396039604,4.356435643564356,4.752475247524752,5.148514851485148,5.544554455445544,5.9405940594059405,6.336633663366337,6.732673267326732,7.128712871287128,7.524752475247525,7.920792079207921,8.316831683168317,8.712871287128712,9.10891089108911,9.504950495049505,9.900990099009901,10.297029702970296,10.693069306930694,11.089108910891088,11.485148514851485,11.881188118811881,12.277227722772277,12.673267326732674,13.06930693069307,13.465346534653465,13.861386138613861,14.257425742574256,14.653465346534652,15.04950495049505,15.445544554455445,15.841584158415841,16.237623762376238,16.633663366336634,17.02970297029703,17.425742574257423,17.82178217821782,18.21782178217822,18.613861386138613,19.00990099009901,19.405940594059405,19.801980198019802,20.198019801980198,20.59405940594059,20.99009900990099,21.386138613861387,21.78217821782178,22.178217821782177,22.574257425742577,22.97029702970297,23.366336633663366,23.762376237623762,24.15841584158416,24.554455445544555,24.950495049504948,25.346534653465348,25.742574257425744,26.13861386138614,26.534653465346533,26.93069306930693,27.326732673267326,27.722772277227723,28.11881188118812,28.51485148514851,28.910891089108908,29.306930693069305,29.702970297029704,30.0990099009901,30.495049504950497,30.89108910891089,31.287128712871286,31.683168316831683,32.07920792079208,32.475247524752476,32.87128712871287,33.26732673267327,33.663366336633665,34.05940594059406,34.45544554455446,34.85148514851485,35.24752475247524,35.64356435643564,36.03960396039604,36.43564356435644,36.831683168316836,37.227722772277225,37.62376237623762,38.01980198019802,38.415841584158414,38.81188118811881,39.20792079207921,39.603960396039604,40.0]}],\n",
       "               {\"showlegend\":true,\"xaxis\":{\"showticklabels\":true,\"gridwidth\":0.5,\"tickvals\":[0.0,10.0,20.0,30.0,40.0],\"visible\":true,\"ticks\":\"inside\",\"range\":[0.0,40.0],\"domain\":[0.09128390201224845,0.9934383202099738],\"tickmode\":\"array\",\"linecolor\":\"rgba(0, 0, 0, 1.000)\",\"showgrid\":true,\"title\":\"X(arb units)\",\"mirror\":false,\"tickangle\":0,\"showline\":true,\"gridcolor\":\"rgba(0, 0, 0, 0.100)\",\"titlefont\":{\"color\":\"rgba(0, 0, 0, 1.000)\",\"family\":\"sans-serif\",\"size\":15},\"tickcolor\":\"rgb(0, 0, 0)\",\"ticktext\":[\"0\",\"10\",\"20\",\"30\",\"40\"],\"zeroline\":false,\"type\":\"-\",\"tickfont\":{\"color\":\"rgba(0, 0, 0, 1.000)\",\"family\":\"sans-serif\",\"size\":11},\"zerolinecolor\":\"rgba(0, 0, 0, 1.000)\",\"anchor\":\"y\"},\"paper_bgcolor\":\"rgba(255, 255, 255, 1.000)\",\"annotations\":[],\"height\":400,\"margin\":{\"l\":0,\"b\":20,\"r\":0,\"t\":20},\"plot_bgcolor\":\"rgba(255, 255, 255, 1.000)\",\"yaxis\":{\"showticklabels\":true,\"gridwidth\":0.5,\"tickvals\":[-1.5,-1.0,-0.5,0.0,0.5,1.0,1.5],\"visible\":true,\"ticks\":\"inside\",\"range\":[-1.9419731409192622,1.9434389646296868],\"domain\":[0.07581474190726165,0.9901574803149606],\"tickmode\":\"array\",\"linecolor\":\"rgba(0, 0, 0, 1.000)\",\"showgrid\":true,\"title\":\"E or B (m)\",\"mirror\":false,\"tickangle\":0,\"showline\":true,\"gridcolor\":\"rgba(0, 0, 0, 0.100)\",\"titlefont\":{\"color\":\"rgba(0, 0, 0, 1.000)\",\"family\":\"sans-serif\",\"size\":15},\"tickcolor\":\"rgb(0, 0, 0)\",\"ticktext\":[\"-1.5\",\"-1.0\",\"-0.5\",\"0.0\",\"0.5\",\"1.0\",\"1.5\"],\"zeroline\":false,\"type\":\"-\",\"tickfont\":{\"color\":\"rgba(0, 0, 0, 1.000)\",\"family\":\"sans-serif\",\"size\":11},\"zerolinecolor\":\"rgba(0, 0, 0, 1.000)\",\"anchor\":\"x\"},\"legend\":{\"bordercolor\":\"rgba(0, 0, 0, 1.000)\",\"bgcolor\":\"rgba(255, 255, 255, 1.000)\",\"font\":{\"color\":\"rgba(0, 0, 0, 1.000)\",\"family\":\"sans-serif\",\"size\":11},\"y\":1.0,\"x\":1.0},\"width\":600}, {showLink: false});\n",
       "\n",
       "    });\n",
       " </script>\n"
      ]
     },
     "execution_count": 15,
     "metadata": {},
     "output_type": "execute_result"
    }
   ],
   "source": [
    "#Plot the answers\n",
    "using Plots\n",
    "plotlyjs()\n",
    "plot(x, Ey, c=:blue, label=\"Ey\", xlab=\"X(arb units)\", ylab =\"E or B (m)\")\n",
    "plot!(x, Bz, c=:red, label=\"Bz\")"
   ]
  },
  {
   "cell_type": "markdown",
   "metadata": {},
   "source": [
    "# Particle simulation"
   ]
  },
  {
   "cell_type": "markdown",
   "metadata": {},
   "source": [
    "Adding a single particle to the simulation isn't very hard at all. Because of the structure of the Lorentz force, you have to keep track of two velocities for the particle, $v_x$ in the x direction and $v_y$ in the y direction. You don't need to keep track of $v_z$ because there is no $E_z$ to accelerate the particle in that direction, and for the magnetic field to bend it in that direction through the $\\mathbf{v} \\times \\mathbf{B}$ force you would need either $E_yB_x$ or $E_xB_y$ to be non-zero which doesn't happen here.\n",
    "\n",
    "You only need to keep track of the $x$ position of the particle though. In 1.5D modelling, it is assumed that everything is uniform and infinite in the $y$ and $z$ directions, so while you _can_ keep track of the particle's $y$ position (since it does have a $y$ velocity this will be changing in time) you don't use it anywhere in the calculations.\n",
    "\n",
    "You have to perform two integrations, first you have to integrate acceleration to get velocity and then you have to integrate velocity to get position. This is simple enough, but there are two things to worry about\n",
    "\n",
    "### Second order integration\n",
    "In order to get acceptable performance from these codes everything has to be done using the more accurate \"time centred\" or \"second order\" integrators. For the fields, this slightly changes the sequence above. Rather than doing half of the B update, then all of the E update, then the other half of the B update you split it completely. The new sequence is\n",
    "\n",
    "1) Update B to half timestep\n",
    "\n",
    "2) Update E to half timestep\n",
    "\n",
    "3) Move the particle (this goes here because E and B are now defined at the half timestep so you can use them to get a time centred estimate of the force on the particle)\n",
    "\n",
    "4) Update E to the full timestep\n",
    "\n",
    "5) Update B to the full timestep\n",
    "\n",
    "You also have to do the same thing for the particles and it's a little clearer, so we'll go through it in a bit more detail. The basic Euler integrator for $\\frac{\\partial f(t)}{\\partial t} = g(f(t))$ is written as \n",
    "\n",
    "$f(n+1) = f(n) + dt \\: g(f(n))$\n",
    "\n",
    " where $n$ is the current timestep (corresponding to time $t$), and $n+1$ is the next timestep (time $t + \\Delta t$). Effectively this is assuming that when you integrate over a time $dt$ a \"good\" approximation is assuming that the value $g(f(t))$ is constant with the value that it has at the start of the timestep. You can immediately see that this is not going to give a perfect solution. In fact, as you shrink $dt$ the error in that assumption scales at the same rate. So if you halve $dt$ the error halves. You can do better. If you assume instead that using the constant value at the *centre* of the timestep (usually called $n+1/2$) then you can actually get to the point where halving $dt$ *quarters* the error in your integration. In fact it turns out that using the simple Euler integrator to get a prediction of the values at the half timestep and then using those values works very well indeed.\n",
    "\n",
    "$f(n+1/2) = f(n) + dt/2 \\: g(f(n))\\\\\n",
    "f(n+1) = f(n) + dt \\: g(f(n+1/2))$\n",
    "\n",
    "In fact, you can do better than that, and there are a whole family of methods, collectively called Runge-Kutta methods that allow you to get higher order error terms ( https://en.wikipedia.org/wiki/Runge–Kutta_methods ). The classical one is a *4th order* method where the error scales as $dt^4$. The downside, as you can see above, is that you have to store the values at both the *$n$*th and *$n+1/2$*th timestep so the memory requirements go up. As you go to ever higher methods, this tends to increase.\n",
    "\n",
    "You'll notice that the code below includes things that look a bit like this, but are different. It turns out that *any* \"decent\" approximation for $f(n+1/2)$ works well for giving you this property of \"second order accuracy\". So to integrate velocity and position, I could do\n",
    "\n",
    "$x(n+1/2) = x(n) + dt/2 * v(n)\\\\\n",
    "v(n+1) = v(n) + dt * F_{Lorentz}(n+1/2)\\\\\n",
    "x(n+1) = x(n+1/2) + dt/2 * v(n+1)$\n",
    "\n",
    "You can see what happens with this if I rearrange just the updates for $x$\n",
    "\n",
    "$x(n) = x(n+1/2) - dt/2 * v(n)\\\\\n",
    "x(n+1) - x(n) = x(n+1/2) + dt/2 * v(n+1) - (x(n+1/2) - dt/2 * v(n))\\\\\n",
    "x(n+1) - x(n) = dt(v(n+1)+v(n))/2\\\\\n",
    "\\frac{x(n+1)-x(n)}{dt} = \\frac{v(n+1) + v(n)}{2}$\n",
    "\n",
    "The last line of that is very similar to the Euler integrator but uses $\\frac{v(n+1) + v(n)}{2}$ for the velocity rather than just $v(n)$. While proving it is hard, you can easily imagine that $\\frac{v(n+1) + v(n)}{2} \\approx v(n+1/2)$, and this is demonstrated working below.\n",
    "\n",
    "### Going from grid to particle\n",
    "\n",
    "Remember that the $E$ and $B$ fields are defined on a fixed grid, but the particle (particles in a working code) move freely above them, not tied to any particular grid point. But to calculate the Lorentz force you need to know the fields at the particle position. There are entire research papers written on how to do this, and different approaches have different properties. The simplest two are \"nearest grid point\" where you simply take the E and B fields from the nearest location to the particle and \"cloud in cell\" where you assume that the field at the particle is linearly interpolated between the two nearest cells. Almost no working codes use \"nearest grid point\" any more for a variety of reasons.\n",
    "\n",
    "There are plenty of other subtleties that I'm completely ignoring here (such as for example the question of what exactly you do about the particle velocity when calculating the Lorentz force see https://www.particleincell.com/2011/vxb-rotation/ for example). The algorithm given below isn't one that anyone would use in a working code, but for the purposes here it works \"well enough\"."
   ]
  },
  {
   "cell_type": "code",
   "execution_count": 11,
   "metadata": {},
   "outputs": [],
   "source": [
    "#Set up parameters\n",
    "nx = 100 #Number of grid points\n",
    "L = 40.0 # Length of simulation domain\n",
    "t_end = 60.0 # Time to end the simulation at\n",
    "q = 0.3 # Charge on particle\n",
    "\n",
    "# Calculate spatial grid step\n",
    "dx = L/Float64(nx+2)\n",
    "x = linspace(0,nx+2,nx+2);\n",
    "x = x .* dx\n",
    "\n",
    "#Calculate the number of timesteps needed to obtain the required end time\n",
    "#Note that because this scales as dx (and hence number of gridpoints) the whole code\n",
    "#Scales as dx^2\n",
    "dt = dx\n",
    "nsnap = round(Int32, t_end/dt)\n",
    "\n",
    "#Create arrays\n",
    "Ey=Array{Float64}(nx+2)\n",
    "Ey[:]=0.0\n",
    "Bz=Array{Float64}(nx+2)\n",
    "Bz[:] = 0.0\n",
    "\n",
    "#Only have one particle position because this is a 1.5D simulation\n",
    "part_x = Array{Float64}(nsnap+1)\n",
    "part_x[:] = 0.0\n",
    "part_x[1] = L/2.0 # Start particle off half way through box\n",
    "\n",
    "#Have two velocities though\n",
    "part_vx = Array{Float64}(nsnap+1)\n",
    "part_vx[:] = 0.0\n",
    "part_vy = Array{Float64}(nsnap+1)\n",
    "part_vy[:] = 0.0\n",
    "\n",
    "#Store local fields for debugging purposes\n",
    "part_Ey = Array{Float64}(nsnap+1)\n",
    "part_Ey[:]=0.0\n",
    "part_Bz = Array{Float64}(nsnap+1)\n",
    "part_Bz[:]=0.0\n",
    "\n",
    "#Time starts at 0\n",
    "time = 0.0\n",
    "\n",
    "#Turn on the particle tracking. We want to turn it off if the particle leaves the simulation domain\n",
    "tracking = true\n",
    "\n",
    "#Loop for enough cycles to reach the end of the simulation\n",
    "for i in 2:nsnap+1\n",
    "    \n",
    "    #Update the magnetic field by half a timestep\n",
    "    for j in 2:nx+1\n",
    "        Bz[j] = Bz[j] - dt/2.0 * (Ey[j+1]-Ey[j])/dx\n",
    "    end\n",
    "    Bz[1] = sin(time) # Drive the boundary with a sine wave\n",
    "    Bz[nx+2] = Bz[nx+1] #Set the outer boundary to be continuous. Prevent sharp gradients\n",
    "    \n",
    "    #Update the electric field by a half timestep\n",
    "    for j in 2:nx+1\n",
    "        Ey[j] = Ey[j] - dt/2.0 * (Bz[j]-Bz[j-1])/dx\n",
    "    end\n",
    "    Ey[1] = Ey[2]\n",
    "    Ey[nx+2] = Ey[nx+1]\n",
    "    \n",
    "    if tracking    \n",
    "        #Move particle by first half timestep\n",
    "        part_x[i] = part_x[i-1] + dt/2.0 * part_vx[i-1]\n",
    "        \n",
    "        #Calculate where particle is and accelerate in local electric and magnetic fields\n",
    "        part_cell = trunc(Int32, part_x[i]/dx)\n",
    "        part_frac = part_x[i] - Float32(part_cell) * dx\n",
    "        \n",
    "        #These lines do nearest grid point weighting\n",
    "        if part_frac < 0.5\n",
    "          part_Ey[i] = Ey[part_cell]\n",
    "          part_Bz[i] = Bz[part_cell]\n",
    "        else\n",
    "          part_Ey[i] = Ey[part_cell+1]\n",
    "          part_Bz[i] = Bz[part_cell+1]\n",
    "        end\n",
    "\n",
    "        #These lines do clound in cell\n",
    "#        part_Ey[i] = Ey[part_cell] * part_frac + Ey[part_cell+1] * (1.0-part_frac)\n",
    "#        part_Bz[i] = Bz[part_cell] * part_frac + Bz[part_cell+1] * (1.0-part_frac)\n",
    "        \n",
    "        #Accelerate particle in E field only. This gives \"estimate\" of velocity at half timestep\n",
    "        part_vy[i] = part_vy[i-1] +  q * dt/2.0 * part_Ey[i]\n",
    "    \n",
    "        #Accelerate particle through magnetic force in X and Y directions only\n",
    "        #This relies on the fact that the B field doesn't change particle speed, only direction\n",
    "        part_vx[i] = part_vx[i-1] + q * dt * part_vy[i-1] * part_Bz[i]\n",
    "        part_vy[i] = part_vy[i-1] - q * dt * part_vx[i-1] * part_Bz[i]\n",
    "        \n",
    "        #Accelerate particle in E field only. This gives \"estimate\" of velocity at half timestep\n",
    "        #Now accelerate through the other half timestep of E field\n",
    "        part_vy[i] = part_vy[i] +  q * dt/2.0 * part_Ey[i]\n",
    "    \n",
    "        #Move particle other half time step using new velocity\n",
    "        part_x[i] = part_x[i-1] + dt/2.0 * part_vx[i]\n",
    "    \n",
    "        #particle has gone outside domain, so stop tracking\n",
    "        part_cell = round(Int32, part_x[i]/dx) #Only need this for this test, not core algorithm\n",
    "        if part_cell < 2 || part_cell > nx+1\n",
    "            tracking = false\n",
    "        end\n",
    "    end\n",
    "    \n",
    "    #Update the electric field by another half timestep\n",
    "    for j in 2:nx+1\n",
    "        Ey[j] = Ey[j] - dt/2.0 * (Bz[j]-Bz[j-1])/dx\n",
    "    end\n",
    "    Ey[1] = Ey[2]\n",
    "    Ey[nx+2] = Ey[nx+1]\n",
    "    \n",
    "    #Update the magnetic field by the other half timestep\n",
    "    for j in 2:nx+1\n",
    "        Bz[j] = Bz[j] - dt/2.0 * (Ey[j+1]-Ey[j])/dx\n",
    "    end\n",
    "    Bz[1] = sin(time)\n",
    "    Bz[nx+2] = Bz[nx+1]\n",
    "    \n",
    "    time = time + dt\n",
    "end;"
   ]
  },
  {
   "cell_type": "code",
   "execution_count": 12,
   "metadata": {},
   "outputs": [
    {
     "data": {
      "text/html": [
       "<div id=\"3aae526f-bd89-4f3a-8321-198c804e6f05\" class=\"plotly-graph-div\"></div>\n",
       "\n",
       "<script>\n",
       "    window.PLOTLYENV=window.PLOTLYENV || {};\n",
       "    window.PLOTLYENV.BASE_URL=\"https://plot.ly\";\n",
       "    require(['plotly'], function(Plotly) {\n",
       "        Plotly.newPlot('3aae526f-bd89-4f3a-8321-198c804e6f05', [{\"showlegend\":true,\"mode\":\"lines\",\"xaxis\":\"x\",\"colorbar\":{\"title\":\"\"},\"line\":{\"color\":\"rgba(0, 0, 255, 1.000)\",\"width\":1,\"dash\":\"solid\",\"shape\":\"linear\"},\"y\":[20.0,20.0,20.0,20.0,20.0,20.0,20.0,20.0,20.0,20.0,20.0,20.0,20.0,20.0,20.0,20.0,20.0,20.0,20.0,20.0,20.0,20.0,20.0,20.0,20.0,20.0,20.0,20.0,20.0,20.0,20.0,20.0,20.0,20.0,20.0,20.0,20.0,20.0,20.0,20.0,20.0,20.0,20.0,20.0,20.0,20.0,20.0,20.0,20.0,20.0,20.0,20.0,20.00009909994618,20.000903008018728,20.00364805960809,20.00979020215689,20.02024716278496,20.034744398421477,20.051688503888425,20.06866090631725,20.083262639901477,20.09390929651646,20.100258052483706,20.10311118541948,20.103855047318,20.103743225824907,20.103451817036976,20.103158768229676,20.103029213329116,20.103717031117455,20.106490979987523,20.112826322313236,20.12364604581445,20.138662254290182,20.15624490152606,20.173914803450387,20.189193773756685,20.200411447538713,20.207150463024266,20.21017093572596,20.21086415457162,20.210534527624144,20.20993701285907,20.209332747315187,20.20895749378914,20.209517569342363,20.212317495615263,20.218853783143647,20.23005491356341,20.245618214285408,20.263874309704633,20.282279985130398,20.29827410811867,20.31009657904401,20.317251938485654,20.32045532571172,20.321101659967873,20.320546973548996,20.319627990439532,20.318693373487484,20.318054349086125,20.318474188334232,20.321296740285106,20.328041863381067,20.33964384162288,20.355783766841427,20.374750108649216,20.396627835672454,20.418726915978255,20.438326283005207,20.453499526787365,20.463598434098845,20.46923560828933,20.471792669639683,20.47271860315149,20.473030835319484,20.473302016605036,20.47406206329442,20.476249923425847,20.481318347954705,20.490818860502408,20.50564380519524,20.525375054280644,20.54816585344248,20.571250006427263,20.591811137266244,20.607820765987377,20.618540660288822,20.624528582917623,20.627164834767754,20.627952554061288,20.62800139009841,20.627987770009852,20.628535563041293,20.63065784078666,20.635859583339855,20.645722151946426,20.66114290646444,20.681680323338767,20.705434273954474,20.729558063693695,20.751135313106527,20.768030749100514,20.780827747615696,20.788934519550082,20.79298813910111,20.794353758529862,20.79441034862319,20.794044683709178,20.793644885436077,20.793203934724033,20.79269550564156,20.792110834287495,20.79151738176406],\"type\":\"scatter\",\"name\":\"Particle Position\",\"yaxis\":\"y\",\"x\":[0.0,0.39215686274509803,0.7843137254901961,1.1764705882352942,1.5686274509803921,1.9607843137254901,2.3529411764705883,2.7450980392156863,3.1372549019607843,3.5294117647058822,3.9215686274509802,4.313725490196078,4.705882352941177,5.098039215686274,5.490196078431373,5.882352941176471,6.2745098039215685,6.666666666666667,7.0588235294117645,7.450980392156863,7.8431372549019605,8.235294117647058,8.627450980392156,9.019607843137255,9.411764705882353,9.803921568627452,10.196078431372548,10.588235294117647,10.980392156862745,11.372549019607844,11.764705882352942,12.156862745098039,12.549019607843137,12.941176470588236,13.333333333333334,13.72549019607843,14.117647058823529,14.509803921568627,14.901960784313726,15.294117647058824,15.686274509803921,16.07843137254902,16.470588235294116,16.862745098039216,17.254901960784313,17.647058823529413,18.03921568627451,18.431372549019606,18.823529411764707,19.215686274509803,19.607843137254903,20.0,20.392156862745097,20.784313725490197,21.176470588235293,21.568627450980394,21.96078431372549,22.352941176470587,22.745098039215687,23.137254901960784,23.529411764705884,23.92156862745098,24.313725490196077,24.705882352941178,25.098039215686274,25.49019607843137,25.88235294117647,26.274509803921568,26.666666666666668,27.058823529411764,27.45098039215686,27.84313725490196,28.235294117647058,28.627450980392158,29.019607843137255,29.41176470588235,29.80392156862745,30.19607843137255,30.58823529411765,30.980392156862745,31.372549019607842,31.764705882352942,32.15686274509804,32.549019607843135,32.94117647058823,33.333333333333336,33.72549019607843,34.11764705882353,34.509803921568626,34.90196078431372,35.294117647058826,35.68627450980392,36.07843137254902,36.470588235294116,36.86274509803921,37.254901960784316,37.64705882352941,38.03921568627451,38.431372549019606,38.8235294117647,39.21568627450981,39.6078431372549,40.0,40.3921568627451,40.78431372549019,41.1764705882353,41.568627450980394,41.96078431372549,42.35294117647059,42.745098039215684,43.13725490196079,43.529411764705884,43.92156862745098,44.31372549019608,44.705882352941174,45.09803921568628,45.490196078431374,45.88235294117647,46.27450980392157,46.666666666666664,47.05882352941177,47.450980392156865,47.84313725490196,48.23529411764706,48.627450980392155,49.01960784313726,49.411764705882355,49.80392156862745,50.19607843137255,50.588235294117645,50.98039215686274,51.372549019607845,51.76470588235294,52.15686274509804,52.549019607843135,52.94117647058823,53.333333333333336,53.72549019607843,54.11764705882353,54.509803921568626,54.90196078431372,55.294117647058826,55.68627450980392,56.07843137254902,56.470588235294116,56.86274509803921,57.254901960784316,57.64705882352941,58.03921568627451,58.431372549019606,58.8235294117647,59.21568627450981,59.6078431372549,60.0]}],\n",
       "               {\"showlegend\":true,\"xaxis\":{\"showticklabels\":true,\"gridwidth\":0.5,\"tickvals\":[0.0,10.0,20.0,30.0,40.0,50.0,60.0],\"visible\":true,\"ticks\":\"inside\",\"range\":[0.0,60.0],\"domain\":[0.09128390201224845,0.9934383202099738],\"tickmode\":\"array\",\"linecolor\":\"rgba(0, 0, 0, 1.000)\",\"showgrid\":true,\"title\":\"time\",\"mirror\":false,\"tickangle\":0,\"showline\":true,\"gridcolor\":\"rgba(0, 0, 0, 0.100)\",\"titlefont\":{\"color\":\"rgba(0, 0, 0, 1.000)\",\"family\":\"sans-serif\",\"size\":15},\"tickcolor\":\"rgb(0, 0, 0)\",\"ticktext\":[\"0\",\"10\",\"20\",\"30\",\"40\",\"50\",\"60\"],\"zeroline\":false,\"type\":\"-\",\"tickfont\":{\"color\":\"rgba(0, 0, 0, 1.000)\",\"family\":\"sans-serif\",\"size\":11},\"zerolinecolor\":\"rgba(0, 0, 0, 1.000)\",\"anchor\":\"y\"},\"paper_bgcolor\":\"rgba(255, 255, 255, 1.000)\",\"annotations\":[],\"height\":400,\"margin\":{\"l\":0,\"b\":20,\"r\":0,\"t\":20},\"plot_bgcolor\":\"rgba(255, 255, 255, 1.000)\",\"yaxis\":{\"showticklabels\":true,\"gridwidth\":0.5,\"tickvals\":[20.0,20.200000000000003,20.400000000000002,20.6],\"visible\":true,\"ticks\":\"inside\",\"range\":[20.0,20.79441034862319],\"domain\":[0.07581474190726165,0.9901574803149606],\"tickmode\":\"array\",\"linecolor\":\"rgba(0, 0, 0, 1.000)\",\"showgrid\":true,\"title\":\"X position\",\"mirror\":false,\"tickangle\":0,\"showline\":true,\"gridcolor\":\"rgba(0, 0, 0, 0.100)\",\"titlefont\":{\"color\":\"rgba(0, 0, 0, 1.000)\",\"family\":\"sans-serif\",\"size\":15},\"tickcolor\":\"rgb(0, 0, 0)\",\"ticktext\":[\"20.0\",\"20.2\",\"20.4\",\"20.6\"],\"zeroline\":false,\"type\":\"-\",\"tickfont\":{\"color\":\"rgba(0, 0, 0, 1.000)\",\"family\":\"sans-serif\",\"size\":11},\"zerolinecolor\":\"rgba(0, 0, 0, 1.000)\",\"anchor\":\"x\"},\"legend\":{\"bordercolor\":\"rgba(0, 0, 0, 1.000)\",\"bgcolor\":\"rgba(255, 255, 255, 1.000)\",\"font\":{\"color\":\"rgba(0, 0, 0, 1.000)\",\"family\":\"sans-serif\",\"size\":11},\"y\":1.0,\"x\":1.0},\"width\":600}, {showLink: false});\n",
       "\n",
       "    });\n",
       " </script>\n"
      ]
     },
     "execution_count": 12,
     "metadata": {},
     "output_type": "execute_result"
    }
   ],
   "source": [
    "#Plot the answers\n",
    "using Plots\n",
    "plotlyjs()\n",
    "t_plot = (0:nsnap)*dt\n",
    "plot(t_plot, part_x, c=:blue, label=\"Particle Position\",xlab=\"time\",ylab=\"X position\")"
   ]
  },
  {
   "cell_type": "code",
   "execution_count": 13,
   "metadata": {
    "scrolled": false
   },
   "outputs": [
    {
     "data": {
      "text/html": [
       "<div id=\"95d1368b-8cc3-4614-8a3b-2b4547aff870\" class=\"plotly-graph-div\"></div>\n",
       "\n",
       "<script>\n",
       "    window.PLOTLYENV=window.PLOTLYENV || {};\n",
       "    window.PLOTLYENV.BASE_URL=\"https://plot.ly\";\n",
       "    require(['plotly'], function(Plotly) {\n",
       "        Plotly.newPlot('95d1368b-8cc3-4614-8a3b-2b4547aff870', [{\"showlegend\":true,\"mode\":\"lines\",\"xaxis\":\"x\",\"colorbar\":{\"title\":\"\"},\"line\":{\"color\":\"rgba(0, 0, 255, 1.000)\",\"width\":1,\"dash\":\"solid\",\"shape\":\"linear\"},\"y\":[0.0,0.0,0.0,0.0,0.0,0.0,0.0,0.0,0.0,0.0,0.0,0.0,0.0,0.0,0.0,0.0,0.0,0.0,0.0,0.0,0.0,0.0,0.0,0.0,0.0,0.0,0.0,0.0,0.0,0.0,0.0,0.0,0.0,0.0,0.0,0.0,0.0,0.0,0.0,0.0,0.0,0.0,0.0,0.0,0.0,0.0,0.0,0.0,0.0,0.0,0.0,0.0,0.0005054097255129278,0.0040999311699882,0.013999763105734824,0.031324926998879996,0.05333049920315173,0.07393590174623947,0.08641493788142908,0.08655925238700797,0.0744688412795616,0.05429794873642255,0.03237865543294363,0.014550977972443771,0.0037936956824526566,-0.0005702896147753954,-0.0014861848184414394,-0.0014945489172243623,-0.0006607299928573966,0.003507870720535977,0.014147139237339644,0.032310245861141534,0.0551805898561907,0.07658266322622989,0.08967150090296117,0.09011649981407552,0.07792274856211356,0.057210136288343205,0.03436897897632615,0.015404410778626018,0.0035354161128733057,-0.0016810974321308488,-0.0030473253018909207,-0.0030817542738012455,-0.0019137929828472405,0.002856385321444184,0.014279623991784163,0.03333506639475767,0.05712576514079477,0.07937283368218462,0.09310608663804316,0.09386894467139562,0.081570027240185,0.06029460171924366,0.0364923331523752,0.016337274852941154,0.003296304706377184,-0.0028289007362707203,-0.004686813858272927,-0.004766546455447503,-0.0032590244469322895,0.0021411801653390453,0.014395014949468102,0.03440012778939856,0.05917008903324886,0.0823136186145825,0.09672834321972253,0.11157640781851484,0.1127053095595723,0.09995677183746303,0.07738354328901112,0.051504427288549315,0.028749588371480318,0.013041012886788477,0.0047222609102002214,0.0015923840567814928,0.0013830245563062823,0.0038762381158582585,0.011158086670285226,0.025848965097174256,0.048452613993287166,0.07560721793345859,0.10062937033555483,0.11623307572535424,0.11772918022238436,0.10486176727881037,0.08164910647778399,0.05467146093737208,0.030538405406879684,0.013444884435666913,0.004017368397020908,0.0002490637893385306,-6.946245165714187e-5,0.0027937444603521773,0.010823616501374873,0.026528887021292292,0.050299099893516275,0.07864584804188089,0.10474082605906881,0.12114514814009988,0.12303132767002985,0.11004397200543878,0.08616672356933641,0.06526469242741918,0.04134453686537133,0.020673459710228832,0.00696465908664325,0.0002886094759879084,-0.001864891061466885,-0.0020389711928194177,-0.002248848631421882,-0.002592988320619236,-0.0029818239057323886,-0.003026607869514596],\"type\":\"scatter\",\"name\":\"Particle x velocity\",\"yaxis\":\"y\",\"x\":[0.0,0.39215686274509803,0.7843137254901961,1.1764705882352942,1.5686274509803921,1.9607843137254901,2.3529411764705883,2.7450980392156863,3.1372549019607843,3.5294117647058822,3.9215686274509802,4.313725490196078,4.705882352941177,5.098039215686274,5.490196078431373,5.882352941176471,6.2745098039215685,6.666666666666667,7.0588235294117645,7.450980392156863,7.8431372549019605,8.235294117647058,8.627450980392156,9.019607843137255,9.411764705882353,9.803921568627452,10.196078431372548,10.588235294117647,10.980392156862745,11.372549019607844,11.764705882352942,12.156862745098039,12.549019607843137,12.941176470588236,13.333333333333334,13.72549019607843,14.117647058823529,14.509803921568627,14.901960784313726,15.294117647058824,15.686274509803921,16.07843137254902,16.470588235294116,16.862745098039216,17.254901960784313,17.647058823529413,18.03921568627451,18.431372549019606,18.823529411764707,19.215686274509803,19.607843137254903,20.0,20.392156862745097,20.784313725490197,21.176470588235293,21.568627450980394,21.96078431372549,22.352941176470587,22.745098039215687,23.137254901960784,23.529411764705884,23.92156862745098,24.313725490196077,24.705882352941178,25.098039215686274,25.49019607843137,25.88235294117647,26.274509803921568,26.666666666666668,27.058823529411764,27.45098039215686,27.84313725490196,28.235294117647058,28.627450980392158,29.019607843137255,29.41176470588235,29.80392156862745,30.19607843137255,30.58823529411765,30.980392156862745,31.372549019607842,31.764705882352942,32.15686274509804,32.549019607843135,32.94117647058823,33.333333333333336,33.72549019607843,34.11764705882353,34.509803921568626,34.90196078431372,35.294117647058826,35.68627450980392,36.07843137254902,36.470588235294116,36.86274509803921,37.254901960784316,37.64705882352941,38.03921568627451,38.431372549019606,38.8235294117647,39.21568627450981,39.6078431372549,40.0,40.3921568627451,40.78431372549019,41.1764705882353,41.568627450980394,41.96078431372549,42.35294117647059,42.745098039215684,43.13725490196079,43.529411764705884,43.92156862745098,44.31372549019608,44.705882352941174,45.09803921568628,45.490196078431374,45.88235294117647,46.27450980392157,46.666666666666664,47.05882352941177,47.450980392156865,47.84313725490196,48.23529411764706,48.627450980392155,49.01960784313726,49.411764705882355,49.80392156862745,50.19607843137255,50.588235294117645,50.98039215686274,51.372549019607845,51.76470588235294,52.15686274509804,52.549019607843135,52.94117647058823,53.333333333333336,53.72549019607843,54.11764705882353,54.509803921568626,54.90196078431372,55.294117647058826,55.68627450980392,56.07843137254902,56.470588235294116,56.86274509803921,57.254901960784316,57.64705882352941,58.03921568627451,58.431372549019606,58.8235294117647,59.21568627450981,59.6078431372549,60.0]},{\"showlegend\":true,\"mode\":\"lines\",\"xaxis\":\"x\",\"colorbar\":{\"title\":\"\"},\"line\":{\"color\":\"rgba(255, 0, 0, 1.000)\",\"width\":1,\"dash\":\"solid\",\"shape\":\"linear\"},\"y\":[0.0,0.0,0.0,0.0,0.0,0.0,0.0,0.0,0.0,0.0,0.0,0.0,0.0,0.0,0.0,0.0,0.0,0.0,0.0,0.0,0.0,0.0,0.0,0.0,0.0,0.0,0.0,0.0,0.0,0.0,0.0,0.0,0.0,0.0,0.0,0.0,0.0,0.0,0.0,0.0,0.0,0.0,0.0,0.0,0.0,0.0,0.0,0.0,0.0,0.0,0.0,0.011240659739456219,0.04325601218944574,0.0911432887923367,0.1472642394587313,0.20223224987924807,0.2468918291419737,0.27466416419560136,0.28279100538888974,0.27175182797368175,0.243796059070638,0.20216786950313148,0.15153846618438996,0.09868490775011621,0.05206493669705476,0.019952360755248297,0.008194997957597282,0.018942770404092188,0.05060629605212808,0.09830954603488468,0.15439548471088302,0.20944057234411417,0.25425556407973526,0.2822479587765154,0.29067266698034894,0.2800320879967279,0.2525680934623424,0.21145113330350201,0.16121740939564033,0.10850543294410862,0.061711125975495947,0.029166659337289978,0.016867087530142814,0.027117977176384367,0.058428454389381476,0.10594948440579015,0.16200212294005437,0.2171218997341385,0.26208385419189545,0.290283492059129,0.29899368322683995,0.2887454023564653,0.26177681792522106,0.22118484256087526,0.1713667630729941,0.11881592044174372,0.07186015895569788,0.03888751821077781,0.02604281561200201,0.03579262483758603,0.06674879225718007,0.11408964073374868,0.1701110720903406,0.22530340503091575,0.27040375248415044,0.29879727588308636,0.30777981375192137,0.3160669494125939,0.3061510253214383,0.2803008552390729,0.24141853757732185,0.1935185322554888,0.1426481952052823,0.09679932839725175,0.0642586494295178,0.05129134636166946,0.06056831811408165,0.09084214363928414,0.13731746288109153,0.192261687083912,0.24618938730544865,0.2899914509539452,0.31733196466595365,0.32582468716309915,0.31626760944201643,0.29093987413402855,0.25266713748064334,0.20530526712222824,0.15472591411464026,0.10882266652195471,0.07592076866199533,0.06243608519092019,0.07121344374554256,0.10112005657365875,0.14738957576285805,0.20225656112164891,0.25618264991170964,0.3000237552586276,0.32745174645402053,0.3361316406090765,0.3269231971057073,0.3021212353357143,0.2644755105062028,0.22494271874395544,0.17592299626928226,0.12370011601342978,0.07645569450714607,0.04259449806579311,0.028439263353354914,0.03670889144662122,0.07741252717183017,0.15561108406386517,0.2594323116044016,0.3731148890390189],\"type\":\"scatter\",\"name\":\"Particle y velocity\",\"yaxis\":\"y\",\"x\":[0.0,0.39215686274509803,0.7843137254901961,1.1764705882352942,1.5686274509803921,1.9607843137254901,2.3529411764705883,2.7450980392156863,3.1372549019607843,3.5294117647058822,3.9215686274509802,4.313725490196078,4.705882352941177,5.098039215686274,5.490196078431373,5.882352941176471,6.2745098039215685,6.666666666666667,7.0588235294117645,7.450980392156863,7.8431372549019605,8.235294117647058,8.627450980392156,9.019607843137255,9.411764705882353,9.803921568627452,10.196078431372548,10.588235294117647,10.980392156862745,11.372549019607844,11.764705882352942,12.156862745098039,12.549019607843137,12.941176470588236,13.333333333333334,13.72549019607843,14.117647058823529,14.509803921568627,14.901960784313726,15.294117647058824,15.686274509803921,16.07843137254902,16.470588235294116,16.862745098039216,17.254901960784313,17.647058823529413,18.03921568627451,18.431372549019606,18.823529411764707,19.215686274509803,19.607843137254903,20.0,20.392156862745097,20.784313725490197,21.176470588235293,21.568627450980394,21.96078431372549,22.352941176470587,22.745098039215687,23.137254901960784,23.529411764705884,23.92156862745098,24.313725490196077,24.705882352941178,25.098039215686274,25.49019607843137,25.88235294117647,26.274509803921568,26.666666666666668,27.058823529411764,27.45098039215686,27.84313725490196,28.235294117647058,28.627450980392158,29.019607843137255,29.41176470588235,29.80392156862745,30.19607843137255,30.58823529411765,30.980392156862745,31.372549019607842,31.764705882352942,32.15686274509804,32.549019607843135,32.94117647058823,33.333333333333336,33.72549019607843,34.11764705882353,34.509803921568626,34.90196078431372,35.294117647058826,35.68627450980392,36.07843137254902,36.470588235294116,36.86274509803921,37.254901960784316,37.64705882352941,38.03921568627451,38.431372549019606,38.8235294117647,39.21568627450981,39.6078431372549,40.0,40.3921568627451,40.78431372549019,41.1764705882353,41.568627450980394,41.96078431372549,42.35294117647059,42.745098039215684,43.13725490196079,43.529411764705884,43.92156862745098,44.31372549019608,44.705882352941174,45.09803921568628,45.490196078431374,45.88235294117647,46.27450980392157,46.666666666666664,47.05882352941177,47.450980392156865,47.84313725490196,48.23529411764706,48.627450980392155,49.01960784313726,49.411764705882355,49.80392156862745,50.19607843137255,50.588235294117645,50.98039215686274,51.372549019607845,51.76470588235294,52.15686274509804,52.549019607843135,52.94117647058823,53.333333333333336,53.72549019607843,54.11764705882353,54.509803921568626,54.90196078431372,55.294117647058826,55.68627450980392,56.07843137254902,56.470588235294116,56.86274509803921,57.254901960784316,57.64705882352941,58.03921568627451,58.431372549019606,58.8235294117647,59.21568627450981,59.6078431372549,60.0]}],\n",
       "               {\"showlegend\":true,\"xaxis\":{\"showticklabels\":true,\"gridwidth\":0.5,\"tickvals\":[0.0,10.0,20.0,30.0,40.0,50.0,60.0],\"visible\":true,\"ticks\":\"inside\",\"range\":[0.0,60.0],\"domain\":[0.07646908719743364,0.9934383202099737],\"tickmode\":\"array\",\"linecolor\":\"rgba(0, 0, 0, 1.000)\",\"showgrid\":true,\"title\":\"time\",\"mirror\":false,\"tickangle\":0,\"showline\":true,\"gridcolor\":\"rgba(0, 0, 0, 0.100)\",\"titlefont\":{\"color\":\"rgba(0, 0, 0, 1.000)\",\"family\":\"sans-serif\",\"size\":15},\"tickcolor\":\"rgb(0, 0, 0)\",\"ticktext\":[\"0\",\"10\",\"20\",\"30\",\"40\",\"50\",\"60\"],\"zeroline\":false,\"type\":\"-\",\"tickfont\":{\"color\":\"rgba(0, 0, 0, 1.000)\",\"family\":\"sans-serif\",\"size\":11},\"zerolinecolor\":\"rgba(0, 0, 0, 1.000)\",\"anchor\":\"y\"},\"paper_bgcolor\":\"rgba(255, 255, 255, 1.000)\",\"annotations\":[],\"height\":400,\"margin\":{\"l\":0,\"b\":20,\"r\":0,\"t\":20},\"plot_bgcolor\":\"rgba(255, 255, 255, 1.000)\",\"yaxis\":{\"showticklabels\":true,\"gridwidth\":0.5,\"tickvals\":[0.0,0.1,0.2,0.30000000000000004],\"visible\":true,\"ticks\":\"inside\",\"range\":[-0.004766546455447503,0.3731148890390189],\"domain\":[0.07581474190726165,0.9901574803149606],\"tickmode\":\"array\",\"linecolor\":\"rgba(0, 0, 0, 1.000)\",\"showgrid\":true,\"title\":\"Velocity\",\"mirror\":false,\"tickangle\":0,\"showline\":true,\"gridcolor\":\"rgba(0, 0, 0, 0.100)\",\"titlefont\":{\"color\":\"rgba(0, 0, 0, 1.000)\",\"family\":\"sans-serif\",\"size\":15},\"tickcolor\":\"rgb(0, 0, 0)\",\"ticktext\":[\"0.0\",\"0.1\",\"0.2\",\"0.3\"],\"zeroline\":false,\"type\":\"-\",\"tickfont\":{\"color\":\"rgba(0, 0, 0, 1.000)\",\"family\":\"sans-serif\",\"size\":11},\"zerolinecolor\":\"rgba(0, 0, 0, 1.000)\",\"anchor\":\"x\"},\"legend\":{\"bordercolor\":\"rgba(0, 0, 0, 1.000)\",\"bgcolor\":\"rgba(255, 255, 255, 1.000)\",\"font\":{\"color\":\"rgba(0, 0, 0, 1.000)\",\"family\":\"sans-serif\",\"size\":11},\"y\":1.0,\"x\":1.0},\"width\":600}, {showLink: false});\n",
       "\n",
       "    });\n",
       " </script>\n"
      ]
     },
     "execution_count": 13,
     "metadata": {},
     "output_type": "execute_result"
    }
   ],
   "source": [
    "#Plot the answers\n",
    "using Plots\n",
    "plotlyjs()\n",
    "plot(t_plot, part_vx, c=:blue, label=\"Particle x velocity\",xlab=\"time\",ylab=\"Velocity\")\n",
    "plot!(t_plot, part_vy, c=:red, label=\"Particle y velocity\")"
   ]
  },
  {
   "cell_type": "code",
   "execution_count": 14,
   "metadata": {},
   "outputs": [
    {
     "data": {
      "text/html": [
       "<div id=\"0523e1aa-a653-480c-bd6a-20e3f0941fee\" class=\"plotly-graph-div\"></div>\n",
       "\n",
       "<script>\n",
       "    window.PLOTLYENV=window.PLOTLYENV || {};\n",
       "    window.PLOTLYENV.BASE_URL=\"https://plot.ly\";\n",
       "    require(['plotly'], function(Plotly) {\n",
       "        Plotly.newPlot('0523e1aa-a653-480c-bd6a-20e3f0941fee', [{\"showlegend\":true,\"mode\":\"lines\",\"xaxis\":\"x\",\"colorbar\":{\"title\":\"\"},\"line\":{\"color\":\"rgba(0, 0, 255, 1.000)\",\"width\":1,\"dash\":\"solid\",\"shape\":\"linear\"},\"y\":[0.0,0.0,0.0,0.0,0.0,0.0,0.0,0.0,0.0,0.0,0.0,0.0,0.0,0.0,0.0,0.0,0.0,0.0,0.0,0.0,0.0,0.0,0.0,0.0,0.0,0.0,0.0,0.0,0.0,0.0,0.0,0.0,0.0,0.0,0.0,0.0,0.0,0.0,0.0,0.0,0.0,0.0,0.0,0.0,0.0,0.0,0.0,0.0,0.0,0.0,0.0,0.19109121557075573,0.5442609916498219,0.8147976840074966,0.9616267319233167,0.9624556375050827,0.8171585511597019,0.5477953788599638,0.19526251022334234,-0.18691632533445046,-0.5407163635923733,-0.8124214855734325,-0.9607797323155622,-0.9632664334641231,-0.8195040426078312,-0.5513194587195578,-0.19943013080487973,0.18273791806941228,0.5371615613835534,0.8100300005682032,0.959914654619015,0.9640591045444525,0.8218341142189767,0.5548331649193066,0.20359399889717086,-0.17855607239680016,-0.5335966519107306,-0.8076232739901311,-0.9590315151110279,-0.9648336358311249,-0.8241487221503723,-0.5583364313451049,-0.20775403615262525,0.17437086700247245,0.5300217022514551,0.8052013511243281,0.9581303304088068,0.9655900127505135,0.8264478228502176,0.5618291920792833,0.21191016429573428,-0.17018238063550278,-0.5264367796721917,-0.8027642775418375,-0.9572111174690959,-0.9663282210705859,-0.8287313730585006,-0.5653113814018551,-0.21606230512455382,0.16599069210668785,0.5228419516270473,0.8003120990987762,0.9562738935878596,0.9670482469011707,0.8309993298078033,0.5687829337917338,0.22021038051214564,0.22021038051214564,-0.1617958802871012,-0.5192372857565318,-0.7978448619354864,-0.9553186763999602,-0.9677500766942173,-0.833251650424113,-0.5722437839279789,-0.22435431240807305,0.15759802410657323,0.5156228498862536,0.7953626124756501,0.9543454838788213,0.9684336972440547,0.8354882925276306,0.5756938666910277,0.22849402283986622,-0.1533972025522164,-0.511998712025654,-0.7928653974254212,-0.9533543343360916,-0.9690990956876375,-0.8377092140335642,-0.5791331171639168,-0.2326294339144865,0.1491934946669399,0.5083649403667281,0.7903532637725492,0.952345246421301,0.9697462595047885,0.839914373152921,0.5825614706335014,0.23676046781978896,-0.14498697954796558,-0.5047216032827395,-0.7878262587854867,-0.7878262587854867,-0.9513182391215063,-0.970375176518436,-0.8421037283932988,-0.5859788625916835,-0.2408870468259997,0.14077773634532625,0.6921599848976906,1.329545421662334,1.7650710157684353,1.932612566818155],\"type\":\"scatter\",\"name\":\"Electric field at particle position\",\"yaxis\":\"y\",\"x\":[0.0,0.39215686274509803,0.7843137254901961,1.1764705882352942,1.5686274509803921,1.9607843137254901,2.3529411764705883,2.7450980392156863,3.1372549019607843,3.5294117647058822,3.9215686274509802,4.313725490196078,4.705882352941177,5.098039215686274,5.490196078431373,5.882352941176471,6.2745098039215685,6.666666666666667,7.0588235294117645,7.450980392156863,7.8431372549019605,8.235294117647058,8.627450980392156,9.019607843137255,9.411764705882353,9.803921568627452,10.196078431372548,10.588235294117647,10.980392156862745,11.372549019607844,11.764705882352942,12.156862745098039,12.549019607843137,12.941176470588236,13.333333333333334,13.72549019607843,14.117647058823529,14.509803921568627,14.901960784313726,15.294117647058824,15.686274509803921,16.07843137254902,16.470588235294116,16.862745098039216,17.254901960784313,17.647058823529413,18.03921568627451,18.431372549019606,18.823529411764707,19.215686274509803,19.607843137254903,20.0,20.392156862745097,20.784313725490197,21.176470588235293,21.568627450980394,21.96078431372549,22.352941176470587,22.745098039215687,23.137254901960784,23.529411764705884,23.92156862745098,24.313725490196077,24.705882352941178,25.098039215686274,25.49019607843137,25.88235294117647,26.274509803921568,26.666666666666668,27.058823529411764,27.45098039215686,27.84313725490196,28.235294117647058,28.627450980392158,29.019607843137255,29.41176470588235,29.80392156862745,30.19607843137255,30.58823529411765,30.980392156862745,31.372549019607842,31.764705882352942,32.15686274509804,32.549019607843135,32.94117647058823,33.333333333333336,33.72549019607843,34.11764705882353,34.509803921568626,34.90196078431372,35.294117647058826,35.68627450980392,36.07843137254902,36.470588235294116,36.86274509803921,37.254901960784316,37.64705882352941,38.03921568627451,38.431372549019606,38.8235294117647,39.21568627450981,39.6078431372549,40.0,40.3921568627451,40.78431372549019,41.1764705882353,41.568627450980394,41.96078431372549,42.35294117647059,42.745098039215684,43.13725490196079,43.529411764705884,43.92156862745098,44.31372549019608,44.705882352941174,45.09803921568628,45.490196078431374,45.88235294117647,46.27450980392157,46.666666666666664,47.05882352941177,47.450980392156865,47.84313725490196,48.23529411764706,48.627450980392155,49.01960784313726,49.411764705882355,49.80392156862745,50.19607843137255,50.588235294117645,50.98039215686274,51.372549019607845,51.76470588235294,52.15686274509804,52.549019607843135,52.94117647058823,53.333333333333336,53.72549019607843,54.11764705882353,54.509803921568626,54.90196078431372,55.294117647058826,55.68627450980392,56.07843137254902,56.470588235294116,56.86274509803921,57.254901960784316,57.64705882352941,58.03921568627451,58.431372549019606,58.8235294117647,59.21568627450981,59.6078431372549,60.0]},{\"showlegend\":true,\"mode\":\"lines\",\"xaxis\":\"x\",\"colorbar\":{\"title\":\"\"},\"line\":{\"color\":\"rgba(255, 0, 0, 1.000)\",\"width\":1,\"dash\":\"solid\",\"shape\":\"linear\"},\"y\":[0.0,0.0,0.0,0.0,0.0,0.0,0.0,0.0,0.0,0.0,0.0,0.0,0.0,0.0,0.0,0.0,0.0,0.0,0.0,0.0,0.0,0.0,0.0,0.0,0.0,0.0,0.0,0.0,0.0,0.0,0.0,0.0,0.0,0.0,0.0,0.0,0.0,0.0,0.0,0.0,0.0,0.0,0.0,0.0,0.0,0.0,0.0,0.0,0.0,0.0,0.0,0.0,0.38218243114151146,0.7063395521581323,0.9232558158568609,0.9999976479897725,0.9249136270203928,0.709403475299011,0.3861872824209165,0.004337738025768201,-0.3781703886946691,-0.7032623384900776,-0.9215806326567875,-0.999978831974337,-0.9265540349539092,-0.7124540502617531,-0.39018486717736245,-0.00867539443239701,0.37415123057122157,0.7001718921958853,0.9198881089405211,0.999941200297509,0.9281770087913961,0.7154912196465573,0.39417511019205587,0.01301288760228586,-0.3701250323958862,-0.6970682714255749,-0.9181782765546873,-0.9998847536673685,-0.9297825179948813,-0.7185149263058632,-0.3981579363843466,-0.017350135920903897,0.3660918699258488,0.6939515345770613,0.916451167671595,0.9998094931460186,0.9313705323550083,0.7215251133454268,0.4021332708131397,0.021687057778328855,-0.3620518190493344,-0.690821740295049,-0.9147068147886261,-0.9997154201495657,-0.9329410219916061,-0.7245217241253952,-0.40610103867831504,-0.026023571570792603,0.3580049557841683,0.6876789474699262,0.9129452507276262,0.999602536448093,0.9344939573542483,0.7275047022613583,0.41006116532210934,0.41006116532210934,0.03035959570218194,-0.35395135627638435,-0.6845232152366794,-0.9111665086342935,-0.9994708441656268,-0.9360293092228078,-0.7304739916254182,-0.4140135762305397,-0.0346950485856064,0.34989109679875285,0.6813546029737545,0.9093706219775457,0.999320345780097,0.9375470487080124,0.7334295363472487,0.41795819703480674,0.0390298486449257,-0.3458242537493585,-0.6781731703019493,-0.907557624548893,-0.9991510441232903,-0.9390471472519848,-0.7363712808151437,-0.4218949535126899,-0.043363914316283114,0.3417509036501629,0.6749789770832932,0.9057275504618052,0.9989629423807969,0.9405295766287802,0.7392991696770617,0.4258237715899411,0.04769716404963681,-0.33767112314556796,-0.6717720834199111,-0.6717720834199111,-0.9038804341510625,-0.9987560440919501,-0.9419943089449219,-0.7422131478416758,-0.42974457734169125,-0.052029516310308166,-0.04859744214055117,-0.037787002505221934,-0.0212395054847464,-0.0014672948400090702],\"type\":\"scatter\",\"name\":\"Magnetic field at particle position\",\"yaxis\":\"y\",\"x\":[0.0,0.39215686274509803,0.7843137254901961,1.1764705882352942,1.5686274509803921,1.9607843137254901,2.3529411764705883,2.7450980392156863,3.1372549019607843,3.5294117647058822,3.9215686274509802,4.313725490196078,4.705882352941177,5.098039215686274,5.490196078431373,5.882352941176471,6.2745098039215685,6.666666666666667,7.0588235294117645,7.450980392156863,7.8431372549019605,8.235294117647058,8.627450980392156,9.019607843137255,9.411764705882353,9.803921568627452,10.196078431372548,10.588235294117647,10.980392156862745,11.372549019607844,11.764705882352942,12.156862745098039,12.549019607843137,12.941176470588236,13.333333333333334,13.72549019607843,14.117647058823529,14.509803921568627,14.901960784313726,15.294117647058824,15.686274509803921,16.07843137254902,16.470588235294116,16.862745098039216,17.254901960784313,17.647058823529413,18.03921568627451,18.431372549019606,18.823529411764707,19.215686274509803,19.607843137254903,20.0,20.392156862745097,20.784313725490197,21.176470588235293,21.568627450980394,21.96078431372549,22.352941176470587,22.745098039215687,23.137254901960784,23.529411764705884,23.92156862745098,24.313725490196077,24.705882352941178,25.098039215686274,25.49019607843137,25.88235294117647,26.274509803921568,26.666666666666668,27.058823529411764,27.45098039215686,27.84313725490196,28.235294117647058,28.627450980392158,29.019607843137255,29.41176470588235,29.80392156862745,30.19607843137255,30.58823529411765,30.980392156862745,31.372549019607842,31.764705882352942,32.15686274509804,32.549019607843135,32.94117647058823,33.333333333333336,33.72549019607843,34.11764705882353,34.509803921568626,34.90196078431372,35.294117647058826,35.68627450980392,36.07843137254902,36.470588235294116,36.86274509803921,37.254901960784316,37.64705882352941,38.03921568627451,38.431372549019606,38.8235294117647,39.21568627450981,39.6078431372549,40.0,40.3921568627451,40.78431372549019,41.1764705882353,41.568627450980394,41.96078431372549,42.35294117647059,42.745098039215684,43.13725490196079,43.529411764705884,43.92156862745098,44.31372549019608,44.705882352941174,45.09803921568628,45.490196078431374,45.88235294117647,46.27450980392157,46.666666666666664,47.05882352941177,47.450980392156865,47.84313725490196,48.23529411764706,48.627450980392155,49.01960784313726,49.411764705882355,49.80392156862745,50.19607843137255,50.588235294117645,50.98039215686274,51.372549019607845,51.76470588235294,52.15686274509804,52.549019607843135,52.94117647058823,53.333333333333336,53.72549019607843,54.11764705882353,54.509803921568626,54.90196078431372,55.294117647058826,55.68627450980392,56.07843137254902,56.470588235294116,56.86274509803921,57.254901960784316,57.64705882352941,58.03921568627451,58.431372549019606,58.8235294117647,59.21568627450981,59.6078431372549,60.0]}],\n",
       "               {\"showlegend\":true,\"xaxis\":{\"showticklabels\":true,\"gridwidth\":0.5,\"tickvals\":[0.0,10.0,20.0,30.0,40.0,50.0,60.0],\"visible\":true,\"ticks\":\"inside\",\"range\":[0.0,60.0],\"domain\":[0.09128390201224845,0.9934383202099738],\"tickmode\":\"array\",\"linecolor\":\"rgba(0, 0, 0, 1.000)\",\"showgrid\":true,\"title\":\"time\",\"mirror\":false,\"tickangle\":0,\"showline\":true,\"gridcolor\":\"rgba(0, 0, 0, 0.100)\",\"titlefont\":{\"color\":\"rgba(0, 0, 0, 1.000)\",\"family\":\"sans-serif\",\"size\":15},\"tickcolor\":\"rgb(0, 0, 0)\",\"ticktext\":[\"0\",\"10\",\"20\",\"30\",\"40\",\"50\",\"60\"],\"zeroline\":false,\"type\":\"-\",\"tickfont\":{\"color\":\"rgba(0, 0, 0, 1.000)\",\"family\":\"sans-serif\",\"size\":11},\"zerolinecolor\":\"rgba(0, 0, 0, 1.000)\",\"anchor\":\"y\"},\"paper_bgcolor\":\"rgba(255, 255, 255, 1.000)\",\"annotations\":[],\"height\":400,\"margin\":{\"l\":0,\"b\":20,\"r\":0,\"t\":20},\"plot_bgcolor\":\"rgba(255, 255, 255, 1.000)\",\"yaxis\":{\"showticklabels\":true,\"gridwidth\":0.5,\"tickvals\":[-0.5,0.0,0.5,1.0,1.5],\"visible\":true,\"ticks\":\"inside\",\"range\":[-0.999978831974337,1.932612566818155],\"domain\":[0.07581474190726165,0.9901574803149606],\"tickmode\":\"array\",\"linecolor\":\"rgba(0, 0, 0, 1.000)\",\"showgrid\":true,\"title\":\"E or B\",\"mirror\":false,\"tickangle\":0,\"showline\":true,\"gridcolor\":\"rgba(0, 0, 0, 0.100)\",\"titlefont\":{\"color\":\"rgba(0, 0, 0, 1.000)\",\"family\":\"sans-serif\",\"size\":15},\"tickcolor\":\"rgb(0, 0, 0)\",\"ticktext\":[\"-0.5\",\"0.0\",\"0.5\",\"1.0\",\"1.5\"],\"zeroline\":false,\"type\":\"-\",\"tickfont\":{\"color\":\"rgba(0, 0, 0, 1.000)\",\"family\":\"sans-serif\",\"size\":11},\"zerolinecolor\":\"rgba(0, 0, 0, 1.000)\",\"anchor\":\"x\"},\"legend\":{\"bordercolor\":\"rgba(0, 0, 0, 1.000)\",\"bgcolor\":\"rgba(255, 255, 255, 1.000)\",\"font\":{\"color\":\"rgba(0, 0, 0, 1.000)\",\"family\":\"sans-serif\",\"size\":11},\"y\":1.0,\"x\":1.0},\"width\":600}, {showLink: false});\n",
       "\n",
       "    });\n",
       " </script>\n"
      ]
     },
     "execution_count": 14,
     "metadata": {},
     "output_type": "execute_result"
    }
   ],
   "source": [
    "#Plot the answers\n",
    "using Plots\n",
    "plotlyjs()\n",
    "plot(t_plot, part_Ey, c=:blue, label=\"Electric field at particle position\",xlab=\"time\",ylab=\"E or B\")\n",
    "plot!(t_plot, part_Bz, c=:red, label=\"Magnetic field at particle position\")"
   ]
  },
  {
   "cell_type": "markdown",
   "metadata": {},
   "source": [
    "# Adding current"
   ]
  },
  {
   "cell_type": "markdown",
   "metadata": {},
   "source": [
    "What we have described so far is actually a real type of code, called a \"test particle code\". Particles are moved in electric and magnetic fields but don't change the fields by their motion. To add this feedback, you simply add back in the current $\\mathbf{J}$ term in Ampere's law. You then calculate the current by calculating $q \\mathbf{v}$ for each particle and adding them together (this is another one of those things that no-one does but almost works).\n",
    "\n",
    "At this point you have two problems.\n",
    "\n",
    "### Particle to grid\n",
    "The first and in some senses simplest problem is that the current is calculated at the particle position, but you want it on the grid with the E field in order to update Ampere's law. This is the reverse of the problem with getting the E and B fields to the particle location, and the solution is very similar. In fact, in order to get the right answer you can show that the function for moving data from the grid to the particle and the particle to the grid must be exact inverses of each other. This can be difficult to work out, especially with more complex functions, but conveniently the code tends to go very badly wrong if you do it incorrectly. (It sounds like I'm being sarcastic there, but there's nothing worse in computational physics than a subtle but important error. Something that fails dramatically and totally at least isn't leading you to do incorrect research.)\n",
    "\n",
    "### Noise and convergence\n",
    "This is the bigger problem. In a real code with current feedback on the fields, one particle is useless (even in a test particle code you generally want more than one particle just in case you put your one particle somewhere that gives an atypical answer). You would like to simulate every particle in your plasma, but that is effectively impossible - no computer even close to large enough to do that for any interesting plasma has yet been built. So you have to use a smaller number of particles and have each one \"pretend\" to represent a larger number of real particles. This isn't a bad model - particles that are near each other will tend to experience similar forces so will tend to wind up in similar places and assuming that they wind up in *exactly the same place* isn't untenable. But it is only a \"tends to\". If you don't have enough particles then you can get a variety of problems.\n",
    "\n",
    "1) Your solution is noiser. Because of thermal fluctuations you only know the state of the plasma particles in a statistical way - there is inherant noise due to Brownian motion etc. In a PIC code this noise level is increased since you have fewer particles\n",
    "\n",
    "2) Nearby particles only \"tend to\" experience similar forces. If there's small scale physics that means that nearby particles *should* experience different forces you might miss it. You can improve this by increasing the resolution of your simulation grid (PIC codes obviously smooth forces over the scale of the grid because the $E$ and $B$ fields can't have structure smaller than the grid), and you can also increase the number of particles.\n",
    "\n",
    "3) The opposite problem. You can, by chance, have a particle that is in *just the right place to have something interesting happen to it*. In reality only a tiny number of particles would be in just that position, but because you are artificially linking them together you can get a massive overrepresentation of the effect. This can lead to you publishing an interesting result that doesn't actually happen. (This is very, very bad!)\n",
    "\n",
    "The solution to all of these problems is what's termed *convergence testing*. Formally all of these integrators have the properties of consitency and convergence. That means that if you were to take an infinitely fine space grid, and infinitely short timesteps and an infinite number of particles (this is actually wrong because there are actually a finite number of real particles, but ignore this here) you will get the \"right answer\". That is it will give exactly the answer from the equations that we are modelling. You can't do that, but you can increase the resolution. If the answer only changes by an acceptable amount (what's acceptable is very subject dependent. You can tolerate a much bigger error in astrophysics than when you're building a particle accelerator) then you have much more confidence that your answer is right.\n",
    "\n",
    "Take home message - ALWAYS CONVERGENCE TEST!"
   ]
  },
  {
   "cell_type": "markdown",
   "metadata": {},
   "source": [
    "# Working PIC"
   ]
  },
  {
   "cell_type": "markdown",
   "metadata": {},
   "source": [
    "So what can you do with an actual PIC code that's completed and working? Pretty much all of plasma physics (although you might need a very large computer to actually run it!). You can cover everything from basic plasma physics\n",
    "\n",
    "<img src=\"img/TwoStream.png\">\n",
    "\n",
    "that's a picture of the electron two stream instability. You start with two populations of electrons propagating in a 1D domain. One set are going rightwards with constant speed, the other are going leftwards with constant speed. The instability means that they wind up with both populations going in both directions with a wide range of speeds.\n",
    "\n",
    "<img src=\"img/EPOCH.jpg\">\n",
    "\n",
    "You can simulate a laser striking a solid target and boring a hole through it. A 3D simulation like this requires at least 100 computer processors to run in any reasonable time. The colours are the density of the plasma, you can see that just like the single particle above plasma is pulled through the target with the laser, being trapped in the troughs in the laser field.\n",
    "\n",
    "They are also widely used in astrophysics (although they tend to produce rather less interesting graphs)"
   ]
  },
  {
   "cell_type": "code",
   "execution_count": null,
   "metadata": {},
   "outputs": [],
   "source": []
  }
 ],
 "metadata": {
  "kernelspec": {
   "display_name": "Julia 0.6.2",
   "language": "julia",
   "name": "julia-0.6"
  },
  "language_info": {
   "file_extension": ".jl",
   "mimetype": "application/julia",
   "name": "julia",
   "version": "0.6.2"
  }
 },
 "nbformat": 4,
 "nbformat_minor": 2
}
