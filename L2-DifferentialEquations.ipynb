{
 "cells": [
  {
   "cell_type": "markdown",
   "metadata": {
    "slideshow": {
     "slide_type": "slide"
    }
   },
   "source": [
    "# IL027 Computer Modelling for All\n",
    "\n",
    "### Lecture 2 Differential Equations and Plotting\n",
    "\n",
    "#### James Kermode, School of Engineering and Christoph Ortner, Mathematics\n",
    "\n",
    "### Overview\n",
    "\n",
    "- Review of first order differntial equations\n",
    "- Simple example base on radioactive decay and carbon dating\n",
    "- Plotting of results using `Plots.jl`\n",
    "- Integrating using a simple forward Euler scheme\n",
    "- Using `OrdinaryDiffEq.jl` (part of the larger `DifferentialEquations.jl` suite)\n",
    "- More complex example: SIR model from epidemiology\n",
    "- Introduce assignment: population growth"
   ]
  },
  {
   "cell_type": "markdown",
   "metadata": {
    "slideshow": {
     "slide_type": "slide"
    }
   },
   "source": [
    "## Radioactive decay\n",
    "\n",
    "- Differential equations describe how the **rates** of quantities change\n",
    "- A simple example is radioactive decay, where the rate of decay of a radioactive substance is proportional to the number of particles there are currently\n",
    "- In a small amount of time $\\Delta t$, the change in the number of particles $\\Delta N$ is proportional to $N \\Delta t$, i.e. \n",
    "$$\n",
    "\\Delta N \\propto - N \\Delta t\n",
    "$$\n",
    "- The negative sign indicates the number of particles $N$ decreases as time $t$ increases\n",
    "- Dividing by $\\Delta t$ and taking the limit as $\\Delta t \\to 0$\n",
    "$$\n",
    "\\frac{dN}{dt} \\propto - N\n",
    "$$\n",
    "- Introducing a constant of propotionality $\\lambda$ leads to a first order ordinary differential equation (ODE)\n",
    "$$\n",
    "\\frac{dN}{dt} = - \\lambda N\n",
    "$$"
   ]
  },
  {
   "cell_type": "markdown",
   "metadata": {
    "slideshow": {
     "slide_type": "slide"
    }
   },
   "source": [
    "## Analytic solution\n",
    "\n",
    "- This ODE can be solved directly by separating variables and integrating both sides\n",
    "\n",
    "\\begin{eqnarray}\n",
    "\\int \\frac{dN}{N} & = & - \\int \\lambda\\, dt \\\\\n",
    "\\log N & = & - \\lambda t + c \\\\\n",
    "N & = & e^c e^{-\\lambda t} \\\\\n",
    "\\end{eqnarray}\n",
    "\n",
    "- Specifying the initial conditon $N(0) = N_0$ allows the constant of integration $c$ to be determined. \n",
    "- The specific solution is $N(t) = N_0 e^{-\\lambda t}$, i.e. expontential decay in the number of particles as time passes.\n",
    "- This leads to the idea of the *half-life*, the time taken for half of a given sample to decay, $t_{1/2} = \\log 2 / \\lambda$."
   ]
  },
  {
   "cell_type": "markdown",
   "metadata": {
    "slideshow": {
     "slide_type": "slide"
    }
   },
   "source": [
    "## Example: carbon dating of archeological objects\n",
    "\n",
    "The half-life of Carbon-14 is 5730 years and its decay rate is 14 disintegrations per minute (dpm) per gram of carbon. If an artifact has a radioactivity of 4 dpm, estimate its age by plotting the solution for $\\mathrm{d}N/\\mathrm{d}t$ and finding when it falls to 4 dpm."
   ]
  },
  {
   "cell_type": "code",
   "execution_count": null,
   "metadata": {
    "slideshow": {
     "slide_type": "-"
    }
   },
   "outputs": [],
   "source": [
    "dN0_dt = -14.0           # initial decay rate, dpm\n",
    "half_life = 5730.0       # years\n",
    "λ = log(2) / half_life\n",
    "N(t) = N0 * exp(-λ*t)    # define a function for solution of the ODE\n",
    "dN_dt(t) = - (λ * N0) * exp(-λ*t)   # satisfies ODE, since dN_dt = -λ N\n",
    "N0 = -dN0_dt/λ"
   ]
  },
  {
   "cell_type": "markdown",
   "metadata": {
    "slideshow": {
     "slide_type": "slide"
    }
   },
   "source": [
    "## Plotting the solution\n",
    "\n",
    "This is a good opportunity to explore the `Plots.jl` package. See its [documentation](http://docs.juliaplots.org/latest/) for full details. \n",
    "First, a standard plot:"
   ]
  },
  {
   "cell_type": "code",
   "execution_count": null,
   "metadata": {},
   "outputs": [],
   "source": [
    "using Plots;\n",
    "t=0:1000:20000    # range of times, in kiloyears\n",
    "plot(t, N.(t))    # syntax N.(t) applies function N to all elements of vector t\n",
    "#plot(t, dN_dt.(t))"
   ]
  },
  {
   "cell_type": "markdown",
   "metadata": {
    "slideshow": {
     "slide_type": "slide"
    }
   },
   "source": [
    "Fiddling with parameters allows plot formatting to be customised. We also add a horizontal line with the `hline!()` function. Note that `!` in function names indicates they modify the current plot rather than creating a new one."
   ]
  },
  {
   "cell_type": "code",
   "execution_count": null,
   "metadata": {
    "slideshow": {
     "slide_type": "-"
    }
   },
   "outputs": [],
   "source": [
    "p1 = plot(t, N.(t), linewidth=3, label=\"Exact solution N(t)\", ylabel=\"N(t) / particles\")\n",
    "p2 = plot(t, abs.(dN_dt.(t)), linewidth=3, label=\"Exact solution dN/dt\",\n",
    "          xlabel=\"t / years\", ylabel=\"|dN/dt| / dpm\")\n",
    "hline!([4], color=:black, linestyle=:dash, \n",
    "       label=\"dN/dt=4 dpm\")\n",
    "plot(p1, p2, layout=(2, 1))"
   ]
  },
  {
   "cell_type": "markdown",
   "metadata": {
    "slideshow": {
     "slide_type": "slide"
    }
   },
   "source": [
    "Since we have exact solution in this case, can rearrange equation to find precise age:\n",
    "\n",
    "$$\n",
    "\\frac{\\mathrm{d}N}{\\mathrm{d}t} = - \\lambda N_0 \\exp(- \\lambda t) \\\\\\implies\n",
    "T = - \\frac{1}{\\lambda} \\log \\frac{4}{14}\n",
    "$$"
   ]
  },
  {
   "cell_type": "code",
   "execution_count": null,
   "metadata": {},
   "outputs": [],
   "source": [
    "T = -1 ./ λ * log(4 ./ 14)"
   ]
  },
  {
   "cell_type": "markdown",
   "metadata": {
    "slideshow": {
     "slide_type": "slide"
    }
   },
   "source": [
    "## Numerial solution of ODEs\n",
    "\n",
    "\n",
    "- Most differential equations can't be solved so easily!\n",
    "- Often we can't integrate analytically and solution has to be computed numerically\n",
    "- One of simplest schemes is **forward Euler** method, invented by Leonhard Euler in late 18th century\n",
    "- This is a first order method with (global) error proportional to step size"
   ]
  },
  {
   "cell_type": "markdown",
   "metadata": {
    "slideshow": {
     "slide_type": "slide"
    }
   },
   "source": [
    "## Euler's Method\n",
    "\n",
    "<img align=\"right\" width=\"30%\" src=\"https://upload.wikimedia.org/wikipedia/commons/thumb/1/10/Euler_method.svg/220px-Euler_method.svg.png\">\n",
    "\n",
    "Starting from initial condition $A_0$, we know the local slope from differential equation.\n",
    "\n",
    "Take a small step along tangent to $A_1$, assuming slope doesn't change much. Repeat to get to $A_2$, etc.\n",
    "\n",
    "Errors can be made small if step size $h$ is small enough.\n"
   ]
  },
  {
   "cell_type": "markdown",
   "metadata": {
    "slideshow": {
     "slide_type": "slide"
    }
   },
   "source": [
    "## Implementation of Euler's method\n",
    "\n",
    "Writing the ODE in the form $\\mathrm{d}y/\\mathrm{d}t = f(t, y(t))$, the update rule is\n",
    "$y_{n+1} = y_n + h\\, f(t_n, y_n)$.\n",
    "\n",
    "It's straightforward to translate this mathematical expression into Julia code"
   ]
  },
  {
   "cell_type": "code",
   "execution_count": null,
   "metadata": {
    "slideshow": {
     "slide_type": "-"
    }
   },
   "outputs": [],
   "source": [
    "function euler(f, h, y0, tspan)\n",
    "    t0, t1 = tspan\n",
    "    t = t0:h:t1  # vector of times\n",
    "    y = zero(t) # vector for solution\n",
    "    y[1] = y0    # initial condition\n",
    "    for n in 1:length(t)-1\n",
    "        y[n+1] = y[n] + h * f(t[n], y[n])\n",
    "    end    \n",
    "    return t, y  # return times and values\n",
    "end"
   ]
  },
  {
   "cell_type": "markdown",
   "metadata": {
    "slideshow": {
     "slide_type": "slide"
    }
   },
   "source": [
    "## Applying Euler's method to radioactive decay"
   ]
  },
  {
   "cell_type": "code",
   "execution_count": null,
   "metadata": {
    "slideshow": {
     "slide_type": "-"
    }
   },
   "outputs": [],
   "source": [
    "dN_dt(t, N) = -λ*N    # define function for differential equation model\n",
    "t_exact = 0:100:20000    # for plotting exact solution\n",
    "N_exact = N.(t_exact) # store for later (needed for error analysis)\n",
    "p = plot(t_exact, N_exact, label=\"Exact solution\", \n",
    "         xlabel=\"t / years\", ylabel=\"N(t) / dpm\", lw=2, ls=:dash)\n",
    "for h in [10000, 5000, 1000, 100]\n",
    "    t, N_euler = euler(dN_dt, h, N0, (0., 20000.))\n",
    "    plot!(t, N_euler, label=\"Euler h=$h\", lw=2)\n",
    "end\n",
    "# display(p) # show the plot\n",
    "p"
   ]
  },
  {
   "cell_type": "markdown",
   "metadata": {
    "slideshow": {
     "slide_type": "slide"
    }
   },
   "source": [
    "## Lesson Question\n",
    "\n",
    "Demonstate that the error at a $t=20,000$ years is proportional to the step size $h$."
   ]
  },
  {
   "cell_type": "code",
   "execution_count": null,
   "metadata": {},
   "outputs": [],
   "source": [
    "hs = [5000, 1000, 100, 10, 1, 0.1]\n",
    "error = [] # empty vector to store errors for each step size h\n",
    "for h in hs\n",
    "   t, N_euler = euler(dN_dt, h, N0, (0., 20000.))\n",
    "   push!(error, abs(N_euler[end] - N_exact[end]))\n",
    "end \n",
    "plot([hs, hs], [1.5*hs, error], xscale=:log10, yscale=:log10, \n",
    "    xlabel=\"log(h)\", ylabel=\"log(error)\",\n",
    "    marker=[:none  :o], linewidth=[2 0], label=[\"1.5*h\" \"Error\"])"
   ]
  },
  {
   "cell_type": "markdown",
   "metadata": {
    "slideshow": {
     "slide_type": "slide"
    }
   },
   "source": [
    "## Advanced Numerical ODE Solver \n",
    "\n",
    "There are many ways to improve on Euler's method to give higher orders of accuracy, e.g. the families of Runge-Kutta methods (which use more function evaluations at each step) or multistep methods (which use more past steps). The details are beyond the scope of this module, but we will use the `OrdinaryDiffEq.jl` package to access some of them.\n",
    "\n",
    "Usage is very similar to our hand-written `euler()` function:"
   ]
  },
  {
   "cell_type": "code",
   "execution_count": null,
   "metadata": {},
   "outputs": [],
   "source": [
    "using OrdinaryDiffEq\n",
    "dN_dt(N, _p, _t) = -λ*N\n",
    "prob = ODEProblem(dN_dt, N0, (0., 20000.))\n",
    "sol = solve(prob, RK4());"
   ]
  },
  {
   "cell_type": "markdown",
   "metadata": {
    "slideshow": {
     "slide_type": "slide"
    }
   },
   "source": [
    "* The model is specified by writing $dN/dt = - \\lambda N$ but in general ODEs can take the form \n",
    "$$\n",
    "         \\dot{x}(t) = f(x(t), t)\n",
    "$$\n",
    "and moreover, $f$ may be a function of some model parameters (e.g., $\\lambda$ in the model above), i.e., $\\dot{x}(t) = f(x(t), p, t)$. In this case the definition of the model would become \n",
    "```\n",
    "dx_dt(x, p, t) = f(x, p, t)\n",
    "```\n",
    "* The parameters to `solve` are first the ODE model and second the numerical scheme to solve the ODE with, in the case above it is a so-called \"Runge-Kutta Order 4\" method. For other choices see [docs.juliadiffeq.org](http://docs.juliadiffeq.org/latest/solvers/ode_solve.html#OrdinaryDiffEq.jl-1).\n",
    "* Solution `sol` is a composite datatype containing vectors of time and solution, and can also be evaluated to interpolate between solution points. It can even be plotted directly.\n",
    "\n",
    "For more detail on these points and many more aspects of numerically solving ODEs in Julia, see \n",
    "* [JuliaDiffEq Tutorial](http://docs.juliadiffeq.org/latest/tutorials/ode_example.html)\n",
    "* [OrdinaryDiffEq.jl](https://github.com/JuliaDiffEq/OrdinaryDiffEq.jl) \n",
    "and links in those pages."
   ]
  },
  {
   "cell_type": "code",
   "execution_count": null,
   "metadata": {},
   "outputs": [],
   "source": [
    "@show sol.t\n",
    "@show sol.u\n",
    "@show sol(10000) # interpolate between stored values"
   ]
  },
  {
   "cell_type": "code",
   "execution_count": null,
   "metadata": {
    "slideshow": {
     "slide_type": "slide"
    }
   },
   "outputs": [],
   "source": [
    "# plot the numerical solution \n",
    "plot(sol, label=\"Numerical solution N(t)\")\n",
    "# plot the exact solution \n",
    "plot!(sol.t, N.(sol.t), label=\"Exact solution N(t)\", lw=3, ls=:dash)\n",
    "# add a dashed line to motivate the next problem\n",
    "hline!([4/λ], color=:black, ls=:dash, lw=2, label=\"N(t) = 4/λ\")"
   ]
  },
  {
   "cell_type": "markdown",
   "metadata": {
    "slideshow": {
     "slide_type": "slide"
    }
   },
   "source": [
    "## Root finding with `Roots.jl`\n",
    "\n",
    "Often we would like to find where a function is equal to zero, for example consider the cubic polynomial\n",
    "\n",
    "$$\n",
    "f(x) = (x - a)(x - b)(x - c)\n",
    "$$\n",
    "\n",
    "with $a = 2.3$, $b=3.1$ and $c = 3.6$."
   ]
  },
  {
   "cell_type": "code",
   "execution_count": null,
   "metadata": {},
   "outputs": [],
   "source": [
    "f(x) = (x - 2.3)*(x - 3.1)*(x - 3.6)\n",
    "x = 2:0.05:4\n",
    "plot(x, f.(x), lw=2, label=\"f(x)\")\n",
    "hline!([0], color=:red, lw=2, label=\"\")"
   ]
  },
  {
   "cell_type": "markdown",
   "metadata": {
    "slideshow": {
     "slide_type": "slide"
    }
   },
   "source": [
    "We can use the `Roots.jl` package to find roots of the equation near to a given $x$-coordinate, or to find all the roots in a given interval. Here the roots $f(x) = 0$ are at $x = a$, $x = b$ and $x = c$, but if $f(x)$ is more complicated these can be hard to find."
   ]
  },
  {
   "cell_type": "code",
   "execution_count": null,
   "metadata": {
    "slideshow": {
     "slide_type": "-"
    }
   },
   "outputs": [],
   "source": [
    "using Roots\n",
    "\n",
    "fzero(f, 3) # find a root of f(x) near x = 3"
   ]
  },
  {
   "cell_type": "code",
   "execution_count": null,
   "metadata": {},
   "outputs": [],
   "source": [
    "fzeros(f, 2, 4) # find all roots of f(x) between 2 and 5"
   ]
  },
  {
   "cell_type": "markdown",
   "metadata": {
    "slideshow": {
     "slide_type": "slide"
    }
   },
   "source": [
    "## Lesson Question\n",
    "\n",
    "Now let's return to the earlier example of finding the age of an artifact if we know decay rate has fallen to 4 dpm, pretending we don't have access to the exact solution. We can make an initial guess from the plot of about 10,000 years, then use interpolation and `fzero()` to find where the derivative crosses the line $\\mathrm{d}N/\\mathrm{d}t = -4$ dpm, or equivalently where the solution crosses the line $N(t) = 4/\\lambda$."
   ]
  },
  {
   "cell_type": "code",
   "execution_count": null,
   "metadata": {},
   "outputs": [],
   "source": [
    "age = fzero(t -> sol(t) - 4.0/λ, # define a function that is zero when our condition is met\n",
    "            10000.,  # resonable initial guess\n",
    "            ftol=0.1) # required precision, 0.1 years (≈ 1 month) is more than enough!"
   ]
  },
  {
   "cell_type": "code",
   "execution_count": null,
   "metadata": {},
   "outputs": [],
   "source": []
  },
  {
   "cell_type": "markdown",
   "metadata": {
    "slideshow": {
     "slide_type": "slide"
    }
   },
   "source": [
    "## SIR Epidemiological Model\n",
    "\n",
    "Next we'll look at an SIR (suscpetible-infectious-recovered) model, widely used in epidemiology to model the dynamics of disesases like measles where recovery gives lasting immunity. There are three states and two proceesses:\n",
    "\n",
    "- susceptible person and infected person combine to give two infected people at rate $\\alpha$\n",
    "- infected people recover at rate $\\beta$\n",
    "\n",
    "$$\n",
    "S + I \\to 2I \\\\\n",
    "I \\to R\n",
    "$$\n",
    "\n",
    "<center><img width=\"40%\" src=\"https://upload.wikimedia.org/wikipedia/commons/thumb/8/8a/SIR.PNG/220px-SIR.PNG\" ></center>\n",
    "\n",
    "The same equations can also describe chemical reactions (the first is autocatalysing, second a simple reaction). "
   ]
  },
  {
   "cell_type": "markdown",
   "metadata": {
    "slideshow": {
     "slide_type": "slide"
    }
   },
   "source": [
    "This model can be expressed by the equations:\n",
    "\n",
    "\\begin{eqnarray}\n",
    "\\frac{dS}{dt} & = & - \\alpha I S \\\\\n",
    "\\frac{dI}{dt} & = &  \\alpha I S - \\beta I \\\\\n",
    "\\frac{dR}{dt} & = & \\beta I\n",
    "\\end{eqnarray}\n",
    "\n",
    "Note that $\\frac{dS}{dt} + \\frac{dI}{dt} + \\frac{dR}{dt} = 0$, so the total population size remains constant.\n",
    "\n",
    "This is a non-linear model than cannot be easily solved analytically, but we can use `DifferentialEquations.jl` to obtain numerical solutions in just the same way as for the simpler case of radioactive decay.\n",
    "\n"
   ]
  },
  {
   "cell_type": "markdown",
   "metadata": {
    "slideshow": {
     "slide_type": "slide"
    }
   },
   "source": [
    "## Julia implementation of the SIR model"
   ]
  },
  {
   "cell_type": "code",
   "execution_count": null,
   "metadata": {
    "slideshow": {
     "slide_type": "-"
    }
   },
   "outputs": [],
   "source": [
    "α = 0.8\n",
    "β = 3.0\n",
    "u0 = [100.0, 1.0, 0.0] # start epidemic with 49 susceptible and 1 infected\n",
    "tspan = (0.0, 0.5)\n",
    "\n",
    "function SIR!(du, u, _p, _t)  # convention: function name ends with ! as it modifies argument du in place\n",
    "    S, I, R = u          # unpack u for readability\n",
    "    du[1] = - α*S*I      # dS/dt\n",
    "    du[2] = α*S*I - β*I  # dI/dt\n",
    "    du[3] = β*I          # dR/dt\n",
    "end\n",
    "\n",
    "sir_prob = ODEProblem(SIR!, u0, tspan)\n",
    "sir_sol = solve(sir_prob, RK4());"
   ]
  },
  {
   "cell_type": "code",
   "execution_count": null,
   "metadata": {
    "slideshow": {
     "slide_type": "slide"
    }
   },
   "outputs": [],
   "source": [
    "plot(sir_sol, label=[\"Susceptible\" \"Infected\" \"Recovered\"])\n",
    "# check total population is constant\n",
    "plot!(sir_sol.t, sum.(sir_sol.u), lw=3, label=\"Total\", ls=:dash) "
   ]
  },
  {
   "cell_type": "markdown",
   "metadata": {},
   "source": [
    "## Using a DSL\n",
    "\n",
    "The package [`DiffEqBiological.jl`](https://github.com/JuliaDiffEq/DiffEqBiological.jl) has implemented a DSL (domain specific language) for modelling reaction via ODEs, SDEs or jump processes. The SIR model above can be equivalently implemented as follows.\n",
    "\n",
    "In this particular case, it does not very much simplify the implementation, but in general using a DSL can be very convenient and very powerful. \n",
    "\n",
    "See [Chemical Reaction Models](http://docs.juliadiffeq.org/latest/models/biological.html) for the documentation of this functionality."
   ]
  },
  {
   "cell_type": "code",
   "execution_count": null,
   "metadata": {},
   "outputs": [],
   "source": [
    "using DiffEqBiological\n",
    "# same parameters \n",
    "α = 0.8\n",
    "β = 3.0\n",
    "u0 = [100.0, 1.0, 0.0] # start epidemic with 49 susceptible and 1 infected\n",
    "tspan = (0.0, 0.5)\n",
    "\n",
    "# specify the reaction network\n",
    "sir_model = @reaction_network SIR begin\n",
    "    c1, s + i --> 2i     # S -= 1 and I += 1 with rate c1 \n",
    "    c2,     i --> r      # I -= 1 and R += 1 with rate c2\n",
    "end c1 c2\n",
    "\n",
    "# specify the resulting ODE problem and solve it \n",
    "probODE = ODEProblem(sir_model, u0, tspan, (α,β))\n",
    "solnODE = solve(probODE, RK4())\n",
    "plot(solnODE, lw=3, label=[\"Susceptible\" \"Infected\" \"Recovered\"])"
   ]
  },
  {
   "cell_type": "markdown",
   "metadata": {
    "slideshow": {
     "slide_type": "slide"
    }
   },
   "source": [
    "## Discrete Gillespie problem\n",
    "\n",
    "Our model is not perfect for disease propagation because we are using continuous quantities to represent discrete populations, which doesn't work well with small populations.  `OrdinaryDiffEq.jl` has support for discrete problems as well and here we see an advantage of the DSL we used: we simply have to insert the reaction network into a Discrete problem to obtain the corresponding model and solution without having to understand the underlying modelling principles. \n",
    "\n",
    "**Note:** This model is stochestic, hence we get a different solution every time we run the model.\n",
    "\n",
    "For further documentation see [Discrete Stochastic (Gillespie) Equations](http://docs.juliadiffeq.org/v4.6.0/tutorials/discrete_stochastic_example.html)\n"
   ]
  },
  {
   "cell_type": "code",
   "execution_count": null,
   "metadata": {},
   "outputs": [],
   "source": [
    "# keep parameters and sir_model reaction network from above \n",
    "# Setup a Stochastic Discrete Simulator \n",
    "probDISC = JumpProblem(DiscreteProblem(u0, tspan, (α,β)), Direct(), sir_model)\n",
    "solDISC = solve(probDISC, FunctionMap())\n",
    ";"
   ]
  },
  {
   "cell_type": "code",
   "execution_count": null,
   "metadata": {},
   "outputs": [],
   "source": [
    "plot(solnODE, lw=1, label=[\"S(ode)\" \"I(ode)\" \"R(ode)\"])\n",
    "S, I, R = [u[1] for u in solDISC.u], [u[2] for u in solDISC.u], [u[3] for u in solDISC.u]\n",
    "t = solDISC.t \n",
    "plot!(t, S, lw=3, c=1, label = \"S(jump)\")\n",
    "plot!(t, I, lw=3, c=2, label = \"I(jump)\")\n",
    "plot!(t, R, lw=3, c=3, label = \"R(jump)\")"
   ]
  },
  {
   "cell_type": "code",
   "execution_count": null,
   "metadata": {},
   "outputs": [],
   "source": []
  },
  {
   "cell_type": "markdown",
   "metadata": {
    "slideshow": {
     "slide_type": "slide"
    }
   },
   "source": [
    "## Extension Question\n",
    "\n",
    "Compare the continuous and discrete implementations of the SIR models. How large does the population need to be before the continuum model is a good approximation? Hint: you will need to average over different runs as well as varying the population size."
   ]
  },
  {
   "cell_type": "code",
   "execution_count": null,
   "metadata": {},
   "outputs": [],
   "source": [
    "# plot(disc_sol, label=[\"Disc. Susceptible\" \"Disc. Infected\" \"Disc. Recovered\"])\n",
    "# plot!(sir_sol, ls=:dash, lw=2, color=[:blue :red :green], \n",
    "#       label=[\"Cont. Susceptible\" \"Cont. Infected\" \"Cont. Recovered\"])"
   ]
  }
 ],
 "metadata": {
  "celltoolbar": "Slideshow",
  "kernelspec": {
   "display_name": "Julia 1.3.0",
   "language": "julia",
   "name": "julia-1.3"
  },
  "language_info": {
   "file_extension": ".jl",
   "mimetype": "application/julia",
   "name": "julia",
   "version": "1.3.0"
  }
 },
 "nbformat": 4,
 "nbformat_minor": 2
}
