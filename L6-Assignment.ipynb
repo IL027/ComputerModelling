{
 "cells": [
  {
   "cell_type": "markdown",
   "metadata": {},
   "source": [
    "Before you turn this problem in, make sure everything runs as expected. First, **restart the kernel** (in the menubar, select Kernel$\\rightarrow$Restart) and then **run all cells** (in the menubar, select Cell$\\rightarrow$Run All).\n",
    "\n",
    "Make sure you fill in any place that says `YOUR CODE HERE` or \"YOUR ANSWER HERE\", as well as your name and collaborators below:"
   ]
  },
  {
   "cell_type": "code",
   "execution_count": null,
   "metadata": {},
   "outputs": [],
   "source": [
    "NAME = \"\"\n",
    "COLLABORATORS = \"\""
   ]
  },
  {
   "cell_type": "markdown",
   "metadata": {},
   "source": [
    "---"
   ]
  },
  {
   "cell_type": "markdown",
   "metadata": {
    "deletable": false,
    "editable": false,
    "nbgrader": {
     "checksum": "1e36fff1e40e3f12f2c97d0f024ad194",
     "grade": false,
     "grade_id": "cell-819cb748d38ae05d",
     "locked": true,
     "schema_version": 1,
     "solution": false
    }
   },
   "source": [
    "# Assignment 6 - Thinking about Place\n",
    "\n",
    "### Nigel de Noronha - Sociology"
   ]
  },
  {
   "cell_type": "markdown",
   "metadata": {
    "deletable": false,
    "editable": false,
    "nbgrader": {
     "checksum": "e57bea8c3563cb02d636505fc5f9644d",
     "grade": false,
     "grade_id": "cell-b2c7267b312576f2",
     "locked": true,
     "schema_version": 1,
     "solution": false
    }
   },
   "source": [
    "**Setup code** - imports packages, sets up plotting of maps using `geopandas` Python package."
   ]
  },
  {
   "cell_type": "code",
   "execution_count": null,
   "metadata": {
    "deletable": false,
    "editable": false,
    "nbgrader": {
     "checksum": "3fcee6299aa0754a45c346037bd9ba0d",
     "grade": false,
     "grade_id": "cell-29509108e89d5039",
     "locked": true,
     "schema_version": 1,
     "solution": false
    }
   },
   "outputs": [],
   "source": [
    "using DataFrames\n",
    "using Base.Test\n",
    "using Plots\n",
    "import PyPlot\n",
    "using PyCall\n",
    "\n",
    "py\"\"\"\n",
    "import pandas as pd\n",
    "import geopandas as gpd\n",
    "import matplotlib.pyplot as plt\n",
    "\n",
    "import matplotlib\n",
    "matplotlib.rcParams['figure.figsize'] = [10, 8]\n",
    "\n",
    "cov_map = gpd.read_file(\"cov.geojson\")\n",
    "cov_map = cov_map.to_crs({\"init\": \"epsg:27700\"}) # use ONS GB projection\n",
    "\n",
    "def plot_map(map, df, column, left_on=\"lsoa11nm\", right_on=\"LSOA\", \n",
    "             cmap=\"PuBu\", **kwargs):\n",
    "    df = pd.DataFrame(df)\n",
    "    map = map.merge(df, left_on=left_on, right_on=right_on)\n",
    "    ax = map.plot(column=column, edgecolors=\"black\", cmap=cmap, **kwargs)\n",
    "    vmin = map[column].min()\n",
    "    vmax = map[column].max()\n",
    "    fig = ax.get_figure()\n",
    "    cax = fig.add_axes([0.9, 0.1, 0.03, 0.8])\n",
    "    sm = plt.cm.ScalarMappable(cmap=cmap, norm=plt.Normalize(vmin, vmax))\n",
    "    sm._A = []\n",
    "    fig.colorbar(sm, cax=cax)\n",
    "\"\"\"\n",
    "py_plot_map = py\"plot_map\"\n",
    "cov_map = py\"cov_map\"\n",
    "\n",
    "plot_map(map, df, column; args...) = \n",
    "    py_plot_map(map, Dict(zip(names(df), DataFrames.columns(df))), String(column); args...)"
   ]
  },
  {
   "cell_type": "markdown",
   "metadata": {
    "deletable": false,
    "editable": false,
    "nbgrader": {
     "checksum": "e2803ed3d921a6a0f3d96cb9515ee328",
     "grade": false,
     "grade_id": "cell-8ca9478a9a6d6a64",
     "locked": true,
     "schema_version": 1,
     "solution": false
    }
   },
   "source": [
    "## 1. Exploring households by type and tenure (45%)\n",
    "\n",
    "The dataset `hhtenure.csv` holds counts of households by type and tenure.  The column headings are a combination of these two characteristics as outlined in the tables below:\n",
    "\n",
    "**Table 1 - Household type**\n",
    "\n",
    "Prefix| Group                         | Household type\n",
    "---  | ----                           | ---\n",
    "sp\t  | **Households without dependents** | Single person under 65\n",
    "cpnc  |                               | Couple with no children\n",
    "oth\t  |\t                              | Other household\n",
    "cpdc  | **Households with dependent children** | Couple with dependent children\n",
    "lpdc  |\t                                   | Lone parent with dependent children\n",
    "othdc |\t \t                               | Other household with dependent children\n",
    "cpndc |\t**Households with non-dependent children** | Couple with non-dependent children\n",
    "lpndc |\t\t                                   | Lone parent with non-dependent children\n",
    "sp65  |\t**Older households**\t                   | Single person aged 65 or over\n",
    "cp65  |\t\t                                   | Couple both aged 65 or over\n",
    "\n",
    "**Table 2 - Tenure**\n",
    "\n",
    "Suffix|Tenure type\n",
    "------|------------\n",
    "own | Owned with or without a mortgage and shared ownership\n",
    "sr\t| Social rented from the council or a housing association\n",
    "pr\t| Private rented"
   ]
  },
  {
   "cell_type": "code",
   "execution_count": null,
   "metadata": {
    "deletable": false,
    "editable": false,
    "nbgrader": {
     "checksum": "a4a3dc1e3fd5937bb62b7416a584dc90",
     "grade": false,
     "grade_id": "cell-5687c679fa2ae29c",
     "locked": true,
     "schema_version": 1,
     "solution": false
    }
   },
   "outputs": [],
   "source": [
    "hhtenure = readtable(\"hhtenure.csv\")\n",
    "orig_cols = names(hhtenure)\n",
    "head(hhtenure)"
   ]
  },
  {
   "cell_type": "markdown",
   "metadata": {
    "deletable": false,
    "editable": false,
    "nbgrader": {
     "checksum": "b4333b92e93abce73cbf865edb0f2a9b",
     "grade": false,
     "grade_id": "cell-9f4bb2ad4442b114",
     "locked": true,
     "schema_version": 1,
     "solution": false
    }
   },
   "source": [
    "As an example, we can add a new `total` variable giving the total number of households in each LSOA"
   ]
  },
  {
   "cell_type": "code",
   "execution_count": null,
   "metadata": {
    "deletable": false,
    "editable": false,
    "nbgrader": {
     "checksum": "a13bd5351d50a9256439f434b1271db4",
     "grade": false,
     "grade_id": "cell-ceefe80dd34e9c64",
     "locked": true,
     "schema_version": 1,
     "solution": false
    }
   },
   "outputs": [],
   "source": [
    "# add up total number of households in original columns\n",
    "hhtenure[:total] = zeros(nrow(hhtenure))\n",
    "for col in [:spown, :cpncown, :othown, :cpdcown, :lpdcown, :othdcown, \n",
    "            :cpndcown, :lpndcown, :sp65own, :cp65own, :spsr, :cpncsr, \n",
    "            :othsr, :cpdcsr, :lpdcsr, :othdcsr, :cpndcsr, :lpndcsr, \n",
    "            :sp65sr, :cp65sr, :sppr, :cpncpr, :othpr, :cpdcpr, :lpdcpr, \n",
    "            :othdcpr, :cpndcpr, :lpndcpr, :sp65pr, :cp65pr]\n",
    "    hhtenure[:total] += hhtenure[col]\n",
    "end"
   ]
  },
  {
   "cell_type": "markdown",
   "metadata": {
    "deletable": false,
    "editable": false,
    "nbgrader": {
     "checksum": "a4756eef792b4fe86e1fd9c54f88f675",
     "grade": false,
     "grade_id": "cell-a99c39c295ab9b07",
     "locked": true,
     "schema_version": 1,
     "solution": false
    }
   },
   "source": [
    "**Question 1.a) [15%]**\tcreate new variables `ndep` to hold the counts of Households without dependents (including those who have non-dependent children), `dep` for Households with dependent children and `older` for Older households; and for each of the tenures `own`, `sr`, `pr`.\n",
    "\n",
    "*Hint:* you might find the functions `startswith()` and `endswith()` useful to identify columns matching certain prefices and suffices; note that you can convert from a `Symbol` to a `String` with the `String()` function."
   ]
  },
  {
   "cell_type": "code",
   "execution_count": null,
   "metadata": {
    "deletable": false,
    "nbgrader": {
     "checksum": "492b7ae737e11d16041f0d9ff3eb16e2",
     "grade": false,
     "grade_id": "cell-060201f713320b80",
     "locked": false,
     "schema_version": 1,
     "solution": true
    }
   },
   "outputs": [],
   "source": [
    "# YOUR CODE HERE"
   ]
  },
  {
   "cell_type": "code",
   "execution_count": null,
   "metadata": {
    "deletable": false,
    "editable": false,
    "nbgrader": {
     "checksum": "69babc4fe231815e8031160cd2c2f595",
     "grade": true,
     "grade_id": "cell-3e0b4537a792d048",
     "locked": true,
     "points": 15,
     "schema_version": 1,
     "solution": false
    }
   },
   "outputs": [],
   "source": [
    "# sum of owners, private-renters and social-renters should match original totals\n",
    "@test all(hhtenure[:own] + hhtenure[:sr] + hhtenure[:pr] .== hhtenure[:total])\n",
    "\n",
    "# sum of non-dependent, dependent and older households should match original totals\n",
    "@test all(hhtenure[:ndep] + hhtenure[:dep] + hhtenure[:older] .== hhtenure[:total])\n",
    "\n",
    "# check total number of households in each category\n",
    "@test sum(hhtenure[:dep]) == 39864\n",
    "@test sum(hhtenure[:ndep]) == 64405\n",
    "@test sum(hhtenure[:older]) == 24323\n",
    "\n",
    "# check total number of households in each category\n",
    "@test sum(hhtenure[:own]) == 78630\n",
    "@test sum(hhtenure[:pr]) == 28048\n",
    "@test sum(hhtenure[:sr]) == 21914"
   ]
  },
  {
   "cell_type": "markdown",
   "metadata": {
    "deletable": false,
    "editable": false,
    "nbgrader": {
     "checksum": "5823959451fc18d61f3ffb03af697b06",
     "grade": false,
     "grade_id": "cell-5de002db8a16e52f",
     "locked": true,
     "schema_version": 1,
     "solution": false
    }
   },
   "source": [
    "**Question 1. b) [10%]** calculate and store the proportion of different household groups and tenure in each LSOA in new columns named `prop_dep`, `prop_ndep`, `prop_older`, `prop_own`, `prop_pr` and `prop_sr`. \n",
    "\n",
    "*Hint:* use the `total` column created above."
   ]
  },
  {
   "cell_type": "code",
   "execution_count": null,
   "metadata": {
    "deletable": false,
    "nbgrader": {
     "checksum": "6ac11437a47813883cd2b0c89326c9e8",
     "grade": false,
     "grade_id": "cell-f86eeb70002ad24d",
     "locked": false,
     "schema_version": 1,
     "solution": true
    }
   },
   "outputs": [],
   "source": [
    "# YOUR CODE HERE"
   ]
  },
  {
   "cell_type": "code",
   "execution_count": null,
   "metadata": {
    "deletable": false,
    "editable": false,
    "nbgrader": {
     "checksum": "2bb85a432d1d7b8e54d22eb19ec20ddf",
     "grade": true,
     "grade_id": "cell-61327e1fcb701c9a",
     "locked": true,
     "points": 10,
     "schema_version": 1,
     "solution": false
    }
   },
   "outputs": [],
   "source": [
    "# check all the new columns exist and that they are floating point numbers\n",
    "@test all(eltype.([hhtenure[:prop_dep], hhtenure[:prop_ndep], hhtenure[:prop_older], \n",
    "                   hhtenure[:prop_own], hhtenure[:prop_pr], hhtenure[:prop_sr]]) .== Float64)\n",
    "\n",
    "# propotions of dep + ndep + older should add to 1.0\n",
    "@test all(hhtenure[:prop_dep] + hhtenure[:prop_ndep] + hhtenure[:prop_older] .≈ 1.0)\n",
    "\n",
    "# propotions of own + pr + sr should add to 1.0\n",
    "@test all(hhtenure[:prop_own] + hhtenure[:prop_pr] + hhtenure[:prop_sr] .≈ 1.0)\n",
    "\n",
    "# now check the averages across the city match expected results\n",
    "@test mean(hhtenure[:prop_dep]) ≈ 0.3157783879437741\n",
    "@test mean(hhtenure[:prop_ndep]) ≈ 0.4929950444337319\n",
    "@test mean(hhtenure[:prop_older]) ≈ 0.19122656762249396\n",
    "@test mean(hhtenure[:prop_own]) ≈ 0.6278113067080776\n",
    "@test mean(hhtenure[:prop_pr]) ≈ 0.21117127643988706\n",
    "@test mean(hhtenure[:prop_sr]) ≈ 0.1610174168520353"
   ]
  },
  {
   "cell_type": "markdown",
   "metadata": {
    "deletable": false,
    "editable": false,
    "nbgrader": {
     "checksum": "3241f5e074cd5c3a3d63fda92372b1e3",
     "grade": false,
     "grade_id": "cell-834bdc8e8412500e",
     "locked": true,
     "schema_version": 1,
     "solution": false
    }
   },
   "source": [
    "*(Not for credit)* Experiment with visualising your data, e.g. using the code below for the proportion of owner occupiers. Modify the code to plot your other new variables. Do the maps match what you would expect?"
   ]
  },
  {
   "cell_type": "code",
   "execution_count": null,
   "metadata": {},
   "outputs": [],
   "source": [
    "plot_map(cov_map, hhtenure, :prop_own)"
   ]
  },
  {
   "cell_type": "markdown",
   "metadata": {
    "deletable": false,
    "editable": false,
    "nbgrader": {
     "checksum": "da0f16dd83cc184e9547fbedca0777dd",
     "grade": false,
     "grade_id": "cell-0b62869462e1a0da",
     "locked": true,
     "schema_version": 1,
     "solution": false
    }
   },
   "source": [
    "These new variables reflect the proportion within a single LSOA.  We might also be interested in the extent to which particular groups in the population are concentrated in some areas.  To do this we need to calculate a new variable. We can create a standardised likelihood that a particular group lives in an LSOA by multiplying it by the number of LSOAs in Coventry (195):\n",
    "\n",
    "$$\n",
    "\\text{Standardised likelihood} = 195\\cdot\\frac{\\text{Number of group within the LSOA}}{\\text{Number of group within Coventry}}\n",
    "$$\n",
    "\n",
    "This will give a number where less than 1 can be interpreted as lower than average, 1 as average for Coventry and greater than 1 as higher than average or concentrated.\n",
    "\n",
    "**Question 1. c) [5%]**\tcalculate new variables `sl_oth`, for the standarised likelihood of other households, `sl_lpdc`, for lone parents with dependent children, `sl_sr` for social Housing and `sl_pr` for private rented \n",
    "\n",
    "*Hint*, for the last two you can reuse your `sr` and `pr` variables, but for the first two you first need to add the revelant variables to determine the total number of other households and of lone parents with dependent children."
   ]
  },
  {
   "cell_type": "code",
   "execution_count": null,
   "metadata": {
    "deletable": false,
    "nbgrader": {
     "checksum": "ca39f5b5d773b9fea108ad9b5737aede",
     "grade": false,
     "grade_id": "cell-f8da78bdc999c4ab",
     "locked": false,
     "schema_version": 1,
     "solution": true
    }
   },
   "outputs": [],
   "source": [
    "# YOUR CODE HERE"
   ]
  },
  {
   "cell_type": "code",
   "execution_count": null,
   "metadata": {
    "deletable": false,
    "editable": false,
    "nbgrader": {
     "checksum": "8bd04e0967dc16cdaab1e0f11a6eeb7a",
     "grade": true,
     "grade_id": "cell-10f9a1cc1a97a93d",
     "locked": true,
     "points": 5,
     "schema_version": 1,
     "solution": false
    }
   },
   "outputs": [],
   "source": [
    "# Standardised likelihoods should sum to the number of LSOAs in Coventry, i.e. 195\n",
    "@test sum(hhtenure[:sl_oth]) ≈ 195.\n",
    "@test sum(hhtenure[:sl_lpdc]) ≈ 195.\n",
    "@test sum(hhtenure[:sl_sr]) ≈ 195.\n",
    "@test sum(hhtenure[:sl_pr]) ≈ 195.\n",
    "\n",
    "# Average of each S.L. should be close to 1.0\n",
    "@test mean(hhtenure[:sl_oth]) ≈ 1.0\n",
    "@test mean(hhtenure[:sl_lpdc]) ≈ 1.0\n",
    "@test mean(hhtenure[:sl_sr]) ≈ 1.0\n",
    "@test mean(hhtenure[:sl_pr]) ≈ 1.0"
   ]
  },
  {
   "cell_type": "markdown",
   "metadata": {
    "deletable": false,
    "editable": false,
    "nbgrader": {
     "checksum": "3c4ffab8bce869d628eea53951ddce0c",
     "grade": false,
     "grade_id": "cell-f58908ddb26ec0bc",
     "locked": true,
     "schema_version": 1,
     "solution": false
    }
   },
   "source": [
    "**Question 1. d) [15%]** identify the number of LSOAs for each variable where these groups are concentrated (i.e. standardised likelihood of > 1) and store them in Julia variables (*not* new columns) `n_oth`, `n_lpdc`, `n_sr` and `n_pr`. "
   ]
  },
  {
   "cell_type": "code",
   "execution_count": null,
   "metadata": {
    "deletable": false,
    "nbgrader": {
     "checksum": "901d109f8e954011b85cdaeb00403cd5",
     "grade": false,
     "grade_id": "cell-d1a5b996186ee340",
     "locked": false,
     "schema_version": 1,
     "solution": true
    }
   },
   "outputs": [],
   "source": [
    "# YOUR CODE HERE"
   ]
  },
  {
   "cell_type": "code",
   "execution_count": null,
   "metadata": {
    "deletable": false,
    "editable": false,
    "nbgrader": {
     "checksum": "1086c6e2028d36645b814bd43a9e10c3",
     "grade": true,
     "grade_id": "cell-2a0a97750ce62400",
     "locked": true,
     "points": 10,
     "schema_version": 1,
     "solution": false
    }
   },
   "outputs": [],
   "source": [
    "# Check the new variables are defined and that they are of integer type\n",
    "@test all(eltype.([n_oth, n_lpdc, n_sr, n_pr]) .== Int64)"
   ]
  },
  {
   "cell_type": "markdown",
   "metadata": {
    "deletable": false,
    "editable": false,
    "nbgrader": {
     "checksum": "17742cf1703008841bfe765021ef8fd6",
     "grade": false,
     "grade_id": "cell-3a4d1744ff43d636",
     "locked": true,
     "schema_version": 1,
     "solution": false
    }
   },
   "source": [
    "Highlight the LSOAs with high concentrations of social renting on a map."
   ]
  },
  {
   "cell_type": "code",
   "execution_count": null,
   "metadata": {
    "deletable": false,
    "nbgrader": {
     "checksum": "d0f66a35118411098085b6af4e7c9bff",
     "grade": true,
     "grade_id": "cell-9c5199d45f79aed6",
     "locked": false,
     "points": 5,
     "schema_version": 1,
     "solution": true
    }
   },
   "outputs": [],
   "source": [
    "# YOUR CODE HERE"
   ]
  },
  {
   "cell_type": "markdown",
   "metadata": {
    "deletable": false,
    "editable": false,
    "nbgrader": {
     "checksum": "d003d2f71ae49d391026eac59ad8f902",
     "grade": false,
     "grade_id": "cell-a766bd9cb62accaf",
     "locked": true,
     "schema_version": 1,
     "solution": false
    }
   },
   "source": [
    "## 2.\tExploring ethnicity and deprivation (55%)\n",
    "\n",
    "The dataset `ethnicity.csv` holds counts of people by ethnic group and an indicator of the level of deprivation where higher values mean areas are more deprived.  The column headings are explained below:\n",
    "\n",
    "**Table 3 - ethnicity and area deprivation**\n",
    "\n",
    "Code |\tDescription\n",
    "--|--\n",
    "wbrit |\tWhite British\n",
    "wirish |\tWhite Irish\n",
    "wother |\tWhite other\n",
    "mixed |\tMixed\n",
    "indian | Indian\n",
    "pakist |  Pakistani\n",
    "bangla | Bangladeshi\n",
    "chinese\t| Chinese\n",
    "othasian | Asian other\n",
    "blafrican | Black African\n",
    "blcarrb\t| Black Caribbean\n",
    "blother\t| Black other\n",
    "other |\tOther ethnic group\n",
    "IMD\t | Index of Multiple Deprivation score (higher means more deprived)"
   ]
  },
  {
   "cell_type": "code",
   "execution_count": null,
   "metadata": {
    "deletable": false,
    "editable": false,
    "nbgrader": {
     "checksum": "fce600ac169631baf5220f296a2022b4",
     "grade": false,
     "grade_id": "cell-3b065cf59307f1b8",
     "locked": true,
     "schema_version": 1,
     "solution": false
    }
   },
   "outputs": [],
   "source": [
    "ethnicity = readtable(\"ethnicity.csv\")\n",
    "head(ethnicity)"
   ]
  },
  {
   "cell_type": "markdown",
   "metadata": {
    "deletable": false,
    "editable": false,
    "nbgrader": {
     "checksum": "c0b8387624632c81f364b395b8763e0a",
     "grade": false,
     "grade_id": "cell-829a22168154634e",
     "locked": true,
     "schema_version": 1,
     "solution": false
    }
   },
   "source": [
    "**Question 2. a) [10%]**\tcalculate new columns for the white other, Indian, Pakistani, Bangladeshi and black African ethnic groups to show the standardised likelihood that they are living in each LSOA. Name your columns `sl_wother`, `sl_indian`, `sl_pakist`, `sl_bangla` and `sl_blafrican`. You might like to experiment with plotting your new columns on a map."
   ]
  },
  {
   "cell_type": "code",
   "execution_count": null,
   "metadata": {
    "deletable": false,
    "nbgrader": {
     "checksum": "6282b801b117cec7c9d69cc353d6cf03",
     "grade": false,
     "grade_id": "cell-f0f04748c15e6d3c",
     "locked": false,
     "schema_version": 1,
     "solution": true
    }
   },
   "outputs": [],
   "source": [
    "# YOUR CODE HERE"
   ]
  },
  {
   "cell_type": "code",
   "execution_count": null,
   "metadata": {
    "deletable": false,
    "editable": false,
    "nbgrader": {
     "checksum": "6b9e2af4f088ae465d634f8aefd2ab79",
     "grade": true,
     "grade_id": "cell-eb5c6959c42ccbc1",
     "locked": true,
     "points": 10,
     "schema_version": 1,
     "solution": false
    }
   },
   "outputs": [],
   "source": [
    "@test sum(ethnicity[:sl_wother] .> 1.0) == 67\n",
    "@test sum(ethnicity[:sl_indian] .> 1.0) == 82\n",
    "@test sum(ethnicity[:sl_pakist] .> 1.0) == 42\n",
    "@test sum(ethnicity[:sl_bangla] .> 1.0) == 42\n",
    "@test sum(ethnicity[:sl_blafrican] .> 1.0) == 62"
   ]
  },
  {
   "cell_type": "markdown",
   "metadata": {
    "deletable": false,
    "editable": false,
    "nbgrader": {
     "checksum": "27a2d6d83bea2ddf18000fef23f65feb",
     "grade": false,
     "grade_id": "cell-a43b739fba0e0501",
     "locked": true,
     "schema_version": 1,
     "solution": false
    }
   },
   "source": [
    "**Question 2.b) [10%]**\tcreate summary statistics (mean, standard deviation, minimum and maximum) of the standardised likelihoods for each ethnic group"
   ]
  },
  {
   "cell_type": "code",
   "execution_count": null,
   "metadata": {
    "deletable": false,
    "nbgrader": {
     "checksum": "24dafdf1059f0de9d84d0a7e3ac6ab52",
     "grade": true,
     "grade_id": "cell-083fcc0ae9bf7e28",
     "locked": false,
     "points": 10,
     "schema_version": 1,
     "solution": true
    }
   },
   "outputs": [],
   "source": [
    "# YOUR CODE HERE"
   ]
  },
  {
   "cell_type": "markdown",
   "metadata": {
    "deletable": false,
    "editable": false,
    "nbgrader": {
     "checksum": "f2d1fab54a393ecb7fa36fbfa57f8715",
     "grade": false,
     "grade_id": "cell-563cae9b76e794a5",
     "locked": true,
     "schema_version": 1,
     "solution": false
    }
   },
   "source": [
    "**Question 2. c) [10%]** create a histogram showing the standardised likelihood for each ethnic minority group by LSOA. You may prefer to make a series of histograms, one for each ethnic minority."
   ]
  },
  {
   "cell_type": "code",
   "execution_count": null,
   "metadata": {
    "deletable": false,
    "nbgrader": {
     "checksum": "5b8b455d46c5a979bc233c50c1f63c7e",
     "grade": true,
     "grade_id": "cell-ff42afd3a04edff8",
     "locked": false,
     "points": 10,
     "schema_version": 1,
     "solution": true
    }
   },
   "outputs": [],
   "source": [
    "# YOUR CODE HERE"
   ]
  },
  {
   "cell_type": "markdown",
   "metadata": {
    "deletable": false,
    "editable": false,
    "nbgrader": {
     "checksum": "ba936badbb0d7bd89c737a934bf60b83",
     "grade": false,
     "grade_id": "cell-7476bd9d1738af2b",
     "locked": true,
     "schema_version": 1,
     "solution": false
    }
   },
   "source": [
    "Whilst there is heterogeneity within ethnic groups sociologists have suggested that some are more likely to live in deprived areas.\n",
    "\n",
    "**Question 2. d) [15%] **\tproduce scatterplots between the concentration of each ethnic group and the Index of Multiple Deprivation.  Is there a relationship between each ethnic group and deprivation? Is it positive or negative?\n",
    "\n",
    "*Hint*: It may be useful to fit a regression line to assess the relationship, e.g. using the `smooth=true` optional argument to `scatter()`, which adds a regression line to the plot."
   ]
  },
  {
   "cell_type": "code",
   "execution_count": null,
   "metadata": {
    "deletable": false,
    "nbgrader": {
     "checksum": "16338f200998372a0828110af928bffb",
     "grade": true,
     "grade_id": "cell-568d89513a58db8f",
     "locked": false,
     "points": 10,
     "schema_version": 1,
     "solution": true
    },
    "slideshow": {
     "slide_type": "subslide"
    }
   },
   "outputs": [],
   "source": [
    "# YOUR CODE HERE"
   ]
  },
  {
   "cell_type": "markdown",
   "metadata": {
    "deletable": false,
    "nbgrader": {
     "checksum": "fed75be92b11bc91c362c9e0421d0641",
     "grade": true,
     "grade_id": "cell-fe086eeac869f12c",
     "locked": false,
     "points": 5,
     "schema_version": 1,
     "solution": true
    }
   },
   "source": [
    "YOUR ANSWER HERE"
   ]
  },
  {
   "cell_type": "markdown",
   "metadata": {
    "deletable": false,
    "editable": false,
    "nbgrader": {
     "checksum": "9bac3581c47d345e7f49f3a6749982c9",
     "grade": false,
     "grade_id": "cell-eea92f6b4d0a3a98",
     "locked": true,
     "schema_version": 1,
     "solution": false
    }
   },
   "source": [
    "**Question 2. e [10%]** Devise your own metric to compare the concentrations of each ethnic minority in LSOAs across Coventry and plot a bar graph to compare the different ethnic groups."
   ]
  },
  {
   "cell_type": "code",
   "execution_count": null,
   "metadata": {
    "deletable": false,
    "nbgrader": {
     "checksum": "34666971e80e4cc581cfe63467fbc325",
     "grade": true,
     "grade_id": "cell-7ca69a2a0ce98fd1",
     "locked": false,
     "points": 5,
     "schema_version": 1,
     "solution": true
    }
   },
   "outputs": [],
   "source": [
    "# YOUR CODE HERE"
   ]
  },
  {
   "cell_type": "markdown",
   "metadata": {
    "deletable": false,
    "editable": false,
    "nbgrader": {
     "checksum": "5fd2ad18bef83449b0a79b1e0d405744",
     "grade": false,
     "grade_id": "cell-2d704bd5d563369c",
     "locked": true,
     "schema_version": 1,
     "solution": false
    }
   },
   "source": [
    "Which minority group is the most concentrated?"
   ]
  },
  {
   "cell_type": "markdown",
   "metadata": {
    "deletable": false,
    "nbgrader": {
     "checksum": "e87d2404cc9c0408b5ac3d35cc142be7",
     "grade": true,
     "grade_id": "cell-d2b9f23d614cd369",
     "locked": false,
     "points": 5,
     "schema_version": 1,
     "solution": true
    }
   },
   "source": [
    "YOUR ANSWER HERE"
   ]
  },
  {
   "cell_type": "markdown",
   "metadata": {
    "deletable": false,
    "editable": false,
    "nbgrader": {
     "checksum": "d03341a00292b66f3ff942b4eec4ec1c",
     "grade": false,
     "grade_id": "cell-23944d01897449e9",
     "locked": true,
     "schema_version": 1,
     "solution": false
    }
   },
   "source": [
    "## 3. Bonus Question (no marks)\n",
    "\n",
    "The file `migqual.csv` contains counts of the number of people who were born in the UK or when they moved here.  The first set of data is for all residents, the second for those with level 4 qualifications.  The variables in the file are shown in Table 4.\n",
    "\n",
    "**Table 4 - born here or migrated to the UK by highest education qualification**\n",
    "\n",
    "Code |\tDescription\n",
    "----|---\n",
    "|*For all residents*\n",
    "bornhere|\tBorn in the UK\n",
    "arrpre61|\tArrived before 1961\n",
    "arr6170|\tArrived between 1961 and 1970\n",
    "arr7180|\tArrived between 1971 and 1980\n",
    "arr8190|\tArrived between 1981 and 1990\n",
    "arr9100|\tArrived between 1991 and 2000\n",
    "arr0111|\tArrived between 2001 and 2011\n",
    "|*For residents with level 4 qualifications or above (classed as a degree)*\n",
    "l4bornhere|\tBorn in the UK\n",
    "l4arrpre61|\tArrived before 1961\n",
    "l4arr6170|\tArrived between 1961 and 1970\n",
    "l4arr7180|\tArrived between 1971 and 1980\n",
    "l4arr8190|\tArrived between 1981 and 1990\n",
    "l4arr9100|\tArrived between 1991 and 2000\n",
    "l4arr0111|\tArrived between 2001 and 2011\n",
    "\n",
    "A column showing the index of multiple deprivation score is also included."
   ]
  },
  {
   "cell_type": "code",
   "execution_count": null,
   "metadata": {
    "deletable": false,
    "editable": false,
    "nbgrader": {
     "checksum": "4421dca12096ff5577d93af6a1265d46",
     "grade": false,
     "grade_id": "cell-f9cc165837c9bf5c",
     "locked": true,
     "schema_version": 1,
     "solution": false
    }
   },
   "outputs": [],
   "source": [
    "migqual = readtable(\"migqual.csv\")\n",
    "mig_cols = names(migqual)[2:8]\n",
    "head(migqual)"
   ]
  },
  {
   "cell_type": "markdown",
   "metadata": {
    "deletable": false,
    "editable": false,
    "nbgrader": {
     "checksum": "8b7a98b447c1b3da95daa1e0e6450fc9",
     "grade": false,
     "grade_id": "cell-2b3e9e4270fe2baa",
     "locked": true,
     "schema_version": 1,
     "solution": false
    }
   },
   "source": [
    "For example, we could map the number of residents born in the UK for each LSOA"
   ]
  },
  {
   "cell_type": "code",
   "execution_count": null,
   "metadata": {},
   "outputs": [],
   "source": [
    "plot_map(cov_map, migqual, :bornhere)"
   ]
  },
  {
   "cell_type": "markdown",
   "metadata": {
    "deletable": false,
    "editable": false,
    "nbgrader": {
     "checksum": "1118180e37e692e6e3f2fae6e026bdd1",
     "grade": false,
     "grade_id": "cell-ba83438ebe527b25",
     "locked": true,
     "schema_version": 1,
     "solution": false
    }
   },
   "source": [
    "**Question 3. a)**\tcalculate new variables for all residents in each migrant cohort to show the standardised likelihood that they are living in each LSOA"
   ]
  },
  {
   "cell_type": "code",
   "execution_count": null,
   "metadata": {
    "deletable": false,
    "nbgrader": {
     "checksum": "ad60a7a699770bb50afe62b7d8bbabde",
     "grade": true,
     "grade_id": "cell-32c017e4d78ead28",
     "locked": false,
     "points": 0,
     "schema_version": 1,
     "solution": true
    }
   },
   "outputs": [],
   "source": [
    "# YOUR CODE HERE"
   ]
  },
  {
   "cell_type": "markdown",
   "metadata": {
    "deletable": false,
    "editable": false,
    "nbgrader": {
     "checksum": "3bd5a577c2990e98054340fd8e23903b",
     "grade": false,
     "grade_id": "cell-a98bbf415e359a72",
     "locked": true,
     "schema_version": 1,
     "solution": false
    }
   },
   "source": [
    "**Question 3. b)**\tcreate summary statistics (mean, standard deviation, minimum and maximum) for each of these groups"
   ]
  },
  {
   "cell_type": "code",
   "execution_count": null,
   "metadata": {
    "deletable": false,
    "nbgrader": {
     "checksum": "6f3ce2bd789b64094b81bb637ae6ad23",
     "grade": true,
     "grade_id": "cell-e427d6d941ef5aff",
     "locked": false,
     "points": 0,
     "schema_version": 1,
     "solution": true
    }
   },
   "outputs": [],
   "source": [
    "# YOUR CODE HERE"
   ]
  },
  {
   "cell_type": "markdown",
   "metadata": {
    "deletable": false,
    "editable": false,
    "nbgrader": {
     "checksum": "25bfd448fc3d154c5a9f235cd42fd51d",
     "grade": false,
     "grade_id": "cell-eda8266fc5baae7e",
     "locked": true,
     "schema_version": 1,
     "solution": false
    }
   },
   "source": [
    "**Quesiton 3. c)**\tidentify the extent to which each migrant cohort is clustered in LSOAs in Coventry. Plot a suitable graph to illustrate your answer."
   ]
  },
  {
   "cell_type": "code",
   "execution_count": null,
   "metadata": {
    "deletable": false,
    "nbgrader": {
     "checksum": "42ab21ea57c3221bd80f23f388c5f1f5",
     "grade": true,
     "grade_id": "cell-9ee4a337dc3593b8",
     "locked": false,
     "points": 0,
     "schema_version": 1,
     "solution": true
    }
   },
   "outputs": [],
   "source": [
    "# YOUR CODE HERE"
   ]
  },
  {
   "cell_type": "markdown",
   "metadata": {
    "deletable": false,
    "editable": false,
    "nbgrader": {
     "checksum": "1e750efb85c2bf5131f8de19dd2b3c80",
     "grade": false,
     "grade_id": "cell-cc3965a9f514f244",
     "locked": true,
     "schema_version": 1,
     "solution": false
    }
   },
   "source": [
    "**Quesiton 3. d)**\tcalculate a new variable for migrants who arrived since 2001 with a degree level qualification to show the standardised likelihood that they are living in each LSOA, plotting the results on a map."
   ]
  },
  {
   "cell_type": "code",
   "execution_count": null,
   "metadata": {
    "deletable": false,
    "nbgrader": {
     "checksum": "3bffe17c5313438cf6e654ff9f4aec98",
     "grade": true,
     "grade_id": "cell-575a8ff535524c25",
     "locked": false,
     "points": 0,
     "schema_version": 1,
     "solution": true
    }
   },
   "outputs": [],
   "source": [
    "# YOUR CODE HERE"
   ]
  },
  {
   "cell_type": "markdown",
   "metadata": {
    "deletable": false,
    "editable": false,
    "nbgrader": {
     "checksum": "b08a21b3b2b5cac22d3a8c7a90439120",
     "grade": false,
     "grade_id": "cell-37710ab1d926e11b",
     "locked": true,
     "schema_version": 1,
     "solution": false
    }
   },
   "source": [
    "**Question 3. e)**\tproduce a scatterplot between the entire 2001 migrant cohort and those with degree level qualifications."
   ]
  },
  {
   "cell_type": "code",
   "execution_count": null,
   "metadata": {
    "deletable": false,
    "nbgrader": {
     "checksum": "9939e7724243b0b3781439108929a232",
     "grade": true,
     "grade_id": "cell-ab8a2ac70772c5cc",
     "locked": false,
     "points": 0,
     "schema_version": 1,
     "solution": true
    }
   },
   "outputs": [],
   "source": [
    "# YOUR CODE HERE"
   ]
  },
  {
   "cell_type": "markdown",
   "metadata": {
    "deletable": false,
    "editable": false,
    "nbgrader": {
     "checksum": "64fbef5df32f6b2da20d51146369808b",
     "grade": false,
     "grade_id": "cell-60350699c32706b4",
     "locked": true,
     "schema_version": 1,
     "solution": false
    }
   },
   "source": [
    "Is there a relationship between them? Is it positive or negative?"
   ]
  },
  {
   "cell_type": "markdown",
   "metadata": {
    "deletable": false,
    "nbgrader": {
     "checksum": "13a49992c0266449cfaa8d5fd897cc0b",
     "grade": true,
     "grade_id": "cell-aa9b3a0710ee4a2b",
     "locked": false,
     "points": 0,
     "schema_version": 1,
     "solution": true
    }
   },
   "source": [
    "YOUR ANSWER HERE"
   ]
  },
  {
   "cell_type": "markdown",
   "metadata": {
    "deletable": false,
    "editable": false,
    "nbgrader": {
     "checksum": "01c480f5c40fa1d5d20a39f75dbf4fc3",
     "grade": false,
     "grade_id": "cell-ec6aa5243770f196",
     "locked": true,
     "schema_version": 1,
     "solution": false
    }
   },
   "source": [
    "**Question 3. f)**\tproduce a scatterplot between each of the 2001 migrant cohorts and the index of multiple deprivation score."
   ]
  },
  {
   "cell_type": "code",
   "execution_count": null,
   "metadata": {
    "deletable": false,
    "nbgrader": {
     "checksum": "f7a8f0931fc041d0c0dafbee235daa7a",
     "grade": true,
     "grade_id": "cell-e112915924f13949",
     "locked": false,
     "points": 0,
     "schema_version": 1,
     "solution": true
    }
   },
   "outputs": [],
   "source": [
    "# YOUR CODE HERE"
   ]
  },
  {
   "cell_type": "markdown",
   "metadata": {
    "deletable": false,
    "editable": false,
    "nbgrader": {
     "checksum": "6f2196c185f2663a29092318fb749d19",
     "grade": false,
     "grade_id": "cell-94e5a81367d40b7c",
     "locked": true,
     "schema_version": 1,
     "solution": false
    }
   },
   "source": [
    "Is there a relationship between them? Is it positive or negative?"
   ]
  },
  {
   "cell_type": "markdown",
   "metadata": {
    "deletable": false,
    "nbgrader": {
     "checksum": "84ab5c20979d2809395bc2480262d363",
     "grade": true,
     "grade_id": "cell-55fcda1d504a6a5a",
     "locked": false,
     "points": 0,
     "schema_version": 1,
     "solution": true
    }
   },
   "source": [
    "YOUR ANSWER HERE"
   ]
  }
 ],
 "metadata": {
  "kernelspec": {
   "display_name": "Julia 0.6.2",
   "language": "julia",
   "name": "julia-0.6"
  },
  "language_info": {
   "file_extension": ".jl",
   "mimetype": "application/julia",
   "name": "julia",
   "version": "0.6.2"
  }
 },
 "nbformat": 4,
 "nbformat_minor": 2
}
