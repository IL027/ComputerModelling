{
 "cells": [
  {
   "cell_type": "markdown",
   "metadata": {},
   "source": [
    "# Mission to Mars\n",
    "## (Simulating and Controlling the $N$-body Problem)\n",
    "\n",
    "<br> \n",
    "\n",
    "### 6 April 2020\n",
    "\n",
    "<br>\n",
    "\n",
    "### James Kermode (School of Engineering), \n",
    "### Another Author (Mathematics Institute), \n",
    "### ...\n",
    "### Final Author (Department of Economics)\n",
    "\n",
    "An essay submitted for assessment of the group project for the module `IL027 Computer Modelling`."
   ]
  },
  {
   "cell_type": "code",
   "execution_count": null,
   "metadata": {},
   "outputs": [],
   "source": [
    "include(\"aux.jl\")"
   ]
  },
  {
   "cell_type": "markdown",
   "metadata": {},
   "source": [
    "## Introduction \n",
    "\n",
    "**[[The Introduction should provide some background, motivate the topic/problem of the essay and provide a high level summary.]]**\n",
    "\n",
    "The $N$-body problem is a classical system of ordinary differential equation that does not possess a general closed from solution. **[[add some historical context, e.g., Newton, what solution methods are there? add some references]]** The first goal of this essay is to discuss how the $N$-body problem can be solved on a computer, using modern numerical solvers for ordinary differential equations. \n",
    "\n",
    "In practise, one often encounters a scenario where a system of ODEs has certain input parameters, called *controls*, which allow us to adjust the solution trajectory in order to achieve a specific aim. For example, consider the task of landing space craft on a moon or a planet. The engine can orient as well as slow the descent. The second aim of this essay is to describe how to solve this classical *control problem*. \n",
    "\n",
    "Finally **[[brief description of some creative application or twist you want  to pursue]]** \n",
    "\n",
    "For the purposes of presentation we will present the problems described above in the context of an Alian attack: imagine the year is 2044 and human colonies are already established on Mars. An alien race has entered the solar system planning to attack and conquer Mars and the Earth.\n",
    "\n",
    "<img src=\"img/Alien_attack.jpg\" alt=\"Alien_attack\" style=\"width: 400px;\" align=\"middle\" />\n",
    "\n",
    "**[[NOTE: we do not require a \"story\" in this essay, it can be good fun and effective, but only if it fits the technical questions/challenges. The focus MUST be on the latter!]]**"
   ]
  },
  {
   "cell_type": "markdown",
   "metadata": {},
   "source": [
    "## 1. Escape velocity of a ballistic missile\n",
    "\n",
    "The UK Space Agency (UKSA) plans to launch a spacecraft to defend the Earth from aliens. \n",
    "\n",
    "<img src=\"img/UKSA.jpg\" alt=\"UKSA\" style=\"width: 300px;\" align=\"middle\"/>\n",
    "\n",
    "Engineers need to calculate the minimum velocity (called escape velocity $v_e$) with which the missile must be launched in order to escape the Earth. Assuming the Earth is a spherical symmetric massive body with no atmosphere, the escape velocity $v_e$ of any object launched on Earth’s surface is:\n",
    "\n",
    "$$ v_e = \\sqrt{\\frac{2GM_e}{R_e}} $$\n",
    "\n",
    "where $G$ is the universal gravitational constant, $M_e$ the mass of the Earth, and $R_e$ is the radius of the Earth. Note that this equation is independent of the mass of the object. The following sketch illustrates the idea of launching an object to space at different velocities:\n",
    "\n",
    "<img src=\"img/Escape_velocity.jpg\" alt=\"Escape_velocity\" style=\"width: 300px;\" align=\"middle\"/>\n",
    "\n",
    "We can therefore compute the escape velocity as follows: "
   ]
  },
  {
   "cell_type": "code",
   "execution_count": null,
   "metadata": {},
   "outputs": [],
   "source": [
    "G = 6.67408e-11  # m^3 kg^{-1} s^{-2}\n",
    "Mₑ = 5.972e24    # kg\n",
    "Rₑ = 6.356e6     # m\n",
    "# unit for vₑ : sqrt( m^3 kg^{-1} s^{-2} * kg / m) = sqrt(m^2/s^2) = m/s ✓\n",
    "vₑ = sqrt(2 * G * Mₑ / Rₑ)   \n",
    "println(\"Escape Velocity = $(round(Int,vₑ)) m/s\")"
   ]
  },
  {
   "cell_type": "markdown",
   "metadata": {},
   "source": [
    "## 2. Models and Methods\n",
    "\n",
    "As a response strategy, the UKSA decided to send a spacecraft to Mars to defend the human colonies there. To do this, it is necessary to know the trajectories of Earth and Mars with respect to the Solar System frame of reference. Trajectories of planets and stars are inter-dependent, since they mutually attract each other due to gravity. This makes the process of prediction a non-trivial task.\n",
    "\n",
    "### 2.1 The 3-body problem\n",
    "\n",
    "A group of student interns at UKSA decide to model the trajectories of Earth and Mars using Newtonian gravity. They make the following assumptions: \n",
    "\n",
    "- the planets are moving in a two-dimensional plane, \n",
    "- the effect of the rest of the planets of the Solar System on the trajectories of the Earth and Mars is negligible. \n",
    "\n",
    "Any object subjected to a gravitational field has potential energy $U$:\n",
    "\n",
    "$$ U = -G \\frac{m_1 m_2}{r_{12}} $$\n",
    "\n",
    "where $G$ is the universal gravitational constant, $m_1$ the mass of the object creating a gravitational field, $m_2$ the mass of the object subjected to the gravitational field and $r_{12}$ is the distance between the objects. In this case, the Earth is subjected to the gravitational fields of the Sun and Mars, and vice versa. The total potential energy with $N$ bodies is\n",
    "\n",
    "$$ U(\\mathbf{R}) = -\\frac{G}{2} \\sum_{i=1}^{N} \\sum_{j=1\\\\i \\ne j}^{N} \\frac{m_{i} m_{j}}{r_{ij}} $$\n",
    "\n",
    "where the sum runs over the $N$ bodies, avoiding the self-interaction case $i=j$ and the factor of $\\frac{1}{2}$ is to avoid double counting and the vector $\\mathbf{R}$ collects the positions of all bodies - for our example with the Sun, Earth and Mars, $\\mathbf{R} = (\\mathbf{r}_s, \\mathbf{r}_e, \\mathbf{r}_m)$. Throughout, we will use the convention that vectors denoted by a capital letter (e.g. $\\mathbf{R}$) are for the full system, while those denoted by a lower case letter are for an individual body (e.g. $\\mathbf{r}_i$).\n",
    "\n",
    "This is an example of a [3-body problem](https://en.wikipedia.org/wiki/Three-body_problem), or more generally, an $N$-body problem."
   ]
  },
  {
   "cell_type": "code",
   "execution_count": null,
   "metadata": {},
   "outputs": [],
   "source": [
    "D = 2 # dimensionality of space (2D, 3D etc.)\n",
    "N = 3 # number of bodies - currently Sun, Earth, Mars - we will increase this later\n",
    "\n",
    "function U(R::AbstractVector, m::AbstractVector)\n",
    "    r = unpack_R(R) # convert from 1d vector back to D-dimensional (here 2D)\n",
    "    U = 0.0\n",
    "    for i=1:N-1\n",
    "        for j=i+1:N\n",
    "            r_ij = norm(r[i, :] - r[j, :]) # distance from i to j\n",
    "            U += -G * m[i] * m[j] / r_ij # contribution to potential\n",
    "        end\n",
    "    end\n",
    "    return U\n",
    "end\n",
    "\n",
    "pack_R(R::AbstractMatrix) = R[:]\n",
    "unpack_R(R::AbstractVector) = reshape(R, (N, D))"
   ]
  },
  {
   "cell_type": "markdown",
   "metadata": {},
   "source": [
    "### Masses of planetary bodies\n",
    "\n",
    "For calculating the trajectories of Mars and Earth, we need to know the masses of the Sun, Earth and Mars, as well as their initial positions and velocities. \n",
    "\n",
    "The masses of these three bodies are respectively: $1.989 \\times 10^{30}$ kg, $5.972 \\times 10^{24}$ kg, and $6.39 \\times 10^{23}$ kg. Since these numbers are huge, we scale them by using solar mass units $M_s$, where $M_s = 1.989 \\times 10^{30}$ kg. Then, the masses are respectively: $1 M_s$, $0.000003 M_s$, and $0.00000032 M_s$:"
   ]
  },
  {
   "cell_type": "code",
   "execution_count": null,
   "metadata": {},
   "outputs": [],
   "source": [
    "# Masses in solar mass units\n",
    "m_s = 1.0  \n",
    "m_e = 0.000003 \n",
    "m_m = 0.00000032\n",
    "m = [m_s, m_e, m_m] # pack masses into a 1D array\n",
    "# M = repeat(m, D);   # repeat masses for each dimension"
   ]
  },
  {
   "cell_type": "markdown",
   "metadata": {},
   "source": [
    "### Distances in astronomical units\n",
    "\n",
    "Similarily, we scale the distance by using Astronomical Units (A.U.), where 1 A.U. = $1.5 × 10^{11}$ m (which is about the average distance from the Earth to the Sun), and defined the sun to be at coordinates (0,0) in the 2-dimentional plane. The spacecraft is going to be launched on April 1st, 2044, for which the UKSA estimates that the positions of the Sun, Earth and Mars are:"
   ]
  },
  {
   "cell_type": "code",
   "execution_count": null,
   "metadata": {},
   "outputs": [],
   "source": [
    "# Initial position vectors in X,Y coordinates\n",
    "r_s = [0.0, 0.0]\n",
    "r_e = [0.1, -1.0]   # In astronomical units\n",
    "r_m = [0.0, -1.524] # In astronomical units\n",
    "R0 = pack_R([r_s r_e r_m]');  "
   ]
  },
  {
   "cell_type": "markdown",
   "metadata": {},
   "source": [
    "**[[ NOTE: Here, the lecture had a description of how to pack and unpack vectors. This has no place in the essay. Focus on the description of the task, and the modelling. The code speaks for itself. If in doubt add a brief comment. However, you may wish to comment on certain choices of algorithms or packages that you will use.]]**"
   ]
  },
  {
   "cell_type": "markdown",
   "metadata": {},
   "source": [
    "### Gravitational forces\n",
    "\n",
    "Newton's second law relates the forces felt by each body $i = 1 \\ldots N$ to their acceleration:\n",
    "\n",
    "$$\\mathbf{f}_i = m_i \\mathbf{a}_i$$\n",
    "\n",
    "$$-\\nabla_i U(\\mathbf{R}) = m_i \\frac{d \\mathbf{v}_i}{dt} = m \\frac{d^2\\mathbf{r}_i}{dt^2}$$\n",
    "\n",
    "By taking the derivative of the potential energy with respect to the positions, the force of attraction between the bodies can be calculated via \n",
    "\n",
    "$$\\mathbf{F} = -\\nabla U(\\mathbf{R}) = \\left(-\\frac{\\partial U}{\\partial x_1}, -\\frac{\\partial U}{\\partial x_2}, \\ldots \\right) $$. "
   ]
  },
  {
   "cell_type": "code",
   "execution_count": null,
   "metadata": {},
   "outputs": [],
   "source": [
    "∇U(R) = ForwardDiff.gradient(R -> U(R, m), R);"
   ]
  },
  {
   "cell_type": "markdown",
   "metadata": {},
   "source": [
    "### Setting the initial velocities\n",
    "\n",
    "The time units used are years, so the velocity is measured in A.U./year. The initial velocities of the three bodies for the year 2044 are:"
   ]
  },
  {
   "cell_type": "code",
   "execution_count": null,
   "metadata": {},
   "outputs": [],
   "source": [
    "# Initial velocity vectors in X,Y coordinates\n",
    "v_s = [0.0, 0.0] # In astronomical units per year\n",
    "v_e = [-6.32, 0.0] # In astronomical units per year\n",
    "v_m = [-5.05, 0.0] # In astronomical units per year\n",
    "V0 = pack_R([v_s v_e v_m]');"
   ]
  },
  {
   "cell_type": "markdown",
   "metadata": {},
   "source": [
    "The change in units leads the gravitational constant to change as well. Its new value is:"
   ]
  },
  {
   "cell_type": "code",
   "execution_count": null,
   "metadata": {},
   "outputs": [],
   "source": [
    "G = 37.95  # Gravitational constant"
   ]
  },
  {
   "cell_type": "markdown",
   "metadata": {},
   "source": [
    "The travel time for the spacecraft to go from Earth to Mars was calculated to be around 1 year. The aliens were expected to arrive in May 2045, so the spacecraft would arrive just in time to defend the human colonies in Mars. \n",
    "\n",
    "We will first run our simulation for 2 years to check it's behaviour."
   ]
  },
  {
   "cell_type": "code",
   "execution_count": null,
   "metadata": {},
   "outputs": [],
   "source": [
    "# Simulation time variables\n",
    "dt = 0.005\n",
    "t = 0.0:dt:2\n",
    "T = length(t);"
   ]
  },
  {
   "cell_type": "markdown",
   "metadata": {},
   "source": [
    "## 2.2 Numerical Integrators \n",
    "\n",
    "### Forward Euler integration\n",
    "\n",
    "If we use the Forward Euler method to integrate the equation of motion we obtain\n",
    "\n",
    "$$ \\mathbf{v}_i(t + \\Delta t) = \\mathbf{v}_i(t) + \\mathbf{a}_i(t) \\Delta t $$\n",
    "$$ \\mathbf{r}_i(t + \\Delta t) = \\mathbf{r}_i(t) + \\mathbf{v}_i(t) \\Delta t $$\n",
    "\n",
    "where $\\mathbf{r}_i$,  $\\mathbf{r}_i$ and $\\mathbf{r}_i$ denote the position, velocity and acceleration of body $i$, respectively.  The accelerations are given by $\\mathbf{a}_i = -\\nabla_i U(\\mathbf{R}) / m_i$ from Newton's second law.\n",
    "\n",
    "We can combine the integration for all the particles using vectors $\\mathbf{R}$, $\\mathbf{V}$ and $\\mathbf{A}$\n",
    "\n",
    "$$ \\mathbf{V}(t + \\Delta t) = \\mathbf{V}(t) + \\mathbf{A}(t) \\Delta t $$\n",
    "$$ \\mathbf{R}(t + \\Delta t) = \\mathbf{R}(t) + \\mathbf{V}(t) \\Delta t $$\n",
    "\n",
    "\n",
    "We'll write a function `forward_euler()` to do implement this, and test it on our system. Note how similar the code is to the equations above!"
   ]
  },
  {
   "cell_type": "code",
   "execution_count": null,
   "metadata": {},
   "outputs": [],
   "source": [
    "function forward_euler(∇U, R0, V0, m, dt, T)\n",
    "    n = length(R0)\n",
    "    R = copy(R0)        # current position\n",
    "    V = copy(V0)        # current velocity\n",
    "    Rs = zeros(T, n)    # position history (trajectory) \n",
    "    Vs = zeros(T, n)    # velocity history\n",
    "    Hs = zeros(T)       # total energy history \n",
    "    M = repeat(m, D)\n",
    "\n",
    "    for i = 1:T\n",
    "        Rs[i, :] = R    # Store positions\n",
    "        Vs[i, :] = V    # Store velocities\n",
    "        Hs[i]    = U(R, m) + 0.5 * dot(M.*V, V)\n",
    "        \n",
    "        V_i = copy(V)   # Store current values of velocities\n",
    "        A = -∇U(R) ./ M # acceleration from Newton's 2nd law (F = ma)\n",
    "        V += A * dt     # Update velocities\n",
    "        R += V_i * dt   # Update positions\n",
    "    end\n",
    "    return Rs, Vs, Hs\n",
    "end\n",
    "\n",
    "R1, V1, H1 = forward_euler(∇U, R0, V0, m, dt, T);"
   ]
  },
  {
   "cell_type": "markdown",
   "metadata": {},
   "source": [
    "We can now plot the trajectories obtained with the Sun in yellow, Earth in blue, Mars in red. We observe that there is drift over time, with the Earth not returning to it's old trajectory in the second year! We either need to reduce the timestep $\\Delta t$ or find a more accurate integration scheme."
   ]
  },
  {
   "cell_type": "code",
   "execution_count": null,
   "metadata": {},
   "outputs": [],
   "source": [
    "plot_trajectory(R1)"
   ]
  },
  {
   "cell_type": "markdown",
   "metadata": {},
   "source": [
    "### Symplectic Euler\n",
    "\n",
    "The [semi-implicit Euler method](https://en.wikipedia.org/wiki/Semi-implicit_Euler_method) or symplectic Euler method is a very small modification of the Euler method which conserves energy and has much improved performance. This method is obtained by simply updating the velocity before using it to update the position:\n",
    "\n",
    "$$ \\mathbf{v}_i(t + \\Delta t) = \\mathbf{v}_i(t) + \\mathbf{a}_i(t) \\Delta t $$\n",
    "$$ \\mathbf{r}_i(t + \\Delta t) = \\mathbf{r}_i(t) + \\mathbf{v}_i(t + \\Delta t) \\Delta t $$\n"
   ]
  },
  {
   "cell_type": "code",
   "execution_count": null,
   "metadata": {},
   "outputs": [],
   "source": [
    "function symplectic_euler(∇U, R0, V0, m, dt, T)\n",
    "    n = length(R0)\n",
    "    R, V = copy(R0), copy(V0)\n",
    "    Rs, Vs, Hs = zeros(T, n), zeros(T, n),  zeros(T)\n",
    "    M = repeat(m, D)\n",
    "\n",
    "    for i = 1:T\n",
    "        Rs[i, :] = R     # Store positions\n",
    "        Vs[i, :] = V     # Store velocities\n",
    "        Hs[i]    = U(R, m) + 0.5 * dot(M.*V, V)\n",
    "        \n",
    "        A = -∇U(R) ./ M  # acceleration from Newton's 2nd law (F = ma)\n",
    "        V += A * dt      # Update velocities\n",
    "        R += V * dt      # Update positions\n",
    "    end\n",
    "    return Rs, Vs, Hs\n",
    "end\n",
    "\n",
    "R2, V2, H2 = symplectic_euler(∇U, R0, V0, m, dt, T);"
   ]
  },
  {
   "cell_type": "markdown",
   "metadata": {},
   "source": [
    "Plotting the solution, we observe that trajectories are now approximately periodic. This is a signature of energy conservation."
   ]
  },
  {
   "cell_type": "code",
   "execution_count": null,
   "metadata": {},
   "outputs": [],
   "source": [
    "plot_trajectory(R2)"
   ]
  },
  {
   "cell_type": "markdown",
   "metadata": {},
   "source": [
    "We can make our claim about energy conservation more quantitative, by integrating over a longer time period and then plotting the total energies for the Forward Euler and the Symplectic Euler schemes. We observe, however, that total energy is not exactly conserved but only approximately. We give a brief explanation of this effect in Appendix A."
   ]
  },
  {
   "cell_type": "code",
   "execution_count": null,
   "metadata": {},
   "outputs": [],
   "source": [
    "t = 0.0:dt:20\n",
    "T = length(t)\n",
    "_, _, H1 = forward_euler(∇U, R0, V0, m, dt, T)\n",
    "_, _, H2 = symplectic_euler(∇U, R0, V0, m, dt, T)\n",
    "plot(; ylims = [-7e-5, -1e-5], ylabel = \"total energy\", xlabel = \"time\", legend = :topleft)\n",
    "plot!(t, H1, lw=2, label = \"Forward Euler\")\n",
    "plot!(t, H2, lw=2, label = \"Symplectic Euler\")"
   ]
  },
  {
   "cell_type": "markdown",
   "metadata": {},
   "source": [
    "## 3. Results\n",
    "\n",
    "**[[ describe and carry out the actual simulation of interest, referencing as needed the methodology introduced in Sec. 2.1, 2.2. Discuss the results. In this particular case, you would setup realistic trajectories of the Sun, Earth and Mars, possibly the entire solar system and then determine how to launch a space-craft from earth to reach Mars orbit. (this might require another Methodology secion on control theory first)\n",
    "]]**"
   ]
  },
  {
   "cell_type": "code",
   "execution_count": null,
   "metadata": {},
   "outputs": [],
   "source": []
  },
  {
   "cell_type": "markdown",
   "metadata": {},
   "source": [
    "## 4. Conclusions\n",
    "\n",
    "**[[In this section give a brief summary of what you achieve in this essay and of the conclusions of your investigation. This could be about 1/3 to 1 page long]]**\n",
    "\n",
    "In the first part of this essay we investigated the use of different discretisation methods to numerically solve the $N$-body problem. We demonstrated that the Forward Euler scheme exhibits significant energy drift, which severely limits its utility for qualitatively accurate long-time simulations. By contrast, the symplective Euler method conserves the total energy of the system, up to some controllable approximation. \n",
    "\n",
    "We then applied the symplectic Euler method to .... **[[add details]]**  In summary, we have presented a methodology to reliably control the launching of spaceships from Earth's surface into Mars' orbit. \n",
    "\n",
    "Future work will need to address ... **[[what are the limitations of your work, what are the assumptions you've made, etc]]**"
   ]
  },
  {
   "cell_type": "code",
   "execution_count": null,
   "metadata": {},
   "outputs": [],
   "source": []
  },
  {
   "cell_type": "markdown",
   "metadata": {},
   "source": [
    "###  Appendix A Proof of Energy Conservation\n",
    "\n",
    "**[[This section is an example of an elementary but interesting mathematical result one could add]]** \n",
    "\n",
    "We consider a quadratic hamiltonian, \n",
    "$$\n",
    "    H(q, p) = \\frac12 |p|^2 +  \\frac12 q^T A q,\n",
    "$$\n",
    "where $q$ is an abstract position variable, $p$ a momentum, $\\frac12 |p|^2$ is the kinetic energy (all masses are $1$) and $\\frac12 q^T A q$ models potential energy. The associated Hamiltonian dynamics is \n",
    "$$ \\begin{align*}\n",
    "    \\dot{q} &= p, \\\\ \n",
    "    \\dot{p} &= - A q\n",
    "\\end{align*}$$\n",
    "One can readily check that this dynamical system conserves total energy, i.e., \n",
    "$$\n",
    "    \\frac{d}{dt} H(q(t), p(t)) = 0.\n",
    "$$\n",
    "Similarly, one can establish that a forward Euler discretisation $(q_n, p_n)$ would satisfy $H(p_n, q_n) \\to \\infty$ as $n \\to \\infty$. By contrast, the symplectic Euler method, approximately conserves energy. This is formalised in the following theorem.\n",
    "\n",
    "**Theorem:** Consider the symplectic Euler method for a quadratic Hamiltonian, \n",
    "$$ \\begin{align*}\n",
    "    q_{n+1} &= q_n + h p_n, \\\\ \n",
    "    p_{n+1} &= p_n - h A q_{n+1},\n",
    "\\end{align*}$$\n",
    "where $h > 0$ is the time step. Then, \n",
    "$$\n",
    "    H_h(q_n, p_n) = {\\rm const}\n",
    "$$\n",
    "where $H_h$ is a \"shadow hamiltonian\" given by \n",
    "$$\n",
    "    H_h(q, p) = H(q, p) + \\frac12 h p^T A q.\n",
    "$$\n",
    "\n",
    "**Proof:** This can be checked with a direct algebraic calculation.\n",
    "\n",
    "\n",
    "For further details on the mathematics theory of symplectic numerical integration, see (Hairer, Lubich Wanner; Geometric Numerical Integration; Springer 2006; https://doi.org/10.1007/3-540-30666-8)\n"
   ]
  },
  {
   "cell_type": "code",
   "execution_count": null,
   "metadata": {},
   "outputs": [],
   "source": []
  },
  {
   "cell_type": "code",
   "execution_count": null,
   "metadata": {},
   "outputs": [],
   "source": []
  },
  {
   "cell_type": "code",
   "execution_count": null,
   "metadata": {},
   "outputs": [],
   "source": []
  },
  {
   "cell_type": "markdown",
   "metadata": {},
   "source": [
    "**FURTHER COMMENTS:**\n",
    "\n",
    "1. I did not edit the rest of this notebook to convert it into an \"essay style\". Hopefully this is sufficient so far to give you an idea what we expect. Any questions, please post on Moodle.\n",
    "\n",
    "2. The Background, Methods, Results outline I followed here is quite standard in the sciences, and is something we don't require but which we do recommend. Variations are possible of course. E.g., if I were to follow L4, then I would probably use (1) Background, (2) N-Body Problem [(2.1) Model, (2.2) Numerical Discretisation, (2.3) Results], (3) Mars Lander [(3.1) Control problems, (3.2) numerical optimisation, (3.3) Results].\n",
    "\n",
    "3. Appendix A  is an example of going a little deeper into a specific topic of interest, in this case a mathematical explanation of a numerical observation. I chose this because it seemed to fit this particular essay. But we emphasize that there is no requirement or expectation to add technical sections such as this one! Other \"further topics\" that might be equally appropriate include:\n",
    "    * a brief explanation of a mathematical theory (avoid detailed proofs)\n",
    "    * background on a specific key  algorithm you are using, e.g. brief explanation, history, references\n",
    "    * description of statistical analysis\n",
    "    * historical context\n",
    "    * additional / more detailed data that might overwhelm the main article but is still interesting to include for reference\n",
    "    * ... (be creative, and make use or your unique expertise!) ...\n",
    "\n",
    "4. Please, please, please make sure the notebook generates all output correctly if restarted from [Kernel > Restart &  Run All].\n",
    "\n",
    "5. it is generally good practise to cite peer-reviewed sources rather than Wikipedia, blogs, etc."
   ]
  },
  {
   "cell_type": "code",
   "execution_count": null,
   "metadata": {},
   "outputs": [],
   "source": []
  }
 ],
 "metadata": {
  "kernelspec": {
   "display_name": "Julia 1.3.0",
   "language": "julia",
   "name": "julia-1.3"
  },
  "language_info": {
   "file_extension": ".jl",
   "mimetype": "application/julia",
   "name": "julia",
   "version": "1.3.0"
  }
 },
 "nbformat": 4,
 "nbformat_minor": 1
}
