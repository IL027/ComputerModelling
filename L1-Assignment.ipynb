{
 "cells": [
  {
   "cell_type": "markdown",
   "metadata": {},
   "source": [
    "Before you turn this problem in, make sure everything runs as expected. First, **restart the kernel** (in the menubar, select Kernel$\\rightarrow$Restart) and then **run all cells** (in the menubar, select Cell$\\rightarrow$Run All).\n",
    "\n",
    "Make sure you fill in any place that says `YOUR CODE HERE` or \"YOUR ANSWER HERE\", as well as your name and collaborators below:"
   ]
  },
  {
   "cell_type": "code",
   "execution_count": null,
   "metadata": {},
   "outputs": [],
   "source": [
    "NAME = \"\"\n",
    "COLLABORATORS = \"\""
   ]
  },
  {
   "cell_type": "markdown",
   "metadata": {},
   "source": [
    "---"
   ]
  },
  {
   "cell_type": "code",
   "execution_count": null,
   "metadata": {
    "deletable": false,
    "editable": false,
    "nbgrader": {
     "checksum": "911285b1a54c60633fc72935f4197716",
     "grade": false,
     "grade_id": "cell-8e5ec24da82133ac",
     "locked": true,
     "schema_version": 1,
     "solution": false
    }
   },
   "outputs": [],
   "source": [
    "using Base.Test\n",
    "module L1grade \n",
    "    gradeQ1(args...) = nothing \n",
    "    gradeQ2(args...) = nothing \n",
    "    gradeQ6(args...) = nothing \n",
    "    gradeQ7(args...) = nothing \n",
    "    gradeQ8(args...) = nothing \n",
    "    gradeQB(args...) = nothing \n",
    "end \n",
    "try \n",
    "    include(\"L1grade.jl\")\n",
    "catch \n",
    "    println(\"Warning: can't find L1grade\")\n",
    "end;"
   ]
  },
  {
   "cell_type": "markdown",
   "metadata": {
    "deletable": false,
    "editable": false,
    "nbgrader": {
     "checksum": "21fec951b1aea9df91240f652bdb6b7e",
     "grade": false,
     "grade_id": "cell-1805b00066c3f93b",
     "locked": true,
     "schema_version": 1,
     "solution": false
    }
   },
   "source": [
    "# IL027 Computer Modelling for All\n",
    "\n",
    "## Lecture 1-Assignment\n",
    "\n",
    "Topics covered:\n",
    "* define a function\n",
    "* read documentation \n",
    "* use for loops\n",
    "* arrays \n",
    "* solve a linear system \n",
    "\n",
    "Before attempting the questions, follow the instructions in L1-1 to \n",
    "\n",
    "* log in to JuliaBox\n",
    "* clone the IL027 github repository\n",
    "* make copy of the `L1-Assignment.ipynb` notebook\n",
    "\n",
    "**WARNING:** You should never edit the cloned notebook directly, but always edit a copy in your home folder. If you edit the cloned copy them it will be overwritten, next time you pull the latest update from the IL027 repository."
   ]
  },
  {
   "cell_type": "markdown",
   "metadata": {
    "deletable": false,
    "editable": false,
    "nbgrader": {
     "checksum": "9c2d1314dd53f50b1adcaeaced7ac18f",
     "grade": false,
     "grade_id": "cell-370189e28173e954",
     "locked": true,
     "schema_version": 1,
     "solution": false
    }
   },
   "source": [
    "### Functions"
   ]
  },
  {
   "cell_type": "markdown",
   "metadata": {
    "deletable": false,
    "editable": false,
    "nbgrader": {
     "checksum": "7b9c05afbb38f4837f86c44e2d9cd765",
     "grade": false,
     "grade_id": "cell-4d35cd48e0c130c4",
     "locked": true,
     "schema_version": 1,
     "solution": false
    }
   },
   "source": [
    "Question 1. (10%)\n",
    "\n",
    "Define a function `volball` that takes a radius $r$ as input and return the volume of the 3D ball with radius $r$,\n",
    "$$\n",
    "    V = \\frac{4 \\pi r^3}{3}\n",
    "$$"
   ]
  },
  {
   "cell_type": "markdown",
   "metadata": {
    "deletable": false,
    "editable": false,
    "nbgrader": {
     "checksum": "e9702043e0d9128e3ada1f59145cee58",
     "grade": false,
     "grade_id": "cell-15d5b54d1cd59415",
     "locked": true,
     "schema_version": 1,
     "solution": false
    }
   },
   "source": [
    "In the next cell you should enter your solution. For this particular example, you need to define a function `volball` that takes as input a radius `r` and outputs the volume of a 3-dimensionall ball with radius `r`. Start by writing\n",
    "```\n",
    "volball(r) = ...\n",
    "```\n",
    "and replace `...` with your formula. \n",
    "\n",
    "Below we have also provided you with some test code that you can use to check whether your implementation is correct."
   ]
  },
  {
   "cell_type": "code",
   "execution_count": null,
   "metadata": {
    "deletable": false,
    "nbgrader": {
     "checksum": "4089198a2e91bffb0871d6a70450fa22",
     "grade": false,
     "grade_id": "cell-90da688c81f45a63",
     "locked": false,
     "schema_version": 1,
     "solution": true
    }
   },
   "outputs": [],
   "source": [
    "# YOUR CODE HERE"
   ]
  },
  {
   "cell_type": "code",
   "execution_count": null,
   "metadata": {
    "deletable": false,
    "editable": false,
    "nbgrader": {
     "checksum": "df887e533b75a2fcb1f2069f7098da9d",
     "grade": true,
     "grade_id": "cell-b2c8767388c79719",
     "locked": true,
     "points": 10,
     "schema_version": 1,
     "solution": false
    }
   },
   "outputs": [],
   "source": [
    "L1grade.gradeQ1(volball)"
   ]
  },
  {
   "cell_type": "markdown",
   "metadata": {
    "deletable": false,
    "editable": false,
    "nbgrader": {
     "checksum": "2b0c1c35d84358004483d70af35f7291",
     "grade": false,
     "grade_id": "cell-58af145606de6a93",
     "locked": true,
     "schema_version": 1,
     "solution": false
    }
   },
   "source": [
    "The next cell contains some test code that you can execute to check whether your solution to the first question is correct. This is good practice that you should get used to: always write short test codes that check whether each component of your program is implemented correctly."
   ]
  },
  {
   "cell_type": "code",
   "execution_count": null,
   "metadata": {},
   "outputs": [],
   "source": [
    "# use this cell to test your answer\n",
    "@test volball(1.0) ≈ 4.1887902047863905 \n",
    "@test volball(2.345) ≈ 54.01534452102801\n",
    "@test volball(0.4) ≈ 0.26808257310632905"
   ]
  },
  {
   "cell_type": "markdown",
   "metadata": {
    "deletable": false,
    "editable": false,
    "nbgrader": {
     "checksum": "8a7601f6a98b39daab74f8a5024fbc17",
     "grade": false,
     "grade_id": "cell-cea89311fb5aeea0",
     "locked": true,
     "schema_version": 1,
     "solution": false
    }
   },
   "source": [
    "Question 2. (15%) \n",
    "\n",
    "Define a function `quadratic` that takes three numbers $a, b, c$, with $a \\neq 0$, as input and return *both* solutions of the quadratic equation $a x^2 + b x + c = 0$, \n",
    "$$\n",
    "   x_\\pm = \\frac{-b \\pm \\sqrt{b^2 - 4ac}}{2a}\n",
    "$$\n",
    "(If you are uncomfortable with complex numbers, then you may assume that both solutions are real.)"
   ]
  },
  {
   "cell_type": "code",
   "execution_count": null,
   "metadata": {
    "deletable": false,
    "nbgrader": {
     "checksum": "c6217629c5ba20a70dedda2e87bd01bf",
     "grade": false,
     "grade_id": "cell-dcdb5466787725d6",
     "locked": false,
     "schema_version": 1,
     "solution": true
    }
   },
   "outputs": [],
   "source": [
    "# YOUR CODE HERE"
   ]
  },
  {
   "cell_type": "code",
   "execution_count": null,
   "metadata": {
    "deletable": false,
    "editable": false,
    "nbgrader": {
     "checksum": "af242ffa70dab026fee4d8273669c99f",
     "grade": true,
     "grade_id": "cell-6157dfd1a1f768f1",
     "locked": true,
     "points": 15,
     "schema_version": 1,
     "solution": false
    }
   },
   "outputs": [],
   "source": [
    "L1grade.gradeQ2(quadratic)"
   ]
  },
  {
   "cell_type": "code",
   "execution_count": null,
   "metadata": {},
   "outputs": [],
   "source": [
    "# use this code to test your answer\n",
    "tests = [ (1,2,0.5), (0.1, 2.3, -4.1), (π, e, 0.0)]\n",
    "for (a, b, c) in tests \n",
    "    x1, x2 = quadratic(a,b,c)\n",
    "    # check that the two solutions are distinct and that \n",
    "    # they satisfy the equations they are meant to solve\n",
    "    @test !(x1 ≈ x2)    \n",
    "    @test abs(a*x1^2 + b*x1 + c) < 1e-14   \n",
    "    @test abs(a*x2^2 + b*x2 + c) < 1e-14\n",
    "end "
   ]
  },
  {
   "cell_type": "markdown",
   "metadata": {
    "deletable": false,
    "editable": false,
    "nbgrader": {
     "checksum": "88ef9164a50b8c5ca18275e6dd060e81",
     "grade": false,
     "grade_id": "cell-9a950837ed8cc365",
     "locked": true,
     "schema_version": 1,
     "solution": false
    }
   },
   "source": [
    "### Reading Documentation and Code "
   ]
  },
  {
   "cell_type": "markdown",
   "metadata": {
    "deletable": false,
    "editable": false,
    "nbgrader": {
     "checksum": "ea6d997f6ce71c84701af8b49cc14323",
     "grade": false,
     "grade_id": "cell-35743a89966e1788",
     "locked": true,
     "schema_version": 1,
     "solution": false
    }
   },
   "source": [
    "Question 3. (10%)\n",
    "\n",
    "Read the documentation for `if`, e.g., type `?if` into a notebook cell, or browse the [online documentation](https://docs.julialang.org/en/stable/index.html). Assuming `<your name>` is replaced with your name, what withh the following code achieves.\n",
    "```julia\n",
    "name = \"<your name>\"\n",
    "if length(name) > 7                   # first case \n",
    "    println(\"You have a long name.\") \n",
    "elseif 2 < length(name) <= 7          # second case \n",
    "    println(\"You have a short name.\")\n",
    "else                                  # third case \n",
    "    println(\"Your name is really really short.\")\n",
    "end\n",
    "```\n",
    "\n",
    "Hint: you could of course simply copy paste the code into a new code cell and execute it, but first try to come up with an answer by just looking at the code."
   ]
  },
  {
   "cell_type": "markdown",
   "metadata": {
    "deletable": false,
    "nbgrader": {
     "checksum": "ea7bf4e14c8e08ffe5fd78e3de3a2ef8",
     "grade": true,
     "grade_id": "cell-5e7e4fe1bb0bc369",
     "locked": false,
     "points": 10,
     "schema_version": 1,
     "solution": true
    }
   },
   "source": [
    "YOUR ANSWER HERE"
   ]
  },
  {
   "cell_type": "markdown",
   "metadata": {
    "deletable": false,
    "editable": false,
    "nbgrader": {
     "checksum": "86793dbd9b97a3a59e033dbecf0adae5",
     "grade": false,
     "grade_id": "cell-fac08fa2be8bff6a",
     "locked": true,
     "schema_version": 1,
     "solution": false
    }
   },
   "source": [
    "Question 4. (15%)\n",
    "\n",
    "Read the documentation for `searchindex` and for `nothing`.  Then write a brief paragraph explaining what the following function returns and why, when called with arguments\n",
    "* Case 1: `s = \"abcdefg\", t = \"cde\"` \n",
    "* Case 2: `s = \"cat\", t = \"mouse\" `\n",
    "* Case 3: `s = new york\", t = \"new\"`\n",
    "\n",
    "```julia\n",
    "function strangefunction(s, t)\n",
    "    i = searchindex(s, t)\n",
    "    if i <= 1\n",
    "        return nothing \n",
    "    else \n",
    "        return s[i-1]\n",
    "    end\n",
    "end \n",
    "```"
   ]
  },
  {
   "cell_type": "markdown",
   "metadata": {
    "deletable": false,
    "nbgrader": {
     "checksum": "4a438680b522a9e3aa66ea703a129b0e",
     "grade": true,
     "grade_id": "cell-a51b9987c0cb60b8",
     "locked": false,
     "points": 15,
     "schema_version": 1,
     "solution": true
    }
   },
   "source": [
    "YOUR ANSWER HERE"
   ]
  },
  {
   "cell_type": "markdown",
   "metadata": {
    "deletable": false,
    "editable": false,
    "nbgrader": {
     "checksum": "d6fc4ad0d4fac27f1be10e2ee93676ca",
     "grade": false,
     "grade_id": "cell-c9e44fcab278ba49",
     "locked": true,
     "schema_version": 1,
     "solution": false
    }
   },
   "source": [
    "### For Loops and Arrays"
   ]
  },
  {
   "cell_type": "markdown",
   "metadata": {
    "deletable": false,
    "editable": false,
    "nbgrader": {
     "checksum": "f7191ee8a90b8cb6427072742d77bebc",
     "grade": false,
     "grade_id": "cell-4996392959f9defc",
     "locked": true,
     "schema_version": 1,
     "solution": false
    }
   },
   "source": [
    "Question 5. (10%)\n",
    "\n",
    "using a for-loop, print out the numbers $i^2$ for $i$ ranging from 1 to 10"
   ]
  },
  {
   "cell_type": "code",
   "execution_count": null,
   "metadata": {
    "deletable": false,
    "nbgrader": {
     "checksum": "ef5d9933673143b7557bd1bbaef4389f",
     "grade": true,
     "grade_id": "cell-c689e196d978a8bb",
     "locked": false,
     "points": 10,
     "schema_version": 1,
     "solution": true
    }
   },
   "outputs": [],
   "source": [
    "# YOUR CODE HERE"
   ]
  },
  {
   "cell_type": "markdown",
   "metadata": {
    "deletable": false,
    "editable": false,
    "nbgrader": {
     "checksum": "18e087961e70d05ab282472ca7449ded",
     "grade": false,
     "grade_id": "cell-a99914a90673fd35",
     "locked": true,
     "schema_version": 1,
     "solution": false
    }
   },
   "source": [
    "Question 6. (15%) \n",
    "\n",
    "Using `zeros` to allocate an array and a for-loop, generate an array `x` of length 10, containing the values $i^2$ for $i$ ranging from 1 to 10"
   ]
  },
  {
   "cell_type": "code",
   "execution_count": null,
   "metadata": {
    "deletable": false,
    "nbgrader": {
     "checksum": "496fba6238d3e7f43d4797e207f61db4",
     "grade": false,
     "grade_id": "cell-24d1d688dd9a8155",
     "locked": false,
     "schema_version": 1,
     "solution": true
    }
   },
   "outputs": [],
   "source": [
    "x = zeros(10)\n",
    "# YOUR CODE HERE"
   ]
  },
  {
   "cell_type": "code",
   "execution_count": null,
   "metadata": {
    "deletable": false,
    "editable": false,
    "nbgrader": {
     "checksum": "de72793c1c36c563f0f43c8add6b19a9",
     "grade": true,
     "grade_id": "cell-6cb4f6c2754ce35b",
     "locked": true,
     "points": 15,
     "schema_version": 1,
     "solution": false
    }
   },
   "outputs": [],
   "source": [
    "L1grade.gradeQ6(x)"
   ]
  },
  {
   "cell_type": "code",
   "execution_count": null,
   "metadata": {},
   "outputs": [],
   "source": [
    "# you may write a short test to make sure your answer is correct\n"
   ]
  },
  {
   "cell_type": "markdown",
   "metadata": {
    "deletable": false,
    "editable": false,
    "nbgrader": {
     "checksum": "4e5e62c9e1aaf3717ad3ce1c9cfd3195",
     "grade": false,
     "grade_id": "cell-28653e94c290848f",
     "locked": true,
     "schema_version": 1,
     "solution": false
    }
   },
   "source": [
    "**Remark**: two alternative, more elegant constructions\n",
    "```julia\n",
    "x = [i^2 for i = 1:10]\n",
    "x = (1:10).^2\n",
    "```"
   ]
  },
  {
   "cell_type": "markdown",
   "metadata": {
    "deletable": false,
    "editable": false,
    "nbgrader": {
     "checksum": "068faa6a2588d2b0a93dc9d4961cca2d",
     "grade": false,
     "grade_id": "cell-f766b418a5d1e5d7",
     "locked": true,
     "schema_version": 1,
     "solution": false
    }
   },
   "source": [
    "### Solving Linear Systems"
   ]
  },
  {
   "cell_type": "markdown",
   "metadata": {
    "deletable": false,
    "editable": false,
    "nbgrader": {
     "checksum": "e4554fb71c8e5c24c7225b291f9a233f",
     "grade": false,
     "grade_id": "cell-ec5e4ebc6709b416",
     "locked": true,
     "schema_version": 1,
     "solution": false
    }
   },
   "source": [
    "Question 7. (10%) \n",
    "\n",
    "Using matrices, vectors and `\\`, solve the following linear system:\n",
    "$$\\begin{align*}\n",
    "    a + b - 5c &= 1 \\\\ \n",
    "    2a - 3b    &= 2 \\\\ \n",
    "      b + 5c    &= -1 \n",
    "\\end{align*}$$\n",
    "storing the solution in a vector $x = (a,b,c)$"
   ]
  },
  {
   "cell_type": "code",
   "execution_count": null,
   "metadata": {
    "deletable": false,
    "nbgrader": {
     "checksum": "0f8a2fed73dd2c6c0a5f8871485a2c87",
     "grade": false,
     "grade_id": "cell-a371893dff6e8954",
     "locked": false,
     "schema_version": 1,
     "solution": true
    }
   },
   "outputs": [],
   "source": [
    "# YOUR CODE HERE"
   ]
  },
  {
   "cell_type": "code",
   "execution_count": null,
   "metadata": {
    "deletable": false,
    "editable": false,
    "nbgrader": {
     "checksum": "ddf28a25a029e361c206f60e875ac30a",
     "grade": true,
     "grade_id": "cell-bbb1f6078c695cde",
     "locked": true,
     "points": 10,
     "schema_version": 1,
     "solution": false
    }
   },
   "outputs": [],
   "source": [
    "L1grade.gradeQ7(x)"
   ]
  },
  {
   "cell_type": "code",
   "execution_count": null,
   "metadata": {},
   "outputs": [],
   "source": [
    "# you may expand the following code to test whether your solution is correct\n",
    "a, b, c = x[1], x[2], x[3] \n",
    "println(\"eq 1: \", a + b - 5 * c - 1)\n",
    "println(\"eq 2: \" )\n",
    "println(\"eq 3: \" )"
   ]
  },
  {
   "cell_type": "markdown",
   "metadata": {
    "deletable": false,
    "editable": false,
    "nbgrader": {
     "checksum": "d3e44dc56f68e07f14dd26719e383999",
     "grade": false,
     "grade_id": "cell-dd22b1fb8ca445cd",
     "locked": true,
     "schema_version": 1,
     "solution": false
    }
   },
   "source": [
    "Question 8. (15%) \n",
    "\n",
    "Consider the linear system $(I+A)x = b$ where $I$ is the identity matrix, $A \\in \\mathbb{R}^{N \\times N}$, $x, b \\in \\mathbb{R}^N$, given by \n",
    "$$\n",
    "    A_{ij} = \\frac{1}{i + j}, \\qquad b_i = i\n",
    "$$\n",
    "Write a function `solve_system` that takes the dimension $N$ as an input and returns the solution $x$. "
   ]
  },
  {
   "cell_type": "code",
   "execution_count": null,
   "metadata": {
    "deletable": false,
    "nbgrader": {
     "checksum": "668c4579aa6a81ae90846ab09b32961f",
     "grade": false,
     "grade_id": "cell-7ec1455c8a3c870f",
     "locked": false,
     "schema_version": 1,
     "solution": true
    }
   },
   "outputs": [],
   "source": [
    "# YOUR CODE HERE"
   ]
  },
  {
   "cell_type": "code",
   "execution_count": null,
   "metadata": {
    "deletable": false,
    "editable": false,
    "nbgrader": {
     "checksum": "d474e4175e28a295e322cfe1d945226c",
     "grade": true,
     "grade_id": "cell-5767b59d2eb6e066",
     "locked": true,
     "points": 15,
     "schema_version": 1,
     "solution": false
    }
   },
   "outputs": [],
   "source": [
    "L1grade.gradeQ8(solve_system)"
   ]
  },
  {
   "cell_type": "code",
   "execution_count": null,
   "metadata": {},
   "outputs": [],
   "source": [
    "# you may devise a test for your code here, but this is a \n",
    "# situation where writing a test can be  more challenging than \n",
    "# writing the actual code. a possible approach could be to \n",
    "# manually generate A, b for, say N = 2, 3 only and test the\n",
    "# solution for just those cases, e.g., \n",
    "\n",
    "# test for N = 2: \n",
    "A = [ 1/2 1/3; 1/3 1/4 ]\n",
    "b = [1, 2] \n",
    "println((eye(2) + A) \\ b  -  solve_system(2))\n",
    "\n",
    "# test for N = 3"
   ]
  },
  {
   "cell_type": "markdown",
   "metadata": {
    "deletable": false,
    "editable": false,
    "nbgrader": {
     "checksum": "3b2cb1dc37c4d7f2a0d8cd12a58f9375",
     "grade": false,
     "grade_id": "cell-e6bf36aafddc9ea6",
     "locked": true,
     "schema_version": 1,
     "solution": false
    }
   },
   "source": [
    "**REMARK:** In lectures we learned how to fill arrays with values using `for` loops. An alternative and often very elegant solution is via comprehensions, e.g., \n",
    "```julia\n",
    "N = 5\n",
    "b = [ i for i = 1:N ] \n",
    "A = [ 1/(i+j) for i = 1:N, j = 1:N ]\n",
    "```"
   ]
  },
  {
   "cell_type": "markdown",
   "metadata": {
    "deletable": false,
    "editable": false,
    "nbgrader": {
     "checksum": "5678897ceac6b236e28a42a8b12dcd86",
     "grade": false,
     "grade_id": "cell-283d90eea093f462",
     "locked": true,
     "schema_version": 1,
     "solution": false
    }
   },
   "source": [
    "---------"
   ]
  },
  {
   "cell_type": "markdown",
   "metadata": {
    "deletable": false,
    "editable": false,
    "nbgrader": {
     "checksum": "7b28827fa9aa70f2d4b6cb9f87586f7e",
     "grade": false,
     "grade_id": "cell-088026eb54cbfa02",
     "locked": true,
     "schema_version": 1,
     "solution": false
    }
   },
   "source": [
    "Bonus Question: (no marks)\n",
    "\n",
    "Write a function `modify_string` that takes a string `s` as input, and returns a second string `t` where each letter in `s` is replaces with a `*`, each space with a `_` and all other characters with a `?`. For example, is the input is `s = \"Julia is a high-level language.\"`, then the output should be `t = \"*****_**_*_****?*****_********?\"`\n",
    "\n",
    "Hint: look at the string concatenation operator `*`.\n"
   ]
  },
  {
   "cell_type": "code",
   "execution_count": null,
   "metadata": {
    "deletable": false,
    "nbgrader": {
     "checksum": "374d67f17b4bd54563faed2307afaa08",
     "grade": false,
     "grade_id": "cell-fc915404833de9ba",
     "locked": false,
     "schema_version": 1,
     "solution": true
    }
   },
   "outputs": [],
   "source": [
    "# YOUR CODE HERE"
   ]
  },
  {
   "cell_type": "code",
   "execution_count": null,
   "metadata": {
    "deletable": false,
    "editable": false,
    "nbgrader": {
     "checksum": "d26accbc9ccbfa8feac56d897fc8e847",
     "grade": true,
     "grade_id": "cell-1ba5682e6443bd92",
     "locked": true,
     "points": 0,
     "schema_version": 1,
     "solution": false
    }
   },
   "outputs": [],
   "source": [
    "L1grade.gradeQB(modify_string)"
   ]
  },
  {
   "cell_type": "code",
   "execution_count": null,
   "metadata": {},
   "outputs": [],
   "source": [
    "# use this to test your answer to the Bonus question \n",
    "@test modify_string(\"Lorem ipsum dolor sit amet\") == \"*****_*****_*****_***_****\" \n",
    "@test modify_string(\"Julia is a high-level language.\") == \"*****_**_*_****?*****_********?\"\n",
    "@test modify_string(\"if isupper(uppercase(s[i]))\") == \"**_*******?*********?*?*???\""
   ]
  }
 ],
 "metadata": {
  "kernelspec": {
   "display_name": "Julia 0.6.3-pre",
   "language": "julia",
   "name": "julia-0.6"
  },
  "language_info": {
   "file_extension": ".jl",
   "mimetype": "application/julia",
   "name": "julia",
   "version": "0.6.3"
  }
 },
 "nbformat": 4,
 "nbformat_minor": 2
}
