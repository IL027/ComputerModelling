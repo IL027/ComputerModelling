{
 "cells": [
  {
   "cell_type": "markdown",
   "metadata": {},
   "source": [
    "# IL027 Interdisciplinary Computer Modelling\n",
    "\n",
    "## Lecture 1-1 Introduction to Julia \n",
    "\n",
    "\n",
    "Julia is an easy to use programming language appropriate for scientific and numerical computing. We chose to teach this module in Julia mostly because it has a very natural syntax. \n",
    "\n",
    "<img src=\"img/julia_logo.png\" alt=\"Newton\" style=\"width: 250px;\" align=\"middle\" />\n",
    "\n",
    "**DISCLAIMER:** This is *not* a \"Programming in Julia\" module. The choice of language is non-essential. If you are an experienced Python, R or Matlab user then we encourage you to reproduce (some of) the course material in those languages. (In other languages it would be more difficult.) But all assignments must be completed and submitted in Julia.\n",
    "\n",
    "\n",
    "In this notebook, we will setup our programming environment and learn some basic programming concepts that we need:\n",
    "\n",
    "* arithmetic\n",
    "* Variables\n",
    "* functions \n",
    "* user defined functions\n",
    "* Conditional evaluation (if-else)\n",
    "* Loops\n",
    "\n",
    "### Further study\n",
    "\n",
    "* Some excellent online learning resources for different levels: https://julialang.org/learning/ \n",
    "* Julia Documentation: https://docs.julialang.org/en/v1.1/\n",
    "* Some slightly outdated but still beautiful examples showing off Julia notebooks: http://nbviewer.jupyter.org/github/pjpmarques/Julia-Modeling-the-World/tree/master/"
   ]
  },
  {
   "cell_type": "markdown",
   "metadata": {},
   "source": [
    "### JLauncher Usage\n",
    "\n",
    "To simplify the initial setup stage, and to ensure everybody works with the same environment, we will use an online service run by Warwick University's [Scientific Computing Research and Technology Platform (SCRTP)](https://warwick.ac.uk/research/rtp/sc/).  Feel free to follow along now, or just watch and try it again on your own time.\n",
    "\n",
    "1. If you haven't yet done so, create either an SCRTP account [https://warwick.ac.uk/research/rtp/sc/desktop/myaccount/](https://warwick.ac.uk/research/rtp/sc/desktop/myaccount/)\n",
    "\n",
    "2. First Log-in:\n",
    "  * In a browser open the [IL027 JLauncher](https://mnf145.csc.warwick.ac.uk:8987/module/IL027)\n",
    "  * enter your SCRTP username and password and login by clicking on `Start Server`. \n",
    "  * The first time you try to log in, it can take a while. Occasionally, when there is too much web traffic on the server, it is possible that this process times out. In this case, simply wait for a few minutes and then try to log in again. \n",
    "  * Normally, the Jupyter notebook server should be launched automatically and open a new webpage. Make sure that you **do not** close the log-in window! If you have a pop-up blocker, then the Jupyter browser window will be blocked but there is a link in the log-in window that you can click instead.\n",
    "  * In the Jupyter browser window you should now see the presentation and assignment files for the IL027 module, that are ready.\n",
    "  * If anything goes wrong during setup, please check the module page for IL027 if somebody else has had similar difficulties. If there are no solutions posted yet, then please describe your problem on the IL027 Moodle discussion board and the TAs or lecturers will give you further instructions.\n",
    "\n",
    "3. Create a new notebook: \n",
    "  * In the Jupyter browser click **`[New]`** and then **`[Julia 1.1.0]`**. This will create a new Julia notebook.\n",
    "  * Note we will *always* use Julia v1.1.x throughout this module. At the level of this module it only differs marginally from the latest Julia version (1.3.0 at time of writing this).\n",
    "\n",
    "4. You can now start entering Julia code. We will learn more about notebooks and Jupyter as we go along. For now, copy-paste the following code into a cell and then press `[SHIFT]+[ENTER]`:\n",
    "```Julia\n",
    "using Plots; plotly()\n",
    "x = 0.0:0.01:2*π\n",
    "plot(x, exp.(sin.(2*x)))\n",
    "```\n",
    "This will take a little while to execute because the `Plots` library takes a long time to load. (Work is already underway by the Julia developers to improve this.) You may also see some INFO or WARNING messages, which you can safely ignore.\n",
    "\n",
    "5. Open a Lecture Notebook: \n",
    "  * In the Jupyter browser click (e.g.) on `L1-1_IntroToJulia.ipynb` (**this** notebook), then a new browser window will open. This notebook will be read-only to make sure that you don't accidentally overwrite the original. \n",
    "  * To edit or execute, first click on **`[File]`** then **`[Make a Copy..]`**, which you can then rename, e.g., to `L1-1_IntoToJulia-<yourname>.ipynb`\n",
    "\n",
    "6. Assignments: see instructions in `L1-Assignment.ipynb`.\n",
    "\n",
    "The TAs will be able to help you in the drop-in session on Thursday if you have any difficulties with this setup. \n",
    "\n",
    "### First Assignment\n",
    "\n",
    "1. See instructions in `L1-1_IntroToJulia` notebook to get started with JLauncher, Jupyter and Julia.\n",
    "2. **COPY** the `L1-1_IntroToJulia.ipynb` file, real through and execute the cells. Experiment by copying and/or modifying some code cells. Repeat for `L1-2_LinearAlgebra.ipynb`.\n",
    "3. Open the `L1-Assignment.ipynb` notebook, make a copy, then work through the instructions.\n",
    "\n",
    "### Support \n",
    "\n",
    "* For non-technical support with the lectures and assignments (i.e. the Julia notebooks all work ok for you but some steps or ideas are unclear) please see the TAs in the drop-in session.\n",
    "* For technical support, the drop-in session is again the best place to get help, but throughout the week you can also post your questions on the IL027 Moodle discussion board. Please check first whether other students have had similar problems as solutions may already have been posted.\n",
    "\n",
    "For support questions that are best asked by Moodle or the drop-in sessions we will not normally respond to personal emails.\n"
   ]
  },
  {
   "cell_type": "markdown",
   "metadata": {},
   "source": [
    "## Arithmetic\n",
    "\n",
    "All common arithmetic operations (and more) are implemented in Julia. For example: "
   ]
  },
  {
   "cell_type": "code",
   "execution_count": 1,
   "metadata": {},
   "outputs": [
    {
     "data": {
      "text/plain": [
       "8"
      ]
     },
     "execution_count": 1,
     "metadata": {},
     "output_type": "execute_result"
    }
   ],
   "source": [
    "5 + 3 # addition "
   ]
  },
  {
   "cell_type": "code",
   "execution_count": 2,
   "metadata": {},
   "outputs": [
    {
     "data": {
      "text/plain": [
       "2"
      ]
     },
     "execution_count": 2,
     "metadata": {},
     "output_type": "execute_result"
    }
   ],
   "source": [
    "5 - 3 # subtraction"
   ]
  },
  {
   "cell_type": "code",
   "execution_count": 3,
   "metadata": {},
   "outputs": [
    {
     "data": {
      "text/plain": [
       "15"
      ]
     },
     "execution_count": 3,
     "metadata": {},
     "output_type": "execute_result"
    }
   ],
   "source": [
    "5 * 3 # multiplication"
   ]
  },
  {
   "cell_type": "code",
   "execution_count": 4,
   "metadata": {},
   "outputs": [
    {
     "data": {
      "text/plain": [
       "1.6666666666666667"
      ]
     },
     "execution_count": 4,
     "metadata": {},
     "output_type": "execute_result"
    }
   ],
   "source": [
    "5 / 3     # division"
   ]
  },
  {
   "cell_type": "code",
   "execution_count": 5,
   "metadata": {},
   "outputs": [
    {
     "data": {
      "text/plain": [
       "125"
      ]
     },
     "execution_count": 5,
     "metadata": {},
     "output_type": "execute_result"
    }
   ],
   "source": [
    "5^3       # power"
   ]
  },
  {
   "cell_type": "code",
   "execution_count": 6,
   "metadata": {},
   "outputs": [
    {
     "data": {
      "text/plain": [
       "1"
      ]
     },
     "execution_count": 6,
     "metadata": {},
     "output_type": "execute_result"
    }
   ],
   "source": [
    "div(5, 3) # integer division \n",
    "5 ÷ 3     # integer division, different syntax"
   ]
  },
  {
   "cell_type": "code",
   "execution_count": 7,
   "metadata": {},
   "outputs": [
    {
     "data": {
      "text/plain": [
       "2"
      ]
     },
     "execution_count": 7,
     "metadata": {},
     "output_type": "execute_result"
    }
   ],
   "source": [
    "5 % 3    # remainder after integer division"
   ]
  },
  {
   "cell_type": "markdown",
   "metadata": {},
   "source": [
    "**Remark:** To enter the `÷` operator, type `\\div` followed by `<tab>`. Julia notebooks (and some editors) use a subset of $\\LaTeX$ to enter unicode symbols."
   ]
  },
  {
   "cell_type": "markdown",
   "metadata": {},
   "source": [
    "## Variables\n",
    "\n",
    "Variables are used to store values. For example, `x = 5` assigns the value `5` to the variable `x`:"
   ]
  },
  {
   "cell_type": "code",
   "execution_count": 8,
   "metadata": {},
   "outputs": [
    {
     "data": {
      "text/plain": [
       "5"
      ]
     },
     "execution_count": 8,
     "metadata": {},
     "output_type": "execute_result"
    }
   ],
   "source": [
    "x = 5"
   ]
  },
  {
   "cell_type": "markdown",
   "metadata": {},
   "source": [
    "A variable `y` can be defined in terms of `x`:"
   ]
  },
  {
   "cell_type": "code",
   "execution_count": 9,
   "metadata": {},
   "outputs": [
    {
     "data": {
      "text/plain": [
       "7"
      ]
     },
     "execution_count": 9,
     "metadata": {},
     "output_type": "execute_result"
    }
   ],
   "source": [
    "y = x + 2"
   ]
  },
  {
   "cell_type": "markdown",
   "metadata": {},
   "source": [
    "The variable `y` can be redefined:"
   ]
  },
  {
   "cell_type": "code",
   "execution_count": 10,
   "metadata": {},
   "outputs": [
    {
     "data": {
      "text/plain": [
       "8"
      ]
     },
     "execution_count": 10,
     "metadata": {},
     "output_type": "execute_result"
    }
   ],
   "source": [
    "y = 8"
   ]
  },
  {
   "cell_type": "markdown",
   "metadata": {},
   "source": [
    "and then also incremented by some amount:"
   ]
  },
  {
   "cell_type": "code",
   "execution_count": 11,
   "metadata": {},
   "outputs": [
    {
     "data": {
      "text/plain": [
       "11"
      ]
     },
     "execution_count": 11,
     "metadata": {},
     "output_type": "execute_result"
    }
   ],
   "source": [
    "y = y + 3\n",
    "# read this as y ← y + 3"
   ]
  },
  {
   "cell_type": "markdown",
   "metadata": {},
   "source": [
    "Note that the old value of the variable was used to define the new value of the variable. \n",
    "\n",
    "The names of the variables are case-sensitive (i.e. `x` is not the same as `X`)."
   ]
  },
  {
   "cell_type": "markdown",
   "metadata": {},
   "source": [
    "Numbers are not the only kind of data that can be manipulated from within Julia. For example, a *string* is a piece of text:"
   ]
  },
  {
   "cell_type": "code",
   "execution_count": 12,
   "metadata": {},
   "outputs": [
    {
     "data": {
      "text/plain": [
       "\"quick\""
      ]
     },
     "execution_count": 12,
     "metadata": {},
     "output_type": "execute_result"
    }
   ],
   "source": [
    "word = \"quick\""
   ]
  },
  {
   "cell_type": "code",
   "execution_count": 13,
   "metadata": {},
   "outputs": [
    {
     "data": {
      "text/plain": [
       "\"The quick brown fox jumps over the lazy dog.\""
      ]
     },
     "execution_count": 13,
     "metadata": {},
     "output_type": "execute_result"
    }
   ],
   "source": [
    "sentence = \"The quick brown fox jumps over the lazy dog.\""
   ]
  },
  {
   "cell_type": "markdown",
   "metadata": {},
   "source": [
    "## Functions\n",
    "\n",
    "Julia implements a fairly comprehensive standard library of functions for mathematical and other objects. For example:"
   ]
  },
  {
   "cell_type": "code",
   "execution_count": 14,
   "metadata": {},
   "outputs": [
    {
     "data": {
      "text/plain": [
       "5"
      ]
     },
     "execution_count": 14,
     "metadata": {},
     "output_type": "execute_result"
    }
   ],
   "source": [
    "abs(-5) # Absolute value"
   ]
  },
  {
   "cell_type": "code",
   "execution_count": 15,
   "metadata": {},
   "outputs": [
    {
     "data": {
      "text/plain": [
       "6.0"
      ]
     },
     "execution_count": 15,
     "metadata": {},
     "output_type": "execute_result"
    }
   ],
   "source": [
    "sqrt(36) # Square root"
   ]
  },
  {
   "cell_type": "code",
   "execution_count": 16,
   "metadata": {},
   "outputs": [
    {
     "data": {
      "text/plain": [
       "2.718281828459045"
      ]
     },
     "execution_count": 16,
     "metadata": {},
     "output_type": "execute_result"
    }
   ],
   "source": [
    "exp(1) # Natural exponential function"
   ]
  },
  {
   "cell_type": "code",
   "execution_count": 17,
   "metadata": {},
   "outputs": [
    {
     "data": {
      "text/plain": [
       "2.0794415416798357"
      ]
     },
     "execution_count": 17,
     "metadata": {},
     "output_type": "execute_result"
    }
   ],
   "source": [
    "log(8) # Natural logarithm"
   ]
  },
  {
   "cell_type": "code",
   "execution_count": 18,
   "metadata": {},
   "outputs": [
    {
     "data": {
      "text/plain": [
       "0.9999996829318346"
      ]
     },
     "execution_count": 18,
     "metadata": {},
     "output_type": "execute_result"
    }
   ],
   "source": [
    "sin(3.14/2) # Sine function in radians"
   ]
  },
  {
   "cell_type": "markdown",
   "metadata": {},
   "source": [
    "Note that all these functions receive a value as input and deliver a new value as output.\n",
    "\n",
    "I we don't know what the arguments of a function are then we can ask for help:"
   ]
  },
  {
   "cell_type": "code",
   "execution_count": 19,
   "metadata": {},
   "outputs": [
    {
     "name": "stdout",
     "output_type": "stream",
     "text": [
      "search: \u001b[0m\u001b[1ml\u001b[22m\u001b[0m\u001b[1mo\u001b[22m\u001b[0m\u001b[1mg\u001b[22m \u001b[0m\u001b[1ml\u001b[22m\u001b[0m\u001b[1mo\u001b[22m\u001b[0m\u001b[1mg\u001b[22m2 \u001b[0m\u001b[1ml\u001b[22m\u001b[0m\u001b[1mo\u001b[22m\u001b[0m\u001b[1mg\u001b[22m1p \u001b[0m\u001b[1ml\u001b[22m\u001b[0m\u001b[1mo\u001b[22m\u001b[0m\u001b[1mg\u001b[22m10 C\u001b[0m\u001b[1ml\u001b[22m\u001b[0m\u001b[1mo\u001b[22mn\u001b[0m\u001b[1mg\u001b[22m C\u001b[0m\u001b[1ml\u001b[22m\u001b[0m\u001b[1mo\u001b[22mn\u001b[0m\u001b[1mg\u001b[22mlong Cu\u001b[0m\u001b[1ml\u001b[22m\u001b[0m\u001b[1mo\u001b[22mn\u001b[0m\u001b[1mg\u001b[22m Cu\u001b[0m\u001b[1ml\u001b[22m\u001b[0m\u001b[1mo\u001b[22mn\u001b[0m\u001b[1mg\u001b[22mlong\n",
      "\n"
     ]
    },
    {
     "data": {
      "text/latex": [
       "\\begin{verbatim}\n",
       "log(b,x)\n",
       "\\end{verbatim}\n",
       "Compute the base \\texttt{b} logarithm of \\texttt{x}. Throws \\href{@ref}{\\texttt{DomainError}} for negative \\href{@ref}{\\texttt{Real}} arguments.\n",
       "\n",
       "\\section{Examples}\n",
       "\\begin{verbatim}\n",
       "julia> log(4,8)\n",
       "1.5\n",
       "\n",
       "julia> log(4,2)\n",
       "0.5\n",
       "\n",
       "julia> log(-2, 3)\n",
       "ERROR: DomainError with -2.0:\n",
       "log will only return a complex result if called with a complex argument. Try log(Complex(x)).\n",
       "Stacktrace:\n",
       " [1] throw_complex_domainerror(::Symbol, ::Float64) at ./math.jl:31\n",
       "[...]\n",
       "\n",
       "julia> log(2, -3)\n",
       "ERROR: DomainError with -3.0:\n",
       "log will only return a complex result if called with a complex argument. Try log(Complex(x)).\n",
       "Stacktrace:\n",
       " [1] throw_complex_domainerror(::Symbol, ::Float64) at ./math.jl:31\n",
       "[...]\n",
       "\\end{verbatim}\n",
       "\\begin{quote}\n",
       "\\textbf{note}\n",
       "\n",
       "Note\n",
       "\n",
       "If \\texttt{b} is a power of 2 or 10, \\href{@ref}{\\texttt{log2}} or \\href{@ref}{\\texttt{log10}} should be used, as these will typically be faster and more accurate. For example,\n",
       "\n",
       "\\begin{verbatim}\n",
       "julia> log(100,1000000)\n",
       "2.9999999999999996\n",
       "\n",
       "julia> log10(1000000)/2\n",
       "3.0\n",
       "\\end{verbatim}\n",
       "\\end{quote}\n",
       "\\rule{\\textwidth}{1pt}\n",
       "\\begin{verbatim}\n",
       "log(x)\n",
       "\\end{verbatim}\n",
       "Compute the natural logarithm of \\texttt{x}. Throws \\href{@ref}{\\texttt{DomainError}} for negative \\href{@ref}{\\texttt{Real}} arguments. Use complex negative arguments to obtain complex results.\n",
       "\n",
       "\\section{Examples}\n",
       "\\begin{verbatim}\n",
       "julia> log(2)\n",
       "0.6931471805599453\n",
       "\n",
       "julia> log(-3)\n",
       "ERROR: DomainError with -3.0:\n",
       "log will only return a complex result if called with a complex argument. Try log(Complex(x)).\n",
       "Stacktrace:\n",
       " [1] throw_complex_domainerror(::Symbol, ::Float64) at ./math.jl:31\n",
       "[...]\n",
       "\\end{verbatim}\n",
       "\\rule{\\textwidth}{1pt}\n",
       "\\begin{verbatim}\n",
       "log(A{T}::StridedMatrix{T})\n",
       "\\end{verbatim}\n",
       "If \\texttt{A} has no negative real eigenvalue, compute the principal matrix logarithm of \\texttt{A}, i.e. the unique matrix $X$ such that $e^X = A$ and $-\\pi < Im(\\lambda) < \\pi$ for all the eigenvalues $\\lambda$ of $X$. If \\texttt{A} has nonpositive eigenvalues, a nonprincipal matrix function is returned whenever possible.\n",
       "\n",
       "If \\texttt{A} is symmetric or Hermitian, its eigendecomposition (\\href{@ref}{\\texttt{eigen}}) is used, if \\texttt{A} is triangular an improved version of the inverse scaling and squaring method is employed (see \\footnotemark[AH12] and \\footnotemark[AHR13]). For general matrices, the complex Schur form (\\href{@ref}{\\texttt{schur}}) is computed and the triangular algorithm is used on the triangular factor.\n",
       "\n",
       "\\footnotetext[AH12]{Awad H. Al-Mohy and Nicholas J. Higham, \"Improved inverse  scaling and squaring algorithms for the matrix logarithm\", SIAM Journal on Scientific Computing, 34(4), 2012, C153-C169. \\href{https://doi.org/10.1137/110852553}{doi:10.1137/110852553}\n",
       "\n",
       "}\n",
       "\\footnotetext[AHR13]{Awad H. Al-Mohy, Nicholas J. Higham and Samuel D. Relton, \"Computing the Fréchet derivative of the matrix logarithm and estimating the condition number\", SIAM Journal on Scientific Computing, 35(4), 2013, C394-C410. \\href{https://doi.org/10.1137/120885991}{doi:10.1137/120885991}\n",
       "\n",
       "}\n",
       "\\section{Examples}\n",
       "\\begin{verbatim}\n",
       "julia> A = Matrix(2.7182818*I, 2, 2)\n",
       "2×2 Array{Float64,2}:\n",
       " 2.71828  0.0\n",
       " 0.0      2.71828\n",
       "\n",
       "julia> log(A)\n",
       "2×2 Array{Float64,2}:\n",
       " 1.0  0.0\n",
       " 0.0  1.0\n",
       "\\end{verbatim}\n"
      ],
      "text/markdown": [
       "```\n",
       "log(b,x)\n",
       "```\n",
       "\n",
       "Compute the base `b` logarithm of `x`. Throws [`DomainError`](@ref) for negative [`Real`](@ref) arguments.\n",
       "\n",
       "# Examples\n",
       "\n",
       "```jldoctest; filter = r\"Stacktrace:(\\n \\[[0-9]+\\].*)*\"\n",
       "julia> log(4,8)\n",
       "1.5\n",
       "\n",
       "julia> log(4,2)\n",
       "0.5\n",
       "\n",
       "julia> log(-2, 3)\n",
       "ERROR: DomainError with -2.0:\n",
       "log will only return a complex result if called with a complex argument. Try log(Complex(x)).\n",
       "Stacktrace:\n",
       " [1] throw_complex_domainerror(::Symbol, ::Float64) at ./math.jl:31\n",
       "[...]\n",
       "\n",
       "julia> log(2, -3)\n",
       "ERROR: DomainError with -3.0:\n",
       "log will only return a complex result if called with a complex argument. Try log(Complex(x)).\n",
       "Stacktrace:\n",
       " [1] throw_complex_domainerror(::Symbol, ::Float64) at ./math.jl:31\n",
       "[...]\n",
       "```\n",
       "\n",
       "!!! note\n",
       "    If `b` is a power of 2 or 10, [`log2`](@ref) or [`log10`](@ref) should be used, as these will typically be faster and more accurate. For example,\n",
       "\n",
       "    ```jldoctest\n",
       "    julia> log(100,1000000)\n",
       "    2.9999999999999996\n",
       "\n",
       "    julia> log10(1000000)/2\n",
       "    3.0\n",
       "    ```\n",
       "\n",
       "\n",
       "---\n",
       "\n",
       "```\n",
       "log(x)\n",
       "```\n",
       "\n",
       "Compute the natural logarithm of `x`. Throws [`DomainError`](@ref) for negative [`Real`](@ref) arguments. Use complex negative arguments to obtain complex results.\n",
       "\n",
       "# Examples\n",
       "\n",
       "```jldoctest; filter = r\"Stacktrace:(\\n \\[[0-9]+\\].*)*\"\n",
       "julia> log(2)\n",
       "0.6931471805599453\n",
       "\n",
       "julia> log(-3)\n",
       "ERROR: DomainError with -3.0:\n",
       "log will only return a complex result if called with a complex argument. Try log(Complex(x)).\n",
       "Stacktrace:\n",
       " [1] throw_complex_domainerror(::Symbol, ::Float64) at ./math.jl:31\n",
       "[...]\n",
       "```\n",
       "\n",
       "---\n",
       "\n",
       "```\n",
       "log(A{T}::StridedMatrix{T})\n",
       "```\n",
       "\n",
       "If `A` has no negative real eigenvalue, compute the principal matrix logarithm of `A`, i.e. the unique matrix $X$ such that $e^X = A$ and $-\\pi < Im(\\lambda) < \\pi$ for all the eigenvalues $\\lambda$ of $X$. If `A` has nonpositive eigenvalues, a nonprincipal matrix function is returned whenever possible.\n",
       "\n",
       "If `A` is symmetric or Hermitian, its eigendecomposition ([`eigen`](@ref)) is used, if `A` is triangular an improved version of the inverse scaling and squaring method is employed (see [^AH12] and [^AHR13]). For general matrices, the complex Schur form ([`schur`](@ref)) is computed and the triangular algorithm is used on the triangular factor.\n",
       "\n",
       "[^AH12]: Awad H. Al-Mohy and Nicholas J. Higham, \"Improved inverse  scaling and squaring algorithms for the matrix logarithm\", SIAM Journal on Scientific Computing, 34(4), 2012, C153-C169. [doi:10.1137/110852553](https://doi.org/10.1137/110852553)\n",
       "\n",
       "[^AHR13]: Awad H. Al-Mohy, Nicholas J. Higham and Samuel D. Relton, \"Computing the Fréchet derivative of the matrix logarithm and estimating the condition number\", SIAM Journal on Scientific Computing, 35(4), 2013, C394-C410. [doi:10.1137/120885991](https://doi.org/10.1137/120885991)\n",
       "\n",
       "# Examples\n",
       "\n",
       "```jldoctest\n",
       "julia> A = Matrix(2.7182818*I, 2, 2)\n",
       "2×2 Array{Float64,2}:\n",
       " 2.71828  0.0\n",
       " 0.0      2.71828\n",
       "\n",
       "julia> log(A)\n",
       "2×2 Array{Float64,2}:\n",
       " 1.0  0.0\n",
       " 0.0  1.0\n",
       "```\n"
      ],
      "text/plain": [
       "\u001b[36m  log(b,x)\u001b[39m\n",
       "\n",
       "  Compute the base \u001b[36mb\u001b[39m logarithm of \u001b[36mx\u001b[39m. Throws \u001b[36mDomainError\u001b[39m for negative \u001b[36mReal\u001b[39m\n",
       "  arguments.\n",
       "\n",
       "\u001b[1m  Examples\u001b[22m\n",
       "\u001b[1m  ≡≡≡≡≡≡≡≡≡≡\u001b[22m\n",
       "\n",
       "\u001b[36m  julia> log(4,8)\u001b[39m\n",
       "\u001b[36m  1.5\u001b[39m\n",
       "\u001b[36m  \u001b[39m\n",
       "\u001b[36m  julia> log(4,2)\u001b[39m\n",
       "\u001b[36m  0.5\u001b[39m\n",
       "\u001b[36m  \u001b[39m\n",
       "\u001b[36m  julia> log(-2, 3)\u001b[39m\n",
       "\u001b[36m  ERROR: DomainError with -2.0:\u001b[39m\n",
       "\u001b[36m  log will only return a complex result if called with a complex argument. Try log(Complex(x)).\u001b[39m\n",
       "\u001b[36m  Stacktrace:\u001b[39m\n",
       "\u001b[36m   [1] throw_complex_domainerror(::Symbol, ::Float64) at ./math.jl:31\u001b[39m\n",
       "\u001b[36m  [...]\u001b[39m\n",
       "\u001b[36m  \u001b[39m\n",
       "\u001b[36m  julia> log(2, -3)\u001b[39m\n",
       "\u001b[36m  ERROR: DomainError with -3.0:\u001b[39m\n",
       "\u001b[36m  log will only return a complex result if called with a complex argument. Try log(Complex(x)).\u001b[39m\n",
       "\u001b[36m  Stacktrace:\u001b[39m\n",
       "\u001b[36m   [1] throw_complex_domainerror(::Symbol, ::Float64) at ./math.jl:31\u001b[39m\n",
       "\u001b[36m  [...]\u001b[39m\n",
       "\n",
       "\u001b[36m\u001b[1m  │ \u001b[22m\u001b[39m\u001b[36m\u001b[1mNote\u001b[22m\u001b[39m\n",
       "\u001b[36m\u001b[1m  │\u001b[22m\u001b[39m\n",
       "\u001b[36m\u001b[1m  │\u001b[22m\u001b[39m  If \u001b[36mb\u001b[39m is a power of 2 or 10, \u001b[36mlog2\u001b[39m or \u001b[36mlog10\u001b[39m should be used, as these\n",
       "\u001b[36m\u001b[1m  │\u001b[22m\u001b[39m  will typically be faster and more accurate. For example,\n",
       "\u001b[36m\u001b[1m  │\u001b[22m\u001b[39m\n",
       "\u001b[36m\u001b[1m  │\u001b[22m\u001b[39m\u001b[36m  julia> log(100,1000000)\u001b[39m\n",
       "\u001b[36m\u001b[1m  │\u001b[22m\u001b[39m\u001b[36m  2.9999999999999996\u001b[39m\n",
       "\u001b[36m\u001b[1m  │\u001b[22m\u001b[39m\u001b[36m  \u001b[39m\n",
       "\u001b[36m\u001b[1m  │\u001b[22m\u001b[39m\u001b[36m  julia> log10(1000000)/2\u001b[39m\n",
       "\u001b[36m\u001b[1m  │\u001b[22m\u001b[39m\u001b[36m  3.0\u001b[39m\n",
       "\n",
       "  ────────────────────────────────────────────────────────────────────────────\n",
       "\n",
       "\u001b[36m  log(x)\u001b[39m\n",
       "\n",
       "  Compute the natural logarithm of \u001b[36mx\u001b[39m. Throws \u001b[36mDomainError\u001b[39m for negative \u001b[36mReal\u001b[39m\n",
       "  arguments. Use complex negative arguments to obtain complex results.\n",
       "\n",
       "\u001b[1m  Examples\u001b[22m\n",
       "\u001b[1m  ≡≡≡≡≡≡≡≡≡≡\u001b[22m\n",
       "\n",
       "\u001b[36m  julia> log(2)\u001b[39m\n",
       "\u001b[36m  0.6931471805599453\u001b[39m\n",
       "\u001b[36m  \u001b[39m\n",
       "\u001b[36m  julia> log(-3)\u001b[39m\n",
       "\u001b[36m  ERROR: DomainError with -3.0:\u001b[39m\n",
       "\u001b[36m  log will only return a complex result if called with a complex argument. Try log(Complex(x)).\u001b[39m\n",
       "\u001b[36m  Stacktrace:\u001b[39m\n",
       "\u001b[36m   [1] throw_complex_domainerror(::Symbol, ::Float64) at ./math.jl:31\u001b[39m\n",
       "\u001b[36m  [...]\u001b[39m\n",
       "\n",
       "  ────────────────────────────────────────────────────────────────────────────\n",
       "\n",
       "\u001b[36m  log(A{T}::StridedMatrix{T})\u001b[39m\n",
       "\n",
       "  If \u001b[36mA\u001b[39m has no negative real eigenvalue, compute the principal matrix logarithm\n",
       "  of \u001b[36mA\u001b[39m, i.e. the unique matrix \u001b[35mX\u001b[39m such that \u001b[35me^X = A\u001b[39m and \u001b[35m-\\pi < Im(\\lambda) <\n",
       "  \\pi\u001b[39m for all the eigenvalues \u001b[35m\\lambda\u001b[39m of \u001b[35mX\u001b[39m. If \u001b[36mA\u001b[39m has nonpositive eigenvalues,\n",
       "  a nonprincipal matrix function is returned whenever possible.\n",
       "\n",
       "  If \u001b[36mA\u001b[39m is symmetric or Hermitian, its eigendecomposition (\u001b[36meigen\u001b[39m) is used, if \u001b[36mA\u001b[39m\n",
       "  is triangular an improved version of the inverse scaling and squaring method\n",
       "  is employed (see \u001b[1m[^AH12]\u001b[22m and \u001b[1m[^AHR13]\u001b[22m). For general matrices, the complex\n",
       "  Schur form (\u001b[36mschur\u001b[39m) is computed and the triangular algorithm is used on the\n",
       "  triangular factor.\n",
       "\n",
       "  │ \u001b[0m\u001b[1m[^AH12]\u001b[22m\n",
       "  │\n",
       "  │  Awad H. Al-Mohy and Nicholas J. Higham, \"Improved inverse scaling\n",
       "  │  and squaring algorithms for the matrix logarithm\", SIAM Journal on\n",
       "  │  Scientific Computing, 34(4), 2012, C153-C169.\n",
       "  │  doi:10.1137/110852553 (https://doi.org/10.1137/110852553)\n",
       "\n",
       "  │ \u001b[0m\u001b[1m[^AHR13]\u001b[22m\n",
       "  │\n",
       "  │  Awad H. Al-Mohy, Nicholas J. Higham and Samuel D. Relton,\n",
       "  │  \"Computing the Fréchet derivative of the matrix logarithm and\n",
       "  │  estimating the condition number\", SIAM Journal on Scientific\n",
       "  │  Computing, 35(4), 2013, C394-C410. doi:10.1137/120885991\n",
       "  │  (https://doi.org/10.1137/120885991)\n",
       "\n",
       "\u001b[1m  Examples\u001b[22m\n",
       "\u001b[1m  ≡≡≡≡≡≡≡≡≡≡\u001b[22m\n",
       "\n",
       "\u001b[36m  julia> A = Matrix(2.7182818*I, 2, 2)\u001b[39m\n",
       "\u001b[36m  2×2 Array{Float64,2}:\u001b[39m\n",
       "\u001b[36m   2.71828  0.0\u001b[39m\n",
       "\u001b[36m   0.0      2.71828\u001b[39m\n",
       "\u001b[36m  \u001b[39m\n",
       "\u001b[36m  julia> log(A)\u001b[39m\n",
       "\u001b[36m  2×2 Array{Float64,2}:\u001b[39m\n",
       "\u001b[36m   1.0  0.0\u001b[39m\n",
       "\u001b[36m   0.0  1.0\u001b[39m"
      ]
     },
     "execution_count": 19,
     "metadata": {},
     "output_type": "execute_result"
    }
   ],
   "source": [
    "?log"
   ]
  },
  {
   "cell_type": "markdown",
   "metadata": {},
   "source": [
    "In particular we just learned that `log` takes two arguments (if we want), e.g.,"
   ]
  },
  {
   "cell_type": "code",
   "execution_count": 20,
   "metadata": {},
   "outputs": [
    {
     "name": "stdout",
     "output_type": "stream",
     "text": [
      "log(10) = 2.302585092994046\n",
      "log(10, 10) = 1.0\n",
      "log(MathConstants.e) = 1\n",
      "log(2, 8) = 3.0\n"
     ]
    }
   ],
   "source": [
    "@show log(10)     # natural logarithm of 10 \n",
    "@show log(10,10)  # base-10 logarithm 0f 10 \n",
    "@show log(MathConstants.e)      # natural logarithm of e \n",
    "@show log(2,8);   # base-2 logarithm of 8 (NB 2^3 = 8)"
   ]
  },
  {
   "cell_type": "markdown",
   "metadata": {},
   "source": [
    "Finally an example of a function acting on a string:"
   ]
  },
  {
   "cell_type": "code",
   "execution_count": 21,
   "metadata": {},
   "outputs": [
    {
     "name": "stdout",
     "output_type": "stream",
     "text": [
      "uppercase(sentence) = \"THE QUICK BROWN FOX JUMPS OVER THE LAZY DOG.\"\n",
      "lowercase(sentence) = \"the quick brown fox jumps over the lazy dog.\"\n",
      "occursin(\"fox\", sentence) = true\n"
     ]
    },
    {
     "data": {
      "text/plain": [
       "true"
      ]
     },
     "execution_count": 21,
     "metadata": {},
     "output_type": "execute_result"
    }
   ],
   "source": [
    "@show uppercase(sentence)\n",
    "@show lowercase(sentence)\n",
    "@show occursin(\"fox\", sentence)"
   ]
  },
  {
   "cell_type": "markdown",
   "metadata": {},
   "source": [
    "## User defined functions\n",
    "\n",
    "A function is an object that receives one or more values as input and returns one or more values as output. We will often need to implement new functions that do not come with Julia, e.g., to specify a new model. For very simple (short) functions the syntax is exactly what we are used to from mathematics:"
   ]
  },
  {
   "cell_type": "code",
   "execution_count": 22,
   "metadata": {},
   "outputs": [
    {
     "data": {
      "text/plain": [
       "f (generic function with 1 method)"
      ]
     },
     "execution_count": 22,
     "metadata": {},
     "output_type": "execute_result"
    }
   ],
   "source": [
    "f(x) = x + 5"
   ]
  },
  {
   "cell_type": "code",
   "execution_count": 23,
   "metadata": {},
   "outputs": [
    {
     "data": {
      "text/plain": [
       "13"
      ]
     },
     "execution_count": 23,
     "metadata": {},
     "output_type": "execute_result"
    }
   ],
   "source": [
    "f(8)"
   ]
  },
  {
   "cell_type": "code",
   "execution_count": 24,
   "metadata": {},
   "outputs": [
    {
     "data": {
      "text/plain": [
       "g (generic function with 1 method)"
      ]
     },
     "execution_count": 24,
     "metadata": {},
     "output_type": "execute_result"
    }
   ],
   "source": [
    "g(x,y) = x + y"
   ]
  },
  {
   "cell_type": "code",
   "execution_count": 25,
   "metadata": {},
   "outputs": [
    {
     "data": {
      "text/plain": [
       "15"
      ]
     },
     "execution_count": 25,
     "metadata": {},
     "output_type": "execute_result"
    }
   ],
   "source": [
    "g(7,8)"
   ]
  },
  {
   "cell_type": "markdown",
   "metadata": {},
   "source": [
    "Note that the names of the two functions just defined are `f` and `g`; names should not be repeated to avoid confusions."
   ]
  },
  {
   "cell_type": "markdown",
   "metadata": {},
   "source": [
    "### Lesson Question\n",
    "\n",
    "Implement a function that calculates the hypotenuse $c$ of a right triangle of legs (sides) $a$ and $b$, and call it \"`hyp`\". In the box below you can see how we will test in assignments whether your answer is correct.\n",
    "\n",
    "**Answer**: <!-- hyp(a,b) = sqrt(a^2 + b^2) -->"
   ]
  },
  {
   "cell_type": "code",
   "execution_count": 31,
   "metadata": {},
   "outputs": [
    {
     "data": {
      "text/plain": [
       "hyp (generic function with 1 method)"
      ]
     },
     "execution_count": 31,
     "metadata": {},
     "output_type": "execute_result"
    }
   ],
   "source": [
    "hyp(a, b) = sqrt(a^2+b^2)"
   ]
  },
  {
   "cell_type": "code",
   "execution_count": 32,
   "metadata": {},
   "outputs": [
    {
     "data": {
      "text/plain": [
       "\u001b[32m\u001b[1mTest Passed\u001b[22m\u001b[39m"
      ]
     },
     "execution_count": 32,
     "metadata": {},
     "output_type": "execute_result"
    }
   ],
   "source": [
    "using Test\n",
    "@test hyp(3,4) ≈ 5   # answer should be ≈ 5.0"
   ]
  },
  {
   "cell_type": "code",
   "execution_count": 33,
   "metadata": {},
   "outputs": [
    {
     "data": {
      "text/plain": [
       "true"
      ]
     },
     "execution_count": 33,
     "metadata": {},
     "output_type": "execute_result"
    }
   ],
   "source": [
    "hyp(3,4) == 5"
   ]
  },
  {
   "cell_type": "markdown",
   "metadata": {},
   "source": [
    "## Loops\n",
    "\n",
    "When one or more expressions have to be evaluated multiple times, it is useful to write loops to avoid coding an expression so many times."
   ]
  },
  {
   "cell_type": "code",
   "execution_count": null,
   "metadata": {},
   "outputs": [],
   "source": [
    "for i = 1:5 \n",
    "  print(i)\n",
    "end\n",
    "\n",
    "# 1:5 represents the sequence of numbers 1, 2, 3, 4, 5"
   ]
  },
  {
   "cell_type": "code",
   "execution_count": null,
   "metadata": {},
   "outputs": [],
   "source": [
    "for i in [1,4,0] \n",
    "  print(i)\n",
    "end\n",
    "\n",
    "# [1,4,0] is an array (~ list) containing the numbers 1, 4, 0\n",
    "# more on this in L1-2"
   ]
  },
  {
   "cell_type": "markdown",
   "metadata": {},
   "source": [
    "In these examples, the body of the 'for' loop was evaluated for each of the values of $i$ defined in the condition expression. But we can loop over arbitrary lists:"
   ]
  },
  {
   "cell_type": "code",
   "execution_count": null,
   "metadata": {},
   "outputs": [],
   "source": [
    "for s in [\"the\", \"quick\", \"brown\", \"fox\"]\n",
    "    println(s)\n",
    "end "
   ]
  },
  {
   "cell_type": "markdown",
   "metadata": {},
   "source": [
    "### Lesson Question\n",
    "\n",
    "Write a for-loop that computes \n",
    "$$\n",
    "    S = \\sum_{i = 1}^{10} i^2\n",
    "$$\n",
    "\n",
    "**Answer** \n",
    "\n",
    "<!-- \n",
    "S = 0\n",
    "for i = 1:10\n",
    "    S += i^2 \n",
    "end \n",
    "println(S);\n",
    "-->"
   ]
  },
  {
   "cell_type": "code",
   "execution_count": null,
   "metadata": {},
   "outputs": [],
   "source": [
    "\n",
    "    \n"
   ]
  },
  {
   "cell_type": "code",
   "execution_count": null,
   "metadata": {},
   "outputs": [],
   "source": [
    "# this is (a lot) less elegant (and impossible for larger sums): \n",
    "1 + 2^2 + 3^2 + 4^2 + 5^2 + 6^2 + 7^2 + 8^2 + 9^2 + 10^2"
   ]
  },
  {
   "cell_type": "markdown",
   "metadata": {},
   "source": [
    "### Remark \n",
    "\n",
    "there are many different ways to implement this, e.g., "
   ]
  },
  {
   "cell_type": "code",
   "execution_count": null,
   "metadata": {},
   "outputs": [],
   "source": [
    "S1 = sum( (1:10).^2 )   # cf. Lesson 1-2 on arrays\n",
    "S2 = sum( x^2 for x = 1:10 )\n",
    "S3 = sum( x->x^2, 1:10 )\n",
    "@show S1, S2, S3"
   ]
  },
  {
   "cell_type": "markdown",
   "metadata": {},
   "source": [
    "In IL027 we will only teach the most elementary syntax, but you are all encouraged to look at the more advanced learning resources that are linked at the top of this notebook."
   ]
  },
  {
   "cell_type": "code",
   "execution_count": null,
   "metadata": {},
   "outputs": [],
   "source": []
  }
 ],
 "metadata": {
  "kernelspec": {
   "display_name": "Julia 1.1.0",
   "language": "julia",
   "name": "julia-1.1"
  },
  "language_info": {
   "file_extension": ".jl",
   "mimetype": "application/julia",
   "name": "julia",
   "version": "1.1.0"
  }
 },
 "nbformat": 4,
 "nbformat_minor": 1
}
