{
 "cells": [
  {
   "cell_type": "markdown",
   "metadata": {},
   "source": [
    "# IL027 Interdisciplinary Computer Modelling\n",
    "\n",
    "## Lecture 1-1 Introduction to Julia \n",
    "\n",
    "\n",
    "Julia is an easy to use programming language appropriate for scientific and numerical computing. We chose to teach this module in Julia mostly because it has a very natural syntax. \n",
    "\n",
    "<img src=\"img/julia_logo.png\" alt=\"Newton\" style=\"width: 250px;\" align=\"middle\" />\n",
    "\n",
    "**DISCLAIMER:** This is *not* a \"Programming in Julia\" module. The choice of language is non-essential. If you are an experienced Python, R or Matlab user then we encourage you to reproduce (some of) the course material in those languages. (In other languages it would be more difficult.) But all assignments must be completed and submitted in Julia.\n",
    "\n",
    "\n",
    "In this notebook, we will setup our programming environment and learn some basic programming concepts that we need:\n",
    "\n",
    "* arithmetic\n",
    "* Variables\n",
    "* functions \n",
    "* user defined functions\n",
    "* Conditional evaluation (if-else)\n",
    "* Loops\n",
    "\n",
    "### Further study\n",
    "\n",
    "* Some excellent online learning resources for different levels: https://julialang.org/learning/ \n",
    "* Julia Documentation: http://docs.julialang.org/en/release-0.6/manual/\n",
    "* Some slightly outdated but still beautiful examples showing off Julia notebooks: http://nbviewer.jupyter.org/github/pjpmarques/Julia-Modeling-the-World/tree/master/"
   ]
  },
  {
   "cell_type": "markdown",
   "metadata": {},
   "source": [
    "### JLauncher Usage\n",
    "\n",
    "To simplify the initial setup stage, and to ensure everybody works with the same environment, we will use an online service run by Warwick University's [Scientific Computing Research and Technology Platform (SCRTP)](https://warwick.ac.uk/research/rtp/sc/).  Feel free to follow along now, or just watch and try it again on your own time.\n",
    "\n",
    "1. If you haven't yet done so, create either an SCRTP account [https://warwick.ac.uk/research/rtp/sc/desktop/myaccount/](https://warwick.ac.uk/research/rtp/sc/desktop/myaccount/)\n",
    "\n",
    "2. First Log-in:\n",
    "  * In a browser open the [IL027 JLauncher](https://mnf145.csc.warwick.ac.uk:8987/module/IL027)\n",
    "  * enter your SCRTP username and password and login by clicking on `Start Server`. \n",
    "  * The first time you try to log in, it can take a while. Occasionally, when there is too much web traffic on the server, it is possible that this process times out. In this case, simply wait for a few minutes and then try to log in again. \n",
    "  * Normally, the Jupyter notebook server should be launched automatically and open a new webpage. Make sure that you **do not** close the log-in window! If you have a pop-up blocker, then the Jupyter browser window will be blocked but there is a link in the log-in window that you can click instead.\n",
    "  * In the Jupyter browser window you should now see the presentation and assignment files for the IL027 module, that are ready.\n",
    "  * If anything goes wrong during setup, please check the module page for IL027 if somebody else has had similar difficulties. If there are no solutions posted yet, then please describe your problem on the IL027 Moodle discussion board and the TAs or lecturers will give you further instructions.\n",
    "\n",
    "3. Create a new notebook: \n",
    "  * In the Jupyter browser click **`[New]`** and then **`[Julia 0.6.4]`**. This will create a new Julia notebook.\n",
    "  * Note we will *always* use Julia v0.6.x throughout this module. At the level of this module it only differs marginally from Julia v1.x. Since parts of the Julia libraries are still adjusting to v1.0, we chose to use Julia v0.6.x to ensure stability of the computing platform throughout this module and minimise disruptions.\n",
    "\n",
    "4. You can now start entering Julia code. We will learn more about notebooks and Jupyter as we go along. For now, copy-paste the following code into a cell and then press `[SHIFT]+[ENTER]`:\n",
    "```Julia\n",
    "using Plots; plotly()\n",
    "x = 0.0:0.01:2*π\n",
    "plot(x, exp.(sin.(2*x)))\n",
    "```\n",
    "This will take a little while to execute because the `Plots` library takes a long time to load. (Work is already underway by the Julia developers to improve this.) You may also see some INFO or WARNING messages, which you can safely ignore.\n",
    "\n",
    "5. Open a Lecture Notebook: \n",
    "  * In the Jupyter browser click (e.g.) on `L1-1_IntroToJulia.ipynb` (**this** notebook), then a new browser window will open. This notebook will be read-only to make sure that you don't accidentally overwrite the original. \n",
    "  * To edit or execute, first click on **`[File]`** then **`[Make a Copy..]`**, which you can then rename, e.g., to `L1-1_IntoToJulia-<yourname>.ipynb`\n",
    "\n",
    "6. Assignments: you can download the assignments by clicking on `Assignments` and then clicking the `Fetch` button. You can then open assigment notebooks, complete them and submit using the tools on the `Assigments` tab. Multiple submissions are allowed, with only the final submission being considered for grading.\n",
    "\n",
    "The TAs will be able to help you in the drop-in session on Thursday if you have any difficulties with this setup. \n",
    "\n",
    "### First Assignment\n",
    "\n",
    "1. See instructions in `L1-1_IntroToJulia` notebook to get started with JLauncher, Jupyter and Julia.\n",
    "2. **COPY** the `L1-1_IntroToJulia.ipynb` file, real through and execute the cells. Experiment by copying and/or modifying some code cells. Repeat for `L1-2_LinearAlgebra.ipynb`.\n",
    "3. Fetch the first assigment `A1` using the `Assignments` tab as described above, and then open the assigment and work through the instructions.\n",
    "\n",
    "### Support \n",
    "\n",
    "* For non-technical support with the lectures and assignments (i.e. the Julia notebooks all work ok for you but some steps or ideas are unclear) please see the TAs in the drop-in session.\n",
    "* For technical support, the drop-in session is again the best place to get help, but throughout the week you can also post your questions on the IL027 Moodle discussion board. Please check first whether other students have had similar problems as solutions may already have been posted.\n",
    "\n",
    "For support questions that are best asked by Moodle or the drop-in sessions we will not normally respond to personal emails.\n"
   ]
  },
  {
   "cell_type": "markdown",
   "metadata": {},
   "source": [
    "## Arithmetic\n",
    "\n",
    "All common arithmetic operations (and more) are implemented in Julia. For example: "
   ]
  },
  {
   "cell_type": "code",
   "execution_count": null,
   "metadata": {},
   "outputs": [],
   "source": [
    "5 + 3 # addition "
   ]
  },
  {
   "cell_type": "code",
   "execution_count": null,
   "metadata": {},
   "outputs": [],
   "source": [
    "5 - 3 # subtraction"
   ]
  },
  {
   "cell_type": "code",
   "execution_count": null,
   "metadata": {},
   "outputs": [],
   "source": [
    "5 * 3 # multiplication"
   ]
  },
  {
   "cell_type": "code",
   "execution_count": null,
   "metadata": {},
   "outputs": [],
   "source": [
    "5 / 3     # division"
   ]
  },
  {
   "cell_type": "code",
   "execution_count": null,
   "metadata": {},
   "outputs": [],
   "source": [
    "5^3       # power"
   ]
  },
  {
   "cell_type": "code",
   "execution_count": null,
   "metadata": {},
   "outputs": [],
   "source": [
    "div(5, 3) # integer division \n",
    "5 ÷ 3     # integer division, different syntax"
   ]
  },
  {
   "cell_type": "code",
   "execution_count": null,
   "metadata": {},
   "outputs": [],
   "source": [
    "5 % 3    # remainder after integer division"
   ]
  },
  {
   "cell_type": "markdown",
   "metadata": {},
   "source": [
    "**Remark:** To enter the `÷` operator, type `\\div` followed by `<tab>`. Julia notebooks (and some editors) use a subset of $\\LaTeX$ to enter unicode symbols."
   ]
  },
  {
   "cell_type": "markdown",
   "metadata": {},
   "source": [
    "## Variables\n",
    "\n",
    "Variables are used to store values. For example, `x = 5` assigns the value `5` to the variable `x`:"
   ]
  },
  {
   "cell_type": "code",
   "execution_count": null,
   "metadata": {},
   "outputs": [],
   "source": [
    "x = 5"
   ]
  },
  {
   "cell_type": "markdown",
   "metadata": {},
   "source": [
    "A variable `y` can be defined in terms of `x`:"
   ]
  },
  {
   "cell_type": "code",
   "execution_count": null,
   "metadata": {},
   "outputs": [],
   "source": [
    "y = x + 2"
   ]
  },
  {
   "cell_type": "markdown",
   "metadata": {},
   "source": [
    "The variable `y` can be redefined:"
   ]
  },
  {
   "cell_type": "code",
   "execution_count": null,
   "metadata": {},
   "outputs": [],
   "source": [
    "y = 8"
   ]
  },
  {
   "cell_type": "markdown",
   "metadata": {},
   "source": [
    "and then also incremented by some amount:"
   ]
  },
  {
   "cell_type": "code",
   "execution_count": null,
   "metadata": {},
   "outputs": [],
   "source": [
    "y = y + 3\n",
    "# read this as y ← y + 3"
   ]
  },
  {
   "cell_type": "markdown",
   "metadata": {},
   "source": [
    "Note that the old value of the variable was used to define the new value of the variable. \n",
    "\n",
    "The names of the variables are case-sensitive (i.e. `x` is not the same as `X`)."
   ]
  },
  {
   "cell_type": "markdown",
   "metadata": {},
   "source": [
    "Numbers are not the only kind of data that can be manipulated from within Julia. For example, a *string* is a piece of text:"
   ]
  },
  {
   "cell_type": "code",
   "execution_count": null,
   "metadata": {},
   "outputs": [],
   "source": [
    "word = \"quick\""
   ]
  },
  {
   "cell_type": "code",
   "execution_count": null,
   "metadata": {},
   "outputs": [],
   "source": [
    "sentence = \"The quick brown fox jumps over the lazy dog.\""
   ]
  },
  {
   "cell_type": "markdown",
   "metadata": {},
   "source": [
    "## Functions\n",
    "\n",
    "Julia implements a fairly comprehensive standard library of functions for mathematical and other objects. For example:"
   ]
  },
  {
   "cell_type": "code",
   "execution_count": null,
   "metadata": {},
   "outputs": [],
   "source": [
    "abs(-5) # Absolute value"
   ]
  },
  {
   "cell_type": "code",
   "execution_count": null,
   "metadata": {},
   "outputs": [],
   "source": [
    "sqrt(36) # Square root"
   ]
  },
  {
   "cell_type": "code",
   "execution_count": null,
   "metadata": {},
   "outputs": [],
   "source": [
    "exp(1) # Natural exponential function"
   ]
  },
  {
   "cell_type": "code",
   "execution_count": null,
   "metadata": {},
   "outputs": [],
   "source": [
    "log(8) # Natural logarithm"
   ]
  },
  {
   "cell_type": "code",
   "execution_count": null,
   "metadata": {},
   "outputs": [],
   "source": [
    "sin(3.14/2) # Sine function in radians"
   ]
  },
  {
   "cell_type": "markdown",
   "metadata": {},
   "source": [
    "Note that all these functions receive a value as input and deliver a new value as output.\n",
    "\n",
    "I we don't know what the arguments of a function are then we can ask for help:"
   ]
  },
  {
   "cell_type": "code",
   "execution_count": null,
   "metadata": {},
   "outputs": [],
   "source": [
    "?log"
   ]
  },
  {
   "cell_type": "markdown",
   "metadata": {},
   "source": [
    "In particular we just learned that `log` takes two arguments (if we want), e.g.,"
   ]
  },
  {
   "cell_type": "code",
   "execution_count": null,
   "metadata": {},
   "outputs": [],
   "source": [
    "@show log(10)     # natural logarithm of 10 \n",
    "@show log(10,10)  # base-10 logarithm 0f 10 \n",
    "@show log(e)      # natural logarithm of e \n",
    "@show log(2,8);   # base-2 logarithm of 8 (NB 2^3 = 8)"
   ]
  },
  {
   "cell_type": "markdown",
   "metadata": {},
   "source": [
    "Finally an example of a function acting on a string:"
   ]
  },
  {
   "cell_type": "code",
   "execution_count": null,
   "metadata": {},
   "outputs": [],
   "source": [
    "@show uppercase(sentence)\n",
    "@show lowercase(sentence)\n",
    "@show contains(sentence, \"fox\")"
   ]
  },
  {
   "cell_type": "markdown",
   "metadata": {},
   "source": [
    "## User defined functions\n",
    "\n",
    "A function is an object that receives one or more values as input and returns one or more values as output. We will often need to implement new functions that do not come with Julia, e.g., to specify a new model. For very simple (short) functions the syntax is exactly what we are used to from mathematics:"
   ]
  },
  {
   "cell_type": "code",
   "execution_count": null,
   "metadata": {},
   "outputs": [],
   "source": [
    "f(x) = x + 5"
   ]
  },
  {
   "cell_type": "code",
   "execution_count": null,
   "metadata": {},
   "outputs": [],
   "source": [
    "f(8)"
   ]
  },
  {
   "cell_type": "code",
   "execution_count": null,
   "metadata": {},
   "outputs": [],
   "source": [
    "g(x,y) = x + y"
   ]
  },
  {
   "cell_type": "code",
   "execution_count": null,
   "metadata": {},
   "outputs": [],
   "source": [
    "g(7,8)"
   ]
  },
  {
   "cell_type": "markdown",
   "metadata": {},
   "source": [
    "Note that the names of the two functions just defined are `f` and `g`; names should not be repeated to avoid confusions."
   ]
  },
  {
   "cell_type": "markdown",
   "metadata": {},
   "source": [
    "### Lesson Question\n",
    "\n",
    "Implement a function that calculates the hypotenuse $c$ of a right triangle of legs (sides) $a$ and $b$, and call it \"`hyp`\".\n",
    "\n",
    "**Answer**: <!-- hyp(a,b) = sqrt(a^2 + b^2) -->"
   ]
  },
  {
   "cell_type": "code",
   "execution_count": null,
   "metadata": {},
   "outputs": [],
   "source": []
  },
  {
   "cell_type": "code",
   "execution_count": null,
   "metadata": {},
   "outputs": [],
   "source": [
    "hyp(3,4)   # answer should be ≈ 5.0"
   ]
  },
  {
   "cell_type": "markdown",
   "metadata": {},
   "source": [
    "## Loops\n",
    "\n",
    "When one or more expressions have to be evaluated multiple times, it is useful to write loops to avoid coding an expression so many times."
   ]
  },
  {
   "cell_type": "code",
   "execution_count": null,
   "metadata": {},
   "outputs": [],
   "source": [
    "for i = 1:5 \n",
    "  print(i)\n",
    "end\n",
    "\n",
    "# 1:5 represents the sequence of numbers 1, 2, 3, 4, 5"
   ]
  },
  {
   "cell_type": "code",
   "execution_count": null,
   "metadata": {},
   "outputs": [],
   "source": [
    "for i in [1,4,0] \n",
    "  print(i)\n",
    "end\n",
    "\n",
    "# [1,4,0] is an array (~ list) containing the numbers 1, 4, 0\n",
    "# more on this in L1-2"
   ]
  },
  {
   "cell_type": "markdown",
   "metadata": {},
   "source": [
    "In these examples, the body of the 'for' loop was evaluated for each of the values of $i$ defined in the condition expression. But we can loop over arbitrary lists:"
   ]
  },
  {
   "cell_type": "code",
   "execution_count": null,
   "metadata": {},
   "outputs": [],
   "source": [
    "for s in [\"the\", \"quick\", \"brown\", \"fox\"]\n",
    "    println(s)\n",
    "end "
   ]
  },
  {
   "cell_type": "markdown",
   "metadata": {},
   "source": [
    "### Lesson Question\n",
    "\n",
    "Write a for-loop that computes \n",
    "$$\n",
    "    S = \\sum_{i = 1}^{10} i^2\n",
    "$$\n",
    "\n",
    "**Answer** \n",
    "\n",
    "<!-- \n",
    "S = 0\n",
    "for i = 1:10\n",
    "    S += i^2 \n",
    "end \n",
    "println(S);\n",
    "-->"
   ]
  },
  {
   "cell_type": "code",
   "execution_count": null,
   "metadata": {},
   "outputs": [],
   "source": [
    "\n"
   ]
  },
  {
   "cell_type": "code",
   "execution_count": null,
   "metadata": {},
   "outputs": [],
   "source": [
    "# this is (a lot) less elegant (and impossible for larger sums): \n",
    "1 + 2^2 + 3^2 + 4^2 + 5^2 + 6^2 + 7^2 + 8^2 + 9^2 + 10^2"
   ]
  },
  {
   "cell_type": "markdown",
   "metadata": {},
   "source": [
    "### Remark \n",
    "\n",
    "there are many different ways to implement this, e.g., "
   ]
  },
  {
   "cell_type": "code",
   "execution_count": null,
   "metadata": {},
   "outputs": [],
   "source": [
    "S1 = sum( (1:10).^2 )   # cf. Lesson 1-2 on arrays\n",
    "S2 = sum( x^2 for x = 1:10 )\n",
    "S3 = sum( x->x^2, 1:10 )\n",
    "@show S1, S2, S3"
   ]
  },
  {
   "cell_type": "markdown",
   "metadata": {},
   "source": [
    "In IL027 we will only teach the most elementary syntax, but you are all encouraged to look at the more advanced learning resources that are linked at the top of this notebook."
   ]
  }
 ],
 "metadata": {
  "kernelspec": {
   "display_name": "Julia 0.6.4",
   "language": "julia",
   "name": "julia-0.6"
  },
  "language_info": {
   "file_extension": ".jl",
   "mimetype": "application/julia",
   "name": "julia",
   "version": "0.6.4"
  }
 },
 "nbformat": 4,
 "nbformat_minor": 1
}
