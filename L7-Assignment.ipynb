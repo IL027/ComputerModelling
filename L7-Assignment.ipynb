{
 "cells": [
  {
   "cell_type": "markdown",
   "metadata": {},
   "source": [
    "Before you turn this problem in, make sure everything runs as expected. First, **restart the kernel** (in the menubar, select Kernel$\\rightarrow$Restart) and then **run all cells** (in the menubar, select Cell$\\rightarrow$Run All).\n",
    "\n",
    "Make sure you fill in any place that says `YOUR CODE HERE` or \"YOUR ANSWER HERE\", as well as your name and collaborators below:"
   ]
  },
  {
   "cell_type": "code",
   "execution_count": null,
   "metadata": {},
   "outputs": [],
   "source": [
    "NAME = \"\"\n",
    "COLLABORATORS = \"\""
   ]
  },
  {
   "cell_type": "markdown",
   "metadata": {},
   "source": [
    "---"
   ]
  },
  {
   "cell_type": "markdown",
   "metadata": {
    "deletable": false,
    "editable": false,
    "nbgrader": {
     "checksum": "d7f72ae97c27bf6e28485e4b85e3dc07",
     "grade": false,
     "grade_id": "cell-ca27bc1effb5aae1",
     "locked": true,
     "schema_version": 1,
     "solution": false
    }
   },
   "source": [
    "**Setup code**. Run the cell below to initialise plotting and testing packages."
   ]
  },
  {
   "cell_type": "code",
   "execution_count": null,
   "metadata": {},
   "outputs": [],
   "source": [
    "using Plots\n",
    "using LaTeXStrings\n",
    "using Base.Test\n",
    "\n",
    "# set default plot attribtues - you can change this code if you like\n",
    "font = Plots.font(\"Helvetica\", 10)\n",
    "pyplot(guidefont=font, xtickfont=font, ytickfont=font, legendfont=font, titlefont=font);"
   ]
  },
  {
   "cell_type": "markdown",
   "metadata": {
    "deletable": false,
    "editable": false,
    "nbgrader": {
     "checksum": "3962a79145788e3d885f07596490c662",
     "grade": false,
     "grade_id": "cell-a5fbded4c757b6fa",
     "locked": true,
     "schema_version": 1,
     "solution": false
    }
   },
   "source": [
    "# IL027: Computer Modelling for All\n",
    "## Introduction to quantum mechanics - Assignment\n",
    "\n",
    "### Scott Habershon, Department of Chemistry\n",
    "\n",
    "## Question 1: The 1-dimensional double-well potential [40%]\n",
    "\n",
    "In the Lectures, we saw how the Colbert-Miller DVR method can be used to calculate the eigenvectors and eigenvalues for generic 1-dimensional potential energy surfaces, $V(x)$. Once the eigenvalues and eigenvectors are known, it is then straightforward to calculate the wavefunction at any time $\\psi(x,t)$.\n",
    "\n",
    "For the 1-dimensional double-well potential, given by\n",
    "\n",
    "$$\n",
    "V(x) = \\frac{1}{16 \\eta} x^{4} - \\frac{1}{2}x^{2},\n",
    "$$\n",
    "where $\\eta = 1.3544$, answer the following questions. You can assume atomic units throughout, so $\\hbar=1$. Also, assume that the particle mass is $m=1$.\n",
    "\n",
    "**Question 1a [20 marks]**. Calculate the first 3 eigenvalues and store them in an array named `E`"
   ]
  },
  {
   "cell_type": "code",
   "execution_count": null,
   "metadata": {
    "deletable": false,
    "nbgrader": {
     "checksum": "eea018d0c3c39fc329a98b5ba7b6bc99",
     "grade": false,
     "grade_id": "cell-51a80467b95c1b3d",
     "locked": false,
     "schema_version": 1,
     "solution": true
    }
   },
   "outputs": [],
   "source": [
    "# Set up system properties - we're using atomic units, where hbar = 1.0.\n",
    "#\n",
    "mass = 1.0\n",
    "hbar = 1.0\n",
    "\n",
    "# Setup potential parameter.\n",
    "eta = 1.3544\n",
    "\n",
    "# Set up the uniform grid:\n",
    "Xmax = 5.0\n",
    "Xmin = -5.0\n",
    "Length = Xmax - Xmin\n",
    "ngrid = 101\n",
    "x = linspace(Xmin, Xmax, ngrid)\n",
    "dx = x[2] - x[1]\n",
    "\n",
    "# YOUR CODE HERE"
   ]
  },
  {
   "cell_type": "code",
   "execution_count": null,
   "metadata": {
    "deletable": false,
    "editable": false,
    "nbgrader": {
     "checksum": "5c869bd5d673f24d5bb057352f574955",
     "grade": true,
     "grade_id": "cell-445cc75c91cc8492",
     "locked": true,
     "points": 20,
     "schema_version": 1,
     "solution": false
    }
   },
   "outputs": [],
   "source": [
    "@test E[1] ≈ -0.724011291087\n",
    "@test E[2] ≈ -0.683198245183\n",
    "@test E[3] ≈ 0.174260380433\n",
    "@test E[4] ≈ 0.632249506206"
   ]
  },
  {
   "cell_type": "markdown",
   "metadata": {
    "deletable": false,
    "editable": false,
    "nbgrader": {
     "checksum": "ab1fce4d1fea3c516a7b3988bd3b306e",
     "grade": false,
     "grade_id": "cell-7c530a629b9abde4",
     "locked": true,
     "schema_version": 1,
     "solution": false
    }
   },
   "source": [
    "**Question 1b [20 marks]**. Calculate and plot the probability distributions, $\\vert \\psi_{n}(x) \\vert^{2}$ for the first 3 eigenfunctions. Remember to normalise the wavefunctions as in the lecture."
   ]
  },
  {
   "cell_type": "code",
   "execution_count": null,
   "metadata": {
    "deletable": false,
    "nbgrader": {
     "checksum": "03d5ebc8311eab7a153247b2795872e3",
     "grade": true,
     "grade_id": "cell-4bef60ea4b6de46d",
     "locked": false,
     "points": 20,
     "schema_version": 1,
     "solution": true
    }
   },
   "outputs": [],
   "source": [
    "# YOUR CODE HERE"
   ]
  },
  {
   "cell_type": "markdown",
   "metadata": {},
   "source": [
    "## Question 2 [40%]\n",
    "\n",
    "Once the eigenvalues and eigenvectors for a quantum-mechanical system are known, it is then straightforward to calculate the wavefunction at any time $\\psi(x,t)$. Furthermore, once the wavefunction is known, any time-dependent expectation value (*i.e.* observables) can be calculated according to:\n",
    "\n",
    "$$\n",
    "\\langle A(t) \\rangle = \\frac{ \\int \\, \\psi^{*}(x,t) A(x) \\psi(x,t) \\, dx}{\\int \\, \\psi^{*}(x,t)\\psi(x,t) \\, dx}\n",
    "$$\n",
    "\n",
    "where $A(x)$ is the quantum-mechanical operator for the observable of interest.\n",
    "\n",
    "We will use this principle, along with the eigenvectors and eigenvalues calculated in Q1, to calculate and plot the *position expectation value* for the double-well potential, assuming that the initial wavefunction is\n",
    "\n",
    "$$\n",
    "\\psi_{0}(x) = \\left( \\frac{ 2 \\alpha}{\\pi} \\right)^{1/4} e^{-\\alpha(x-\\mu)^{2}}\n",
    "$$\n",
    "\n",
    "where $\\mu = -2.5$ and $\\alpha = 0.5$."
   ]
  },
  {
   "cell_type": "markdown",
   "metadata": {
    "deletable": false,
    "editable": false,
    "nbgrader": {
     "checksum": "deded1b7ec6425e195cd52eec033ea79",
     "grade": false,
     "grade_id": "cell-f8e09e446c0483c8",
     "locked": true,
     "schema_version": 1,
     "solution": false
    }
   },
   "source": [
    "**Question 2a [15 marks]**. Determine the initial expansion coefficients for each eigenvector, as we did in the Lecture, and store in an array named `coeff`."
   ]
  },
  {
   "cell_type": "code",
   "execution_count": null,
   "metadata": {
    "deletable": false,
    "nbgrader": {
     "checksum": "23d2441f6b70580a7e83ff2adfe5e4c5",
     "grade": false,
     "grade_id": "cell-5ba1ee717c8d89ef",
     "locked": false,
     "schema_version": 1,
     "solution": true
    }
   },
   "outputs": [],
   "source": [
    "# YOUR CODE HERE"
   ]
  },
  {
   "cell_type": "code",
   "execution_count": null,
   "metadata": {
    "deletable": false,
    "editable": false,
    "nbgrader": {
     "checksum": "d0e03d8d8fe1a04514aa05ab764e4c8e",
     "grade": true,
     "grade_id": "cell-447ff795c5e7be0b",
     "locked": true,
     "points": 15,
     "schema_version": 1,
     "solution": false
    }
   },
   "outputs": [],
   "source": [
    "@test size(coeff) == (ngrid,)\n",
    "@test eltype(coeff) <: Complex\n",
    "@test coeff[1] ≈ 0.6543178094116384 + 0.0im\n",
    "@test coeff[end] ≈ -7.048387148483266e-5 + 0.0im"
   ]
  },
  {
   "cell_type": "markdown",
   "metadata": {
    "deletable": false,
    "editable": false,
    "nbgrader": {
     "checksum": "4ef721212c5bc26f7ddb03a4e744c03a",
     "grade": false,
     "grade_id": "cell-53209798e7dc7e4c",
     "locked": true,
     "schema_version": 1,
     "solution": false
    }
   },
   "source": [
    "**Question 2b [15 marks]**. Write two function `wavefunction(t)` and `expectation_x(t)` to return the wavefunction and the expectation of the position operator $\\langle x \\rangle$ at time $t$."
   ]
  },
  {
   "cell_type": "code",
   "execution_count": null,
   "metadata": {
    "deletable": false,
    "nbgrader": {
     "checksum": "6ec53e271b217e3e6c3ca948877dfc07",
     "grade": false,
     "grade_id": "cell-b2548c906aef14ac",
     "locked": false,
     "schema_version": 1,
     "solution": true
    }
   },
   "outputs": [],
   "source": [
    "# YOUR CODE HERE"
   ]
  },
  {
   "cell_type": "code",
   "execution_count": null,
   "metadata": {
    "deletable": false,
    "editable": false,
    "nbgrader": {
     "checksum": "e70fa4a4e7f7e132be9973b34fc6f489",
     "grade": true,
     "grade_id": "cell-7cc711e603875b4d",
     "locked": true,
     "points": 15,
     "schema_version": 1,
     "solution": false
    }
   },
   "outputs": [],
   "source": [
    "@test size(wavefunction(0.)) == (ngrid,)\n",
    "@test eltype(wavefunction(0.)) <: Complex\n",
    "@test typeof(expectation_x(0.)) <: Number\n",
    "@test wavefunction(0) ≈ (2.0*alpha/π)^(0.25) * exp.(-alpha * (x-mu).^2 )\n",
    "@test expectation_x(0) ≈ -2.499197302916415 + 0.0im\n",
    "@test real(expectation_x(1)) ≈ -2.1187800258995875"
   ]
  },
  {
   "cell_type": "markdown",
   "metadata": {
    "deletable": false,
    "editable": false,
    "nbgrader": {
     "checksum": "f638a2c0fa1018197e3aa0db3ea54bb3",
     "grade": false,
     "grade_id": "cell-8605fc295da506ba",
     "locked": true,
     "schema_version": 1,
     "solution": false
    }
   },
   "source": [
    "**Question 2c [10 marks]**. Plot a graph of $\\langle x(t) \\rangle$ for times ranging from $t=0$ to $t=100$, using sufficient points that the resulting curve is smooth."
   ]
  },
  {
   "cell_type": "code",
   "execution_count": null,
   "metadata": {
    "deletable": false,
    "nbgrader": {
     "checksum": "41062907de43636b289c66c7469ca966",
     "grade": true,
     "grade_id": "cell-8b0f53f8d033eae0",
     "locked": false,
     "points": 10,
     "schema_version": 1,
     "solution": true
    }
   },
   "outputs": [],
   "source": [
    "# YOUR CODE HERE"
   ]
  },
  {
   "cell_type": "markdown",
   "metadata": {},
   "source": [
    "## Question 3 [20%]\n",
    "\n",
    "Produce an attractive plot to visualise the time-evolution of the probability distribution for the wavepacket from Question 2 for times from 0 to 100. Your plot \n",
    "should also illustrate the potential energy function $V(x)$ and include a suitable visualisation of the time evolution of $\\langle x(t) \\rangle$.\n",
    "\n",
    "For example, you might like to use a series of subplots which illustrate the probability at a number of different times. Note that since plot this will be graded based on the static image produced, animation is not permitted."
   ]
  },
  {
   "cell_type": "code",
   "execution_count": null,
   "metadata": {
    "deletable": false,
    "nbgrader": {
     "checksum": "206ffff7d528419f0b0550093d101444",
     "grade": true,
     "grade_id": "cell-8c40a6b83a7656a3",
     "locked": false,
     "points": 20,
     "schema_version": 1,
     "solution": true
    }
   },
   "outputs": [],
   "source": [
    "# YOUR CODE HERE"
   ]
  },
  {
   "cell_type": "markdown",
   "metadata": {},
   "source": [
    "## Bonus question (no marks)\n",
    "\n",
    "A complementary approach to determining time-dependent wavefunctions to that described above is the *split-operator Fourier transform* (SOFT) method. SOFT has the advantage that one does not need to know the eigenfunctions and eigenvalues of the problem before propagation, and so is more generally applicable.\n",
    "\n",
    "The time-dependent Schrodinger equation is\n",
    "\n",
    "$$\n",
    "i \\hbar \\frac{d \\psi(x,t)}{dt} = \\hat{H} \\psi(x,t).\n",
    "$$\n",
    "\n",
    "The formal solution to this can be written as\n",
    "\n",
    "$$\n",
    "\\psi(x,t+\\Delta t) = e^{-\\frac{i \\hat{H} \\Delta t}{\\hbar}} \\psi(x,t).\n",
    "$$\n",
    "\n",
    "In other words, application of the operator $e^{-\\frac{i \\hat{H} \\Delta t}{\\hbar}}$ on the wavefunction $\\psi(x,t)$ propagates the wavefunction forwards in time by a time-step $\\Delta t$. However, the problem is that direct application of $e^{-\\frac{i \\hat{H} \\Delta t}{\\hbar}}$ is non-trivial because the kinetic energy operator $\\hat{T}$ and the potential energy operator $\\hat{V}$ which make up the total Hamiltonian $\\hat{H}$ do not commute.\n",
    "\n",
    "Instead, it can be shown (although it's beyond this course), that application of $e^{-\\frac{i \\hat{H} \\Delta t}{\\hbar}}$ on $\\psi(x,t)$ can be approximated to a high degree of accuracy by the following scheme:\n",
    "\n",
    "**(A)** For all points $x$, multiply the wavefunction $\\psi(x,t)$ by the factor\n",
    "\n",
    "$$\n",
    "f(x) = e^{-\\frac{i V(x) \\Delta t}{2 \\hbar}}\n",
    "$$\n",
    "\n",
    "The result is a \"perturbed\" wavefunction, which we'll call $\\tilde{\\psi}(x,t)$, so\n",
    "\n",
    "$$\n",
    "\\tilde{\\psi}(x,t) = f(x) \\psi(x,t)\n",
    "$$\n",
    "\n",
    "\n",
    "**(B)** Perform the discrete Fourier transform of $\\tilde{\\psi}(x,t)$ to give the perturbed wavefunction on a uniform grid in momentum space:\n",
    "\n",
    "$$\n",
    "\\tilde{\\psi}(p,t) = \\int \\, \\frac{e^{-ipx}}{\\sqrt{2 \\pi}} \\tilde{\\psi}(x,t) \\, dx\n",
    "$$\n",
    "\n",
    "**(C)** For all points $p$, multiply the momentum-space wavefunction $\\tilde{\\psi}(p,t)$ by the factor\n",
    "\n",
    "$$\n",
    "f(p) = e^{-\\frac{i p^{2} \\Delta t}{2 m \\hbar}}\n",
    "$$\n",
    "\n",
    "where $m$ is the particle mass. The result is the wavefunction $\\psi\\prime(p,t)$.\n",
    "\n",
    "**(D)** Perform the inverse Fourier transform, back to position-space:\n",
    "\n",
    "$$\n",
    "\\psi\\prime(x,t) = \\int \\, \\frac{e^{+ipx}}{\\sqrt{2 \\pi}} \\psi\\prime(p,t) \\, dp\n",
    "$$\n",
    "\n",
    "The resulting wavefunction is now $\\psi\\prime(x,t)$.\n",
    "\n",
    "**(E)** Finally, for all points $x$, multiply once again the wavefunction $\\psi\\prime(x,t)$ by the factor\n",
    "\n",
    "$$\n",
    "f(x) = e^{-\\frac{i V(x) \\Delta t}{2 \\hbar}}\n",
    "$$\n",
    "\n",
    "The result is the final wavefunction $\\psi(x,t+\\Delta t)$; in other words, this recipe above moves the wavefunction through one time-step $\\Delta t$.\n",
    "\n",
    "Based on the above, write a SOFT program which will propagate the initial wavefunction\n",
    "\n",
    "$$\n",
    "\\psi_{0}(x) = \\left( \\frac{ 2 \\alpha}{\\pi} \\right)^{1/4} e^{-\\alpha(x-\\mu)^{2}}\n",
    "$$\n",
    "\n",
    "on the same double-well potential as employed in Q2. Use your SOFT code to calculate $\\langle x(t) \\rangle$, and compare the result with that obtained by the eigenvector method of Q2.\n",
    "\n",
    "**Hints:**\n",
    "1. The forwards/backwards Fourier transforms could be performed by either FT library codes, or by straightforward Simpons's rule integration.\n",
    "2. You will need to set up two uniform grid: one in positions space, and one in momentum space.\n",
    "3. Many of the matrices involved in the SOFT scheme above only need to be computed once!\n"
   ]
  },
  {
   "cell_type": "code",
   "execution_count": null,
   "metadata": {
    "deletable": false,
    "nbgrader": {
     "checksum": "9f60224c4684a7b0f27001a7caa482c2",
     "grade": true,
     "grade_id": "cell-df95f1f7c3dfdb56",
     "locked": false,
     "points": 0,
     "schema_version": 1,
     "solution": true
    }
   },
   "outputs": [],
   "source": [
    "# Set mass and other parameters\n",
    "mass = 1.0\n",
    "alpha = 0.5\n",
    "mu = -2.5\n",
    "\n",
    "# Set grid points - needs to be same as in Q2.\n",
    "ngrid = 101\n",
    "\n",
    "# Set time-step, Tmax and nt.\n",
    "dt = 0.05\n",
    "Tmax = 100.0\n",
    "nt = Int(Tmax/dt)\n",
    "t = linspace(0, Tmax, nt)\n",
    "\n",
    "# Create a position-space grid.\n",
    "Xmax = 5.0\n",
    "Xmin = -5.0\n",
    "x = linspace(Xmin, Xmax, ngrid)\n",
    "dx = x[2] - x[1]\n",
    "\n",
    "# Create a momentum-space grid.\n",
    "Pmax = 8.0\n",
    "Pmin = -8.0\n",
    "p = linspace(Pmin, Pmax, ngrid)\n",
    "dp = p[2] - p[1]\n",
    "\n",
    "# YOUR CODE HERE"
   ]
  }
 ],
 "metadata": {
  "kernelspec": {
   "display_name": "Julia 0.6.2",
   "language": "julia",
   "name": "julia-0.6"
  },
  "language_info": {
   "file_extension": ".jl",
   "mimetype": "application/julia",
   "name": "julia",
   "version": "0.6.2"
  }
 },
 "nbformat": 4,
 "nbformat_minor": 2
}
