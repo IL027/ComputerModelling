{
 "cells": [
  {
   "cell_type": "markdown",
   "metadata": {
    "slideshow": {
     "slide_type": "slide"
    }
   },
   "source": [
    "## Overview\n",
    " * AutoGrad\n",
    " * Logistic Regression revisited\n",
    " * Multiclass logistic regression\n",
    " * Multilayer Neural Networks and Deeplearning\n",
    " \n",
    "closely following [Knet-the-Julia-dope](https://github.com/moralesq/Knet-the-Julia-dope) in turn based on [Deep Learning - The Straight Dope](http://gluon.mxnet.io/) using MXNet which can also be accessed from Julia"
   ]
  },
  {
   "cell_type": "markdown",
   "metadata": {
    "slideshow": {
     "slide_type": "slide"
    }
   },
   "source": [
    "\n",
    "\n",
    "### Introduction\n",
    "Typically gradients in neural network are computed using back-propagation. An alternative is to use autograd.  This is the approach taken by the popular [autograd](https://github.com/HIPS/autograd) Python package and its Julia port AutoGrad.jl used by Knet.\n",
    "\n",
    "\n"
   ]
  },
  {
   "cell_type": "code",
   "execution_count": 4,
   "metadata": {},
   "outputs": [],
   "source": [
    "using AutoGrad\n",
    "using Knet, Plots, DataFrames\n",
    "gr()\n",
    "using Suppressor"
   ]
  },
  {
   "cell_type": "markdown",
   "metadata": {},
   "source": [
    "As a toy example:  $f = 2x^2"
   ]
  },
  {
   "cell_type": "code",
   "execution_count": 23,
   "metadata": {},
   "outputs": [],
   "source": [
    "x    = [1 2; 3 4];\n",
    "f(x) = 2x^2;"
   ]
  },
  {
   "cell_type": "markdown",
   "metadata": {},
   "source": [
    "In Knet g=grad(f) generates a gradient function g, which takes the same inputs as the function f but returns the gradient. The gradient function g triggers recording by boxing the parameters in a special data type and calls f. The elementary operations in f are overloaded to record their actions and output boxed answers when their inputs are boxed. The sequence of recorded operations is then used to compute gradients."
   ]
  },
  {
   "cell_type": "code",
   "execution_count": 24,
   "metadata": {},
   "outputs": [
    {
     "data": {
      "text/plain": [
       "20.0"
      ]
     },
     "execution_count": 24,
     "metadata": {},
     "output_type": "execute_result"
    }
   ],
   "source": [
    "g = grad(f)\n",
    "g(5.0)"
   ]
  },
  {
   "cell_type": "markdown",
   "metadata": {
    "slideshow": {
     "slide_type": "subslide"
    }
   },
   "source": [
    "# (Stochastic) Gradient Descent"
   ]
  },
  {
   "cell_type": "markdown",
   "metadata": {},
   "source": [
    "In order to minimize $f$ we consider the recursion:\n",
    "$$ x_{n+1}=x_{n}-\\epsilon \\nabla f(x_n)$$"
   ]
  },
  {
   "cell_type": "code",
   "execution_count": 25,
   "metadata": {},
   "outputs": [
    {
     "data": {
      "text/html": [
       "<?xml version=\"1.0\" encoding=\"utf-8\"?>\n",
       "<svg xmlns=\"http://www.w3.org/2000/svg\" xmlns:xlink=\"http://www.w3.org/1999/xlink\" width=\"600\" height=\"400\" viewBox=\"0 0 600 400\">\n",
       "<defs>\n",
       "  <clipPath id=\"clip5400\">\n",
       "    <rect x=\"0\" y=\"0\" width=\"600\" height=\"400\"/>\n",
       "  </clipPath>\n",
       "</defs>\n",
       "<polygon clip-path=\"url(#clip5400)\" points=\"\n",
       "0,400 600,400 600,0 0,0 \n",
       "  \" fill=\"#ffffff\" fill-opacity=\"1\"/>\n",
       "<defs>\n",
       "  <clipPath id=\"clip5401\">\n",
       "    <rect x=\"120\" y=\"0\" width=\"421\" height=\"400\"/>\n",
       "  </clipPath>\n",
       "</defs>\n",
       "<polygon clip-path=\"url(#clip5400)\" points=\"\n",
       "47.9701,360.065 580.315,360.065 580.315,11.811 47.9701,11.811 \n",
       "  \" fill=\"#ffffff\" fill-opacity=\"1\"/>\n",
       "<defs>\n",
       "  <clipPath id=\"clip5402\">\n",
       "    <rect x=\"47\" y=\"11\" width=\"533\" height=\"349\"/>\n",
       "  </clipPath>\n",
       "</defs>\n",
       "<polyline clip-path=\"url(#clip5402)\" style=\"stroke:#000000; stroke-width:0.5; stroke-opacity:0.1; fill:none\" points=\"\n",
       "  150.137,360.065 150.137,11.811 \n",
       "  \"/>\n",
       "<polyline clip-path=\"url(#clip5402)\" style=\"stroke:#000000; stroke-width:0.5; stroke-opacity:0.1; fill:none\" points=\"\n",
       "  257.682,360.065 257.682,11.811 \n",
       "  \"/>\n",
       "<polyline clip-path=\"url(#clip5402)\" style=\"stroke:#000000; stroke-width:0.5; stroke-opacity:0.1; fill:none\" points=\"\n",
       "  365.226,360.065 365.226,11.811 \n",
       "  \"/>\n",
       "<polyline clip-path=\"url(#clip5402)\" style=\"stroke:#000000; stroke-width:0.5; stroke-opacity:0.1; fill:none\" points=\"\n",
       "  472.771,360.065 472.771,11.811 \n",
       "  \"/>\n",
       "<polyline clip-path=\"url(#clip5402)\" style=\"stroke:#000000; stroke-width:0.5; stroke-opacity:0.1; fill:none\" points=\"\n",
       "  580.315,360.065 580.315,11.811 \n",
       "  \"/>\n",
       "<polyline clip-path=\"url(#clip5402)\" style=\"stroke:#000000; stroke-width:0.5; stroke-opacity:0.1; fill:none\" points=\"\n",
       "  47.9701,305.651 580.315,305.651 \n",
       "  \"/>\n",
       "<polyline clip-path=\"url(#clip5402)\" style=\"stroke:#000000; stroke-width:0.5; stroke-opacity:0.1; fill:none\" points=\"\n",
       "  47.9701,251.236 580.315,251.236 \n",
       "  \"/>\n",
       "<polyline clip-path=\"url(#clip5402)\" style=\"stroke:#000000; stroke-width:0.5; stroke-opacity:0.1; fill:none\" points=\"\n",
       "  47.9701,196.821 580.315,196.821 \n",
       "  \"/>\n",
       "<polyline clip-path=\"url(#clip5402)\" style=\"stroke:#000000; stroke-width:0.5; stroke-opacity:0.1; fill:none\" points=\"\n",
       "  47.9701,142.406 580.315,142.406 \n",
       "  \"/>\n",
       "<polyline clip-path=\"url(#clip5402)\" style=\"stroke:#000000; stroke-width:0.5; stroke-opacity:0.1; fill:none\" points=\"\n",
       "  47.9701,87.9917 580.315,87.9917 \n",
       "  \"/>\n",
       "<polyline clip-path=\"url(#clip5402)\" style=\"stroke:#000000; stroke-width:0.5; stroke-opacity:0.1; fill:none\" points=\"\n",
       "  47.9701,33.5769 580.315,33.5769 \n",
       "  \"/>\n",
       "<polyline clip-path=\"url(#clip5400)\" style=\"stroke:#000000; stroke-width:1; stroke-opacity:1; fill:none\" points=\"\n",
       "  47.9701,360.065 580.315,360.065 \n",
       "  \"/>\n",
       "<polyline clip-path=\"url(#clip5400)\" style=\"stroke:#000000; stroke-width:1; stroke-opacity:1; fill:none\" points=\"\n",
       "  47.9701,360.065 47.9701,11.811 \n",
       "  \"/>\n",
       "<polyline clip-path=\"url(#clip5400)\" style=\"stroke:#000000; stroke-width:1; stroke-opacity:1; fill:none\" points=\"\n",
       "  150.137,360.065 150.137,354.842 \n",
       "  \"/>\n",
       "<polyline clip-path=\"url(#clip5400)\" style=\"stroke:#000000; stroke-width:1; stroke-opacity:1; fill:none\" points=\"\n",
       "  257.682,360.065 257.682,354.842 \n",
       "  \"/>\n",
       "<polyline clip-path=\"url(#clip5400)\" style=\"stroke:#000000; stroke-width:1; stroke-opacity:1; fill:none\" points=\"\n",
       "  365.226,360.065 365.226,354.842 \n",
       "  \"/>\n",
       "<polyline clip-path=\"url(#clip5400)\" style=\"stroke:#000000; stroke-width:1; stroke-opacity:1; fill:none\" points=\"\n",
       "  472.771,360.065 472.771,354.842 \n",
       "  \"/>\n",
       "<polyline clip-path=\"url(#clip5400)\" style=\"stroke:#000000; stroke-width:1; stroke-opacity:1; fill:none\" points=\"\n",
       "  580.315,360.065 580.315,354.842 \n",
       "  \"/>\n",
       "<polyline clip-path=\"url(#clip5400)\" style=\"stroke:#000000; stroke-width:1; stroke-opacity:1; fill:none\" points=\"\n",
       "  47.9701,305.651 55.9553,305.651 \n",
       "  \"/>\n",
       "<polyline clip-path=\"url(#clip5400)\" style=\"stroke:#000000; stroke-width:1; stroke-opacity:1; fill:none\" points=\"\n",
       "  47.9701,251.236 55.9553,251.236 \n",
       "  \"/>\n",
       "<polyline clip-path=\"url(#clip5400)\" style=\"stroke:#000000; stroke-width:1; stroke-opacity:1; fill:none\" points=\"\n",
       "  47.9701,196.821 55.9553,196.821 \n",
       "  \"/>\n",
       "<polyline clip-path=\"url(#clip5400)\" style=\"stroke:#000000; stroke-width:1; stroke-opacity:1; fill:none\" points=\"\n",
       "  47.9701,142.406 55.9553,142.406 \n",
       "  \"/>\n",
       "<polyline clip-path=\"url(#clip5400)\" style=\"stroke:#000000; stroke-width:1; stroke-opacity:1; fill:none\" points=\"\n",
       "  47.9701,87.9917 55.9553,87.9917 \n",
       "  \"/>\n",
       "<polyline clip-path=\"url(#clip5400)\" style=\"stroke:#000000; stroke-width:1; stroke-opacity:1; fill:none\" points=\"\n",
       "  47.9701,33.5769 55.9553,33.5769 \n",
       "  \"/>\n",
       "<g clip-path=\"url(#clip5400)\">\n",
       "<text style=\"fill:#000000; fill-opacity:1; font-family:Arial,Helvetica Neue,Helvetica,sans-serif; font-size:12; text-anchor:middle;\" transform=\"rotate(0, 150.137, 373.865)\" x=\"150.137\" y=\"373.865\">20</text>\n",
       "</g>\n",
       "<g clip-path=\"url(#clip5400)\">\n",
       "<text style=\"fill:#000000; fill-opacity:1; font-family:Arial,Helvetica Neue,Helvetica,sans-serif; font-size:12; text-anchor:middle;\" transform=\"rotate(0, 257.682, 373.865)\" x=\"257.682\" y=\"373.865\">40</text>\n",
       "</g>\n",
       "<g clip-path=\"url(#clip5400)\">\n",
       "<text style=\"fill:#000000; fill-opacity:1; font-family:Arial,Helvetica Neue,Helvetica,sans-serif; font-size:12; text-anchor:middle;\" transform=\"rotate(0, 365.226, 373.865)\" x=\"365.226\" y=\"373.865\">60</text>\n",
       "</g>\n",
       "<g clip-path=\"url(#clip5400)\">\n",
       "<text style=\"fill:#000000; fill-opacity:1; font-family:Arial,Helvetica Neue,Helvetica,sans-serif; font-size:12; text-anchor:middle;\" transform=\"rotate(0, 472.771, 373.865)\" x=\"472.771\" y=\"373.865\">80</text>\n",
       "</g>\n",
       "<g clip-path=\"url(#clip5400)\">\n",
       "<text style=\"fill:#000000; fill-opacity:1; font-family:Arial,Helvetica Neue,Helvetica,sans-serif; font-size:12; text-anchor:middle;\" transform=\"rotate(0, 580.315, 373.865)\" x=\"580.315\" y=\"373.865\">100</text>\n",
       "</g>\n",
       "<g clip-path=\"url(#clip5400)\">\n",
       "<text style=\"fill:#000000; fill-opacity:1; font-family:Arial,Helvetica Neue,Helvetica,sans-serif; font-size:12; text-anchor:end;\" transform=\"rotate(0, 41.9701, 310.151)\" x=\"41.9701\" y=\"310.151\">0.5</text>\n",
       "</g>\n",
       "<g clip-path=\"url(#clip5400)\">\n",
       "<text style=\"fill:#000000; fill-opacity:1; font-family:Arial,Helvetica Neue,Helvetica,sans-serif; font-size:12; text-anchor:end;\" transform=\"rotate(0, 41.9701, 255.736)\" x=\"41.9701\" y=\"255.736\">1.0</text>\n",
       "</g>\n",
       "<g clip-path=\"url(#clip5400)\">\n",
       "<text style=\"fill:#000000; fill-opacity:1; font-family:Arial,Helvetica Neue,Helvetica,sans-serif; font-size:12; text-anchor:end;\" transform=\"rotate(0, 41.9701, 201.321)\" x=\"41.9701\" y=\"201.321\">1.5</text>\n",
       "</g>\n",
       "<g clip-path=\"url(#clip5400)\">\n",
       "<text style=\"fill:#000000; fill-opacity:1; font-family:Arial,Helvetica Neue,Helvetica,sans-serif; font-size:12; text-anchor:end;\" transform=\"rotate(0, 41.9701, 146.906)\" x=\"41.9701\" y=\"146.906\">2.0</text>\n",
       "</g>\n",
       "<g clip-path=\"url(#clip5400)\">\n",
       "<text style=\"fill:#000000; fill-opacity:1; font-family:Arial,Helvetica Neue,Helvetica,sans-serif; font-size:12; text-anchor:end;\" transform=\"rotate(0, 41.9701, 92.4917)\" x=\"41.9701\" y=\"92.4917\">2.5</text>\n",
       "</g>\n",
       "<g clip-path=\"url(#clip5400)\">\n",
       "<text style=\"fill:#000000; fill-opacity:1; font-family:Arial,Helvetica Neue,Helvetica,sans-serif; font-size:12; text-anchor:end;\" transform=\"rotate(0, 41.9701, 38.0769)\" x=\"41.9701\" y=\"38.0769\">3.0</text>\n",
       "</g>\n",
       "<g clip-path=\"url(#clip5400)\">\n",
       "<text style=\"fill:#000000; fill-opacity:1; font-family:Arial,Helvetica Neue,Helvetica,sans-serif; font-size:16; text-anchor:middle;\" transform=\"rotate(0, 314.143, 397.6)\" x=\"314.143\" y=\"397.6\">steps</text>\n",
       "</g>\n",
       "<g clip-path=\"url(#clip5400)\">\n",
       "<text style=\"fill:#000000; fill-opacity:1; font-family:Arial,Helvetica Neue,Helvetica,sans-serif; font-size:16; text-anchor:middle;\" transform=\"rotate(-90, 14.4, 185.938)\" x=\"14.4\" y=\"185.938\">x</text>\n",
       "</g>\n",
       "<polyline clip-path=\"url(#clip5402)\" style=\"stroke:#009af9; stroke-width:1; stroke-opacity:1; fill:none\" points=\"\n",
       "  47.9701,11.811 53.3474,81.4619 58.7246,137.183 64.1018,181.759 69.479,217.42 74.8562,245.949 80.2335,268.773 85.6107,287.031 90.9879,301.638 96.3651,313.324 \n",
       "  101.742,322.672 107.12,330.151 112.497,336.134 117.874,340.92 123.251,344.749 128.628,347.812 134.006,350.263 139.383,352.223 144.76,353.792 150.137,355.047 \n",
       "  155.515,356.05 160.892,356.853 166.269,357.496 171.646,358.01 177.023,358.421 182.401,358.75 187.778,359.013 193.155,359.223 198.532,359.392 203.91,359.527 \n",
       "  209.287,359.634 214.664,359.721 220.041,359.79 225.418,359.845 230.796,359.889 236.173,359.924 241.55,359.952 246.927,359.975 252.305,359.993 257.682,360.008 \n",
       "  263.059,360.019 268.436,360.028 273.813,360.036 279.191,360.042 284.568,360.046 289.945,360.05 295.322,360.053 300.699,360.056 306.077,360.058 311.454,360.059 \n",
       "  316.831,360.06 322.208,360.061 327.586,360.062 332.963,360.063 338.34,360.063 343.717,360.064 349.094,360.064 354.472,360.064 359.849,360.065 365.226,360.065 \n",
       "  370.603,360.065 375.981,360.065 381.358,360.065 386.735,360.065 392.112,360.065 397.489,360.065 402.867,360.065 408.244,360.065 413.621,360.065 418.998,360.065 \n",
       "  424.376,360.065 429.753,360.065 435.13,360.065 440.507,360.065 445.884,360.065 451.262,360.065 456.639,360.065 462.016,360.065 467.393,360.065 472.771,360.065 \n",
       "  478.148,360.065 483.525,360.065 488.902,360.065 494.279,360.065 499.657,360.065 505.034,360.065 510.411,360.065 515.788,360.065 521.166,360.065 526.543,360.065 \n",
       "  531.92,360.065 537.297,360.065 542.674,360.065 548.052,360.065 553.429,360.065 558.806,360.065 564.183,360.065 569.561,360.065 574.938,360.065 580.315,360.065 \n",
       "  \n",
       "  \"/>\n",
       "<polygon clip-path=\"url(#clip5400)\" points=\"\n",
       "489.799,62.931 562.315,62.931 562.315,32.691 489.799,32.691 \n",
       "  \" fill=\"#ffffff\" fill-opacity=\"1\"/>\n",
       "<polyline clip-path=\"url(#clip5400)\" style=\"stroke:#000000; stroke-width:1; stroke-opacity:1; fill:none\" points=\"\n",
       "  489.799,62.931 562.315,62.931 562.315,32.691 489.799,32.691 489.799,62.931 \n",
       "  \"/>\n",
       "<polyline clip-path=\"url(#clip5400)\" style=\"stroke:#009af9; stroke-width:1; stroke-opacity:1; fill:none\" points=\"\n",
       "  495.799,47.811 531.799,47.811 \n",
       "  \"/>\n",
       "<g clip-path=\"url(#clip5400)\">\n",
       "<text style=\"fill:#000000; fill-opacity:1; font-family:Arial,Helvetica Neue,Helvetica,sans-serif; font-size:12; text-anchor:start;\" transform=\"rotate(0, 537.799, 52.311)\" x=\"537.799\" y=\"52.311\">y1</text>\n",
       "</g>\n",
       "</svg>\n"
      ]
     },
     "execution_count": 25,
     "metadata": {},
     "output_type": "execute_result"
    }
   ],
   "source": [
    "using Plots\n",
    "xs=Float64[]\n",
    "lr=0.05\n",
    "x=4\n",
    "for i=1:100\n",
    "    x-=lr *g(x)\n",
    "    push!(xs,x)\n",
    "end\n",
    "plot([1:100;],xs); ylabel!(\"x\");xlabel!(\"steps\")\n",
    "\n"
   ]
  },
  {
   "cell_type": "markdown",
   "metadata": {
    "slideshow": {
     "slide_type": "subslide"
    }
   },
   "source": [
    "# (Stochastic) Gradient Descent\n",
    "In order to minimize $f$ we consider the recursion:\n",
    "$$ x_{n+1}=x_{n}-\\epsilon \\widehat{\\nabla f}_n(x_n)$$\n",
    "where  $\\mathbb{E}\\widehat{\\nabla f}_n(x)=\\nabla f(x)$"
   ]
  },
  {
   "cell_type": "code",
   "execution_count": 27,
   "metadata": {
    "slideshow": {
     "slide_type": "-"
    }
   },
   "outputs": [
    {
     "data": {
      "text/html": [
       "<?xml version=\"1.0\" encoding=\"utf-8\"?>\n",
       "<svg xmlns=\"http://www.w3.org/2000/svg\" xmlns:xlink=\"http://www.w3.org/1999/xlink\" width=\"600\" height=\"400\" viewBox=\"0 0 600 400\">\n",
       "<defs>\n",
       "  <clipPath id=\"clip5800\">\n",
       "    <rect x=\"0\" y=\"0\" width=\"600\" height=\"400\"/>\n",
       "  </clipPath>\n",
       "</defs>\n",
       "<polygon clip-path=\"url(#clip5800)\" points=\"\n",
       "0,400 600,400 600,0 0,0 \n",
       "  \" fill=\"#ffffff\" fill-opacity=\"1\"/>\n",
       "<defs>\n",
       "  <clipPath id=\"clip5801\">\n",
       "    <rect x=\"120\" y=\"0\" width=\"421\" height=\"400\"/>\n",
       "  </clipPath>\n",
       "</defs>\n",
       "<polygon clip-path=\"url(#clip5800)\" points=\"\n",
       "38.0857,360.065 580.315,360.065 580.315,11.811 38.0857,11.811 \n",
       "  \" fill=\"#ffffff\" fill-opacity=\"1\"/>\n",
       "<defs>\n",
       "  <clipPath id=\"clip5802\">\n",
       "    <rect x=\"38\" y=\"11\" width=\"543\" height=\"349\"/>\n",
       "  </clipPath>\n",
       "</defs>\n",
       "<polyline clip-path=\"url(#clip5802)\" style=\"stroke:#000000; stroke-width:0.5; stroke-opacity:0.1; fill:none\" points=\"\n",
       "  142.15,360.065 142.15,11.811 \n",
       "  \"/>\n",
       "<polyline clip-path=\"url(#clip5802)\" style=\"stroke:#000000; stroke-width:0.5; stroke-opacity:0.1; fill:none\" points=\"\n",
       "  251.691,360.065 251.691,11.811 \n",
       "  \"/>\n",
       "<polyline clip-path=\"url(#clip5802)\" style=\"stroke:#000000; stroke-width:0.5; stroke-opacity:0.1; fill:none\" points=\"\n",
       "  361.232,360.065 361.232,11.811 \n",
       "  \"/>\n",
       "<polyline clip-path=\"url(#clip5802)\" style=\"stroke:#000000; stroke-width:0.5; stroke-opacity:0.1; fill:none\" points=\"\n",
       "  470.774,360.065 470.774,11.811 \n",
       "  \"/>\n",
       "<polyline clip-path=\"url(#clip5802)\" style=\"stroke:#000000; stroke-width:0.5; stroke-opacity:0.1; fill:none\" points=\"\n",
       "  580.315,360.065 580.315,11.811 \n",
       "  \"/>\n",
       "<polyline clip-path=\"url(#clip5802)\" style=\"stroke:#000000; stroke-width:0.5; stroke-opacity:0.1; fill:none\" points=\"\n",
       "  38.0857,344.869 580.315,344.869 \n",
       "  \"/>\n",
       "<polyline clip-path=\"url(#clip5802)\" style=\"stroke:#000000; stroke-width:0.5; stroke-opacity:0.1; fill:none\" points=\"\n",
       "  38.0857,240.01 580.315,240.01 \n",
       "  \"/>\n",
       "<polyline clip-path=\"url(#clip5802)\" style=\"stroke:#000000; stroke-width:0.5; stroke-opacity:0.1; fill:none\" points=\"\n",
       "  38.0857,135.15 580.315,135.15 \n",
       "  \"/>\n",
       "<polyline clip-path=\"url(#clip5802)\" style=\"stroke:#000000; stroke-width:0.5; stroke-opacity:0.1; fill:none\" points=\"\n",
       "  38.0857,30.2908 580.315,30.2908 \n",
       "  \"/>\n",
       "<polyline clip-path=\"url(#clip5800)\" style=\"stroke:#000000; stroke-width:1; stroke-opacity:1; fill:none\" points=\"\n",
       "  38.0857,360.065 580.315,360.065 \n",
       "  \"/>\n",
       "<polyline clip-path=\"url(#clip5800)\" style=\"stroke:#000000; stroke-width:1; stroke-opacity:1; fill:none\" points=\"\n",
       "  38.0857,360.065 38.0857,11.811 \n",
       "  \"/>\n",
       "<polyline clip-path=\"url(#clip5800)\" style=\"stroke:#000000; stroke-width:1; stroke-opacity:1; fill:none\" points=\"\n",
       "  142.15,360.065 142.15,354.842 \n",
       "  \"/>\n",
       "<polyline clip-path=\"url(#clip5800)\" style=\"stroke:#000000; stroke-width:1; stroke-opacity:1; fill:none\" points=\"\n",
       "  251.691,360.065 251.691,354.842 \n",
       "  \"/>\n",
       "<polyline clip-path=\"url(#clip5800)\" style=\"stroke:#000000; stroke-width:1; stroke-opacity:1; fill:none\" points=\"\n",
       "  361.232,360.065 361.232,354.842 \n",
       "  \"/>\n",
       "<polyline clip-path=\"url(#clip5800)\" style=\"stroke:#000000; stroke-width:1; stroke-opacity:1; fill:none\" points=\"\n",
       "  470.774,360.065 470.774,354.842 \n",
       "  \"/>\n",
       "<polyline clip-path=\"url(#clip5800)\" style=\"stroke:#000000; stroke-width:1; stroke-opacity:1; fill:none\" points=\"\n",
       "  580.315,360.065 580.315,354.842 \n",
       "  \"/>\n",
       "<polyline clip-path=\"url(#clip5800)\" style=\"stroke:#000000; stroke-width:1; stroke-opacity:1; fill:none\" points=\"\n",
       "  38.0857,344.869 46.2191,344.869 \n",
       "  \"/>\n",
       "<polyline clip-path=\"url(#clip5800)\" style=\"stroke:#000000; stroke-width:1; stroke-opacity:1; fill:none\" points=\"\n",
       "  38.0857,240.01 46.2191,240.01 \n",
       "  \"/>\n",
       "<polyline clip-path=\"url(#clip5800)\" style=\"stroke:#000000; stroke-width:1; stroke-opacity:1; fill:none\" points=\"\n",
       "  38.0857,135.15 46.2191,135.15 \n",
       "  \"/>\n",
       "<polyline clip-path=\"url(#clip5800)\" style=\"stroke:#000000; stroke-width:1; stroke-opacity:1; fill:none\" points=\"\n",
       "  38.0857,30.2908 46.2191,30.2908 \n",
       "  \"/>\n",
       "<g clip-path=\"url(#clip5800)\">\n",
       "<text style=\"fill:#000000; fill-opacity:1; font-family:Arial,Helvetica Neue,Helvetica,sans-serif; font-size:12; text-anchor:middle;\" transform=\"rotate(0, 142.15, 373.865)\" x=\"142.15\" y=\"373.865\">20</text>\n",
       "</g>\n",
       "<g clip-path=\"url(#clip5800)\">\n",
       "<text style=\"fill:#000000; fill-opacity:1; font-family:Arial,Helvetica Neue,Helvetica,sans-serif; font-size:12; text-anchor:middle;\" transform=\"rotate(0, 251.691, 373.865)\" x=\"251.691\" y=\"373.865\">40</text>\n",
       "</g>\n",
       "<g clip-path=\"url(#clip5800)\">\n",
       "<text style=\"fill:#000000; fill-opacity:1; font-family:Arial,Helvetica Neue,Helvetica,sans-serif; font-size:12; text-anchor:middle;\" transform=\"rotate(0, 361.232, 373.865)\" x=\"361.232\" y=\"373.865\">60</text>\n",
       "</g>\n",
       "<g clip-path=\"url(#clip5800)\">\n",
       "<text style=\"fill:#000000; fill-opacity:1; font-family:Arial,Helvetica Neue,Helvetica,sans-serif; font-size:12; text-anchor:middle;\" transform=\"rotate(0, 470.774, 373.865)\" x=\"470.774\" y=\"373.865\">80</text>\n",
       "</g>\n",
       "<g clip-path=\"url(#clip5800)\">\n",
       "<text style=\"fill:#000000; fill-opacity:1; font-family:Arial,Helvetica Neue,Helvetica,sans-serif; font-size:12; text-anchor:middle;\" transform=\"rotate(0, 580.315, 373.865)\" x=\"580.315\" y=\"373.865\">100</text>\n",
       "</g>\n",
       "<g clip-path=\"url(#clip5800)\">\n",
       "<text style=\"fill:#000000; fill-opacity:1; font-family:Arial,Helvetica Neue,Helvetica,sans-serif; font-size:12; text-anchor:end;\" transform=\"rotate(0, 32.0857, 349.369)\" x=\"32.0857\" y=\"349.369\">0</text>\n",
       "</g>\n",
       "<g clip-path=\"url(#clip5800)\">\n",
       "<text style=\"fill:#000000; fill-opacity:1; font-family:Arial,Helvetica Neue,Helvetica,sans-serif; font-size:12; text-anchor:end;\" transform=\"rotate(0, 32.0857, 244.51)\" x=\"32.0857\" y=\"244.51\">1</text>\n",
       "</g>\n",
       "<g clip-path=\"url(#clip5800)\">\n",
       "<text style=\"fill:#000000; fill-opacity:1; font-family:Arial,Helvetica Neue,Helvetica,sans-serif; font-size:12; text-anchor:end;\" transform=\"rotate(0, 32.0857, 139.65)\" x=\"32.0857\" y=\"139.65\">2</text>\n",
       "</g>\n",
       "<g clip-path=\"url(#clip5800)\">\n",
       "<text style=\"fill:#000000; fill-opacity:1; font-family:Arial,Helvetica Neue,Helvetica,sans-serif; font-size:12; text-anchor:end;\" transform=\"rotate(0, 32.0857, 34.7908)\" x=\"32.0857\" y=\"34.7908\">3</text>\n",
       "</g>\n",
       "<g clip-path=\"url(#clip5800)\">\n",
       "<text style=\"fill:#000000; fill-opacity:1; font-family:Arial,Helvetica Neue,Helvetica,sans-serif; font-size:16; text-anchor:middle;\" transform=\"rotate(0, 309.2, 397.6)\" x=\"309.2\" y=\"397.6\">steps</text>\n",
       "</g>\n",
       "<g clip-path=\"url(#clip5800)\">\n",
       "<text style=\"fill:#000000; fill-opacity:1; font-family:Arial,Helvetica Neue,Helvetica,sans-serif; font-size:16; text-anchor:middle;\" transform=\"rotate(-90, 14.4, 185.938)\" x=\"14.4\" y=\"185.938\">x</text>\n",
       "</g>\n",
       "<polyline clip-path=\"url(#clip5802)\" style=\"stroke:#009af9; stroke-width:1; stroke-opacity:1; fill:none\" points=\"\n",
       "  38.0857,11.811 43.5628,73.4604 49.0398,133.616 54.5169,179.863 59.9939,212.999 65.471,238.487 70.9481,260.05 76.4251,270.843 81.9022,290.604 87.3793,301.289 \n",
       "  92.8563,307.511 98.3334,307.428 103.81,313.642 109.288,322.788 114.765,332.093 120.242,333.534 125.719,346.36 131.196,341.187 136.673,331.651 142.15,331.946 \n",
       "  147.627,338.902 153.104,340.957 158.581,341.029 164.058,342.52 169.535,335.183 175.012,330.054 180.489,323.412 185.966,332.469 191.443,340.61 196.921,344.24 \n",
       "  202.398,340.08 207.875,339.397 213.352,343.616 218.829,347.053 224.306,344.601 229.783,339.623 235.26,347.077 240.737,339.546 246.214,337.255 251.691,343.036 \n",
       "  257.168,337.539 262.645,325.02 268.122,324.65 273.599,328.283 279.076,343.998 284.554,330.324 290.031,325.859 295.508,320.744 300.985,316.127 306.462,320.777 \n",
       "  311.939,325.642 317.416,336.978 322.893,340.244 328.37,337.154 333.847,337.1 339.324,347.097 344.801,343.548 350.278,333.347 355.755,333.64 361.232,329.792 \n",
       "  366.709,335.474 372.187,343.947 377.664,344.497 383.141,340.212 388.618,340.881 394.095,336.784 399.572,332.671 405.049,328.28 410.526,326.178 416.003,331.064 \n",
       "  421.48,335.294 426.957,328.868 432.434,326.911 437.911,324.19 443.388,336.441 448.865,337.904 454.343,339.048 459.82,335.769 465.297,330.876 470.774,331.376 \n",
       "  476.251,338.811 481.728,340.593 487.205,349.268 492.682,352.89 498.159,352.143 503.636,354.603 509.113,349.489 514.59,346.419 520.067,351.258 525.544,347.778 \n",
       "  531.021,339.816 536.498,341.435 541.976,342.047 547.453,331.078 552.93,342.398 558.407,346.855 563.884,354.922 569.361,358.486 574.838,360.065 580.315,352.006 \n",
       "  \n",
       "  \"/>\n",
       "<polygon clip-path=\"url(#clip5800)\" points=\"\n",
       "489.799,62.931 562.315,62.931 562.315,32.691 489.799,32.691 \n",
       "  \" fill=\"#ffffff\" fill-opacity=\"1\"/>\n",
       "<polyline clip-path=\"url(#clip5800)\" style=\"stroke:#000000; stroke-width:1; stroke-opacity:1; fill:none\" points=\"\n",
       "  489.799,62.931 562.315,62.931 562.315,32.691 489.799,32.691 489.799,62.931 \n",
       "  \"/>\n",
       "<polyline clip-path=\"url(#clip5800)\" style=\"stroke:#009af9; stroke-width:1; stroke-opacity:1; fill:none\" points=\"\n",
       "  495.799,47.811 531.799,47.811 \n",
       "  \"/>\n",
       "<g clip-path=\"url(#clip5800)\">\n",
       "<text style=\"fill:#000000; fill-opacity:1; font-family:Arial,Helvetica Neue,Helvetica,sans-serif; font-size:12; text-anchor:start;\" transform=\"rotate(0, 537.799, 52.311)\" x=\"537.799\" y=\"52.311\">y1</text>\n",
       "</g>\n",
       "</svg>\n"
      ]
     },
     "execution_count": 27,
     "metadata": {},
     "output_type": "execute_result"
    }
   ],
   "source": [
    "using Plots\n",
    "xs=Float64[]\n",
    "lr=0.05\n",
    "x=4.0\n",
    "for i=1:100\n",
    "    x-=lr *(g(x)+randn())\n",
    "    push!(xs,x)\n",
    "end\n",
    "plot([1:100;],xs)\n",
    "ylabel!(\"x\");xlabel!(\"steps\")"
   ]
  },
  {
   "cell_type": "code",
   "execution_count": null,
   "metadata": {},
   "outputs": [],
   "source": []
  },
  {
   "cell_type": "markdown",
   "metadata": {
    "slideshow": {
     "slide_type": "slide"
    }
   },
   "source": [
    "# Binary classification with logistic regression\n",
    "\n",
    "\n",
    "The simplest kind of classification problem is *binary classification*, when there are only two categories, so let's start there. Let's call our two categories the positive class $y_i=1$ and the negative class $y_i = 0$ (another common way of defining the labels are $y_i=\\pm1$). Even with just two categories, and even confining ourselves to linear models, \n",
    "there are many ways we might approach the problem. For example, we might try to draw a line that best separates the points:\n",
    "\n",
    "![](../img/linear-separator.png)"
   ]
  },
  {
   "cell_type": "markdown",
   "metadata": {
    "slideshow": {
     "slide_type": "subslide"
    }
   },
   "source": [
    "Recall that in linear regression, we made predictions of the form\n",
    "\n",
    "$$ \\hat{y} = \\boldsymbol{w}^T \\boldsymbol{x} + b, $$\n",
    "\n",
    "where $\\hat{y},b\\in\\mathbb{R}$ and $\\boldsymbol{w},\\boldsymbol{x}\\in\\mathbb{R}^d$. We are interested in asking the question *\"what is the probability that example $\\boldsymbol{x}$ belongs to the positive class?\"* A regular linear model is a poor choice here because it can output values greater than $1$ or less than $0$. To coerce reasonable answers from our model,  we're going to modify it slightly, by running the linear function through a sigmoid activation function $\\sigma$:\n",
    "\n",
    "$$ \\hat{y} =\\sigma(\\boldsymbol{w}^T \\boldsymbol{x} + b). $$\n",
    "\n",
    "The sigmoid function $\\sigma$, sometimes called a squashing function or a *logistic* function - t- maps a real-valued input to the range 0 to 1. If we pick the labels $y\\in(0,1)$ we may assign  \n",
    "\n",
    "\\begin{equation}\n",
    "\\begin{aligned}\n",
    "\\mathbb{P}(y=1|z) & =\\sigma(z)=\\frac{1}{1+e^{-z}}\\\\\n",
    "\\mathbb{P}(y=0|z) & =1-\\sigma(z)=\\frac{1}{1+e^{z}}\\\\\n",
    "\\end{aligned}\n",
    "\\end{equation}\n",
    "\n",
    "Compact form: $\\mathbb{P}(y|z)  =\\sigma(z)^y(1-\\sigma(z))^{1-y}$. Let us define and visualize this function:"
   ]
  },
  {
   "cell_type": "code",
   "execution_count": null,
   "metadata": {
    "slideshow": {
     "slide_type": "subslide"
    }
   },
   "outputs": [],
   "source": []
  },
  {
   "cell_type": "code",
   "execution_count": 5,
   "metadata": {
    "slideshow": {
     "slide_type": "-"
    }
   },
   "outputs": [
    {
     "data": {
      "text/html": [
       "<?xml version=\"1.0\" encoding=\"utf-8\"?>\n",
       "<svg xmlns=\"http://www.w3.org/2000/svg\" xmlns:xlink=\"http://www.w3.org/1999/xlink\" width=\"400\" height=\"200\" viewBox=\"0 0 400 200\">\n",
       "<defs>\n",
       "  <clipPath id=\"clip7500\">\n",
       "    <rect x=\"0\" y=\"0\" width=\"400\" height=\"200\"/>\n",
       "  </clipPath>\n",
       "</defs>\n",
       "<polygon clip-path=\"url(#clip7500)\" points=\"\n",
       "0,200 400,200 400,0 0,0 \n",
       "  \" fill=\"#ffffff\" fill-opacity=\"1\"/>\n",
       "<defs>\n",
       "  <clipPath id=\"clip7501\">\n",
       "    <rect x=\"80\" y=\"0\" width=\"281\" height=\"200\"/>\n",
       "  </clipPath>\n",
       "</defs>\n",
       "<polygon clip-path=\"url(#clip7500)\" points=\"\n",
       "47.9701,160.065 380.315,160.065 380.315,31.4961 47.9701,31.4961 \n",
       "  \" fill=\"#ffffff\" fill-opacity=\"1\"/>\n",
       "<defs>\n",
       "  <clipPath id=\"clip7502\">\n",
       "    <rect x=\"47\" y=\"31\" width=\"333\" height=\"130\"/>\n",
       "  </clipPath>\n",
       "</defs>\n",
       "<polyline clip-path=\"url(#clip7502)\" style=\"stroke:#000000; stroke-width:0.5; stroke-opacity:0.1; fill:none\" points=\"\n",
       "  47.9701,160.065 47.9701,31.4961 \n",
       "  \"/>\n",
       "<polyline clip-path=\"url(#clip7502)\" style=\"stroke:#000000; stroke-width:0.5; stroke-opacity:0.1; fill:none\" points=\"\n",
       "  131.056,160.065 131.056,31.4961 \n",
       "  \"/>\n",
       "<polyline clip-path=\"url(#clip7502)\" style=\"stroke:#000000; stroke-width:0.5; stroke-opacity:0.1; fill:none\" points=\"\n",
       "  214.143,160.065 214.143,31.4961 \n",
       "  \"/>\n",
       "<polyline clip-path=\"url(#clip7502)\" style=\"stroke:#000000; stroke-width:0.5; stroke-opacity:0.1; fill:none\" points=\"\n",
       "  297.229,160.065 297.229,31.4961 \n",
       "  \"/>\n",
       "<polyline clip-path=\"url(#clip7502)\" style=\"stroke:#000000; stroke-width:0.5; stroke-opacity:0.1; fill:none\" points=\"\n",
       "  380.315,160.065 380.315,31.4961 \n",
       "  \"/>\n",
       "<polyline clip-path=\"url(#clip7502)\" style=\"stroke:#000000; stroke-width:0.5; stroke-opacity:0.1; fill:none\" points=\"\n",
       "  47.9701,134.875 380.315,134.875 \n",
       "  \"/>\n",
       "<polyline clip-path=\"url(#clip7502)\" style=\"stroke:#000000; stroke-width:0.5; stroke-opacity:0.1; fill:none\" points=\"\n",
       "  47.9701,108.812 380.315,108.812 \n",
       "  \"/>\n",
       "<polyline clip-path=\"url(#clip7502)\" style=\"stroke:#000000; stroke-width:0.5; stroke-opacity:0.1; fill:none\" points=\"\n",
       "  47.9701,82.7494 380.315,82.7494 \n",
       "  \"/>\n",
       "<polyline clip-path=\"url(#clip7502)\" style=\"stroke:#000000; stroke-width:0.5; stroke-opacity:0.1; fill:none\" points=\"\n",
       "  47.9701,56.6866 380.315,56.6866 \n",
       "  \"/>\n",
       "<polyline clip-path=\"url(#clip7500)\" style=\"stroke:#000000; stroke-width:1; stroke-opacity:1; fill:none\" points=\"\n",
       "  47.9701,160.065 380.315,160.065 \n",
       "  \"/>\n",
       "<polyline clip-path=\"url(#clip7500)\" style=\"stroke:#000000; stroke-width:1; stroke-opacity:1; fill:none\" points=\"\n",
       "  47.9701,160.065 47.9701,31.4961 \n",
       "  \"/>\n",
       "<polyline clip-path=\"url(#clip7500)\" style=\"stroke:#000000; stroke-width:1; stroke-opacity:1; fill:none\" points=\"\n",
       "  47.9701,160.065 47.9701,158.137 \n",
       "  \"/>\n",
       "<polyline clip-path=\"url(#clip7500)\" style=\"stroke:#000000; stroke-width:1; stroke-opacity:1; fill:none\" points=\"\n",
       "  131.056,160.065 131.056,158.137 \n",
       "  \"/>\n",
       "<polyline clip-path=\"url(#clip7500)\" style=\"stroke:#000000; stroke-width:1; stroke-opacity:1; fill:none\" points=\"\n",
       "  214.143,160.065 214.143,158.137 \n",
       "  \"/>\n",
       "<polyline clip-path=\"url(#clip7500)\" style=\"stroke:#000000; stroke-width:1; stroke-opacity:1; fill:none\" points=\"\n",
       "  297.229,160.065 297.229,158.137 \n",
       "  \"/>\n",
       "<polyline clip-path=\"url(#clip7500)\" style=\"stroke:#000000; stroke-width:1; stroke-opacity:1; fill:none\" points=\"\n",
       "  380.315,160.065 380.315,158.137 \n",
       "  \"/>\n",
       "<polyline clip-path=\"url(#clip7500)\" style=\"stroke:#000000; stroke-width:1; stroke-opacity:1; fill:none\" points=\"\n",
       "  47.9701,134.875 52.9553,134.875 \n",
       "  \"/>\n",
       "<polyline clip-path=\"url(#clip7500)\" style=\"stroke:#000000; stroke-width:1; stroke-opacity:1; fill:none\" points=\"\n",
       "  47.9701,108.812 52.9553,108.812 \n",
       "  \"/>\n",
       "<polyline clip-path=\"url(#clip7500)\" style=\"stroke:#000000; stroke-width:1; stroke-opacity:1; fill:none\" points=\"\n",
       "  47.9701,82.7494 52.9553,82.7494 \n",
       "  \"/>\n",
       "<polyline clip-path=\"url(#clip7500)\" style=\"stroke:#000000; stroke-width:1; stroke-opacity:1; fill:none\" points=\"\n",
       "  47.9701,56.6866 52.9553,56.6866 \n",
       "  \"/>\n",
       "<g clip-path=\"url(#clip7500)\">\n",
       "<text style=\"fill:#000000; fill-opacity:1; font-family:Arial,Helvetica Neue,Helvetica,sans-serif; font-size:12; text-anchor:middle;\" transform=\"rotate(0, 47.9701, 172.865)\" x=\"47.9701\" y=\"172.865\">-5.0</text>\n",
       "</g>\n",
       "<g clip-path=\"url(#clip7500)\">\n",
       "<text style=\"fill:#000000; fill-opacity:1; font-family:Arial,Helvetica Neue,Helvetica,sans-serif; font-size:12; text-anchor:middle;\" transform=\"rotate(0, 131.056, 172.865)\" x=\"131.056\" y=\"172.865\">-2.5</text>\n",
       "</g>\n",
       "<g clip-path=\"url(#clip7500)\">\n",
       "<text style=\"fill:#000000; fill-opacity:1; font-family:Arial,Helvetica Neue,Helvetica,sans-serif; font-size:12; text-anchor:middle;\" transform=\"rotate(0, 214.143, 172.865)\" x=\"214.143\" y=\"172.865\">0.0</text>\n",
       "</g>\n",
       "<g clip-path=\"url(#clip7500)\">\n",
       "<text style=\"fill:#000000; fill-opacity:1; font-family:Arial,Helvetica Neue,Helvetica,sans-serif; font-size:12; text-anchor:middle;\" transform=\"rotate(0, 297.229, 172.865)\" x=\"297.229\" y=\"172.865\">2.5</text>\n",
       "</g>\n",
       "<g clip-path=\"url(#clip7500)\">\n",
       "<text style=\"fill:#000000; fill-opacity:1; font-family:Arial,Helvetica Neue,Helvetica,sans-serif; font-size:12; text-anchor:middle;\" transform=\"rotate(0, 380.315, 172.865)\" x=\"380.315\" y=\"172.865\">5.0</text>\n",
       "</g>\n",
       "<g clip-path=\"url(#clip7500)\">\n",
       "<text style=\"fill:#000000; fill-opacity:1; font-family:Arial,Helvetica Neue,Helvetica,sans-serif; font-size:12; text-anchor:end;\" transform=\"rotate(0, 43.9701, 139.375)\" x=\"43.9701\" y=\"139.375\">0.2</text>\n",
       "</g>\n",
       "<g clip-path=\"url(#clip7500)\">\n",
       "<text style=\"fill:#000000; fill-opacity:1; font-family:Arial,Helvetica Neue,Helvetica,sans-serif; font-size:12; text-anchor:end;\" transform=\"rotate(0, 43.9701, 113.312)\" x=\"43.9701\" y=\"113.312\">0.4</text>\n",
       "</g>\n",
       "<g clip-path=\"url(#clip7500)\">\n",
       "<text style=\"fill:#000000; fill-opacity:1; font-family:Arial,Helvetica Neue,Helvetica,sans-serif; font-size:12; text-anchor:end;\" transform=\"rotate(0, 43.9701, 87.2494)\" x=\"43.9701\" y=\"87.2494\">0.6</text>\n",
       "</g>\n",
       "<g clip-path=\"url(#clip7500)\">\n",
       "<text style=\"fill:#000000; fill-opacity:1; font-family:Arial,Helvetica Neue,Helvetica,sans-serif; font-size:12; text-anchor:end;\" transform=\"rotate(0, 43.9701, 61.1866)\" x=\"43.9701\" y=\"61.1866\">0.8</text>\n",
       "</g>\n",
       "<g clip-path=\"url(#clip7500)\">\n",
       "<text style=\"fill:#000000; fill-opacity:1; font-family:Arial,Helvetica Neue,Helvetica,sans-serif; font-size:21; text-anchor:middle;\" transform=\"rotate(0, 214.143, 18)\" x=\"214.143\" y=\"18\">Logistic Function</text>\n",
       "</g>\n",
       "<g clip-path=\"url(#clip7500)\">\n",
       "<text style=\"fill:#000000; fill-opacity:1; font-family:Arial,Helvetica Neue,Helvetica,sans-serif; font-size:16; text-anchor:middle;\" transform=\"rotate(0, 214.143, 197.6)\" x=\"214.143\" y=\"197.6\">z</text>\n",
       "</g>\n",
       "<g clip-path=\"url(#clip7500)\">\n",
       "<text style=\"fill:#000000; fill-opacity:1; font-family:Arial,Helvetica Neue,Helvetica,sans-serif; font-size:16; text-anchor:middle;\" transform=\"rotate(-90, 14.4, 95.7807)\" x=\"14.4\" y=\"95.7807\">sigmoid(z)</text>\n",
       "</g>\n",
       "<polyline clip-path=\"url(#clip7502)\" style=\"stroke:#009af9; stroke-width:1; stroke-opacity:1; fill:none\" points=\"\n",
       "  47.9701,160.065 51.2936,159.974 54.617,159.874 57.9405,159.763 61.2639,159.641 64.5874,159.506 67.9108,159.357 71.2343,159.193 74.5577,159.012 77.8812,158.813 \n",
       "  81.2046,158.594 84.5281,158.352 87.8515,158.086 91.175,157.794 94.4984,157.472 97.8219,157.118 101.145,156.729 104.469,156.302 107.792,155.834 111.116,155.32 \n",
       "  114.439,154.757 117.763,154.141 121.086,153.467 124.409,152.731 127.733,151.928 131.056,151.052 134.38,150.099 137.703,149.063 141.027,147.939 144.35,146.721 \n",
       "  147.674,145.404 150.997,143.983 154.32,142.452 157.644,140.809 160.967,139.047 164.291,137.165 167.614,135.159 170.938,133.029 174.261,130.773 177.585,128.393 \n",
       "  180.908,125.891 184.232,123.27 187.555,120.537 190.878,117.698 194.202,114.762 197.525,111.739 200.849,108.641 204.172,105.482 207.496,102.275 210.819,99.0359 \n",
       "  214.143,95.7807 217.466,92.5256 220.789,89.2867 224.113,86.0799 227.436,82.9204 230.76,79.8226 234.083,76.7997 237.407,73.8636 240.73,71.0245 244.054,68.2911 \n",
       "  247.377,65.6706 250.7,63.1684 254.024,60.7883 257.347,58.5325 260.671,56.402 263.994,54.3964 267.318,52.5142 270.641,50.7528 273.965,49.109 277.288,47.5788 \n",
       "  280.612,46.1577 283.935,44.8407 287.258,43.6227 290.582,42.4985 293.905,41.4624 297.229,40.5093 300.552,39.6336 303.876,38.8302 307.199,38.094 310.523,37.4202 \n",
       "  313.846,36.8041 317.169,36.2414 320.493,35.7277 323.816,35.2593 327.14,34.8324 330.463,34.4437 333.787,34.0898 337.11,33.768 340.434,33.4753 343.757,33.2094 \n",
       "  347.08,32.9677 350.404,32.7483 353.727,32.5492 357.051,32.3684 360.374,32.2044 363.698,32.0556 367.021,31.9207 370.345,31.7984 373.668,31.6876 376.992,31.5871 \n",
       "  380.315,31.4961 \n",
       "  \"/>\n",
       "</svg>\n"
      ]
     },
     "execution_count": 5,
     "metadata": {},
     "output_type": "execute_result"
    }
   ],
   "source": [
    "# Logistic function\n",
    "sigmoid(z) = 1 ./ (1 + exp.(-z))\n",
    "plot(-5:0.1:5, sigmoid(-5:0.1:5), xlabel=:z, ylabel=\"sigmoid(z)\", title=\"Logistic Function\", legend=false, size=(400,200))"
   ]
  },
  {
   "cell_type": "markdown",
   "metadata": {
    "slideshow": {
     "slide_type": "subslide"
    }
   },
   "source": [
    "## Fitting the model\n",
    "\n",
    "Maximum likelihood estimator\n",
    "$$\\max_{\\theta} \\mathbb{P}_{\\theta}\\big( y_1,\\dots,y_n \\big|\\,\\boldsymbol{x}_1,\\dots\\boldsymbol{x}_n \\big)=\\max_\\theta \\prod_i^n\\mathbb{P}_\\theta(y_i| \\boldsymbol{x}_i)$$\n",
    "\n",
    "Because each example is independent of the others.\n",
    "\n",
    "\n",
    "$$\\max_\\theta \\log\\big(\\prod_i^n\\mathbb{P}(y_i|\\boldsymbol{x}_i)\\big)= \\sum_i^m\\log\\big(\\mathbb{P}(y_i|\\boldsymbol{x}_i)\\big)=\\log\\big(\\mathbb{P}(y_1|\\boldsymbol{x}_1)\\big)+\\cdots+\\log\\big(\\mathbb{P}(y_n|\\boldsymbol{x}_n)\\big)$$\n",
    "\n",
    "Because we typically express our objective as a *loss* we can just flip the sign, giving us the *negative log probability:*\n",
    "\n",
    "$$  \\min_\\theta \\Big(- \\sum_i^m\\log\\big(\\mathbb{P}(y_i|\\boldsymbol{x}_i)\\big)\\Big)$$\n",
    "\n",
    "We can write $\\mathbb{P}_\\theta(y_1|z_i)$ compactly as\n",
    "\n",
    "$$\\mathbb{P}_\\theta(y_i|z_i) =\\sigma(z_i)^{y_i}(1-\\sigma(z_i))^{1-y_i},$$\n",
    "\n",
    "$$\n",
    "\\log\\big(\\mathbb{P}_\\theta(y|z)\\big)=yz + \\log\\sigma(-z)\n",
    "$$\n"
   ]
  },
  {
   "cell_type": "markdown",
   "metadata": {
    "slideshow": {
     "slide_type": "subslide"
    }
   },
   "source": [
    "\n",
    "Note that this loss function is commonly called *log loss* and also commonly referred to as *binary cross entropy*. It is a special case of negative log [likelihood](https://en.wikipedia.org/wiki/Likelihood_function). And it is a special case of [cross-entropy](https://en.wikipedia.org/wiki/Cross_entropy), which can apply to the multi-class ($>2$) setting. \n",
    "\n",
    "**If instead we were to use the labels $y_i=\\pm1$, the loss function has to modified to $\\log(1+e^{-z})$. This usually leads to a lot of confussion as to why there exists two versions of logistic regression. See [here](https://stats.stackexchange.com/questions/250937/which-loss-function-is-correct-for-logistic-regression/279698#279698) for more information on the topic**"
   ]
  },
  {
   "cell_type": "markdown",
   "metadata": {
    "slideshow": {
     "slide_type": "subslide"
    }
   },
   "source": [
    "## The Adult Dataset"
   ]
  },
  {
   "cell_type": "markdown",
   "metadata": {},
   "source": [
    "We'll use the Adult dataset taken from the [UCI repository](http://archive.ics.uci.edu/ml/datasets.html). \n",
    "\n",
    " * the dataset contained $14$ features, including age, education, occupation, sex, native-country, among others. In this version, hosted by [National Taiwan University](https://www.csie.ntu.edu.tw/~cjlin/libsvmtools/datasets/binary.html),\n",
    " * The label is a binary indicator indicating whether the person corresponding to each row made more ($y_i = 1$) or less ($y_i = 0$) than $50,000 of income in 1994. \n",
    " * The dataset we're working with contains 30,956 training examples and 1,605 examples set aside for testing. We can download and read the datasets into main memory like so:"
   ]
  },
  {
   "cell_type": "code",
   "execution_count": 3,
   "metadata": {
    "slideshow": {
     "slide_type": "subslide"
    }
   },
   "outputs": [
    {
     "name": "stderr",
     "output_type": "stream",
     "text": [
      "WARNING: Compat.UTF8String is deprecated, use String instead.\n",
      "  likely near In[3]:7\n",
      "WARNING: Compat.UTF8String is deprecated, use String instead.\n",
      "  likely near In[3]:7\n",
      "WARNING: Compat.UTF8String is deprecated, use String instead.\n",
      "  likely near In[3]:7\n",
      "WARNING: Compat.UTF8String is deprecated, use String instead.\n",
      "  likely near In[3]:7\n",
      "WARNING: Compat.UTF8String is deprecated, use String instead.\n",
      "  likely near In[3]:7\n",
      "WARNING: Compat.UTF8String is deprecated, use String instead.\n",
      "  likely near In[3]:7\n",
      "WARNING: Compat.UTF8String is deprecated, use String instead.\n",
      "  likely near In[3]:7\n",
      "WARNING: Compat.UTF8String is deprecated, use String instead.\n",
      "  likely near In[3]:7\n",
      "WARNING: Compat.UTF8String is deprecated, use String instead.\n",
      "  likely near In[3]:7\n",
      "WARNING: Compat.UTF8String is deprecated, use String instead.\n",
      "  likely near In[3]:7\n",
      "WARNING: Compat.UTF8String is deprecated, use String instead.\n",
      "  likely near In[3]:7\n",
      "WARNING: Compat.UTF8String is deprecated, use String instead.\n",
      "  likely near In[3]:7\n",
      "WARNING: Compat.UTF8String is deprecated, use String instead.\n",
      "  likely near In[3]:7\n",
      "WARNING: Compat.UTF8String is deprecated, use String instead.\n",
      "  likely near In[3]:7\n",
      "WARNING: Compat.UTF8String is deprecated, use String instead.\n",
      "  likely near In[3]:7\n",
      "WARNING: Compat.UTF8String is deprecated, use String instead.\n",
      "  likely near In[3]:7\n",
      "WARNING: Compat.UTF8String is deprecated, use String instead.\n",
      "  likely near In[3]:7\n",
      "WARNING: Compat.UTF8String is deprecated, use String instead.\n",
      "  likely near In[3]:7\n",
      "WARNING: Compat.UTF8String is deprecated, use String instead.\n",
      "  likely near In[3]:7\n",
      "in #readtable#82 at /home/jrun/.julia/v0.6/DataFrames/src/dataframe/io.jl\n",
      "WARNING: Compat.UTF8String is deprecated, use String instead.\n",
      "  likely near In[3]:7\n",
      "in #readtable#82 at /home/jrun/.julia/v0.6/DataFrames/src/dataframe/io.jl\n",
      "WARNING: Compat.UTF8String is deprecated, use String instead.\n",
      "  likely near In[3]:7\n",
      "WARNING: Compat.UTF8String is deprecated, use String instead.\n",
      "  likely near In[3]:7\n",
      "WARNING: Compat.UTF8String is deprecated, use String instead.\n",
      "  likely near In[3]:7\n",
      "WARNING: Compat.UTF8String is deprecated, use String instead.\n",
      "  likely near In[3]:7\n",
      "WARNING: Compat.UTF8String is deprecated, use String instead.\n",
      "  likely near In[3]:7\n",
      "WARNING: Compat.UTF8String is deprecated, use String instead.\n",
      "  likely near In[3]:7\n",
      "WARNING: Compat.UTF8String is deprecated, use String instead.\n",
      "  likely near In[3]:7\n",
      "in builddf at /home/jrun/.julia/v0.6/DataFrames/src/dataframe/io.jl\n"
     ]
    },
    {
     "data": {
      "text/plain": [
       "\"Training size = 30296    Testing size = 1605\""
      ]
     },
     "execution_count": 3,
     "metadata": {},
     "output_type": "execute_result"
    }
   ],
   "source": [
    "url_train = \"https://www.csie.ntu.edu.tw/~cjlin/libsvmtools/datasets/binary/a2a.t\"\n",
    "url_test  = \"https://www.csie.ntu.edu.tw/~cjlin/libsvmtools/datasets/binary/a1a\"\n",
    "\n",
    "if !isfile(\"../datasets/adult.train\")\n",
    "    rawdata_train = readtable(download(url_train, \"../datasets/adult.train\"), header=false);\n",
    "else\n",
    "    rawdata_train = readtable(\"../datasets/adult.train\", header=false);\n",
    "end\n",
    "\n",
    "if !isfile(\"../datasets/adult.test\")\n",
    "    rawdata_test  = readtable(download(url_test, \"../datasets/adult.test\"), header=false);\n",
    "else\n",
    "    rawdata_test  = readtable(\"../datasets/adult.test\", header=false);    \n",
    "end\n",
    "\n",
    "@suppress @sprintf \"Training size = %d    Testing size = %d\" size(rawdata_train, 1) size(rawdata_test, 1)"
   ]
  },
  {
   "cell_type": "markdown",
   "metadata": {
    "slideshow": {
     "slide_type": "subslide"
    }
   },
   "source": [
    "The data consists of lines like the following:\n",
    "\n",
    "-1 4:1 6:1 15:1 21:1 35:1 40:1 57:1 63:1 67:1 73:1 74:1 77:1 80:1 83:1\n",
    "\n",
    "The first entry in each row is the value of the label. The following tokens are the indices of the non-zero features. The number $1$ here is redundant. But we don't always have control over where our data comes from, so we might as well get used to mucking around with weird file formats. Let's write a simple script to process our dataset."
   ]
  },
  {
   "cell_type": "code",
   "execution_count": 5,
   "metadata": {},
   "outputs": [
    {
     "data": {
      "text/plain": [
       "processdata (generic function with 1 method)"
      ]
     },
     "execution_count": 5,
     "metadata": {},
     "output_type": "execute_result"
    }
   ],
   "source": [
    "function nonzeroindex(sample)\n",
    "\n",
    "    s      = split(sample, \":1 \") \n",
    "    val    = parse(Int64, split(sample)[1])\n",
    "    s[1]   = split(s[1])[2]\n",
    "    s[end] = split(s[end], \":\")[1]\n",
    "    \n",
    "    output = zeros(Float32, 1, 124)\n",
    "    output[parse.(Int64, s)] = 1\n",
    "    output[end] = val\n",
    "    return output\n",
    "end\n",
    "\n",
    "function processdata(rawdata; atype=Array{Float32})\n",
    "    data = map(atype, [vcat(nonzeroindex.(rawdata[1])...)'])[1];\n",
    "    # change label from {-1,1} to {0,1}\n",
    "    x, y = map(atype, [data[1:end-1, :], (data[end:end, :] + 1) / 2])\n",
    "    return x, y\n",
    "end"
   ]
  },
  {
   "cell_type": "code",
   "execution_count": 6,
   "metadata": {
    "slideshow": {
     "slide_type": "slide"
    }
   },
   "outputs": [],
   "source": [
    "atype=Array{Float32}; \n",
    "xtrn, ytrn  = processdata(rawdata_train, atype=atype);\n",
    "xtst, ytst  = processdata(rawdata_test, atype=atype);"
   ]
  },
  {
   "cell_type": "markdown",
   "metadata": {},
   "source": [
    "We can also check the fraction of positive examples in our training and test sets. This will give us one nice (necessay but insufficient) sanity check that our training and test data really are drawn from the same distribution."
   ]
  },
  {
   "cell_type": "code",
   "execution_count": 7,
   "metadata": {},
   "outputs": [
    {
     "data": {
      "text/plain": [
       "(0.23993267f0, 0.24610592f0)"
      ]
     },
     "execution_count": 7,
     "metadata": {},
     "output_type": "execute_result"
    }
   ],
   "source": [
    "sum(ytrn) / length(ytrn), sum(ytst) / length(ytst)"
   ]
  },
  {
   "cell_type": "markdown",
   "metadata": {
    "slideshow": {
     "slide_type": "subslide"
    }
   },
   "source": [
    "Knet's mini batch function sets up the stochastic gradient \n",
    "$$\\nabla \\sum_i^m\\log\\big(\\mathbb{P}(y_i|\\boldsymbol{x}_i)\\big) \\approx \\frac{m}{s} \\sum_i^s \\nabla \\log\\big(\\mathbb{P}(y_{\\tau_s}|\\boldsymbol{x}_{\\tau_s})\\big)$$\n"
   ]
  },
  {
   "cell_type": "markdown",
   "metadata": {},
   "source": [
    "here $\\{\\tau_1,\\dots,\\tau_s\\}$ is a random subset of  $\\{1,\\dots,m\\}$. $s$ is called the batch sizes and stochastic gradients are implemented through Knets *minibatch* function."
   ]
  },
  {
   "cell_type": "code",
   "execution_count": 8,
   "metadata": {},
   "outputs": [],
   "source": [
    "dtrn = Knet.minibatch(xtrn, ytrn, 64, shuffle=true);"
   ]
  },
  {
   "cell_type": "markdown",
   "metadata": {},
   "source": [
    "## Minimizing the loss\n",
    "*w* here are the weights which are choosen to minimise the cross entropy loss. This achieved by writing the loss and taking the gradient with respect the first variable."
   ]
  },
  {
   "cell_type": "code",
   "execution_count": 9,
   "metadata": {},
   "outputs": [
    {
     "data": {
      "text/plain": [
       "(::gradfun) (generic function with 1 method)"
      ]
     },
     "execution_count": 9,
     "metadata": {},
     "output_type": "execute_result"
    }
   ],
   "source": [
    "pred(w, x) = w[1] * x .+ w[2];\n",
    "\n",
    "function loss(w, x, y)\n",
    "    yhat = sigm.(pred(w, x))\n",
    "    return -sum(y .* log.(yhat) + (1-y) .* log.(1-yhat))\n",
    "end\n",
    "lossgradient  = grad(loss)\n"
   ]
  },
  {
   "cell_type": "markdown",
   "metadata": {
    "slideshow": {
     "slide_type": "subslide"
    }
   },
   "source": [
    "The training loop consists of an \n",
    "  * outerloop counting the epochs (effective iterations through the data set).\n",
    "  * an inner loop that das gradient descent based on the stochastic gradient of the loss function"
   ]
  },
  {
   "cell_type": "code",
   "execution_count": 10,
   "metadata": {
    "slideshow": {
     "slide_type": "-"
    }
   },
   "outputs": [
    {
     "data": {
      "text/plain": [
       "train (generic function with 1 method)"
      ]
     },
     "execution_count": 10,
     "metadata": {},
     "output_type": "execute_result"
    }
   ],
   "source": [
    "function train(w, dtrn; lr=1e-6, epochs=5)\n",
    "    tloss = []\n",
    "    for epoch = 1:epochs\n",
    "        eloss = 0\n",
    "        for (x,y) in dtrn\n",
    "            eloss += loss(w, x, y)\n",
    "            g = lossgradient(w, x, y)\n",
    "            for i = 1:length(w)\n",
    "                w[i] -= lr * g[i]\n",
    "            end\n",
    "        end\n",
    "        push!(tloss, eloss/length(dtrn))\n",
    "    end\n",
    "    \n",
    "    return w, tloss\n",
    "end"
   ]
  },
  {
   "cell_type": "markdown",
   "metadata": {
    "slideshow": {
     "slide_type": "subslide"
    }
   },
   "source": [
    "## Training output\n",
    "Before training"
   ]
  },
  {
   "cell_type": "code",
   "execution_count": 12,
   "metadata": {},
   "outputs": [
    {
     "data": {
      "text/plain": [
       "0.3003115264797508"
      ]
     },
     "execution_count": 12,
     "metadata": {},
     "output_type": "execute_result"
    }
   ],
   "source": [
    "w = map(atype, Any[randn(1, size(xtrn, 1)), zeros(Float32,1,1) ]);\n",
    "Accuracy(w, xtst, ytst)"
   ]
  },
  {
   "cell_type": "code",
   "execution_count": 13,
   "metadata": {},
   "outputs": [
    {
     "ename": "LoadError",
     "evalue": "\u001b[91mUndefVarError: dtrn not defined\u001b[39m",
     "output_type": "error",
     "traceback": [
      "\u001b[91mUndefVarError: dtrn not defined\u001b[39m",
      "",
      "Stacktrace:",
      " [1] \u001b[1minclude_string\u001b[22m\u001b[22m\u001b[1m(\u001b[22m\u001b[22m::String, ::String\u001b[1m)\u001b[22m\u001b[22m at \u001b[1m./loading.jl:522\u001b[22m\u001b[22m"
     ]
    }
   ],
   "source": [
    "w, Loss = train(w, dtrn; epochs=30, lr=1e-2);"
   ]
  },
  {
   "cell_type": "markdown",
   "metadata": {},
   "source": [
    "and after:"
   ]
  },
  {
   "cell_type": "code",
   "execution_count": 14,
   "metadata": {},
   "outputs": [
    {
     "data": {
      "text/plain": [
       "0.7264655400052812"
      ]
     },
     "execution_count": 14,
     "metadata": {},
     "output_type": "execute_result"
    }
   ],
   "source": [
    "@show Accuracy(w, xtrn, ytrn)\n",
    "@show Accuracy(w, xtst, ytst)@show "
   ]
  },
  {
   "cell_type": "markdown",
   "metadata": {
    "slideshow": {
     "slide_type": "subslide"
    }
   },
   "source": [
    "## Interpretation of the output"
   ]
  },
  {
   "cell_type": "markdown",
   "metadata": {
    "slideshow": {
     "slide_type": "-"
    }
   },
   "source": [
    " * A naive classifier would predict that nobody had an income greater than $50k (the majority class). achieve an accuracy of roughly 75\\%. \n",
    " * By contrast, our classifier gets an accuracy of .84 (results may vary a small amount on each run owing to random initializations and random sampling of the batches).\n"
   ]
  },
  {
   "cell_type": "code",
   "execution_count": null,
   "metadata": {
    "collapsed": true
   },
   "outputs": [],
   "source": []
  },
  {
   "cell_type": "markdown",
   "metadata": {
    "slideshow": {
     "slide_type": "slide"
    }
   },
   "source": [
    "# Multiclass Logistic Regression \n",
    "\n",
    "\n",
    "* Binary classification is quite useful. (spam vs. not spam or cancer vs not cancer)\n",
    "* $k$ classes  (different handwritten digits).  What can we do?\n",
    " 1. use binary classifier in clever way \n",
    "   * train $K$ different binary classifiers $f_k(\\boldsymbol{x})$ use the one with highest probability\n",
    "   * repeated one vs the rest \n",
    " 2. generate an output that is  a discrete probability distribution over the $K$ classes. \n",
    " \n",
    "This *softmax* function achieves this by \n",
    "\n",
    "$$\\mbox{softmax}(\\boldsymbol{z}) = \\frac{e^{\\boldsymbol{z}} }{\\sum_{k=1}^K e^{z_i}},$$"
   ]
  },
  {
   "cell_type": "markdown",
   "metadata": {
    "collapsed": true,
    "slideshow": {
     "slide_type": "subslide"
    }
   },
   "source": [
    "Because now we have $K$ outputs - we can represent this graphically.\n",
    "![](../img/simple-softmax-net.png)\n",
    "\n",
    " mapping from inputs to outputs via a matrix-vector product $W \\boldsymbol{x} + \\boldsymbol{b}$:\n",
    "\n",
    "$$\\hat{y} = \\mbox{softmax}(W\\boldsymbol{x} + \\boldsymbol{b})$$\n",
    "\n",
    "This model is sometimes called *multiclass logistic regression*, *softmax regression* and *multinomial regression*.\n"
   ]
  },
  {
   "cell_type": "markdown",
   "metadata": {
    "slideshow": {
     "slide_type": "subslide"
    }
   },
   "source": [
    "## The MNIST dataset\n",
    "\n",
    "In this example we build a simple classification model for the [MNIST](http://yann.lecun.com/exdb/mnist/) handwritten digit recognition dataset. MNIST has 60000 training and 10000 test examples. Each input x consists of 784 pixels representing a 28x28 image. The corresponding output indicates the identity of the digit 0..9.\n",
    "\n",
    "![png](https://jamesmccaffrey.files.wordpress.com/2014/06/firsteightimages.jpg) "
   ]
  },
  {
   "cell_type": "markdown",
   "metadata": {
    "slideshow": {
     "slide_type": "subslide"
    }
   },
   "source": [
    "To start, we'll use Knet's utilities for grabbing a copy of this dataset:"
   ]
  },
  {
   "cell_type": "code",
   "execution_count": 5,
   "metadata": {},
   "outputs": [
    {
     "name": "stderr",
     "output_type": "stream",
     "text": [
      "\u001b[1m\u001b[36mINFO: \u001b[39m\u001b[22m\u001b[36mLoading MNIST...\n",
      "\u001b[39m  % Total    % Received % Xferd  Average Speed   Time    Time     Time  Current\n",
      "                                 Dload  Upload   Total   Spent    Left  Speed\n",
      "100 9680k  100 9680k    0     0  14.0M      0 --:--:-- --:--:-- --:--:-- 14.0M\n",
      "  % Total    % Received % Xferd  Average Speed   Time    Time     Time  Current\n",
      "                                 Dload  Upload   Total   Spent    Left  Speed\n",
      "100 1610k  100 1610k    0     0  4769k      0 --:--:-- --:--:-- --:--:-- 4763k\n",
      "  % Total    % Received % Xferd  Average Speed   Time    Time     Time  Current\n",
      "                                 Dload  Upload   Total   Spent    Left  Speed\n",
      "100 28881  100 28881    0     0   388k      0 --:--:-- --:--:-- --:--:--  391k\n",
      "  % Total    % Received % Xferd  Average Speed   Time    Time     Time  Current\n",
      "                                 Dload  Upload   Total   Spent    Left  Speed\n",
      "100  4542  100  4542    0     0  57939      0 --:--:-- --:--:-- --:--:-- 58230\n"
     ]
    },
    {
     "data": {
      "text/plain": [
       "(Float32[0.0 0.0 … 0.0 0.0; 0.0 0.0 … 0.0 0.0; … ; 0.0 0.0 … 0.0 0.0; 0.0 0.0 … 0.0 0.0]\n",
       "\n",
       "Float32[0.0 0.0 … 0.0 0.0; 0.0 0.0 … 0.0 0.0; … ; 0.0 0.0 … 0.0 0.0; 0.0 0.0 … 0.0 0.0]\n",
       "\n",
       "Float32[0.0 0.0 … 0.0 0.0; 0.0 0.0 … 0.0 0.0; … ; 0.0 0.0 … 0.0 0.0; 0.0 0.0 … 0.0 0.0]\n",
       "\n",
       "...\n",
       "\n",
       "Float32[0.0 0.0 … 0.0 0.0; 0.0 0.0 … 0.0 0.0; … ; 0.0 0.0 … 0.0 0.0; 0.0 0.0 … 0.0 0.0]\n",
       "\n",
       "Float32[0.0 0.0 … 0.0 0.0; 0.0 0.0 … 0.0 0.0; … ; 0.0 0.0 … 0.0 0.0; 0.0 0.0 … 0.0 0.0]\n",
       "\n",
       "Float32[0.0 0.0 … 0.0 0.0; 0.0 0.0 … 0.0 0.0; … ; 0.0 0.0 … 0.0 0.0; 0.0 0.0 … 0.0 0.0], UInt8[0x05, 0x0a, 0x04, 0x01, 0x09, 0x02, 0x01, 0x03, 0x01, 0x04  …  0x09, 0x02, 0x09, 0x05, 0x01, 0x08, 0x03, 0x05, 0x06, 0x08], Float32[0.0 0.0 … 0.0 0.0; 0.0 0.0 … 0.0 0.0; … ; 0.0 0.0 … 0.0 0.0; 0.0 0.0 … 0.0 0.0]\n",
       "\n",
       "Float32[0.0 0.0 … 0.0 0.0; 0.0 0.0 … 0.0 0.0; … ; 0.0 0.0 … 0.0 0.0; 0.0 0.0 … 0.0 0.0]\n",
       "\n",
       "Float32[0.0 0.0 … 0.0 0.0; 0.0 0.0 … 0.0 0.0; … ; 0.0 0.0 … 0.0 0.0; 0.0 0.0 … 0.0 0.0]\n",
       "\n",
       "...\n",
       "\n",
       "Float32[0.0 0.0 … 0.0 0.0; 0.0 0.0 … 0.0 0.0; … ; 0.0 0.0 … 0.0 0.0; 0.0 0.0 … 0.0 0.0]\n",
       "\n",
       "Float32[0.0 0.0 … 0.0 0.0; 0.0 0.0 … 0.0 0.0; … ; 0.0 0.0 … 0.0 0.0; 0.0 0.0 … 0.0 0.0]\n",
       "\n",
       "Float32[0.0 0.0 … 0.0 0.0; 0.0 0.0 … 0.0 0.0; … ; 0.0 0.0 … 0.0 0.0; 0.0 0.0 … 0.0 0.0], UInt8[0x07, 0x02, 0x01, 0x0a, 0x04, 0x01, 0x04, 0x09, 0x05, 0x09  …  0x07, 0x08, 0x09, 0x0a, 0x01, 0x02, 0x03, 0x04, 0x05, 0x06])"
      ]
     },
     "execution_count": 5,
     "metadata": {},
     "output_type": "execute_result"
    }
   ],
   "source": [
    "\n",
    "for p in (\"GZip\",)\n",
    "    Pkg.installed(p) == nothing && Pkg.add(p)\n",
    "end\n",
    "\n",
    "using GZip\n",
    "\n",
    "\"Where to download mnist from\"\n",
    "mnisturl = \"http://yann.lecun.com/exdb/mnist\"\n",
    "\n",
    "\"Where to download mnist to\"\n",
    "mnistdir = \"./\"\n",
    "\n",
    "\"\"\"\n",
    "This utility loads the [MNIST](http://yann.lecun.com/exdb/mnist)\n",
    "hand-written digits dataset.  There are 60000 training and 10000 test\n",
    "examples. Each input x consists of 784 pixels representing a 28x28\n",
    "grayscale image.  The pixel values are converted to Float32 and\n",
    "normalized to [0,1].  Each output y is a UInt8 indicating the correct\n",
    "class.  10 is used to represent the digit 0.\n",
    "```\n",
    "# Usage:\n",
    "include(Pkg.dir(\"Knet/data/mnist.jl\"))\n",
    "xtrn, ytrn, xtst, ytst = mnist()\n",
    "# xtrn: 28×28×1×60000 Array{Float32,4}\n",
    "# ytrn: 60000-element Array{UInt8,1}\n",
    "# xtst: 28×28×1×10000 Array{Float32,4}\n",
    "# ytst: 10000-element Array{UInt8,1}\n",
    "```\n",
    "\"\"\"\n",
    "function mnist()\n",
    "    global _mnist_xtrn,_mnist_ytrn,_mnist_xtst,_mnist_ytst\n",
    "    if !isdefined(:_mnist_xtrn)\n",
    "        info(\"Loading MNIST...\")\n",
    "        _mnist_xtrn = _mnist_xdata(\"train-images-idx3-ubyte.gz\")\n",
    "        _mnist_xtst = _mnist_xdata(\"t10k-images-idx3-ubyte.gz\")\n",
    "        _mnist_ytrn = _mnist_ydata(\"train-labels-idx1-ubyte.gz\")\n",
    "        _mnist_ytst = _mnist_ydata(\"t10k-labels-idx1-ubyte.gz\")\n",
    "    end\n",
    "    return _mnist_xtrn,_mnist_ytrn,_mnist_xtst,_mnist_ytst\n",
    "end\n",
    "\n",
    "\"Utility to view a MNIST image, requires the Images package\"\n",
    "mnistview(x,i)=colorview(Gray,permutedims(x[:,:,1,i],(2,1)))\n",
    "\n",
    "function _mnist_xdata(file)\n",
    "    a = _mnist_gzload(file)[17:end]\n",
    "    reshape(a ./ 255f0, (28,28,1,div(length(a),784)))\n",
    "end\n",
    "\n",
    "function _mnist_ydata(file)\n",
    "    a = _mnist_gzload(file)[9:end]\n",
    "    a[a.==0] = 10\n",
    "    # full(sparse(a,1:length(a),1f0,10,length(a)))\n",
    "    return a\n",
    "end\n",
    "\n",
    "function _mnist_gzload(file)\n",
    "    if !isdir(mnistdir)\n",
    "        mkpath(mnistdir)\n",
    "    end\n",
    "    path = joinpath(mnistdir,file)\n",
    "    if !isfile(path)\n",
    "        url = \"$mnisturl/$file\"\n",
    "        download(url, path)\n",
    "    end\n",
    "    f = gzopen(path)\n",
    "    a = read(f)\n",
    "    close(f)\n",
    "    return(a)\n",
    "end\n",
    "xtrn, ytrn, xtst, ytst = mnist()\n"
   ]
  },
  {
   "cell_type": "markdown",
   "metadata": {
    "slideshow": {
     "slide_type": "subslide"
    }
   },
   "source": [
    "There are two parts of the dataset for training and testing. Each part has N items and each item is a tuple of an image and a label:"
   ]
  },
  {
   "cell_type": "code",
   "execution_count": 7,
   "metadata": {},
   "outputs": [
    {
     "data": {
      "text/plain": [
       "((28, 28, 1, 60000), (60000,))"
      ]
     },
     "execution_count": 7,
     "metadata": {},
     "output_type": "execute_result"
    }
   ],
   "source": [
    "xtrn, ytrn, xtst, ytst = mnist()\n",
    "\n",
    "size(xtrn), size(ytrn)"
   ]
  },
  {
   "cell_type": "markdown",
   "metadata": {},
   "source": [
    "Note that each image has been formatted as a 3-tuple (height, width, channel). For color images, the channel would have 3 dimensions (red, green and blue). In this case we have a gray scale image with a single channel. Note that `ytrn` is a `Array{UInt8,1}` data type. Let us take a look at these labels:"
   ]
  },
  {
   "cell_type": "code",
   "execution_count": 8,
   "metadata": {},
   "outputs": [
    {
     "data": {
      "text/plain": [
       "(UInt8[0x05, 0x0a, 0x04, 0x01, 0x09, 0x02, 0x01, 0x03, 0x01, 0x04], [5, 10, 4, 1, 9, 2, 1, 3, 1, 4])"
      ]
     },
     "execution_count": 8,
     "metadata": {},
     "output_type": "execute_result"
    }
   ],
   "source": [
    "ytrn[1:10], 1ytrn[1:10]"
   ]
  },
  {
   "cell_type": "markdown",
   "metadata": {
    "slideshow": {
     "slide_type": "subslide"
    }
   },
   "source": [
    "Ok, let us now use Knet's minibatch function to prepare the date for training:"
   ]
  },
  {
   "cell_type": "code",
   "execution_count": 9,
   "metadata": {},
   "outputs": [],
   "source": [
    "dtrn = minibatch(xtrn, ytrn, 100; xtype=atype);\n",
    "dtst = minibatch(xtst, ytst, 100; xtype=atype);"
   ]
  },
  {
   "cell_type": "markdown",
   "metadata": {},
   "source": [
    "Note that the input images have been reshaped to 784x1"
   ]
  },
  {
   "cell_type": "code",
   "execution_count": 10,
   "metadata": {},
   "outputs": [
    {
     "data": {
      "text/plain": [
       "(Array{Float32,N} where N, Array{UInt8,1})"
      ]
     },
     "execution_count": 10,
     "metadata": {},
     "output_type": "execute_result"
    }
   ],
   "source": [
    "dtrn.xtype, dtrn.ytype"
   ]
  },
  {
   "cell_type": "markdown",
   "metadata": {
    "slideshow": {
     "slide_type": "slide"
    }
   },
   "source": [
    "## Model "
   ]
  },
  {
   "cell_type": "markdown",
   "metadata": {
    "slideshow": {
     "slide_type": "-"
    }
   },
   "source": [
    "### Multiclass logistic regression\n",
    "\n",
    "### Multiclass logistic regression\n",
    "\n",
    "Given $W$ and $b$ what is the loss?\n",
    "\n",
    " 1. The misclassification loss function: counts the number of instances inaccurately classified\n",
    " 2. Similar to logistic regression we would like to take gradients to find $W_{opt}$ and $b_{opt}$\n",
    "\n",
    "\n",
    "The relevant loss function here is called [cross-entropy](https://en.wikipedia.org/wiki/Cross_entropy). The cross entropy between two probability distributions $p$ and $q$ is defined as\n",
    "\n",
    "$$H(p,q)=\\operatorname {E}_{p}[-\\log q]=H(p)+D_{{{\\mathrm  {KL}}}}(p\\|q)=-\\sum_{i=1}^n p_i \\log q_i$$\n",
    "\n",
    "We typically observe fixed labels corresponding to $p_{i}=\\begin{cases}\n",
    "1 & i=k\\\\\n",
    "0 & \\text{otherwise}\n",
    "\\end{cases}$.\n",
    "\n",
    "Thus the loss corresponds to the log loss.\n"
   ]
  },
  {
   "cell_type": "markdown",
   "metadata": {
    "slideshow": {
     "slide_type": "subslide"
    }
   },
   "source": [
    "### Implementation\n",
    "\n",
    "Assument that $y$ is an $K\\times m$ matrix, where $m$ is the number of samples and $K$ is the number of labels. A Naive implementaion of this theory is a follow:"
   ]
  },
  {
   "cell_type": "code",
   "execution_count": 12,
   "metadata": {},
   "outputs": [
    {
     "data": {
      "text/plain": [
       "cross_entropy (generic function with 1 method)"
      ]
     },
     "execution_count": 12,
     "metadata": {},
     "output_type": "execute_result"
    }
   ],
   "source": [
    "softmax(z) = exp.(z) ./ sum(exp.(z), 1)\n",
    "cross_entropy(yhat, y) = - sum(y .* log.(yhat), 1)"
   ]
  },
  {
   "cell_type": "code",
   "execution_count": 13,
   "metadata": {},
   "outputs": [],
   "source": [
    "m = 1000;\n",
    "K = 10;\n",
    "z = rand(K, m);\n",
    "yhat = softmax(z);"
   ]
  },
  {
   "cell_type": "markdown",
   "metadata": {},
   "source": [
    "Let's confirm that indeed all of our rows sum to 1:"
   ]
  },
  {
   "cell_type": "code",
   "execution_count": 16,
   "metadata": {},
   "outputs": [
    {
     "data": {
      "text/plain": [
       "1×1000 Array{Float64,2}:\n",
       " 1.0  1.0  1.0  1.0  1.0  1.0  1.0  1.0  …  1.0  1.0  1.0  1.0  1.0  1.0  1.0"
      ]
     },
     "execution_count": 16,
     "metadata": {},
     "output_type": "execute_result"
    }
   ],
   "source": [
    "mapslices(sum, yhat, 1)"
   ]
  },
  {
   "cell_type": "markdown",
   "metadata": {
    "slideshow": {
     "slide_type": "subslide"
    }
   },
   "source": [
    "We could then implement the loss functions as: (in the code of Knet a more numerically stable version is implemented as nll )"
   ]
  },
  {
   "cell_type": "code",
   "execution_count": 10,
   "metadata": {},
   "outputs": [
    {
     "data": {
      "text/plain": [
       "cross_entropy (generic function with 1 method)"
      ]
     },
     "execution_count": 10,
     "metadata": {},
     "output_type": "execute_result"
    }
   ],
   "source": [
    "cross_entropy(yhat, y) = - sum(sum(z .* log.(z), 1))"
   ]
  },
  {
   "cell_type": "markdown",
   "metadata": {
    "slideshow": {
     "slide_type": "subslide"
    }
   },
   "source": [
    "## Gradient descent for multiclass logistic regression"
   ]
  },
  {
   "cell_type": "code",
   "execution_count": 19,
   "metadata": {},
   "outputs": [
    {
     "data": {
      "text/plain": [
       "(::gradfun) (generic function with 1 method)"
      ]
     },
     "execution_count": 19,
     "metadata": {},
     "output_type": "execute_result"
    }
   ],
   "source": [
    "predict(w,x) = w[1]*mat(x) .+ w[2] # mat takes 28,28,1,N) x array to a (784,N).\n",
    "loss(w,x,ygold) = nll(predict(w,x), ygold)\n",
    "lossgradient = grad(loss)"
   ]
  },
  {
   "cell_type": "markdown",
   "metadata": {},
   "source": [
    "Now let's train a model on the MNIST data:"
   ]
  },
  {
   "cell_type": "code",
   "execution_count": 20,
   "metadata": {},
   "outputs": [
    {
     "data": {
      "text/plain": [
       "train (generic function with 1 method)"
      ]
     },
     "execution_count": 20,
     "metadata": {},
     "output_type": "execute_result"
    }
   ],
   "source": [
    "function train(w, data; lr=.1)\n",
    "    for (x,y) in data\n",
    "        dw = lossgradient(w, x, y)\n",
    "        for i in 1:length(w)\n",
    "            w[i] -= lr * dw[i]\n",
    "        end   \n",
    "    end\n",
    "\n",
    "end"
   ]
  },
  {
   "cell_type": "code",
   "execution_count": 21,
   "metadata": {
    "slideshow": {
     "slide_type": "subslide"
    }
   },
   "outputs": [
    {
     "name": "stdout",
     "output_type": "stream",
     "text": [
      "(:epoch, 0, :trn, 0.05441666666666667, :tst, 0.0536)\n",
      "(:epoch, 1, :trn, 0.89955, :tst, 0.905)\n",
      "(:epoch, 2, :trn, 0.9077666666666667, :tst, 0.9086)\n",
      "(:epoch, 3, :trn, 0.9110833333333334, :tst, 0.9106)\n",
      "(:epoch, 4, :trn, 0.9132833333333333, :tst, 0.9122)\n",
      "(:epoch, 5, :trn, 0.9151166666666667, :tst, 0.9132)\n",
      "(:epoch, 6, :trn, 0.91635, :tst, 0.914)\n",
      "(:epoch, 7, :trn, 0.91725, :tst, 0.9147)\n",
      "(:epoch, 8, :trn, 0.9180333333333334, :tst, 0.9147)\n",
      "(:epoch, 9, :trn, 0.9183666666666667, :tst, 0.9153)\n",
      "(:epoch, 10, :trn, 0.9192833333333333, :tst, 0.9158)\n"
     ]
    }
   ],
   "source": [
    "w = map(atype, Any[ 0.1f0*randn(Float32, 10, 784), zeros(Float32, 10, 1) ])\n",
    "w = Any[ 0.1f0*randn(Float32,10,784), zeros(Float32,10,1) ];\n",
    "println((:epoch, 0, :trn, accuracy(w,dtrn,predict), :tst, accuracy(w,dtst,predict)))\n",
    "for epoch=1:10\n",
    "    train(w, dtrn; lr=0.5)\n",
    "    println((:epoch, epoch, :trn, accuracy(w,dtrn,predict), :tst, accuracy(w,dtst,predict)))\n",
    "end"
   ]
  },
  {
   "cell_type": "markdown",
   "metadata": {
    "slideshow": {
     "slide_type": "subslide"
    }
   },
   "source": [
    "Ok, let us check the accuracy on the testing and training set:"
   ]
  },
  {
   "cell_type": "code",
   "execution_count": 19,
   "metadata": {},
   "outputs": [
    {
     "data": {
      "text/plain": [
       "(0.9196833333333333, 0.9155)"
      ]
     },
     "execution_count": 19,
     "metadata": {},
     "output_type": "execute_result"
    }
   ],
   "source": [
    "accuracy(w, dtrn, predict), accuracy(w, dtst, predict)"
   ]
  },
  {
   "cell_type": "markdown",
   "metadata": {},
   "source": [
    "You might reasonably conclude that this problem is too easy to be taken seriously by experts.\n",
    "But until recently, many papers (Google Scholar says 13,800) were published using results obtained on this data."
   ]
  },
  {
   "cell_type": "markdown",
   "metadata": {
    "slideshow": {
     "slide_type": "slide"
    }
   },
   "source": [
    "# Multilayer perceptrons from scratch\n",
    "\n",
    "Multiclass logistic regression based on $$\\hat{y} = \\mbox{softmax}(W \\boldsymbol{x} + b)$$to  **deep neural networks** with multiple layers.\n",
    "\n",
    "\n",
    "Graphically, we could depict the model like this:\n",
    "![](https://github.com/zackchase/mxnet-the-straight-dope/blob/master/img/simple-softmax-net.png?raw=true)\n",
    "\n",
    "\n",
    " * *But linearity is a strong assumption*. - each pixel,  increasing its value either increases probability that it depicts a dog or decreases it.\n",
    "\n",
    "We can model a more general class of functions by incorporating one or more *hidden layers*.\n",
    "Each layer feeds in to the layer above it, until we generate an output.\n",
    "This architecture is commonly called a **\"multilayer perceptron\"**.\n",
    "\n",
    "$$ h_1 = \\phi(W_1\\boldsymbol{x} + b_1) $$\n",
    "$$ h_2 = \\phi(W_2\\boldsymbol{h_1} + b_2) $$\n",
    "$$...$$\n",
    "$$ h_n = \\phi(W_n\\boldsymbol{h_{n-1}} + b_n) $$"
   ]
  },
  {
   "cell_type": "markdown",
   "metadata": {
    "slideshow": {
     "slide_type": "subslide"
    }
   },
   "source": [
    " * each layer has its own parameters $W_i$ and $b_i$  \n",
    " * its output is feed throughactivation function for the hidden layers as $\\phi$\n",
    " * topmost hidden layer,  for classification, we'll stick with the softmax activation in the output layer.\n",
    "\n",
    "$$ \\hat{y} = \\mbox{softmax}(W_y \\boldsymbol{h}_n + b_y)$$\n",
    "\n",
    "Graphically, a multilayer perceptron could be depicted like this:\n",
    "\n",
    "![](https://github.com/zackchase/mxnet-the-straight-dope/blob/master/img/multilayer-perceptron.png?raw=true)"
   ]
  },
  {
   "cell_type": "code",
   "execution_count": 5,
   "metadata": {
    "slideshow": {
     "slide_type": "subslide"
    }
   },
   "outputs": [
    {
     "data": {
      "text/html": [
       "<?xml version=\"1.0\" encoding=\"utf-8\"?>\n",
       "<svg xmlns=\"http://www.w3.org/2000/svg\" xmlns:xlink=\"http://www.w3.org/1999/xlink\" width=\"600\" height=\"400\" viewBox=\"0 0 600 400\">\n",
       "<defs>\n",
       "  <clipPath id=\"clip6400\">\n",
       "    <rect x=\"0\" y=\"0\" width=\"600\" height=\"400\"/>\n",
       "  </clipPath>\n",
       "</defs>\n",
       "<polygon clip-path=\"url(#clip6400)\" points=\"\n",
       "0,400 600,400 600,0 0,0 \n",
       "  \" fill=\"#ffffff\" fill-opacity=\"1\"/>\n",
       "<defs>\n",
       "  <clipPath id=\"clip6401\">\n",
       "    <rect x=\"120\" y=\"0\" width=\"421\" height=\"400\"/>\n",
       "  </clipPath>\n",
       "</defs>\n",
       "<polygon clip-path=\"url(#clip6400)\" points=\"\n",
       "29.2591,375.813 580.315,375.813 580.315,11.811 29.2591,11.811 \n",
       "  \" fill=\"#ffffff\" fill-opacity=\"1\"/>\n",
       "<defs>\n",
       "  <clipPath id=\"clip6402\">\n",
       "    <rect x=\"29\" y=\"11\" width=\"552\" height=\"365\"/>\n",
       "  </clipPath>\n",
       "</defs>\n",
       "<polyline clip-path=\"url(#clip6402)\" style=\"stroke:#000000; stroke-width:0.5; stroke-opacity:0.1; fill:none\" points=\"\n",
       "  29.2591,375.813 29.2591,11.811 \n",
       "  \"/>\n",
       "<polyline clip-path=\"url(#clip6402)\" style=\"stroke:#000000; stroke-width:0.5; stroke-opacity:0.1; fill:none\" points=\"\n",
       "  167.023,375.813 167.023,11.811 \n",
       "  \"/>\n",
       "<polyline clip-path=\"url(#clip6402)\" style=\"stroke:#000000; stroke-width:0.5; stroke-opacity:0.1; fill:none\" points=\"\n",
       "  304.787,375.813 304.787,11.811 \n",
       "  \"/>\n",
       "<polyline clip-path=\"url(#clip6402)\" style=\"stroke:#000000; stroke-width:0.5; stroke-opacity:0.1; fill:none\" points=\"\n",
       "  442.551,375.813 442.551,11.811 \n",
       "  \"/>\n",
       "<polyline clip-path=\"url(#clip6402)\" style=\"stroke:#000000; stroke-width:0.5; stroke-opacity:0.1; fill:none\" points=\"\n",
       "  580.315,375.813 580.315,11.811 \n",
       "  \"/>\n",
       "<polyline clip-path=\"url(#clip6402)\" style=\"stroke:#000000; stroke-width:0.5; stroke-opacity:0.1; fill:none\" points=\"\n",
       "  29.2591,375.813 580.315,375.813 \n",
       "  \"/>\n",
       "<polyline clip-path=\"url(#clip6402)\" style=\"stroke:#000000; stroke-width:0.5; stroke-opacity:0.1; fill:none\" points=\"\n",
       "  29.2591,315.146 580.315,315.146 \n",
       "  \"/>\n",
       "<polyline clip-path=\"url(#clip6402)\" style=\"stroke:#000000; stroke-width:0.5; stroke-opacity:0.1; fill:none\" points=\"\n",
       "  29.2591,254.479 580.315,254.479 \n",
       "  \"/>\n",
       "<polyline clip-path=\"url(#clip6402)\" style=\"stroke:#000000; stroke-width:0.5; stroke-opacity:0.1; fill:none\" points=\"\n",
       "  29.2591,193.812 580.315,193.812 \n",
       "  \"/>\n",
       "<polyline clip-path=\"url(#clip6402)\" style=\"stroke:#000000; stroke-width:0.5; stroke-opacity:0.1; fill:none\" points=\"\n",
       "  29.2591,133.145 580.315,133.145 \n",
       "  \"/>\n",
       "<polyline clip-path=\"url(#clip6402)\" style=\"stroke:#000000; stroke-width:0.5; stroke-opacity:0.1; fill:none\" points=\"\n",
       "  29.2591,72.4781 580.315,72.4781 \n",
       "  \"/>\n",
       "<polyline clip-path=\"url(#clip6402)\" style=\"stroke:#000000; stroke-width:0.5; stroke-opacity:0.1; fill:none\" points=\"\n",
       "  29.2591,11.811 580.315,11.811 \n",
       "  \"/>\n",
       "<polyline clip-path=\"url(#clip6400)\" style=\"stroke:#000000; stroke-width:1; stroke-opacity:1; fill:none\" points=\"\n",
       "  29.2591,375.813 580.315,375.813 \n",
       "  \"/>\n",
       "<polyline clip-path=\"url(#clip6400)\" style=\"stroke:#000000; stroke-width:1; stroke-opacity:1; fill:none\" points=\"\n",
       "  29.2591,375.813 29.2591,11.811 \n",
       "  \"/>\n",
       "<polyline clip-path=\"url(#clip6400)\" style=\"stroke:#000000; stroke-width:1; stroke-opacity:1; fill:none\" points=\"\n",
       "  29.2591,375.813 29.2591,370.353 \n",
       "  \"/>\n",
       "<polyline clip-path=\"url(#clip6400)\" style=\"stroke:#000000; stroke-width:1; stroke-opacity:1; fill:none\" points=\"\n",
       "  167.023,375.813 167.023,370.353 \n",
       "  \"/>\n",
       "<polyline clip-path=\"url(#clip6400)\" style=\"stroke:#000000; stroke-width:1; stroke-opacity:1; fill:none\" points=\"\n",
       "  304.787,375.813 304.787,370.353 \n",
       "  \"/>\n",
       "<polyline clip-path=\"url(#clip6400)\" style=\"stroke:#000000; stroke-width:1; stroke-opacity:1; fill:none\" points=\"\n",
       "  442.551,375.813 442.551,370.353 \n",
       "  \"/>\n",
       "<polyline clip-path=\"url(#clip6400)\" style=\"stroke:#000000; stroke-width:1; stroke-opacity:1; fill:none\" points=\"\n",
       "  580.315,375.813 580.315,370.353 \n",
       "  \"/>\n",
       "<polyline clip-path=\"url(#clip6400)\" style=\"stroke:#000000; stroke-width:1; stroke-opacity:1; fill:none\" points=\"\n",
       "  29.2591,375.813 37.525,375.813 \n",
       "  \"/>\n",
       "<polyline clip-path=\"url(#clip6400)\" style=\"stroke:#000000; stroke-width:1; stroke-opacity:1; fill:none\" points=\"\n",
       "  29.2591,315.146 37.525,315.146 \n",
       "  \"/>\n",
       "<polyline clip-path=\"url(#clip6400)\" style=\"stroke:#000000; stroke-width:1; stroke-opacity:1; fill:none\" points=\"\n",
       "  29.2591,254.479 37.525,254.479 \n",
       "  \"/>\n",
       "<polyline clip-path=\"url(#clip6400)\" style=\"stroke:#000000; stroke-width:1; stroke-opacity:1; fill:none\" points=\"\n",
       "  29.2591,193.812 37.525,193.812 \n",
       "  \"/>\n",
       "<polyline clip-path=\"url(#clip6400)\" style=\"stroke:#000000; stroke-width:1; stroke-opacity:1; fill:none\" points=\"\n",
       "  29.2591,133.145 37.525,133.145 \n",
       "  \"/>\n",
       "<polyline clip-path=\"url(#clip6400)\" style=\"stroke:#000000; stroke-width:1; stroke-opacity:1; fill:none\" points=\"\n",
       "  29.2591,72.4781 37.525,72.4781 \n",
       "  \"/>\n",
       "<polyline clip-path=\"url(#clip6400)\" style=\"stroke:#000000; stroke-width:1; stroke-opacity:1; fill:none\" points=\"\n",
       "  29.2591,11.811 37.525,11.811 \n",
       "  \"/>\n",
       "<g clip-path=\"url(#clip6400)\">\n",
       "<text style=\"fill:#000000; fill-opacity:1; font-family:Arial,Helvetica Neue,Helvetica,sans-serif; font-size:12; text-anchor:middle;\" transform=\"rotate(0, 29.2591, 389.613)\" x=\"29.2591\" y=\"389.613\">-5.0</text>\n",
       "</g>\n",
       "<g clip-path=\"url(#clip6400)\">\n",
       "<text style=\"fill:#000000; fill-opacity:1; font-family:Arial,Helvetica Neue,Helvetica,sans-serif; font-size:12; text-anchor:middle;\" transform=\"rotate(0, 167.023, 389.613)\" x=\"167.023\" y=\"389.613\">-2.5</text>\n",
       "</g>\n",
       "<g clip-path=\"url(#clip6400)\">\n",
       "<text style=\"fill:#000000; fill-opacity:1; font-family:Arial,Helvetica Neue,Helvetica,sans-serif; font-size:12; text-anchor:middle;\" transform=\"rotate(0, 304.787, 389.613)\" x=\"304.787\" y=\"389.613\">0.0</text>\n",
       "</g>\n",
       "<g clip-path=\"url(#clip6400)\">\n",
       "<text style=\"fill:#000000; fill-opacity:1; font-family:Arial,Helvetica Neue,Helvetica,sans-serif; font-size:12; text-anchor:middle;\" transform=\"rotate(0, 442.551, 389.613)\" x=\"442.551\" y=\"389.613\">2.5</text>\n",
       "</g>\n",
       "<g clip-path=\"url(#clip6400)\">\n",
       "<text style=\"fill:#000000; fill-opacity:1; font-family:Arial,Helvetica Neue,Helvetica,sans-serif; font-size:12; text-anchor:middle;\" transform=\"rotate(0, 580.315, 389.613)\" x=\"580.315\" y=\"389.613\">5.0</text>\n",
       "</g>\n",
       "<g clip-path=\"url(#clip6400)\">\n",
       "<text style=\"fill:#000000; fill-opacity:1; font-family:Arial,Helvetica Neue,Helvetica,sans-serif; font-size:12; text-anchor:end;\" transform=\"rotate(0, 23.2591, 380.313)\" x=\"23.2591\" y=\"380.313\">-1</text>\n",
       "</g>\n",
       "<g clip-path=\"url(#clip6400)\">\n",
       "<text style=\"fill:#000000; fill-opacity:1; font-family:Arial,Helvetica Neue,Helvetica,sans-serif; font-size:12; text-anchor:end;\" transform=\"rotate(0, 23.2591, 319.646)\" x=\"23.2591\" y=\"319.646\">0</text>\n",
       "</g>\n",
       "<g clip-path=\"url(#clip6400)\">\n",
       "<text style=\"fill:#000000; fill-opacity:1; font-family:Arial,Helvetica Neue,Helvetica,sans-serif; font-size:12; text-anchor:end;\" transform=\"rotate(0, 23.2591, 258.979)\" x=\"23.2591\" y=\"258.979\">1</text>\n",
       "</g>\n",
       "<g clip-path=\"url(#clip6400)\">\n",
       "<text style=\"fill:#000000; fill-opacity:1; font-family:Arial,Helvetica Neue,Helvetica,sans-serif; font-size:12; text-anchor:end;\" transform=\"rotate(0, 23.2591, 198.312)\" x=\"23.2591\" y=\"198.312\">2</text>\n",
       "</g>\n",
       "<g clip-path=\"url(#clip6400)\">\n",
       "<text style=\"fill:#000000; fill-opacity:1; font-family:Arial,Helvetica Neue,Helvetica,sans-serif; font-size:12; text-anchor:end;\" transform=\"rotate(0, 23.2591, 137.645)\" x=\"23.2591\" y=\"137.645\">3</text>\n",
       "</g>\n",
       "<g clip-path=\"url(#clip6400)\">\n",
       "<text style=\"fill:#000000; fill-opacity:1; font-family:Arial,Helvetica Neue,Helvetica,sans-serif; font-size:12; text-anchor:end;\" transform=\"rotate(0, 23.2591, 76.9781)\" x=\"23.2591\" y=\"76.9781\">4</text>\n",
       "</g>\n",
       "<g clip-path=\"url(#clip6400)\">\n",
       "<text style=\"fill:#000000; fill-opacity:1; font-family:Arial,Helvetica Neue,Helvetica,sans-serif; font-size:12; text-anchor:end;\" transform=\"rotate(0, 23.2591, 16.311)\" x=\"23.2591\" y=\"16.311\">5</text>\n",
       "</g>\n",
       "<polyline clip-path=\"url(#clip6402)\" style=\"stroke:#009af9; stroke-width:1; stroke-opacity:1; fill:none\" points=\"\n",
       "  29.2591,315.146 84.3647,315.146 139.47,315.146 194.576,315.146 249.681,315.146 304.787,315.146 580.315,11.811 \n",
       "  \"/>\n",
       "<polyline clip-path=\"url(#clip6402)\" style=\"stroke:#e26f46; stroke-width:1; stroke-opacity:1; fill:none\" points=\"\n",
       "  29.2591,375.813 84.3647,363.68 139.47,351.547 194.576,339.413 249.681,327.28 304.787,315.146 580.315,11.811 \n",
       "  \"/>\n",
       "<polygon clip-path=\"url(#clip6400)\" points=\"\n",
       "489.799,78.051 562.315,78.051 562.315,32.691 489.799,32.691 \n",
       "  \" fill=\"#ffffff\" fill-opacity=\"1\"/>\n",
       "<polyline clip-path=\"url(#clip6400)\" style=\"stroke:#000000; stroke-width:1; stroke-opacity:1; fill:none\" points=\"\n",
       "  489.799,78.051 562.315,78.051 562.315,32.691 489.799,32.691 489.799,78.051 \n",
       "  \"/>\n",
       "<polyline clip-path=\"url(#clip6400)\" style=\"stroke:#009af9; stroke-width:1; stroke-opacity:1; fill:none\" points=\"\n",
       "  495.799,47.811 531.799,47.811 \n",
       "  \"/>\n",
       "<g clip-path=\"url(#clip6400)\">\n",
       "<text style=\"fill:#000000; fill-opacity:1; font-family:Arial,Helvetica Neue,Helvetica,sans-serif; font-size:12; text-anchor:start;\" transform=\"rotate(0, 537.799, 52.311)\" x=\"537.799\" y=\"52.311\">y1</text>\n",
       "</g>\n",
       "<polyline clip-path=\"url(#clip6400)\" style=\"stroke:#e26f46; stroke-width:1; stroke-opacity:1; fill:none\" points=\"\n",
       "  495.799,62.931 531.799,62.931 \n",
       "  \"/>\n",
       "<g clip-path=\"url(#clip6400)\">\n",
       "<text style=\"fill:#000000; fill-opacity:1; font-family:Arial,Helvetica Neue,Helvetica,sans-serif; font-size:12; text-anchor:start;\" transform=\"rotate(0, 537.799, 67.431)\" x=\"537.799\" y=\"67.431\">y2</text>\n",
       "</g>\n",
       "</svg>\n"
      ]
     },
     "execution_count": 5,
     "metadata": {},
     "output_type": "execute_result"
    }
   ],
   "source": [
    "## Activation energy\n",
    "function leaky_relu(x, alpha=0.2)\n",
    "    pos = max(0,x)\n",
    "    neg = min(0,x) * alpha\n",
    "    return pos + neg\n",
    "end\n",
    "xs=[-5.0:0.1,5;]\n",
    "plot(xs,relu.(xs))\n",
    "plot!(xs,leaky_relu.(xs))\n"
   ]
  },
  {
   "cell_type": "markdown",
   "metadata": {
    "slideshow": {
     "slide_type": "subslide"
    }
   },
   "source": [
    "## Remark\n",
    " * It's easy to design a hidden node that that do arbitrary computation,\n",
    "say logical operations.\n",
    " * Any function can be approximated by single-hidden-layer neural network\n",
    " * Actually learning the weights that function is the hard part. (might be easier for deeper networks)\n",
    " * Choice of architecture is tricky and a craft\n",
    "  * Fully connected layer has many parameters - special purpose convolutional layers \n",
    "  * inspired from our brain - e.g. visual cortex\n",
    "  \n"
   ]
  },
  {
   "cell_type": "markdown",
   "metadata": {
    "slideshow": {
     "slide_type": "slide"
    }
   },
   "source": [
    "## Data "
   ]
  },
  {
   "cell_type": "code",
   "execution_count": null,
   "metadata": {
    "slideshow": {
     "slide_type": "subslide"
    }
   },
   "outputs": [],
   "source": []
  },
  {
   "cell_type": "code",
   "execution_count": 6,
   "metadata": {
    "slideshow": {
     "slide_type": "-"
    }
   },
   "outputs": [
    {
     "name": "stderr",
     "output_type": "stream",
     "text": [
      "\u001b[1m\u001b[36mINFO: \u001b[39m\u001b[22m\u001b[36mLoading MNIST...\n",
      "\u001b[39m"
     ]
    }
   ],
   "source": [
    "# Load data\n",
    "xtrn, ytrn, xtst, ytst = mnist()\n",
    "dtrn = minibatch(xtrn, ytrn, 100, xtype=atype);\n",
    "dtst = minibatch(xtst, ytst, 100, xtype=atype);"
   ]
  },
  {
   "cell_type": "markdown",
   "metadata": {
    "slideshow": {
     "slide_type": "subslide"
    }
   },
   "source": [
    "## Model"
   ]
  },
  {
   "cell_type": "code",
   "execution_count": 7,
   "metadata": {
    "slideshow": {
     "slide_type": "-"
    }
   },
   "outputs": [
    {
     "data": {
      "text/plain": [
       "initweights (generic function with 2 methods)"
      ]
     },
     "execution_count": 7,
     "metadata": {},
     "output_type": "execute_result"
    }
   ],
   "source": [
    "function initweights(d, scale=0.01; hidden=[2], atype=Array{Float32})\n",
    "    model = Vector{Any}(2 * length(hidden))\n",
    "    X = d\n",
    "    for k = 1:length(hidden)\n",
    "        H = hidden[k]\n",
    "        model[2k - 1] = scale * randn(H, X) \n",
    "        model[2k]     = scale * randn(H, 1)\n",
    "        X = H\n",
    "    end\n",
    "    return map(atype, model)\n",
    "end"
   ]
  },
  {
   "cell_type": "markdown",
   "metadata": {
    "slideshow": {
     "slide_type": "subslide"
    }
   },
   "source": [
    "We can define the function `initmodel` with the desired parameters. The variable `hidden` contains the output sizes for each of the layers, and `num_inputs` is the size of the input variable `x` (in this case $x\\in\\mathbb{R}^{784}$). "
   ]
  },
  {
   "cell_type": "code",
   "execution_count": 8,
   "metadata": {},
   "outputs": [
    {
     "data": {
      "text/plain": [
       "initmodel (generic function with 1 method)"
      ]
     },
     "execution_count": 8,
     "metadata": {},
     "output_type": "execute_result"
    }
   ],
   "source": [
    "function initmodel(atype;num_inputs=784,num_hidden=256,num_outputs=10)\n",
    "    return initweights(num_inputs,hidden=[num_hidden,num_hidden,num_outputs]; atype=atype);\n",
    "end"
   ]
  },
  {
   "cell_type": "code",
   "execution_count": 10,
   "metadata": {
    "slideshow": {
     "slide_type": "subslide"
    }
   },
   "outputs": [
    {
     "data": {
      "text/plain": [
       "predict (generic function with 1 method)"
      ]
     },
     "execution_count": 10,
     "metadata": {},
     "output_type": "execute_result"
    }
   ],
   "source": [
    "function predict(w, x)\n",
    "    x = mat(x)\n",
    "    for i=1:2:length(w) - 2\n",
    "        x = relu.(w[i] * x .+ w[i+1]) # bias an weights are concatendated \n",
    "    end\n",
    "    return w[end - 1]*x .+ w[end]\n",
    "end"
   ]
  },
  {
   "cell_type": "markdown",
   "metadata": {
    "slideshow": {
     "slide_type": "subslide"
    }
   },
   "source": [
    "Let's test the predict function to make sure everything works fine:"
   ]
  },
  {
   "cell_type": "code",
   "execution_count": 11,
   "metadata": {
    "slideshow": {
     "slide_type": "-"
    }
   },
   "outputs": [
    {
     "data": {
      "text/plain": [
       "10×100 Array{Float32,2}:\n",
       " -0.00777885   -0.00805198  -0.00858142  …  -0.00824668   -0.0090612  \n",
       "  0.00795428    0.00732707   0.00852376      0.00832102    0.00916216 \n",
       " -0.00419474   -0.00582894  -0.00342546     -0.00353707   -0.00412794 \n",
       "  0.00615123    0.00555588   0.00665729      0.00653846    0.00730449 \n",
       " -0.00359829   -0.00188252  -0.00342552     -0.00338012   -0.00333106 \n",
       "  0.0128538     0.0136938    0.0127887   …   0.013459      0.0136595  \n",
       " -0.00608056   -0.007678    -0.00540598     -0.00634066   -0.00673799 \n",
       "  0.00667068    0.00573748   0.00613873      0.00641372    0.00549524 \n",
       " -0.00500274   -0.00531655  -0.0048397      -0.00544367   -0.00607869 \n",
       "  0.000814715   0.00138937   0.00139965      0.000775096   0.000285658"
      ]
     },
     "metadata": {},
     "output_type": "display_data"
    }
   ],
   "source": [
    "for (x, y) in dtrn\n",
    "    display(predict(initmodel(atype), x))\n",
    "    break \n",
    "end"
   ]
  },
  {
   "cell_type": "markdown",
   "metadata": {
    "slideshow": {
     "slide_type": "subslide"
    }
   },
   "source": [
    "## Training procedure"
   ]
  },
  {
   "cell_type": "code",
   "execution_count": 6,
   "metadata": {
    "slideshow": {
     "slide_type": "-"
    }
   },
   "outputs": [
    {
     "data": {
      "text/plain": [
       "train (generic function with 1 method)"
      ]
     },
     "execution_count": 6,
     "metadata": {},
     "output_type": "execute_result"
    }
   ],
   "source": [
    "loss(w, x, ygold, predict) = nll(predict(w, x), ygold);\n",
    "lossgradient = grad(loss); # AutoGrad means we don't need backpropagation\n",
    "\n",
    "function train(w, dtrn, optim, predict; epochs=10)\n",
    "    for epoch = 1:epochs\n",
    "        for (x, y) in dtrn\n",
    "            g = lossgradient(w, x, y, predict)\n",
    "            update!(w, g, optim) ## this a generic train loop the gradient update can be replaced as appropriate\n",
    "        end\n",
    "    end\n",
    "end"
   ]
  },
  {
   "cell_type": "code",
   "execution_count": 13,
   "metadata": {},
   "outputs": [
    {
     "data": {
      "text/plain": [
       "train (generic function with 1 method)"
      ]
     },
     "execution_count": 13,
     "metadata": {},
     "output_type": "execute_result"
    }
   ],
   "source": []
  },
  {
   "cell_type": "markdown",
   "metadata": {
    "slideshow": {
     "slide_type": "subslide"
    }
   },
   "source": [
    "## Optimizer (SGD) and reporting"
   ]
  },
  {
   "cell_type": "code",
   "execution_count": 14,
   "metadata": {},
   "outputs": [],
   "source": [
    "optim(w; lr=0.01) = optimizers(w, Sgd;  lr=lr);"
   ]
  },
  {
   "cell_type": "code",
   "execution_count": 15,
   "metadata": {},
   "outputs": [
    {
     "data": {
      "text/plain": [
       "report (generic function with 1 method)"
      ]
     },
     "execution_count": 15,
     "metadata": {},
     "output_type": "execute_result"
    }
   ],
   "source": [
    "function report(epoch, w, dtrn, dtst, predict)\n",
    "    println((:epoch, epoch, :trn, accuracy(w, dtrn, predict), :tst, accuracy(w, dtst, predict)))\n",
    "end"
   ]
  },
  {
   "cell_type": "markdown",
   "metadata": {
    "slideshow": {
     "slide_type": "slide"
    }
   },
   "source": [
    "## Train the Model"
   ]
  },
  {
   "cell_type": "code",
   "execution_count": 16,
   "metadata": {
    "slideshow": {
     "slide_type": "-"
    }
   },
   "outputs": [
    {
     "name": "stdout",
     "output_type": "stream",
     "text": [
      "(:epoch, 1, :trn, 0.8604, :tst, 0.8615)\n",
      "(:epoch, 2, :trn, 0.9135666666666666, :tst, 0.9134)\n",
      "(:epoch, 3, :trn, 0.93855, :tst, 0.938)\n",
      "(:epoch, 4, :trn, 0.9532833333333334, :tst, 0.9517)\n",
      "(:epoch, 5, :trn, 0.9624833333333334, :tst, 0.9593)\n",
      "(:epoch, 6, :trn, 0.9698833333333333, :tst, 0.9656)\n",
      "(:epoch, 7, :trn, 0.9740666666666666, :tst, 0.9692)\n",
      "(:epoch, 8, :trn, 0.9777833333333333, :tst, 0.9711)\n",
      "(:epoch, 9, :trn, 0.9805166666666667, :tst, 0.9729)\n",
      "(:epoch, 10, :trn, 0.9828333333333333, :tst, 0.973)\n"
     ]
    }
   ],
   "source": [
    "w   = initmodel(atype);\n",
    "opt = optim(w, lr=1e-1);\n",
    "\n",
    "if fast\n",
    "    train(w, dtrn, opt, predict; epochs=nepochs)\n",
    "else\n",
    "    for epoch = 1:nepochs\n",
    "        train(w, dtrn, opt, predict, epochs=1)\n",
    "        report(epoch, w, dtrn, dtst, predict)\n",
    "    end\n",
    "end"
   ]
  },
  {
   "cell_type": "markdown",
   "metadata": {
    "slideshow": {
     "slide_type": "slide"
    }
   },
   "source": [
    "# Beyond basic Neural Nets and tricks of the trade\n",
    "\n",
    " * \"better\" optimisers, see a nice [blog post](http://sebastianruder.com/optimizing-gradient-descent/)\n",
    "  * Adam reduce noise by taking geometric average of gradients, and scale by componentwise standarddeviation estimate\n",
    "  * \"train in parallel\" - elastic averaged stochastic gradient\n",
    " * initialisation of neural nets Xavier (variance inverse proportional to number of connections of neurons)\n",
    " * regularisation overfitting - perturbing with noise the input (slight change to image should not change label), randomly disable neurons (dropout)\n",
    " * Transfer learning incorporate neural network trained on one data set for another task\n",
    "  * use as part of architecture and online retrain new components\n",
    "  * the neural network based classifing cats and dogs can help to detect skin cancer in this [Nature publication ](https://www.nature.com/articles/nature21056?error=cookies_not_supported&code=fab53529-b08e-48c2-a26a-72c23e3d69e9)"
   ]
  },
  {
   "cell_type": "code",
   "execution_count": null,
   "metadata": {},
   "outputs": [],
   "source": []
  }
 ],
 "metadata": {
  "celltoolbar": "Slideshow",
  "kernelspec": {
   "display_name": "Julia 0.6.2",
   "language": "julia",
   "name": "julia-0.6"
  },
  "language_info": {
   "file_extension": ".jl",
   "mimetype": "application/julia",
   "name": "julia",
   "version": "0.6.2"
  }
 },
 "nbformat": 4,
 "nbformat_minor": 2
}
