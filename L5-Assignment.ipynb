{
 "cells": [
  {
   "cell_type": "markdown",
   "metadata": {},
   "source": [
    "Before you turn this problem in, make sure everything runs as expected. First, **restart the kernel** (in the menubar, select Kernel$\\rightarrow$Restart) and then **run all cells** (in the menubar, select Cell$\\rightarrow$Run All).\n",
    "\n",
    "Make sure you fill in any place that says `YOUR CODE HERE` or \"YOUR ANSWER HERE\", as well as your name and collaborators below:"
   ]
  },
  {
   "cell_type": "code",
   "execution_count": null,
   "metadata": {},
   "outputs": [],
   "source": [
    "NAME = \"\"\n",
    "COLLABORATORS = \"\""
   ]
  },
  {
   "cell_type": "markdown",
   "metadata": {},
   "source": [
    "---"
   ]
  },
  {
   "cell_type": "markdown",
   "metadata": {
    "deletable": false,
    "editable": false,
    "nbgrader": {
     "checksum": "f0bd265a7f01f351e04945c0aa476c0e",
     "grade": false,
     "grade_id": "cell-4a1f5189adcc2529",
     "locked": true,
     "schema_version": 1,
     "solution": false
    }
   },
   "source": [
    "# Stochastic, interacting particles in time and space\n",
    "\n",
    "*** Dr Magnus Richardson (Mathematics Institute)***  \n",
    "*** IATL Computer Modelling Module, 5th February 2018*** \n",
    "\n",
    "---\n",
    "\n",
    "## Questions\n",
    "\n",
    "** Q1.** Mean and variance for the sum of three random numbers.   \n",
    "** Q2.** Estimating $\\pi$ from coin flips.  \n",
    "** Q3.** Diffusion on a lattice with a bias.  \n"
   ]
  },
  {
   "cell_type": "code",
   "execution_count": null,
   "metadata": {
    "collapsed": true,
    "deletable": false,
    "editable": false,
    "nbgrader": {
     "checksum": "7d6e30099054092589831a9d31979c77",
     "grade": false,
     "grade_id": "cell-ca41202d7bd57084",
     "locked": true,
     "schema_version": 1,
     "solution": false
    }
   },
   "outputs": [],
   "source": [
    "using Base.Test"
   ]
  },
  {
   "cell_type": "markdown",
   "metadata": {
    "deletable": false,
    "editable": false,
    "nbgrader": {
     "checksum": "de8042db12976ce591ba89c4aca4b1a0",
     "grade": false,
     "grade_id": "cell-074e4bb5f8eeb913",
     "locked": true,
     "schema_version": 1,
     "solution": false
    }
   },
   "source": [
    "---\n",
    "\n",
    "---"
   ]
  },
  {
   "cell_type": "markdown",
   "metadata": {
    "deletable": false,
    "editable": false,
    "nbgrader": {
     "checksum": "41b3bb9b6975cd2920d38218d86a4c8b",
     "grade": false,
     "grade_id": "cell-cc308ee4efaf614d",
     "locked": true,
     "schema_version": 1,
     "solution": false
    }
   },
   "source": [
    "## Q1. Mean and variance for the sum of three random numbers (30%)\n",
    "\n",
    "Write a function that takes the means $m_1$, $m_2$ and $m_3$, and standard deviations $s_1$, $s_2$ and $s_3$ of three random numbers and returns the mean and standard deviation of their sum $m_4$ and $s_4$.  \n",
    "\n",
    "\n",
    "The function should be in the form:\n",
    "```\n",
    "   m_4,s_4 = MyMeanAndVar(m_1, m_2, m_3, s_1, s_2, s_3)\n",
    "```\n",
    "\n",
    "Test that your function is not wrong with some examples."
   ]
  },
  {
   "cell_type": "markdown",
   "metadata": {
    "deletable": false,
    "editable": false,
    "nbgrader": {
     "checksum": "a3f085421cb66f74879ad21657089048",
     "grade": false,
     "grade_id": "cell-3e37a7ee85d9df89",
     "locked": true,
     "schema_version": 1,
     "solution": false
    }
   },
   "source": [
    "## A1. Mean and variance for the sum of three random numbers "
   ]
  },
  {
   "cell_type": "code",
   "execution_count": null,
   "metadata": {
    "deletable": false,
    "nbgrader": {
     "checksum": "1e0070cf25c04c3f519b566d9ceac8a7",
     "grade": false,
     "grade_id": "cell-39a06eee28fa57a4",
     "locked": false,
     "schema_version": 1,
     "solution": true
    }
   },
   "outputs": [],
   "source": [
    "# YOUR CODE HERE"
   ]
  },
  {
   "cell_type": "code",
   "execution_count": null,
   "metadata": {
    "deletable": false,
    "editable": false,
    "nbgrader": {
     "checksum": "3de65fdf61c54b812b028006e5474958",
     "grade": true,
     "grade_id": "cell-ec89f5cdc33d1c7b",
     "locked": true,
     "points": 0,
     "schema_version": 1,
     "solution": false
    }
   },
   "outputs": [],
   "source": []
  },
  {
   "cell_type": "code",
   "execution_count": null,
   "metadata": {
    "collapsed": true
   },
   "outputs": [],
   "source": [
    "# use this cell to test your answer"
   ]
  },
  {
   "cell_type": "markdown",
   "metadata": {
    "deletable": false,
    "editable": false,
    "nbgrader": {
     "checksum": "a9fc356161d876d1739e3a9e61a13836",
     "grade": false,
     "grade_id": "cell-a350e16a3599567d",
     "locked": true,
     "schema_version": 1,
     "solution": false
    }
   },
   "source": [
    "---"
   ]
  },
  {
   "cell_type": "markdown",
   "metadata": {
    "deletable": false,
    "editable": false,
    "nbgrader": {
     "checksum": "af057e008972ad60763cba2aa445042b",
     "grade": false,
     "grade_id": "cell-bf0c993800e7c53a",
     "locked": true,
     "schema_version": 1,
     "solution": false
    }
   },
   "source": [
    "## Q2. Estimating $\\pi$ from coin flips (30%)\n",
    "\n",
    "Imagine you flip a fair coin and assign $x=1/2$ if it is heads or $x=-1/2$ if it is tails.  \n",
    "You flip this coin $N$ times and consider the sum:   \n",
    "\n",
    "$$X(N)=\\sum_{m=1}^Nx_m $$\n",
    "\n",
    "\n",
    "From the Section 1.4 of the lectures we know that the distribution of $X(N)$ will approach a Gaussian.  \n",
    "Because the mean of $x$ is zero, the mean of $X$ is also zero.  \n",
    "The variance of $x$ is $1/4$ (try to prove this yourself) and so Var$(X)=N/4$.  \n",
    "\n",
    "The distribution of $X$ is can therefore be approximated by the Gaussian\n",
    "\n",
    "$$ p(X)=\\sqrt{\\frac{2}{N\\pi}}\\exp(-2X^2/N) $$\n",
    "\n",
    "This provides a way of estimating $\\pi$ using $N$ coin flips.  \n",
    "\n",
    "**Method:**   \n",
    "Pick an even value of $N$. Then generate $n_s$ samples of $X$.  \n",
    "The fraction of samples $F_N$ for which $X=0$ can be approximated by $\\sqrt{2/N\\pi}$.  \n",
    "Hence, an approximation for $\\pi$ is: \n",
    "\n",
    "$$\\pi_N\\simeq \\frac{2}{NF_N^2}.$$\n",
    "\n",
    "**Task:**\n",
    "\n",
    "Write a function using this method that takes an even $N$ as an argument and returns an approximation for $\\pi$ (with $n_s=10^5$ a fixed constant). The function must be take the form \n",
    "```julia\n",
    "function MyPi(N)\n",
    "    # your code\n",
    "    return piN  # (your approx. to pi)\n",
    "end\n",
    "```\n",
    " "
   ]
  },
  {
   "cell_type": "markdown",
   "metadata": {
    "deletable": false,
    "editable": false,
    "nbgrader": {
     "checksum": "ee3e3c4878ba0f7d1eade65fdd9a16c9",
     "grade": false,
     "grade_id": "cell-72b9999b1a194690",
     "locked": true,
     "schema_version": 1,
     "solution": false
    }
   },
   "source": [
    "## A2. Estimating $\\pi$ from coin flips"
   ]
  },
  {
   "cell_type": "code",
   "execution_count": null,
   "metadata": {
    "deletable": false,
    "nbgrader": {
     "checksum": "22439176714328f501050af529a23921",
     "grade": false,
     "grade_id": "cell-97247f186ee68c0f",
     "locked": false,
     "schema_version": 1,
     "solution": true
    }
   },
   "outputs": [],
   "source": [
    "# YOUR CODE HERE"
   ]
  },
  {
   "cell_type": "code",
   "execution_count": null,
   "metadata": {
    "deletable": false,
    "editable": false,
    "nbgrader": {
     "checksum": "ecf7e8b31f834bb18c71e7017d15263b",
     "grade": true,
     "grade_id": "cell-0eb3ea7234b995bb",
     "locked": true,
     "points": 0,
     "schema_version": 1,
     "solution": false
    }
   },
   "outputs": [],
   "source": []
  },
  {
   "cell_type": "code",
   "execution_count": null,
   "metadata": {
    "collapsed": true
   },
   "outputs": [],
   "source": [
    "# write a short test script to test your answer\n",
    "# e.g. you can test whether increasing N \n",
    "# improves the estimate of π"
   ]
  },
  {
   "cell_type": "markdown",
   "metadata": {
    "deletable": false,
    "editable": false,
    "nbgrader": {
     "checksum": "bdce4cd4e33ec1f9ffda8bbf58c2ef9f",
     "grade": false,
     "grade_id": "cell-ba924920668af2e2",
     "locked": true,
     "schema_version": 1,
     "solution": false
    }
   },
   "source": [
    "---"
   ]
  },
  {
   "cell_type": "markdown",
   "metadata": {
    "collapsed": true,
    "deletable": false,
    "editable": false,
    "nbgrader": {
     "checksum": "2d2fd683dfc9a40104ad525807f6e938",
     "grade": false,
     "grade_id": "cell-6f5cbdc68aced01a",
     "locked": true,
     "schema_version": 1,
     "solution": false
    }
   },
   "source": [
    "## Q3. Diffusion on a lattice with a bias.  (40%)\n",
    "\n",
    "\n",
    "In section 2.4 of the lecture notes we considered a particle on a 1D lattice that could jump left or right with equal probability $p$ per time step.  \n",
    "\n",
    "We now generalise this system to a particle that, during each time step of length $dt$:  \n",
    "hops right with a probability $p$   \n",
    "hops left with a probability $q$  \n",
    "stays still with a probability $1-p-q$  \n",
    "\n",
    "Imagine we want to simulate a particle that, starting from a position $x=0$, is   \n",
    "$~~$ at a mean position $\\langle x \\rangle=vt$ at time $t$ (where $t$ is a fixed velocity constant) and   \n",
    "$~~$ has a variance in position Var$(x)=2Dt$ where $D$ is the diffusion constant.  \n",
    "\n",
    "To simulate such a system using a time step $dt$ we need to choose $p$ and $q$ such that mean and variance of the position at time $t$ are correct.\n",
    "\n",
    "Write a function of the form\n",
    "```julia\n",
    "function MyPandQ(v,D,dt)\n",
    "   # your code . . .\n",
    "   return p, q\n",
    "end \n",
    "```\n",
    "that returns the values for $p$ and $q$.\n",
    "\n",
    "You could check your answer is not wrong using simulations.\n",
    "\n",
    "** Hint 1:** You will need to calculate the mean and variance of the hops per time step and consider how many hops there are in a time $t$.  \n",
    "** Hint 2:** When you solve your equations for $p$ and $q$ you will see that there are some terms proportional to $dt$ and some to $dt^2$. Because $dt$ is small the terms proportional to $dt^2$ will be tiny so you can ignore them.  \n"
   ]
  },
  {
   "cell_type": "markdown",
   "metadata": {
    "deletable": false,
    "editable": false,
    "nbgrader": {
     "checksum": "8a6d1b24b33faf672e1e24546a2d6866",
     "grade": false,
     "grade_id": "cell-a7358cc4b8075d99",
     "locked": true,
     "schema_version": 1,
     "solution": false
    }
   },
   "source": [
    "## A3. Diffusion on a lattice with a bias.  \n"
   ]
  },
  {
   "cell_type": "code",
   "execution_count": null,
   "metadata": {
    "deletable": false,
    "nbgrader": {
     "checksum": "ee12fe74c4aa93f32c4395d9260838bc",
     "grade": false,
     "grade_id": "cell-58e5b4354128a78d",
     "locked": false,
     "schema_version": 1,
     "solution": true
    }
   },
   "outputs": [],
   "source": [
    "# YOUR CODE HERE"
   ]
  },
  {
   "cell_type": "code",
   "execution_count": null,
   "metadata": {
    "deletable": false,
    "editable": false,
    "nbgrader": {
     "checksum": "eb5a016c945b3524e61fd49aae62d18c",
     "grade": true,
     "grade_id": "cell-e951f4fb15a643fd",
     "locked": true,
     "points": 0,
     "schema_version": 1,
     "solution": false
    }
   },
   "outputs": [],
   "source": []
  },
  {
   "cell_type": "markdown",
   "metadata": {},
   "source": [
    "--- "
   ]
  },
  {
   "cell_type": "markdown",
   "metadata": {},
   "source": [
    "## Open Question: Write a 2D two-species reaction-diffusion simulation\n",
    "\n",
    "In ** Section 3.3 ** of the lecture notes a two-species reaction A+B->0 was introduced in one dimension.  \n",
    "\n",
    "\n",
    "In ** Section 3.4 ** of the lecture notes a one-species reaction A+A->0 was simulated in two dimensions.\n",
    "\n",
    "Adapt the code from these examples so that the A+B->0 reation-diffusion process is simulated in 2D.   \n",
    "Investigate the form of the decay in particle numbers as a function of time.  \n",
    "\n",
    "** Extension: ** Write an equivalent code for 3D and investigate the decay in particle number.  "
   ]
  },
  {
   "cell_type": "code",
   "execution_count": null,
   "metadata": {
    "collapsed": true
   },
   "outputs": [],
   "source": []
  }
 ],
 "metadata": {
  "kernelspec": {
   "display_name": "Julia 0.6.2",
   "language": "julia",
   "name": "julia-0.6"
  },
  "language_info": {
   "file_extension": ".jl",
   "mimetype": "application/julia",
   "name": "julia",
   "version": "0.6.2"
  }
 },
 "nbformat": 4,
 "nbformat_minor": 2
}
