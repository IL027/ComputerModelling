{
 "cells": [
  {
   "cell_type": "code",
   "execution_count": 3,
   "metadata": {},
   "outputs": [
    {
     "name": "stdout",
     "output_type": "stream",
     "text": [
      "search: \u001b[1ms\u001b[22m\u001b[1mc\u001b[22m\u001b[1ma\u001b[22m\u001b[1mt\u001b[22m\u001b[1mt\u001b[22m\u001b[1me\u001b[22m\u001b[1mr\u001b[22m\u001b[1mg\u001b[22m\u001b[1me\u001b[22m\u001b[1mo\u001b[22m \u001b[1ms\u001b[22m\u001b[1mc\u001b[22m\u001b[1ma\u001b[22m\u001b[1mt\u001b[22m\u001b[1mt\u001b[22m\u001b[1me\u001b[22m\u001b[1mr\u001b[22m\u001b[1mg\u001b[22ml \u001b[1ms\u001b[22m\u001b[1mc\u001b[22m\u001b[1ma\u001b[22m\u001b[1mt\u001b[22m\u001b[1mt\u001b[22m\u001b[1me\u001b[22m\u001b[1mr\u001b[22m3d \u001b[1ms\u001b[22m\u001b[1mc\u001b[22m\u001b[1ma\u001b[22m\u001b[1mt\u001b[22m\u001b[1mt\u001b[22m\u001b[1me\u001b[22m\u001b[1mr\u001b[22m \u001b[1ms\u001b[22m\u001b[1mc\u001b[22m\u001b[1ma\u001b[22m\u001b[1mt\u001b[22m\u001b[1mt\u001b[22m\u001b[1me\u001b[22m\u001b[1mr\u001b[22mmapbox \u001b[1ms\u001b[22m\u001b[1mc\u001b[22m\u001b[1ma\u001b[22m\u001b[1mt\u001b[22m\u001b[1mt\u001b[22m\u001b[1me\u001b[22m\u001b[1mr\u001b[22mcarpet\n",
      "\n"
     ]
    },
    {
     "data": {
      "text/markdown": [
       "No documentation found.\n",
       "\n",
       "`PlotlyJS.scattergeo` is a `Function`.\n",
       "\n",
       "```\n",
       "# 2 methods for generic function \"scattergeo\":\n",
       "scattergeo(; kwargs...) in PlotlyJS at /home/jrun/.julia/v0.6/PlotlyJS/src/api.jl:31\n",
       "scattergeo(d::Associative; kwargs...) in PlotlyJS at /home/jrun/.julia/v0.6/PlotlyJS/src/api.jl:32\n",
       "```\n"
      ],
      "text/plain": [
       "No documentation found.\n",
       "\n",
       "`PlotlyJS.scattergeo` is a `Function`.\n",
       "\n",
       "```\n",
       "# 2 methods for generic function \"scattergeo\":\n",
       "scattergeo(; kwargs...) in PlotlyJS at /home/jrun/.julia/v0.6/PlotlyJS/src/api.jl:31\n",
       "scattergeo(d::Associative; kwargs...) in PlotlyJS at /home/jrun/.julia/v0.6/PlotlyJS/src/api.jl:32\n",
       "```\n"
      ]
     },
     "execution_count": 3,
     "metadata": {},
     "output_type": "execute_result"
    }
   ],
   "source": [
    "?scattergeo"
   ]
  },
  {
   "cell_type": "code",
   "execution_count": 7,
   "metadata": {},
   "outputs": [
    {
     "data": {
      "application/vnd.plotly.v1+json": {
       "data": [
        {
         "locations": [
          "FRA",
          "DEU",
          "RUS",
          "ESP"
         ],
         "marker": {
          "cmax": 50,
          "cmin": 0,
          "color": [
           10,
           20,
           40,
           50
          ],
          "colorbar": {
           "showticksuffix": "last",
           "ticksuffix": "%",
           "title": "Some rate"
          },
          "colorscale": "Greens",
          "line": {
           "color": "black"
          },
          "size": [
           20,
           30,
           15,
           10
          ]
         },
         "mode": "markers",
         "name": "Europe Data",
         "type": "scattergeo"
        }
       ],
       "layout": {
        "geo": {
         "resolution": 50,
         "scope": "europe"
        },
        "height": 550,
        "margin": {
         "b": 0,
         "l": 0,
         "r": 0,
         "t": 10
        },
        "width": 500
       }
      },
      "text/html": [
       "<div id=\"7aa0962a-b271-4465-a152-b0f3bb62a33c\" class=\"plotly-graph-div\"></div>\n",
       "\n",
       "<script>\n",
       "    window.PLOTLYENV=window.PLOTLYENV || {};\n",
       "    window.PLOTLYENV.BASE_URL=\"https://plot.ly\";\n",
       "    require(['plotly'], function(Plotly) {\n",
       "        Plotly.newPlot('7aa0962a-b271-4465-a152-b0f3bb62a33c', [{\"mode\":\"markers\",\"locations\":[\"FRA\",\"DEU\",\"RUS\",\"ESP\"],\"type\":\"scattergeo\",\"name\":\"Europe Data\",\"marker\":{\"color\":[10,20,40,50],\"colorbar\":{\"showticksuffix\":\"last\",\"title\":\"Some rate\",\"ticksuffix\":\"%\"},\"cmin\":0,\"line\":{\"color\":\"black\"},\"size\":[20,30,15,10],\"colorscale\":\"Greens\",\"cmax\":50}}],\n",
       "               {\"geo\":{\"resolution\":50,\"scope\":\"europe\"},\"height\":550,\"margin\":{\"l\":0,\"b\":0,\"r\":0,\"t\":10},\"width\":500}, {showLink: false});\n",
       "\n",
       "    });\n",
       " </script>\n"
      ]
     },
     "execution_count": 7,
     "metadata": {},
     "output_type": "execute_result"
    }
   ],
   "source": [
    "using PlotlyJS\n",
    "\n",
    "function maps1()\n",
    "    marker = attr(size=[20, 30, 15, 10],\n",
    "                  color=[10, 20, 40, 50],\n",
    "                  cmin=0,\n",
    "                  cmax=50,\n",
    "                  colorscale=\"Greens\",\n",
    "                  colorbar=attr(title=\"Some rate\",\n",
    "                                ticksuffix=\"%\",\n",
    "                                showticksuffix=\"last\"),\n",
    "                  line_color=\"black\")\n",
    "    trace = scattergeo(;mode=\"markers\", locations=[\"FRA\", \"DEU\", \"RUS\", \"ESP\"],\n",
    "                        marker=marker, name=\"Europe Data\")\n",
    "    layout = Layout(geo_scope=\"europe\", geo_resolution=50, width=500, height=550,\n",
    "                    margin=attr(l=0, r=0, t=10, b=0))\n",
    "    plot(trace, layout)\n",
    "end\n",
    "maps1()"
   ]
  },
  {
   "cell_type": "code",
   "execution_count": 8,
   "metadata": {},
   "outputs": [
    {
     "name": "stderr",
     "output_type": "stream",
     "text": [
      "WARNING: Method definition describe(AbstractArray{T, N} where N where T) in module StatsBase at /home/jrun/.julia/v0.6/StatsBase/src/scalarstats.jl:559 overwritten in module DataFrames at /home/jrun/.julia/v0.6/DataFrames/src/abstractdataframe/abstractdataframe.jl:407.\n",
      "WARNING: Compat.UTF8String is deprecated, use String instead.\n",
      "  likely near In[8]:30\n",
      "WARNING: Compat.UTF8String is deprecated, use String instead.\n",
      "  likely near In[8]:30\n",
      "WARNING: Compat.UTF8String is deprecated, use String instead.\n",
      "  likely near In[8]:30\n",
      "WARNING: Compat.UTF8String is deprecated, use String instead.\n",
      "  likely near In[8]:30\n",
      "WARNING: Compat.UTF8String is deprecated, use String instead.\n",
      "  likely near In[8]:30\n",
      "WARNING: Compat.UTF8String is deprecated, use String instead.\n",
      "  likely near In[8]:30\n",
      "WARNING: Compat.UTF8String is deprecated, use String instead.\n",
      "  likely near In[8]:30\n",
      "WARNING: Compat.UTF8String is deprecated, use String instead.\n",
      "  likely near In[8]:30\n",
      "WARNING: Compat.UTF8String is deprecated, use String instead.\n",
      "  likely near In[8]:30\n",
      "  % Total    % Received % Xferd  Average Speed   Time    Time     Time  Current\n",
      "                                 Dload  Upload   Total   Spent    Left  Speed\n",
      "100  128k  100  128k    0     0   503k      0 --:--:-- --:--:-- --:--:--  505k\n",
      "WARNING: Compat.UTF8String is deprecated, use String instead.\n",
      "  likely near In[8]:30\n",
      "WARNING: Compat.UTF8String is deprecated, use String instead.\n",
      "  likely near In[8]:30\n",
      "WARNING: Compat.UTF8String is deprecated, use String instead.\n",
      "  likely near In[8]:30\n",
      "WARNING: Compat.UTF8String is deprecated, use String instead.\n",
      "  likely near In[8]:30\n",
      "WARNING: Compat.UTF8String is deprecated, use String instead.\n",
      "  likely near In[8]:30\n",
      "WARNING: Compat.UTF8String is deprecated, use String instead.\n",
      "  likely near In[8]:30\n",
      "WARNING: Compat.UTF8String is deprecated, use String instead.\n",
      "  likely near In[8]:30\n",
      "WARNING: Compat.UTF8String is deprecated, use String instead.\n",
      "  likely near In[8]:30\n",
      "WARNING: Compat.UTF8String is deprecated, use String instead.\n",
      "  likely near In[8]:30\n",
      "WARNING: Compat.UTF8String is deprecated, use String instead.\n",
      "  likely near In[8]:30\n",
      "in #readtable#82 at /home/jrun/.julia/v0.6/DataFrames/src/dataframe/io.jl\n",
      "WARNING: Compat.UTF8String is deprecated, use String instead.\n",
      "  likely near In[8]:30\n",
      "in #readtable#82 at /home/jrun/.julia/v0.6/DataFrames/src/dataframe/io.jl\n",
      "WARNING: Compat.UTF8String is deprecated, use String instead.\n",
      "  likely near In[8]:30\n",
      "WARNING: Compat.UTF8String is deprecated, use String instead.\n",
      "  likely near In[8]:30\n",
      "WARNING: Compat.UTF8String is deprecated, use String instead.\n",
      "  likely near In[8]:30\n",
      "WARNING: Compat.UTF8String is deprecated, use String instead.\n",
      "  likely near In[8]:30\n",
      "WARNING: Compat.UTF8String is deprecated, use String instead.\n",
      "  likely near In[8]:30\n",
      "WARNING: Compat.UTF8String is deprecated, use String instead.\n",
      "  likely near In[8]:30\n",
      "WARNING: Compat.UTF8String is deprecated, use String instead.\n",
      "  likely near In[8]:30\n",
      "in builddf at /home/jrun/.julia/v0.6/DataFrames/src/dataframe/io.jl\n"
     ]
    }
   ],
   "source": [
    "using DataFrames\n",
    "\n",
    "function maps2()\n",
    "    # read Data into dataframe\n",
    "    nm = tempname()\n",
    "    url = \"https://raw.githubusercontent.com/plotly/datasets/master/2014_us_cities.csv\"\n",
    "    download(url, nm)\n",
    "    df = readtable(nm)\n",
    "    rm(nm)\n",
    "\n",
    "    trace = scattergeo(;locationmode=\"USA-states\",\n",
    "                        lat=df[:lat],\n",
    "                        lon=df[:lon],\n",
    "                        hoverinfo=\"text\",\n",
    "                        text=[string(x[:name], \" pop: \", x[:pop]) for x in eachrow(df)],\n",
    "                        marker_size=df[:pop]/50_000,\n",
    "                        marker_line_color=\"black\", marker_line_width=2)\n",
    "    geo = attr(scope=\"usa\",\n",
    "               projection_type=\"albers usa\",\n",
    "               showland=true,\n",
    "               landcolor=\"rgb(217, 217, 217)\",\n",
    "               subunitwidth=1,\n",
    "               countrywidth=1,\n",
    "               subunitcolor=\"rgb(255,255,255)\",\n",
    "               countrycolor=\"rgb(255,255,255)\")\n",
    "\n",
    "    layout = Layout(;title=\"2014 US City Populations\", showlegend=false, geo=geo)\n",
    "    plot(trace, layout)\n",
    "end\n",
    "maps2()"
   ]
  },
  {
   "cell_type": "code",
   "execution_count": null,
   "metadata": {},
   "outputs": [],
   "source": []
  }
 ],
 "metadata": {
  "kernelspec": {
   "display_name": "Julia 0.6.2",
   "language": "julia",
   "name": "julia-0.6"
  },
  "language_info": {
   "file_extension": ".jl",
   "mimetype": "application/julia",
   "name": "julia",
   "version": "0.6.2"
  }
 },
 "nbformat": 4,
 "nbformat_minor": 2
}
