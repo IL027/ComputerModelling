{
 "cells": [
  {
   "cell_type": "markdown",
   "metadata": {},
   "source": [
    "# Lecture 6 - Thinking about place\n",
    "\n",
    "## Classroom exercise\n",
    "\n",
    "### Nigel de Noronha - Sociology"
   ]
  },
  {
   "cell_type": "markdown",
   "metadata": {},
   "source": [
    "**Setup code** - imports packages, sets up plotting of maps using `geopandas` Python package."
   ]
  },
  {
   "cell_type": "code",
   "execution_count": null,
   "metadata": {},
   "outputs": [],
   "source": [
    "using DataFrames\n",
    "using Plots\n",
    "import PyPlot\n",
    "using PyCall\n",
    "\n",
    "py\"\"\"\n",
    "import pandas as pd\n",
    "import geopandas as gpd\n",
    "import matplotlib.pyplot as plt\n",
    "\n",
    "import matplotlib\n",
    "matplotlib.rcParams['figure.figsize'] = [10, 8]\n",
    "\n",
    "cov_map = gpd.read_file(\"cov.geojson\")\n",
    "cov_map = cov_map.to_crs({\"init\": \"epsg:27700\"}) # use ONS GB projection\n",
    "\n",
    "def plot_map(map, df, column, left_on=\"lsoa11nm\", right_on=\"LSOA\", \n",
    "             cmap=\"PuBu\", **kwargs):\n",
    "    df = pd.DataFrame(df)\n",
    "    map = map.merge(df, left_on=left_on, right_on=right_on)\n",
    "    ax = map.plot(column=column, edgecolors=\"black\", cmap=cmap, **kwargs)\n",
    "    vmin = map[column].min()\n",
    "    vmax = map[column].max()\n",
    "    fig = ax.get_figure()\n",
    "    cax = fig.add_axes([0.9, 0.1, 0.03, 0.8])\n",
    "    sm = plt.cm.ScalarMappable(cmap=cmap, norm=plt.Normalize(vmin, vmax))\n",
    "    sm._A = []\n",
    "    fig.colorbar(sm, cax=cax)\n",
    "\"\"\"\n",
    "py_plot_map = py\"plot_map\"\n",
    "cov_map = py\"cov_map\"\n",
    "\n",
    "plot_map(map, df, column; args...) = \n",
    "    py_plot_map(map, Dict(zip(names(df), DataFrames.columns(df))), String(column); args...)"
   ]
  },
  {
   "cell_type": "markdown",
   "metadata": {},
   "source": [
    "## Introduction\n",
    "\n",
    "Open the dataset `age.csv`. The header shows the age bands and each cell holds the count for each LSOA. "
   ]
  },
  {
   "cell_type": "code",
   "execution_count": null,
   "metadata": {},
   "outputs": [],
   "source": [
    "age = readtable(\"age.csv\")\n",
    "head(age)"
   ]
  },
  {
   "cell_type": "markdown",
   "metadata": {},
   "source": [
    "If the `geopandas` Python package is installed, we can visualise this data on a map, e.g. to look at the numbers of people between the ages of 20 and 24:"
   ]
  },
  {
   "cell_type": "code",
   "execution_count": null,
   "metadata": {},
   "outputs": [],
   "source": [
    "plot_map(cov_map, age, :a20_24)"
   ]
  },
  {
   "cell_type": "markdown",
   "metadata": {},
   "source": [
    "## Dependency ratios\n",
    "\n",
    "We will look at a couple of key demographic ratios, the age-related dependency ratios, and the way they vary between local areas in Coventry.\n",
    "\n",
    "The dependency ratios measure the relationship between the working age population, children and older people.  The working age population is defined as those aged 16-64.  Younger people are aged 0-15 and older people aged 65 or over.\n",
    "Calculate three new fields to hold these three figures for each LSOA.\n",
    "\n",
    "The child dependency ratio is calculated as \n",
    "\n",
    "$$\n",
    "\\text{Child dependency ratio} = \\frac{\\text{Number of children}}{\\text{Working age population}}\n",
    "$$\n",
    "\n",
    "The older people dependency ratio is calculated as \n",
    "\n",
    "$$\n",
    "\\text{Adult dependency ratio} = \\frac{\\text{Number of people aged 65 or over}}{\\text{Working age population}}\n",
    "$$\n",
    "\n",
    "a)\tcalculate the dependency ratios for each LSOA\n",
    "\n",
    "b)\tgenerate a histogram of the dependency ratios\n",
    "\n",
    "c)\tcalculate summary statistics (mean, standard deviation, minimum and maximum)"
   ]
  },
  {
   "cell_type": "markdown",
   "metadata": {},
   "source": [
    "### Solution to part (a)\n",
    "\n",
    "Looking at the column names, we can see which columns we need to include to count children, working age population and those over 65."
   ]
  },
  {
   "cell_type": "code",
   "execution_count": null,
   "metadata": {},
   "outputs": [],
   "source": [
    "names(age)"
   ]
  },
  {
   "cell_type": "markdown",
   "metadata": {},
   "source": [
    "We can count the number of people in each category by summing the relevant columns. We can then add two new columns to the `age` dataset with the dependency ratios. Note that we use `./` to do element-wise division"
   ]
  },
  {
   "cell_type": "code",
   "execution_count": null,
   "metadata": {},
   "outputs": [],
   "source": [
    "age[:children] = age[:a0_4] + age[:a5_7] + age[:a8_9] + age[:a10_14] + age[:a15] \n",
    "age[:working_age] = + age[:a16_17] + age[:a20_24] + age[:a25_29] + age[:a30_44] + age[:a45_59] + age[:a60_64]\n",
    "age[:over65] = age[:a75_84] + age[:a85_89] + age[:a90]\n",
    "\n",
    "age[:child_dep_ratio] = age[:children] ./ age[:working_age]\n",
    "age[:adult_dep_ratio] = age[:over65] ./ age[:working_age]\n",
    "\n",
    "head(age)"
   ]
  },
  {
   "cell_type": "markdown",
   "metadata": {},
   "source": [
    "### Solution to part (b)\n",
    "\n",
    "We can use the new columns we have computed to plot histograms of the two ratios:"
   ]
  },
  {
   "cell_type": "code",
   "execution_count": null,
   "metadata": {},
   "outputs": [],
   "source": [
    "histogram(age[:child_dep_ratio], label=\"Child dependency ratio\", alpha=0.5)\n",
    "histogram!(age[:adult_dep_ratio], label=\"Adult dependency ratio\", alpha=0.5)"
   ]
  },
  {
   "cell_type": "markdown",
   "metadata": {},
   "source": [
    "We can also plot these data on a map of Coventry:"
   ]
  },
  {
   "cell_type": "code",
   "execution_count": null,
   "metadata": {},
   "outputs": [],
   "source": [
    "plot_map(cov_map, age, :child_dep_ratio)"
   ]
  },
  {
   "cell_type": "code",
   "execution_count": null,
   "metadata": {},
   "outputs": [],
   "source": [
    "plot_map(cov_map, age, :adult_dep_ratio)"
   ]
  },
  {
   "cell_type": "markdown",
   "metadata": {},
   "source": [
    "### Solution to part (c)\n",
    "\n",
    "We can use `describe()` to show summary statistics:"
   ]
  },
  {
   "cell_type": "code",
   "execution_count": null,
   "metadata": {},
   "outputs": [],
   "source": [
    "describe(age[:child_dep_ratio])"
   ]
  },
  {
   "cell_type": "code",
   "execution_count": null,
   "metadata": {},
   "outputs": [],
   "source": [
    "describe(age[:adult_dep_ratio])"
   ]
  },
  {
   "cell_type": "markdown",
   "metadata": {},
   "source": [
    "## Public service demand\n",
    "\n",
    "In this application we will look at the school places required for Coventry using the 2011 census data.  In reality these calculations are regularly updated to try and reflect births and migration in and out of local areas.  We are interested in four education sectors:\n",
    "\n",
    "-\tPre-primary for ages 0-4\n",
    "-\tPrimary for ages 5-10\n",
    "-\tSecondary for ages 11-15\n",
    "-\tTertiary for ages 16-17\n",
    "\n",
    "You will notice that one of the age bands (10-14) goes across the boundary of the bands we want.  We can apportion this by taking 20% into primary and 80% into secondary.\n",
    "\n",
    "a)\tcalculate the number of potential students for each sector by LSOA\n",
    "\n",
    "b)\tcalculate summary statistics (mean, standard deviation, minimum and maximum)\n",
    "\n",
    "c)\tidentify the top five LSOAs for each education sector\n",
    "\n",
    "### Solution to part (a)\n",
    "\n",
    "We compute the new columns as before"
   ]
  },
  {
   "cell_type": "code",
   "execution_count": null,
   "metadata": {},
   "outputs": [],
   "source": [
    "age[:pre_primary] = age[:a0_4]\n",
    "age[:primary] = age[:a5_7] + age[:a8_9] + 0.2*age[:a10_14]\n",
    "age[:secondary] = 0.8*age[:a10_14] + age[:a15]\n",
    "age[:tertiary] = age[:a16_17];"
   ]
  },
  {
   "cell_type": "markdown",
   "metadata": {},
   "source": [
    "### Solution to part (b)\n",
    "\n",
    "As before, we can use `describe()` to print summary stats:"
   ]
  },
  {
   "cell_type": "code",
   "execution_count": null,
   "metadata": {},
   "outputs": [],
   "source": [
    "for sector in [:pre_primary, :primary, :secondary, :tertiary]\n",
    "    println(sector)\n",
    "    println(\"-----------\")\n",
    "    describe(age[sector])\n",
    "    println()\n",
    "end"
   ]
  },
  {
   "cell_type": "markdown",
   "metadata": {},
   "source": [
    "### Solution to part (c)\n",
    "\n",
    "We use `sort!()` to sort in place, specifying the column to sort by and that we want to reverse, so that the LSOAs with the largest numbers of places required come first. For example, for primary:"
   ]
  },
  {
   "cell_type": "code",
   "execution_count": null,
   "metadata": {},
   "outputs": [],
   "source": [
    "sort!(age, cols=:primary, rev=true)\n",
    "head(age[[:LSOA,:primary]], 5) # show the top 5"
   ]
  },
  {
   "cell_type": "markdown",
   "metadata": {},
   "source": [
    "We can also extract the relvant LSOAs directly:"
   ]
  },
  {
   "cell_type": "code",
   "execution_count": null,
   "metadata": {},
   "outputs": [],
   "source": [
    "age[1:5,:LSOA]"
   ]
  },
  {
   "cell_type": "markdown",
   "metadata": {},
   "source": [
    "We can loop over all the sectors, using `display()` to output the tables (otherwise only the last line of code in a cell leads to output)."
   ]
  },
  {
   "cell_type": "code",
   "execution_count": null,
   "metadata": {},
   "outputs": [],
   "source": [
    "for sector in [:pre_primary, :primary, :secondary, :tertiary]\n",
    "    sort!(age, cols=sector, rev=true)\n",
    "    display(head(age[[:LSOA, sector]], 5))\n",
    "end"
   ]
  },
  {
   "cell_type": "markdown",
   "metadata": {},
   "source": [
    "Finally, we can also plot these data on maps, e.g. to highlight the areas with highest demand for primary schools. We use `convert()` to make an integer array because `geopandas` doesn't know how to plot Boolean (`true`/`false`) data on maps."
   ]
  },
  {
   "cell_type": "code",
   "execution_count": null,
   "metadata": {},
   "outputs": [],
   "source": [
    "age[:top5_primary] = convert(Array{Int}, age[:primary] .>= 211.0) \n",
    "plot_map(cov_map, age, :top5_primary)"
   ]
  },
  {
   "cell_type": "code",
   "execution_count": null,
   "metadata": {},
   "outputs": [],
   "source": []
  }
 ],
 "metadata": {
  "kernelspec": {
   "display_name": "Julia 0.6.2",
   "language": "julia",
   "name": "julia-0.6"
  },
  "language_info": {
   "file_extension": ".jl",
   "mimetype": "application/julia",
   "name": "julia",
   "version": "0.6.2"
  }
 },
 "nbformat": 4,
 "nbformat_minor": 2
}
