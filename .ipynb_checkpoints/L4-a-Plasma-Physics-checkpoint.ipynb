{
 "cells": [
  {
   "cell_type": "markdown",
   "metadata": {},
   "source": [
    "# Lecture 4a - Plasma Physics\n",
    "\n",
    "**Christopher Brady and Heather Ratcliffe**\n",
    "\n",
    "** Research Software Engineering / Physics **\n",
    "\n",
    "## Overview"
   ]
  },
  {
   "cell_type": "markdown",
   "metadata": {},
   "source": [
    "This topic is going to cover Plasma Physics. Plasmas (more on this in a moment) are sometimes called the fourth state of matter and are ubiquitous in physics. They're vitally important in astrophysics, solar-terrestrial physics such as space weather, space flight, and on Earth they are key in many lab experiments, industrial applications and nuclear fusion devices. \n",
    "\n",
    "Plasmas are described by an apparently simple set of equations which we'll introduce to you fully in the second part of this lecture, understandable without complex mathematics, but in practice, these equations are almost insoluble on paper. There are two primary reasons for this. \n",
    "\n",
    "Firstly the topic of non-linearity, which you will likely meet again in the complexity topic. Linearity means that  the addition of two (or more) solutions to the equations is itself a solution. For instance a violin string can play several notes at once without the notes interfering with each other. This feature allows massive simplifications, but doesn't hold in many interesting plasmas (including most of those mentioned above).\n",
    "\n",
    "Secondly, there is the sheer number of particles in a plasma. The number of particles per cubic metre can reach $10^{20}$ or even $10^{30}$. Simulating each individual particle of even a small blob of plasma on today's largest computers would take years. If the particles are all allowed to interact in pairs, the problem is simply impossible. Even in space plasmas where densities are much lower, the distances involved are much larger and the problem gets no easier.\n",
    "\n",
    "These, and other reasons, mean that computer simulations of plasmas and how they are affected by electromagnetic radiation, other sorts of waves (sound waves for example) and how their particles, move, interact, collide, radiate, and undergo nuclear fusion or fission are vital. This lecture will briefly describe what a plasma is, and go through some of the simplest physics that we do on a computer.\n",
    "\n",
    "This lecture is explicitly split into two. The first part is tied to the exercises for this section and concentrates mostly on being understandable without extensive background but more represents the very beginnings of computational plasma physics rather than common tools in use by researchers. The second part gives a very, very brief introduction to more realistic simulations but has no exerises associated with it directly, since it is rather more complicated."
   ]
  },
  {
   "cell_type": "markdown",
   "metadata": {},
   "source": [
    "# Plasma Physics in a nutshell - Plasmas and waves"
   ]
  },
  {
   "cell_type": "markdown",
   "metadata": {},
   "source": [
    "Plasma is a different state of matter. If you heat a solid, it melts into a liquid, if you heat a liquid, it boils into a gas and finally if you heat a gas enough the electrons in it's atoms are pulled out of their orbits by the violence of their thermal motions and you have a plasma.\n",
    "\n",
    "You are left with a collection of freely moving, uncoupled, negatively charged electrons and positively charged ions. In many senses it still behaves like a gas: you can define pressure, temperature and density for a plasma. The difference comes only when a plasma interacts with an electromagnetic (EM) field, such as a light source (usually a powerful laser in laboratory situations). Like metals, the free electrons move collectively in response to applied EM fields, but unlike in metals where the strong metal lattice holds the atoms in place, the ions in a plasma are also free to move. The collective motions of electrons and ions means that *moving plasma generates it's own additional EM fields* leading to complex behaviours much richer than exist in normal gasses. Despite all of this additional richness, one of the most important ways of looking at plasmas is in terms of the waves in them."
   ]
  },
  {
   "cell_type": "markdown",
   "metadata": {},
   "source": [
    "## Waves in overview\n",
    "Waves are a common phenomenon that we see in everyday life. You see waves in water, waves on strings, waves of traffic during the rush hour and of course rely on sound waves to talk to each other. You tend to think of a wave as \"an oscillation in something\". The string oscillates when you pluck it etc. At a deeper level, waves are two or more coupled forms of energy that exchange back and forth. You start the oscillation by introducing energy in one form (plucking the string) and it converts to the other form and then back again. A wave on a string exchanges energy between elastic energy and kinetic energy - the parts of the string that are most taut are the ones that aren't moving and the parts that are moving fastest have little or no elastic energy in them. Waves in water exchange kinetic energy of the fluid with gravitational energy as they rise up, and sound waves exchange kinetic energy and energy in the fluid pressure as the air compresses and expands.\n",
    "\n",
    "More mathematically, in a uniform medium almost every phenomenon that gives rise to \"normal\" waves can be described by the wave equation (you actually usually get two wave equations, one for each of the energy forms, but they are uncoupled so you usually just consider one of them). This describes the behaviour of the wave as it varies in space and time and contains a single parameter $c$ which is the speed of the wave ($c$ is also a physical constant, the speed of light in vacuum. Here it's just a constant for this equation). In 1D the wave equation looks like\n",
    "\n",
    "$\\frac{\\partial^2 u}{\\partial t^2} = c^2 \\frac{\\partial^2 u}{\\partial x^2}$\n",
    "\n",
    "you don't really need to understand this equation here, but if you're feeling mathematically inclined you can test that there are an infinite number of solutions, all of the form $u=f(x-ct)$, where $f$ is any \"well behaved\" (differentiable (strictly holomorphic)) function. (Aside: The $\\partial$ operator is the partial derivative. It doesn't really matter what it is, but you evaluate it like the full derivatives in a single variable that you're familiar with. So $\\partial (x^2)/\\partial x = 2x$ just as expected.) The classic wave that we all know and love comes about when you use $u=\\sin{(x-ct)}$, but if you try $u=(x-ct)^3$ you'll find that it's still a solution."
   ]
  },
  {
   "cell_type": "code",
   "execution_count": null,
   "metadata": {
    "scrolled": false
   },
   "outputs": [],
   "source": [
    "#Creates an approximation to a travelling wave on a finite grid\n",
    "nx=100 # Number of space points\n",
    "nt=100 # Number of time points\n",
    "u=zeros(nx,nt)\n",
    "x=linspace(0.,1.0,nx)\n",
    "t=linspace(0.,1.0,nt)\n",
    "\n",
    "c = 1.0 #Speed of the wave\n",
    "for ix in 1:nx\n",
    "    for it in 1:nt\n",
    "        #Multiply by 4pi to make the graph look interesting\n",
    "        u[ix,it] = sin(4.0*pi*(x[ix] - c * t[it]))\n",
    "    end\n",
    "end\n",
    "\n",
    "using Plots\n",
    "plotlyjs()\n",
    "plot(x,t,u,fill=true,xlab=\"space\",ylab=\"time\")"
   ]
  },
  {
   "cell_type": "markdown",
   "metadata": {},
   "source": [
    "You can define an equivalent form for waves with varying speeds, but writing down the solution is much harder. In the most general cases you can get waves that have wave speeds that depend on position, time and frequency. In general these equations can only be solved numerically. Waves where the speed of propagation depend on frequency are called *dispersive*, and in general most physically interesting waves are dispersive to a greater or lesser degree."
   ]
  },
  {
   "cell_type": "markdown",
   "metadata": {},
   "source": [
    "## Waves in vacuum"
   ]
  },
  {
   "cell_type": "markdown",
   "metadata": {},
   "source": [
    "### Overview\n",
    "\n",
    "In a perfect vacuum, there is no matter. There can be no sound waves, no plucked strings because there is no material to carry the wave, but waves do still exist even in a perfect vacuum. By far the most common kind of wave that exists in a vacuum is the electromagnetic (EM) wave (there are also more exotic waves like gravity waves, but we'll ignore them here).\n",
    "\n",
    "Electromagnetic waves also exchange energy between two forms. As the name suggests EM waves consist of a paired electric field (usually called an E field) and magnetic field (usually called a B field), and the wave is generated by the exchange of energy between these two fields.\n",
    "\n",
    "Because plasmas are formed by splitting up the atoms in a gas into charged electrons and ions and charged particles interact with electric and magnetic fields, it is necessary to start with a quick overview of electric and magnetic fields and EM waves before we can understand waves in plasmas.\n",
    "\n",
    "### Electric and Magnetic Fields as vector fields\n",
    "\n",
    "<img src=\"img/Magnet.png\">\n",
    "<sub><sup>Figure from Practical Physics N.H.Black and H.N.Davis (1913). Image in public domain.<sub><sup>\n",
    "\n",
    "Electric(E) and magnetic(B) fields are what are termed *vector fields* - that is that they have both a strength and a direction. The idea behind this should be familiar from the old experiment of putting iron filings on a piece of paper over a magnet. The lines that you see on the paper show the local direction of the magnetic field. This means that to define an electric or magnetic field you have to define both strength and direction of the fields. This is particularly important for defining electromagnetic waves.\n",
    "\n",
    "### Electromagnetic waves\n",
    "The fact that electric and magnetic fields have directions is very important, because it provides the last bit of the description of what an EM wave looks like. The E and B fields are oriented at 90 degrees to each other, and to the direction of the wave. So if you looked along an EM wave travelling towards you (and you could see electric and magnetic fields) you'd see the E field oscillating across your vision and the B field oscillating up and down. (The other way around, or both of them going diagonally is also quite possible, they just need to be at 90 degrees to each other). You can see this schematically below\n",
    "\n",
    "<img src=\"img/EMR.svg\">\n",
    "<sub><sup>Figure by SuperManu on Wikipedia. Used under creative commons license<sub><sup>\n",
    "\n",
    "### Wave speeds and dispersion relations\n",
    "Electromagnetic waves in a vacuum famously travel at a fixed speed $c \\approx 3 \\times 10^8 \\mathrm{m/s}$, and this can be seem from the wave equations for EM waves, $\\frac{\\partial^2 u}{\\partial t^2} = \\frac{1}{\\mu_0 \\epsilon_0} \\frac{\\partial^2 u}{\\partial x^2}$. $\\mu_0$ and $\\epsilon_0$ are both fundamental constants called the permiability of free space and the permittivity of free space, so $c^2=\\frac{1}{\\mu_0 \\epsilon_0}$ is also a constant. There is however a much simpler formula for the speed of a wave $c = f \\lambda$ where $f$ is the frequency and $\\lambda$ is the wavelength. You can combine these two forms to get an explicit relationship between the frequency and the wavelength.\n",
    "\n",
    "$\\lambda = \\frac{\\sqrt{\\mu_0 \\epsilon_0}}{f}$\n",
    "\n",
    "Generally, physicists don't work with the frequency and wavelength that we're all familiar with but with _angular frequency_ (confusingly often just called frequency by working physicists) $\\omega = 2\\pi f$ and _wavenumber_ $k = \\frac{2 \\pi}{\\lambda}$. Using these forms instead you get $\\frac{\\omega}{k} = \\sqrt{\\mu_0 \\epsilon_0} = c$. The equation $\\frac{\\omega}{k} = c$ is generally true, and is the formal definition of the *phase speed* of a wave (there is another kind of speed called the *group speed* $\\frac{\\partial \\omega}{\\partial k}$, but the difference is too subtle for a single lecture). The relation between $\\omega$ and $k$ is often called the *dispersion relation*.\n",
    "\n",
    "### Dispersion diagrams\n",
    "Once you have defined the dispersion relation between frequency and wavenumber it is often worth drawing the *dispersion diagram*. At it's simplest the dispersion diagram is just a graph of $k$ vs $\\omega$. Negative values of k simply change the direction of propagation from left to right to right to left. By convention $\\omega$ is generally kept positive (although some mathematical formalisms do use negative $\\omega$). An important point is to remember that a straight line (as in $\\omega = C * k$ where $C$ is a constant) means that a wave is non-dispersive (since $\\omega/k = C$)"
   ]
  },
  {
   "cell_type": "code",
   "execution_count": 8,
   "metadata": {
    "scrolled": true
   },
   "outputs": [
    {
     "data": {
      "text/html": [
       "<div id=\"8c11dfd7-47ec-49de-ba44-d36f155a795b\" class=\"plotly-graph-div\"></div>\n",
       "\n",
       "<script>\n",
       "    window.PLOTLYENV=window.PLOTLYENV || {};\n",
       "    window.PLOTLYENV.BASE_URL=\"https://plot.ly\";\n",
       "    require(['plotly'], function(Plotly) {\n",
       "        Plotly.newPlot('8c11dfd7-47ec-49de-ba44-d36f155a795b', [{\"showlegend\":true,\"mode\":\"lines\",\"xaxis\":\"x\",\"colorbar\":{\"title\":\"\"},\"line\":{\"color\":\"rgba(0, 0, 255, 1.000)\",\"width\":1,\"dash\":\"solid\",\"shape\":\"linear\"},\"y\":[1.0,0.98,0.96,0.94,0.92,0.9,0.88,0.86,0.84,0.82,0.8,0.78,0.76,0.74,0.72,0.7,0.68,0.66,0.64,0.62,0.6,0.58,0.56,0.54,0.52,0.5,0.48,0.46,0.44,0.42,0.4,0.38,0.36,0.34,0.32,0.3,0.28,0.26,0.24,0.22,0.2,0.18,0.16,0.14,0.12,0.1,0.08,0.06,0.04,0.02,0.0,0.02,0.04,0.06,0.08,0.1,0.12,0.14,0.16,0.18,0.2,0.22,0.24,0.26,0.28,0.3,0.32,0.34,0.36,0.38,0.4,0.42,0.44,0.46,0.48,0.5,0.52,0.54,0.56,0.58,0.6,0.62,0.64,0.66,0.68,0.7,0.72,0.74,0.76,0.78,0.8,0.82,0.84,0.86,0.88,0.9,0.92,0.94,0.96,0.98,1.0],\"type\":\"scatter\",\"name\":\"Ey\",\"yaxis\":\"y\",\"x\":[-1.0,-0.98,-0.96,-0.94,-0.92,-0.9,-0.88,-0.86,-0.84,-0.82,-0.8,-0.78,-0.76,-0.74,-0.72,-0.7,-0.68,-0.66,-0.64,-0.62,-0.6,-0.58,-0.56,-0.54,-0.52,-0.5,-0.48,-0.46,-0.44,-0.42,-0.4,-0.38,-0.36,-0.34,-0.32,-0.3,-0.28,-0.26,-0.24,-0.22,-0.2,-0.18,-0.16,-0.14,-0.12,-0.1,-0.08,-0.06,-0.04,-0.02,0.0,0.02,0.04,0.06,0.08,0.1,0.12,0.14,0.16,0.18,0.2,0.22,0.24,0.26,0.28,0.3,0.32,0.34,0.36,0.38,0.4,0.42,0.44,0.46,0.48,0.5,0.52,0.54,0.56,0.58,0.6,0.62,0.64,0.66,0.68,0.7,0.72,0.74,0.76,0.78,0.8,0.82,0.84,0.86,0.88,0.9,0.92,0.94,0.96,0.98,1.0]}],\n",
       "               {\"showlegend\":true,\"xaxis\":{\"showticklabels\":true,\"gridwidth\":0.5,\"tickvals\":[-1.0,-0.5,0.0,0.5,1.0],\"visible\":true,\"ticks\":\"inside\",\"range\":[-1.0,1.0],\"domain\":[0.07646908719743364,0.9934383202099737],\"tickmode\":\"array\",\"linecolor\":\"rgba(0, 0, 0, 1.000)\",\"showgrid\":true,\"title\":\"k (normalised units)\",\"mirror\":false,\"tickangle\":0,\"showline\":true,\"gridcolor\":\"rgba(0, 0, 0, 0.100)\",\"titlefont\":{\"color\":\"rgba(0, 0, 0, 1.000)\",\"family\":\"sans-serif\",\"size\":15},\"tickcolor\":\"rgb(0, 0, 0)\",\"ticktext\":[\"-1.0\",\"-0.5\",\"0.0\",\"0.5\",\"1.0\"],\"zeroline\":false,\"type\":\"-\",\"tickfont\":{\"color\":\"rgba(0, 0, 0, 1.000)\",\"family\":\"sans-serif\",\"size\":11},\"zerolinecolor\":\"rgba(0, 0, 0, 1.000)\",\"anchor\":\"y\"},\"paper_bgcolor\":\"rgba(255, 255, 255, 1.000)\",\"annotations\":[],\"height\":400,\"margin\":{\"l\":0,\"b\":20,\"r\":0,\"t\":20},\"plot_bgcolor\":\"rgba(255, 255, 255, 1.000)\",\"yaxis\":{\"showticklabels\":true,\"gridwidth\":0.5,\"tickvals\":[0.0,0.2,0.4,0.6000000000000001,0.8,1.0],\"visible\":true,\"ticks\":\"inside\",\"range\":[0.0,1.0],\"domain\":[0.07581474190726165,0.9901574803149606],\"tickmode\":\"array\",\"linecolor\":\"rgba(0, 0, 0, 1.000)\",\"showgrid\":true,\"title\":\"omega (normalised units)\",\"mirror\":false,\"tickangle\":0,\"showline\":true,\"gridcolor\":\"rgba(0, 0, 0, 0.100)\",\"titlefont\":{\"color\":\"rgba(0, 0, 0, 1.000)\",\"family\":\"sans-serif\",\"size\":15},\"tickcolor\":\"rgb(0, 0, 0)\",\"ticktext\":[\"0.0\",\"0.2\",\"0.4\",\"0.6\",\"0.8\",\"1.0\"],\"zeroline\":false,\"type\":\"-\",\"tickfont\":{\"color\":\"rgba(0, 0, 0, 1.000)\",\"family\":\"sans-serif\",\"size\":11},\"zerolinecolor\":\"rgba(0, 0, 0, 1.000)\",\"anchor\":\"x\"},\"legend\":{\"bordercolor\":\"rgba(0, 0, 0, 1.000)\",\"bgcolor\":\"rgba(255, 255, 255, 1.000)\",\"font\":{\"color\":\"rgba(0, 0, 0, 1.000)\",\"family\":\"sans-serif\",\"size\":11},\"y\":1.0,\"x\":1.0},\"width\":600}, {showLink: false});\n",
       "\n",
       "    });\n",
       " </script>\n"
      ]
     },
     "execution_count": 8,
     "metadata": {},
     "output_type": "execute_result"
    }
   ],
   "source": [
    "#Plots the dispersion diagram for an EM wave in a vacuum\n",
    "\n",
    "#Work with normalised units such that mu0 = epsilon0 = c = 1\n",
    "mu0 = 1.0\n",
    "epsilon0 = 1.0\n",
    "\n",
    "k = linspace(-1.0,1.0,101)\n",
    "w = sqrt.(mu0 * epsilon0 * k.^2)\n",
    "\n",
    "using Plots\n",
    "plotlyjs()\n",
    "plot(k, w, c=:blue, label=\"Ey\", xlab=\"k (normalised units)\", ylab =\"omega (normalised units)\")"
   ]
  },
  {
   "cell_type": "markdown",
   "metadata": {},
   "source": [
    "The dispersion relation is very boring for an EM wave in a vacuum, just a straight line, but it can get more interesting for a general wave."
   ]
  },
  {
   "cell_type": "markdown",
   "metadata": {},
   "source": [
    "## Waves in plasmas"
   ]
  },
  {
   "cell_type": "markdown",
   "metadata": {},
   "source": [
    "### Electron plasma (Langmuir) waves\n",
    "\n",
    "There are many forms of plasma waves, but the simplest is the Langmuir or electron plasma wave. In this wave, imagine the situation below.\n",
    "\n",
    "<img src=\"img/PlasmaFrequency0.png\">\n",
    "\n",
    "You have a chunk of plasma consisting of electrons and ions. The ions are much, much heavier than the electrons (1836.2 times heavier even for hydrogen and getting larger for heavier elements) so they don't move very fast compared to the electrons and can be almost ignored (for electron plasma waves).\n",
    "\n",
    "<img src=\"img/PlasmaFrequency.png\">\n",
    "\n",
    "Imagine that you take all of the electrons in a thin strip and displace them from their original location. Your plasma now has a region of low electron density and a region of high electron density. This leads to an electric field that increases linearly the further away you displace your strip ($x$), linearly with higher electron density ($n_e$) and scaled with the charge on an electron (a fundamental constant, but often written $q_0$)\n",
    "\n",
    "$E = \\frac{n_e q_0 x}{\\epsilon_0}$\n",
    "\n",
    "An electron within this region then experiences a force since it is a charged particle in an electric field\n",
    "\n",
    "$F_e = -q_0 E = - \\frac{n_e q_0^2 x}{\\epsilon_0} = C x$\n",
    "\n",
    " where $C$ is just gathering together terms in the equation that are not $x$. This form of force might look familiar from school science - it is the restoring force of a spring displaced from its natural length by a distance $x$ where $C$ is the spring constant (the spring constant is usually written $k$, but that would be confusing here). Combining that with Newton's law of motion $F_e = m_0 a = m_0 \\frac{\\partial^2 x}{\\partial t^2}$ (where $m_0$ is the mass of an electron) you can solve for the motion of an electron. It turns out to have exactly the same solution as a simple harmonic oscillator - oscillations with a frequency\n",
    " \n",
    "$\\omega_{pe} = \\sqrt{\\frac{n_e q_0^2}{\\epsilon_0 m_0}}$\n",
    "\n",
    "$\\omega_{pe}$ is called the electron plasma frequency and is the most important frequency in plasma physics. This derivation is not at all rigorous - it ignores lots of effects, most notably that the electrons moving back cancel some of the electric field that they generated when you displace them, but that expression for the plasma frequency is exact.\n",
    "\n",
    "### Dispersion of plasma waves\n",
    "$\\omega_{pe} = \\sqrt{\\frac{n_e q_0^2}{\\epsilon_0 m_0}}$ notably doesn't include any terms in $k$, so when you try to define the group speed $\\frac{\\partial \\omega}{\\partial k}$ you get 0, implying that this isn't a true wave. This isn't because the electron plasma wave doesn't exist, but because we're missing some important physics. Including thermal motions of the electrons allows you to derive a correction.\n",
    "\n",
    "Deriving the correction is far beyond the scope of a single lecture like this, so we'll just introduce the final dispersion relation (called the Bohm-Gross dispersion relation after it's first derivers)\n",
    "\n",
    "$\\omega^2 = \\omega_{pe}^2 + \\frac{3 k_B T_e k^2}{m_0} = \\omega_{pe}^2 + 3 v_{e,th}^2 k^2$\n",
    "\n",
    "$k_B$ is Boltzmann's constant and $T_e$ is the electron temperature and $v_{e,th}$ is the electron thermal velocity. The electron thermal velocity is the average speed of an electron as it undergoes random motion due to it's temperature."
   ]
  },
  {
   "cell_type": "code",
   "execution_count": 9,
   "metadata": {},
   "outputs": [
    {
     "data": {
      "text/html": [
       "<div id=\"0bc24b32-08f2-4db3-8de1-b196577c716c\" class=\"plotly-graph-div\"></div>\n",
       "\n",
       "<script>\n",
       "    window.PLOTLYENV=window.PLOTLYENV || {};\n",
       "    window.PLOTLYENV.BASE_URL=\"https://plot.ly\";\n",
       "    require(['plotly'], function(Plotly) {\n",
       "        Plotly.newPlot('0bc24b32-08f2-4db3-8de1-b196577c716c', [{\"showlegend\":true,\"mode\":\"lines\",\"xaxis\":\"x\",\"colorbar\":{\"title\":\"\"},\"line\":{\"color\":\"rgba(0, 0, 255, 1.000)\",\"width\":1,\"dash\":\"solid\",\"shape\":\"linear\"},\"y\":[6.082762530298219,5.963232925501341,5.843772634542181,5.7243859968840605,5.6050777189150605,5.48585291322063,5.366717142961979,5.247676472143664,5.12873752269268,5.009907539438129,4.89119446428167,4.772607021092118,4.654154813152802,4.535848435349938,4.417699603730097,4.299721305594715,4.181927973964959,4.064335691073475,3.9469624265622567,3.829828317341681,3.7129559976638147,3.596370989973179,3.4801021696368504,3.3641823198749266,3.248648797310116,3.1335443337899918,3.018918006844133,2.904826419758265,2.7913351433428724,2.6785204857633276,2.5664716751805647,2.455293563509654,2.345109989569194,2.23606797749979,2.128342992442773,2.022145529782166,1.9177293736117262,1.8154019152424434,1.71553695208705,1.618590346796805,1.5251187311711054,1.4358009382402588,1.3514607952107731,1.273087971975758,1.2018504251546631,1.139087644194697,1.0862695956930255,1.0449054333070706,1.016394535227177,1.001834863928275,1.001834863928275,1.016394535227177,1.0449054333070706,1.0862695956930255,1.139087644194697,1.2018504251546631,1.273087971975758,1.3514607952107731,1.4358009382402588,1.5251187311711054,1.618590346796805,1.71553695208705,1.8154019152424434,1.9177293736117262,2.022145529782166,2.128342992442773,2.23606797749979,2.345109989569194,2.455293563509654,2.5664716751805647,2.6785204857633276,2.7913351433428724,2.904826419758265,3.018918006844133,3.1335443337899918,3.248648797310116,3.3641823198749266,3.4801021696368504,3.596370989973179,3.7129559976638147,3.829828317341681,3.9469624265622567,4.064335691073475,4.181927973964959,4.299721305594715,4.417699603730097,4.535848435349938,4.654154813152802,4.772607021092118,4.89119446428167,5.009907539438129,5.12873752269268,5.247676472143664,5.366717142961979,5.48585291322063,5.6050777189150605,5.7243859968840605,5.843772634542181,5.963232925501341,6.082762530298219],\"type\":\"scatter\",\"name\":\"Ey\",\"yaxis\":\"y\",\"x\":[-2.0,-1.9595959595959596,-1.9191919191919191,-1.878787878787879,-1.8383838383838385,-1.797979797979798,-1.7575757575757576,-1.7171717171717171,-1.6767676767676767,-1.6363636363636365,-1.595959595959596,-1.5555555555555556,-1.5151515151515151,-1.4747474747474747,-1.4343434343434343,-1.393939393939394,-1.3535353535353536,-1.3131313131313131,-1.2727272727272727,-1.2323232323232323,-1.1919191919191918,-1.1515151515151516,-1.1111111111111112,-1.0707070707070707,-1.0303030303030303,-0.98989898989899,-0.9494949494949495,-0.9090909090909091,-0.8686868686868687,-0.8282828282828283,-0.7878787878787878,-0.7474747474747475,-0.7070707070707071,-0.6666666666666666,-0.6262626262626263,-0.5858585858585859,-0.5454545454545454,-0.5050505050505051,-0.46464646464646464,-0.42424242424242425,-0.3838383838383838,-0.3434343434343434,-0.30303030303030304,-0.26262626262626265,-0.2222222222222222,-0.18181818181818182,-0.1414141414141414,-0.10101010101010101,-0.06060606060606061,-0.020202020202020204,0.020202020202020204,0.06060606060606061,0.10101010101010101,0.1414141414141414,0.18181818181818182,0.2222222222222222,0.26262626262626265,0.30303030303030304,0.3434343434343434,0.3838383838383838,0.42424242424242425,0.46464646464646464,0.5050505050505051,0.5454545454545454,0.5858585858585859,0.6262626262626263,0.6666666666666666,0.7070707070707071,0.7474747474747475,0.7878787878787878,0.8282828282828283,0.8686868686868687,0.9090909090909091,0.9494949494949495,0.98989898989899,1.0303030303030303,1.0707070707070707,1.1111111111111112,1.1515151515151516,1.1919191919191918,1.2323232323232323,1.2727272727272727,1.3131313131313131,1.3535353535353536,1.393939393939394,1.4343434343434343,1.4747474747474747,1.5151515151515151,1.5555555555555556,1.595959595959596,1.6363636363636365,1.6767676767676767,1.7171717171717171,1.7575757575757576,1.797979797979798,1.8383838383838385,1.878787878787879,1.9191919191919191,1.9595959595959596,2.0]}],\n",
       "               {\"showlegend\":true,\"xaxis\":{\"showticklabels\":true,\"gridwidth\":0.5,\"tickvals\":[-2.0,-1.0,0.0,1.0,2.0],\"visible\":true,\"ticks\":\"inside\",\"range\":[-2.0,2.0],\"domain\":[0.04683945756780402,0.9934383202099739],\"tickmode\":\"array\",\"linecolor\":\"rgba(0, 0, 0, 1.000)\",\"showgrid\":true,\"title\":\"k (normalised units)\",\"mirror\":false,\"tickangle\":0,\"showline\":true,\"gridcolor\":\"rgba(0, 0, 0, 0.100)\",\"titlefont\":{\"color\":\"rgba(0, 0, 0, 1.000)\",\"family\":\"sans-serif\",\"size\":15},\"tickcolor\":\"rgb(0, 0, 0)\",\"ticktext\":[\"-2\",\"-1\",\"0\",\"1\",\"2\"],\"zeroline\":false,\"type\":\"-\",\"tickfont\":{\"color\":\"rgba(0, 0, 0, 1.000)\",\"family\":\"sans-serif\",\"size\":11},\"zerolinecolor\":\"rgba(0, 0, 0, 1.000)\",\"anchor\":\"y\"},\"paper_bgcolor\":\"rgba(255, 255, 255, 1.000)\",\"annotations\":[],\"height\":400,\"margin\":{\"l\":0,\"b\":20,\"r\":0,\"t\":20},\"plot_bgcolor\":\"rgba(255, 255, 255, 1.000)\",\"yaxis\":{\"showticklabels\":true,\"gridwidth\":0.5,\"tickvals\":[0.0,1.0,2.0,3.0,4.0,5.0,6.0],\"visible\":true,\"ticks\":\"inside\",\"range\":[0.0,6.0],\"domain\":[0.07581474190726165,0.9901574803149606],\"tickmode\":\"array\",\"linecolor\":\"rgba(0, 0, 0, 1.000)\",\"showgrid\":true,\"title\":\"omega (normalised units)\",\"mirror\":false,\"tickangle\":0,\"showline\":true,\"gridcolor\":\"rgba(0, 0, 0, 0.100)\",\"titlefont\":{\"color\":\"rgba(0, 0, 0, 1.000)\",\"family\":\"sans-serif\",\"size\":15},\"tickcolor\":\"rgb(0, 0, 0)\",\"ticktext\":[\"0\",\"1\",\"2\",\"3\",\"4\",\"5\",\"6\"],\"zeroline\":false,\"type\":\"-\",\"tickfont\":{\"color\":\"rgba(0, 0, 0, 1.000)\",\"family\":\"sans-serif\",\"size\":11},\"zerolinecolor\":\"rgba(0, 0, 0, 1.000)\",\"anchor\":\"x\"},\"legend\":{\"bordercolor\":\"rgba(0, 0, 0, 1.000)\",\"bgcolor\":\"rgba(255, 255, 255, 1.000)\",\"font\":{\"color\":\"rgba(0, 0, 0, 1.000)\",\"family\":\"sans-serif\",\"size\":11},\"y\":1.0,\"x\":1.0},\"width\":600}, {showLink: false});\n",
       "\n",
       "    });\n",
       " </script>\n"
      ]
     },
     "execution_count": 9,
     "metadata": {},
     "output_type": "execute_result"
    }
   ],
   "source": [
    "#Plots the dispersion diagram for an EM wave in a vacuum\n",
    "\n",
    "#work in normalised units so that wpe = 1 and v_therm = 1\n",
    "wpe = 1.0\n",
    "v_therm = 1.0\n",
    "\n",
    "k = linspace(-2.0,2.0,100)\n",
    "w = sqrt.(wpe^2 + (3 * v_therm * k).^2)\n",
    "\n",
    "using Plots\n",
    "plotlyjs()\n",
    "plot(k, w, c=:blue, label=\"Ey\", xlab=\"k (normalised units)\", ylab =\"omega (normalised units)\", ylim=[0,6])"
   ]
  },
  {
   "cell_type": "markdown",
   "metadata": {},
   "source": [
    "This is much more interesting. While at large $k$ the dispersion relation is back to being nearly a straight line (all wavelengths with the same speed), unlike the EM waves in a vacuum even at k=0 (infinite wavelength) there's a finite value of $\\omega$. This means that there's a minimum frequency (the electron plasma frequency) below which no electron plasma wave can exist. This means that if you try to drive a plasma at a frequency below the plasma frequency the energy will be absorbed. The reason for this is that below the plasma frequency the plasma can react collectively to damp the wave. At frequencies at or above the plasma frequency the wave acts \"too fast\" for this process to occur. (This isn't strictly true, but it's a decent approximation)\n",
    "\n",
    "### EM waves in a plasma\n",
    "\n",
    "Because EM waves have electric and magnetic fields in them, charged particles such as those in a plasma interact with them directly, just as they did to the electric field generated by moving a chunk of the plasma itself. The main effect at low intensities is due to the electric field and cause the electrons to oscillate (usually called \"quiver\" for historical reasons) at the same frequency as the laser. As you might expect, this effect of this motion is similar to the concept of moving a slab of plasma to generate electron plasma waves. It is, however, rather harder to derive the expressions\n",
    "\n",
    "The dispersion relation for an EM wave in a plasma is $\\omega^2 = \\omega_{pe}^2 + c^2 k^2$. This has two interesting features. At high values of $k$ (corresponding to short wavelength) the $\\omega_{pe}^2$ term is very small compared to the $c^2 k^2$ term, so $\\omega^2 \\approx c^2 k^2$. This means that at short wavelengths EM waves propagate almost exactly the same way they would in a vacuum.\n",
    "\n",
    "At the other end of very small $k$ the $\\omega_{pe}^2$ term dominates meaning that $\\omega$ is nearly constant and the group velocity is nearly zero. This is for much the same reason as for electron plasma waves. At low frequencies the plasma reacts collectively, acting as an aerial. The incoming EM radiation is converted into electron motion, which just like the electrons driven by a power amplifier or klystron in a transmitter aerial reemit the EM radiation back out again. At higher frequencies, the electrons still react in the same way but since you are trying to move them \"faster\" than their natural frequency the effect is incomplete and the wave is able to propagate into the plasma.\n",
    "\n",
    "### Other waves in plasmas\n",
    "\n",
    "Cataloguing the waves that plasmas can support is a fairly thankless task. You have a family of waves that exist in all plasmas (at least at some wavelengths) like electron plasma waves, EM waves and ion acoustic waves (sort of a bit like sound waves in a plasma), but those are a long way short of everything that can exist. When you add a background magnetic field to a plasma additional families of waves appear, and you have a whole range of waves from X and O modes to whistler waves and electron Bernstein waves. There are additional complications because waves are often first discovered in one regime (whether that's a certain type of plasma or a certain mathematical formalism) and then discovered again in another. If it isn't immediately clear that the two waves are the same, they are named separately and develop separate research communities and even when they are found to be the same wave the two names often stick around in the different communities anyway.\n",
    "\n",
    "### Combining waves - parametric instabilities\n",
    "\n",
    "Having a whole load of waves in your plasma isn't very interesting in itself. To get the observed richness of behaviour in plasmas you have to have mechanisms to couple between wave modes. We've already hinted that this happens because the electron plasma frequency appears in the dispersion relation for EM waves. There are actually a *lot* of mechanisms to couple energy between wave modes in a plasma, but one of the simplest (not that that's saying a lot) is the parametric instability. Parametric instabilities involve three or more interacting waves, and can be two waves combining into a single wave, a single wave breaking down into two waves, a wave losing energy by emitting another wave, a wave *gaining* energy from another wave or even more complicated combinations. They're a general wave phenomenon rather than plasma physics strictly, but they are important in plasma physics so we're going to cover them.\n",
    "\n",
    "While the maths of real parametric instabilities is very tricky, there's a couple of simple ways to get a heuristic grasp on what's going on. My preferred one is to ask the question \"what do you actually see locally when multiple waves are present at one place?\". The answer isn't very complex - you have locally a given energy (related to the frequency $\\omega$) and a given momentum (related to the wavenumber $k$). Howeverer the waves that we're talking about here are *linear* waves - that is that if you have two waves in the same place all of the fields etc. due to the waves combined is just the sum of the fields due to each wave individually (you can see this effect with waves on water. The wakes of two boats pass through each other happily and continue almost unchanged). This has a very important effect if you *could construct the local energy and momenta in more than one way*.\n",
    "\n",
    "So what if you could satisfy energy and momentum conservation in two ways? Say if you could have either a single EM wave or an EM wave (with a different frequency and wavelength) and an electron plasma wave? The physics doesn't \"know\" that one solution is special, so the final result is that you tend to get a conversion from your source wave to the two daughter waves. In this case some of your EM wave will convert to another EM wave plus an electron plasma wave. This process is called \"Stimulated Raman Scattering\" or \"SRS\" and is very important in laser plasma physics"
   ]
  }
 ],
 "metadata": {
  "kernelspec": {
   "display_name": "Julia 0.6.2",
   "language": "julia",
   "name": "julia-0.6"
  },
  "language_info": {
   "file_extension": ".jl",
   "mimetype": "application/julia",
   "name": "julia",
   "version": "0.6.2"
  }
 },
 "nbformat": 4,
 "nbformat_minor": 2
}
