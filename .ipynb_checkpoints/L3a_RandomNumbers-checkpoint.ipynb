{
 "cells": [
  {
   "cell_type": "markdown",
   "metadata": {},
   "source": [
    "# IL027 Core Lecture 3 part a - Random Numbers\n",
    "\n",
    "### Christoph Ortner\n",
    "\n",
    "### Mathematics Institute \n",
    "\n",
    "## Overview\n",
    "\n",
    "- Review of conditional `if` \n",
    "- generating random numbers: `rand, randn, randexp` \n",
    "- applications: Monte Carlo simulation of $\\pi$, Brownian motion \n",
    "- `Distributions.jl` package\n",
    "- fitting of distribution parameters"
   ]
  },
  {
   "cell_type": "code",
   "execution_count": 1,
   "metadata": {},
   "outputs": [],
   "source": [
    "using Plots\n",
    "Plots.gr();  \n",
    "# this selects a different plotting backend thatwe need on JuliaBox for \n",
    "# animations. See Plots.jl documentation for more detail"
   ]
  },
  {
   "cell_type": "markdown",
   "metadata": {},
   "source": [
    "## Review: Conditionals \n",
    "\n",
    "Before we get into the main topic of the lecture we briefly review a control flow statement that we introduced in L1-Assignment, but did not cover properly in L1 and L2. For example, consider implementing the Heaviside function \n",
    "$$\n",
    "    H(x) = \\begin{cases}\n",
    "        1, & x < 0  \\\\ \n",
    "        0, & x \\geq 0\n",
    "    \\end{cases}\n",
    "$$\n",
    "This can be achieved with an `if` statement."
   ]
  },
  {
   "cell_type": "code",
   "execution_count": 2,
   "metadata": {},
   "outputs": [
    {
     "data": {
      "text/plain": [
       "H (generic function with 1 method)"
      ]
     },
     "execution_count": 2,
     "metadata": {},
     "output_type": "execute_result"
    }
   ],
   "source": [
    "function H(x)\n",
    "    if x < 0 \n",
    "        return 1.0 \n",
    "    else \n",
    "        return 0.0 \n",
    "    end\n",
    "end"
   ]
  },
  {
   "cell_type": "code",
   "execution_count": 3,
   "metadata": {},
   "outputs": [
    {
     "data": {
      "text/html": [
       "<?xml version=\"1.0\" encoding=\"utf-8\"?>\n",
       "<svg xmlns=\"http://www.w3.org/2000/svg\" xmlns:xlink=\"http://www.w3.org/1999/xlink\" width=\"600\" height=\"400\" viewBox=\"0 0 600 400\">\n",
       "<defs>\n",
       "  <clipPath id=\"clip1000\">\n",
       "    <rect x=\"0\" y=\"0\" width=\"600\" height=\"400\"/>\n",
       "  </clipPath>\n",
       "</defs>\n",
       "<polygon clip-path=\"url(#clip1000)\" points=\"\n",
       "0,400 600,400 600,0 0,0 \n",
       "  \" fill=\"#ffffff\" fill-opacity=\"1\"/>\n",
       "<defs>\n",
       "  <clipPath id=\"clip1001\">\n",
       "    <rect x=\"120\" y=\"0\" width=\"421\" height=\"400\"/>\n",
       "  </clipPath>\n",
       "</defs>\n",
       "<polygon clip-path=\"url(#clip1000)\" points=\"\n",
       "39.1436,375.813 580.315,375.813 580.315,11.811 39.1436,11.811 \n",
       "  \" fill=\"#ffffff\" fill-opacity=\"1\"/>\n",
       "<defs>\n",
       "  <clipPath id=\"clip1002\">\n",
       "    <rect x=\"39\" y=\"11\" width=\"542\" height=\"365\"/>\n",
       "  </clipPath>\n",
       "</defs>\n",
       "<polyline clip-path=\"url(#clip1002)\" style=\"stroke:#000000; stroke-width:0.5; stroke-opacity:0.1; fill:none\" points=\"\n",
       "  63.7423,375.813 63.7423,11.811 \n",
       "  \"/>\n",
       "<polyline clip-path=\"url(#clip1002)\" style=\"stroke:#000000; stroke-width:0.5; stroke-opacity:0.1; fill:none\" points=\"\n",
       "  186.736,375.813 186.736,11.811 \n",
       "  \"/>\n",
       "<polyline clip-path=\"url(#clip1002)\" style=\"stroke:#000000; stroke-width:0.5; stroke-opacity:0.1; fill:none\" points=\"\n",
       "  309.729,375.813 309.729,11.811 \n",
       "  \"/>\n",
       "<polyline clip-path=\"url(#clip1002)\" style=\"stroke:#000000; stroke-width:0.5; stroke-opacity:0.1; fill:none\" points=\"\n",
       "  432.723,375.813 432.723,11.811 \n",
       "  \"/>\n",
       "<polyline clip-path=\"url(#clip1002)\" style=\"stroke:#000000; stroke-width:0.5; stroke-opacity:0.1; fill:none\" points=\"\n",
       "  555.716,375.813 555.716,11.811 \n",
       "  \"/>\n",
       "<polyline clip-path=\"url(#clip1002)\" style=\"stroke:#000000; stroke-width:0.5; stroke-opacity:0.1; fill:none\" points=\"\n",
       "  39.1436,375.813 580.315,375.813 \n",
       "  \"/>\n",
       "<polyline clip-path=\"url(#clip1002)\" style=\"stroke:#000000; stroke-width:0.5; stroke-opacity:0.1; fill:none\" points=\"\n",
       "  39.1436,284.813 580.315,284.813 \n",
       "  \"/>\n",
       "<polyline clip-path=\"url(#clip1002)\" style=\"stroke:#000000; stroke-width:0.5; stroke-opacity:0.1; fill:none\" points=\"\n",
       "  39.1436,193.812 580.315,193.812 \n",
       "  \"/>\n",
       "<polyline clip-path=\"url(#clip1002)\" style=\"stroke:#000000; stroke-width:0.5; stroke-opacity:0.1; fill:none\" points=\"\n",
       "  39.1436,102.812 580.315,102.812 \n",
       "  \"/>\n",
       "<polyline clip-path=\"url(#clip1002)\" style=\"stroke:#000000; stroke-width:0.5; stroke-opacity:0.1; fill:none\" points=\"\n",
       "  39.1436,11.811 580.315,11.811 \n",
       "  \"/>\n",
       "<polyline clip-path=\"url(#clip1000)\" style=\"stroke:#000000; stroke-width:1; stroke-opacity:1; fill:none\" points=\"\n",
       "  39.1436,375.813 580.315,375.813 \n",
       "  \"/>\n",
       "<polyline clip-path=\"url(#clip1000)\" style=\"stroke:#000000; stroke-width:1; stroke-opacity:1; fill:none\" points=\"\n",
       "  39.1436,375.813 39.1436,11.811 \n",
       "  \"/>\n",
       "<polyline clip-path=\"url(#clip1000)\" style=\"stroke:#000000; stroke-width:1; stroke-opacity:1; fill:none\" points=\"\n",
       "  63.7423,375.813 63.7423,370.353 \n",
       "  \"/>\n",
       "<polyline clip-path=\"url(#clip1000)\" style=\"stroke:#000000; stroke-width:1; stroke-opacity:1; fill:none\" points=\"\n",
       "  186.736,375.813 186.736,370.353 \n",
       "  \"/>\n",
       "<polyline clip-path=\"url(#clip1000)\" style=\"stroke:#000000; stroke-width:1; stroke-opacity:1; fill:none\" points=\"\n",
       "  309.729,375.813 309.729,370.353 \n",
       "  \"/>\n",
       "<polyline clip-path=\"url(#clip1000)\" style=\"stroke:#000000; stroke-width:1; stroke-opacity:1; fill:none\" points=\"\n",
       "  432.723,375.813 432.723,370.353 \n",
       "  \"/>\n",
       "<polyline clip-path=\"url(#clip1000)\" style=\"stroke:#000000; stroke-width:1; stroke-opacity:1; fill:none\" points=\"\n",
       "  555.716,375.813 555.716,370.353 \n",
       "  \"/>\n",
       "<polyline clip-path=\"url(#clip1000)\" style=\"stroke:#000000; stroke-width:1; stroke-opacity:1; fill:none\" points=\"\n",
       "  39.1436,375.813 47.2612,375.813 \n",
       "  \"/>\n",
       "<polyline clip-path=\"url(#clip1000)\" style=\"stroke:#000000; stroke-width:1; stroke-opacity:1; fill:none\" points=\"\n",
       "  39.1436,284.813 47.2612,284.813 \n",
       "  \"/>\n",
       "<polyline clip-path=\"url(#clip1000)\" style=\"stroke:#000000; stroke-width:1; stroke-opacity:1; fill:none\" points=\"\n",
       "  39.1436,193.812 47.2612,193.812 \n",
       "  \"/>\n",
       "<polyline clip-path=\"url(#clip1000)\" style=\"stroke:#000000; stroke-width:1; stroke-opacity:1; fill:none\" points=\"\n",
       "  39.1436,102.812 47.2612,102.812 \n",
       "  \"/>\n",
       "<polyline clip-path=\"url(#clip1000)\" style=\"stroke:#000000; stroke-width:1; stroke-opacity:1; fill:none\" points=\"\n",
       "  39.1436,11.811 47.2612,11.811 \n",
       "  \"/>\n",
       "<g clip-path=\"url(#clip1000)\">\n",
       "<text style=\"fill:#000000; fill-opacity:1; font-family:Arial,Helvetica Neue,Helvetica,sans-serif; font-size:12; text-anchor:middle;\" transform=\"rotate(0, 63.7423, 389.613)\" x=\"63.7423\" y=\"389.613\">-1.0</text>\n",
       "</g>\n",
       "<g clip-path=\"url(#clip1000)\">\n",
       "<text style=\"fill:#000000; fill-opacity:1; font-family:Arial,Helvetica Neue,Helvetica,sans-serif; font-size:12; text-anchor:middle;\" transform=\"rotate(0, 186.736, 389.613)\" x=\"186.736\" y=\"389.613\">-0.5</text>\n",
       "</g>\n",
       "<g clip-path=\"url(#clip1000)\">\n",
       "<text style=\"fill:#000000; fill-opacity:1; font-family:Arial,Helvetica Neue,Helvetica,sans-serif; font-size:12; text-anchor:middle;\" transform=\"rotate(0, 309.729, 389.613)\" x=\"309.729\" y=\"389.613\">0.0</text>\n",
       "</g>\n",
       "<g clip-path=\"url(#clip1000)\">\n",
       "<text style=\"fill:#000000; fill-opacity:1; font-family:Arial,Helvetica Neue,Helvetica,sans-serif; font-size:12; text-anchor:middle;\" transform=\"rotate(0, 432.723, 389.613)\" x=\"432.723\" y=\"389.613\">0.5</text>\n",
       "</g>\n",
       "<g clip-path=\"url(#clip1000)\">\n",
       "<text style=\"fill:#000000; fill-opacity:1; font-family:Arial,Helvetica Neue,Helvetica,sans-serif; font-size:12; text-anchor:middle;\" transform=\"rotate(0, 555.716, 389.613)\" x=\"555.716\" y=\"389.613\">1.0</text>\n",
       "</g>\n",
       "<g clip-path=\"url(#clip1000)\">\n",
       "<text style=\"fill:#000000; fill-opacity:1; font-family:Arial,Helvetica Neue,Helvetica,sans-serif; font-size:12; text-anchor:end;\" transform=\"rotate(0, 33.1436, 380.313)\" x=\"33.1436\" y=\"380.313\">-0.5</text>\n",
       "</g>\n",
       "<g clip-path=\"url(#clip1000)\">\n",
       "<text style=\"fill:#000000; fill-opacity:1; font-family:Arial,Helvetica Neue,Helvetica,sans-serif; font-size:12; text-anchor:end;\" transform=\"rotate(0, 33.1436, 289.313)\" x=\"33.1436\" y=\"289.313\">0.0</text>\n",
       "</g>\n",
       "<g clip-path=\"url(#clip1000)\">\n",
       "<text style=\"fill:#000000; fill-opacity:1; font-family:Arial,Helvetica Neue,Helvetica,sans-serif; font-size:12; text-anchor:end;\" transform=\"rotate(0, 33.1436, 198.312)\" x=\"33.1436\" y=\"198.312\">0.5</text>\n",
       "</g>\n",
       "<g clip-path=\"url(#clip1000)\">\n",
       "<text style=\"fill:#000000; fill-opacity:1; font-family:Arial,Helvetica Neue,Helvetica,sans-serif; font-size:12; text-anchor:end;\" transform=\"rotate(0, 33.1436, 107.312)\" x=\"33.1436\" y=\"107.312\">1.0</text>\n",
       "</g>\n",
       "<g clip-path=\"url(#clip1000)\">\n",
       "<text style=\"fill:#000000; fill-opacity:1; font-family:Arial,Helvetica Neue,Helvetica,sans-serif; font-size:12; text-anchor:end;\" transform=\"rotate(0, 33.1436, 16.311)\" x=\"33.1436\" y=\"16.311\">1.5</text>\n",
       "</g>\n",
       "<polyline clip-path=\"url(#clip1002)\" style=\"stroke:#009af9; stroke-width:3; stroke-opacity:1; fill:none\" points=\"\n",
       "  63.7423,102.812 68.7117,102.812 73.6812,102.812 78.6506,102.812 83.62,102.812 88.5895,102.812 93.5589,102.812 98.5283,102.812 103.498,102.812 108.467,102.812 \n",
       "  113.437,102.812 118.406,102.812 123.375,102.812 128.345,102.812 133.314,102.812 138.284,102.812 143.253,102.812 148.223,102.812 153.192,102.812 158.162,102.812 \n",
       "  163.131,102.812 168.1,102.812 173.07,102.812 178.039,102.812 183.009,102.812 187.978,102.812 192.948,102.812 197.917,102.812 202.886,102.812 207.856,102.812 \n",
       "  212.825,102.812 217.795,102.812 222.764,102.812 227.734,102.812 232.703,102.812 237.672,102.812 242.642,102.812 247.611,102.812 252.581,102.812 257.55,102.812 \n",
       "  262.52,102.812 267.489,102.812 272.459,102.812 277.428,102.812 282.397,102.812 287.367,102.812 292.336,102.812 297.306,102.812 302.275,102.812 307.245,102.812 \n",
       "  312.214,284.813 317.183,284.813 322.153,284.813 327.122,284.813 332.092,284.813 337.061,284.813 342.031,284.813 347,284.813 351.969,284.813 356.939,284.813 \n",
       "  361.908,284.813 366.878,284.813 371.847,284.813 376.817,284.813 381.786,284.813 386.756,284.813 391.725,284.813 396.694,284.813 401.664,284.813 406.633,284.813 \n",
       "  411.603,284.813 416.572,284.813 421.542,284.813 426.511,284.813 431.48,284.813 436.45,284.813 441.419,284.813 446.389,284.813 451.358,284.813 456.328,284.813 \n",
       "  461.297,284.813 466.266,284.813 471.236,284.813 476.205,284.813 481.175,284.813 486.144,284.813 491.114,284.813 496.083,284.813 501.052,284.813 506.022,284.813 \n",
       "  510.991,284.813 515.961,284.813 520.93,284.813 525.9,284.813 530.869,284.813 535.839,284.813 540.808,284.813 545.777,284.813 550.747,284.813 555.716,284.813 \n",
       "  \n",
       "  \"/>\n",
       "<polygon clip-path=\"url(#clip1000)\" points=\"\n",
       "493.758,62.931 562.315,62.931 562.315,32.691 493.758,32.691 \n",
       "  \" fill=\"#ffffff\" fill-opacity=\"1\"/>\n",
       "<polyline clip-path=\"url(#clip1000)\" style=\"stroke:#000000; stroke-width:1; stroke-opacity:1; fill:none\" points=\"\n",
       "  493.758,62.931 562.315,62.931 562.315,32.691 493.758,32.691 493.758,62.931 \n",
       "  \"/>\n",
       "<polyline clip-path=\"url(#clip1000)\" style=\"stroke:#009af9; stroke-width:3; stroke-opacity:1; fill:none\" points=\"\n",
       "  499.758,47.811 535.758,47.811 \n",
       "  \"/>\n",
       "<g clip-path=\"url(#clip1000)\">\n",
       "<text style=\"fill:#000000; fill-opacity:1; font-family:Arial,Helvetica Neue,Helvetica,sans-serif; font-size:12; text-anchor:start;\" transform=\"rotate(0, 541.758, 52.311)\" x=\"541.758\" y=\"52.311\">H</text>\n",
       "</g>\n",
       "</svg>\n"
      ]
     },
     "execution_count": 3,
     "metadata": {},
     "output_type": "execute_result"
    }
   ],
   "source": [
    "x = linspace(-1, 1, 100)\n",
    "plot(x, H.(x), lw = 3, xlims = (-1.1, 1.1), ylims = (-0.5, 1.5), label=\"H\")"
   ]
  },
  {
   "cell_type": "markdown",
   "metadata": {},
   "source": [
    "The general form of writing `if` statements can be looked up in the help text:"
   ]
  },
  {
   "cell_type": "code",
   "execution_count": 4,
   "metadata": {},
   "outputs": [
    {
     "name": "stdout",
     "output_type": "stream",
     "text": [
      "search: \u001b[1mi\u001b[22m\u001b[1mf\u001b[22m \u001b[1mi\u001b[22m\u001b[1mf\u001b[22mft \u001b[1mi\u001b[22m\u001b[1mf\u001b[22mft! \u001b[1mi\u001b[22m\u001b[1mf\u001b[22melse \u001b[1mi\u001b[22m\u001b[1mf\u001b[22mftshift g\u001b[1mi\u001b[22m\u001b[1mf\u001b[22m d\u001b[1mi\u001b[22m\u001b[1mf\u001b[22mf @g\u001b[1mi\u001b[22m\u001b[1mf\u001b[22m sh\u001b[1mi\u001b[22m\u001b[1mf\u001b[22mt! Un\u001b[1mi\u001b[22m\u001b[1mf\u001b[22mormScaling\n",
      "\n"
     ]
    },
    {
     "data": {
      "text/markdown": [
       "`if`-`elseif`-`else` performs conditional evaluation, which allows portions of code to be evaluated or not evaluated depending on the value of a boolean expression. Here is the anatomy of the `if`-`elseif`-`else` conditional syntax:\n",
       "\n",
       "```\n",
       "if x < y\n",
       "    println(\"x is less than y\")\n",
       "elseif x > y\n",
       "    println(\"x is greater than y\")\n",
       "else\n",
       "    println(\"x is equal to y\")\n",
       "end\n",
       "```\n",
       "\n",
       "If the condition expression `x < y` is true, then the corresponding block is evaluated; otherwise the condition expression `x > y` is evaluated, and if it is true, the corresponding block is evaluated; if neither expression is true, the `else` block is evaluated. The `elseif` and `else` blocks are optional, and as many `elseif` blocks as desired can be used.\n"
      ],
      "text/plain": [
       "`if`-`elseif`-`else` performs conditional evaluation, which allows portions of code to be evaluated or not evaluated depending on the value of a boolean expression. Here is the anatomy of the `if`-`elseif`-`else` conditional syntax:\n",
       "\n",
       "```\n",
       "if x < y\n",
       "    println(\"x is less than y\")\n",
       "elseif x > y\n",
       "    println(\"x is greater than y\")\n",
       "else\n",
       "    println(\"x is equal to y\")\n",
       "end\n",
       "```\n",
       "\n",
       "If the condition expression `x < y` is true, then the corresponding block is evaluated; otherwise the condition expression `x > y` is evaluated, and if it is true, the corresponding block is evaluated; if neither expression is true, the `else` block is evaluated. The `elseif` and `else` blocks are optional, and as many `elseif` blocks as desired can be used.\n"
      ]
     },
     "execution_count": 4,
     "metadata": {},
     "output_type": "execute_result"
    }
   ],
   "source": [
    "?if"
   ]
  },
  {
   "cell_type": "markdown",
   "metadata": {},
   "source": [
    "As usual, there are many alternative ways to implement `H`, e.g., using the ternary operator, \n",
    "```\n",
    "H1(x) = x < 0 ? 1.0 : 0.0\n",
    "```\n",
    "or simply a logical mask, \n",
    "```\n",
    "H2(x) = Float64(x < 0)\n",
    "```"
   ]
  },
  {
   "cell_type": "markdown",
   "metadata": {},
   "source": [
    "**Question:** write a function `incircle` that checks whether two coordinates `x`, `y` belong to the unit circle"
   ]
  },
  {
   "cell_type": "code",
   "execution_count": null,
   "metadata": {},
   "outputs": [],
   "source": []
  },
  {
   "cell_type": "markdown",
   "metadata": {},
   "source": [
    "## Random Numbers\n"
   ]
  },
  {
   "cell_type": "code",
   "execution_count": 5,
   "metadata": {},
   "outputs": [
    {
     "name": "stdout",
     "output_type": "stream",
     "text": [
      "search: \u001b[1mR\u001b[22m\u001b[1ma\u001b[22m\u001b[1mn\u001b[22m\u001b[1md\u001b[22m\u001b[1mo\u001b[22m\u001b[1mm\u001b[22mDevice\n",
      "\n",
      "Couldn't find \u001b[36mrandom\n",
      "\u001b[39mPerhaps you meant rand, rand!, randn, randn!, randexp, randjump or randperm\n"
     ]
    },
    {
     "data": {
      "text/markdown": [
       "No documentation found.\n",
       "\n",
       "Binding `random` does not exist.\n"
      ],
      "text/plain": [
       "No documentation found.\n",
       "\n",
       "Binding `random` does not exist.\n"
      ]
     },
     "execution_count": 5,
     "metadata": {},
     "output_type": "execute_result"
    }
   ],
   "source": [
    "?random"
   ]
  },
  {
   "cell_type": "code",
   "execution_count": null,
   "metadata": {},
   "outputs": [],
   "source": [
    "?rand"
   ]
  },
  {
   "cell_type": "code",
   "execution_count": null,
   "metadata": {},
   "outputs": [],
   "source": [
    "# compute a single random number in [0, 1]\n",
    "rand()"
   ]
  },
  {
   "cell_type": "code",
   "execution_count": null,
   "metadata": {},
   "outputs": [],
   "source": [
    "# compute many random numbers \n",
    "for n = 1:5 \n",
    "    println(rand())\n",
    "end "
   ]
  },
  {
   "cell_type": "code",
   "execution_count": null,
   "metadata": {},
   "outputs": [],
   "source": [
    "# or get a vector of random numbers \n",
    "x = rand(5)"
   ]
  },
  {
   "cell_type": "code",
   "execution_count": null,
   "metadata": {},
   "outputs": [],
   "source": [
    "println(\"random integer between 1 and 10:\")\n",
    "@show rand(1:10)\n",
    "println()\n",
    "println(\"random element from a collection:\")\n",
    "@show rand([\"the\", \"quick\", \"brown\", \"fox\"])\n",
    "println()\n",
    "println(\"A 2 x 2 matrix of random integers:\")\n",
    "@show rand(1:5, (2,2))\n",
    ";"
   ]
  },
  {
   "cell_type": "markdown",
   "metadata": {},
   "source": [
    "Specifically, `rand()` draws a random number from the **Uniform Distribution** on $[0, 1]$. More precisely, this means that, if `x = rand()` and $[a, b] \\subset [0, 1]$, then  \n",
    "$$\n",
    "    \\mathbb{P}\\big( x \\in [a, b] \\big) = b-a\n",
    "$$\n",
    "This is only one of many useful probability distributions. We will learn about other distributions below."
   ]
  },
  {
   "cell_type": "markdown",
   "metadata": {},
   "source": [
    "### Application: Compute π\n",
    "\n",
    "\n",
    "\n",
    "The area of the unit circle is $\\pi$. If we draw two random numbers $x, y$, uniformly distributed in $[-1, 1]$ then the probability that the point $(x, y)$ belongs to the unit circle is exactly $\\pi / 4$ (the area of the circle divided by the area of the square $[-1, 1]^2$.  Or, simpler, if we draw two random numbers $x, y$ uniformly distributed in $[0, 1]$ then the probability that $(x, y)$ belongs to the quarter unit circle is again $\\pi/4$. Therefore, to compute $\\pi$, we can simply draw many random numbers and compute the expectation that $(x,y)$ is in the quarter circle.\n",
    "\n",
    "<p><a href=\"https://commons.wikimedia.org/wiki/File:MonteCarloIntegrationCircle.svg#/media/File:MonteCarloIntegrationCircle.svg\"><img width=\"300\" src=\"https://upload.wikimedia.org/wikipedia/commons/thumb/2/20/MonteCarloIntegrationCircle.svg/1200px-MonteCarloIntegrationCircle.svg.png\" alt=\"MonteCarloIntegrationCircle.svg\"></a><br>By <a href=\"//commons.wikimedia.org/w/index.php?title=User:Yoderj&amp;action=edit&amp;redlink=1\" class=\"new\" title=\"User:Yoderj (page does not exist)\">User:Yoderj</a>, <a href=\"https://en.wikipedia.org/wiki/User:Mysid\" class=\"extiw\" title=\"w:User:Mysid\">Mysid</a> - <span class=\"int-own-work\" lang=\"en\">Own work</span>, derived in Inkscape from <a class=\"mw-selflink selflink\">Image:MonteCarloIntegrationCircle.svg</a>, <a href=\"http://creativecommons.org/publicdomain/zero/1.0/deed.en\" title=\"Creative Commons Zero, Public Domain Dedication\">CC0</a>, <a href=\"https://commons.wikimedia.org/w/index.php?curid=35608043\">Link</a></p>\n"
   ]
  },
  {
   "cell_type": "code",
   "execution_count": null,
   "metadata": {},
   "outputs": [],
   "source": [
    "# number of draws\n",
    "Nsamples = 1_000_000  \n",
    "\n",
    "# specify the function testing that two numbers are in the circle\n",
    "# NOTE: True ≡ 1, False ≡ 0\n",
    "incircle(x, y) = (x^2 + y^2 < 1)\n",
    "\n",
    "count = 0\n",
    "for n = 1:Nsamples \n",
    "    x, y = rand(), rand()\n",
    "    count += incircle(x, y) \n",
    "end \n",
    "approx_pi = 4 * count / Nsamples \n",
    "\n",
    "println(\"Approximation for π: \", approx_pi)\n",
    "println(\"Error: \", abs(π - approx_pi))"
   ]
  },
  {
   "cell_type": "markdown",
   "metadata": {},
   "source": [
    "The algorithm in the previous cell is in fact the simplest example of a Monte-Carlo Algorithm! See [Wikipedia](https://en.wikipedia.org/wiki/Monte_Carlo_method) for an introduction and for references."
   ]
  },
  {
   "cell_type": "markdown",
   "metadata": {},
   "source": [
    "Another very common distribution is the Gaussian, or Normal distribution $N(m, \\sigma)$, given by \n",
    "$$\n",
    "    \\mathbb{P}\\big( x \\in [a, b] \\big) = \\frac{1}{\\sqrt{\\pi}} \\int_{a}^b e^{- (x-m)^2/\\sigma} dx\n",
    "$$\n",
    "Here, $m$ is the mean and $\\sigma$ the *variance* of the distribution. Informally, the variance measures how far random numbers are spread out from their average value; see [Wikipedia](https://en.wikipedia.org/wiki/Variance) for more information and references.\n",
    "\n",
    "The normal distribution can be visualised as $\\mathbb{P}\\big( x \\in [a, b] \\big)$ being the shaded area under the curve:"
   ]
  },
  {
   "cell_type": "code",
   "execution_count": null,
   "metadata": {},
   "outputs": [],
   "source": [
    "a, b = 0.5, 1.5\n",
    "x = linspace(-3, 3, 200)\n",
    "f(x) = π^(-1/2) * exp(- x^2)\n",
    "plot(x, f.(x), lw=5, label = \"\", xlim=(-3.0, 3.0), ylim = (-0.05, 0.6))\n",
    "x1 = linspace(a, b, 100)\n",
    "plot!([x1[1];x1;x1[end];x1[1]], [0.0;f.(x1);0.0;0.0], lw=3, label=\"\", fill=true,\n",
    "        xticks = ([-3, 0, 0.5, 1.5, 3], \n",
    "                  [\"-3\", \"0\", \"a=0.5\", \"b=1.5\", \"3\"]), tickfont=font(13))\n"
   ]
  },
  {
   "cell_type": "markdown",
   "metadata": {},
   "source": [
    "More generally, if $f : \\mathbb{R} \\to \\mathbb{R}_+$ with $\\int_{\\mathbb{R}} f(x) dx = 1$ then a probability distribution is defined by \n",
    "$$\n",
    "    \\mathbb{P}(x \\in [a, b]) = \\int_a^b f(x) dx.\n",
    "$$\n",
    "Julia comes out of the box with \n",
    "* Uniform distribution: `rand` \n",
    "* Normal distribution: `randn` \n",
    "* exponential distribution: `randexp`"
   ]
  },
  {
   "cell_type": "markdown",
   "metadata": {},
   "source": [
    "### Application: Brownian Motion\n",
    "\n",
    "<p><a href=\"https://commons.wikimedia.org/wiki/File:Brownian_motion_large.gif#/media/File:Brownian_motion_large.gif\"><img src=\"https://upload.wikimedia.org/wikipedia/commons/c/c2/Brownian_motion_large.gif\" alt=\"Brownian motion large.gif\" height=\"240\" width=\"240\"></a><br>By <a href=\"//commons.wikimedia.org/w/index.php?title=User:Lookang&amp;action=edit&amp;redlink=1\" class=\"new\" title=\"User:Lookang (page does not exist)\">Lookang</a> Author of computer model: Francisco Esquembre, Fu-Kwun and lookang - <span class=\"int-own-work\" lang=\"en\">Own work</span>, <a href=\"https://creativecommons.org/licenses/by-sa/3.0\" title=\"Creative Commons Attribution-Share Alike 3.0\">CC BY-SA 3.0</a>, <a href=\"https://commons.wikimedia.org/w/index.php?curid=19140345\">Link</a></p>\n",
    "\n",
    "The above video shows a large and heavy particle moving randomly by bouncing off many smaller surrounding particles, for example, Pollen grains in water (Brown) or small dust particles in air (Lucretius); see [Wikipedia](https://en.wikipedia.org/wiki/Brownian_motion) for a nice introduction. There are in fact a wide variety of physical scenarios where such random motion occurs naturally. \n",
    "\n",
    "Instead of accounting for every particle in the \"bath\", Einstein proposed to replace the \"bath\" with a random forcing term. We will not go into the mathematical or physical details of this *Brownian Motion* but instead simulate a time-discrete variant thereof:\n",
    "$$\\begin{align*}\n",
    "    x_{n+1} &= x_n + \\sqrt{\\Delta t} R_n, \\\\ \n",
    "    y_{n+1} &= y_n + \\sqrt{\\Delta t} S_n\n",
    "\\end{align*}$$\n",
    "where $(x_n, y_n)$ are the position of the particle at time $n$ and \n",
    "$R_n, S_n \\sim N(0, 1)$ are independent and normally distributed random samples."
   ]
  },
  {
   "cell_type": "code",
   "execution_count": null,
   "metadata": {},
   "outputs": [],
   "source": [
    "Nsteps = 1_000\n",
    "dt = 0.1\n",
    "# allocate arrays \n",
    "x = zeros(Nsteps)\n",
    "y = zeros(Nsteps)\n",
    "# simulate the RW \n",
    "for n = 2:Nsteps \n",
    "    a, b = rand()-0.5, rand() - 0.5\n",
    "    x[n] = x[n-1] + sqrt(dt) * a \n",
    "    y[n] = y[n-1] + sqrt(dt) * b \n",
    "end "
   ]
  },
  {
   "cell_type": "code",
   "execution_count": null,
   "metadata": {},
   "outputs": [],
   "source": [
    "# and animation of the random walk\n",
    "@gif for n = 1:10:Nsteps\n",
    "    plot(x[1:n], y[1:n], xlim = (-6, 6), ylim = (-6, 6), label=\"\")\n",
    "    plot!([x[n]], [y[n]], lw=0, marker=:o, ms=8, label = \"\")\n",
    "end"
   ]
  },
  {
   "cell_type": "code",
   "execution_count": null,
   "metadata": {},
   "outputs": [],
   "source": [
    "# or a completely different interpretation? \n",
    "t = linspace(0, 365, Nsteps)\n",
    "plot(t, x, label=\"\")\n",
    "plot!(t, y, label=\"\", \n",
    "      xticks = (cumsum([31, 30, 31, 28, 31, 30, 31, 31, 30, 31, 30, 31]), \n",
    "                [\"Jan\", \"Feb\", \"Mar\", \"Apr\", \"May\", \"Jun\", \n",
    "                 \"Jul\", \"Aug\", \"Sep\", \"Oct\", \"Nov\", \"Dec\"]) )"
   ]
  },
  {
   "cell_type": "markdown",
   "metadata": {},
   "source": [
    "### Other Distributions\n",
    "\n",
    "Many distributions can be generated from `rand`, `randn` and `randexp`, however it is in general a subtle problem to implement new distributions in an efficient and numerically robust way. A better approach is to find a library that already has the needed distributions implemented: `Distributions.jl`"
   ]
  },
  {
   "cell_type": "code",
   "execution_count": null,
   "metadata": {},
   "outputs": [],
   "source": [
    "using Distributions"
   ]
  },
  {
   "cell_type": "code",
   "execution_count": null,
   "metadata": {},
   "outputs": [],
   "source": [
    "?Distributions"
   ]
  },
  {
   "cell_type": "markdown",
   "metadata": {},
   "source": [
    "### Application: speed of Maxwell particles\n",
    "\n",
    "Suppose a particle has velocity vector $\\mathbf{v} = (v_1, v_2, v_3)$ with $v_j \\sim N(\\bar{v}, 1)$ and independently distributed (Maxwell distribution). Then the *speed* of the particle is distributed according to the [Chi Distribution](https://en.wikipedia.org/wiki/Chi_distribution): \n",
    "$$\n",
    "    v = |\\mathbf{v}| = \\sqrt{v_1^2 + v_2^2 + v_3^2}\n",
    "$$"
   ]
  },
  {
   "cell_type": "code",
   "execution_count": null,
   "metadata": {},
   "outputs": [],
   "source": [
    "?Chi"
   ]
  },
  {
   "cell_type": "code",
   "execution_count": null,
   "metadata": {},
   "outputs": [],
   "source": [
    "@show D = Chi(3)\n",
    "@show mean(D)\n",
    "@show var(D)     # variance \n",
    ";"
   ]
  },
  {
   "cell_type": "markdown",
   "metadata": {},
   "source": [
    "For fun, we can perform a simple test that this is indeed the correct distribution, by creating samples of gaussian random vectors and putting their lengths into bins."
   ]
  },
  {
   "cell_type": "code",
   "execution_count": null,
   "metadata": {},
   "outputs": [],
   "source": [
    "Nsamples = 1_000_000\n",
    "# generate random speeds\n",
    "v = [ norm(randn(3))  for n = 1:Nsamples ]\n",
    "# Categorize into bins and plot the bins\n",
    "histogram(v, nbins = 100, normed=true, label = \"empirical\")\n",
    "# plot the probability density function on top \n",
    "x = linspace(0, 5, 100)\n",
    "plot!(x, pdf.(D, x), lw=3, label=\"theoretical\")\n"
   ]
  },
  {
   "cell_type": "markdown",
   "metadata": {},
   "source": [
    "### Fitting a distribution\n",
    "\n",
    "Suppose that we have some random (or, noisy) data, which we *believe* corresponds to a certain distribution but we don't know the correct parameters. Then `Distributions.jl` has a mechanism of determining the parameters for you: [Distribution Fitting](https://juliastats.github.io/Distributions.jl/latest/fit.html#Distribution-Fitting-1), implemented using [Maximum Likelihood estimation](https://en.wikipedia.org/wiki/Maximum_likelihood_estimation). We will not cover this method, but only use it."
   ]
  },
  {
   "cell_type": "code",
   "execution_count": null,
   "metadata": {},
   "outputs": [],
   "source": [
    "?fit"
   ]
  },
  {
   "cell_type": "markdown",
   "metadata": {},
   "source": [
    "**Warning:** Unfortunately, `fit` is not implemented for all distributions, e.g., it is not available for the $\\chi$-distribution."
   ]
  },
  {
   "cell_type": "code",
   "execution_count": null,
   "metadata": {},
   "outputs": [],
   "source": [
    "Nsamples = 1_000_000\n",
    "v = [ norm(randn(3))  for n = 1:Nsamples ]\n",
    "D = fit(Chi, v)"
   ]
  },
  {
   "cell_type": "markdown",
   "metadata": {},
   "source": [
    "However, the $\\chi^2$ fit is implemented, in that the $\\chi^2$-distribution is a special case of the $\\Gamma$-distribution."
   ]
  },
  {
   "cell_type": "code",
   "execution_count": null,
   "metadata": {},
   "outputs": [],
   "source": [
    "# create many random samples\n",
    "Nsamples = 1_000_000\n",
    "v = [ norm(randn(3))^2  for n = 1:Nsamples ]   \n",
    "# fit the data `v` to the Γ distribution \n",
    "D = fit(Gamma, v)"
   ]
  },
  {
   "cell_type": "code",
   "execution_count": null,
   "metadata": {},
   "outputs": [],
   "source": [
    "# Visualise the result to make sure the fit is ok!\n",
    "# Categorize data into bins and plot the height of the bins\n",
    "histogram(v, nbins = 100, normed=true, label = \"empirical\")\n",
    "# plot the probability density function on top \n",
    "x = linspace(0, 20, 200)\n",
    "plot!(x, pdf.(D, x), lw=3, label=\"fit to Gamma\", xlim=(-2, 22), ylim = (0,0.25))\n",
    "\n",
    "# # REMARK: if we naively fit to a normal (e.g.) then this \n",
    "# #         is of course admissible but the fit will be poor!\n",
    "# Dn = fit(Normal, v)\n",
    "# xn = linspace(-2, 15, 200)\n",
    "# plot!(x, pdf.(Dn, x), lw=3, ls = :dot, label=\"fit to Normal\", color = :black)"
   ]
  },
  {
   "cell_type": "markdown",
   "metadata": {},
   "source": [
    "### Remark on Random Number Generators\n",
    "\n",
    "A word of warning: a computer cannot generate *genuine* random numbers, instead it generates so-called pseudo-random numbers. They look (and for most practical purposes act) like real random numbers, but there are some limitations. For more on RNGs see [Wikipedia](https://en.wikipedia.org/wiki/Random_number_generation) and for more in RNGs in Julia see [the documentation](https://docs.julialang.org/en/stable/stdlib/numbers/#Random-Numbers-1)\n",
    "\n",
    "Look in particular at the documentation for `srand` in order to understand how to \"seed\" (i.e initialise) random number generators."
   ]
  },
  {
   "cell_type": "code",
   "execution_count": null,
   "metadata": {},
   "outputs": [],
   "source": [
    "?srand"
   ]
  }
 ],
 "metadata": {
  "kernelspec": {
   "display_name": "Julia 0.6.2",
   "language": "julia",
   "name": "julia-0.6"
  },
  "language_info": {
   "file_extension": ".jl",
   "mimetype": "application/julia",
   "name": "julia",
   "version": "0.6.2"
  }
 },
 "nbformat": 4,
 "nbformat_minor": 2
}
