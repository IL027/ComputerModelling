{
 "cells": [
  {
   "cell_type": "markdown",
   "metadata": {},
   "source": [
    "Before you turn this problem in, make sure everything runs as expected. First, **restart the kernel** (in the menubar, select Kernel$\\rightarrow$Restart) and then **run all cells** (in the menubar, select Cell$\\rightarrow$Run All).\n",
    "\n",
    "Make sure you fill in any place that says `YOUR CODE HERE` or \"YOUR ANSWER HERE\", as well as your name and collaborators below:"
   ]
  },
  {
   "cell_type": "code",
   "execution_count": null,
   "metadata": {},
   "outputs": [],
   "source": [
    "NAME = \"\"\n",
    "COLLABORATORS = \"\""
   ]
  },
  {
   "cell_type": "markdown",
   "metadata": {},
   "source": [
    "---"
   ]
  },
  {
   "cell_type": "code",
   "execution_count": null,
   "metadata": {
    "deletable": false,
    "editable": false,
    "nbgrader": {
     "checksum": "d8f9ce7d00384b1ef4003d19878a33c8",
     "grade": false,
     "grade_id": "cell-fc0d7c4b3edcee95",
     "locked": true,
     "schema_version": 1,
     "solution": false
    }
   },
   "outputs": [],
   "source": [
    "using LsqFit\n",
    "using DifferentialEquations\n",
    "using Plots\n",
    "using Base.Test"
   ]
  },
  {
   "cell_type": "markdown",
   "metadata": {
    "deletable": false,
    "editable": false,
    "nbgrader": {
     "checksum": "c42895e7bcf55d4c51d4603728b1eb02",
     "grade": false,
     "grade_id": "cell-093c6bc8dbcdbb68",
     "locked": true,
     "schema_version": 1,
     "solution": false
    }
   },
   "source": [
    "# IL027 Computer Modelling for All\n",
    "\n",
    "## Lecture 2- Assignment\n",
    "\n",
    "Topics covered:\n",
    "\n",
    " - Ordinary differential equations\n",
    " - Plots and visualisation\n",
    " - Root finding \n",
    " \n",
    "Before attempting the questions,\n",
    "\n",
    "* log in to JuliaBox\n",
    "* ensure you have made no changes to the notebooks in the `ComputerModelling` repository, if so make a copy of those notebooks in your home space.\n",
    "* update the `ComputerModelling` repository by clicking on `Git` button from JuliaBox homepage, then pressing `Synchronize from remote` (double arrow icon).\n",
    "* make a copy of the `L2-Assignment.ipynb` notebook\n",
    "\n",
    "**WARNING:** You should never edit the cloned notebook directly, but always edit a copy in your home folder. If you edit the cloned copy them it will be overwritten, next time you pull the latest update from the IL027 repository.\n",
    "\n",
    "----\n",
    "\n",
    "### Introduction to World Population Modelling\n",
    "\n",
    "The United Nations considers [three possible scenarios](https://en.wikipedia.org/wiki/Projections_of_population_growth) of population growth in this century: (1) Exponential Growth, (2) Capped Growth and (3) Declining Population  The growth in each scenario can be forecasted by different variants of a ordinary differential equation [population model](https://en.wikipedia.org/wiki/Logistic_function#In_ecology:_modeling_population_growth)  defined by\n",
    "\n",
    "\\begin{align*}\n",
    "    \\frac{dP}{dt} = \\alpha\\, P\\, \\left(1-\\frac{P}{K}\\right)\n",
    "\\end{align*}\n",
    "\n",
    "where $P$ is the population in billions of people, $t$ is the time in years, $\\alpha$ is the population growth rate and $K$ is the carrying capacity in billions of people."
   ]
  },
  {
   "cell_type": "markdown",
   "metadata": {
    "deletable": false,
    "editable": false,
    "nbgrader": {
     "checksum": "e4cdea3d72844fa161f3c752bbd9976a",
     "grade": false,
     "grade_id": "cell-c7c0f6805fb5b723",
     "locked": true,
     "schema_version": 1,
     "solution": false
    }
   },
   "source": [
    "We begin by creating vectors with the world's population data for the period 1900 to 2017 [(data source)](https://esa.un.org/unpd/wpp/Download/Standard/Population/)."
   ]
  },
  {
   "cell_type": "code",
   "execution_count": null,
   "metadata": {
    "deletable": false,
    "editable": false,
    "nbgrader": {
     "checksum": "99c13507e6ba82f43c8c58b8d9256b0b",
     "grade": false,
     "grade_id": "cell-4e23356e102229f3",
     "locked": true,
     "schema_version": 1,
     "solution": false
    }
   },
   "outputs": [],
   "source": [
    "# historic population data from 1900 to 2017, in billions of people\n",
    "population = [1.65, 2.52, 5.98, 6.70, 6.90, 7.05, 7.48]\n",
    "year = [1900, 1950, 1999, 2008, 2010, 2012, 2017];"
   ]
  },
  {
   "cell_type": "markdown",
   "metadata": {
    "deletable": false,
    "editable": false,
    "nbgrader": {
     "checksum": "910fd9b12a9ffaabba1ab0f0607e9996",
     "grade": false,
     "grade_id": "cell-67b2164c0d2f0f7a",
     "locked": true,
     "schema_version": 1,
     "solution": false
    }
   },
   "source": [
    "**Question 1. (20%)** Plot a graph of population as a function of year using `Plots.jl`. Your plot should have axis labels and markers but no lines joining the data points - see the documentation on `scatter()` for suggestions."
   ]
  },
  {
   "cell_type": "code",
   "execution_count": null,
   "metadata": {
    "deletable": false,
    "nbgrader": {
     "checksum": "a0d36d9eb9447b45669337735008d387",
     "grade": true,
     "grade_id": "cell-b2b5d54b7f448745",
     "locked": false,
     "points": 20,
     "schema_version": 1,
     "solution": true
    }
   },
   "outputs": [],
   "source": [
    "YOUR CODE HERE"
   ]
  },
  {
   "cell_type": "markdown",
   "metadata": {
    "deletable": false,
    "editable": false,
    "nbgrader": {
     "checksum": "c37a2b8e14d58e65b6d1b7b56464b078",
     "grade": false,
     "grade_id": "cell-f7b1ebc988e2ef09",
     "locked": true,
     "schema_version": 1,
     "solution": false
    }
   },
   "source": [
    "### Scenario 1. - Exponential Growth\n",
    "\n",
    "The Exponential Growth scenario assumes there are so many resources on Earth that the carrying capacity is infinite, $K \\to \\infty$, giving\n",
    "\n",
    "\\begin{align*}\n",
    "    \\frac{dP}{dt} = \\alpha P\n",
    "\\end{align*}\n",
    "\n",
    "The population growth rate, $\\alpha$, is unknown, but we can estimate it via a least squares fit to the population data from 1900 to 2017."
   ]
  },
  {
   "cell_type": "code",
   "execution_count": null,
   "metadata": {
    "deletable": false,
    "editable": false,
    "nbgrader": {
     "checksum": "a9406020974fed7a827a664bd251a662",
     "grade": false,
     "grade_id": "cell-dd22338eda46d7da",
     "locked": true,
     "schema_version": 1,
     "solution": false
    }
   },
   "outputs": [],
   "source": [
    "P0 = population[1] # world population in 1900\n",
    "model(x, p) = P0*exp.(p[1].*x)\n",
    "fit = curve_fit(model, year .- 1900, population, [0.01])\n",
    "α = fit.param[1] # estimated population growth rate"
   ]
  },
  {
   "cell_type": "markdown",
   "metadata": {
    "deletable": false,
    "editable": false,
    "nbgrader": {
     "checksum": "2ce46c1a1a37fb5861977d20845d6e2c",
     "grade": false,
     "grade_id": "cell-389a79724a05fe9f",
     "locked": true,
     "schema_version": 1,
     "solution": false
    }
   },
   "source": [
    "Go through the above code and understand how it works. Try changing the initial guess $\\alpha=0.01$ to see how accurate it needs to be."
   ]
  },
  {
   "cell_type": "markdown",
   "metadata": {
    "deletable": false,
    "editable": false,
    "nbgrader": {
     "checksum": "c708f54cfc2ae3a684d2db0ed634a317",
     "grade": false,
     "grade_id": "cell-d6031b8bef09d526",
     "locked": true,
     "schema_version": 1,
     "solution": false
    }
   },
   "source": [
    "**Question 2a. (10%)** Define a function `dP1(t, P)` for the exponential growth population model. Use `ODEProblem()` and `solve()` from `DifferntialEquations.jl` to integrate this ODE to solve the model between 1900 and 2100. Name your solution `sol1`. "
   ]
  },
  {
   "cell_type": "code",
   "execution_count": null,
   "metadata": {
    "deletable": false,
    "nbgrader": {
     "checksum": "5a65bbcc9109a811f78a4de8656d8f49",
     "grade": false,
     "grade_id": "cell-5d825534c06f7788",
     "locked": false,
     "schema_version": 1,
     "solution": true
    }
   },
   "outputs": [],
   "source": [
    "YOUR CODE HERE"
   ]
  },
  {
   "cell_type": "code",
   "execution_count": null,
   "metadata": {
    "deletable": false,
    "editable": false,
    "nbgrader": {
     "checksum": "70c9750a9dc4ccbfd9c03e35f63c583b",
     "grade": true,
     "grade_id": "cell-64995e4de24f11b7",
     "locked": true,
     "points": 10,
     "schema_version": 1,
     "solution": false
    }
   },
   "outputs": [],
   "source": [
    "# use this cell to test your answer\n",
    "@test sol1(1900) == 1.65\n",
    "@test isapprox(sol1(2100), 21.919171907536615, atol=1e-3)"
   ]
  },
  {
   "cell_type": "markdown",
   "metadata": {
    "deletable": false,
    "editable": false,
    "nbgrader": {
     "checksum": "13728cdb1dd54fff955ae88836b5a419",
     "grade": false,
     "grade_id": "cell-161b98a64ef928fa",
     "locked": true,
     "schema_version": 1,
     "solution": false
    }
   },
   "source": [
    "**Question 2b (10%).** Plot the results in comparison with the historic data between 1900 and 2017."
   ]
  },
  {
   "cell_type": "code",
   "execution_count": null,
   "metadata": {
    "deletable": false,
    "nbgrader": {
     "checksum": "9a2eaf744083a40f070fc23ec5b497b2",
     "grade": true,
     "grade_id": "cell-131238cc9e9c9d21",
     "locked": false,
     "points": 10,
     "schema_version": 1,
     "solution": true
    }
   },
   "outputs": [],
   "source": [
    "YOUR CODE HERE"
   ]
  },
  {
   "cell_type": "markdown",
   "metadata": {
    "deletable": false,
    "editable": false,
    "nbgrader": {
     "checksum": "5acaee25938f04cddf115a5b60f81576",
     "grade": false,
     "grade_id": "cell-614d57fb96f3d2e2",
     "locked": true,
     "schema_version": 1,
     "solution": false
    }
   },
   "source": [
    "The model predicts that there will be nearly 22 billion people in the year 2100! The predicted population is very high because the model only considers continual growth. Note that between 1900 and 2017 we are **interpolating** and the fit is good, while after 2017 we are **extrapolating** so we are less confident."
   ]
  },
  {
   "cell_type": "markdown",
   "metadata": {
    "deletable": false,
    "editable": false,
    "nbgrader": {
     "checksum": "2120266550bf58f5f70133c2217edbef",
     "grade": false,
     "grade_id": "cell-6a592e0e515b05cc",
     "locked": true,
     "schema_version": 1,
     "solution": false
    }
   },
   "source": [
    "### Scenario 2. Capped Growth\n",
    "\n",
    "Since resources available on Earth are finite, the world's population in reality would not sustain exponential growth indefinitely. The following variant of the model takes this into account, and assumes the carrying capacity (denoted by $K$) is an upper population threshold (i.e. population cannot grow bigger than it). The ODE is:\n",
    "\n",
    "\\begin{align*}\n",
    "    \\frac{dP}{dt} = \\alpha P \\left(1-\\frac{P}{K} \\right)\n",
    "\\end{align*}\n",
    "\n",
    "where $P$ is the population in billions of people, $t$ is the time in years, $\\alpha$ is the population growth rate, and $K$ is the carrying capacity in billions of people. \n",
    "\n",
    "**Question 3a (10%).** Predict the world's population in the period 2017-2100 using this model. Use the value of $\\alpha$ found in last section and take $K$ to be equal to 11 billion people. Note that the initial condition should be the 2017 population since we are only imposing the gap on growth for the future. Name your new solution `sol2`."
   ]
  },
  {
   "cell_type": "code",
   "execution_count": null,
   "metadata": {
    "deletable": false,
    "nbgrader": {
     "checksum": "40736ea9e1ea7224facd3ee0be4376fa",
     "grade": false,
     "grade_id": "cell-d952da64961f56d7",
     "locked": false,
     "schema_version": 1,
     "solution": true
    }
   },
   "outputs": [],
   "source": [
    "K = 11 # population cap in billions of people (carrying capacity)\n",
    "YOUR CODE HERE"
   ]
  },
  {
   "cell_type": "code",
   "execution_count": null,
   "metadata": {
    "deletable": false,
    "editable": false,
    "nbgrader": {
     "checksum": "734623e87c515a2faaeaeee4c1b152c8",
     "grade": true,
     "grade_id": "cell-d26b864cfe16fefc",
     "locked": true,
     "points": 10,
     "schema_version": 1,
     "solution": false
    }
   },
   "outputs": [],
   "source": [
    "# use this cell to test your answer\n",
    "@test sol2(2017.) ≈ 7.48\n",
    "@test isapprox(sol2(2100), 9.475714071145484, atol=1e-3)"
   ]
  },
  {
   "cell_type": "markdown",
   "metadata": {
    "deletable": false,
    "editable": false,
    "nbgrader": {
     "checksum": "02c79834e9756fd1f205db17558c07df",
     "grade": false,
     "grade_id": "cell-2d0299ef6d34152b",
     "locked": true,
     "schema_version": 1,
     "solution": false
    }
   },
   "source": [
    "**Question 3b (10%).** Produce a plot comparing the exponential growth and capped growth scenarios - you should adjust the x- and y-limits of your plot using e.g. the `xlims!()` and `ylims!()` functions to give a well presented plot."
   ]
  },
  {
   "cell_type": "code",
   "execution_count": null,
   "metadata": {
    "deletable": false,
    "nbgrader": {
     "checksum": "224b3b34fd5b61bcbe643c4af55538c6",
     "grade": true,
     "grade_id": "cell-26828ce1511878d8",
     "locked": false,
     "points": 10,
     "schema_version": 1,
     "solution": true
    }
   },
   "outputs": [],
   "source": [
    "YOUR CODE HERE"
   ]
  },
  {
   "cell_type": "markdown",
   "metadata": {
    "deletable": false,
    "editable": false,
    "nbgrader": {
     "checksum": "b72399a45975508d12942f5a8bbd9deb",
     "grade": false,
     "grade_id": "cell-ccdeed1f78f99607",
     "locked": true,
     "schema_version": 1,
     "solution": false
    }
   },
   "source": [
    "The predicted population for the year 2100 is around 9.5 billion people, and in future centuries it will end up converging to the carrying capacity of 11 billion."
   ]
  },
  {
   "cell_type": "markdown",
   "metadata": {
    "deletable": false,
    "editable": false,
    "nbgrader": {
     "checksum": "352250527950605037e4fedc215d0d55",
     "grade": false,
     "grade_id": "cell-b812cb3cc61e37ed",
     "locked": true,
     "schema_version": 1,
     "solution": false
    }
   },
   "source": [
    "### Scenario 3. Declining Population\n",
    "\n",
    "In this scenario, the population growth rate $\\alpha(t)$ does not remain constant, but rather decreases as a consequence of overpopulation and resource scarcity. This leads the world's population to decrease after reaching a maximum point. The ODE is:\n",
    "\n",
    "\\begin{align*}\n",
    "    \\frac{dP}{dt} = \\alpha(t)\\,P \\left(1 - \\frac{P}{K} \\right)\n",
    "\\end{align*}\n",
    "\n",
    "Note that now $\\alpha$ depends on time. \n",
    "\n",
    "**Question 4. (10%)** Define a function `alpha_lin(t)` that returns $\\alpha(t)$ assuming the rate diminishes by a fixed amount of `dα = 0.001` every year after 2017."
   ]
  },
  {
   "cell_type": "code",
   "execution_count": null,
   "metadata": {
    "deletable": false,
    "nbgrader": {
     "checksum": "93fd6197e52d504985f3c8b1cf48634b",
     "grade": false,
     "grade_id": "cell-e89599e9cafd8f9b",
     "locked": false,
     "schema_version": 1,
     "solution": true
    }
   },
   "outputs": [],
   "source": [
    "α0 = α    # initial growth rate\n",
    "dα = 0.001 # change of growth rate per year\n",
    "YOUR CODE HERE"
   ]
  },
  {
   "cell_type": "code",
   "execution_count": null,
   "metadata": {
    "deletable": false,
    "editable": false,
    "nbgrader": {
     "checksum": "041ff2ef11723fce0bf0907934f1cd3f",
     "grade": true,
     "grade_id": "cell-699fbf488c3a35ed",
     "locked": true,
     "points": 10,
     "schema_version": 1,
     "solution": false
    }
   },
   "outputs": [],
   "source": [
    "@test alpha_lin(2017) ≈ α\n",
    "@test alpha_lin(2100) ≈ -0.0700670533654165"
   ]
  },
  {
   "cell_type": "markdown",
   "metadata": {
    "deletable": false,
    "editable": false,
    "nbgrader": {
     "checksum": "8aec4b3069f488641dd27bf5013821ba",
     "grade": false,
     "grade_id": "cell-20403b23a0aaddf5",
     "locked": true,
     "schema_version": 1,
     "solution": false
    }
   },
   "source": [
    "Now we are ready to predict the world's population under the Declining Population scenario.\n",
    "\n",
    "**Question 5a. (10%)** Solve the ODE using the $\\alpha(t)$ that you just defined for the period 2017-2100. Name your solution `sol3`."
   ]
  },
  {
   "cell_type": "code",
   "execution_count": null,
   "metadata": {
    "deletable": false,
    "nbgrader": {
     "checksum": "cd776f95237e8f01b86832680d649f77",
     "grade": false,
     "grade_id": "cell-896384cde7d1c157",
     "locked": false,
     "schema_version": 1,
     "solution": true
    }
   },
   "outputs": [],
   "source": [
    "YOUR CODE HERE"
   ]
  },
  {
   "cell_type": "code",
   "execution_count": null,
   "metadata": {
    "deletable": false,
    "editable": false,
    "nbgrader": {
     "checksum": "71528c99b2ea0075dfb8cbcbc0d30c81",
     "grade": true,
     "grade_id": "cell-4b59a4afd3364680",
     "locked": true,
     "points": 10,
     "schema_version": 1,
     "solution": false
    }
   },
   "outputs": [],
   "source": [
    "#use this cell to test your answer\n",
    "@test isapprox(sol3(2100), 1.8212687312577343, atol=1e-3)"
   ]
  },
  {
   "cell_type": "markdown",
   "metadata": {
    "deletable": false,
    "editable": false,
    "nbgrader": {
     "checksum": "a9b29d4990341332912056dae88a4b62",
     "grade": false,
     "grade_id": "cell-50b7786f541e37da",
     "locked": true,
     "schema_version": 1,
     "solution": false
    }
   },
   "source": [
    "**Question 5b. (10%)** Produce a final plot comparing all three scenarios."
   ]
  },
  {
   "cell_type": "code",
   "execution_count": null,
   "metadata": {
    "deletable": false,
    "nbgrader": {
     "checksum": "ecc6d94b3e6f4b0ca1c9c58713f54e30",
     "grade": true,
     "grade_id": "cell-d8234e0a7bf2dc5a",
     "locked": false,
     "points": 10,
     "schema_version": 1,
     "solution": true
    }
   },
   "outputs": [],
   "source": [
    "YOUR CODE HERE"
   ]
  },
  {
   "cell_type": "markdown",
   "metadata": {
    "deletable": false,
    "editable": false,
    "nbgrader": {
     "checksum": "04413ff8ad3dcf2ebde1fb2a2b55aa7d",
     "grade": false,
     "grade_id": "cell-c7b9301e3866c9f3",
     "locked": true,
     "schema_version": 1,
     "solution": false
    }
   },
   "source": [
    "**Question 6. (10%)** Write a function `pop5bn(sol3)` which returns the year during which the population falls below 5 billion according to the solution `sol3`. Note that the year returned should be an integer. Look up the documentation for `round()` and `convert()` to see how to round to the nearest whole number and how to convert from float to int."
   ]
  },
  {
   "cell_type": "code",
   "execution_count": null,
   "metadata": {
    "deletable": false,
    "nbgrader": {
     "checksum": "6017d5e414aa81f7cad13955fa788941",
     "grade": false,
     "grade_id": "cell-894c094052114fbf",
     "locked": false,
     "schema_version": 1,
     "solution": true
    }
   },
   "outputs": [],
   "source": [
    "YOUR CODE HERE"
   ]
  },
  {
   "cell_type": "code",
   "execution_count": null,
   "metadata": {
    "deletable": false,
    "editable": false,
    "nbgrader": {
     "checksum": "77d44c195887220e9822569f267210b9",
     "grade": true,
     "grade_id": "cell-248c99e08e1951e4",
     "locked": true,
     "points": 10,
     "schema_version": 1,
     "solution": false
    }
   },
   "outputs": [],
   "source": [
    "# Use this cell to test your answer\n",
    "@test typeof(pop5bn(sol3)) == Int64\n",
    "@test sol3(pop5bn(sol3)) > 5.0\n",
    "@test sol3(pop5bn(sol3) + 1) < 5.0"
   ]
  },
  {
   "cell_type": "markdown",
   "metadata": {
    "deletable": false,
    "editable": false,
    "nbgrader": {
     "checksum": "3de6268d55358aa8937ff3c62a4f2b6d",
     "grade": false,
     "grade_id": "cell-3970be2b5b0d2236",
     "locked": true,
     "schema_version": 1,
     "solution": false
    }
   },
   "source": [
    "### Bonus Question (no marks)\n",
    "\n",
    "Write a function `min_change_in_growth_rate(year, target_pop)` that returns the minimum yearly change in $\\alpha$ so that the population is less than `pop` billion in `year`. Use it to find the minimum yearly change in growth rate required for the population to fall to 5 billion in 2100.\n",
    "\n",
    "*Hint:* First write a function `pop(dα, year)` that sets up and solves an ODE to return the population in `year` as a function of the yearly change in $\\alpha$ `dα`, then use `fzeros()` to find the value of `dα` for which `pop(dα, year)` is equal to `target_pop`"
   ]
  },
  {
   "cell_type": "code",
   "execution_count": null,
   "metadata": {
    "deletable": false,
    "nbgrader": {
     "checksum": "d32dcb4ca61573093863711907d470fe",
     "grade": false,
     "grade_id": "cell-8c4e2a259a478a02",
     "locked": false,
     "schema_version": 1,
     "solution": true
    }
   },
   "outputs": [],
   "source": [
    "YOUR CODE HERE"
   ]
  },
  {
   "cell_type": "code",
   "execution_count": null,
   "metadata": {
    "deletable": false,
    "editable": false,
    "nbgrader": {
     "checksum": "c1e094243d858cb2c81bf6b026de21ee",
     "grade": true,
     "grade_id": "cell-e5ebabdd95191914",
     "locked": true,
     "points": 0,
     "schema_version": 1,
     "solution": false
    }
   },
   "outputs": [],
   "source": [
    "# Use this cell to test your code\n",
    "@test min_change_in_growth_rate(2100., 5.0) ≈ 0.000583404709651563\n",
    "@test pop(min_change_in_growth_rate(2100., 5.0), 2100.) ≈ 5.0"
   ]
  },
  {
   "cell_type": "markdown",
   "metadata": {
    "deletable": false,
    "editable": false,
    "nbgrader": {
     "checksum": "14058e28c2e05de6f843f85e6bd93fd6",
     "grade": false,
     "grade_id": "cell-b0624fb73d1d4be2",
     "locked": true,
     "schema_version": 1,
     "solution": false
    }
   },
   "source": [
    "The minimum annual decrease in growth rate for the population to fall to 5 billion in 2100 is approximately 0.000583."
   ]
  }
 ],
 "metadata": {
  "kernelspec": {
   "display_name": "Julia 0.6.2",
   "language": "julia",
   "name": "julia-0.6"
  },
  "language_info": {
   "file_extension": ".jl",
   "mimetype": "application/julia",
   "name": "julia",
   "version": "0.6.2"
  }
 },
 "nbformat": 4,
 "nbformat_minor": 1
}
