{
 "cells": [
  {
   "cell_type": "markdown",
   "metadata": {},
   "source": [
    "Before you turn this problem in, make sure everything runs as expected. First, **restart the kernel** (in the menubar, select Kernel$\\rightarrow$Restart) and then **run all cells** (in the menubar, select Cell$\\rightarrow$Run All).\n",
    "\n",
    "Make sure you fill in any place that says `YOUR CODE HERE` or \"YOUR ANSWER HERE\", as well as your name and collaborators below:"
   ]
  },
  {
   "cell_type": "code",
   "execution_count": null,
   "metadata": {},
   "outputs": [],
   "source": [
    "NAME = \"\"\n",
    "COLLABORATORS = \"\""
   ]
  },
  {
   "cell_type": "markdown",
   "metadata": {},
   "source": [
    "---"
   ]
  },
  {
   "cell_type": "markdown",
   "metadata": {
    "deletable": false,
    "editable": false,
    "nbgrader": {
     "checksum": "ae3a30b29a069a4194e15603d61f8ea9",
     "grade": false,
     "grade_id": "cell-28ebc7835399a49c",
     "locked": true,
     "schema_version": 1,
     "solution": false
    }
   },
   "source": [
    "# Assignment 4 - Plasma Physics\n",
    "\n",
    "Topics:\n",
    "\n",
    "- Plasma frequency\n",
    "- Dispersion relations\n",
    "- Wavenumber matching\n",
    "- Motion of particles in electric and magnetic fields\n",
    "- Numerics\n",
    "\n",
    "Remember to label all axes on your plots, and to set axis ranges so that the plot is useful and shows the relevant part of the data.\n",
    "\n",
    "**Run the code in the cell below first to setup the testing environment**"
   ]
  },
  {
   "cell_type": "code",
   "execution_count": null,
   "metadata": {
    "deletable": false,
    "editable": false,
    "nbgrader": {
     "checksum": "73dcc577b0d6a56467d37d9e98bd6578",
     "grade": false,
     "grade_id": "cell-c7536f7b215df5b0",
     "locked": true,
     "schema_version": 1,
     "solution": false
    }
   },
   "outputs": [],
   "source": [
    "using Base.Test\n",
    "using Plots\n",
    "\n",
    "# set up some constants for testing\n",
    "epsilon0 = 8.9e-8  #Permitivitty of free space\n",
    "q0 = 1.6e-19       #Fundamental charge\n",
    "m0 = 9.1e-31       #Mass of an electron   \n",
    "c = 3e8            #Speed of light\n",
    "\n",
    "plotlyjs()"
   ]
  },
  {
   "cell_type": "markdown",
   "metadata": {
    "deletable": false,
    "editable": false,
    "nbgrader": {
     "checksum": "3851ca63d536afc8a70466c52dbb0c60",
     "grade": false,
     "grade_id": "cell-b3686e77856dc49c",
     "locked": true,
     "schema_version": 1,
     "solution": false
    }
   },
   "source": [
    "### Question 1 (5%) The Plasma Frequency\n",
    "Create a function `omega_p(n)` to calculate the plasma frequency using $\\omega_{p} = \\sqrt{\\frac{n q_0^2}{m_0 \\epsilon_0}}$. Use values of $\\epsilon_0 = 8.9\\times 10^{-8}$ F/m,  the charge on an electron of $q_0 = -1.6\\times 10^{-19}$ C and the mass of an electron $ m_0 = 9.1 \\times 10^{-31}$ kg."
   ]
  },
  {
   "cell_type": "code",
   "execution_count": null,
   "metadata": {
    "deletable": false,
    "nbgrader": {
     "checksum": "bb496cd2089405834000b79c8634c1ed",
     "grade": false,
     "grade_id": "cell-dd61fb56f6f9ef12",
     "locked": false,
     "schema_version": 1,
     "solution": true
    }
   },
   "outputs": [],
   "source": [
    "# YOUR CODE HERE"
   ]
  },
  {
   "cell_type": "code",
   "execution_count": null,
   "metadata": {
    "deletable": false,
    "editable": false,
    "nbgrader": {
     "checksum": "3f80312a120926a0a089221d7f381ac0",
     "grade": true,
     "grade_id": "cell-634fd022a7c76991",
     "locked": true,
     "points": 5,
     "schema_version": 1,
     "solution": false
    }
   },
   "outputs": [],
   "source": [
    "#Use this cell to test your answer\n",
    "n_in = 1e5\n",
    "expected = 177.8\n",
    "@test (omega_p(n_in) - expected)/expected < 0.01\n"
   ]
  },
  {
   "cell_type": "markdown",
   "metadata": {
    "deletable": false,
    "editable": false,
    "nbgrader": {
     "checksum": "9e072c39e5ee800de7527d050599f1d6",
     "grade": false,
     "grade_id": "cell-943d91c319603ecc",
     "locked": true,
     "schema_version": 1,
     "solution": false
    }
   },
   "source": [
    "Now evaluate the plasma frequency for the following:\n",
    "\n",
    "Hydrogen in the solar corona, $n = 1 \\times 10^{15}$ m$^{-3}$\n",
    "\n",
    "Hydrogen in lab gas jets for laser experiments $n = 1 \\times 10^{25}$ m$^{-3}$\n",
    "\n",
    "Hydrogen plasma in a fusion reactor (ICF or implosion type) during a typical burn, $n = 1 \\times 10^{32}$ m$^{-3}$\n"
   ]
  },
  {
   "cell_type": "code",
   "execution_count": null,
   "metadata": {
    "deletable": false,
    "nbgrader": {
     "checksum": "79374d7eb39afa9fd9fc26bed18775b7",
     "grade": true,
     "grade_id": "cell-8342736e0502895a",
     "locked": false,
     "points": 0,
     "schema_version": 1,
     "solution": true
    }
   },
   "outputs": [],
   "source": [
    "# YOUR CODE HERE"
   ]
  },
  {
   "cell_type": "markdown",
   "metadata": {
    "deletable": false,
    "editable": false,
    "nbgrader": {
     "checksum": "fd536a86540e62fcb108d33a7eaac486",
     "grade": false,
     "grade_id": "cell-bef28b7e84a807b7",
     "locked": true,
     "schema_version": 1,
     "solution": false
    }
   },
   "source": [
    "The timescale the plasma can react on is given by $T_{pl} = 2 \\pi/\\omega_{pe}$ Notice how fast this is in fusion devices: this is part of the reason these devices are so challenging to control."
   ]
  },
  {
   "cell_type": "markdown",
   "metadata": {
    "deletable": false,
    "editable": false,
    "nbgrader": {
     "checksum": "879fa6e037ddee6cbc3d2eab77ae4729",
     "grade": false,
     "grade_id": "cell-deb7c597edd7acd9",
     "locked": true,
     "schema_version": 1,
     "solution": false
    }
   },
   "source": [
    "### Question 2 (15%) Dispersion Relations\n",
    "The dispersion relation is the equation describing how a wave frequency relates to its wavelength, or wavenumber. Write a function, `dispersion(k, omega_pe, v_wave, wave_type)` to calculate the dispersion for three sorts of wave: the two discussed in the lecture, i.e. plasma waves and EM waves; and also \"plasma sound waves\", which are like normal sound waves and have a constant speed in a given material. The equations you should use are\n",
    "\n",
    "$\\omega_{pl} = \\sqrt{\\omega_{pe}^2 + v_{pl}^2 k^2}$\n",
    "\n",
    "$\\omega_{EM} = \\sqrt{\\omega_{pe}^2 + c^2 k^2}$\n",
    "\n",
    "$\\omega_{s} = |k_s| v_s$\n",
    "\n",
    "Use the prototype below and note that the function should accept 'p', 'e' or 's' as a string as the final parameter and solve for the correct type of wave.\n",
    "\n",
    "```julia\n",
    "function dispersion(k, omega_pe, v_wave, wave_type)\n",
    "    ...\n",
    "end\n",
    "```"
   ]
  },
  {
   "cell_type": "code",
   "execution_count": null,
   "metadata": {
    "deletable": false,
    "nbgrader": {
     "checksum": "969068b32433ee91687a1e0ecf3d167d",
     "grade": false,
     "grade_id": "cell-71840f5548611672",
     "locked": false,
     "schema_version": 1,
     "solution": true
    }
   },
   "outputs": [],
   "source": [
    "# YOUR CODE HERE"
   ]
  },
  {
   "cell_type": "code",
   "execution_count": null,
   "metadata": {
    "deletable": false,
    "editable": false,
    "nbgrader": {
     "checksum": "c127c0a8dc1bc7b8ccf7e25cb7b72d97",
     "grade": true,
     "grade_id": "cell-ca256f5f800a08fc",
     "locked": true,
     "points": 5,
     "schema_version": 1,
     "solution": false
    }
   },
   "outputs": [],
   "source": [
    "#Use this cell to test your answer\n",
    "omega_pe = 2 *pi * 10^8\n",
    "v_wave_em = 3e8\n",
    "v_wave_pl = 1e7\n",
    "v_wave_s = 1e6\n",
    "\n",
    "expected = [1.1081392796915286, 1.00012664346027, 0.0015915494309189536]\n",
    "@test abs(dispersion(1, omega_pe, v_wave_em, 'e')/omega_pe  - expected[1]) < 0.1\n",
    "@test abs(dispersion(1, omega_pe, v_wave_pl, 'p')/omega_pe  - expected[2]) < 0.1\n",
    "@test abs(dispersion(1, omega_pe, v_wave_s, 's')/omega_pe   - expected[3]) < 0.0001\n"
   ]
  },
  {
   "cell_type": "markdown",
   "metadata": {
    "deletable": false,
    "editable": false,
    "nbgrader": {
     "checksum": "e4305c59cab8ee5d9cf96b0d09c5e0e3",
     "grade": false,
     "grade_id": "cell-b478062a3825ae22",
     "locked": true,
     "schema_version": 1,
     "solution": false
    }
   },
   "source": [
    "Plot the dispersion for plasma, EM and sound waves using your function. Use a plasma frequency of $2 \\pi \\times 10^8$ (100MHz frequency) and the speed of light ($c$) as $3\\times 10^8$ m/s. For this plasma, the plasma wave speed is $ v_{pl} = 1 \\times 10^7$ m/s and the sound wave speed is $v_s = 1 \\times 10^6$ m/s"
   ]
  },
  {
   "cell_type": "code",
   "execution_count": null,
   "metadata": {
    "deletable": false,
    "nbgrader": {
     "checksum": "1c6ea99f7162b9fd94bca829488522c9",
     "grade": true,
     "grade_id": "cell-f4839e215a63889d",
     "locked": false,
     "points": 5,
     "schema_version": 1,
     "solution": true
    }
   },
   "outputs": [],
   "source": [
    "# YOUR CODE HERE"
   ]
  },
  {
   "cell_type": "markdown",
   "metadata": {
    "deletable": false,
    "editable": false,
    "nbgrader": {
     "checksum": "b997c0eba43817e3f7766692b6424318",
     "grade": false,
     "grade_id": "cell-a8cc64990b0cd1f9",
     "locked": true,
     "schema_version": 1,
     "solution": false
    }
   },
   "source": [
    "The wave \"group velocity\" is defined as $d \\omega / d k$. This is roughly the speed the waves can carry information, and cannot exceed the speed of light. Find the group velocity of EM waves at $k = 1$ m$^{-1}$. You can either differentiate the expression above or use an approximate numerical method to find the gradient. Use the space below to do your calculation. "
   ]
  },
  {
   "cell_type": "code",
   "execution_count": null,
   "metadata": {
    "deletable": false,
    "nbgrader": {
     "checksum": "4d9d694e56bab901827feccb6576611c",
     "grade": false,
     "grade_id": "cell-57c5585cd1c37bf7",
     "locked": false,
     "schema_version": 1,
     "solution": true
    }
   },
   "outputs": [],
   "source": [
    "# YOUR CODE HERE"
   ]
  },
  {
   "cell_type": "code",
   "execution_count": null,
   "metadata": {
    "deletable": false,
    "editable": false,
    "nbgrader": {
     "checksum": "18d19da05dc5a2bc1e843eee7cc7084a",
     "grade": true,
     "grade_id": "cell-42120432b4c125b9",
     "locked": true,
     "points": 5,
     "schema_version": 1,
     "solution": false
    }
   },
   "outputs": [],
   "source": [
    "#Use this cell to test your answer\n",
    "@test abs(v_g - 1.29e8) < 1e7"
   ]
  },
  {
   "cell_type": "markdown",
   "metadata": {
    "deletable": false,
    "editable": false,
    "nbgrader": {
     "checksum": "d97103b0362cc591eaeb223abd2f9439",
     "grade": false,
     "grade_id": "cell-ac7b43d3cc2ac9fa",
     "locked": true,
     "schema_version": 1,
     "solution": false
    }
   },
   "source": [
    "### Question 3 (20%)  Wavenumber Matching in Plasma\n",
    "\n",
    "Plasma waves can \"decay\", for instance breaking down into another plasma wave and a plasma sound wave. When this happens, energy and momentum must be conserved. For the waves, this means the frequencies, $\\omega$ must match (analogous to energies) and so must the wavenumbers $k$ (inverse of wavelengths, analogous to momentum). *Here we are going to use simplifed numbers, rather than actual plasma values, for ease of calculation. Be careful to run your notebook in order to avoid confusion*\n",
    "\n",
    "Plot normalised dispersion curves for plasma waves (in orange) and plasma sound waves (purple) using the equations $\\omega_p = \\sqrt{1.0 + k_p^2}$ and $\\omega_s = v_s |k_s|$ with $v_s = 0.105$ m/s Use an x-axis range of $[-0.5, 0.5]$ m$^{-1}$ You can use your dispersion function to generate the values if you wish. "
   ]
  },
  {
   "cell_type": "code",
   "execution_count": null,
   "metadata": {
    "deletable": false,
    "nbgrader": {
     "checksum": "6106294e5939d9c0e5b6736c82beeb99",
     "grade": true,
     "grade_id": "cell-7ad6a85c6aff5254",
     "locked": false,
     "points": 15,
     "schema_version": 1,
     "solution": true
    }
   },
   "outputs": [],
   "source": [
    "# YOUR CODE HERE"
   ]
  },
  {
   "cell_type": "markdown",
   "metadata": {
    "deletable": false,
    "editable": false,
    "nbgrader": {
     "checksum": "7b4ee3d6f7591c6a820c92d675488374",
     "grade": false,
     "grade_id": "cell-e8a2fc891888705b",
     "locked": true,
     "schema_version": 1,
     "solution": false
    }
   },
   "source": [
    "The matching conditions we want to solve are $\\omega_p = \\omega_s + \\omega_2$ and $k_p = k_s + k_2$ with $[k_p, \\omega_p]$ a plasma wave, $[k_s, \\omega_s]$ a plasma sound wave and $[k_2, \\omega_2]$ another plasma wave. \n",
    "\n",
    "Now suppose we have a plasma wave at $k_p = 0.35$. Calculate its frequency and add a line from the origin to this point, in red. Translate the positive-k part of the plasma sound wave line so that it passes through this point: add this to the plot in green. The green line should intercept the parabola around $-0.1$: find the location of this point, k_2 to 3sf. You can do this by expanding the graph and reading off the intercept. \n",
    "\n",
    "*Note for the mathematically inclined: you can solve the equation set algebraically in this case by using the binomial expansion on the plasma wave dispersion, but the graphical method can be useful if this cannot be done.*"
   ]
  },
  {
   "cell_type": "markdown",
   "metadata": {
    "deletable": false,
    "editable": false,
    "nbgrader": {
     "checksum": "5bd5f09ae48dccba5ad6f4d42237c8ec",
     "grade": false,
     "grade_id": "cell-c87e66962e8a7b3b",
     "locked": true,
     "schema_version": 1,
     "solution": false
    }
   },
   "source": [
    "Add a blue line from the point $[0, 0]$ to $[k_2, \\omega_2]$. You should now have a triangle. You can translate the blue line to form a parallelogram with the red line as one diagonal: this graphically describes the matching conditions we started with just like the force-vector diagrams you may be familiar with. Finally, calculate $k_s, \\omega_s$ to finish the set, and verify that the matching conditions are satisfied. "
   ]
  },
  {
   "cell_type": "code",
   "execution_count": null,
   "metadata": {
    "deletable": false,
    "nbgrader": {
     "checksum": "9705c1f5009cc03c00bf67de2d2826dc",
     "grade": false,
     "grade_id": "cell-b1ab82320b7ffc33",
     "locked": false,
     "schema_version": 1,
     "solution": true
    }
   },
   "outputs": [],
   "source": [
    "# YOUR CODE HERE"
   ]
  },
  {
   "cell_type": "code",
   "execution_count": null,
   "metadata": {
    "deletable": false,
    "editable": false,
    "nbgrader": {
     "checksum": "d42719ef88f29a9b485f8fb05f812fc5",
     "grade": true,
     "grade_id": "cell-84cb879133962430",
     "locked": true,
     "points": 5,
     "schema_version": 1,
     "solution": false
    }
   },
   "outputs": [],
   "source": [
    "# Use this cell to test consistency of your answers\n",
    "@test k_p - (k_s + k_2) < 0.001\n",
    "@test omega_pl - (omega_s + omega_2) < 0.001"
   ]
  },
  {
   "cell_type": "markdown",
   "metadata": {
    "deletable": false,
    "editable": false,
    "nbgrader": {
     "checksum": "2b3658df91eb082b6994642a4da3c2de",
     "grade": false,
     "grade_id": "cell-323ad96703a8e71c",
     "locked": true,
     "schema_version": 1,
     "solution": false
    }
   },
   "source": [
    "### Question 4 (20%) Motion of a particle in an Electric field\n",
    "\n",
    "In a constant Electric field, in one dimension, a charged particle is accelerated according to $ \\frac{\\mathrm{d}^2 x}{\\mathrm{d}t^2} = \\frac{q E}{m}$. **Note that E can be positive or negative, because it is in fact a vector, like the particle velocity. The relative sign of the particle velocity and the E field are important** \n",
    "\n",
    "That means that a positive particle such as a proton, moving along the direction of the E field will be accelerated forwards (sped up), wheras an electron would be slowed. \n",
    "\n",
    "Recall the simple Euler integration from Week 2, which solved an equation like $\\frac{\\mathrm{d} x}{\\mathrm{d}t} = f(t, ...)$. Here we can apply this twice, once integrating to get velocity from acceleration, and a second time to get position. This means solving the two coupled equations $\\frac{\\mathrm{d} v}{\\mathrm{d}t} = \\frac{q E}{m}$ and $\\frac{\\mathrm{d}x}{\\mathrm{d}t} = v $. The function `euler_second_order` below, implements this. It takes two functions, $f = \\frac{\\mathrm{d} v}{\\mathrm{d}t}$ for the updating of velocity, and $g = \\frac{\\mathrm{d}x}{\\mathrm{d}t}$ for the updating of position. "
   ]
  },
  {
   "cell_type": "code",
   "execution_count": null,
   "metadata": {
    "deletable": false,
    "editable": false,
    "nbgrader": {
     "checksum": "11463860e4da1bcdb201a71540089eb5",
     "grade": false,
     "grade_id": "cell-d3c6baaa0bb6408a",
     "locked": true,
     "schema_version": 1,
     "solution": false
    }
   },
   "outputs": [],
   "source": [
    "#Simple Euler integration from Week 2\n",
    "function euler(f, h, y0, tspan)\n",
    "    t0, t1 = tspan\n",
    "    t = t0:h:t1  # vector of times\n",
    "    y = zeros(t) # vector for solution\n",
    "    y[1] = y0    # initial condition\n",
    "    for n in 1:length(t)-1\n",
    "        y[n+1] = y[n] + h * f(t[n], y[n])\n",
    "    end    \n",
    "    return t, y  # return times and values\n",
    "end\n",
    "\n",
    "#Euler solver for second-order ODE of type dv/dt = f(t, x, v) and dx/dt = g(t, x, v)\n",
    "function euler_second_order(f, g, h, v0, x0, tspan)\n",
    "    #f is the update to the velocity, potentially a function of time, space and velocity\n",
    "    #g is the update to the position, ditto\n",
    "    \n",
    "    t0, t1 = tspan\n",
    "    t = t0:h:t1  # vector of times\n",
    "    v = zeros(t) # vector for intermediate solution\n",
    "    x = zeros(t) # vector for final solution\n",
    "    x[1] = x0\n",
    "    v[1] = v0\n",
    "    for n in 1:length(t)-1\n",
    "        v[n+1] = v[n] + h * f(t[n], x[n], v[n])\n",
    "        x[n+1] = x[n] + h * g(t[n], x[n], v[n])\n",
    "    end    \n",
    "    return t, v, x  # return times and values\n",
    "end\n"
   ]
  },
  {
   "cell_type": "markdown",
   "metadata": {
    "deletable": false,
    "editable": false,
    "nbgrader": {
     "checksum": "548b51d53a1bacdcf676239fd74ec400",
     "grade": false,
     "grade_id": "cell-5ccb648d2354eeb6",
     "locked": true,
     "schema_version": 1,
     "solution": false
    }
   },
   "source": [
    "Using this solver, find the velocity and position of an electron (charge $q = -q_0$, mass $m = m_0$) in a uniform electric field. (charge $q = -q_0$, mass $m = m_0$) in a uniform electric field. Start with a value of $E = 2\\times10^{-6}$ V/m and $v = 1 \\times 10^7$ m/s, and a time interval of $[0, 20]$ s. Define two functions, `dv_dt(t, x, v)` and `dx_dt(t, x, v)` to supply to the solver, just like in Lecture 2: these will be checked by the grader. **Remember to pick a reasonable time-step for the solver.**"
   ]
  },
  {
   "cell_type": "code",
   "execution_count": null,
   "metadata": {
    "deletable": false,
    "nbgrader": {
     "checksum": "4094adadbf2b13dec661402912323158",
     "grade": false,
     "grade_id": "cell-34d964583b0da12f",
     "locked": false,
     "schema_version": 1,
     "solution": true
    }
   },
   "outputs": [],
   "source": [
    "# YOUR CODE HERE"
   ]
  },
  {
   "cell_type": "code",
   "execution_count": null,
   "metadata": {
    "deletable": false,
    "editable": false,
    "nbgrader": {
     "checksum": "73afb2e4f7061e4c993729b10862e86a",
     "grade": true,
     "grade_id": "cell-ee9390da9ad71b4d",
     "locked": true,
     "points": 5,
     "schema_version": 1,
     "solution": false
    }
   },
   "outputs": [],
   "source": [
    "@test dv_dt(1, 1, 1) == dv_dt(0, 0, 0)\n",
    "@test abs(dv_dt(1, 1, 1) - -351648.3516483516  ) < 100.0\n",
    "@test abs(dv_dt(1, 2, 3) - -351648.3516483516  ) < 100.0\n",
    "@test dx_dt(1, 1, 1) == dx_dt(0, 0, 1)\n",
    "@test (dx_dt(1, 2, 3) - 3) < 0.1"
   ]
  },
  {
   "cell_type": "markdown",
   "metadata": {
    "deletable": false,
    "editable": false,
    "nbgrader": {
     "checksum": "97e7021c468ee6a54642680a4e2159e1",
     "grade": false,
     "grade_id": "cell-28c96d114829ce4b",
     "locked": true,
     "schema_version": 1,
     "solution": false
    }
   },
   "source": [
    "Plot graphs of the velocity and position of the electron."
   ]
  },
  {
   "cell_type": "code",
   "execution_count": null,
   "metadata": {
    "deletable": false,
    "nbgrader": {
     "checksum": "919e8844736bc61f0a0348f23d011423",
     "grade": true,
     "grade_id": "cell-b02d1edba7aae9cd",
     "locked": false,
     "points": 10,
     "schema_version": 1,
     "solution": true
    }
   },
   "outputs": [],
   "source": [
    "# YOUR CODE HERE"
   ]
  },
  {
   "cell_type": "markdown",
   "metadata": {
    "deletable": false,
    "editable": false,
    "nbgrader": {
     "checksum": "f435037694f592c0ab265666c23ba936",
     "grade": false,
     "grade_id": "cell-8ef6d415d60cd0b3",
     "locked": true,
     "schema_version": 1,
     "solution": false
    }
   },
   "source": [
    "For what value of E, `E_turnaround`, is the particle just stationary after 20 s (answer to 2 sf)? (*Hint: trial and error is fine, but try and have the computer do it for you. Think back to finding roots of equations in A-level maths.)*\n",
    "\n",
    "Finish your answer by assigning a value to the `E_turnaround` variable:\n",
    "\n",
    "```julia\n",
    "E_turnaround = ...\n",
    "```"
   ]
  },
  {
   "cell_type": "code",
   "execution_count": null,
   "metadata": {
    "deletable": false,
    "nbgrader": {
     "checksum": "547992a6194428ff4800fc972602b923",
     "grade": false,
     "grade_id": "cell-f93531c85507fd25",
     "locked": false,
     "schema_version": 1,
     "solution": true
    }
   },
   "outputs": [],
   "source": [
    "# YOUR CODE HERE"
   ]
  },
  {
   "cell_type": "code",
   "execution_count": null,
   "metadata": {
    "deletable": false,
    "editable": false,
    "nbgrader": {
     "checksum": "6bd8d7584744c9f9adcd85c149846c92",
     "grade": true,
     "grade_id": "cell-93e2aa7e5acffb75",
     "locked": true,
     "points": 5,
     "schema_version": 1,
     "solution": false
    }
   },
   "outputs": [],
   "source": [
    "# Use this cell to test your answer\n",
    "@test abs(E_turnaround - 2.9e-6) < 0.11e-6"
   ]
  },
  {
   "cell_type": "markdown",
   "metadata": {
    "deletable": false,
    "editable": false,
    "nbgrader": {
     "checksum": "d26242dba8f81687efcf37f76c795da0",
     "grade": false,
     "grade_id": "cell-b2d9e2a3ab6ce40a",
     "locked": true,
     "schema_version": 1,
     "solution": false
    }
   },
   "source": [
    "### Question 5 (30%) Motion of a particle in a Magnetic field\n",
    "Magnetic fields also affect particles, but in a slightly more complicated way. In the lecture you heard about the Lorentz force, $ \\mathbf{F} = q (\\mathbf{E} + \\mathbf{v} \\times \\mathbf{B})$. Since a B field can't change the particle energy, only its direction of motion, a particle moving generally along a magnetic field line, will spiral around the field line, experiencing an inwards force which maintains this spiralling motion, like whirling a ball around on a string. In a uniform B field (not changing with position), this looks like the following:\n",
    "<img src = 'img/Magnetic_deflection_helical_path.svg'>\n",
    "\n",
    "Motion of the particle along the direction of the field, B, denoted $v_\\parallel$ or $v_x$ and the spiralling, or gyrating motion, denoted $v_\\perp$, are independent, just like vertical and horizontal motion in a gravitational field. \n",
    "\n",
    "If the magnetic field is a function of space, $B_x = B(x)$, then the two motions are no longer independent. If you recall Maxwell's equations from the lecture, you may see that the equation $\\nabla . B = 0$ means that having $\\frac{\\partial B_x}{\\partial x} \\ne 0$ requires a non-zero $B_y$ and $\\frac{\\partial B_y}{\\partial y}$ (or $B_z$). Now there is a non-zero cross-product between the particle spiralling motion and this $B_y$ field and so there is a force along $x$. The full details of this are complicated, so we are just going to consider two simplied parts of the problem. \n",
    "\n",
    "Suppose a magnetic field along $x$, $B(x) = B_0 (1 + a x)^2$. As our particle moves along $x$ the radius of its helical motion (gyroradius) is given by $ r(x) = r_0 \\sqrt{\\frac{B_0}{B(x)}}$ (If you're interested in why, look up \"gyromotion in magnetic field\" or \"Larmor radius\"). Write a function, `gyroradius(x, B)` where `B(x)` is a function of space, $x$, to calculate the gyroradius assuming $B_0 = 10^{-8}$ T and $r_0 = 1$ m. Calculate $r_g$ for $x$ between 0 and 10 m ,with $a = 10^6$ m$^{-1}$ and plot the result. \n",
    "\n",
    "*Bonus points: write your function to work on either a number or an array.*\n"
   ]
  },
  {
   "cell_type": "code",
   "execution_count": null,
   "metadata": {
    "deletable": false,
    "nbgrader": {
     "checksum": "2a7a66b8a190bc2cb8a9f6ef3f831790",
     "grade": false,
     "grade_id": "cell-183eb595efcee225",
     "locked": false,
     "schema_version": 1,
     "solution": true
    }
   },
   "outputs": [],
   "source": [
    "# YOUR CODE HERE"
   ]
  },
  {
   "cell_type": "code",
   "execution_count": null,
   "metadata": {
    "deletable": false,
    "editable": false,
    "nbgrader": {
     "checksum": "56a0128d39d50b712ee140fd4906b1bb",
     "grade": true,
     "grade_id": "cell-493f7bc14210099e",
     "locked": true,
     "points": 10,
     "schema_version": 1,
     "solution": false
    }
   },
   "outputs": [],
   "source": []
  },
  {
   "cell_type": "code",
   "execution_count": null,
   "metadata": {
    "deletable": false,
    "editable": false,
    "nbgrader": {
     "checksum": "a4bddad44e3f9a1e17b9281da23aefc7",
     "grade": true,
     "grade_id": "cell-976807ee7af18af2",
     "locked": true,
     "points": 5,
     "schema_version": 1,
     "solution": false
    }
   },
   "outputs": [],
   "source": [
    "# 5% bonus if function works with vector input\n",
    "function checkGyro(gyroradius, x_arr, B)\n",
    "    try\n",
    "        gyroradius(x_arr, B)\n",
    "    catch\n",
    "        false\n",
    "    end\n",
    "    true\n",
    "end\n",
    "\n",
    "x_arr = linspace(0, 10, 100)\n",
    "@test checkGyro(gyroradius, x_arr, B)"
   ]
  },
  {
   "cell_type": "markdown",
   "metadata": {
    "deletable": false,
    "editable": false,
    "nbgrader": {
     "checksum": "e592d841cbc1167a8caf33c5f79c99fe",
     "grade": false,
     "grade_id": "cell-958c3184c33546ca",
     "locked": true,
     "schema_version": 1,
     "solution": false
    }
   },
   "source": [
    "The force in the parallel, or $x$ direction, can be worked out analytically. It is usually called the \"magnetic mirror force\" and is given by\n",
    "\n",
    "$ \\frac{d v_{\\parallel}}{dt} = \\frac{F_{mirror}}{m} = - 0.5 \\frac{v_\\perp^2}{m} \\frac{\\partial B_x}{\\partial x}$ \n",
    "\n",
    "with $v_\\perp$ the particle velocity perpendicular to the $x$-direction, given by \n",
    "\n",
    "$v_\\perp(x) = \\frac{q r(x) B(x)}{m}$\n",
    "\n",
    "Write a function, `trajectory(t)` to integrate the particle motion under this force, returning the $x$ position and velocity $v$ over the time interval $[0, t]$. Use the constants below and the `euler_second_order` integrator in your function. Use the $B$ function you defined above and do a basic numerical derivative to get $\\frac{\\partial B}{\\partial x}$, remembering that this is just like a normal derivative with $y, z$ treated like constants. You can ignore the $B$ field in directions other than $x$ because in this model we are including those using the mirror force term instead. \n",
    "\n",
    "Use $B_0 = 10^{-8}$ T, $r_0 = 1000$ m, magnetic field constant $a = 10^5$ m and start at $x_0 = 0$ m and $v_0 = 10^7$ m/s. Be careful to distinguish parallel and perpendicular velocity in your equations. Using your function plot the particle position and velocity over the period $[0, 20]$ s."
   ]
  },
  {
   "cell_type": "code",
   "execution_count": null,
   "metadata": {
    "deletable": false,
    "nbgrader": {
     "checksum": "9cbcc22d984c1321fb2c77ad4dfa7ea2",
     "grade": false,
     "grade_id": "cell-64c557fbcd8c39a4",
     "locked": false,
     "schema_version": 1,
     "solution": true
    }
   },
   "outputs": [],
   "source": [
    "# YOUR CODE HERE"
   ]
  },
  {
   "cell_type": "code",
   "execution_count": null,
   "metadata": {
    "deletable": false,
    "editable": false,
    "nbgrader": {
     "checksum": "7af9e8060f6f528ddffee91621b8f683",
     "grade": true,
     "grade_id": "cell-b71f388c5037f265",
     "locked": true,
     "points": 10,
     "schema_version": 1,
     "solution": false
    }
   },
   "outputs": [],
   "source": [
    "# Use this code to test your solution against reference input\n",
    "t, v_euler, x_euler = trajectory(20)\n",
    "\n",
    "len = length(x_euler)\n",
    "half_len = round(Int32, (len/2))\n",
    "tenth_len = round(Int32, (len/10))\n",
    "twothird_len = round(Int32, (2*len/3))\n",
    "\n",
    "println(v_euler[tenth_len], ' ', x_euler[tenth_len])\n",
    "@test abs(v_euler[tenth_len] - 8.82e6)/8.82e6 < 0.1\n",
    "@test abs(x_euler[tenth_len] - 1.94e7)/1.94e7 < 0.1\n",
    "\n",
    "@test abs(v_euler[twothird_len] - 9.83e6)/9.83e6 < 0.1\n",
    "@test abs(x_euler[twothird_len] - -1.49e7)/1.49e7 < 0.1\n",
    "\n",
    "a1 = findmax(x_euler[1:half_len])\n",
    "b1 = findmin(x_euler[half_len:len])\n",
    "\n",
    "@test abs(a1[1] - 2.83e7)/2.83e7 < 0.1\n",
    "@test abs(a1[2]/len - 372/2001) < 5\n",
    "\n",
    "@test abs(b1[1] + 2.86e7)/2.86e7 < 0.1\n",
    "@test abs(b1[2]/len - 113/2001) < 5"
   ]
  },
  {
   "cell_type": "code",
   "execution_count": null,
   "metadata": {
    "deletable": false,
    "nbgrader": {
     "checksum": "0657a5f0f74530b44d64cf70335e4b75",
     "grade": true,
     "grade_id": "cell-4668a7fa980a9df8",
     "locked": false,
     "points": 5,
     "schema_version": 1,
     "solution": true
    }
   },
   "outputs": [],
   "source": [
    "# YOUR CODE HERE"
   ]
  },
  {
   "cell_type": "markdown",
   "metadata": {},
   "source": [
    "The particle should bounce back and forth between velocity of plus and minus $10^7$ m/s. If yours shows a slow up or down trend in the peaks, try adjusting the integrator step size. What is the maximum $x$ position of your particle over 10s of motion? Over 100s? Bonus marks for a \"good\" (the same to within 5-10%) answer after 100s. "
   ]
  },
  {
   "cell_type": "code",
   "execution_count": null,
   "metadata": {
    "deletable": false,
    "editable": false,
    "nbgrader": {
     "checksum": "465afa22047ba85301fca90720ebb0a3",
     "grade": true,
     "grade_id": "cell-7fc466d763cdb384",
     "locked": true,
     "points": 5,
     "schema_version": 1,
     "solution": false
    }
   },
   "outputs": [],
   "source": [
    "#Use this code to check your trajectories over 100s \n",
    "t10, v10, x10 = trajectory(10)\n",
    "t100, v100, x100 = trajectory(100)\n",
    "@test abs(findmax(x10)[1]/findmax(x100)[1] - 1.0) < 0.1"
   ]
  },
  {
   "cell_type": "markdown",
   "metadata": {},
   "source": [
    "### Question 6 (10%) Timescales and numerics\n",
    "\n",
    "In many physics processes we are interested in the \"characteristic times\". For instance, the temperature right at this moment results from several processes. On minute to hour times scales we have weather fronts and cloud movements. The day and night cycle has a 24 hour period, while seasonal variations cover an entire year. Finally on multi-year time scales we have cycles such as El Nino and variations in the sun, and on very long scales, glaciation, galactic position etc. \n",
    "\n",
    "Electrons are are far lighter than ions in most plasmas while being similar in charge. This means they react more rapidly to a given Electric field, because $ F = m a = q E$. So in general the electron and ion motions can be separated. The Electron plasma wave assumes the ions are still and only the electrons move. Plasma sound waves often assume the ions move and the electrons move more quickly to keep charges balanced and neutral.\n",
    "\n",
    "As a rule of thumb, a process is \"slow\" relative to another if its timescale is 10x smaller.\n",
    "\n",
    "\n",
    "The previous exercise looked at the slow mirroring of a particle in a magnetic field, but ignored the gyration around a magnetic field line entirely\n",
    "Write a function `gyroperiod(x, B)` to calculate the period of the gyration using the equation \n",
    "$T_{gyro} = \\frac{2 \\pi m_0}{q_0 B}$"
   ]
  },
  {
   "cell_type": "code",
   "execution_count": null,
   "metadata": {
    "deletable": false,
    "nbgrader": {
     "checksum": "9001e5d43ba384009daa108aad3bfd84",
     "grade": false,
     "grade_id": "cell-1b41f5693876a0ad",
     "locked": false,
     "schema_version": 1,
     "solution": true
    }
   },
   "outputs": [],
   "source": [
    "# YOUR CODE HERE"
   ]
  },
  {
   "cell_type": "code",
   "execution_count": null,
   "metadata": {
    "deletable": false,
    "editable": false,
    "nbgrader": {
     "checksum": "cc30ffd101b06f3e350151d9c450b989",
     "grade": true,
     "grade_id": "cell-829a90296f04a176",
     "locked": true,
     "points": 5,
     "schema_version": 1,
     "solution": false
    }
   },
   "outputs": [],
   "source": [
    "@test abs(gyroperiod(0.0, B) - 0.00357) < 0.0001\n",
    "@test abs(gyroperiod(1e7, B) - 3.50e-7) < 0.1e-7"
   ]
  },
  {
   "cell_type": "markdown",
   "metadata": {
    "deletable": false,
    "editable": false,
    "nbgrader": {
     "checksum": "e7d0458c8bf2d96e10c232da21086513",
     "grade": false,
     "grade_id": "cell-750532bcbaa52c4f",
     "locked": true,
     "schema_version": 1,
     "solution": false
    }
   },
   "source": [
    "Calculate the gyroperiod for positions of $0, 1, 2, 3 \\times 10^7$ m in the magnetic field of the previous exercise, using $a = 10^5$ m. How does this compare to the time-step you used above? "
   ]
  },
  {
   "cell_type": "code",
   "execution_count": null,
   "metadata": {
    "deletable": false,
    "nbgrader": {
     "checksum": "4aac37d39bd5a46cbf796497eb993e61",
     "grade": true,
     "grade_id": "cell-ff02c00a84e55d2f",
     "locked": false,
     "points": 0,
     "schema_version": 1,
     "solution": true
    }
   },
   "outputs": [],
   "source": [
    "# YOUR CODE HERE"
   ]
  },
  {
   "cell_type": "markdown",
   "metadata": {
    "deletable": false,
    "editable": false,
    "nbgrader": {
     "checksum": "111f88beea213cef2b9af559caa53219",
     "grade": false,
     "grade_id": "cell-a321e8069f7c13df",
     "locked": true,
     "schema_version": 1,
     "solution": false
    }
   },
   "source": [
    "Give a brief comparison of these scales to your integrator timestep in words or numbers here\n",
    "\n",
    "All except the first of these numbers are much smaller than the timestep I used, by several orders of magnitude..."
   ]
  },
  {
   "cell_type": "markdown",
   "metadata": {
    "deletable": false,
    "nbgrader": {
     "checksum": "dd36f565a3353a538ef1dae31f208a00",
     "grade": true,
     "grade_id": "cell-cfb9b4779c6b5bcd",
     "locked": false,
     "points": 5,
     "schema_version": 1,
     "solution": true
    }
   },
   "source": [
    "YOUR ANSWER HERE"
   ]
  },
  {
   "cell_type": "markdown",
   "metadata": {
    "deletable": false,
    "editable": false,
    "nbgrader": {
     "checksum": "6105f5b088583ae36c823fd2b25245b3",
     "grade": false,
     "grade_id": "cell-6d0eac86a5706af4",
     "locked": true,
     "schema_version": 1,
     "solution": false
    }
   },
   "source": [
    "### Bonus Question (no marks)\n",
    "\n",
    "**Note: this section is not graded but it is very important in numerical computing, so we recommend briefly exploring the effects of the number of iterations and the size of the increment**\n",
    "Each time you calculate something on a computer, the result will be slightly rounded because there is a finite number of bits used to store it. Given this, are there any risks or disadvantages to using a time-step much much smaller than the timescale of a process? Investigate the following code snippet, bearing in mind that \"long\" simulations in plasma physics can be up to $10^{8}$ timesteps!"
   ]
  },
  {
   "cell_type": "code",
   "execution_count": null,
   "metadata": {},
   "outputs": [],
   "source": [
    "#This snippet explicitly uses 32-bit numbers. This is to demonstrate a particular sort of error. \n",
    "# \"Bigger\" numbers (64 or 80-bit) would require far more iterations to show the issue\n",
    "\n",
    "result = Float32(1.0)\n",
    "iter = Float32(1e5)\n",
    "inc = Float32(1.0 + 1.0/3333333.0)\n",
    "\n",
    "for n in 1:iter\n",
    "    result = result * inc\n",
    "end\n",
    "result, inc^iter"
   ]
  }
 ],
 "metadata": {
  "kernelspec": {
   "display_name": "Julia 0.6.2",
   "language": "julia",
   "name": "julia-0.6"
  },
  "language_info": {
   "file_extension": ".jl",
   "mimetype": "application/julia",
   "name": "julia",
   "version": "0.6.2"
  }
 },
 "nbformat": 4,
 "nbformat_minor": 2
}
