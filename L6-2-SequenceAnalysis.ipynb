{
 "cells": [
  {
   "cell_type": "code",
   "execution_count": null,
   "metadata": {},
   "outputs": [],
   "source": [
    "using CSV, DataFrames, FreqTables, RCall, Plots, StatsBase\n",
    "gr()"
   ]
  },
  {
   "cell_type": "markdown",
   "metadata": {},
   "source": [
    "###### IL027: Interdisciplinary Computer Modelling\n",
    "\n",
    "## Lecture 6 - Sequence Analysis\n",
    "\n",
    "### Philippe Blanchard, Politics and International StudiesReferences\n",
    "\n",
    "References\n",
    "\n",
    "1. About sequence analysis:\n",
    "Banchard P. 2011. \"Sequence Analysis for Political Science\", Working Papers of the Committee on Concepts and Methods, International Political Science Association. Retrieved from: http://concepts-methods.org/Files/WorkingPaper/PM_32_Blanchard.pdf\n",
    "and/or\n",
    "Blanchard P. 2019. \"Sequence analysis\" in Atkinson, P. A., Williams, R. A. and Cernat, A. (eds.). Encyclopaedia of Research Methods, Sage\n",
    "\n",
    "2. About the TraMineR package used in R for sequence analysis, use the following guide:\n",
    "Gabadinho A., Ritschard G., Studer M. and Müller N. 2011. Mining sequence data in R with the TraMineR package: A user's guide, Department of Econometrics and Laboratory of Demography, University of Geneva\n",
    "\n",
    "3. For any use of original data or syntax, please cite:\n",
    "Blanchard P. et al. 2013. \"Gendered Trade Unions Careers: From Transitions to Turning Points?\" National Research Programme on Gender Inequality, Biel, Switzerland\n"
   ]
  },
  {
   "cell_type": "markdown",
   "metadata": {},
   "source": [
    "## 1. Preparing the session"
   ]
  },
  {
   "cell_type": "code",
   "execution_count": null,
   "metadata": {},
   "outputs": [],
   "source": [
    "## Import R libraries\n",
    "R\"library(TraMineR)\"\n",
    "R\"library(foreign)\"\n",
    "R\"library(questionr)\"\n",
    "R\"library(RColorBrewer)\"\n",
    "R\"library(cluster)\"\n",
    "R\"library(graphics)\""
   ]
  },
  {
   "cell_type": "markdown",
   "metadata": {
    "slideshow": {
     "slide_type": "fragment"
    }
   },
   "source": [
    "## 2. Importing data\n",
    "\n",
    "Use Excel-made file \"Unions.csv\" which contains sequence data in STS format at hand\n",
    "(See Gabadinho et al. 2011: 29)"
   ]
  },
  {
   "cell_type": "code",
   "execution_count": null,
   "metadata": {},
   "outputs": [],
   "source": [
    "SwUn = CSV.read(\"Unions.csv\",header=3,delim=\",\")\n",
    "# Rename all a.b colums to a_b columns which is more convenient in Julia\n",
    "rename!(SwUn,  replace.( String.(names(SwUn)), \".\" => \"_\")  )"
   ]
  },
  {
   "cell_type": "code",
   "execution_count": null,
   "metadata": {},
   "outputs": [],
   "source": [
    "# Retain only first 902 cases\n",
    "SwUn = SwUn[1:902,:]"
   ]
  },
  {
   "cell_type": "markdown",
   "metadata": {},
   "source": [
    "## 3. Exploring data"
   ]
  },
  {
   "cell_type": "code",
   "execution_count": null,
   "metadata": {},
   "outputs": [],
   "source": [
    "# Comprehensive summaries\n",
    "size(SwUn)"
   ]
  },
  {
   "cell_type": "code",
   "execution_count": null,
   "metadata": {},
   "outputs": [],
   "source": [
    "SwUn[1:5,1:6]"
   ]
  },
  {
   "cell_type": "code",
   "execution_count": null,
   "metadata": {},
   "outputs": [],
   "source": [
    "names(SwUn)[1:10]"
   ]
  },
  {
   "cell_type": "code",
   "execution_count": null,
   "metadata": {},
   "outputs": [],
   "source": [
    "@show(SwUn)[1:50,4]"
   ]
  },
  {
   "cell_type": "code",
   "execution_count": null,
   "metadata": {},
   "outputs": [],
   "source": [
    "first(SwUn,2)"
   ]
  },
  {
   "cell_type": "code",
   "execution_count": null,
   "metadata": {},
   "outputs": [],
   "source": [
    "last(SwUn,2)"
   ]
  },
  {
   "cell_type": "code",
   "execution_count": null,
   "metadata": {},
   "outputs": [],
   "source": [
    "# What is this?\n",
    "SwUn[SwUn[:,:q1_Sex] .== \"w\",:][1:5,78:82]"
   ]
  },
  {
   "cell_type": "code",
   "execution_count": null,
   "metadata": {},
   "outputs": [],
   "source": [
    "# Display last 5 years of U trajectory for all respondents born after 1992.\n",
    "\n",
    "Birth=replace(tryparse.(Int, SwUn[:,:q2_Birth]), nothing => missing) \n",
    "\n",
    "@show sum(Birth[86:90,:])\n",
    "\n",
    "A = SwUn[.! ismissing.(Birth),vcat(3,86:90)]\n",
    "A[Birth[.! ismissing.(Birth)].>1992,:]\n",
    "\n",
    "# 'tryparse' converts strings to numbers, in this case integers.\n",
    "# If there are strings that aren't numbers, e.g. \"na\" values, these are converted to nothing values.\n",
    "# 'replace' changes the nothing values into missing values, which are more convenient.\n",
    "# '!' reverts the mark to those observations with positive values."
   ]
  },
  {
   "cell_type": "code",
   "execution_count": null,
   "metadata": {},
   "outputs": [],
   "source": [
    "# ASSESSMENT 1\n",
    "# Display years 1985-2010 of U trajectory for first ten male respondents born between 1995 and 2000\n",
    "\n",
    "B=SwUn[.! ismissing.(Birth),:][\n",
    "    (SwUn[.! ismissing.(Birth),:q1_Sex] .== \"m\") .&\n",
    "    (Birth[.! ismissing.(Birth)].>1984) .& \n",
    "    (Birth[.! ismissing.(Birth)].<2001),:]\n",
    "B[1:10,83:88]"
   ]
  },
  {
   "cell_type": "markdown",
   "metadata": {},
   "source": [
    "## 4. Defining sequence objects"
   ]
  },
  {
   "cell_type": "code",
   "execution_count": null,
   "metadata": {},
   "outputs": [],
   "source": [
    "# Axis labels\n",
    "X_lab1=range(1955, step=1, stop=2012)"
   ]
  },
  {
   "cell_type": "code",
   "execution_count": null,
   "metadata": {},
   "outputs": [],
   "source": [
    "X_lab2=range(1950, step=1, stop=2012)"
   ]
  },
  {
   "cell_type": "code",
   "execution_count": null,
   "metadata": {},
   "outputs": [],
   "source": [
    "# What does this function do?\n",
    "U_lab1=R\"\"\"seqstatl($SwUn[,28:90])\"\"\"\n",
    "\n",
    "# It retrieves all existing labels in the subset"
   ]
  },
  {
   "cell_type": "code",
   "execution_count": null,
   "metadata": {},
   "outputs": [],
   "source": [
    "# define state labels\n",
    "\n",
    "U_lab2=[\"Not born\",\"Member\",\"Activist\",\"Activist senior\",\"Paid officer\",\"Paid officer senior\",\"Administrative\",\"Administrative senior\",\"no answer\"]"
   ]
  },
  {
   "cell_type": "code",
   "execution_count": null,
   "metadata": {},
   "outputs": [],
   "source": [
    "U_lab3=[\".\",\"Mb\",\"Ac\",\"Ac+\",\"Po\",\"Po+\",\"Ad\",\"Ad+\",\"na\"]"
   ]
  },
  {
   "cell_type": "code",
   "execution_count": null,
   "metadata": {},
   "outputs": [],
   "source": [
    "# Select colours for sequences\n",
    "# Can create the same colours in Julia using col2rgb in R \n",
    "# U[\"col\"]=[[1,1,1],[255/255,182/255,193/255],[238/255,162/255,173/255],[205/255,140/255,149/255],[1,0,0],[205/255,0,0],[1,127/255,36/255],[238/255,118/255,33/255],[204/255,204/255,204/255]]\n",
    "# but only need these when using R so leave as strings\n",
    "U_col=[\"white\",\"lightpink\",\"lightpink2\",\"lightpink3\",\"red\",\"red3\",\"chocolate1\",\"chocolate2\",\"gray80\"]\n"
   ]
  },
  {
   "cell_type": "code",
   "execution_count": null,
   "metadata": {},
   "outputs": [],
   "source": [
    "# Defining a population of sequences\n",
    "U_seq1=R\"seqdef($SwUn[1:902,],28:90,states=$(U_lab3),labels=$(U_lab2),xlab=$(X_lab2),cpal=$(U_col),alphabet=$U_lab3)\""
   ]
  },
  {
   "cell_type": "code",
   "execution_count": null,
   "metadata": {},
   "outputs": [],
   "source": [
    "# Basic graph\n",
    "R\"seqiplot($U_seq1)\";"
   ]
  },
  {
   "cell_type": "markdown",
   "metadata": {},
   "source": [
    "## 5. Summarizing sequence data"
   ]
  },
  {
   "cell_type": "code",
   "execution_count": null,
   "metadata": {},
   "outputs": [],
   "source": [
    "# Dimensions of the sequence object\n",
    "size(U_seq1)"
   ]
  },
  {
   "cell_type": "code",
   "execution_count": null,
   "metadata": {},
   "outputs": [],
   "source": [
    "# Sequences in basic format\n",
    "R\"$U_seq1[1:5,]\""
   ]
  },
  {
   "cell_type": "code",
   "execution_count": null,
   "metadata": {},
   "outputs": [],
   "source": [
    "# A bit more info about the set of sequences\n",
    "R\"summary($U_seq1)\"; #Need R macro to get details of sequence. Julia summary just returns type of RObject"
   ]
  },
  {
   "cell_type": "code",
   "execution_count": null,
   "metadata": {},
   "outputs": [],
   "source": [
    "# Other formats\n",
    "R\"\"\"print($U_seq1[1:5,], format = \"SPS\")\"\"\";\n",
    "R\"\"\"print($U_seq1[1:5,], format = \"STS\")\"\"\";"
   ]
  },
  {
   "cell_type": "code",
   "execution_count": null,
   "metadata": {},
   "outputs": [],
   "source": [
    "# Converting between formats\n",
    "R\"\"\"seqformat($U_seq1,from=\"STS\",to=\"SPS\")\"\"\""
   ]
  },
  {
   "cell_type": "code",
   "execution_count": null,
   "metadata": {},
   "outputs": [],
   "source": [
    "# Frequencies\n",
    "R\"seqtab($U_seq1)\""
   ]
  },
  {
   "cell_type": "code",
   "execution_count": null,
   "metadata": {},
   "outputs": [],
   "source": [
    "# Frequency by year\n",
    "freqtable(SwUn,:u1995,:q1_Sex)"
   ]
  },
  {
   "cell_type": "code",
   "execution_count": null,
   "metadata": {
    "scrolled": true
   },
   "outputs": [],
   "source": [
    "# Successive states without duration (try it with first 10 individuals)\n",
    "R\"seqdss($U_seq1[1:10,])\""
   ]
  },
  {
   "cell_type": "code",
   "execution_count": null,
   "metadata": {},
   "outputs": [],
   "source": [
    "# Successive durations without states (try it with first 10 individuals)\n",
    "R\"seqdur($U_seq1[1:10,])\""
   ]
  },
  {
   "cell_type": "code",
   "execution_count": null,
   "metadata": {},
   "outputs": [],
   "source": [
    "# States and durations per individuals\n",
    "R\"seqistatd($U_seq1[1:10,])\""
   ]
  },
  {
   "cell_type": "code",
   "execution_count": null,
   "metadata": {},
   "outputs": [],
   "source": [
    "# Mean time spent in each state\n",
    "R\"seqmeant($U_seq1)\""
   ]
  },
  {
   "cell_type": "code",
   "execution_count": null,
   "metadata": {},
   "outputs": [],
   "source": [
    "R\"\"\"seqmeant($U_seq1[$(SwUn[:,:q1_Sex].==\"w\"),])\"\"\""
   ]
  },
  {
   "cell_type": "markdown",
   "metadata": {},
   "source": [
    "## 6. Visualising sequences"
   ]
  },
  {
   "cell_type": "code",
   "execution_count": null,
   "metadata": {},
   "outputs": [],
   "source": [
    "# Plotting ten sequences with legend\n",
    "l=(3,2)\n",
    "R\"\"\"seqplot(seqdata=$U_seq1,type=\"i\",idxs=1:10,sortv=\"from.end\",\n",
    "    main=NA,xtlab=$(X_lab2),with.legend=FALSE,ylab=NA,\n",
    "    xlab=\"Year\",cex.lab=1,cex.axis=1.2)\"\"\";\n",
    "R\"\"\"seqlegend($U_seq1,ncol=2,cex=1.4,border=NA,bty=\"o\")\"\"\";"
   ]
  },
  {
   "cell_type": "code",
   "execution_count": null,
   "metadata": {},
   "outputs": [],
   "source": [
    "# Improved graphical parameters\n",
    "R\"\"\"seqplot(seqdata=$U_seq1,type=\"i\",idxs=1:10,sortv=\"from.end\",\n",
    "    main=\"My great graph\",xtlab=$(X_lab2),\n",
    "    with.legend=FALSE,border=NA,space=0.1,\n",
    "    xlab=\"Year\",ylab=\"ID\",cex.lab=1,cex.axis=1.2)\"\"\";"
   ]
  },
  {
   "cell_type": "code",
   "execution_count": null,
   "metadata": {},
   "outputs": [],
   "source": [
    "# Only women\n",
    "l=(1,1)\n",
    "R\"\"\"seqplot(seqdata=$U_seq1[$(SwUn[:,:q1_Sex].==\"w\"),],type=\"i\",idxs=0,sortv=\"from.end\",\n",
    "    main=NA,xtlab=$(X_lab2),with.legend=FALSE,border=NA,space=0,ylab=NA,\n",
    "    xlab=\"Year\",cex.lab=1,cex.axis=1.2)\"\"\";"
   ]
  },
  {
   "cell_type": "code",
   "execution_count": null,
   "metadata": {
    "scrolled": true
   },
   "outputs": [],
   "source": [
    "# A random sample\n",
    "R\"\"\"seqplot(seqdata=$U_seq1[sample(1:902,50,rep=F),],idxs=0,\n",
    "    type=\"i\",sortv=\"from.start\",\n",
    "    main=\"Fifty random cases\",xtlab=$(X_lab2),\n",
    "    with.legend=FALSE,border=NA,space=0.1,\n",
    "    xlab=\"Year\",ylab=\"ID\",cex.lab=1,cex.axis=1.2)\"\"\";"
   ]
  },
  {
   "cell_type": "code",
   "execution_count": null,
   "metadata": {},
   "outputs": [],
   "source": [
    "# Women born between 1958 and 1960 only\n",
    "R\"\"\"seqplot(seqdata=$U_seq1[$(SwUn[:,:q2_Birth].==\"1958\") | $(SwUn[:,:q2_Birth].==\"1959\") | $(SwUn[:,:q2_Birth].==\"1960\") & $(SwUn[:,:q1_Sex].==\"w\"),],\n",
    "    idxs=0,type=\"i\",sortv=\"from.start\",\n",
    "    main=\"Women born between 1958 and 1960\",xtlab=$(X_lab2),\n",
    "    with.legend=FALSE,border=NA,space=0.1,\n",
    "    xlab=\"Year\",ylab=\"ID\",cex.lab=1,cex.axis=1.2)\"\"\";"
   ]
  },
  {
   "cell_type": "code",
   "execution_count": null,
   "metadata": {},
   "outputs": [],
   "source": [
    "# Other types of graphs\n",
    "R\"\"\"seqplot(seqdata=$U_seq1,type=\"d\",\n",
    "    main=\"Distribution plot\",xtlab=$(X_lab2),\n",
    "    with.legend=FALSE,border=NA,space=0,\n",
    "    xlab=\"Year\",ylab=\"ID\",cex.lab=1,cex.axis=1.2)\"\"\";"
   ]
  },
  {
   "cell_type": "code",
   "execution_count": null,
   "metadata": {},
   "outputs": [],
   "source": [
    "R\"\"\"seqplot(seqdata=$U_seq1,type=\"ms\",\n",
    "    main=NA,xtlab=$(X_lab2),\n",
    "    with.legend=FALSE,border=NA,ylab=NA,\n",
    "    xlab=\"Year\",cex.lab=1,cex.axis=1.2)\"\"\";"
   ]
  },
  {
   "cell_type": "markdown",
   "metadata": {},
   "source": [
    "## 7. Optimal matching"
   ]
  },
  {
   "cell_type": "code",
   "execution_count": null,
   "metadata": {},
   "outputs": [],
   "source": [
    "# Calculating and comparing scosts (roughly)\n",
    "\n",
    "U_cost1=R\"\"\"(seqsubm($U_seq1,method=\"CONSTANT\"))\"\"\""
   ]
  },
  {
   "cell_type": "code",
   "execution_count": null,
   "metadata": {},
   "outputs": [],
   "source": [
    "U_cost2=R\"\"\"(matrix(c(\n",
    "    0,0,0,0,0,0,0,0,0,\n",
    "    0,0,1,2,3,4,4,4,0,\n",
    "    0,1,0,1,2,3,4,4,0,\n",
    "    0,2,1,0,1,2,4,4,0,\n",
    "    0,3,2,1,0,1,4,4,0,\n",
    "    0,4,3,2,1,0,4,3,0,\n",
    "    0,4,4,4,4,4,0,2,0,\n",
    "    0,4,4,4,4,3,2,0,0,\n",
    "    0,0,0,0,0,0,0,0,0),\n",
    "    nrow=9,ncol=9,dimnames=list($(U_lab1),$(U_lab1))))\"\"\""
   ]
  },
  {
   "cell_type": "code",
   "execution_count": null,
   "metadata": {},
   "outputs": [],
   "source": [
    "# Calculating and comparing dissimilarities\n",
    "\n",
    "U_dist1_1=rcopy(R\"\"\"seqdist($U_seq1,method=\"OM\",indel=1,sm=$U_cost1)\"\"\");\n",
    "round.(U_dist1_1[30:35,30:35])"
   ]
  },
  {
   "cell_type": "code",
   "execution_count": null,
   "metadata": {},
   "outputs": [],
   "source": [
    "U_dist1_2=rcopy(R\"\"\"seqdist($U_seq1,method=\"OM\",indel=1.5,sm=$U_cost1)\"\"\");\n",
    "round.(U_dist1_2[30:35,30:35])"
   ]
  },
  {
   "cell_type": "code",
   "execution_count": null,
   "metadata": {},
   "outputs": [],
   "source": [
    "(abs.(U_dist1_1[30:35,30:35] .- U_dist1_2[30:35,30:35]) ./ \n",
    "    max.(abs.(U_dist1_1[30:35,30:35]),abs.(U_dist1_2[30:35,30:35]) .+1e-15))*100"
   ]
  },
  {
   "cell_type": "code",
   "execution_count": null,
   "metadata": {},
   "outputs": [],
   "source": [
    "U_dist2=rcopy(R\"\"\"seqdist($U_seq1,method=\"OM\",indel=1.5,sm=$U_cost2)\"\"\");\n",
    "round.(U_dist2[30:35,30:35])"
   ]
  },
  {
   "cell_type": "code",
   "execution_count": null,
   "metadata": {},
   "outputs": [],
   "source": [
    "(abs.(U_dist1_1[30:35,30:35] .- U_dist2[30:35,30:35]) ./ \n",
    "    max.(abs.(U_dist1_1[30:35,30:35]),abs.(U_dist2[30:35,30:35]) .+1e-15))*100"
   ]
  },
  {
   "cell_type": "markdown",
   "metadata": {},
   "source": [
    "## 8. Ordering sequences with multidimensional scaling"
   ]
  },
  {
   "cell_type": "code",
   "execution_count": null,
   "metadata": {},
   "outputs": [],
   "source": [
    "# We use dissimilarities to sort sequences with argument 'sortv'\n",
    "# and function 'cmdscale':\n",
    "\n",
    "R\"\"\"seqplot(seqdata=$U_seq1,type=\"i\",idxs=0,sortv=cmdscale($U_dist1_1,k=1),\n",
    "    main=\"Sorted sequences\",xtlab=$(X_lab2),\n",
    "    with.legend=FALSE,border=NA,space=0,\n",
    "    xlab=\"Year\",ylab=\"ID\",cex.lab=1,cex.axis=1.2)\"\"\";\n",
    "\n",
    "# 'sortv' sets up a key to order the sequences\n",
    "# from bottom to top of the graph.\n",
    "\n",
    "# Interpret the graph: why this order?\n",
    "\n",
    "# 'cmdscale' is a function for multidimensional scaling (MDS)\n",
    "# that extracts the main \"hidden factors\" underlying the DM.\n",
    "# 'k=1' indicates that we select the main factor, the one\n",
    "# that would synthesise best the information contained\n",
    "# in the overall sample of sequences, so as to bring a minimum\n",
    "# of order into the graph."
   ]
  },
  {
   "cell_type": "code",
   "execution_count": null,
   "metadata": {},
   "outputs": [],
   "source": [
    "# We try the same with different costs and check the change of order\n",
    "\n",
    "R\"\"\"seqplot(seqdata=$U_seq1,type=\"i\",idxs=0,sortv=cmdscale($U_dist1_2,k=1),\n",
    "    main=\"Sorted sequences\",xtlab=$(X_lab2),\n",
    "    with.legend=FALSE,border=NA,space=0,\n",
    "    xlab=\"Year\",ylab=\"ID\",cex.lab=1,cex.axis=1.2)\"\"\";"
   ]
  },
  {
   "cell_type": "code",
   "execution_count": null,
   "metadata": {},
   "outputs": [],
   "source": [
    "R\"\"\"seqplot(seqdata=$U_seq1,type=\"i\",idxs=0,sortv=cmdscale($U_dist2,k=1),\n",
    "    main=\"Sorted sequences\",xtlab=$(X_lab2),\n",
    "    with.legend=FALSE,border=NA,space=0,\n",
    "    xlab=\"Year\",ylab=\"ID\",cex.lab=1,cex.axis=1.2)\"\"\";"
   ]
  },
  {
   "cell_type": "markdown",
   "metadata": {},
   "source": [
    "## 9. Clustering"
   ]
  },
  {
   "cell_type": "code",
   "execution_count": null,
   "metadata": {},
   "outputs": [],
   "source": [
    "# Clustering the dissimilarity matrix (best scosts)\n",
    "U_ward=R\"\"\"agnes($U_dist2,method=\"ward\")\"\"\""
   ]
  },
  {
   "cell_type": "code",
   "execution_count": null,
   "metadata": {},
   "outputs": [],
   "source": [
    "# Exploring the clustering tree (try horizontal tree with readable labels)\n",
    "R\"\"\"plot($U_ward,ask=F,which.plots=2)\"\"\";"
   ]
  },
  {
   "cell_type": "code",
   "execution_count": null,
   "metadata": {},
   "outputs": [],
   "source": [
    "# Selecting cuts in the tree\n",
    "U_clf7=R\"cutree($U_ward,k=7)\"\n",
    "U_clf7=rcopy(R\"factor($(U_clf7),levels=c(1,2,3,4,5,6,7))\")\n",
    "freqtable(U_clf7)"
   ]
  },
  {
   "cell_type": "code",
   "execution_count": null,
   "metadata": {},
   "outputs": [],
   "source": [
    "U_clf4=R\"cutree($U_ward,k=4)\"\n",
    "U_clf4=rcopy(R\"factor($(U_clf4),levels=c(1,2,3,4))\")\n",
    "freqtable(U_clf4)\n",
    "\n",
    "# The number of clusters corresponds to a certain vertical cut\n",
    "# in the horizontal tree. The best cut is made according to\n",
    "# several factors: the length of the gap between two successive nodes\n",
    "# in the tree; statistics that estimate the trade-off between\n",
    "# maximum contrast between clusters, and minimum contrast within clusters;\n",
    "# and interpretation of the clusters, which need to make sense\n",
    "# regarding the research question and your knowledge of the topic."
   ]
  },
  {
   "cell_type": "code",
   "execution_count": null,
   "metadata": {},
   "outputs": [],
   "source": [
    "R\"\"\"seqmsplot($U_seq1,$(U_clf4),main=\"Cluster\",xtlab=$(X_lab2),\n",
    "    with.legend=T,border=NA,xlab=\"Year\",\n",
    "    cex.lab=1,cex.axis=1.2,cex.legend=1.3)\"\"\";\n",
    "\n",
    "# Note that some of the arguments used for iplots\n",
    "# are not relevant for dplots and msplots"
   ]
  },
  {
   "cell_type": "code",
   "execution_count": null,
   "metadata": {},
   "outputs": [],
   "source": [
    "# Describing clusters statistically by means of a nominal variable\n",
    "\n",
    "U_Sex=rcopy(R\"\"\"cprop(table($(SwUn[:,:q1_Sex]),$(U_clf4)),total=T)\"\"\")\n",
    "\n",
    "# Interpret the result\n",
    "# The proportion of women is higher in clusters 3, then 1\n",
    "# The proportion of party members is lower in cluster 3\n",
    "# This should be interpreted with regard to the clusters'\n",
    "# sequential profiles, as visible in the graphs."
   ]
  },
  {
   "cell_type": "code",
   "execution_count": null,
   "metadata": {},
   "outputs": [],
   "source": []
  }
 ],
 "metadata": {
  "kernelspec": {
   "display_name": "Julia 1.3.0",
   "language": "julia",
   "name": "julia-1.3"
  },
  "language_info": {
   "file_extension": ".jl",
   "mimetype": "application/julia",
   "name": "julia",
   "version": "1.3.0"
  }
 },
 "nbformat": 4,
 "nbformat_minor": 2
}
