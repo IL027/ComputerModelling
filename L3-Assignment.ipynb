{
 "cells": [
  {
   "cell_type": "markdown",
   "metadata": {},
   "source": [
    "Before you turn this problem in, make sure everything runs as expected. First, **restart the kernel** (in the menubar, select Kernel$\\rightarrow$Restart) and then **run all cells** (in the menubar, select Cell$\\rightarrow$Run All).\n",
    "\n",
    "Make sure you fill in any place that says `YOUR CODE HERE` or \"YOUR ANSWER HERE\", as well as your name and collaborators below:"
   ]
  },
  {
   "cell_type": "code",
   "execution_count": null,
   "metadata": {},
   "outputs": [],
   "source": [
    "NAME = \"\"\n",
    "COLLABORATORS = \"\""
   ]
  },
  {
   "cell_type": "markdown",
   "metadata": {},
   "source": [
    "---"
   ]
  },
  {
   "cell_type": "markdown",
   "metadata": {},
   "source": [
    "**Start by running the cell below to import necessary packages and setup the testing enviornment**"
   ]
  },
  {
   "cell_type": "code",
   "execution_count": null,
   "metadata": {
    "deletable": false,
    "editable": false,
    "nbgrader": {
     "checksum": "de539f76876b4b5a572ce176bf951988",
     "grade": false,
     "grade_id": "cell-8e5ec24da82133ac",
     "locked": true,
     "schema_version": 1,
     "solution": false
    }
   },
   "outputs": [],
   "source": [
    "using Base.Test, Plots, LaTeXStrings, Distributions\n",
    "using DataFrames, DecisionTree\n",
    "plotlyjs()\n",
    "\n",
    "module L3grade \n",
    "    gradeQ2(args...) = nothing \n",
    "    gradeQ3(args...) = nothing \n",
    "    gradeQ4(args...) = nothing \n",
    "end\n",
    "try \n",
    "    include(\"L3grade.jl\")\n",
    "catch \n",
    "    println(\"Warning: can't find L3grade\")\n",
    "end;"
   ]
  },
  {
   "cell_type": "markdown",
   "metadata": {
    "deletable": false,
    "editable": false,
    "nbgrader": {
     "checksum": "df4694603310365cdbf9e66e7ec9ba24",
     "grade": false,
     "grade_id": "cell-1805b00066c3f93b",
     "locked": true,
     "schema_version": 1,
     "solution": false
    }
   },
   "source": [
    "# IL027 Computer Modelling for All\n",
    "\n",
    "## Lecture 3-Assignment\n",
    "\n",
    "Topics covered:\n",
    "* probability distributions\n",
    "* stochastic model\n",
    "* data analysis\n",
    "* predictive models\n",
    "\n",
    "**WARNING:** You should never edit the cloned notebook directly, but always edit a copy in your home folder. If you edit the cloned copy them it will be overwritten, next time you pull the latest update from the IL027 repository. So remember to make a copy of the `L2-Assignment.ipynb` notebook to your home directory before editing."
   ]
  },
  {
   "cell_type": "markdown",
   "metadata": {
    "deletable": false,
    "editable": false,
    "nbgrader": {
     "checksum": "920baa6b44824f8b83201d017aa5210f",
     "grade": false,
     "grade_id": "cell-370189e28173e954",
     "locked": true,
     "schema_version": 1,
     "solution": false
    }
   },
   "source": [
    "### Part a - Probability Distributions and Stochastic Models"
   ]
  },
  {
   "cell_type": "markdown",
   "metadata": {
    "deletable": false,
    "editable": false,
    "nbgrader": {
     "checksum": "516f8b4d71aa78679992ea1dae40ada6",
     "grade": false,
     "grade_id": "cell-8349c20abca74a99",
     "locked": true,
     "schema_version": 1,
     "solution": false
    }
   },
   "source": [
    "Question 1 (5%) \n",
    "\n",
    "Create a vector `x` of length `10` containing random numbers drawn from the normal distribution with mean $0$ and variance $1$. \n"
   ]
  },
  {
   "cell_type": "code",
   "execution_count": null,
   "metadata": {
    "deletable": false,
    "nbgrader": {
     "checksum": "de809056319676a50678371434451ca4",
     "grade": true,
     "grade_id": "cell-0d556b9057701896",
     "locked": false,
     "points": 5,
     "schema_version": 1,
     "solution": true
    }
   },
   "outputs": [],
   "source": [
    "# YOUR CODE HERE"
   ]
  },
  {
   "cell_type": "markdown",
   "metadata": {
    "deletable": false,
    "editable": false,
    "nbgrader": {
     "checksum": "a54298dea5379c8906eb2f9a827adb06",
     "grade": false,
     "grade_id": "cell-bbb012ea72cd1a48",
     "locked": true,
     "schema_version": 1,
     "solution": false
    }
   },
   "source": [
    "Question 2. (10%) \n",
    "\n",
    "Create a function `rexp(N)` that returns a vector `x` of length `N` containing random numbers drawn from the [exponential distribution](https://en.wikipedia.org/wiki/Exponential_distribution) with parameter $\\lambda = 1.234$.  (You may use either `randexp` or `Distributions.jl`.)"
   ]
  },
  {
   "cell_type": "code",
   "execution_count": null,
   "metadata": {
    "deletable": false,
    "nbgrader": {
     "checksum": "69d1d50912498a7475e0b27f57a6f143",
     "grade": false,
     "grade_id": "cell-68525c9447bc52eb",
     "locked": false,
     "schema_version": 1,
     "solution": true
    }
   },
   "outputs": [],
   "source": [
    "# YOUR CODE HERE"
   ]
  },
  {
   "cell_type": "code",
   "execution_count": null,
   "metadata": {
    "deletable": false,
    "editable": false,
    "nbgrader": {
     "checksum": "914fc1988df8f7366ca120c913e88b06",
     "grade": true,
     "grade_id": "cell-846db7af53956d69",
     "locked": true,
     "points": 10,
     "schema_version": 1,
     "solution": false
    }
   },
   "outputs": [],
   "source": [
    "L3grade.gradeQ2(rexp)"
   ]
  },
  {
   "cell_type": "markdown",
   "metadata": {
    "deletable": false,
    "editable": false,
    "nbgrader": {
     "checksum": "0ec8313d8e9594c9adffc9c9ae7b9144",
     "grade": false,
     "grade_id": "cell-b1a9dc896990a30f",
     "locked": true,
     "schema_version": 1,
     "solution": false
    }
   },
   "source": [
    "Question 3. (15%) \n",
    "\n",
    "[1] form a vector `y` of length `M` where each entry is of the form \n",
    "$$\n",
    "    y_i = \\frac{1}{N} \\sum_{j = 1} x_{ij},\n",
    "$$\n",
    "where $x_{ij}$ are independent random numbers drawn from Exp(1.234). (Note: you can reuse the answer from Q 2, but you don't have to!)\n",
    "\n",
    "[2] fit a normal distribution to the random numbers stored in the vector `y`.\n",
    "\n",
    "[3] Compute the `mean` and `variance` of the normal distribution and store them in the variables `m_fit, v_fit`.\n",
    "\n",
    "NOTE: cf. `using Distributions`, `?Normal` `?mean`, `?var`"
   ]
  },
  {
   "cell_type": "code",
   "execution_count": null,
   "metadata": {
    "deletable": false,
    "nbgrader": {
     "checksum": "60888620d786b9932e7a7ceb111e85a8",
     "grade": false,
     "grade_id": "cell-d4381720f6e646dd",
     "locked": false,
     "schema_version": 1,
     "solution": true
    }
   },
   "outputs": [],
   "source": [
    "M = 1_000\n",
    "N = 1_000\n",
    "y = zeros(M)\n",
    "# YOUR CODE HERE\n",
    ";"
   ]
  },
  {
   "cell_type": "code",
   "execution_count": null,
   "metadata": {
    "deletable": false,
    "editable": false,
    "nbgrader": {
     "checksum": "19ae9c0566a1e571969393d816b3ef0b",
     "grade": true,
     "grade_id": "cell-6496d25ae44d894f",
     "locked": true,
     "points": 15,
     "schema_version": 1,
     "solution": false
    }
   },
   "outputs": [],
   "source": [
    "L3grade.gradeQ3(m_fit, v_fit)"
   ]
  },
  {
   "cell_type": "code",
   "execution_count": null,
   "metadata": {},
   "outputs": [],
   "source": [
    "# you can draw a histogram to test your fit, \n",
    "# it is interesting to experiment with M, N and nbins\n",
    "# Which fundamental theorem of Probability theory can you see at work here?\n",
    "histogram(y, nbins=30, normed=true, label=\"data\")\n",
    "plot!( x -> pdf(Dn, x), lw=3, label=\"fit\" )"
   ]
  },
  {
   "cell_type": "markdown",
   "metadata": {
    "deletable": false,
    "editable": false,
    "nbgrader": {
     "checksum": "30af6966a78fb24231ab9a5bf4dea328",
     "grade": false,
     "grade_id": "cell-2a729f2f59695c1b",
     "locked": true,
     "schema_version": 1,
     "solution": false
    }
   },
   "source": [
    "Question 4. (20%)\n",
    "\n",
    "Suppose we roll $n$ traditional dice, what is the \n",
    "probability of obtaining a certain number $m$ as the\n",
    "sum of their faces? This can really be treated as a problem \n",
    "of combinatorics, but we will solve it using a  simple \n",
    "Monte-carlo simulation.\n",
    "\n",
    "1. Implement a function `diceroll(n)` that simulates rolling `n` traditional dice and returns the sum of their faces.\n",
    "\n",
    "2. Implement a function `mc_dice(n, m)` that uses a Monte-Carlo method to approximately determine the probability of throwing the sum `m` with `n` dice and returns it.\n",
    "\n",
    "3. Adjust the number of random samples so that you can be sure (reasonably confident) that the accuracy of your result is at least 0.01."
   ]
  },
  {
   "cell_type": "code",
   "execution_count": null,
   "metadata": {
    "deletable": false,
    "nbgrader": {
     "checksum": "95d98b6529bb19d0683608a27305becb",
     "grade": false,
     "grade_id": "cell-9207292e3e5567ec",
     "locked": false,
     "schema_version": 1,
     "solution": true
    }
   },
   "outputs": [],
   "source": [
    "# YOUR CODE HERE"
   ]
  },
  {
   "cell_type": "code",
   "execution_count": null,
   "metadata": {
    "deletable": false,
    "editable": false,
    "nbgrader": {
     "checksum": "02906af8e7f715c576414717c9501f2b",
     "grade": true,
     "grade_id": "cell-e10e6ad2b06a0808",
     "locked": true,
     "points": 20,
     "schema_version": 1,
     "solution": false
    }
   },
   "outputs": [],
   "source": [
    "L3grade.gradeQ4(mc_dice)"
   ]
  },
  {
   "cell_type": "code",
   "execution_count": null,
   "metadata": {},
   "outputs": [],
   "source": [
    "# test code which you can modify if you wish\n",
    "\n",
    "println(\"Test 1\")\n",
    "n = 2 \n",
    "m = 5  # 1+4, 2+3, 3+2, 3+1 => 4/36 = 1/9 \n",
    "for i = 1:3\n",
    "    @show mc_dice(n, m) - 1/9\n",
    "end\n",
    "\n",
    "println(\"Test 2\")\n",
    "n = 3\n",
    "m = 5  # (1 + 1 + 3) x 3; (1 + 2 + 2) x 3, => 6 / 216 = 0.02777\n",
    "for i = 1:3\n",
    "    @show mc_dice(n, m) - 6/216\n",
    "end\n"
   ]
  },
  {
   "cell_type": "markdown",
   "metadata": {
    "deletable": false,
    "editable": false,
    "nbgrader": {
     "checksum": "75cc3376296c18a7c1bf2ae0dae34dd3",
     "grade": false,
     "grade_id": "cell-6a4ec512df8e2bee",
     "locked": true,
     "schema_version": 1,
     "solution": false
    }
   },
   "source": [
    "-------"
   ]
  },
  {
   "cell_type": "markdown",
   "metadata": {
    "deletable": false,
    "editable": false,
    "nbgrader": {
     "checksum": "10684144a4ebb46c20ba6180b445731d",
     "grade": false,
     "grade_id": "cell-0768bdd4ed3842f3",
     "locked": true,
     "schema_version": 1,
     "solution": false
    }
   },
   "source": [
    "Bonus Question 1 (no marks)\n",
    "\n",
    "**Buffon's Needle Problem:**\n",
    "\n",
    "![buffon](http://mathworld.wolfram.com/images/eps-gif/BuffonNeedle_700.gif)\n",
    "\n",
    "Suppose the $(x,y)$ plane is covered by vertical lines with distance $d = 1$ (see image). We randomly drop needles of length $l$ in the plane, i.e. at random positions and at random angles. What is the probability that a needle crosses the line?\n",
    "\n",
    "Before you google for [a solution](http://mathworld.wolfram.com/BuffonsNeedleProblem.html), try to follow these instructions:\n",
    "\n",
    "1. A randomly dropped needle can be modelled by two uniformly distributed random numbers $x \\in [0, 1)$ for the $x$-coordinate of the needle centre and $\\theta \\in [0, \\pi/2)$ for the angle at which it falls. Why is $x \\in [0, 1)$ enough, why can we ignore $y$, and why is it sufficient to consider $\\theta \\in [0, \\pi/2)$?  \n",
    "2. Given the random numbers $x$, $\\theta$, show that the end-points of the needle are given by \n",
    "$$\n",
    "    \\begin{pmatrix}\n",
    "        x \\pm \\frac{l}{2}\\cos\\theta \\\\ \n",
    "        \\pm \\sin(\\theta)/2\n",
    "    \\end{pmatrix}\n",
    "$$\n",
    "\n",
    "3. Write a function `needle(l)` that first generates two such random numbers and then, the end-point $x$-coordinate $x\\pm = x \\pm \\frac{l}{2}\\cos\\theta$ and then returns `true` if the needle intersects the lines at $x = 0, 1$ and `false` if not.\n",
    "\n",
    "4. Write a short script that uses the `needle` function that solves the Buffon Needle Problem to within an error of, say, $0.01$. You can compare your code against the analytic solution (which you should be able to find easily).\n",
    "\n",
    "5. MORE CHALLENGING: You can try to extend the script to generate an image showing random needles with those that cross a line highlighted in a different color; see [this example](http://mathworld.wolfram.com/images/eps-gif/BuffonNeedleTosses_825.gif)"
   ]
  },
  {
   "cell_type": "code",
   "execution_count": null,
   "metadata": {
    "deletable": false,
    "nbgrader": {
     "checksum": "979c71c895ecf0cee41aa66956a5832f",
     "grade": false,
     "grade_id": "cell-49a2f72f3a70cc14",
     "locked": false,
     "schema_version": 1,
     "solution": true
    }
   },
   "outputs": [],
   "source": [
    "# Soln 1-4\n",
    "# YOUR CODE HERE\n"
   ]
  },
  {
   "cell_type": "code",
   "execution_count": null,
   "metadata": {
    "deletable": false,
    "nbgrader": {
     "checksum": "71357f8a437ac2fb7c45aeb4ad77c670",
     "grade": false,
     "grade_id": "cell-860c495ddc214d67",
     "locked": false,
     "schema_version": 1,
     "solution": true
    }
   },
   "outputs": [],
   "source": [
    "# Soln 5.\n",
    "# YOUR CODE HERE"
   ]
  },
  {
   "cell_type": "code",
   "execution_count": null,
   "metadata": {},
   "outputs": [],
   "source": []
  },
  {
   "cell_type": "markdown",
   "metadata": {
    "deletable": false,
    "editable": false,
    "nbgrader": {
     "checksum": "f265321d7d867c0bf0eb71376e34f251",
     "grade": false,
     "grade_id": "cell-4d35cd48e0c130c4",
     "locked": true,
     "schema_version": 1,
     "solution": false
    }
   },
   "source": [
    "Bonus Question 2 (no marks).\n",
    "\n",
    "This question requires a little bit of mathematics background. Simply skip if it seem too technical for your taste.\n",
    "\n",
    "Let $A \\in \\mathbb{R}^{N \\times N}$ be a square and symmetric matrix ($A^T = A$), then a value $\\lambda \\in \\mathbb{R}$ is an eigenvalue of $A$ if there exists a vector $v \\in \\mathbb{R}^N$ such that $A v = \\lambda v$. Since $A$ is symmetric, there exist exactly $N$ eigenvalues (with multiplicities), $\\lambda_1, \\dots, \\lambda_N$. \n",
    "\n",
    "Implement a short script that visualises the [Wigner Semi-circle Law](http://mathworld.wolfram.com/WignersSemicircleLaw.html): If $A_{ij} = A_{ji} \\sim N(0, 1)$ are independent then the distribution of the eigenvalues has the probability density \n",
    "$$\n",
    "  \\lim_{N \\to \\infty} \\mathbb{P}\\big( \\lambda_i/\\sqrt{N} \\in [a,b] \\big) \n",
    "      = \\frac{1}{2\\pi} \\int_a^b \\sqrt{\\big( 4 - x^2 \\big)^{1/2}} dx.\n",
    "$$\n",
    "A possible solution could create a large symmetric random matrix (1000 x 1000 should be enough and much larger would be comutationally very expensive), compute its eigenvalues, create a histogram of their distribution and finally overlay the theoretical probability distribution function."
   ]
  },
  {
   "cell_type": "code",
   "execution_count": null,
   "metadata": {
    "deletable": false,
    "nbgrader": {
     "checksum": "60783d0b351786a32621e7589483d9bc",
     "grade": true,
     "grade_id": "cell-42145690d15f34e3",
     "locked": false,
     "points": 0,
     "schema_version": 1,
     "solution": true
    }
   },
   "outputs": [],
   "source": [
    "# YOUR CODE HERE"
   ]
  },
  {
   "cell_type": "markdown",
   "metadata": {
    "collapsed": true
   },
   "source": [
    "### Part b - Data Analysis\n",
    "\n",
    "Start by loading the Titanic training dataset used in lectures, and applying the same transformations discussed to fill in missing values. Note you will have to copy the `titanic.csv` file into the same folder as your solution notebook."
   ]
  },
  {
   "cell_type": "code",
   "execution_count": null,
   "metadata": {
    "deletable": false,
    "editable": false,
    "nbgrader": {
     "checksum": "f3f32346bced35f7aa01475348021c25",
     "grade": false,
     "grade_id": "cell-545dfd063d65643b",
     "locked": true,
     "schema_version": 1,
     "solution": false
    }
   },
   "outputs": [],
   "source": [
    "titanic = readtable(\"titanic.csv\")\n",
    "\n",
    "# Use an enumerated type for Survived column\n",
    "@enum SurvivedType Dead=0 Survived=1\n",
    "titanic[:Survived] = SurvivedType.(titanic[:Survived]);\n",
    "\n",
    "# replaced missing Embarked entries with most common value\n",
    "embarked_mode = mode(dropna(titanic[:Embarked]))\n",
    "titanic[isna.(titanic[:Embarked]), :Embarked] = embarked_mode\n",
    "\n",
    "# drop rows where Age is missing\n",
    "titanic = titanic[.!isna.(titanic[:Age]), :];\n",
    "\n",
    "# add a Child feature where Age < 13\n",
    "@enum ChildType Child=0 Adult=1\n",
    "function classify_by_age(x)\n",
    "  if x < 13\n",
    "    Child\n",
    "  else\n",
    "    Adult\n",
    "  end\n",
    "end\n",
    "titanic[:Child] = classify_by_age.(titanic[:Age]);\n",
    "\n",
    "head(titanic)"
   ]
  },
  {
   "cell_type": "markdown",
   "metadata": {},
   "source": [
    "**Question 5. (10%)**\n",
    "\n",
    "The `Pclass` column gives the class passengers travelled in (1, 2 or 3), and can be viewed as a proxy for their socio-econonic class. Write a function `survival_by_class()` that takes the `titanic` dataset and the number of a class as arguments and returns the survival proportion in that class."
   ]
  },
  {
   "cell_type": "code",
   "execution_count": null,
   "metadata": {
    "deletable": false,
    "nbgrader": {
     "checksum": "e67336ada9599ccdf3aa7821260f5a52",
     "grade": false,
     "grade_id": "cell-be4e59dc44625d91",
     "locked": false,
     "schema_version": 1,
     "solution": true
    }
   },
   "outputs": [],
   "source": [
    "# YOUR CODE HERE"
   ]
  },
  {
   "cell_type": "code",
   "execution_count": null,
   "metadata": {
    "deletable": false,
    "editable": false,
    "nbgrader": {
     "checksum": "b5da49fbb21abf6eacfd00ea9fc096fb",
     "grade": true,
     "grade_id": "cell-150ffb2987db5562",
     "locked": true,
     "points": 10,
     "schema_version": 1,
     "solution": false
    }
   },
   "outputs": [],
   "source": [
    "@test isapprox(survival_by_class(titanic, 1), 0.656, atol=1e-2)\n",
    "@test isapprox(survival_by_class(titanic, 2), 0.479, atol=1e-2)\n",
    "@test isapprox(survival_by_class(titanic, 3), 0.239, atol=1e-2)"
   ]
  },
  {
   "cell_type": "markdown",
   "metadata": {},
   "source": [
    "**Question 6a. (10%)**\n",
    "\n",
    "Building on the example for the `Child` feature in the lecture, add a new column named `FamilySize` to the `titanic` dataset. The values should be the sum of the `SibSp` (Number of Siblings/Spouses Aboard) and `Parch` (Number of Parents/Children Aboard) plus one for the passenger themselves."
   ]
  },
  {
   "cell_type": "code",
   "execution_count": null,
   "metadata": {
    "deletable": false,
    "nbgrader": {
     "checksum": "c5fb296345a2c41c699dd8ae3fa75d37",
     "grade": false,
     "grade_id": "cell-198aba2d1e165c7f",
     "locked": false,
     "schema_version": 1,
     "solution": true
    }
   },
   "outputs": [],
   "source": [
    "# YOUR CODE HERE"
   ]
  },
  {
   "cell_type": "code",
   "execution_count": null,
   "metadata": {
    "deletable": false,
    "editable": false,
    "nbgrader": {
     "checksum": "d28421e504cc3e968b3bf4216c179ae2",
     "grade": true,
     "grade_id": "cell-b920e69289e6e663",
     "locked": true,
     "points": 8,
     "schema_version": 1,
     "solution": false
    }
   },
   "outputs": [],
   "source": [
    "@test mode(titanic[:FamilySize]) == 1\n",
    "@test isapprox(mean(titanic[:FamilySize]), 1.944, atol=1e-2)\n",
    "@test isapprox(std(titanic[:FamilySize]), 1.484, atol=1e-2)"
   ]
  },
  {
   "cell_type": "markdown",
   "metadata": {},
   "source": [
    "**Question 6b (5%).** \n",
    "\n",
    "Plot histograms to show the relationship between `FamilySize` and `Survived`. Write a short paragraph to describe what your results show."
   ]
  },
  {
   "cell_type": "code",
   "execution_count": null,
   "metadata": {
    "deletable": false,
    "nbgrader": {
     "checksum": "cdac7feef5e78530cbad8fc16f3d20bd",
     "grade": true,
     "grade_id": "cell-5db322d02dd8394a",
     "locked": false,
     "points": 5,
     "schema_version": 1,
     "solution": true
    }
   },
   "outputs": [],
   "source": [
    "# YOUR CODE HERE"
   ]
  },
  {
   "cell_type": "markdown",
   "metadata": {},
   "source": [
    "**Question 7a (10%)**\n",
    "\n",
    "Add a new column named `Title` to the `titanic` dataset which gives the title of the passenger, e.g. `Mr.`, `Mrs.` etc, without the trailing `\".\"`. The French titles `Mlle` and `Mme` must be translated to `Miss` and `Mrs`, respectively, and `Ms` should be reassigned to `Miss`.\n",
    "\n",
    "Optionally, you might also want to combine some of the rare titles to make a more descriptive feature."
   ]
  },
  {
   "cell_type": "code",
   "execution_count": null,
   "metadata": {
    "deletable": false,
    "nbgrader": {
     "checksum": "b34f26d78359c7b0211c8f055c5839ee",
     "grade": false,
     "grade_id": "cell-0ab3224f87c05923",
     "locked": false,
     "schema_version": 1,
     "solution": true
    }
   },
   "outputs": [],
   "source": [
    "# YOUR CODE HERE"
   ]
  },
  {
   "cell_type": "code",
   "execution_count": null,
   "metadata": {
    "deletable": false,
    "editable": false,
    "nbgrader": {
     "checksum": "b4c523ed89e64d321f6cc56039aac009",
     "grade": true,
     "grade_id": "cell-551188ee71dd4591",
     "locked": true,
     "points": 15,
     "schema_version": 1,
     "solution": false
    }
   },
   "outputs": [],
   "source": [
    "@test eltype(titanic[:Title]) == String\n",
    "@test sum(titanic[:Title] .== \"Mr\") == 398\n",
    "@test sum(titanic[:Title] .== \"Miss\") == 149\n",
    "@test sum(titanic[:Title] .== \"Mrs\") == 109"
   ]
  },
  {
   "cell_type": "markdown",
   "metadata": {},
   "source": [
    "**Question 7b (5%)**\n",
    "\n",
    "Which title is associated with the lowest chance of survival? Plot a graph to evidence your answer."
   ]
  },
  {
   "cell_type": "markdown",
   "metadata": {
    "deletable": false,
    "nbgrader": {
     "checksum": "1e7237a1198a9dfac597fd4732a66a9d",
     "grade": true,
     "grade_id": "cell-3fbe2456a5ab8af7",
     "locked": false,
     "points": 5,
     "schema_version": 1,
     "solution": true
    }
   },
   "source": [
    "YOUR ANSWER HERE"
   ]
  },
  {
   "cell_type": "code",
   "execution_count": null,
   "metadata": {
    "deletable": false,
    "nbgrader": {
     "checksum": "2bc6c04f122577a410d32c35b13fec1b",
     "grade": true,
     "grade_id": "cell-194b85729fdb5f7f",
     "locked": false,
     "points": 0,
     "schema_version": 1,
     "solution": true
    }
   },
   "outputs": [],
   "source": [
    "# YOUR CODE HERE"
   ]
  },
  {
   "cell_type": "markdown",
   "metadata": {},
   "source": [
    "**Question 8. (10%)**\n",
    "\n",
    "Fit a normal distribution to the `Age` variable from the `titanic` dataset.  Compute its mean and stadnard deviation and store them in the variables `mean_age` and `std_age`.\n",
    "\n",
    "*Optional extension:* plot a comparison of the data and fit and think about how these result could be used to avoid deleting the rows where the age is missing."
   ]
  },
  {
   "cell_type": "code",
   "execution_count": null,
   "metadata": {
    "deletable": false,
    "nbgrader": {
     "checksum": "c3f4f74e037469c116d8787a8dd54d7f",
     "grade": false,
     "grade_id": "cell-dd592f911930c59d",
     "locked": false,
     "schema_version": 1,
     "solution": true
    }
   },
   "outputs": [],
   "source": [
    "# YOUR CODE HERE"
   ]
  },
  {
   "cell_type": "code",
   "execution_count": null,
   "metadata": {
    "deletable": false,
    "editable": false,
    "nbgrader": {
     "checksum": "f15afdf69baa5d53865a83ab8ddf333c",
     "grade": true,
     "grade_id": "cell-29973bfa6df80bc6",
     "locked": true,
     "points": 10,
     "schema_version": 1,
     "solution": false
    }
   },
   "outputs": [],
   "source": [
    "@test mean_age ≈ 29.69911764705882\n",
    "@test std_age ≈ 14.516321150817317"
   ]
  },
  {
   "cell_type": "markdown",
   "metadata": {},
   "source": [
    "**Bonus Question (no marks)**\n",
    "\n",
    "Apply the `DecisionTree` from the lecture to build a classifier for surival on the Titanic, using all the features constructed so far as input, and reserving one third of the training data for testing. Store your results in the variable `predictions`. How accurate is your predictive model, and which features do you think are the most important?"
   ]
  },
  {
   "cell_type": "code",
   "execution_count": null,
   "metadata": {
    "deletable": false,
    "editable": false,
    "nbgrader": {
     "checksum": "57e9f2d38034380361ab571129526dac",
     "grade": false,
     "grade_id": "cell-05c5ff9d5a959139",
     "locked": true,
     "schema_version": 1,
     "solution": false
    }
   },
   "outputs": [],
   "source": [
    "srand(1) # seed the RNG for reproducible results\n",
    "train = rand(nrow(titanic)) .< 2/3\n",
    "test = .!train \n",
    "@show sum(train), sum(test)\n",
    "\n",
    "# use Survived column for the training data - feature selection is up to you!\n",
    "labels = convert(Array, titanic[:, :Survived]);"
   ]
  },
  {
   "cell_type": "code",
   "execution_count": null,
   "metadata": {
    "deletable": false,
    "nbgrader": {
     "checksum": "a21ddf4f3c1933e78106261f00d580f7",
     "grade": false,
     "grade_id": "cell-43db70fbde2a30e4",
     "locked": false,
     "schema_version": 1,
     "solution": true
    }
   },
   "outputs": [],
   "source": [
    "# YOUR CODE HERE"
   ]
  },
  {
   "cell_type": "code",
   "execution_count": null,
   "metadata": {
    "deletable": false,
    "editable": false,
    "nbgrader": {
     "checksum": "e236395ad4ebe02ee8f52fa90e0ce23d",
     "grade": true,
     "grade_id": "cell-8a611bec3d1ad26f",
     "locked": true,
     "points": 0,
     "schema_version": 1,
     "solution": false
    }
   },
   "outputs": [],
   "source": [
    "cm = confusion_matrix(labels[test], predictions)\n",
    "@show cm\n",
    "@test cm.accuracy > 0.70 # can you beat 70% accuracy?"
   ]
  },
  {
   "cell_type": "code",
   "execution_count": null,
   "metadata": {},
   "outputs": [],
   "source": []
  }
 ],
 "metadata": {
  "kernelspec": {
   "display_name": "Julia 0.6.2",
   "language": "julia",
   "name": "julia-0.6"
  },
  "language_info": {
   "file_extension": ".jl",
   "mimetype": "application/julia",
   "name": "julia",
   "version": "0.6.2"
  }
 },
 "nbformat": 4,
 "nbformat_minor": 2
}
