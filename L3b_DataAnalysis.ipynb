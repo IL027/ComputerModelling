
using DataFrames #NB: we are using pinned version 0.9.1 to match JuliaBox
using FreqTables
using Plots
using StatPlots
using Distributions
using DecisionTree

gr()
#Plots.scalefontsizes(1.5)

iris = readtable("iris.csv");

?iris

head(iris) # print the first few rows

@show size(iris)
@show nrow(iris)
@show ncol(iris)
@show names(iris)
@show eltypes(iris);

describe(iris[:Species])

species = levels(iris[:Species])

scatter(iris[:SepalWidth], iris[:SepalLength], group=iris[:Species])

@df iris scatter(:PetalWidth, :PetalLength, group=:Species)

p1 = @df iris histogram(:PetalLength, bins=30, label="PetalLength", c=1)
p2 = @df iris histogram(:PetalWidth, bins=30, label="PetalWidth", c=2)

plot(p1, p2)

@df iris marginalhist(:PetalLength, :PetalWidth, bins=30)

@df iris corrplot([:SepalLength :SepalWidth :PetalLength :PetalWidth], bins=20, grid=true)

function kmeans(data, K; means=nothing, update_means=true)
    N, M = size(data)
    if means == nothing
        # Initialise centers randomly within range of data        
        means = hcat([rand(Uniform(dmin, dmax), K) for (dmin, dmax) 
                        in zip(minimum(data,1), maximum(data,1)) ]...)
    end
    assign = zeros(Int, N)
    oldassign = zeros(Int, N)
    while true
       for n in 1:N  # E-step - update the assignment
           d = data[n, :] .- means' # distance from all the means
           dmin, kmin = findmin([norm(d[:, i]) for i=1:K])
           assign[n] = kmin # assign point to closest centre
       end
       all(oldassign == assign) && break # if nothing changed, we're done
       oldassign = copy(assign)
        
       if update_means
           means[:] = 0.0 # M-step - update the centers
           for k in 1:K
               any(assign .== k) && (means[k,:] = mean(data[assign .== k, :], 1))
           end
       end
   end
   return (assign, means)
end

features = convert(Array, iris[:, 1:4])
labels = convert(Array, iris[:, :Species])

assign, means = kmeans(features, 3); # K=3 clusters

cols = [1, 3]
p1 = scatter(iris[:,cols[1]], iris[:,cols[2]], 
             group=labels, title="True Assignment", marker=:o,
             xlabel=names(iris)[cols[1]], ylabel=names(iris)[cols[2]])
p2 = scatter(iris[:,cols[1]], iris[:,cols[2]], group=assign, 
             title="K-means",
             xlabel=names(iris)[cols[1]], ylabel=names(iris)[cols[2]])
scatter!(means[:,cols[1]], means[:,cols[2]], ms=10, marker=:s,
         label="Centers", color=[:blue, :red, :green])
plot(p1, p2, layout=(1,2))

function assign2predict(g)
    if g == 2
        return "setosa"
    elseif g == 3
        return "versicolor"
    elseif g == 1
        return "virginica"
    end
end

predictions = assign2predict.(assign)
cm = confusion_matrix(labels, predictions)

accuracy = sum(diag(cm.matrix))/sum(cm.matrix) * 100.

train = rand(nrow(iris)) .< 2/3
test = .!train 
sum(train), sum(test)

model = build_tree(labels[train], features[train,:])
print_tree(model, 4)

predictions = apply_tree(model, features[train,:])
cm = confusion_matrix([String(L) for L in labels[train]], predictions)

predictions = apply_tree(model, features[test, :])
cm = confusion_matrix([String(L) for L in labels[test]], predictions)
@show cm
cm.matrix

assign_train, means = kmeans(features[train,:], 3, means=means, update_means=true) 
assign_test, means = kmeans(features[test,:], 3, means=means, update_means=false)
predict_test = assign2predict.(assign_test)
cm = confusion_matrix([String(L) for L in labels[test]], predictions)
@show cm
cm.matrix

titanic = readtable("titanic.csv")
head(titanic)

describe(titanic[:Survived])

@enum SurvivedType Dead=0 Survived=1
titanic[:Survived] = SurvivedType.(titanic[:Survived]);

freqtable(titanic, :Survived)

freqtable(titanic, :Survived, :Sex)

freqtable(titanic, :Embarked)

describe(titanic[:Embarked])

freqtable(dropna(titanic[:Embarked]))

embarked_mode = mode(dropna(titanic[:Embarked]))
titanic[isna.(titanic[:, :Embarked]), :Embarked] = embarked_mode

describe(titanic[:Age])

titanic = titanic[.!isna.(titanic[:Age]), :];

describe(titanic[:Age])

male = titanic[titanic[:Sex] .== "male", :]
female = titanic[titanic[:Sex] .== "female", :]

pie(["Dead", "Survived"], freqtable(male, :Survived), layout=(1, 2), title="Male")
pie!(["Dead", "Survived"], freqtable(female, :Survived), layout=(1, 2), subplot=2, title="Female")

@df titanic histogram(:Age, xlabel="Age", ylabel="Frequency", bins=20, legend=false)

@df titanic density(:Age, groups=:Survived, lw=3)

@df titanic density(:Age, groups=:Sex, lw=3)

@enum ChildType Child=0 Adult=1

function classify_by_age(x)
  if x < 13
    Child
  else
    Adult
  end
end

titanic[:Child] = classify_by_age.(titanic[:Age]);

freqtable(titanic, :Child, :Survived)
