{
 "cells": [
  {
   "cell_type": "markdown",
   "metadata": {},
   "source": [
    "# IL027 Core Lecture 3 part 1 - Random Numbers\n",
    "\n",
    "### James Kermode\n",
    "\n",
    "### School of Engineering \n",
    "\n",
    "## Overview\n",
    "\n",
    "- Review of conditional `if` \n",
    "- generating random numbers: `rand, randn, randexp` \n",
    "- applications: Monte Carlo simulation of $\\pi$, Brownian motion \n",
    "- `Distributions.jl` package\n",
    "- fitting of distribution parameters"
   ]
  },
  {
   "cell_type": "code",
   "execution_count": null,
   "metadata": {},
   "outputs": [],
   "source": [
    "using Plots\n",
    "Plots.gr(fmt=:png);  \n",
    "# this selects a different plotting backend that we need for \n",
    "# animations. See Plots.jl documentation for more detail"
   ]
  },
  {
   "cell_type": "markdown",
   "metadata": {},
   "source": [
    "## Review: Conditionals \n",
    "\n",
    "Before we get into the main topic of the lecture we briefly review a control flow statement that we introduced in **Assignment 1**, but did not cover properly in L1 and L2. For example, consider implementing the Heaviside function \n",
    "$$\n",
    "    H(x) = \\begin{cases}\n",
    "        1, & x < 0  \\\\ \n",
    "        0, & x \\geq 0\n",
    "    \\end{cases}\n",
    "$$\n",
    "This can be achieved with an `if` statement."
   ]
  },
  {
   "cell_type": "code",
   "execution_count": null,
   "metadata": {},
   "outputs": [],
   "source": [
    "function H(x)\n",
    "    if x < 0 \n",
    "        return 1.0 \n",
    "    else \n",
    "        return 0.0 \n",
    "    end\n",
    "end"
   ]
  },
  {
   "cell_type": "code",
   "execution_count": null,
   "metadata": {},
   "outputs": [],
   "source": [
    "x = linspace(-1, 1, 100)\n",
    "plot(x, H.(x), lw = 3, xlims = (-1.1, 1.1), ylims = (-0.5, 1.5), label=\"H\")"
   ]
  },
  {
   "cell_type": "markdown",
   "metadata": {},
   "source": [
    "The general form of writing `if` statements can be looked up in the help text:"
   ]
  },
  {
   "cell_type": "code",
   "execution_count": null,
   "metadata": {},
   "outputs": [],
   "source": [
    "?if"
   ]
  },
  {
   "cell_type": "markdown",
   "metadata": {},
   "source": [
    "As usual, there are many alternative ways to implement `H`, e.g., using the ternary operator, \n",
    "```\n",
    "H1(x) = x < 0 ? 1.0 : 0.0\n",
    "```\n",
    "or simply a logical mask, \n",
    "```\n",
    "H2(x) = Float64(x < 0)\n",
    "```"
   ]
  },
  {
   "cell_type": "markdown",
   "metadata": {},
   "source": [
    "**Lecture Question:** write a function `incircle` that checks whether two coordinates `x`, `y` belong to the unit circle"
   ]
  },
  {
   "cell_type": "code",
   "execution_count": null,
   "metadata": {},
   "outputs": [],
   "source": []
  },
  {
   "cell_type": "markdown",
   "metadata": {},
   "source": [
    "## Random Numbers\n"
   ]
  },
  {
   "cell_type": "code",
   "execution_count": null,
   "metadata": {},
   "outputs": [],
   "source": [
    "?random"
   ]
  },
  {
   "cell_type": "code",
   "execution_count": null,
   "metadata": {},
   "outputs": [],
   "source": [
    "?rand"
   ]
  },
  {
   "cell_type": "code",
   "execution_count": null,
   "metadata": {},
   "outputs": [],
   "source": [
    "# compute a single random number in [0, 1]\n",
    "rand()"
   ]
  },
  {
   "cell_type": "code",
   "execution_count": null,
   "metadata": {},
   "outputs": [],
   "source": [
    "# compute many random numbers \n",
    "for n = 1:5 \n",
    "    println(rand())\n",
    "end "
   ]
  },
  {
   "cell_type": "code",
   "execution_count": null,
   "metadata": {},
   "outputs": [],
   "source": [
    "# or get a vector of random numbers \n",
    "x = rand(5)"
   ]
  },
  {
   "cell_type": "code",
   "execution_count": null,
   "metadata": {},
   "outputs": [],
   "source": [
    "println(\"random integer between 1 and 10:\")\n",
    "@show rand(1:10)\n",
    "println()\n",
    "println(\"random element from a collection:\")\n",
    "@show rand([\"the\", \"quick\", \"brown\", \"fox\"])\n",
    "println()\n",
    "println(\"A 2 x 2 matrix of random integers:\")\n",
    "@show rand(1:5, (2,2))\n",
    ";"
   ]
  },
  {
   "cell_type": "markdown",
   "metadata": {},
   "source": [
    "Specifically, `rand()` draws a random number from the **Uniform Distribution** on $[0, 1]$. More precisely, this means that, if `x = rand()` and $[a, b] \\subset [0, 1]$, then  \n",
    "$$\n",
    "    \\mathbb{P}\\big( x \\in [a, b] \\big) = b-a\n",
    "$$\n",
    "This is only one of many useful probability distributions. We will learn about other distributions below."
   ]
  },
  {
   "cell_type": "markdown",
   "metadata": {},
   "source": [
    "### Application: Compute π\n",
    "\n",
    "\n",
    "\n",
    "The area of the unit circle is $\\pi$. If we draw two random numbers $x, y$, uniformly distributed in $[-1, 1]$ then the probability that the point $(x, y)$ belongs to the unit circle is exactly $\\pi / 4$ (the area of the circle divided by the area of the square $[-1, 1]^2$.  Or, simpler, if we draw two random numbers $x, y$ uniformly distributed in $[0, 1]$ then the probability that $(x, y)$ belongs to the quarter unit circle is again $\\pi/4$. Therefore, to compute $\\pi$, we can simply draw many random numbers and compute the expectation that $(x,y)$ is in the quarter circle.\n",
    "\n",
    "<p><a href=\"https://commons.wikimedia.org/wiki/File:MonteCarloIntegrationCircle.svg#/media/File:MonteCarloIntegrationCircle.svg\"><img width=\"300\" src=\"https://upload.wikimedia.org/wikipedia/commons/thumb/2/20/MonteCarloIntegrationCircle.svg/1200px-MonteCarloIntegrationCircle.svg.png\" alt=\"MonteCarloIntegrationCircle.svg\"></a><br>By <a href=\"//commons.wikimedia.org/w/index.php?title=User:Yoderj&amp;action=edit&amp;redlink=1\" class=\"new\" title=\"User:Yoderj (page does not exist)\">User:Yoderj</a>, <a href=\"https://en.wikipedia.org/wiki/User:Mysid\" class=\"extiw\" title=\"w:User:Mysid\">Mysid</a> - <span class=\"int-own-work\" lang=\"en\">Own work</span>, derived in Inkscape from <a class=\"mw-selflink selflink\">Image:MonteCarloIntegrationCircle.svg</a>, <a href=\"http://creativecommons.org/publicdomain/zero/1.0/deed.en\" title=\"Creative Commons Zero, Public Domain Dedication\">CC0</a>, <a href=\"https://commons.wikimedia.org/w/index.php?curid=35608043\">Link</a></p>\n"
   ]
  },
  {
   "cell_type": "code",
   "execution_count": null,
   "metadata": {},
   "outputs": [],
   "source": [
    "# number of draws\n",
    "Nsamples = 1_000_000\n",
    "\n",
    "# specify the function testing that two numbers are in the circle\n",
    "# NOTE: True ≡ 1, False ≡ 0\n",
    "incircle(x, y) = (x^2 + y^2 < 1)\n",
    "\n",
    "function estimate_pi(Nsamples)\n",
    "    count = 0\n",
    "    for n = 1:Nsamples \n",
    "        x, y = rand(), rand()\n",
    "        count += incircle(x, y) \n",
    "    end \n",
    "    approx_pi = 4 * count / Nsamples\n",
    "    return approx_pi\n",
    "end\n",
    "\n",
    "approx_pi = estimate_pi(Nsamples)\n",
    "println(\"Approximation for π: \", approx_pi)\n",
    "println(\"Error: \", abs(π - approx_pi))"
   ]
  },
  {
   "cell_type": "markdown",
   "metadata": {},
   "source": [
    "The algorithm in the previous cell is in fact the simplest example of a Monte-Carlo Algorithm! See [Wikipedia](https://en.wikipedia.org/wiki/Monte_Carlo_method) for an introduction and for references."
   ]
  },
  {
   "cell_type": "markdown",
   "metadata": {},
   "source": [
    "**Lecture Question** Plot a graph to demonstrate that the error in the Monte Carlo estimate for $\\pi$ goes down as $1/\\sqrt{N}$ as the number of samples $N$ increases."
   ]
  },
  {
   "cell_type": "code",
   "execution_count": null,
   "metadata": {},
   "outputs": [],
   "source": []
  },
  {
   "cell_type": "markdown",
   "metadata": {},
   "source": [
    "Another very common distribution is the Gaussian, or Normal distribution $N(m, \\sigma)$, given by \n",
    "$$\n",
    "    \\mathbb{P}\\big( x \\in [a, b] \\big) = \\frac{1}{\\sqrt{\\pi}} \\int_{a}^b e^{- (x-m)^2/\\sigma} dx\n",
    "$$\n",
    "Here, $m$ is the mean and $\\sigma$ the *variance* of the distribution. Informally, the variance measures how far random numbers are spread out from their average value; see [Wikipedia](https://en.wikipedia.org/wiki/Variance) for more information and references.\n",
    "\n",
    "The normal distribution can be visualised as $\\mathbb{P}\\big( x \\in [a, b] \\big)$ being the shaded area under the curve:"
   ]
  },
  {
   "cell_type": "code",
   "execution_count": null,
   "metadata": {},
   "outputs": [],
   "source": [
    "a, b = 0.5, 1.5\n",
    "x = linspace(-3, 3, 200)\n",
    "f(x) = π^(-1/2) * exp(- x^2)\n",
    "plot(x, f.(x), lw=5, label = \"\", xlim=(-3.0, 3.0), ylim = (-0.05, 0.6))\n",
    "x1 = linspace(a, b, 100)\n",
    "plot!([x1[1];x1;x1[end];x1[1]], [0.0;f.(x1);0.0;0.0], lw=3, label=\"\", fill=true,\n",
    "        xticks = ([-3, 0, 0.5, 1.5, 3], \n",
    "                  [\"-3\", \"0\", \"a=0.5\", \"b=1.5\", \"3\"]), tickfont=font(13))\n"
   ]
  },
  {
   "cell_type": "markdown",
   "metadata": {},
   "source": [
    "More generally, if $f : \\mathbb{R} \\to \\mathbb{R}_+$ with $\\int_{\\mathbb{R}} f(x) dx = 1$ then a probability distribution is defined by \n",
    "$$\n",
    "    \\mathbb{P}(x \\in [a, b]) = \\int_a^b f(x) dx.\n",
    "$$\n",
    "Julia comes out of the box with \n",
    "* Uniform distribution: `rand` \n",
    "* Normal distribution: `randn` \n",
    "* exponential distribution: `randexp`"
   ]
  },
  {
   "cell_type": "markdown",
   "metadata": {},
   "source": [
    "### Application: Brownian Motion\n",
    "\n",
    "<p><a href=\"https://commons.wikimedia.org/wiki/File:Brownian_motion_large.gif#/media/File:Brownian_motion_large.gif\"><img src=\"https://upload.wikimedia.org/wikipedia/commons/c/c2/Brownian_motion_large.gif\" alt=\"Brownian motion large.gif\" height=\"240\" width=\"240\"></a><br>By <a href=\"//commons.wikimedia.org/w/index.php?title=User:Lookang&amp;action=edit&amp;redlink=1\" class=\"new\" title=\"User:Lookang (page does not exist)\">Lookang</a> Author of computer model: Francisco Esquembre, Fu-Kwun and lookang - <span class=\"int-own-work\" lang=\"en\">Own work</span>, <a href=\"https://creativecommons.org/licenses/by-sa/3.0\" title=\"Creative Commons Attribution-Share Alike 3.0\">CC BY-SA 3.0</a>, <a href=\"https://commons.wikimedia.org/w/index.php?curid=19140345\">Link</a></p>\n",
    "\n",
    "The above video shows a large and heavy particle moving randomly by bouncing off many smaller surrounding particles, for example, Pollen grains in water (Brown) or small dust particles in air (Lucretius); see [Wikipedia](https://en.wikipedia.org/wiki/Brownian_motion) for a nice introduction. There are in fact a wide variety of physical scenarios where such random motion occurs naturally. \n",
    "\n",
    "Instead of accounting for every particle in the \"bath\", Einstein proposed to replace the \"bath\" with a random forcing term. We will not go into the mathematical or physical details of this *Brownian Motion* but instead simulate a time-discrete variant thereof:\n",
    "$$\\begin{align*}\n",
    "    x_{n+1} &= x_n + \\sqrt{\\Delta t} R_n, \\\\ \n",
    "    y_{n+1} &= y_n + \\sqrt{\\Delta t} S_n\n",
    "\\end{align*}$$\n",
    "where $(x_n, y_n)$ are the position of the particle at time $n$ and \n",
    "$R_n, S_n \\sim N(0, 1)$ are independent and normally distributed random samples."
   ]
  },
  {
   "cell_type": "code",
   "execution_count": null,
   "metadata": {},
   "outputs": [],
   "source": [
    "Nsteps = 1_000\n",
    "dt = 0.1\n",
    "# allocate arrays \n",
    "x = zeros(Nsteps)\n",
    "y = zeros(Nsteps)\n",
    "# simulate the RW \n",
    "for n = 2:Nsteps \n",
    "    a, b = rand()-0.5, rand() - 0.5\n",
    "    x[n] = x[n-1] + sqrt(dt) * a \n",
    "    y[n] = y[n-1] + sqrt(dt) * b \n",
    "end "
   ]
  },
  {
   "cell_type": "code",
   "execution_count": null,
   "metadata": {},
   "outputs": [],
   "source": [
    "# and animation of the random walk\n",
    "@gif for n = 1:10:Nsteps\n",
    "    plot(x[1:n], y[1:n], xlim = (-6, 6), ylim = (-6, 6), label=\"\")\n",
    "    plot!([x[n]], [y[n]], lw=0, marker=:o, ms=8, label = \"\")\n",
    "end"
   ]
  },
  {
   "cell_type": "code",
   "execution_count": null,
   "metadata": {},
   "outputs": [],
   "source": [
    "# or a completely different interpretation? \n",
    "t = linspace(0, 365, Nsteps)\n",
    "plot(t, x, label=\"\")\n",
    "plot!(t, y, label=\"\", \n",
    "      xticks = (cumsum([31, 30, 31, 28, 31, 30, 31, 31, 30, 31, 30, 31]), \n",
    "                [\"Jan\", \"Feb\", \"Mar\", \"Apr\", \"May\", \"Jun\", \n",
    "                 \"Jul\", \"Aug\", \"Sep\", \"Oct\", \"Nov\", \"Dec\"]) )"
   ]
  },
  {
   "cell_type": "markdown",
   "metadata": {},
   "source": [
    "### Other Distributions\n",
    "\n",
    "Many distributions can be generated from `rand`, `randn` and `randexp`, however it is in general a subtle problem to implement new distributions in an efficient and numerically robust way. A better approach is to find a library that already has the needed distributions implemented: `Distributions.jl`"
   ]
  },
  {
   "cell_type": "code",
   "execution_count": null,
   "metadata": {},
   "outputs": [],
   "source": [
    "using Distributions"
   ]
  },
  {
   "cell_type": "code",
   "execution_count": null,
   "metadata": {},
   "outputs": [],
   "source": [
    "?Distributions"
   ]
  },
  {
   "cell_type": "markdown",
   "metadata": {},
   "source": [
    "### Application: speed of Maxwell particles\n",
    "\n",
    "Suppose a particle has velocity vector $\\mathbf{v} = (v_1, v_2, v_3)$ with $v_j \\sim N(\\bar{v}, 1)$ and independently distributed (Maxwell distribution). Then the *speed* of the particle is distributed according to the [Chi Distribution](https://en.wikipedia.org/wiki/Chi_distribution): \n",
    "$$\n",
    "    v = |\\mathbf{v}| = \\sqrt{v_1^2 + v_2^2 + v_3^2}\n",
    "$$"
   ]
  },
  {
   "cell_type": "code",
   "execution_count": null,
   "metadata": {},
   "outputs": [],
   "source": [
    "?Chi"
   ]
  },
  {
   "cell_type": "code",
   "execution_count": null,
   "metadata": {},
   "outputs": [],
   "source": [
    "@show D = Chi(3)\n",
    "@show mean(D)\n",
    "@show var(D)     # variance \n",
    ";"
   ]
  },
  {
   "cell_type": "markdown",
   "metadata": {},
   "source": [
    "For fun, we can perform a simple test that this is indeed the correct distribution, by creating samples of gaussian random vectors and putting their lengths into bins."
   ]
  },
  {
   "cell_type": "code",
   "execution_count": null,
   "metadata": {},
   "outputs": [],
   "source": [
    "Nsamples = 1_000_000\n",
    "# generate random speeds\n",
    "v = [ norm(randn(3))  for n = 1:Nsamples ]\n",
    "# Categorize into bins and plot the bins\n",
    "histogram(v, nbins = 100, normed=true, label = \"empirical\")\n",
    "# plot the probability density function on top \n",
    "x = linspace(0, 5, 100)\n",
    "plot!(x, pdf.(D, x), lw=3, label=\"theoretical\")\n"
   ]
  },
  {
   "cell_type": "markdown",
   "metadata": {},
   "source": [
    "### Fitting a distribution\n",
    "\n",
    "Suppose that we have some random (or, noisy) data, which we *believe* corresponds to a certain distribution but we don't know the correct parameters. Then `Distributions.jl` has a mechanism of determining the parameters for you: [Distribution Fitting](https://juliastats.github.io/Distributions.jl/latest/fit.html#Distribution-Fitting-1), implemented using [Maximum Likelihood estimation](https://en.wikipedia.org/wiki/Maximum_likelihood_estimation). We will not cover this method, but only use it."
   ]
  },
  {
   "cell_type": "code",
   "execution_count": null,
   "metadata": {},
   "outputs": [],
   "source": [
    "?fit"
   ]
  },
  {
   "cell_type": "markdown",
   "metadata": {},
   "source": [
    "**Warning:** Unfortunately, `fit` is not implemented for all distributions, e.g., it is not available for the $\\chi$-distribution."
   ]
  },
  {
   "cell_type": "code",
   "execution_count": null,
   "metadata": {},
   "outputs": [],
   "source": [
    "Nsamples = 1_000_000\n",
    "v = [ norm(randn(3))  for n = 1:Nsamples ]\n",
    "D = fit(Chi, v)"
   ]
  },
  {
   "cell_type": "markdown",
   "metadata": {},
   "source": [
    "However, the $\\chi^2$ fit is implemented, in that the $\\chi^2$-distribution is a special case of the $\\Gamma$-distribution."
   ]
  },
  {
   "cell_type": "code",
   "execution_count": null,
   "metadata": {},
   "outputs": [],
   "source": [
    "# create many random samples\n",
    "Nsamples = 1_000_000\n",
    "v = [ norm(randn(3))^2  for n = 1:Nsamples ]   \n",
    "# fit the data `v` to the Γ distribution \n",
    "D = fit(Gamma, v)"
   ]
  },
  {
   "cell_type": "code",
   "execution_count": null,
   "metadata": {},
   "outputs": [],
   "source": [
    "# Visualise the result to make sure the fit is ok!\n",
    "# Categorize data into bins and plot the height of the bins\n",
    "histogram(v, nbins = 100, normed=true, label = \"empirical\")\n",
    "# plot the probability density function on top \n",
    "x = linspace(0, 20, 200)\n",
    "plot!(x, pdf.(D, x), lw=3, label=\"fit to Gamma\", xlim=(-2, 22), ylim = (0,0.25))\n",
    "\n",
    "# # REMARK: if we naively fit to a normal (e.g.) then this \n",
    "# #         is of course admissible but the fit will be poor!\n",
    "# Dn = fit(Normal, v)\n",
    "# xn = linspace(-2, 15, 200)\n",
    "# plot!(x, pdf.(Dn, x), lw=3, ls = :dot, label=\"fit to Normal\", color = :black)"
   ]
  },
  {
   "cell_type": "markdown",
   "metadata": {},
   "source": [
    "### Remark on Random Number Generators\n",
    "\n",
    "A word of warning: a computer cannot generate *genuine* random numbers, instead it generates so-called pseudo-random numbers. They look (and for most practical purposes act) like real random numbers, but there are some limitations. For more on RNGs see [Wikipedia](https://en.wikipedia.org/wiki/Random_number_generation) and for more in RNGs in Julia see [the documentation](https://docs.julialang.org/en/stable/stdlib/numbers/#Random-Numbers-1)\n",
    "\n",
    "Look in particular at the documentation for `srand` in order to understand how to \"seed\" (i.e initialise) random number generators."
   ]
  },
  {
   "cell_type": "code",
   "execution_count": null,
   "metadata": {},
   "outputs": [],
   "source": [
    "?srand"
   ]
  },
  {
   "cell_type": "code",
   "execution_count": null,
   "metadata": {},
   "outputs": [],
   "source": []
  }
 ],
 "metadata": {
  "kernelspec": {
   "display_name": "Julia 0.6.4",
   "language": "julia",
   "name": "julia-0.6"
  },
  "language_info": {
   "file_extension": ".jl",
   "mimetype": "application/julia",
   "name": "julia",
   "version": "0.6.4"
  }
 },
 "nbformat": 4,
 "nbformat_minor": 2
}
