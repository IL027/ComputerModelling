{
 "cells": [
  {
   "cell_type": "markdown",
   "metadata": {},
   "source": [
    "# IL027 Interdisciplinary Computer Modelling\n",
    "\n",
    "## Lecture 4 - N-body Problem and Mission to Mars\n",
    "\n",
    "### James Kermode - School of Engineering\n",
    "\n",
    "**Run this code before running the remaining code**"
   ]
  },
  {
   "cell_type": "code",
   "execution_count": null,
   "metadata": {},
   "outputs": [],
   "source": [
    "using Base.Test\n",
    "using Plots\n",
    "using ForwardDiff\n",
    "gr(fmt=:png)"
   ]
  },
  {
   "cell_type": "markdown",
   "metadata": {},
   "source": [
    "## Background\n",
    "\n",
    "For the purposes of this lecture, imagine we are in the year 2044 and human colonies are already established on Mars. There are some aliens that want to attack and conquer Mars and the Earth.\n",
    "\n",
    "<img src=\"img/Alien_attack.jpg\" alt=\"Alien_attack\" style=\"width: 400px;\" align=\"middle\" />"
   ]
  },
  {
   "cell_type": "markdown",
   "metadata": {},
   "source": [
    "## Escape velocity of a ballistic missile\n",
    "\n",
    "The UK Space Agency (UKSA) will launch a spacecraft to defend the Earth from aliens. \n",
    "\n",
    "<img src=\"img/UKSA.jpg\" alt=\"UKSA\" style=\"width: 300px;\" align=\"middle\"/>\n",
    "\n",
    "Engineers need to calculate the minimum velocity (called escape velocity $v_e$) with which the missile must be launched in order to escape the Earth. Assuming the Earth is a spherical symmetric massive body with no atmosphere, the escape velocity $v_e$ of any object launched on Earth’s surface is:\n",
    "\n",
    "$$ v_e = \\sqrt{\\frac{2GM_e}{R_e}} $$\n",
    "\n",
    "where $G$ is the universal gravitational constant, $M_e$ the mass of the Earth, and $R_e$ is the radius of the Earth. Note that this equation is independent of the mass of the object. The following sketch illustrates the idea of launching an object to space at different velocities:"
   ]
  },
  {
   "cell_type": "markdown",
   "metadata": {},
   "source": [
    "<img src=\"img/Escape_velocity.jpg\" alt=\"Escape_velocity\" style=\"width: 300px;\" align=\"middle\"/>\n",
    "\n",
    "**Lecture Question 1.** Look up the values of $G$, $M_e$ and $R_e$, and then calculate $v_e$."
   ]
  },
  {
   "cell_type": "code",
   "execution_count": null,
   "metadata": {},
   "outputs": [],
   "source": [
    "G = 6.67408e-11 # m^3 kg^{-1} s^{-1}\n",
    "M_e = 5.972e24 # kg\n",
    "R_e = 6.373e6 # m\n",
    "\n",
    "v_e = sqrt(2*G*M_e/R_e) # m/s\n",
    "\n",
    "@printf(\"Escape velocity: %.1f km/s\", v_e / 1e3) # printf macro useful for formatted printing"
   ]
  },
  {
   "cell_type": "markdown",
   "metadata": {},
   "source": [
    "## Flying a spacecraft to mars\n",
    "\n",
    "As a response strategy, the UKSA decided to send a spacecraft to Mars to defend the human colonies there. To do this, it is necessary to know the trajectories of Earth and Mars with respect to the Solar System frame of reference. Trajectories of planets and stars are inter-dependent, since they mutually attract each other due to gravity. This makes the process of prediction a non-trivial task.\n",
    "\n",
    "### 3-body problem\n",
    "\n",
    "A group of student interns at UKSA decide to model the trajectories of Earth and Mars using Newtonian gravity. They make the following assumptions: \n",
    "\n",
    "- the planets are moving in a two-dimentional plane, \n",
    "- the effect of the rest of the planets of the Solar System on the trajectories of the Earth and Mars is negligible. \n",
    "\n",
    "Any object subjected to a gravitational field has potential energy $U$:\n",
    "\n",
    "$$ U = -G \\frac{m_1 m_2}{r_{12}} $$\n",
    "\n",
    "where $G$ is the universal gravitational constant, $m_1$ the mass of the object creating a gravitational field, $m_2$ the mass of the object subjected to the gravitational field and $r_{12}$ is the distance between the objects. In this case, the Earth is subjected to the gravitational fields of the Sun and Mars, and vice versa. The total potential energy with $N$ bodies is\n",
    "\n",
    "$$ U(\\mathbf{R}) = -\\frac{G}{2} \\sum_{i=1}^{N} \\sum_{j=1\\\\i \\ne j}^{N} \\frac{m_{i} m_{j}}{r_{ij}} $$\n",
    "\n",
    "where the sum runs over the $N$ bodies, avoiding the self-interaction case $i=j$ and the factor of \\frac{1}{2} is to avoid double counting and the vector $\\mathbf{R}$ gives the positions of all bodies - for our example with the Sun, Earth and Mars, $\\mathbf{R} = (\\mathbf{r}_s, \\mathbf{r}_e, \\mathbf{r}_m)$.\n",
    "\n",
    "We will use the convention that vectors denoted by a capital letter (e.g. $\\mathbf{R}$) are for the full system, while those denoted by a lower case letter are for an individual body (e.g. $\\mathbf{r}_i$). The same convention is applied in code (but without the bold formatting!).\n",
    "\n",
    "This is an example of a [3-body problem](https://en.wikipedia.org/wiki/Three-body_problem), or more generally, an $N$-body problem."
   ]
  },
  {
   "cell_type": "code",
   "execution_count": null,
   "metadata": {},
   "outputs": [],
   "source": [
    "D = 2 # dimensionality of space (2D, 3D etc.)\n",
    "N = 3 # number of bodies - currently Sun, Earth, Mars - we will increase this later\n",
    "\n",
    "function U(R::Vector)\n",
    "    r = reshape(R, (N, D)) # convert from 1d vector back to D-dimensional (here 2D)\n",
    "    U = 0.0\n",
    "    for i=1:N\n",
    "        for j=1:N\n",
    "            (i==j) && continue             # skip self-interation\n",
    "            r_ij = norm(r[i, :] - r[j, :]) # distance from i to j\n",
    "            U += -G/2.0 * m[i]*m[j] / r_ij # contribution to potential\n",
    "        end\n",
    "    end\n",
    "    return U\n",
    "end"
   ]
  },
  {
   "cell_type": "markdown",
   "metadata": {},
   "source": [
    "### Masses of planetary bodies\n",
    "\n",
    "For calculating the trajectories of Mars and Earth, we need to know the masses of the Sun, Earth and Mars, as well as their initial positions and velocities. \n",
    "\n",
    "The masses of these three bodies are respectively: $1.989 \\times 10^{30}$ kg, $5.972 \\times 10^{24}$ kg, and $6.39 \\times 10^{23}$ kg. Since these numbers are huge, let's scale them by using solar mass units $M_s$, where $M_s = 1.989 \\times 10^{30}$ kg. Then, the masses are respectively: $1 M_s$, $0.000003 M_s$, and $0.00000032 M_s$:"
   ]
  },
  {
   "cell_type": "code",
   "execution_count": null,
   "metadata": {},
   "outputs": [],
   "source": [
    "# Masses in solar mass units\n",
    "m_s = 1.0  \n",
    "m_e = 0.000003 \n",
    "m_m = 0.00000032\n",
    "\n",
    "m = [m_s, m_e, m_m] # pack masses into a 1D array\n",
    "M = repeat(m, D);   # repeat masses for each dimension"
   ]
  },
  {
   "cell_type": "markdown",
   "metadata": {},
   "source": [
    "### Distances in astronomical units\n",
    "\n",
    "Similarily, we scale the distance by using Astronomical Units (A.U.), where 1 A.U. = $1.5 × 10^{11}$ m (which is about the average distance from the Earth to the Sun), and defined the sun to be at coordinates (0,0) in the 2-dimentional plane. The spacecraft is going to be launched on April 1st, 2044, for which the UKSA estimates that the positions of the Sun, Earth and Mars are:"
   ]
  },
  {
   "cell_type": "code",
   "execution_count": null,
   "metadata": {},
   "outputs": [],
   "source": [
    "# Initial position vectors in X,Y coordinates\n",
    "r_s = [0.0, 0.0]\n",
    "r_e = [0.1, -1.0] # In astronomical units\n",
    "r_m = [0.0, -1.524]; # In astronomical units"
   ]
  },
  {
   "cell_type": "markdown",
   "metadata": {},
   "source": [
    "### Packing and unpacking vectors\n",
    "\n",
    "To simplify the code for the integration of the equations, it is easier if we pack the positions into an $N\\times D$ matrix and then reshape this into a 1D vector of length $ND$."
   ]
  },
  {
   "cell_type": "code",
   "execution_count": null,
   "metadata": {},
   "outputs": [],
   "source": [
    "@show r0 = [r_s r_e r_m]' # NxD array of positions, NB: transpose\n",
    "\n",
    "R0 = reshape(r0, N*D) # pack into 1D array\n",
    "@show R0\n",
    "\n",
    "# check we can get back to where we started!\n",
    "@test all(r0 .== reshape(R0, (N, D)))"
   ]
  },
  {
   "cell_type": "markdown",
   "metadata": {},
   "source": [
    "### Computing forces from the potential\n",
    "\n",
    "Newton's second law relates the forces felt by each body $i = 1 \\ldots N$ to their acceleration:\n",
    "\n",
    "$$\\mathbf{f}_i = m_i \\mathbf{a}_i$$\n",
    "\n",
    "$$-\\nabla_i U(\\mathbf{R}) = m_i \\frac{d \\mathbf{v}_i}{dt} = m \\frac{d^2\\mathbf{r}_i}{dt^2}$$\n",
    "\n",
    "By taking the derivative of the potential energy with respect to the positions, the force of attraction between the bodies can be calculated via \n",
    "\n",
    "$$\\mathbf{F} = -\\nabla U(\\mathbf{R}) = \\left(-\\frac{\\partial U}{\\partial x_1}, -\\frac{\\partial U}{\\partial x_2}, \\ldots \\right) $$. \n",
    "\n",
    "Using the `ForwardDiff` package, the potential functions can be defined and their derivatives (forces) calculated without the need of analytic derivation:"
   ]
  },
  {
   "cell_type": "code",
   "execution_count": null,
   "metadata": {},
   "outputs": [],
   "source": [
    "∇U(R) = ForwardDiff.gradient(U, R)"
   ]
  },
  {
   "cell_type": "code",
   "execution_count": null,
   "metadata": {},
   "outputs": [],
   "source": [
    "∇U(R0)"
   ]
  },
  {
   "cell_type": "markdown",
   "metadata": {},
   "source": [
    "**Lecture Question 2**  Check the automatically computed gradients are correct by comparing with finite-difference gradients computed with a small step size, e.g. $h=10^{-5}$. \n",
    "\n",
    "$$\\frac{\\partial U}{\\partial x} \\approx \\frac{U(x + h) - U(x)}{h}$$"
   ]
  },
  {
   "cell_type": "code",
   "execution_count": null,
   "metadata": {},
   "outputs": [],
   "source": [
    "h = 1e-5\n",
    "dU = zeros(N*D)\n",
    "for i=1:N*D\n",
    "    Rp = copy(R0)\n",
    "    Rp[i] += h\n",
    "    dU[i] = (U(Rp) - U(R0)) / h\n",
    "end\n",
    "\n",
    "@show maximum(abs, dU .- ∇U(R0));"
   ]
  },
  {
   "cell_type": "markdown",
   "metadata": {},
   "source": [
    "**Remark.** We have to do this for one variable at a time, which requires $N \\times D + 1$ energy evaluations and is too slow to use in real simulations (unlike the automatic differentiation done by `ForwardDiff`). Even better would be to do the differentiation with pen and paper and then code up the derivatives manually."
   ]
  },
  {
   "cell_type": "markdown",
   "metadata": {},
   "source": [
    "### Setting the initial velocities\n",
    "\n",
    "The time units used are years, so the velocity is measured in A.U./year. The initial velocities of the three bodies for the year 2044 are:"
   ]
  },
  {
   "cell_type": "code",
   "execution_count": null,
   "metadata": {},
   "outputs": [],
   "source": [
    "# Initial velocity vectors in X,Y coordinates\n",
    "v_s = [0.0, 0.0] # In astronomical units per year\n",
    "v_e = [-6.32, 0.0] # In astronomical units per year\n",
    "v_m = [-5.05, 0.0] # In astronomical units per year\n",
    "\n",
    "# pack into NxD array and vector log length N*D\n",
    "v0 = [v_s v_e v_m]'\n",
    "V0 = reshape(v0, N*D);"
   ]
  },
  {
   "cell_type": "markdown",
   "metadata": {},
   "source": [
    "The change in units leads the gravitational constant to change as well. Its new value is:"
   ]
  },
  {
   "cell_type": "code",
   "execution_count": null,
   "metadata": {},
   "outputs": [],
   "source": [
    "G = 37.95  # Gravitational constant"
   ]
  },
  {
   "cell_type": "markdown",
   "metadata": {},
   "source": [
    "The travel time for the spacecraft to go from Earth to Mars was calculated to be around 1 year. The aliens were expected to arrive in May 2045, so the spacecraft would arrive just in time to defend the human colonies in Mars. \n",
    "\n",
    "We will first run our simulation for 2 years to check it's behaviour."
   ]
  },
  {
   "cell_type": "code",
   "execution_count": null,
   "metadata": {},
   "outputs": [],
   "source": [
    "# Simulation time variables\n",
    "dt = 0.005\n",
    "t = 0.0:dt:2\n",
    "T = length(t) # Total simulation points"
   ]
  },
  {
   "cell_type": "markdown",
   "metadata": {},
   "source": [
    "## First attempt: Forward Euler integration\n",
    "\n",
    "If we use the Forward Euler method to integrate the equation of motion we obtain\n",
    "\n",
    "$$ \\mathbf{v}_i(t + \\Delta t) = \\mathbf{v}_i(t) + \\mathbf{a}_i(t) \\Delta t $$\n",
    "$$ \\mathbf{r}_i(t + \\Delta t) = \\mathbf{r}_i(t) + \\mathbf{v}_i(t) \\Delta t $$\n",
    "\n",
    "where $\\mathbf{r}_i$,  $\\mathbf{r}_i$ and $\\mathbf{r}_i$ denote the position, velocity and acceleration of body $i$, respectively.  The accelerations are given by $\\mathbf{a}_i = -\\nabla_i U(\\mathbf{R}) / m_i$ from Newton's second law.\n",
    "\n",
    "We can combine the integration for all the particles using vectors $\\mathbf{R}$, $\\mathbf{V}$ and $\\mathbf{A}$\n",
    "\n",
    "$$ \\mathbf{V}(t + \\Delta t) = \\mathbf{V}(t) + \\mathbf{A}(t) \\Delta t $$\n",
    "$$ \\mathbf{R}(t + \\Delta t) = \\mathbf{R}(t) + \\mathbf{V}(t) \\Delta t $$\n",
    "\n",
    "\n",
    "We'll write a function `forward_euler()` to do implement this, and test it on our system. Note how similar the code is to the equations above!"
   ]
  },
  {
   "cell_type": "code",
   "execution_count": null,
   "metadata": {},
   "outputs": [],
   "source": [
    "function forward_euler(∇U, R0, V0, M, dt, T)\n",
    "    n = length(R0)      # number of degrees of freedom (N x D)\n",
    "    R = copy(R0)        # current position\n",
    "    V = copy(V0)        # current velocity\n",
    "    Rs = zeros(T, n)    # position history (trajectory) \n",
    "    Vs = zeros(T, n)    # velocity history\n",
    "\n",
    "    for i = 1:T\n",
    "        Rs[i, :] = R    # Store positions\n",
    "        Vs[i, :] = V    # Store velocities\n",
    "        \n",
    "        V_i = copy(V)   # Store current values of velocities\n",
    "        A = -∇U(R) ./ M # acceleration from Newton's 2nd law (F = ma)\n",
    "        V += A * dt     # Update velocities\n",
    "        R += V_i * dt   # Update positions\n",
    "    end\n",
    "    return Rs, Vs\n",
    "end\n",
    "\n",
    "(R1, V1) = forward_euler(∇U, R0, V0, M, dt, T);"
   ]
  },
  {
   "cell_type": "markdown",
   "metadata": {},
   "source": [
    "Let's write some code to visualise this trajectory - as usual this ends up quite verbose, but it's not doing anything terribly complicated."
   ]
  },
  {
   "cell_type": "code",
   "execution_count": null,
   "metadata": {},
   "outputs": [],
   "source": [
    "function plot_trajectory(traj, step=5)\n",
    "    Rs = reshape(traj, size(traj, 1), N, D)\n",
    "    \n",
    "    @gif for n=1:step:size(traj, 1)\n",
    "               \n",
    "        # Sun - yellow\n",
    "        scatter(Rs[1:n, 1, 1], \n",
    "                Rs[1:n, 1, 2], \n",
    "                color=:yellow, markersize=:30,\n",
    "                size=(600, 600), xlim=(-2, 2), \n",
    "                ylim=(-2, 2), legend=false)\n",
    "        \n",
    "        # Earth - blue\n",
    "        plot!(Rs[1:n, 2, 1], Rs[1:n, 2, 2], color=:blue)\n",
    "        scatter!([Rs[n, 2, 1]], [Rs[n, 2, 2]], color=:blue, markersize=:20)\n",
    "        \n",
    "        # Mars - red\n",
    "        plot!(Rs[1:n, 3, 1], Rs[1:n, 3, 2], color=:red)\n",
    "        scatter!([Rs[n, 3, 1]], [Rs[n, 3, 2]], color=:red, markersize=:10)\n",
    "        \n",
    "        if size(Rs, 2) > 3\n",
    "            # for the spaceshop, see later...\n",
    "            plot!(Rs[1:n, 4, 1], Rs[1:n, 4, 2], color=:green)\n",
    "            scatter!([Rs[n, 4, 1]], [Rs[n, 4, 2]], color=:green, markersize=:5)\n",
    "        end\n",
    "    end\n",
    "end"
   ]
  },
  {
   "cell_type": "markdown",
   "metadata": {},
   "source": [
    "We can now plot the trajectories obtained with the Sun in yellow, Earth in blue, Mars in red. "
   ]
  },
  {
   "cell_type": "code",
   "execution_count": null,
   "metadata": {},
   "outputs": [],
   "source": [
    "plot_trajectory(R1)"
   ]
  },
  {
   "cell_type": "markdown",
   "metadata": {},
   "source": [
    "Note that there is some drift over time, with the Earth not returning to it's old trajectory in the second year! We either need to reduce the timestep $\\Delta t$ or find a more accurate integration scheme."
   ]
  },
  {
   "cell_type": "markdown",
   "metadata": {},
   "source": [
    "## Symplectic Euler\n",
    "\n",
    "The [semi-implicit Euler method](https://en.wikipedia.org/wiki/Semi-implicit_Euler_method) or sympletic Euler method is a very small modification of the Euler method which conserves energy and has much improved performance. All we have to do is update the velocity before using it to update the position - which could come about by a 'bug' in the implementation of the original Euler method!\n",
    "\n",
    "$$ \\mathbf{v}_i(t + \\Delta t) = \\mathbf{v}_i(t) + \\mathbf{a}_i(t) \\Delta t $$\n",
    "$$ \\mathbf{r}_i(t + \\Delta t) = \\mathbf{r}_i(t) + \\mathbf{v}_i(t + \\Delta t) \\Delta t $$\n"
   ]
  },
  {
   "cell_type": "code",
   "execution_count": null,
   "metadata": {},
   "outputs": [],
   "source": [
    "function symplectic_euler(∇U, R0, V0, M, dt, T)\n",
    "    n = length(R0)       # number of degrees of freedom (N x D)\n",
    "    R = copy(R0)         # current position\n",
    "    V = copy(V0)         # current velocity\n",
    "    Rs = zeros(T, n)     # position history (trajectory) \n",
    "    Vs = zeros(T, n)     # velocity history\n",
    "\n",
    "    for i = 1:T\n",
    "        Rs[i, :] = R     # Store positions\n",
    "        Vs[i, :] = V     # Store velocities\n",
    "        \n",
    "        A = -∇U(R) ./ M  # acceleration from Newton's 2nd law (F = ma)\n",
    "        V += A * dt      # Update velocities\n",
    "        R += V * dt      # Update positions\n",
    "    end\n",
    "    return Rs, Vs\n",
    "end\n",
    "\n",
    "(R2, V2) = symplectic_euler(∇U, R0, V0, M, dt, T);"
   ]
  },
  {
   "cell_type": "markdown",
   "metadata": {},
   "source": [
    "We can reuse our plotting function from the Euler example:"
   ]
  },
  {
   "cell_type": "code",
   "execution_count": null,
   "metadata": {},
   "outputs": [],
   "source": [
    "plot_trajectory(R2)"
   ]
  },
  {
   "cell_type": "markdown",
   "metadata": {},
   "source": [
    "## Using the `OrdinaryDiffEq` solver package\n",
    "\n",
    "Instead of integrating the equations of motion ourself, we could use the `OrdinaryDiffEq` package from Lecture 2 to perform a higher-order (more accurate) integration of the equations of motion. We just need to rewrite the second-order equation related positions and acceleration into into a pair of first-order differential equations\n",
    "\n",
    "$$ \\frac{d\\mathbf{R}}{dt} = \\mathbf{V} $$\n",
    "$$ \\frac{d\\mathbf{V}}{dt} = \\mathbf{A} = -\\frac{\\nabla U(\\mathbf{R})}{M}$$"
   ]
  },
  {
   "cell_type": "code",
   "execution_count": null,
   "metadata": {},
   "outputs": [],
   "source": [
    "using OrdinaryDiffEq\n",
    "\n",
    "function f(dx, x, p, t)\n",
    "    R, V = x[1:N*D], x[N*D+1:end]\n",
    "    dR = V # derivative of positions are simply the velocities\n",
    "    dV = -∇U(R) ./ M # derivative of velocities are accelerations    \n",
    "    dx[1:N*D] = dR\n",
    "    dx[N*D+1:end] = dV\n",
    "end\n",
    "\n",
    "prob = ODEProblem(f, vcat(R0, V0), (0.0, 2.0))\n",
    "sol = solve(prob, RK4());"
   ]
  },
  {
   "cell_type": "markdown",
   "metadata": {},
   "source": [
    "To plot the trajectory we first need to convert the ODE solution arrays to the correct shape."
   ]
  },
  {
   "cell_type": "code",
   "execution_count": null,
   "metadata": {},
   "outputs": [],
   "source": [
    "R_ode = zeros(length(sol), N*D)\n",
    "for i = 1:length(sol)\n",
    "    R_ode[i, :] = sol[i][1:N*D]\n",
    "end\n",
    "plot_trajectory(R_ode, 1)"
   ]
  },
  {
   "cell_type": "markdown",
   "metadata": {},
   "source": [
    "Even though the steps are bigger, the use of a higher order integration scheme results in an accurate simulation. We can check that the result at $t=2$ is close to what we got with the symplectic Euler method:"
   ]
  },
  {
   "cell_type": "code",
   "execution_count": null,
   "metadata": {},
   "outputs": [],
   "source": [
    "R_ode[end, :] .- R2[end, :]"
   ]
  },
  {
   "cell_type": "markdown",
   "metadata": {},
   "source": [
    "If needed, we can interpolate in between the ODE integration points to get a smooth trajectory."
   ]
  },
  {
   "cell_type": "code",
   "execution_count": null,
   "metadata": {},
   "outputs": [],
   "source": [
    "R_ode_smooth = zeros(T, N*D)\n",
    "for i = 1:T\n",
    "    R_ode_smooth[i, :] = sol(t[i])[1:N*D]\n",
    "end\n",
    "plot_trajectory(R_ode_smooth, 5)"
   ]
  },
  {
   "cell_type": "markdown",
   "metadata": {},
   "source": [
    "### Error analysis\n",
    "\n",
    "If we plot the error in positions as a function of time, assuming the result of the ODE scheme to be exact, we can immediately see the difference between the original and improved Euler  schemes. The original scheme quickly blows up, which the improved scheme oscillates around the correct solution without departing too far from it."
   ]
  },
  {
   "cell_type": "code",
   "execution_count": null,
   "metadata": {},
   "outputs": [],
   "source": [
    "dR1 = R_ode_smooth .- R1\n",
    "dR2 = R_ode_smooth .- R2\n",
    "\n",
    "plot(t, [norm(dR1[i, :]) for i=1:T], label=\"Foward Euler\", \n",
    "     xlabel=\"Time / year\", ylabel=\"Error\")\n",
    "plot!(t, [norm(dR2[i, :]) for i=1:T], label=\"Symplectic Euler\")"
   ]
  },
  {
   "cell_type": "markdown",
   "metadata": {},
   "source": [
    "We can also look at the conservation of total energy with the two approaches, which shows the same picture."
   ]
  },
  {
   "cell_type": "code",
   "execution_count": null,
   "metadata": {},
   "outputs": [],
   "source": [
    "U1 = [U(R1[i, :]) for i=1:T] # potential energy\n",
    "# kinetic energy = Σ 1/2 m v^2\n",
    "V = reshape(V1, T, N, D)\n",
    "T1 = [ sum( 1./2 * M[j] * norm(V[i, j, :])^2 for j=1:N) for i=1:T]\n",
    "E1 = U1 + T1 # total energy\n",
    "\n",
    "U2 = [U(R2[i, :]) for i=1:T] # potential energy\n",
    "# kinetic energy = Σ 1/2 m v^2\n",
    "V = reshape(V2, T, N, D)\n",
    "T2 = [ sum( 1./2 * M[j] * norm(V[i, j, :])^2 for j=1:N) for i=1:T]\n",
    "E2 = U2 + T2 # total energy\n",
    "\n",
    "plot(t[2:end], E1[2:end], label=\"Forward Euler\", xlabel=\"Time / year\", ylabel=\"Energy\")\n",
    "plot!(t[2:end], E2[2:end], label=\"Symplectic Euler\")"
   ]
  },
  {
   "cell_type": "markdown",
   "metadata": {},
   "source": [
    "## Launching a spacecraft from Earth to Mars\n",
    "\n",
    "Now that the trajectories of Earth and Mars are known, we need to plan the trajectory of the spacecraft. The initial position of the spacecraft is fixed at that of the Earth<sup>*</sup>, but we are free to vary it's initial speed and launch direction.\n",
    "\n",
    "----\n",
    "\n",
    "<sup>*</sup> We need to displace the spacecraft slightly away from the Earth, otherwise the distance $r_{ij}$ in the denominator of the equation for potential energy $U$ will be zero, resulting in a diverging energy. The displacement of 1e-3 A.U. is comparable with the radius of the Earth, i.e. as if we launch the rocket from the Earth's surface rather than it's core."
   ]
  },
  {
   "cell_type": "code",
   "execution_count": null,
   "metadata": {},
   "outputs": [],
   "source": [
    "N = 4 # change number of particles from 3 to 4\n",
    "D = 2 # still modelling in 2D (x,y) plane\n",
    "\n",
    "r0 = [r_s r_e r_m]'\n",
    "r0_spc = [0.1, -1.] .+ 1e-3 # small displacement away from Earth    \n",
    "r0p = vcat(r0, r0_spc')\n",
    "R0p = reshape(r0p, N*D)\n",
    "\n",
    "v0_spc = [6.7, 1.2]\n",
    "v0 = [v_s v_e v_m]'\n",
    "v0p = vcat(v0, v0_spc')\n",
    "V0p = reshape(v0p, N*D)\n",
    "\n",
    "m_spc = 1e-6\n",
    "\n",
    "m = [m_s, m_e, m_m, m_spc] \n",
    "M = repeat(m, D)\n",
    "\n",
    "R, V = symplectic_euler(∇U, R0p, V0p, M, dt, T);"
   ]
  },
  {
   "cell_type": "code",
   "execution_count": null,
   "metadata": {},
   "outputs": [],
   "source": [
    "plot_trajectory(R)"
   ]
  },
  {
   "cell_type": "markdown",
   "metadata": {
    "collapsed": true
   },
   "source": [
    "Not bad for a first attempt - the spacecraft nearly but not quite meets Mars. We need to fine tune the launch velocity to hit the target. This can be thought of as an optimisation problem -- we could fine-tune the launch velocity by hand, but it would be much quicker to automate it the search.\n",
    "\n",
    "Let's start by plotting the distance from the spacecraft to Mars as a function of time, and finding the point of closest approach."
   ]
  },
  {
   "cell_type": "code",
   "execution_count": null,
   "metadata": {},
   "outputs": [],
   "source": [
    "r = reshape(R, T, N, D)\n",
    "d = [norm(r[i, 3, :] - r[i, 4, :]) for i=1:T] # Mars-spacecraft\n",
    "d_min, idx_min = findmin(d) # find closest approach of spacecraft to Mars\n",
    "\n",
    "plot(t, d, label=\"dist from Mars to spacecraft\", xlabel=\"Time / year\", ylabel=\"Distance / A.U.\")\n",
    "scatter!([t[idx_min]], [d_min], label=\"\", color=:blue)\n",
    "hline!([0], color=:black, ls=:dash, label=\"\")\n",
    "vline!([1.0], color=:black, ls=:dash, label=\"\")\n",
    "ylims!(-0.5, 3)"
   ]
  },
  {
   "cell_type": "markdown",
   "metadata": {},
   "source": [
    "We want to adjust the launch velocity to move the blue dot to the intersection of the dashed lines, i.e. to make the distance zero after exactly one year. Let's start by wrapping the solver in a function that depends only on the launch speed and angle, with everything else frozen."
   ]
  },
  {
   "cell_type": "code",
   "execution_count": null,
   "metadata": {},
   "outputs": [],
   "source": [
    "function closest_approach_distance(v, θ)\n",
    "    r0 = [r_s r_e r_m]'\n",
    "    r0_spc = [0.1, -1.] .+ 1e-3 # small displacement away from Earth    \n",
    "    r0p = vcat(r0, r0_spc')\n",
    "    R0p = reshape(r0p, N*D)\n",
    "    \n",
    "    v0_spc = [v*cos(θ), v*sin(θ)]\n",
    "    v0 = [v_s v_e v_m]'\n",
    "    v0p = vcat(v0, v0_spc')\n",
    "    V0p = reshape(v0p, N*D)\n",
    "    \n",
    "    m_spc = 1e-6\n",
    "    m = [m_s, m_e, m_m, m_spc] \n",
    "    M = repeat(m, D)\n",
    "    R3, V3 = symplectic_euler(∇U, R0p, V0p, M, dt, T)\n",
    "    r3 = reshape(R3, T, N, D)\n",
    "    d = [norm(r3[i, 3, :] - r3[i, 4, :]) for i=1:T]\n",
    "    d_min, idx_min = findmin(d)\n",
    "    t_min = t[idx_min]\n",
    "    return d_min, t_min, R3\n",
    "end"
   ]
  },
  {
   "cell_type": "markdown",
   "metadata": {},
   "source": [
    "We now need to write a function that we would like to minimise, in this case it's the distance between the spacecraft and Mars, but we would also like the arrival time to be close to on year from the launch. We can can combine into a single function\n",
    "\n",
    "$$ f(v, \\theta) = w_1 d_\\mathrm{min}^2 + w_2 (t_\\mathrm{min} - 1)^2 $$\n",
    "\n",
    "where $w_1$ and $w_2$ are weights that give the relative importance of the two objectives - for now we will set them both to one, but feel free to experiment with this. To fit in with Julia's optimisation routines, we will write this as a function of a single vector quantity $\\mathbf{x} = (v, \\theta)$."
   ]
  },
  {
   "cell_type": "code",
   "execution_count": null,
   "metadata": {},
   "outputs": [],
   "source": [
    "# convert from (vx, vy) components to speed and launch angle\n",
    "vx, vy = 6.7, 1.2\n",
    "v0 = norm([vx, vy])\n",
    "θ0 = atan(vy, vx)\n",
    "x0 = [v0, θ0]\n",
    "\n",
    "function f(x)\n",
    "    v, θ = x\n",
    "    d_min, t_min, R = closest_approach_distance(v, θ)\n",
    "\n",
    "    w1 = 1.0\n",
    "    w2 = 0.0\n",
    "    return w1*d_min^2 + w2*(t_min - 1.0)^2\n",
    "end"
   ]
  },
  {
   "cell_type": "markdown",
   "metadata": {},
   "source": [
    "First let's try varying each of these parameters one at a time."
   ]
  },
  {
   "cell_type": "code",
   "execution_count": null,
   "metadata": {},
   "outputs": [],
   "source": [
    "v = linspace(6., 8., 20) # vary launch speed between 6 and 8 A.U/year\n",
    "θ = linspace(-π/4, π/4, 20) # vary launch angle between -45 and 45 degrees\n",
    "\n",
    "p1 = plot(v, v -> f([v, θ0]), label=\"Speed v\")\n",
    "p2 = plot(θ, θ -> f([v0, θ]), label=\"Angle theta / rad\")\n",
    "\n",
    "plot(p1, p2)"
   ]
  },
  {
   "cell_type": "markdown",
   "metadata": {},
   "source": [
    "It looks like we can do pretty well with just adjusting either the speed or the angle, but we can't quite get $f(v, \\theta)$ to zero. Let's look at a two-dimensonal contour plot - we specify the color map to use with the `c` argument, and since we're interested in low values we use `:plasma_r` rather than `plasma` to reverse it."
   ]
  },
  {
   "cell_type": "code",
   "execution_count": null,
   "metadata": {},
   "outputs": [],
   "source": [
    "contourf(v, θ, (x,y) -> f([x,y]), xlabel=\"Speed v\", ylabel=\"Angle theta\", c=:plasma_r)"
   ]
  },
  {
   "cell_type": "markdown",
   "metadata": {},
   "source": [
    "## Multi-variate optimisation with the `Optim.jl` package\n",
    "\n",
    "There looks to be a minimum in the vicinity of $v=7$, $\\theta=0.75$. Let's try to find it more precisely using a multi-variable optimisation tool from Julia's `Optim` package, using the [Nelder and Mead simplex method](https://en.wikipedia.org/wiki/Nelder%E2%80%93Mead_method), which is nice as it doesn't need gradients of our cost function with respect to changes in the parameters."
   ]
  },
  {
   "cell_type": "code",
   "execution_count": null,
   "metadata": {},
   "outputs": [],
   "source": [
    "using Optim\n",
    "x0 = [7.0, 0.0]\n",
    "result = optimize(f, x0, NelderMead())"
   ]
  },
  {
   "cell_type": "markdown",
   "metadata": {},
   "source": [
    "We can plot where the result lies on our contour map"
   ]
  },
  {
   "cell_type": "code",
   "execution_count": null,
   "metadata": {},
   "outputs": [],
   "source": [
    "v_min, θ_min = result.minimizer\n",
    "contourf(v, θ, (x,y) -> f([x,y]), xlabel=\"Speed v\", ylabel=\"Angle theta\", c=:plasma_r)\n",
    "scatter!([v_min], [θ_min], c=:red, label=\"Optimal solution\")"
   ]
  },
  {
   "cell_type": "markdown",
   "metadata": {},
   "source": [
    "## Optimal trajectory\n",
    "\n",
    "Finally, let's look at the simulation with these launch parameters to check the rocket really reaches Mars!"
   ]
  },
  {
   "cell_type": "code",
   "execution_count": null,
   "metadata": {},
   "outputs": [],
   "source": [
    "d_min, t_min, R = closest_approach_distance(v_min, θ_min)\n",
    "plot_trajectory(R)"
   ]
  },
  {
   "cell_type": "markdown",
   "metadata": {},
   "source": [
    "Oops! What has gone wrong with our assumptions? The challenge continues in **Assignment 4**!"
   ]
  },
  {
   "cell_type": "code",
   "execution_count": null,
   "metadata": {},
   "outputs": [],
   "source": []
  }
 ],
 "metadata": {
  "kernelspec": {
   "display_name": "Julia 0.6.4",
   "language": "julia",
   "name": "julia-0.6"
  },
  "language_info": {
   "file_extension": ".jl",
   "mimetype": "application/julia",
   "name": "julia",
   "version": "0.6.4"
  }
 },
 "nbformat": 4,
 "nbformat_minor": 1
}
