{
 "cells": [
  {
   "cell_type": "markdown",
   "metadata": {},
   "source": [
    "Before you turn this problem in, make sure everything runs as expected. First, **restart the kernel** (in the menubar, select Kernel$\\rightarrow$Restart) and then **run all cells** (in the menubar, select Cell$\\rightarrow$Run All).\n",
    "\n",
    "Make sure you fill in any place that says `YOUR CODE HERE` or \"YOUR ANSWER HERE\", as well as your name and collaborators below:"
   ]
  },
  {
   "cell_type": "code",
   "execution_count": null,
   "metadata": {},
   "outputs": [],
   "source": [
    "NAME = \"\"\n",
    "COLLABORATORS = \"\""
   ]
  },
  {
   "cell_type": "markdown",
   "metadata": {},
   "source": [
    "---"
   ]
  },
  {
   "cell_type": "markdown",
   "metadata": {
    "deletable": false,
    "editable": false,
    "nbgrader": {
     "checksum": "e5677667393b4714ff6ebaad6759ceb0",
     "grade": false,
     "grade_id": "cell-7c4d0840d30b4628",
     "locked": true,
     "schema_version": 1,
     "solution": false
    }
   },
   "source": [
    "# 1. Linear Regression (30%)\n",
    "This question involves the use of simple linear regression on the Auto data set. \n",
    " 1. Use the lm() function to perform a simple linear regression with mpg as the response and horsepower as the predictor. Use the summary() function to print the results. Comment on the output. For example:\n",
    "  1. Is there a relationship between the predictor and the re- sponse?\n",
    "  2. How strong is the relationship between the predictor and the response?\n",
    "  3. Is the relationship between the predictor and the response positive or negative?\n",
    "  4. What is the predicted mpg associated with a horsepower of 98? What are the associated 95 % confidence and prediction intervals? - save your result in predicted = lower =upper=\n",
    "\n",
    " 2. Plot the response and the predictor. Use the plot function to display the least squares regression line.\n",
    "\n",
    "Hint: https://github.com/bkamins/Julia-DataFrames-Tutorial can be useful"
   ]
  },
  {
   "cell_type": "code",
   "execution_count": null,
   "metadata": {
    "deletable": false,
    "nbgrader": {
     "checksum": "992d980c243cbd692162f848eed08344",
     "grade": false,
     "grade_id": "cell-89541021c60ea5be",
     "locked": false,
     "schema_version": 1,
     "solution": true
    }
   },
   "outputs": [],
   "source": [
    "# YOUR CODE HERE\n",
    "predicted = 0.0\n",
    "lower = 0.0\n",
    "upper = 0.0"
   ]
  },
  {
   "cell_type": "code",
   "execution_count": null,
   "metadata": {
    "deletable": false,
    "editable": false,
    "nbgrader": {
     "checksum": "c60bdb0a6d41293a2072efed1d86062b",
     "grade": true,
     "grade_id": "cell-797d63a3e2c3bee8",
     "locked": true,
     "points": 30,
     "schema_version": 1,
     "solution": false
    }
   },
   "outputs": [],
   "source": []
  },
  {
   "cell_type": "markdown",
   "metadata": {
    "deletable": false,
    "editable": false,
    "nbgrader": {
     "checksum": "0d1e25acda4525d59bca72b7a66be24d",
     "grade": false,
     "grade_id": "cell-1e01ac0408d75dfd",
     "locked": true,
     "schema_version": 1,
     "solution": false
    }
   },
   "source": [
    "# 2. Tree-based methods\n",
    "\n",
    "\n",
    "\n",
    "\n",
    "## Tree-based regression (20%)\n",
    "\n",
    "Using Decision.jl, revisit the boston housing data set and predict the median value (medV) based on the other columns using bagged trees and standard random forest.\n",
    " 1. For baged trees use 50 trees and maxdepth should be 6. The proportion of samples should be set to 0.5 save results in bagged\n",
    " 2. For random forest use 2 random features and safe result in rf\n",
    "\n",
    " \n",
    "Compare their RSquared error. \n"
   ]
  },
  {
   "cell_type": "code",
   "execution_count": null,
   "metadata": {
    "deletable": false,
    "nbgrader": {
     "checksum": "e6c590d8d6774a7fa62797b7d4a55ced",
     "grade": false,
     "grade_id": "cell-0eaea1c717d0ae15",
     "locked": false,
     "schema_version": 1,
     "solution": true
    }
   },
   "outputs": [],
   "source": [
    "using DataFrames\n",
    "srand(1)\n",
    "boston = readtable(\"boston.csv\")\n",
    "features = convert(Array,boston[:,1:13])\n",
    "labels = convert(Array,boston[:,14])\n",
    "\n",
    "# YOUR CODE HERE\n",
    "\n",
    "bagged =     # make sure to save the result of question 1 in `bagged`\n",
    "rf =         # make sure to save the result of question 2 in `rf` "
   ]
  },
  {
   "cell_type": "code",
   "execution_count": null,
   "metadata": {
    "deletable": false,
    "editable": false,
    "nbgrader": {
     "checksum": "ed45841f18f2ff7681aae723d7149801",
     "grade": true,
     "grade_id": "cell-01ae81c1cdba0182",
     "locked": true,
     "points": 20,
     "schema_version": 1,
     "solution": false
    }
   },
   "outputs": [],
   "source": []
  },
  {
   "cell_type": "markdown",
   "metadata": {
    "deletable": false,
    "editable": false,
    "nbgrader": {
     "checksum": "916b34f1f3a487c5afae4906ca43ea94",
     "grade": false,
     "grade_id": "cell-d40eec091dc28915",
     "locked": true,
     "schema_version": 1,
     "solution": false
    }
   },
   "source": [
    "## Out of bag error (10%)\n",
    "\n",
    "Modify the build_tree from DecisionTree.jl and the bagging alorithms from the lecture, i.e. build all 50 trees by hand using \n",
    "\n",
    "    build_tree(labels[inds], features[inds,:],0,5)\n",
    "    sample([1:ss;],ss,replace=true)\n",
    "\n",
    "in order to be able to perform an \"out of bag\" mean squared error estimate and save into err.\n"
   ]
  },
  {
   "cell_type": "code",
   "execution_count": null,
   "metadata": {
    "deletable": false,
    "nbgrader": {
     "checksum": "edca8a354838ff725fe574079141dc2e",
     "grade": false,
     "grade_id": "cell-e5d34f91f934e348",
     "locked": false,
     "schema_version": 1,
     "solution": true
    }
   },
   "outputs": [],
   "source": [
    "\n",
    "using GLM\n",
    "using DataFrames #NB: we are using pinned version 0.9.1 to match JuliaBox\n",
    "using FreqTables\n",
    "using Plots\n",
    "using StatPlots\n",
    "using Distributions\n",
    "using RDatasets\n",
    "using DecisionTree\n",
    "\n",
    "B=50\n",
    "ss=length(labels)\n",
    "\n",
    "# YOUR CODE HERE\n",
    "\n",
    "err=avgsq/B\n"
   ]
  },
  {
   "cell_type": "code",
   "execution_count": null,
   "metadata": {
    "deletable": false,
    "editable": false,
    "nbgrader": {
     "checksum": "3a59e092fa7f929e1bfd7c30024e7a7f",
     "grade": true,
     "grade_id": "cell-18f255bef70448b3",
     "locked": true,
     "points": 10,
     "schema_version": 1,
     "solution": false
    }
   },
   "outputs": [],
   "source": []
  },
  {
   "cell_type": "markdown",
   "metadata": {
    "deletable": false,
    "editable": false,
    "nbgrader": {
     "checksum": "d5bfb927195d49466f0408f31b5ba31d",
     "grade": false,
     "grade_id": "cell-b2f9b3ca07fdea63",
     "locked": true,
     "schema_version": 1,
     "solution": false
    }
   },
   "source": [
    "# Neutral Networks and Deeplearning (40% of marks)\n",
    "\n",
    " * Adapt the examples on MNIST to classify the the letters from A-J of the notMNIST data set (it is ok to use the small version). \n",
    "     1. Load the the data using the GZIP.jl or MAT.jl package similar to the mnist example from *Knet.jl* from [http://yaroslavvb.com/upload/notMNIST/](http://yaroslavvb.com/upload/notMNIST/)\n",
    "     2. Split the data into 100 first images per class for testing and the rest for training\n",
    "     3. Train a network with on hidden layer with 256 unit using the Sgd algorithm.\n",
    "     4. Plot the  training and test accuracy for 1:20 epochs \n",
    " * Bonus - use dropout or convolutional neural network to boost your performance.\n",
    "\n",
    " \n",
    " "
   ]
  },
  {
   "cell_type": "code",
   "execution_count": null,
   "metadata": {
    "deletable": false,
    "nbgrader": {
     "checksum": "fe451eeb0229f4831ad98e8114b713a8",
     "grade": true,
     "grade_id": "cell-c4f481197e31f8b4",
     "locked": false,
     "points": 40,
     "schema_version": 1,
     "solution": true
    }
   },
   "outputs": [],
   "source": [
    "# YOUR CODE HERE\n",
    "\n",
    "#save the test accuracy in acc\n",
    "@test acc > 0.9"
   ]
  }
 ],
 "metadata": {
  "kernelspec": {
   "display_name": "Julia 0.6.2",
   "language": "julia",
   "name": "julia-0.6"
  },
  "language_info": {
   "file_extension": ".jl",
   "mimetype": "application/julia",
   "name": "julia",
   "version": "0.6.2"
  }
 },
 "nbformat": 4,
 "nbformat_minor": 2
}
