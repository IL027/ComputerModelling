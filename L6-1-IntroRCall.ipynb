{
 "cells": [
  {
   "cell_type": "markdown",
   "metadata": {},
   "source": [
    "# Lecture 6 -  A brief introduction to R and RCall \n",
    "\n",
    "Lecture 6 will be delivered Philippe Blanchard from [PAIS](https://warwick.ac.uk/fac/soc/pais/) (Politics and International Studies) and [Q-Step](https://warwick.ac.uk/fac/cross_fac/q-step). In this short tutorial I will give a quick introduction to some computational techniques that he will be using in his lecture. \n",
    "\n",
    "When we chose Julia as the programming language for the IL027 module it was because it provides a natural, easy to learn, syntax. In particular it makes it possible to perform non-trivial tasks with fairly elementary programming paradigms. E.g., no aspects of object oriented of functional programming are required. However, in many disciplines there are specific language that dominate, primarily due to access to specific libraries. For example, in many branches of computational modelling, scientific computing and numerical analysis, Matlab and Python have become the dominant players. In Statistics and Data Analysis on the other hand, the language [R](https://www.r-project.org) is the clear industry standard.\n",
    "\n",
    "Philippe's lecture will require the use of some of these highly specialised R libraries which provide functionality that is not easy to replicate in Julia. Instead, we will simply call these libraries from our Julia notebooks. The purpose of this introductory tutorial is to show you how this can be done and talk a little bit about what happens behind the scene. \n",
    "\n",
    "Interested Students should also look at the related [`PyCall`](https://github.com/JuliaPy/PyCall.jl) package. There are also similar packages for Matlab, Ruby, Java, C++ and many other languages, but we don't provide these interfaces on our Jupyter server. C integration is built in; cf. `ccall`."
   ]
  },
  {
   "cell_type": "code",
   "execution_count": null,
   "metadata": {},
   "outputs": [],
   "source": [
    "# First, we load the `RCall` library which provides the interface to `R`\n",
    "using RCall"
   ]
  },
  {
   "cell_type": "markdown",
   "metadata": {},
   "source": [
    "After executing `using RCall` an entire runtime system of `R` is running in the background, which we don't see but to which we can send commands. For example, to create a vector in `R` and then sum over its components is done as follows:\n",
    "```{R}\n",
    "x <- c(1,2,3,4,5,6,7,8,9,10)\n",
    "s <- sum(x)\n",
    "```\n",
    "In Julia we can execute this short code snippet as follows:"
   ]
  },
  {
   "cell_type": "code",
   "execution_count": null,
   "metadata": {},
   "outputs": [],
   "source": [
    "R\"\"\"\n",
    "x <- c(1,2,3,4,5,6,7,8,9,10)\n",
    "s <- sum(x)\n",
    "\"\"\""
   ]
  },
  {
   "cell_type": "code",
   "execution_count": null,
   "metadata": {},
   "outputs": [],
   "source": [
    "# now the variables `x, s` \"live\"  in R and not in Julia: \n",
    "x"
   ]
  },
  {
   "cell_type": "code",
   "execution_count": null,
   "metadata": {},
   "outputs": [],
   "source": [
    "#  A more convenient way therefore to perform actions in R and keep \n",
    "# the results is as follows:\n",
    "x = R\"\"\"c(1,2,3,4,5,6,7,8,9,10)\"\"\""
   ]
  },
  {
   "cell_type": "markdown",
   "metadata": {},
   "source": [
    "We see that `x` is stored as an `RObject`, i.e. it is just a \"link\"\n",
    "to a vector stored in the `R` runtime system.  What is very nice about \n",
    "the `RCall` library is that it lets us use `x` much in the same way \n",
    "as if it were a Julia object. The integration is really quite seemless:"
   ]
  },
  {
   "cell_type": "code",
   "execution_count": null,
   "metadata": {},
   "outputs": [],
   "source": [
    "sum(x)"
   ]
  },
  {
   "cell_type": "markdown",
   "metadata": {},
   "source": [
    "The overarching strategy how to use `RCall` is therefore to \n",
    "perform only those operations in `R` that are not available in \n",
    "pure `Julia`, but try to keep the majority of operations in \n",
    "pure Julia. The rest of this notebooks shows a minimal collection of \n",
    "functionality provided by `RCall`, including: \n",
    "\n",
    "* `library` to load `R` libraries\n",
    "* `rcopy` to automatically convert R objects into Julia objects \n",
    "* `robject` : convert a Julia object to an R object \n",
    "* `rcall` : call `R` functions \n",
    "* Interpolation of julia values into an R command / function call \n",
    "\n",
    "For more information there is a nice introduction in the [`RCall` Documentation](http://juliainterop.github.io/RCall.jl/stable/gettingstarted)"
   ]
  },
  {
   "cell_type": "code",
   "execution_count": null,
   "metadata": {},
   "outputs": [],
   "source": [
    "# following on from above - if we prefer to keep `x` as \n",
    "# a Julia array rather than an `R` array, then we can do \n",
    "xj = rcopy(x)   #  xj is now a copy of `x` living in the Julia runtime"
   ]
  },
  {
   "cell_type": "code",
   "execution_count": null,
   "metadata": {},
   "outputs": [],
   "source": [
    "# load the R library `boot`\n",
    "R\"\"\"library(boot)\"\"\"\n",
    "# and load a dataset \n",
    "cityr = R\"\"\"boot::city\"\"\""
   ]
  },
  {
   "cell_type": "code",
   "execution_count": null,
   "metadata": {},
   "outputs": [],
   "source": [
    "# or import the same dataset into Julia as a DataFrame\n",
    "using DataFrames   \n",
    "cityj = rcopy(R\"\"\"boot::city\"\"\")"
   ]
  },
  {
   "cell_type": "code",
   "execution_count": null,
   "metadata": {},
   "outputs": [],
   "source": [
    "cityj[!, :u]"
   ]
  },
  {
   "cell_type": "code",
   "execution_count": null,
   "metadata": {},
   "outputs": [],
   "source": [
    "# calling an `R` function called `summary`\n",
    "rcall(:summary, cityr)"
   ]
  },
  {
   "cell_type": "code",
   "execution_count": null,
   "metadata": {},
   "outputs": [],
   "source": [
    "# same as the last cell, but maybe more readable? \n",
    "# use the $ interpolation to evaluate `cityr` inside `R`\n",
    "R\"\"\"summary($cityr)\"\"\""
   ]
  },
  {
   "cell_type": "code",
   "execution_count": null,
   "metadata": {},
   "outputs": [],
   "source": [
    "# convert a Julia  object back to R \n",
    "city2 = robject(cityj)"
   ]
  },
  {
   "cell_type": "code",
   "execution_count": null,
   "metadata": {},
   "outputs": [],
   "source": [
    "# some standard R datasets have been made available using the following package:\n",
    "using RDatasets \n",
    "# load one of them \n",
    "mtcars = dataset(\"datasets\", \"mtcars\")"
   ]
  },
  {
   "cell_type": "code",
   "execution_count": null,
   "metadata": {},
   "outputs": [],
   "source": [
    "# load R's famous ggplot library \n",
    "R\"\"\"library(ggplot2)\"\"\"\n",
    "R\"\"\"ggplot($mtcars, aes(x = WT, y = MPG)) + geom_point()\"\"\""
   ]
  },
  {
   "cell_type": "code",
   "execution_count": null,
   "metadata": {},
   "outputs": [],
   "source": []
  }
 ],
 "metadata": {
  "kernelspec": {
   "display_name": "Julia 1.3.0",
   "language": "julia",
   "name": "julia-1.3"
  },
  "language_info": {
   "file_extension": ".jl",
   "mimetype": "application/julia",
   "name": "julia",
   "version": "1.3.0"
  }
 },
 "nbformat": 4,
 "nbformat_minor": 4
}
