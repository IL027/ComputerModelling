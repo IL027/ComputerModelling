{
 "cells": [
  {
   "cell_type": "code",
   "execution_count": null,
   "metadata": {},
   "outputs": [],
   "source": [
    "using LinearAlgebra  # package required for some predefined arrays\n",
    "using Plots, Test "
   ]
  },
  {
   "cell_type": "markdown",
   "metadata": {},
   "source": [
    "# IL027 Computer Modelling for All\n",
    "\n",
    "## Lecture 1-2 Introduction to Linear Algebra\n",
    "\n",
    "Many problems in mathematics and in the sciences, economics, etc involve vectors and matrices, which in a programming language are represented as *arrays*. Julia supports arrays, array operations and array manipulations from its standard library. The branch of mathematics underpinning such operations is *Linear Algebra*. We will need some basic linear algebra concepts for this module, which are introduced in this lecture."
   ]
  },
  {
   "cell_type": "markdown",
   "metadata": {},
   "source": [
    "## Vectors and matrices\n",
    "\n",
    "We begin our review of linear algebra by defining vectors and matrices. A vector is a linear array of $n$ numbers where $n$ is some integer. For example, \n",
    "$$\n",
    "   x = \\begin{pmatrix} 1 \\\\ 2 \\\\ 3 \\end{pmatrix}\n",
    "$$\n",
    "can be created in Julia via "
   ]
  },
  {
   "cell_type": "code",
   "execution_count": null,
   "metadata": {},
   "outputs": [],
   "source": [
    "v = [1, 2, 3]"
   ]
  },
  {
   "cell_type": "markdown",
   "metadata": {},
   "source": [
    "**Remark:** `Array{Int64,1}` states that this is a one-dimensional \n",
    "array where each entry is a 64bit integer."
   ]
  },
  {
   "cell_type": "markdown",
   "metadata": {},
   "source": [
    "To access the $i$th an entry of a vector square brackets can be used:"
   ]
  },
  {
   "cell_type": "code",
   "execution_count": null,
   "metadata": {},
   "outputs": [],
   "source": [
    "v[2]"
   ]
  },
  {
   "cell_type": "markdown",
   "metadata": {},
   "source": [
    "**WARNING:** It is important to notice that the first entry of a vector has the index $1$, while some other programming languages use $0$ for the first entry."
   ]
  },
  {
   "cell_type": "markdown",
   "metadata": {},
   "source": [
    "A matrix is a two-dimensional array of numbers of $m$ rows by $n$ columns. A couple of ways for defining a matrix in Julia are:"
   ]
  },
  {
   "cell_type": "code",
   "execution_count": null,
   "metadata": {},
   "outputs": [],
   "source": [
    "# The ';' is used to separate the rows\n",
    "A = [1 1; 2 0]  "
   ]
  },
  {
   "cell_type": "code",
   "execution_count": null,
   "metadata": {},
   "outputs": [],
   "source": [
    "A = [ 1 2\n",
    "      1 0 ]"
   ]
  },
  {
   "cell_type": "markdown",
   "metadata": {},
   "source": [
    "This matrix is said to be a $2$ by $2$ matrix, since it has two rows and two columns. The function size() returns the size of a matrix as a pair (number of rows, number of colums):"
   ]
  },
  {
   "cell_type": "code",
   "execution_count": null,
   "metadata": {},
   "outputs": [],
   "source": [
    "size(A)"
   ]
  },
  {
   "cell_type": "markdown",
   "metadata": {},
   "source": [
    "Each entry of a matrix has an index $i,j$ that describes its position in the matrix, where $i$ represents the row and $j$ the column. For instance, the index (2,2) represents the entry with the number $0$ in the above defined matrix. In Julia we can use the indices to access an entry:"
   ]
  },
  {
   "cell_type": "code",
   "execution_count": null,
   "metadata": {},
   "outputs": [],
   "source": [
    "A[1,2]   # matrix[row-index, column-index]"
   ]
  },
  {
   "cell_type": "markdown",
   "metadata": {},
   "source": [
    "An important thing to mention is that if you try to define a vector without using commas between numbers, then it is stored as a two-dimentional array (a matrix) instead of a one-dimentional one. For example:"
   ]
  },
  {
   "cell_type": "code",
   "execution_count": null,
   "metadata": {},
   "outputs": [],
   "source": [
    "w = [1 2 3]"
   ]
  },
  {
   "cell_type": "markdown",
   "metadata": {},
   "source": [
    "Note that its data type is Array{Int64,2}, where the two means that it is a two-dimentional array, i.e. a matrix."
   ]
  },
  {
   "cell_type": "code",
   "execution_count": null,
   "metadata": {},
   "outputs": [],
   "source": [
    "# Some special arrays: \n",
    "zeros(3)     |> display\n",
    "zeros(2, 3)  |> display   # `zeros` is also useful for allocating\n",
    "ones(2,2)    |> display\n",
    "Matrix(1.0I,3,3)  |> display   # identity matrix \n",
    "diagm(0 => v)     |> display   # diagonal matrix\n",
    ";"
   ]
  },
  {
   "cell_type": "markdown",
   "metadata": {},
   "source": [
    "## Operations on vectors and matrices \n",
    "\n",
    "Arithmetic operations can be made over vectors and matrices. Find a good linear algebra textbook or some good introductory online lecture notes, e.g., [here](https://homepages.warwick.ac.uk/~masbal/LinAlg1011/lectures.pdf) or [here](https://www.math.ku.edu/~lerner/LAnotes/LAnotes.pdf) to learn about their meaning. In these lectures we will explain them as they arise in context."
   ]
  },
  {
   "cell_type": "code",
   "execution_count": null,
   "metadata": {},
   "outputs": [],
   "source": [
    "v1 = [1, 2, 3]\n",
    "v2 = [4, 5, 6]\n",
    "v3 = v1 + v2"
   ]
  },
  {
   "cell_type": "code",
   "execution_count": null,
   "metadata": {},
   "outputs": [],
   "source": [
    "m1 = [1 2\n",
    "      3 4]\n",
    "m2 = [2 2\n",
    "      2 2]\n",
    "m3 = m1 + m2"
   ]
  },
  {
   "cell_type": "code",
   "execution_count": null,
   "metadata": {},
   "outputs": [],
   "source": [
    "@show v4 = v1 - v2\n",
    "@show m4 = m1 - m2"
   ]
  },
  {
   "cell_type": "code",
   "execution_count": null,
   "metadata": {},
   "outputs": [],
   "source": [
    "# what happens when we try to add a vector to a matrix?\n",
    "v4 + m4"
   ]
  },
  {
   "cell_type": "code",
   "execution_count": null,
   "metadata": {},
   "outputs": [],
   "source": [
    "# or two vectors (or matrices) of different size?\n",
    "[1,2,3] + [5,4,3,2,1]"
   ]
  },
  {
   "cell_type": "markdown",
   "metadata": {},
   "source": [
    "When you perform an illegal operation, Julia will throw an error and try to give you a hint what has gone wrong."
   ]
  },
  {
   "cell_type": "code",
   "execution_count": null,
   "metadata": {},
   "outputs": [],
   "source": [
    "# A few more matrix and vector operations \n",
    "\n",
    "A = [1 2 3; 3 4 5]    # 2 x 3 matrix \n",
    "B = [3 4; 5 6; 7 8]   # 3 x 2 matrix \n",
    "v = [2, 3, 4]         # 3-vector \n",
    "w = [1, 2, 5]         # 3-vector \n",
    "\n",
    "@show A * v        # matrix - vector multiplication\n",
    "@show A * B        # matrix - matrix multiplication \n",
    "@show dot(v, w)    # vector dot product \n",
    "@show v ⋅ w        #    ---- || -----   ( \\dot + <tab> )\n",
    "@show v' * w       # NOT THE SAME as `dot`!!!!\n",
    "@show cross(v, w)  # vector cross product \n",
    "@show v × w        #   ---- || -----  ( \\times + <tab> )\n",
    "@show A'           # matrix transpose \n",
    "@show det(A*B)     # determinant \n",
    "@show 1.23 * v     # scalar x vector (element-wise)\n",
    "@show norm(v)      # Euclidean norm of a vector \n",
    "@show opnorm(A)    # matrix operator norm \n",
    "@show norm(A)      # Euclidean norm of the matrix entries \n",
    ";"
   ]
  },
  {
   "cell_type": "markdown",
   "metadata": {},
   "source": [
    "In addition to the \"standard\" linear algebra operations, Julia also implements element-wise array operations, e.g. "
   ]
  },
  {
   "cell_type": "code",
   "execution_count": null,
   "metadata": {},
   "outputs": [],
   "source": [
    "@show v .* w \n",
    "@show A .* B' \n",
    ";"
   ]
  },
  {
   "cell_type": "markdown",
   "metadata": {},
   "source": [
    "note in particular the difference between `C^2` and `C.^2`"
   ]
  },
  {
   "cell_type": "code",
   "execution_count": null,
   "metadata": {},
   "outputs": [],
   "source": [
    "C = A * B \n",
    "@show C^2     # same as C * C \n",
    "@show C.^2    # element-wise application of ^2\n",
    ";"
   ]
  },
  {
   "cell_type": "markdown",
   "metadata": {},
   "source": [
    "We can also apply functions to each element of an array, e.g., "
   ]
  },
  {
   "cell_type": "code",
   "execution_count": null,
   "metadata": {},
   "outputs": [],
   "source": [
    "@show exp.(A)\n",
    "@show cos.(v)\n",
    "@show A.^2 \n",
    ";"
   ]
  },
  {
   "cell_type": "code",
   "execution_count": null,
   "metadata": {},
   "outputs": [],
   "source": [
    "# Revisiting the opening example\n",
    "# using Plots  # We don't need this anymore, this is loaded at the top of the notebook\n",
    "x = 0.0:0.01:2*π     # generate a vector with entries [0.0, 0.01, 0.02, . . ., 2*π]\n",
    "y = exp.(sin.(2*x))  # apply t -> exp(sin(2*t)) to each element of x\n",
    "plot(x, y)           # function that plots the (x, y) graph (cf. L2)"
   ]
  },
  {
   "cell_type": "markdown",
   "metadata": {},
   "source": [
    "## Systems of linear equations\n",
    "\n",
    "Possibly the most important application of matrices and vectors is that they are used to represent systems of linear equations. A linear equation is an algebraic equation whose terms are either constants or constants multiplied by a variable. For instance:\n",
    "\n",
    "$$3a + 2b - 5c = -8$$\n",
    "\n",
    "A system of linear equations is a collection of two or more linear equations involving the same set of variables. Taking the last equation and adding two more we obtain a system of linear equations:\n",
    "\n",
    "$$\\begin{align*}\n",
    "    3a + 2b - 5c &= -8 \\\\ \n",
    "    2a + 6b + c  &= 17 \\\\ \n",
    "    a + b + c    &= 6 \n",
    "\\end{align*}$$\n",
    "\n",
    "This system involves 3 unknowns $a, b, c$. The solution is the value of $(a, b, c)$ such that the three equations are satisfied. In this particular case, the solution values are: $a=1$, $b=2$ and $c=3$. (**Exercise:** check this!)\n",
    "\n",
    "But we will now learn how to use Julia to solve this linear system. To that end, we first represent it using matrices:\n",
    "\n",
    "$$\n",
    "\\left(\\begin{array}{cc} \n",
    "3 & 2 & -5 \\\\\n",
    "2 & 6 & 1 \\\\\n",
    "1 & 1 & 1\n",
    "\\end{array}\\right)\n",
    "\\left(\\begin{array}{cc} \n",
    "a \\\\ \n",
    "b \\\\\n",
    "c\n",
    "\\end{array}\\right)\n",
    "=\n",
    "\\left(\\begin{array}{cc} \n",
    "-8 \\\\ \n",
    "17 \\\\\n",
    "6\n",
    "\\end{array}\\right)\n",
    "$$\n",
    "\n",
    "The constants (or coefficients) in the left are stored in a $3$ by $3$ matrix and the variables ($a$, $b$ and $c$) are stored in a $3$ by $1$ vector. Note that the multiplication of these two yields the $3$ by $1$ vector in the right complying with the rules of matrix multiplication. In particular when a linear system is made up of many linear equations (up to billions and more in some applications) the matrix representation is very useful as a systematic way to find solutions.\n",
    "\n",
    "So in the system of linear equations just defined how can we find out that the solution is: $a=1$, $b=2$ and $c=3$? In abstract terms, we can write the system in in form\n",
    "\n",
    "$$Ax = f$$\n",
    "\n",
    "where \n",
    "\n",
    "$$\n",
    "A=\n",
    "\\begin{pmatrix}\n",
    "3 & 2 & -5 \\\\\n",
    "2 & 6 & 1 \\\\\n",
    "1 & 1 & 1\n",
    "\\end{pmatrix}, \\qquad \n",
    "x=\n",
    "\\begin{pmatrix}\n",
    "a \\\\ \n",
    "b \\\\\n",
    "c\n",
    "\\end{pmatrix}, \\qquad \n",
    "f=\n",
    "\\begin{pmatrix}\n",
    "-8 \\\\ \n",
    "17 \\\\\n",
    "6\n",
    "\\end{pmatrix}\n",
    "$$\n",
    "Thus, $A$ and $f$ are known while the vector $x \\in \\mathbb{R}^3$ is unknown. \n",
    "\n",
    "To solve the system, Julia uses the `\\` (backslash) operator (think of left-division):"
   ]
  },
  {
   "cell_type": "code",
   "execution_count": null,
   "metadata": {},
   "outputs": [],
   "source": [
    "A = [3 2 -5\n",
    "     2 6 1\n",
    "     1 1 1]\n",
    "f = [-8, 17, 6]\n",
    "x = A \\ f"
   ]
  },
  {
   "cell_type": "markdown",
   "metadata": {},
   "source": [
    "**WARNING:** One might be tempted to write $x = A^{-1} f$ which could be implememented as\n",
    "```\n",
    "x = inv(A) * f\n",
    "```\n",
    "This is both inefficient and **NUMERICALLY UNSTABLE**. Julia's `\\` operator performs a more efficient and reliable algorithm to solve the linear systems $Ax = f$. To learn more about this, you can take modules in numerical analysis or find a good numerical linear algebra textbook.\n",
    "\n",
    "The inverse of a matrix `inv(A)` should only be computed in exceptional circumstances."
   ]
  },
  {
   "cell_type": "markdown",
   "metadata": {},
   "source": [
    "## An Application"
   ]
  },
  {
   "cell_type": "markdown",
   "metadata": {},
   "source": [
    "We will now try our hands at a simple application. Consider the following mass-spring system:\n",
    "\n",
    "<img src=\"img/springs.JPG\" alt=\"Newton\" style=\"width: 350px;\" align=\"middle\" />\n",
    "\n",
    "Imagine someone pulls down one of the masses and goes away, leaving all masses moving up and down (assume the horizontal movement of masses is so small that is negligible). After that, the only external force acting on the system is the gravity. This means that at some point the masses will stop moving and the system will come to rest. We can use linear algebra to find the final positions of the masses relative to the ground.\n",
    "\n",
    "When the system is at rest, the vertical forces acting on each mass are the gravity (external force) and the up or down forces exerted by the left and right neighbour masses (internal forces). Remember that we are assuming the horizontal movement is negligible. In mathematical terms, the vertical force acting on mass $i$ is equal to:\n",
    "\n",
    "$$F_i = k(z_{i+1}-z_{i}) + k(z_{i-1}-z_{i}) - m_{i}g$$\n",
    "\n",
    "where $g$ is the acceleration due to gravity (equal to $9.81 m/s^{2}$ at Earth's ground level), $k$ is a constant related to the spring's capacity to stretch, $z_{i}$ is the vertical position of the mass, and $z_{i-1}$ and $z_{i+1}$ are the vertical positions of the neighbor masses in the left and right, respectively. If the mass is next to the wall, either $z_{i-1}$ or $z_{i+1}$ will be the positions of the hooks on the wall, which are equal to zero. \n",
    "\n",
    "We can write one equation for each of the 5 masses:\n",
    "\n",
    "$$F_1 = k(z_{2}-z_{1}) + k(z_{0}-z_{1}) - m_{1}g$$\n",
    "$$F_2 = k(z_{3}-z_{2}) + k(z_{1}-z_{2}) - m_{2}g$$\n",
    "$$F_3 = k(z_{4}-z_{3}) + k(z_{2}-z_{3}) - m_{3}g$$\n",
    "$$F_4 = k(z_{5}-z_{4}) + k(z_{3}-z_{4}) - m_{4}g$$\n",
    "$$F_5 = k(z_{6}-z_{5}) + k(z_{4}-z_{5}) - m_{5}g$$\n",
    "\n",
    "where $z_{0}$ and $z_{6}$ are the positions of the hooks on the wall (which are equal to zero). Then we can solve the 5 equations simultaneously, but that can be hard work! Imagine if we have had 100 masses!! So we better convert this system of equations into a single equation with the aid of vectors and matrices if we want to solve it in an easy way.\n",
    "\n",
    "Since the system is at rest, the masses have net velocity and accelerations equal to zero. This means that $F_i=0$ for each mass because $force =  mass * acceleration$. By moving the $m_{i}g$ terms to the other side of the equations we get:\n",
    "\n",
    "$$k(z_{2}-z_{1}) + k(0-z_{1}) = m_{1}g$$\n",
    "$$k(z_{3}-z_{2}) + k(z_{1}-z_{2}) = m_{2}g$$\n",
    "$$k(z_{4}-z_{3}) + k(z_{2}-z_{3}) = m_{3}g$$\n",
    "$$k(z_{5}-z_{4}) + k(z_{3}-z_{4}) = m_{4}g$$\n",
    "$$k(0-z_{5}) + k(z_{4}-z_{5}) = m_{5}g$$\n",
    "\n",
    "We can represent this system using vectors and matrices in the following way:\n",
    "\n",
    "$$\n",
    "k\n",
    "\\begin{pmatrix}\n",
    "-2 & 1 & 0 & 0 & 0\\\\\n",
    "1 & -2 & 1 & 0 & 0\\\\\n",
    "0 & 1 & -2 & 1 & 0\\\\\n",
    "0 & 0 & 1 & -2 & 1\\\\\n",
    "0 & 0 & 0 & 1 & -2\n",
    "\\end{pmatrix}\n",
    "\\begin{pmatrix} \n",
    "z_{1} \\\\ \n",
    "z_{2} \\\\\n",
    "z_{3} \\\\ \n",
    "z_{4} \\\\\n",
    "z_{5}\n",
    "\\end{pmatrix}\n",
    "=\n",
    "\\begin{pmatrix}\n",
    "m_{1} \\\\ \n",
    "m_{2} \\\\\n",
    "m_{3} \\\\ \n",
    "m_{4} \\\\\n",
    "m_{5}\n",
    "\\end{pmatrix}\n",
    "g\n",
    "$$\n",
    "\n",
    "Note that is is again in the abstract form \n",
    "$$Ax=b$$\n",
    "with\n",
    "$$\n",
    "A=\n",
    "k\n",
    "\\begin{pmatrix}\n",
    "-2 & 1 & 0 & 0 & 0\\\\\n",
    "1 & -2 & 1 & 0 & 0\\\\\n",
    "0 & 1 & -2 & 1 & 0\\\\\n",
    "0 & 0 & 1 & -2 & 1\\\\\n",
    "0 & 0 & 0 & 1 & -2\n",
    "\\end{pmatrix}, \\qquad \n",
    "x=\n",
    "\\begin{pmatrix}\n",
    "z_{1} \\\\ \n",
    "z_{2} \\\\\n",
    "z_{3} \\\\ \n",
    "z_{4} \\\\\n",
    "z_{5}\n",
    "\\end{pmatrix}, \\qquad \n",
    "b=\n",
    "\\begin{pmatrix}\n",
    "m_{1} \\\\ \n",
    "m_{2} \\\\\n",
    "m_{3} \\\\ \n",
    "m_{4} \\\\\n",
    "m_{5}\n",
    "\\end{pmatrix}\n",
    "g\n",
    "$$\n",
    "\n",
    "where $A$ and $b$ are known and $x$ unknown. Now we just have to solve for $x$ this equation. In the following, we use Julia to solve the equation.\n",
    "\n",
    "We know $k = 100 N/m$, so we can define $A$ as:"
   ]
  },
  {
   "cell_type": "code",
   "execution_count": null,
   "metadata": {},
   "outputs": [],
   "source": [
    "k = 100 \n",
    "A = k * \n",
    "    [ -2  1  0  0  0\n",
    "       1 -2  1  0  0\n",
    "       0  1 -2  1  0\n",
    "       0  0  1 -2  1\n",
    "       0  0  0  1 -2 ]"
   ]
  },
  {
   "cell_type": "markdown",
   "metadata": {},
   "source": [
    "Also, we know all masses are equal to $2kg$. Then $b$ is:"
   ]
  },
  {
   "cell_type": "code",
   "execution_count": null,
   "metadata": {},
   "outputs": [],
   "source": [
    "g = 9.81 \n",
    "m = 2\n",
    "b = m * g * ones(5)"
   ]
  },
  {
   "cell_type": "markdown",
   "metadata": {},
   "source": [
    "And we may now use Julia's `\\` operator to solve the linear system"
   ]
  },
  {
   "cell_type": "code",
   "execution_count": null,
   "metadata": {},
   "outputs": [],
   "source": [
    "x = A\\b"
   ]
  },
  {
   "cell_type": "markdown",
   "metadata": {},
   "source": [
    "These are the final vertical positions of the masses. Note that due to gravity all the masses have negative vertical positions. Also, note that the results match with the simple intuition that as the mass is farther away from the wall its position must be lower.\n",
    "\n",
    "We can also briefly plot the result, but for more in plotting see Lecture 2!"
   ]
  },
  {
   "cell_type": "code",
   "execution_count": null,
   "metadata": {},
   "outputs": [],
   "source": [
    "plot(0:6, [0; x; 0], lw=4.0, m=:o, ms=10, ylim=(-1.5, 0.5), label=\"masses\")"
   ]
  },
  {
   "cell_type": "markdown",
   "metadata": {},
   "source": [
    "### A more flexible implementation\n",
    "\n",
    "We now want to implement the same problem again but with a little more flexibility built in. Specifically, we want to specify a function that takes $k, m, N$ as input (where $N$ is the number of masses) and returns the solution. The syntax for a more complex function like this is \n",
    "```julia\n",
    "function myfun(args...) \n",
    "   # function body\n",
    "   return result \n",
    "end \n",
    "```\n",
    "For example, the following functions `f1, f2` are identical: \n",
    "```julia\n",
    "f1(x, y) = x + y\n",
    "\n",
    "function f2(x, y)\n",
    "    z = x + y \n",
    "    return z\n",
    "end \n",
    "``` \n",
    "It is also useful to immediately document all functions that we write."
   ]
  },
  {
   "cell_type": "code",
   "execution_count": null,
   "metadata": {},
   "outputs": [],
   "source": [
    "\"\"\"\n",
    "`mass_spring(k, m, N) -> z`\n",
    "\n",
    "solves a mass-spring system with N masses m, spring constant k,\n",
    "where each mass may move only in the z direction, and returns the \n",
    "solution as a vector of z coordinates\n",
    "\"\"\"\n",
    "function mass_spring(k, m, N)\n",
    "    A = zeros(N, N)   # allocate an N × N matrix \n",
    "    for n = 1:N       # fill the diagonal entries \n",
    "        A[n,n] = -2*k\n",
    "    end\n",
    "    for n = 1:N-1     # fill the off-diagonal entries \n",
    "        A[n,n+1] = k\n",
    "        A[n+1,n] = k\n",
    "    end \n",
    "    g = 9.81          \n",
    "    b = m * g * ones(N)   # assemble the right-hand side vector \n",
    "    z = A \\ b         # solve the linear system \n",
    "    return z          # return the solution \n",
    "end "
   ]
  },
  {
   "cell_type": "code",
   "execution_count": null,
   "metadata": {},
   "outputs": [],
   "source": [
    "x2 = mass_spring(k, m, 5)"
   ]
  },
  {
   "cell_type": "code",
   "execution_count": null,
   "metadata": {},
   "outputs": [],
   "source": [
    "# check that the two solutions are the same \n",
    "x2 == x"
   ]
  },
  {
   "cell_type": "code",
   "execution_count": null,
   "metadata": {},
   "outputs": [],
   "source": [
    "# solve a mass-spring system with 30 masses \n",
    "N = 30 \n",
    "z = mass_spring(k, m, N)\n",
    "plot(0:(N+1), [0; z; 0], m=:o, lw=2.0, label=\"long chain\")"
   ]
  },
  {
   "cell_type": "markdown",
   "metadata": {},
   "source": [
    "**REMARK:** Below is an \"expert implementation\" of `mass_spring`, which is much briefer and in fact computationall more efficient than `mass_spring`. It is *not* required for IL027 to master all different possibilities that Julia has to offer! However, we will occasionally provide such pointers for further reading."
   ]
  },
  {
   "cell_type": "code",
   "execution_count": null,
   "metadata": {},
   "outputs": [],
   "source": [
    "# cf ?spdiagm\n",
    "using SparseArrays\n",
    "function mass_spring2(k, m, N; g = 9.81)\n",
    "    A = spdiagm( -1 => ones(N-1), 0 => -2*ones(N), 1 => ones(N-1) )\n",
    "    return g*m/k * (A \\ ones(N))\n",
    "end "
   ]
  },
  {
   "cell_type": "code",
   "execution_count": null,
   "metadata": {},
   "outputs": [],
   "source": [
    "k, m, N = 1+rand(), rand(), rand(10:20)\n",
    "@test mass_spring(k, m, N) ≈ mass_spring2(k, m, N)"
   ]
  },
  {
   "cell_type": "markdown",
   "metadata": {},
   "source": [
    "**ASSIGNMENT:** the instructions for getting you started with the first assignment are in L1-1_IntroToJulia."
   ]
  }
 ],
 "metadata": {
  "kernelspec": {
   "display_name": "Julia 1.3.0",
   "language": "julia",
   "name": "julia-1.3"
  },
  "language_info": {
   "file_extension": ".jl",
   "mimetype": "application/julia",
   "name": "julia",
   "version": "1.3.0"
  }
 },
 "nbformat": 4,
 "nbformat_minor": 1
}
